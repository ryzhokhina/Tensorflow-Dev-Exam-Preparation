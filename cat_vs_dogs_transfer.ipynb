{
  "nbformat": 4,
  "nbformat_minor": 0,
  "metadata": {
    "colab": {
      "provenance": [],
      "machine_shape": "hm",
      "gpuType": "T4",
      "authorship_tag": "ABX9TyMd47lfy9V5GDOtYjcmUrZ7",
      "include_colab_link": true
    },
    "kernelspec": {
      "name": "python3",
      "display_name": "Python 3"
    },
    "language_info": {
      "name": "python"
    },
    "accelerator": "GPU"
  },
  "cells": [
    {
      "cell_type": "markdown",
      "metadata": {
        "id": "view-in-github",
        "colab_type": "text"
      },
      "source": [
        "<a href=\"https://colab.research.google.com/github/ryzhokhina/Tensorflow-Dev-Exam-Preparation/blob/main/cat_vs_dogs_transfer.ipynb\" target=\"_parent\"><img src=\"https://colab.research.google.com/assets/colab-badge.svg\" alt=\"Open In Colab\"/></a>"
      ]
    },
    {
      "cell_type": "code",
      "execution_count": 1,
      "metadata": {
        "id": "pPNuldjXN7Ln"
      },
      "outputs": [],
      "source": [
        "import matplotlib.pyplot as plt\n",
        "import os\n",
        "import tensorflow as tf\n",
        "import numpy as np\n",
        "import pandas as pd"
      ]
    },
    {
      "cell_type": "code",
      "source": [
        "devices = tf.config.list_physical_devices()\n",
        "print(devices)"
      ],
      "metadata": {
        "colab": {
          "base_uri": "https://localhost:8080/"
        },
        "id": "dnkpXL5vOEHr",
        "outputId": "5eac1860-b35e-4ae8-e23e-020eca9637d5"
      },
      "execution_count": 2,
      "outputs": [
        {
          "output_type": "stream",
          "name": "stdout",
          "text": [
            "[PhysicalDevice(name='/physical_device:CPU:0', device_type='CPU'), PhysicalDevice(name='/physical_device:GPU:0', device_type='GPU')]\n"
          ]
        }
      ]
    },
    {
      "cell_type": "code",
      "source": [
        "!curl -O https://download.microsoft.com/download/3/E/1/3E1C3F21-ECDB-4869-8368-6DEBA77B919F/kagglecatsanddogs_5340.zip"
      ],
      "metadata": {
        "colab": {
          "base_uri": "https://localhost:8080/"
        },
        "id": "nBuZC6jCOJm-",
        "outputId": "84128242-bb31-407b-9487-c068448a8d6a"
      },
      "execution_count": 3,
      "outputs": [
        {
          "output_type": "stream",
          "name": "stdout",
          "text": [
            "  % Total    % Received % Xferd  Average Speed   Time    Time     Time  Current\n",
            "                                 Dload  Upload   Total   Spent    Left  Speed\n",
            "100  786M  100  786M    0     0   168M      0  0:00:04  0:00:04 --:--:--  185M\n"
          ]
        }
      ]
    },
    {
      "cell_type": "code",
      "source": [
        "!unzip -q kagglecatsanddogs_5340.zip\n",
        "!ls"
      ],
      "metadata": {
        "colab": {
          "base_uri": "https://localhost:8080/"
        },
        "id": "1XPiz3tvOLdo",
        "outputId": "26c24806-9da7-4b38-d810-9c295e37ee93"
      },
      "execution_count": 4,
      "outputs": [
        {
          "output_type": "stream",
          "name": "stdout",
          "text": [
            " CDLA-Permissive-2.0.pdf      PetImages        sample_data\n",
            " kagglecatsanddogs_5340.zip  'readme[1].txt'\n"
          ]
        }
      ]
    },
    {
      "cell_type": "code",
      "source": [
        "sourse_path = 'PetImages'"
      ],
      "metadata": {
        "id": "3FcVGXaVOMTo"
      },
      "execution_count": 5,
      "outputs": []
    },
    {
      "cell_type": "code",
      "source": [
        "os.listdir(sourse_path)"
      ],
      "metadata": {
        "colab": {
          "base_uri": "https://localhost:8080/"
        },
        "id": "GO9wKeYSOPv4",
        "outputId": "31f1ec4a-fe9b-4f71-e9f9-0add368e2606"
      },
      "execution_count": 6,
      "outputs": [
        {
          "output_type": "execute_result",
          "data": {
            "text/plain": [
              "['Dog', 'Cat']"
            ]
          },
          "metadata": {},
          "execution_count": 6
        }
      ]
    },
    {
      "cell_type": "code",
      "source": [
        "import os\n",
        "\n",
        "num_skipped = 0\n",
        "skiped_files = []\n",
        "for folder_name in (\"Cat\", \"Dog\"):\n",
        "    folder_path = os.path.join(sourse_path, folder_name)\n",
        "    for fname in os.listdir(folder_path):\n",
        "        fpath = os.path.join(folder_path, fname)\n",
        "        try:\n",
        "            fobj = open(fpath, \"rb\")\n",
        "            is_jfif = tf.compat.as_bytes(\"JFIF\") in fobj.peek(10)\n",
        "        finally:\n",
        "            fobj.close()\n",
        "\n",
        "        if not is_jfif:\n",
        "            num_skipped += 1\n",
        "            skiped_files.append(fpath)\n",
        "            # Delete corrupted image\n",
        "            os.remove(fpath)\n",
        "\n",
        "print(\"Deleted %d images\" % num_skipped)"
      ],
      "metadata": {
        "colab": {
          "base_uri": "https://localhost:8080/"
        },
        "id": "QmXoR1dtOX4Y",
        "outputId": "f4d211dd-3636-4f87-8998-63e7992c261f"
      },
      "execution_count": 7,
      "outputs": [
        {
          "output_type": "stream",
          "name": "stdout",
          "text": [
            "Deleted 1590 images\n"
          ]
        }
      ]
    },
    {
      "cell_type": "code",
      "source": [
        "cat_dir = os.path.join(sourse_path, 'Cat')\n",
        "dog_dir = os.path.join(sourse_path, 'Dog')\n",
        "print(f'Count of image in Cat folder {len(os.listdir(cat_dir))}')\n",
        "print(f'Count of image in Dog folder {len(os.listdir(dog_dir))}')"
      ],
      "metadata": {
        "colab": {
          "base_uri": "https://localhost:8080/"
        },
        "id": "iwRjtks8ObC5",
        "outputId": "60d73f3c-be5c-4502-9b0c-c01888f156c8"
      },
      "execution_count": 8,
      "outputs": [
        {
          "output_type": "stream",
          "name": "stdout",
          "text": [
            "Count of image in Cat folder 11742\n",
            "Count of image in Dog folder 11670\n"
          ]
        }
      ]
    },
    {
      "cell_type": "code",
      "source": [
        "IMG_SIZE = 224\n",
        "\n",
        "train_raw_ds, val_raw_ds = tf.keras.utils.image_dataset_from_directory(\n",
        "    sourse_path,\n",
        "    batch_size = 128,\n",
        "    labels='inferred',\n",
        "    shuffle=True,\n",
        "    seed=1234,\n",
        "    validation_split=0.2,\n",
        "    subset='both',\n",
        "    image_size = (IMG_SIZE, IMG_SIZE)\n",
        ")"
      ],
      "metadata": {
        "colab": {
          "base_uri": "https://localhost:8080/"
        },
        "id": "AAaAOc4oOcM-",
        "outputId": "4967ca1d-a273-4e62-db2f-54da3dac72a0"
      },
      "execution_count": 9,
      "outputs": [
        {
          "output_type": "stream",
          "name": "stdout",
          "text": [
            "Found 23410 files belonging to 2 classes.\n",
            "Using 18728 files for training.\n",
            "Using 4682 files for validation.\n"
          ]
        }
      ]
    },
    {
      "cell_type": "code",
      "source": [
        "# data augmentation\n",
        "\n",
        "augnment = tf.keras.Sequential([\n",
        "    tf.keras.layers.RandomFlip('horizontal'),\n",
        "    tf.keras.layers.RandomRotation(0.2),\n",
        "    tf.keras.layers.RandomZoom(0.2)\n",
        "])"
      ],
      "metadata": {
        "id": "bxkSdepy7kp6"
      },
      "execution_count": 10,
      "outputs": []
    },
    {
      "cell_type": "code",
      "source": [
        "train_ds = train_raw_ds.map(\n",
        "    lambda x, y: (augnment(x), y)\n",
        ").shuffle(1000).prefetch(buffer_size=tf.data.AUTOTUNE)\n",
        "\n",
        "val_ds = val_raw_ds.prefetch(buffer_size=tf.data.AUTOTUNE)"
      ],
      "metadata": {
        "id": "r-JkF1Go7xlm"
      },
      "execution_count": 11,
      "outputs": []
    },
    {
      "cell_type": "code",
      "source": [
        "# create model using EfficientNetB0\n",
        "\n",
        "def create_model() -> tf.keras.Model:\n",
        "    base_model = tf.keras.applications.EfficientNetB0(\n",
        "        input_shape=(IMG_SIZE, IMG_SIZE, 3),\n",
        "        weights='imagenet',\n",
        "        include_top=False)\n",
        "    base_model.trainable = False\n",
        "\n",
        "    model = tf.keras.Sequential([\n",
        "        base_model,\n",
        "        tf.keras.layers.GlobalAveragePooling2D(),\n",
        "        tf.keras.layers.Dense(1, activation='sigmoid')\n",
        "    ])\n",
        "    return model\n"
      ],
      "metadata": {
        "id": "hEUpkaVy8A6z"
      },
      "execution_count": 12,
      "outputs": []
    },
    {
      "cell_type": "code",
      "source": [
        "effientnet_model = create_model()\n"
      ],
      "metadata": {
        "id": "ChZlN6AC952P",
        "colab": {
          "base_uri": "https://localhost:8080/"
        },
        "outputId": "c7c5c37d-ee4b-427e-fd89-a4a7891e8b4e"
      },
      "execution_count": 13,
      "outputs": [
        {
          "output_type": "stream",
          "name": "stdout",
          "text": [
            "Downloading data from https://storage.googleapis.com/keras-applications/efficientnetb0_notop.h5\n",
            "16705208/16705208 [==============================] - 2s 0us/step\n"
          ]
        }
      ]
    },
    {
      "cell_type": "code",
      "source": [
        "effientnet_model.compile(\n",
        "    optimizer='adam',\n",
        "    loss='binary_crossentropy',\n",
        "    metrics=['accuracy']\n",
        ")\n"
      ],
      "metadata": {
        "id": "n2vXcN5b9-7j"
      },
      "execution_count": 14,
      "outputs": []
    },
    {
      "cell_type": "code",
      "source": [
        "ES = tf.keras.callbacks.EarlyStopping(\n",
        "    monitor='val_loss',\n",
        "    patience=3,\n",
        "    restore_best_weights=True\n",
        ")\n",
        "\n",
        "history = effientnet_model.fit(\n",
        "    train_ds,\n",
        "    epochs=4,\n",
        "    validation_data=val_ds,\n",
        "    #callbacks=[ES]\n",
        ")\n"
      ],
      "metadata": {
        "colab": {
          "base_uri": "https://localhost:8080/"
        },
        "id": "osZ48K1O-FnD",
        "outputId": "b924d57a-4f93-4df3-d9f7-eed8eb384543"
      },
      "execution_count": 15,
      "outputs": [
        {
          "output_type": "stream",
          "name": "stdout",
          "text": [
            "Epoch 1/4\n",
            "147/147 [==============================] - 260s 320ms/step - loss: 0.2160 - accuracy: 0.9249 - val_loss: 0.0593 - val_accuracy: 0.9878\n",
            "Epoch 2/4\n",
            "147/147 [==============================] - 244s 297ms/step - loss: 0.0920 - accuracy: 0.9696 - val_loss: 0.0409 - val_accuracy: 0.9893\n",
            "Epoch 3/4\n",
            "147/147 [==============================] - 244s 298ms/step - loss: 0.0745 - accuracy: 0.9737 - val_loss: 0.0340 - val_accuracy: 0.9908\n",
            "Epoch 4/4\n",
            "147/147 [==============================] - 245s 298ms/step - loss: 0.0702 - accuracy: 0.9746 - val_loss: 0.0310 - val_accuracy: 0.9910\n"
          ]
        }
      ]
    },
    {
      "cell_type": "code",
      "source": [
        "effientnet_model.save('effientnet_model.h5')\n"
      ],
      "metadata": {
        "id": "ghXdiX4s-QGL",
        "colab": {
          "base_uri": "https://localhost:8080/"
        },
        "outputId": "7ccb4f22-6d9b-4382-f002-69a58cfa6d08"
      },
      "execution_count": 16,
      "outputs": [
        {
          "output_type": "stream",
          "name": "stderr",
          "text": [
            "/usr/local/lib/python3.10/dist-packages/keras/src/engine/training.py:3000: UserWarning: You are saving your model as an HDF5 file via `model.save()`. This file format is considered legacy. We recommend using instead the native Keras format, e.g. `model.save('my_model.keras')`.\n",
            "  saving_api.save_model(\n"
          ]
        }
      ]
    },
    {
      "cell_type": "code",
      "source": [
        "effientnet_model.evaluate(val_ds)\n",
        "\n",
        "\n"
      ],
      "metadata": {
        "colab": {
          "base_uri": "https://localhost:8080/"
        },
        "id": "f-wsy05vdOV3",
        "outputId": "55f3fa0a-0078-4156-82c0-bb10188961d4"
      },
      "execution_count": 17,
      "outputs": [
        {
          "output_type": "stream",
          "name": "stdout",
          "text": [
            "37/37 [==============================] - 9s 230ms/step - loss: 0.0310 - accuracy: 0.9910\n"
          ]
        },
        {
          "output_type": "execute_result",
          "data": {
            "text/plain": [
              "[0.030968833714723587, 0.9910295009613037]"
            ]
          },
          "metadata": {},
          "execution_count": 17
        }
      ]
    },
    {
      "cell_type": "code",
      "source": [],
      "metadata": {
        "id": "-fK_W3NkdSzq"
      },
      "execution_count": null,
      "outputs": []
    }
  ]
}