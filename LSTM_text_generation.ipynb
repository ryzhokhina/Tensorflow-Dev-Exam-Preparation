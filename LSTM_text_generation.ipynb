{
  "nbformat": 4,
  "nbformat_minor": 0,
  "metadata": {
    "colab": {
      "provenance": [],
      "gpuType": "T4",
      "mount_file_id": "1ae3Vu6DOGCn-66uKZg3hSXBOIFO5d6PY",
      "authorship_tag": "ABX9TyPpbtgXqLjx03dnygQ9uwZG",
      "include_colab_link": true
    },
    "kernelspec": {
      "name": "python3",
      "display_name": "Python 3"
    },
    "language_info": {
      "name": "python"
    },
    "accelerator": "GPU"
  },
  "cells": [
    {
      "cell_type": "markdown",
      "metadata": {
        "id": "view-in-github",
        "colab_type": "text"
      },
      "source": [
        "<a href=\"https://colab.research.google.com/github/ryzhokhina/Tensorflow-Dev-Exam-Preparation/blob/main/LSTM_text_generation.ipynb\" target=\"_parent\"><img src=\"https://colab.research.google.com/assets/colab-badge.svg\" alt=\"Open In Colab\"/></a>"
      ]
    },
    {
      "cell_type": "markdown",
      "source": [
        "# Train LSTMs on existing text to generate text\n",
        "For text generation we will perform the following tasks:\n",
        "* Load the necessary libraries required for LSTM and NLP purposes\n",
        "* Load the text data\n",
        "* Performing the required text cleaning\n",
        "* Create a dictionary of words with keys as integer values\n",
        "* Prepare the dataset as input and output sets using a dictionary\n",
        "* Define our LSTM model for text generation"
      ],
      "metadata": {
        "id": "gqo_y9ntwhMl"
      }
    },
    {
      "cell_type": "code",
      "source": [
        "# Load the necessary libraries required for LSTM and NLP purposes\n",
        "import numpy as np\n",
        "import pandas as pd\n",
        "import matplotlib.pyplot as plt\n",
        "import tensorflow as tf\n",
        "from tensorflow.keras.preprocessing.text import Tokenizer"
      ],
      "metadata": {
        "id": "bzI0stBZwrDM"
      },
      "execution_count": 1,
      "outputs": []
    },
    {
      "cell_type": "code",
      "source": [
        "# Load the text data\n",
        "import requests\n",
        "\n",
        "wonderland_txt = 'https://www.gutenberg.org/cache/epub/11/pg11.txt'\n",
        "\n",
        "r = requests.get(wonderland_txt)"
      ],
      "metadata": {
        "id": "HvknCoVKxF_D"
      },
      "execution_count": 2,
      "outputs": []
    },
    {
      "cell_type": "code",
      "source": [
        "raw_text = r.text.lower()"
      ],
      "metadata": {
        "id": "e4HykDCXDthN"
      },
      "execution_count": 3,
      "outputs": []
    },
    {
      "cell_type": "code",
      "source": [
        "len(raw_text)"
      ],
      "metadata": {
        "colab": {
          "base_uri": "https://localhost:8080/"
        },
        "id": "EzlfIt2yzXa3",
        "outputId": "6d6e8bdb-b04c-4deb-a1ce-3438708661fe"
      },
      "execution_count": 6,
      "outputs": [
        {
          "output_type": "execute_result",
          "data": {
            "text/plain": [
              "167899"
            ]
          },
          "metadata": {},
          "execution_count": 6
        }
      ]
    },
    {
      "cell_type": "code",
      "source": [
        "type(raw_text)"
      ],
      "metadata": {
        "colab": {
          "base_uri": "https://localhost:8080/"
        },
        "id": "VW_-0gI1zYcu",
        "outputId": "123c6f5c-c0b2-453a-d2ac-55f75aca7fbe"
      },
      "execution_count": 4,
      "outputs": [
        {
          "output_type": "execute_result",
          "data": {
            "text/plain": [
              "str"
            ]
          },
          "metadata": {},
          "execution_count": 4
        }
      ]
    },
    {
      "cell_type": "code",
      "source": [
        "len_text = len(raw_text)"
      ],
      "metadata": {
        "id": "nH3pKtrhzgWu"
      },
      "execution_count": 5,
      "outputs": []
    },
    {
      "cell_type": "code",
      "source": [
        "#create a map of chars\n",
        "chars = sorted(list(set(raw_text)))\n",
        "chars_to_int = dict((c, i) for i, c in enumerate(chars))\n"
      ],
      "metadata": {
        "id": "Wk6TCxqv9gCk"
      },
      "execution_count": 6,
      "outputs": []
    },
    {
      "cell_type": "code",
      "source": [
        "index_to_char = dict((i, c) for i, c in enumerate(chars))\n"
      ],
      "metadata": {
        "id": "gcE9q9DM2FzE"
      },
      "execution_count": 7,
      "outputs": []
    },
    {
      "cell_type": "code",
      "source": [
        "len_chars = len(chars)\n",
        "len_chars"
      ],
      "metadata": {
        "colab": {
          "base_uri": "https://localhost:8080/"
        },
        "id": "4w0jIJct-Qx_",
        "outputId": "228b6a00-ffa3-4635-c70f-f6cea7a8af33"
      },
      "execution_count": 8,
      "outputs": [
        {
          "output_type": "execute_result",
          "data": {
            "text/plain": [
              "66"
            ]
          },
          "metadata": {},
          "execution_count": 8
        }
      ]
    },
    {
      "cell_type": "code",
      "source": [
        "len_text, len_chars"
      ],
      "metadata": {
        "colab": {
          "base_uri": "https://localhost:8080/"
        },
        "id": "eRCDcj7D-VWL",
        "outputId": "f01ab0f0-13b8-448b-8a80-caf719060d4a"
      },
      "execution_count": 9,
      "outputs": [
        {
          "output_type": "execute_result",
          "data": {
            "text/plain": [
              "(167899, 66)"
            ]
          },
          "metadata": {},
          "execution_count": 9
        }
      ]
    },
    {
      "cell_type": "code",
      "source": [
        "sequecne_len = 100\n",
        "x_data = []\n",
        "y_data = []\n",
        "\n",
        "for i in range(0, len(raw_text) - sequecne_len, 1):\n",
        "    seq_in = raw_text[i:i + sequecne_len]\n",
        "    seq_out = raw_text[i + sequecne_len]\n",
        "    x_data.append([chars_to_int[char] for char in seq_in])\n",
        "    y_data.append(chars_to_int[seq_out])\n",
        "\n"
      ],
      "metadata": {
        "id": "Ou2cEzH0-XBa"
      },
      "execution_count": 10,
      "outputs": []
    },
    {
      "cell_type": "code",
      "source": [],
      "metadata": {
        "id": "0a9JVSl04rNE"
      },
      "execution_count": null,
      "outputs": []
    },
    {
      "cell_type": "code",
      "source": [
        "import numpy as np\n",
        "\n",
        "x_data = np.array(x_data)\n",
        "y_data = np.array(y_data)\n",
        "\n",
        "x_data.shape, y_data.shape\n"
      ],
      "metadata": {
        "colab": {
          "base_uri": "https://localhost:8080/"
        },
        "id": "eqTVM6R-FGO3",
        "outputId": "843a54ea-7fc6-4556-d242-08664a321133"
      },
      "execution_count": 13,
      "outputs": [
        {
          "output_type": "execute_result",
          "data": {
            "text/plain": [
              "((167799, 100), (167799,))"
            ]
          },
          "metadata": {},
          "execution_count": 13
        }
      ]
    },
    {
      "cell_type": "code",
      "source": [
        "# add dimaentian to x_data\n",
        "x_data = x_data.reshape(167799, 100, 1)\n",
        "x_data.shape"
      ],
      "metadata": {
        "colab": {
          "base_uri": "https://localhost:8080/"
        },
        "id": "n5pdBi2EFVtC",
        "outputId": "e6ce289e-509e-4c2e-ee30-2f9bbcef2667"
      },
      "execution_count": 15,
      "outputs": [
        {
          "output_type": "execute_result",
          "data": {
            "text/plain": [
              "(167799, 100, 1)"
            ]
          },
          "metadata": {},
          "execution_count": 15
        }
      ]
    },
    {
      "cell_type": "code",
      "source": [
        "x_data = x_data/float(len_chars)\n",
        "#x_data[0]"
      ],
      "metadata": {
        "id": "jcCdaKE7Uq_I"
      },
      "execution_count": 16,
      "outputs": []
    },
    {
      "cell_type": "code",
      "source": [
        "y_one_hot = tf.one_hot(y_data, len_chars)\n",
        "y_one_hot.shape\n"
      ],
      "metadata": {
        "colab": {
          "base_uri": "https://localhost:8080/"
        },
        "id": "cEvBxb4IFmGJ",
        "outputId": "38403c84-2ca0-4f42-c4c7-1c952e424d2b"
      },
      "execution_count": 17,
      "outputs": [
        {
          "output_type": "execute_result",
          "data": {
            "text/plain": [
              "TensorShape([167799, 66])"
            ]
          },
          "metadata": {},
          "execution_count": 17
        }
      ]
    },
    {
      "cell_type": "code",
      "source": [
        "y_one_hot[0]"
      ],
      "metadata": {
        "colab": {
          "base_uri": "https://localhost:8080/"
        },
        "id": "fV8zXunoSbEc",
        "outputId": "93e3fb28-c1b6-4121-be5a-b2e7de794ac7"
      },
      "execution_count": 18,
      "outputs": [
        {
          "output_type": "execute_result",
          "data": {
            "text/plain": [
              "<tf.Tensor: shape=(66,), dtype=float32, numpy=\n",
              "array([0., 0., 0., 0., 0., 0., 0., 0., 0., 0., 0., 0., 0., 0., 0., 0., 0.,\n",
              "       0., 0., 0., 0., 0., 0., 0., 0., 0., 0., 0., 0., 0., 0., 0., 0., 0.,\n",
              "       0., 0., 0., 0., 0., 0., 0., 0., 0., 0., 0., 0., 0., 0., 0., 0., 0.,\n",
              "       1., 0., 0., 0., 0., 0., 0., 0., 0., 0., 0., 0., 0., 0., 0.],\n",
              "      dtype=float32)>"
            ]
          },
          "metadata": {},
          "execution_count": 18
        }
      ]
    },
    {
      "cell_type": "code",
      "source": [
        "y_one_hot.shape\n"
      ],
      "metadata": {
        "colab": {
          "base_uri": "https://localhost:8080/"
        },
        "id": "S5LIrvpoW4MS",
        "outputId": "923021df-eb97-4766-8546-885e91716055"
      },
      "execution_count": 19,
      "outputs": [
        {
          "output_type": "execute_result",
          "data": {
            "text/plain": [
              "TensorShape([167799, 66])"
            ]
          },
          "metadata": {},
          "execution_count": 19
        }
      ]
    },
    {
      "cell_type": "code",
      "source": [
        "tf.data.AUTOTUNE"
      ],
      "metadata": {
        "colab": {
          "base_uri": "https://localhost:8080/"
        },
        "id": "rZSYpv1aTRsf",
        "outputId": "c86fac31-44f5-4ca6-e837-629641fa2dc8"
      },
      "execution_count": 20,
      "outputs": [
        {
          "output_type": "execute_result",
          "data": {
            "text/plain": [
              "-1"
            ]
          },
          "metadata": {},
          "execution_count": 20
        }
      ]
    },
    {
      "cell_type": "code",
      "source": [
        "# create dataset\n",
        "\n",
        "train_ds = tf.data.Dataset.from_tensor_slices((x_data, y_one_hot))\n",
        "train_ds = train_ds.batch(32).prefetch(tf.data.AUTOTUNE)\n",
        "\n",
        "train_ds"
      ],
      "metadata": {
        "colab": {
          "base_uri": "https://localhost:8080/"
        },
        "id": "uNYmc5yWSd9X",
        "outputId": "688eef45-6da3-4a6d-94d3-3ac322e23104"
      },
      "execution_count": 21,
      "outputs": [
        {
          "output_type": "execute_result",
          "data": {
            "text/plain": [
              "<_PrefetchDataset element_spec=(TensorSpec(shape=(None, 100, 1), dtype=tf.float64, name=None), TensorSpec(shape=(None, 66), dtype=tf.float32, name=None))>"
            ]
          },
          "metadata": {},
          "execution_count": 21
        }
      ]
    },
    {
      "cell_type": "code",
      "source": [
        "# create lstm model\n",
        "\n",
        "def create_model(vocab_size, sens_len = 100, embedding_dim= 64, rnn_units=128):\n",
        "    model = tf.keras.Sequential([\n",
        "        tf.keras.Input(shape=(sens_len,1), dtype=tf.float64),\n",
        "        tf.keras.layers.LSTM(rnn_units,return_sequences=False),\n",
        "        tf.keras.layers.Dropout(0.2),\n",
        "        tf.keras.layers.Dense(vocab_size, activation='softmax')\n",
        "    ])\n",
        "\n",
        "    model.compile(optimizer='adam', loss='categorical_crossentropy', metrics=['accuracy'])\n",
        "    return model\n"
      ],
      "metadata": {
        "id": "xRyPHbxRTahN"
      },
      "execution_count": 22,
      "outputs": []
    },
    {
      "cell_type": "code",
      "source": [
        "model1 = create_model(\n",
        "    vocab_size=len_chars,\n",
        "    embedding_dim=64,\n",
        "    rnn_units=128\n",
        ")\n",
        "\n",
        "model1.summary()\n"
      ],
      "metadata": {
        "colab": {
          "base_uri": "https://localhost:8080/"
        },
        "id": "ZOqlFeOYUfuU",
        "outputId": "bf997ae3-77f7-4923-f6c1-6eb8a8e1df1c"
      },
      "execution_count": 23,
      "outputs": [
        {
          "output_type": "stream",
          "name": "stdout",
          "text": [
            "Model: \"sequential\"\n",
            "_________________________________________________________________\n",
            " Layer (type)                Output Shape              Param #   \n",
            "=================================================================\n",
            " lstm (LSTM)                 (None, 128)               66560     \n",
            "                                                                 \n",
            " dropout (Dropout)           (None, 128)               0         \n",
            "                                                                 \n",
            " dense (Dense)               (None, 66)                8514      \n",
            "                                                                 \n",
            "=================================================================\n",
            "Total params: 75,074\n",
            "Trainable params: 75,074\n",
            "Non-trainable params: 0\n",
            "_________________________________________________________________\n"
          ]
        }
      ]
    },
    {
      "cell_type": "code",
      "source": [
        "model1.fit(train_ds, epochs=10)\n"
      ],
      "metadata": {
        "colab": {
          "base_uri": "https://localhost:8080/"
        },
        "id": "oX0xYVCSVcdl",
        "outputId": "5623c06e-b9d2-464f-9d31-09f3c0601ae3"
      },
      "execution_count": 25,
      "outputs": [
        {
          "output_type": "stream",
          "name": "stdout",
          "text": [
            "Epoch 1/10\n",
            "5244/5244 [==============================] - 38s 7ms/step - loss: 2.1966 - accuracy: 0.3710\n",
            "Epoch 2/10\n",
            "5244/5244 [==============================] - 38s 7ms/step - loss: 2.1820 - accuracy: 0.3747\n",
            "Epoch 3/10\n",
            "5244/5244 [==============================] - 38s 7ms/step - loss: 2.1785 - accuracy: 0.3745\n",
            "Epoch 4/10\n",
            "5244/5244 [==============================] - 38s 7ms/step - loss: 2.1673 - accuracy: 0.3780\n",
            "Epoch 5/10\n",
            "5244/5244 [==============================] - 39s 7ms/step - loss: 2.1624 - accuracy: 0.3796\n",
            "Epoch 6/10\n",
            "5244/5244 [==============================] - 38s 7ms/step - loss: 2.1544 - accuracy: 0.3803\n",
            "Epoch 7/10\n",
            "5244/5244 [==============================] - 38s 7ms/step - loss: 2.1472 - accuracy: 0.3823\n",
            "Epoch 8/10\n",
            "5244/5244 [==============================] - 38s 7ms/step - loss: 2.1397 - accuracy: 0.3844\n",
            "Epoch 9/10\n",
            "5244/5244 [==============================] - 37s 7ms/step - loss: 2.1327 - accuracy: 0.3864\n",
            "Epoch 10/10\n",
            "5244/5244 [==============================] - 38s 7ms/step - loss: 2.1321 - accuracy: 0.3867\n"
          ]
        },
        {
          "output_type": "execute_result",
          "data": {
            "text/plain": [
              "<keras.callbacks.History at 0x788f985fc0a0>"
            ]
          },
          "metadata": {},
          "execution_count": 25
        }
      ]
    },
    {
      "cell_type": "code",
      "source": [
        "model1.save('model_genarator.h5')\n"
      ],
      "metadata": {
        "id": "Dfoy7Z6v4tBk"
      },
      "execution_count": 54,
      "outputs": []
    },
    {
      "cell_type": "code",
      "source": [
        "saved_model = tf.keras.models.load_model('model_genarator.h5')\n",
        "\n"
      ],
      "metadata": {
        "id": "aiNhYeJ0wKAu"
      },
      "execution_count": 11,
      "outputs": []
    },
    {
      "cell_type": "code",
      "source": [
        "# generate characters\n",
        "\n",
        "generated_text = []\n",
        "\n",
        "pattern = raw_text[400:500]\n",
        "print(f\"Prediction using the phrase: {pattern}\")\n",
        "pattern = np.array([chars_to_int[char] for char in pattern])\n",
        "print('PREDICTION: ')\n",
        "for i in range(100):\n",
        "  x = pattern.reshape(1, 100, 1)\n",
        "  x = x / float(len_chars)\n",
        "  prediction = saved_model.predict(x, verbose=0)\n",
        "  index = np.argmax(prediction)\n",
        "  result = index_to_char[index]\n",
        "  print(result, end=\"\")\n",
        "  generated_text.append(result)\n",
        "  pattern = np.append(pattern, index)\n",
        "  pattern = pattern[1:len(pattern)]\n"
      ],
      "metadata": {
        "colab": {
          "base_uri": "https://localhost:8080/"
        },
        "id": "trw8xeM7v5Qq",
        "outputId": "ddbd9131-7795-475f-8005-a01060cfdb53"
      },
      "execution_count": 28,
      "outputs": [
        {
          "output_type": "stream",
          "name": "stdout",
          "text": [
            "Prediction using the phrase:  not located in the united states, \r\n",
            "you will have to check the laws of the country where you are lo\n",
            "PREDICTION: \n",
            " any dand\n",
            "toedes oo toe of the pooject gutenberg™ lecene and toonedt oo\n",
            "woine toated to the poojec"
          ]
        }
      ]
    },
    {
      "cell_type": "markdown",
      "source": [
        "## Word-level text genetration using TextVectorization and Embedding layer"
      ],
      "metadata": {
        "id": "s6YmN0VNz31V"
      }
    },
    {
      "cell_type": "code",
      "source": [
        "# split text to sentences\n",
        "sentenses = raw_text.split('.')"
      ],
      "metadata": {
        "id": "m9WJ6DRIRTYo"
      },
      "execution_count": 4,
      "outputs": []
    },
    {
      "cell_type": "code",
      "source": [
        "len(sentenses)"
      ],
      "metadata": {
        "colab": {
          "base_uri": "https://localhost:8080/"
        },
        "id": "8uhd_qfs4TVi",
        "outputId": "084c9dfb-ece3-4e6e-ab7f-a6ca0f412fcd"
      },
      "execution_count": 5,
      "outputs": [
        {
          "output_type": "execute_result",
          "data": {
            "text/plain": [
              "1223"
            ]
          },
          "metadata": {},
          "execution_count": 5
        }
      ]
    },
    {
      "cell_type": "code",
      "source": [
        "sentenses[0]"
      ],
      "metadata": {
        "colab": {
          "base_uri": "https://localhost:8080/",
          "height": 53
        },
        "id": "Mu3AoX_V2L1S",
        "outputId": "9e3ce807-37ac-405f-a3dd-b11f86f38965"
      },
      "execution_count": 6,
      "outputs": [
        {
          "output_type": "execute_result",
          "data": {
            "text/plain": [
              "\"\\ufeff\\r\\n    the project gutenberg ebook of alice's adventures in wonderland\\r\\n    \\r\\nthis ebook is for the use of anyone anywhere in the united states and \\r\\nmost other parts of the world at no cost and with almost no restrictions \\r\\nwhatsoever\""
            ],
            "application/vnd.google.colaboratory.intrinsic+json": {
              "type": "string"
            }
          },
          "metadata": {},
          "execution_count": 6
        }
      ]
    },
    {
      "cell_type": "code",
      "source": [
        "sentenses_ds = tf.data.Dataset.from_tensor_slices(sentenses)"
      ],
      "metadata": {
        "id": "whfyJaUd63rs"
      },
      "execution_count": 7,
      "outputs": []
    },
    {
      "cell_type": "code",
      "source": [
        "sentenses_ds.take(1).get_single_element()\n"
      ],
      "metadata": {
        "colab": {
          "base_uri": "https://localhost:8080/"
        },
        "id": "xKyWz3jiQsPT",
        "outputId": "5e697103-e062-4959-a1cf-ded79868c714"
      },
      "execution_count": 8,
      "outputs": [
        {
          "output_type": "execute_result",
          "data": {
            "text/plain": [
              "<tf.Tensor: shape=(), dtype=string, numpy=b\"\\xef\\xbb\\xbf\\r\\n    the project gutenberg ebook of alice's adventures in wonderland\\r\\n    \\r\\nthis ebook is for the use of anyone anywhere in the united states and \\r\\nmost other parts of the world at no cost and with almost no restrictions \\r\\nwhatsoever\">"
            ]
          },
          "metadata": {},
          "execution_count": 8
        }
      ]
    },
    {
      "cell_type": "code",
      "source": [
        "# split sentences to words\n",
        "words_ds = sentenses_ds.map(lambda x: tf.strings.split(x, sep=' '))\n",
        "for word in words_ds.take(5):\n",
        "    print(word.numpy())"
      ],
      "metadata": {
        "colab": {
          "base_uri": "https://localhost:8080/"
        },
        "id": "9pku4426UB_4",
        "outputId": "b56e9d63-675d-4b97-cb38-ecd3f8003d94"
      },
      "execution_count": 9,
      "outputs": [
        {
          "output_type": "stream",
          "name": "stdout",
          "text": [
            "[b'\\xef\\xbb\\xbf\\r\\n' b'' b'' b'' b'the' b'project' b'gutenberg' b'ebook'\n",
            " b'of' b\"alice's\" b'adventures' b'in' b'wonderland\\r\\n' b'' b'' b''\n",
            " b'\\r\\nthis' b'ebook' b'is' b'for' b'the' b'use' b'of' b'anyone'\n",
            " b'anywhere' b'in' b'the' b'united' b'states' b'and' b'\\r\\nmost' b'other'\n",
            " b'parts' b'of' b'the' b'world' b'at' b'no' b'cost' b'and' b'with'\n",
            " b'almost' b'no' b'restrictions' b'\\r\\nwhatsoever']\n",
            "[b'' b'you' b'may' b'copy' b'it,' b'give' b'it' b'away' b'or' b're-use'\n",
            " b'it' b'under' b'the' b'terms' b'\\r\\nof' b'the' b'project' b'gutenberg'\n",
            " b'license' b'included' b'with' b'this' b'ebook' b'or' b'online' b'\\r\\nat'\n",
            " b'www']\n",
            "[b'gutenberg']\n",
            "[b'org']\n",
            "[b'' b'if' b'you' b'are' b'not' b'located' b'in' b'the' b'united'\n",
            " b'states,' b'\\r\\nyou' b'will' b'have' b'to' b'check' b'the' b'laws' b'of'\n",
            " b'the' b'country' b'where' b'you' b'are' b'located' b'\\r\\nbefore'\n",
            " b'using' b'this' b'ebook']\n"
          ]
        }
      ]
    },
    {
      "cell_type": "code",
      "source": [
        "words_ds = words_ds.flat_map(lambda x: tf.data.Dataset.from_tensor_slices(x))\n",
        "for word in words_ds.take(5):\n",
        "    print(word.numpy())\n"
      ],
      "metadata": {
        "colab": {
          "base_uri": "https://localhost:8080/"
        },
        "id": "AaG8E2nZUl1W",
        "outputId": "01bfade6-30f7-4007-97e1-4ab11fa57ff6"
      },
      "execution_count": 10,
      "outputs": [
        {
          "output_type": "stream",
          "name": "stdout",
          "text": [
            "b'\\xef\\xbb\\xbf\\r\\n'\n",
            "b''\n",
            "b''\n",
            "b''\n",
            "b'the'\n"
          ]
        }
      ]
    },
    {
      "cell_type": "code",
      "source": [
        "print(\"Vocabulary size (# of distinct words): \",len(set(words_ds.as_numpy_iterator())))"
      ],
      "metadata": {
        "colab": {
          "base_uri": "https://localhost:8080/"
        },
        "id": "tfLLOgLjU34I",
        "outputId": "b8f04b60-48b2-4fad-8913-c180d062fab2"
      },
      "execution_count": 11,
      "outputs": [
        {
          "output_type": "stream",
          "name": "stdout",
          "text": [
            "Vocabulary size (# of distinct words):  6666\n"
          ]
        }
      ]
    },
    {
      "cell_type": "code",
      "source": [
        "### Another way - spit to words at first\n",
        "words_ds_2 = np.array(raw_text.split())\n",
        "words_ds_2.shape"
      ],
      "metadata": {
        "colab": {
          "base_uri": "https://localhost:8080/"
        },
        "id": "zY72qzSvVIMY",
        "outputId": "050fb3e4-f78b-4caf-f37d-a9adadf6eefa"
      },
      "execution_count": 21,
      "outputs": [
        {
          "output_type": "execute_result",
          "data": {
            "text/plain": [
              "(29564,)"
            ]
          },
          "metadata": {},
          "execution_count": 21
        }
      ]
    },
    {
      "cell_type": "code",
      "source": [
        "vocab_size = len(set(words_ds_2))\n",
        "vocab_size"
      ],
      "metadata": {
        "colab": {
          "base_uri": "https://localhost:8080/"
        },
        "id": "e-cqP6jRV3qI",
        "outputId": "c10c2c24-0ac3-420c-9f31-b57a2daa2c77"
      },
      "execution_count": 23,
      "outputs": [
        {
          "output_type": "execute_result",
          "data": {
            "text/plain": [
              "5641"
            ]
          },
          "metadata": {},
          "execution_count": 23
        }
      ]
    },
    {
      "cell_type": "code",
      "source": [
        "words_ds_2[:5]"
      ],
      "metadata": {
        "colab": {
          "base_uri": "https://localhost:8080/"
        },
        "id": "S7J2ptz4V7lr",
        "outputId": "c1f9d7d6-82ff-45ea-b35d-b30e3e8efa7e"
      },
      "execution_count": 24,
      "outputs": [
        {
          "output_type": "execute_result",
          "data": {
            "text/plain": [
              "array(['\\ufeff', 'the', 'project', 'gutenberg', 'ebook'], dtype='<U46')"
            ]
          },
          "metadata": {},
          "execution_count": 24
        }
      ]
    },
    {
      "cell_type": "code",
      "source": [
        "# split dataset to input sentences and output\n",
        "# input sentences 4 words\n",
        "# outout - 1 next word\n",
        "\n",
        "N_GRAM = 4\n",
        "\n",
        "x_word_data = []\n",
        "y_word_data = []\n",
        "\n",
        "for i in range(0, len(words_ds_2) - N_GRAM, 1):\n",
        "    seq_in = words_ds_2[i:i + N_GRAM]\n",
        "    seq_out = words_ds_2[i + N_GRAM]\n",
        "    x_word_data.append(seq_in)\n",
        "    y_word_data.append(seq_out)\n",
        "\n",
        "x_word_data = np.array(x_word_data)\n",
        "y_word_data = np.array(y_word_data)\n",
        "\n",
        "x_word_data.shape, y_word_data.shape\n"
      ],
      "metadata": {
        "colab": {
          "base_uri": "https://localhost:8080/"
        },
        "id": "K8pr1_W5cLzX",
        "outputId": "69ee4084-8a7f-4db7-8d8c-0b83b085314f"
      },
      "execution_count": 28,
      "outputs": [
        {
          "output_type": "execute_result",
          "data": {
            "text/plain": [
              "((29560, 4), (29560,))"
            ]
          },
          "metadata": {},
          "execution_count": 28
        }
      ]
    },
    {
      "cell_type": "code",
      "source": [
        "print(x_word_data[3], y_word_data[3], x_word_data[4], y_word_data[4])\n"
      ],
      "metadata": {
        "colab": {
          "base_uri": "https://localhost:8080/"
        },
        "id": "SgwO25gViMpI",
        "outputId": "93dc0fce-4857-47ce-e31c-608c887ce420"
      },
      "execution_count": 32,
      "outputs": [
        {
          "output_type": "stream",
          "name": "stdout",
          "text": [
            "['gutenberg' 'ebook' 'of' \"alice's\"] adventures ['ebook' 'of' \"alice's\" 'adventures'] in\n"
          ]
        }
      ]
    },
    {
      "cell_type": "code",
      "source": [
        "# convert x_word_data to list of sentenses of 4-grams\n",
        "x_word_data = np.apply_along_axis(lambda x: ' '.join(x), 1, x_word_data)\n",
        "x_word_data.shape\n"
      ],
      "metadata": {
        "colab": {
          "base_uri": "https://localhost:8080/"
        },
        "id": "wKJctrwGjFdn",
        "outputId": "87c64e95-221c-4f09-b357-734887670aac"
      },
      "execution_count": 39,
      "outputs": [
        {
          "output_type": "execute_result",
          "data": {
            "text/plain": [
              "(29560,)"
            ]
          },
          "metadata": {},
          "execution_count": 39
        }
      ]
    },
    {
      "cell_type": "code",
      "source": [
        "x_word_data[3]"
      ],
      "metadata": {
        "colab": {
          "base_uri": "https://localhost:8080/",
          "height": 35
        },
        "id": "5i2sRpS1kGMU",
        "outputId": "1961fd7d-8c9f-432d-e109-16f4a53222ed"
      },
      "execution_count": 40,
      "outputs": [
        {
          "output_type": "execute_result",
          "data": {
            "text/plain": [
              "'gutenberg ebook of alic'"
            ],
            "application/vnd.google.colaboratory.intrinsic+json": {
              "type": "string"
            }
          },
          "metadata": {},
          "execution_count": 40
        }
      ]
    },
    {
      "cell_type": "code",
      "source": [
        "from tensorflow.keras.layers.experimental.preprocessing import TextVectorization\n",
        "\n",
        "# create a TextVectorization layer\n",
        "text_vectorization = TextVectorization(max_tokens=vocab_size, output_sequence_length=N_GRAM)\n",
        "text_vectorization.adapt(x_word_data)\n"
      ],
      "metadata": {
        "id": "4bQVld9HiirP"
      },
      "execution_count": 41,
      "outputs": []
    },
    {
      "cell_type": "code",
      "source": [
        "text_vectorization(x_word_data[3])\n"
      ],
      "metadata": {
        "colab": {
          "base_uri": "https://localhost:8080/"
        },
        "id": "TtezWGXmkQlu",
        "outputId": "a51da3af-9f58-4abb-e138-6c09f83599c7"
      },
      "execution_count": 42,
      "outputs": [
        {
          "output_type": "execute_result",
          "data": {
            "text/plain": [
              "<tf.Tensor: shape=(4,), dtype=int64, numpy=array([208, 339,   6, 333])>"
            ]
          },
          "metadata": {},
          "execution_count": 42
        }
      ]
    },
    {
      "cell_type": "code",
      "source": [
        "# apply text_vectorization to x_word_data, y_word_data\n",
        "\n",
        "x_ds = text_vectorization(x_word_data)\n",
        "y_ds = text_vectorization(y_word_data)\n",
        "\n",
        "x_ds.shape, y_ds.shape"
      ],
      "metadata": {
        "colab": {
          "base_uri": "https://localhost:8080/"
        },
        "id": "JuWzCQ42kVsW",
        "outputId": "893c6458-8d7b-471f-c4a5-e7e0dceb80ab"
      },
      "execution_count": 44,
      "outputs": [
        {
          "output_type": "execute_result",
          "data": {
            "text/plain": [
              "(TensorShape([29560, 4]), TensorShape([29560, 4]))"
            ]
          },
          "metadata": {},
          "execution_count": 44
        }
      ]
    },
    {
      "cell_type": "code",
      "source": [
        "y_ds = y_ds[:,0]\n"
      ],
      "metadata": {
        "id": "0FCSGtb2litC"
      },
      "execution_count": 48,
      "outputs": []
    },
    {
      "cell_type": "code",
      "source": [
        "y_ds.shape, y_ds[3]"
      ],
      "metadata": {
        "colab": {
          "base_uri": "https://localhost:8080/"
        },
        "id": "a_3ooTuol12H",
        "outputId": "86b9dba3-d98e-4e3a-b19e-69012f3b39cc"
      },
      "execution_count": 50,
      "outputs": [
        {
          "output_type": "execute_result",
          "data": {
            "text/plain": [
              "(TensorShape([29560]), <tf.Tensor: shape=(), dtype=int64, numpy=659>)"
            ]
          },
          "metadata": {},
          "execution_count": 50
        }
      ]
    },
    {
      "cell_type": "code",
      "source": [
        "x_ds[1]"
      ],
      "metadata": {
        "colab": {
          "base_uri": "https://localhost:8080/"
        },
        "id": "sGwZ1gYaopmz",
        "outputId": "aa698ff0-ad9c-4743-fc45-069237e99377"
      },
      "execution_count": 68,
      "outputs": [
        {
          "output_type": "execute_result",
          "data": {
            "text/plain": [
              "<tf.Tensor: shape=(4,), dtype=int64, numpy=array([  2,  58, 208, 740])>"
            ]
          },
          "metadata": {},
          "execution_count": 68
        }
      ]
    },
    {
      "cell_type": "code",
      "source": [
        "train_words_ds = tf.data.Dataset.from_tensor_slices((x_ds, y_ds))\n",
        "train_words_ds = train_words_ds.shuffle(1000).batch(32).prefetch(tf.data.AUTOTUNE)"
      ],
      "metadata": {
        "id": "rOPd_HJzl865"
      },
      "execution_count": 69,
      "outputs": []
    },
    {
      "cell_type": "code",
      "source": [
        "for e in train_words_ds.take(1):\n",
        "  print(e)"
      ],
      "metadata": {
        "colab": {
          "base_uri": "https://localhost:8080/"
        },
        "id": "-8jPJLGroTtx",
        "outputId": "4cabcea9-2ce9-4c32-fb4a-870e4fd754b6"
      },
      "execution_count": 70,
      "outputs": [
        {
          "output_type": "stream",
          "name": "stdout",
          "text": [
            "(<tf.Tensor: shape=(32, 4), dtype=int64, numpy=\n",
            "array([[  15,   23,   14,  185],\n",
            "       [2149, 4329,   31,    0],\n",
            "       [  41,   14,  619,   69],\n",
            "       [  16,   17,    7,  284],\n",
            "       [   3,  295,   79, 1069],\n",
            "       [   7,    9,  749,   32],\n",
            "       [ 111,   45,    4,  369],\n",
            "       [4084, 4263, 4159,    0],\n",
            "       [  39, 1445,   91, 3151],\n",
            "       [ 992,   75,   29,  102],\n",
            "       [1069,    6,    2,  427],\n",
            "       [  69,    2,  468,    6],\n",
            "       [  71,   15,    7,   49],\n",
            "       [  15,    7, 3465, 2097],\n",
            "       [ 111,  154,    4,   55],\n",
            "       [2125,   67,   13,  126],\n",
            "       [  42,    8,  214,   41],\n",
            "       [  13,   12,  353,    4],\n",
            "       [3514,    6, 2675,   18],\n",
            "       [  12,  821,   31,    8],\n",
            "       [ 170,   28,   29, 1723],\n",
            "       [ 369,   57,   40,    2],\n",
            "       [ 269, 2690,    3,  949],\n",
            "       [  39,   39,   62,   12],\n",
            "       [ 293,    2,  282,   45],\n",
            "       [ 410,  516,   15,  141],\n",
            "       [ 512,    7,    9,  749],\n",
            "       [ 185,  538,  162, 4182],\n",
            "       [ 108,   18,    8,    3],\n",
            "       [   3,   62,    7,  269],\n",
            "       [  31,   67,   33,   47],\n",
            "       [ 146,    6,  797, 1147]])>, <tf.Tensor: shape=(32,), dtype=int64, numpy=\n",
            "array([ 107,   16,    2,    4,    6,   90,  396, 1320,  936, 2316,   18,\n",
            "          2,   39,   15,  237,   51,   14,  103, 1702,   22,   10,  350,\n",
            "       2810,  170,   11,   15,   32,    2,   64, 2690,  614,   10])>)\n"
          ]
        }
      ]
    },
    {
      "cell_type": "code",
      "source": [
        "text_vectorization.get_vocabulary()[208]"
      ],
      "metadata": {
        "colab": {
          "base_uri": "https://localhost:8080/",
          "height": 35
        },
        "id": "naRbOMlG7PLS",
        "outputId": "c8514f31-732e-4d5b-b892-61608911b50c"
      },
      "execution_count": 57,
      "outputs": [
        {
          "output_type": "execute_result",
          "data": {
            "text/plain": [
              "'gutenberg'"
            ],
            "application/vnd.google.colaboratory.intrinsic+json": {
              "type": "string"
            }
          },
          "metadata": {},
          "execution_count": 57
        }
      ]
    },
    {
      "cell_type": "code",
      "source": [
        "len(text_vectorization.get_vocabulary())"
      ],
      "metadata": {
        "colab": {
          "base_uri": "https://localhost:8080/"
        },
        "id": "u61BLA2lmbOT",
        "outputId": "55511501-23bd-45d2-f5c7-c89ab4f23259"
      },
      "execution_count": 55,
      "outputs": [
        {
          "output_type": "execute_result",
          "data": {
            "text/plain": [
              "5641"
            ]
          },
          "metadata": {},
          "execution_count": 55
        }
      ]
    },
    {
      "cell_type": "code",
      "source": [
        "# create a model\n",
        "def get_lstm_model(vocab_size, embedding_dim=64, rnn_units=128):\n",
        "    model = tf.keras.Sequential([\n",
        "        tf.keras.Input(shape=(N_GRAM,), dtype=tf.int64),\n",
        "        tf.keras.layers.Embedding(vocab_size, embedding_dim),\n",
        "        tf.keras.layers.LSTM(rnn_units),\n",
        "        tf.keras.layers.Dropout(0.2),\n",
        "        tf.keras.layers.Dense(vocab_size, activation='softmax')\n",
        "    ])\n",
        "    model.compile(optimizer='adam', loss=tf.keras.losses.SparseCategoricalCrossentropy(), metrics=['accuracy'])\n",
        "    return model"
      ],
      "metadata": {
        "id": "0c7iLICt7sae"
      },
      "execution_count": 84,
      "outputs": []
    },
    {
      "cell_type": "code",
      "source": [
        "word_text_generator = get_lstm_model(\n",
        "    vocab_size=vocab_size,\n",
        "    embedding_dim=64,\n",
        "    rnn_units=512\n",
        ")\n",
        "\n",
        "word_text_generator.summary()"
      ],
      "metadata": {
        "colab": {
          "base_uri": "https://localhost:8080/"
        },
        "id": "zNjkQG7F8HFt",
        "outputId": "01e9d1ff-58cc-47b6-fae5-94a635566695"
      },
      "execution_count": 91,
      "outputs": [
        {
          "output_type": "stream",
          "name": "stdout",
          "text": [
            "Model: \"sequential_8\"\n",
            "_________________________________________________________________\n",
            " Layer (type)                Output Shape              Param #   \n",
            "=================================================================\n",
            " embedding_8 (Embedding)     (None, 4, 64)             361024    \n",
            "                                                                 \n",
            " lstm_8 (LSTM)               (None, 512)               1181696   \n",
            "                                                                 \n",
            " dropout_7 (Dropout)         (None, 512)               0         \n",
            "                                                                 \n",
            " dense_8 (Dense)             (None, 5641)              2893833   \n",
            "                                                                 \n",
            "=================================================================\n",
            "Total params: 4,436,553\n",
            "Trainable params: 4,436,553\n",
            "Non-trainable params: 0\n",
            "_________________________________________________________________\n"
          ]
        }
      ]
    },
    {
      "cell_type": "code",
      "source": [
        "## fit the model\n",
        "history_word_text_generator = word_text_generator.fit(train_words_ds, epochs=50)"
      ],
      "metadata": {
        "colab": {
          "base_uri": "https://localhost:8080/"
        },
        "id": "X0-0teCzChfJ",
        "outputId": "f15061fe-801f-4149-b4eb-f0626143c60e"
      },
      "execution_count": 92,
      "outputs": [
        {
          "output_type": "stream",
          "name": "stdout",
          "text": [
            "Epoch 1/50\n",
            "924/924 [==============================] - 14s 11ms/step - loss: 6.5960 - accuracy: 0.0646\n",
            "Epoch 2/50\n",
            "924/924 [==============================] - 6s 6ms/step - loss: 5.9342 - accuracy: 0.0782\n",
            "Epoch 3/50\n",
            "924/924 [==============================] - 4s 5ms/step - loss: 5.6201 - accuracy: 0.0876\n",
            "Epoch 4/50\n",
            "924/924 [==============================] - 5s 5ms/step - loss: 5.2593 - accuracy: 0.1062\n",
            "Epoch 5/50\n",
            "924/924 [==============================] - 5s 6ms/step - loss: 4.8413 - accuracy: 0.1301\n",
            "Epoch 6/50\n",
            "924/924 [==============================] - 5s 5ms/step - loss: 4.3961 - accuracy: 0.1579\n",
            "Epoch 7/50\n",
            "924/924 [==============================] - 5s 5ms/step - loss: 3.9149 - accuracy: 0.2027\n",
            "Epoch 8/50\n",
            "924/924 [==============================] - 5s 5ms/step - loss: 3.4152 - accuracy: 0.2679\n",
            "Epoch 9/50\n",
            "924/924 [==============================] - 4s 5ms/step - loss: 2.9362 - accuracy: 0.3486\n",
            "Epoch 10/50\n",
            "924/924 [==============================] - 5s 6ms/step - loss: 2.5055 - accuracy: 0.4301\n",
            "Epoch 11/50\n",
            "924/924 [==============================] - 4s 5ms/step - loss: 2.1333 - accuracy: 0.5049\n",
            "Epoch 12/50\n",
            "924/924 [==============================] - 5s 6ms/step - loss: 1.8028 - accuracy: 0.5775\n",
            "Epoch 13/50\n",
            "924/924 [==============================] - 4s 5ms/step - loss: 1.5348 - accuracy: 0.6357\n",
            "Epoch 14/50\n",
            "924/924 [==============================] - 5s 6ms/step - loss: 1.2901 - accuracy: 0.6963\n",
            "Epoch 15/50\n",
            "924/924 [==============================] - 5s 5ms/step - loss: 1.0885 - accuracy: 0.7448\n",
            "Epoch 16/50\n",
            "924/924 [==============================] - 5s 5ms/step - loss: 0.9063 - accuracy: 0.7901\n",
            "Epoch 17/50\n",
            "924/924 [==============================] - 4s 5ms/step - loss: 0.7779 - accuracy: 0.8194\n",
            "Epoch 18/50\n",
            "924/924 [==============================] - 5s 5ms/step - loss: 0.6652 - accuracy: 0.8471\n",
            "Epoch 19/50\n",
            "924/924 [==============================] - 5s 5ms/step - loss: 0.5775 - accuracy: 0.8665\n",
            "Epoch 20/50\n",
            "924/924 [==============================] - 4s 5ms/step - loss: 0.5167 - accuracy: 0.8828\n",
            "Epoch 21/50\n",
            "924/924 [==============================] - 5s 6ms/step - loss: 0.4720 - accuracy: 0.8926\n",
            "Epoch 22/50\n",
            "924/924 [==============================] - 4s 5ms/step - loss: 0.4223 - accuracy: 0.9037\n",
            "Epoch 23/50\n",
            "924/924 [==============================] - 5s 6ms/step - loss: 0.4026 - accuracy: 0.9081\n",
            "Epoch 24/50\n",
            "924/924 [==============================] - 5s 5ms/step - loss: 0.3811 - accuracy: 0.9112\n",
            "Epoch 25/50\n",
            "924/924 [==============================] - 4s 5ms/step - loss: 0.3622 - accuracy: 0.9185\n",
            "Epoch 26/50\n",
            "924/924 [==============================] - 5s 6ms/step - loss: 0.3444 - accuracy: 0.9217\n",
            "Epoch 27/50\n",
            "924/924 [==============================] - 4s 5ms/step - loss: 0.3284 - accuracy: 0.9238\n",
            "Epoch 28/50\n",
            "924/924 [==============================] - 4s 5ms/step - loss: 0.3254 - accuracy: 0.9244\n",
            "Epoch 29/50\n",
            "924/924 [==============================] - 5s 6ms/step - loss: 0.3140 - accuracy: 0.9259\n",
            "Epoch 30/50\n",
            "924/924 [==============================] - 5s 5ms/step - loss: 0.3024 - accuracy: 0.9276\n",
            "Epoch 31/50\n",
            "924/924 [==============================] - 5s 5ms/step - loss: 0.3047 - accuracy: 0.9275\n",
            "Epoch 32/50\n",
            "924/924 [==============================] - 4s 5ms/step - loss: 0.2918 - accuracy: 0.9309\n",
            "Epoch 33/50\n",
            "924/924 [==============================] - 5s 6ms/step - loss: 0.2850 - accuracy: 0.9317\n",
            "Epoch 34/50\n",
            "924/924 [==============================] - 4s 5ms/step - loss: 0.2811 - accuracy: 0.9329\n",
            "Epoch 35/50\n",
            "924/924 [==============================] - 5s 6ms/step - loss: 0.2754 - accuracy: 0.9340\n",
            "Epoch 36/50\n",
            "924/924 [==============================] - 5s 6ms/step - loss: 0.2686 - accuracy: 0.9358\n",
            "Epoch 37/50\n",
            "924/924 [==============================] - 4s 5ms/step - loss: 0.2599 - accuracy: 0.9371\n",
            "Epoch 38/50\n",
            "924/924 [==============================] - 5s 5ms/step - loss: 0.2626 - accuracy: 0.9360\n",
            "Epoch 39/50\n",
            "924/924 [==============================] - 6s 6ms/step - loss: 0.2615 - accuracy: 0.9373\n",
            "Epoch 40/50\n",
            "924/924 [==============================] - 4s 5ms/step - loss: 0.2630 - accuracy: 0.9368\n",
            "Epoch 41/50\n",
            "924/924 [==============================] - 5s 5ms/step - loss: 0.2535 - accuracy: 0.9380\n",
            "Epoch 42/50\n",
            "924/924 [==============================] - 5s 5ms/step - loss: 0.2588 - accuracy: 0.9380\n",
            "Epoch 43/50\n",
            "924/924 [==============================] - 4s 5ms/step - loss: 0.2500 - accuracy: 0.9367\n",
            "Epoch 44/50\n",
            "924/924 [==============================] - 5s 5ms/step - loss: 0.2527 - accuracy: 0.9397\n",
            "Epoch 45/50\n",
            "924/924 [==============================] - 5s 5ms/step - loss: 0.2459 - accuracy: 0.9401\n",
            "Epoch 46/50\n",
            "924/924 [==============================] - 4s 5ms/step - loss: 0.2396 - accuracy: 0.9404\n",
            "Epoch 47/50\n",
            "924/924 [==============================] - 5s 5ms/step - loss: 0.2434 - accuracy: 0.9409\n",
            "Epoch 48/50\n",
            "924/924 [==============================] - 5s 5ms/step - loss: 0.2288 - accuracy: 0.9448\n",
            "Epoch 49/50\n",
            "924/924 [==============================] - 4s 5ms/step - loss: 0.2385 - accuracy: 0.9414\n",
            "Epoch 50/50\n",
            "924/924 [==============================] - 5s 6ms/step - loss: 0.2353 - accuracy: 0.9412\n"
          ]
        }
      ]
    },
    {
      "cell_type": "code",
      "source": [
        "import pandas as pd\n",
        "\n",
        "pd.DataFrame(history_word_text_generator.history).plot()\n",
        "plt.show()\n"
      ],
      "metadata": {
        "colab": {
          "base_uri": "https://localhost:8080/",
          "height": 430
        },
        "id": "HcNmQV-IC2RG",
        "outputId": "a6c39508-60d6-4eeb-8ae8-90ecb0c12989"
      },
      "execution_count": 93,
      "outputs": [
        {
          "output_type": "display_data",
          "data": {
            "text/plain": [
              "<Figure size 640x480 with 1 Axes>"
            ],
            "image/png": "[encoded data removed]"
          },
          "metadata": {}
        }
      ]
    },
    {
      "cell_type": "code",
      "source": [
        "# generate text using word_text_generator\n",
        "new_text= []\n",
        "\n",
        "pattern= x_word_data[560]\n",
        "print(f\"Predict next 30 words for phraze:\\n{pattern}\")\n",
        "\n",
        "pattern = text_vectorization(pattern)\n",
        "for i in range(20):\n",
        "    x = tf.reshape(pattern, (1,N_GRAM,1))\n",
        "    prediction = word_text_generator.predict(x, verbose=False)\n",
        "    prediction = tf.argmax(prediction, axis=-1)\n",
        "    new_text.append(prediction.numpy()[0])\n",
        "    pattern=tf.concat([pattern, prediction], 0)\n",
        "    pattern = pattern[1:]"
      ],
      "metadata": {
        "colab": {
          "base_uri": "https://localhost:8080/"
        },
        "id": "vCYHcaLpuUZz",
        "outputId": "25341765-0e97-4ea2-f8c2-ac2e86288de1"
      },
      "execution_count": 143,
      "outputs": [
        {
          "output_type": "stream",
          "name": "stdout",
          "text": [
            "Predict next 30 words for phraze:\n",
            "to wonder what was\n"
          ]
        }
      ]
    },
    {
      "cell_type": "code",
      "source": [
        "' '.join(map(lambda x: text_vectorization.get_vocabulary()[x], new_text))"
      ],
      "metadata": {
        "colab": {
          "base_uri": "https://localhost:8080/",
          "height": 35
        },
        "id": "4VhNifg0zdUO",
        "outputId": "85e263eb-9c7e-4b52-ab9c-ad70f99afcd8"
      },
      "execution_count": 144,
      "outputs": [
        {
          "output_type": "execute_result",
          "data": {
            "text/plain": [
              "'going to happen next first she tried to look down and make out what she was coming to about it'"
            ],
            "application/vnd.google.colaboratory.intrinsic+json": {
              "type": "string"
            }
          },
          "metadata": {},
          "execution_count": 144
        }
      ]
    }
  ]
}