{
  "nbformat": 4,
  "nbformat_minor": 0,
  "metadata": {
    "colab": {
      "provenance": [],
      "gpuType": "T4",
      "authorship_tag": "ABX9TyOfWva9eGNs0p9/DZoDYDtx",
      "include_colab_link": true
    },
    "kernelspec": {
      "name": "python3",
      "display_name": "Python 3"
    },
    "language_info": {
      "name": "python"
    },
    "accelerator": "GPU"
  },
  "cells": [
    {
      "cell_type": "markdown",
      "metadata": {
        "id": "view-in-github",
        "colab_type": "text"
      },
      "source": [
        "<a href=\"https://colab.research.google.com/github/ryzhokhina/Tensorflow-Dev-Exam-Preparation/blob/main/NLP/text_classification_with_tokenizer.ipynb\" target=\"_parent\"><img src=\"https://colab.research.google.com/assets/colab-badge.svg\" alt=\"Open In Colab\"/></a>"
      ]
    },
    {
      "cell_type": "code",
      "execution_count": 1,
      "metadata": {
        "id": "96gZgdbifc9_"
      },
      "outputs": [],
      "source": [
        "import tensorflow as tf\n",
        "import numpy as np\n",
        "import matplotlib.pyplot as plt\n",
        "import pandas as pd\n",
        "import os"
      ]
    },
    {
      "cell_type": "code",
      "source": [
        "!nvidia-smi"
      ],
      "metadata": {
        "colab": {
          "base_uri": "https://localhost:8080/"
        },
        "id": "cUXTr_G4fnVp",
        "outputId": "378ccb0f-c245-47a0-c30b-f1d2f987f48a"
      },
      "execution_count": 2,
      "outputs": [
        {
          "output_type": "stream",
          "name": "stdout",
          "text": [
            "Mon Jul 24 16:53:10 2023       \n",
            "+-----------------------------------------------------------------------------+\n",
            "| NVIDIA-SMI 525.105.17   Driver Version: 525.105.17   CUDA Version: 12.0     |\n",
            "|-------------------------------+----------------------+----------------------+\n",
            "| GPU  Name        Persistence-M| Bus-Id        Disp.A | Volatile Uncorr. ECC |\n",
            "| Fan  Temp  Perf  Pwr:Usage/Cap|         Memory-Usage | GPU-Util  Compute M. |\n",
            "|                               |                      |               MIG M. |\n",
            "|===============================+======================+======================|\n",
            "|   0  Tesla T4            Off  | 00000000:00:04.0 Off |                    0 |\n",
            "| N/A   38C    P8     9W /  70W |      0MiB / 15360MiB |      0%      Default |\n",
            "|                               |                      |                  N/A |\n",
            "+-------------------------------+----------------------+----------------------+\n",
            "                                                                               \n",
            "+-----------------------------------------------------------------------------+\n",
            "| Processes:                                                                  |\n",
            "|  GPU   GI   CI        PID   Type   Process name                  GPU Memory |\n",
            "|        ID   ID                                                   Usage      |\n",
            "|=============================================================================|\n",
            "|  No running processes found                                                 |\n",
            "+-----------------------------------------------------------------------------+\n"
          ]
        }
      ]
    },
    {
      "cell_type": "code",
      "source": [
        "!wget https://raw.githubusercontent.com/mrdbourke/tensorflow-deep-learning/main/extras/helper_functions.py"
      ],
      "metadata": {
        "colab": {
          "base_uri": "https://localhost:8080/"
        },
        "id": "gyn-SNWIjb0A",
        "outputId": "0487d531-c0f7-47e8-ea9e-810fd04ab105"
      },
      "execution_count": 3,
      "outputs": [
        {
          "output_type": "stream",
          "name": "stdout",
          "text": [
            "--2023-07-24 16:53:11--  https://raw.githubusercontent.com/mrdbourke/tensorflow-deep-learning/main/extras/helper_functions.py\n",
            "Resolving raw.githubusercontent.com (raw.githubusercontent.com)... 185.199.108.133, 185.199.109.133, 185.199.110.133, ...\n",
            "Connecting to raw.githubusercontent.com (raw.githubusercontent.com)|185.199.108.133|:443... connected.\n",
            "HTTP request sent, awaiting response... 200 OK\n",
            "Length: 10246 (10K) [text/plain]\n",
            "Saving to: ‘helper_functions.py’\n",
            "\n",
            "helper_functions.py 100%[===================>]  10.01K  --.-KB/s    in 0s      \n",
            "\n",
            "2023-07-24 16:53:11 (83.5 MB/s) - ‘helper_functions.py’ saved [10246/10246]\n",
            "\n"
          ]
        }
      ]
    },
    {
      "cell_type": "code",
      "source": [
        "from helper_functions import create_tensorboard_callback, plot_loss_curves, unzip_data"
      ],
      "metadata": {
        "id": "O7pU-SqdjgVh"
      },
      "execution_count": 4,
      "outputs": []
    },
    {
      "cell_type": "markdown",
      "source": [
        "#Load data"
      ],
      "metadata": {
        "id": "ZO77RALYf1Bf"
      }
    },
    {
      "cell_type": "code",
      "source": [
        "# Download data (same as from Kaggle)\n",
        "!wget \"https://storage.googleapis.com/ztm_tf_course/nlp_getting_started.zip\"\n",
        "\n",
        "# Unzip data\n",
        "unzip_data(\"nlp_getting_started.zip\")"
      ],
      "metadata": {
        "colab": {
          "base_uri": "https://localhost:8080/"
        },
        "id": "CQy325kvf0ce",
        "outputId": "f192a46b-bb57-45db-c1c1-2d3a1031f7ab"
      },
      "execution_count": 5,
      "outputs": [
        {
          "output_type": "stream",
          "name": "stdout",
          "text": [
            "--2023-07-24 16:53:12--  https://storage.googleapis.com/ztm_tf_course/nlp_getting_started.zip\n",
            "Resolving storage.googleapis.com (storage.googleapis.com)... 172.253.118.128, 74.125.24.128, 142.251.10.128, ...\n",
            "Connecting to storage.googleapis.com (storage.googleapis.com)|172.253.118.128|:443... connected.\n",
            "HTTP request sent, awaiting response... 200 OK\n",
            "Length: 607343 (593K) [application/zip]\n",
            "Saving to: ‘nlp_getting_started.zip’\n",
            "\n",
            "nlp_getting_started 100%[===================>] 593.11K   741KB/s    in 0.8s    \n",
            "\n",
            "2023-07-24 16:53:13 (741 KB/s) - ‘nlp_getting_started.zip’ saved [607343/607343]\n",
            "\n"
          ]
        }
      ]
    },
    {
      "cell_type": "code",
      "source": [
        "train_ds = pd.read_csv(\"train.csv\")\n",
        "test_ds = pd.read_csv(\"test.csv\")\n",
        "\n",
        "print(train_ds.shape)\n",
        "print(test_ds.shape)\n"
      ],
      "metadata": {
        "colab": {
          "base_uri": "https://localhost:8080/"
        },
        "id": "DkCztyJjnD3E",
        "outputId": "50d038ed-03c1-40c6-b5cc-8fcab58350cf"
      },
      "execution_count": 6,
      "outputs": [
        {
          "output_type": "stream",
          "name": "stdout",
          "text": [
            "(7613, 5)\n",
            "(3263, 4)\n"
          ]
        }
      ]
    },
    {
      "cell_type": "code",
      "source": [
        "train_ds.head()"
      ],
      "metadata": {
        "colab": {
          "base_uri": "https://localhost:8080/",
          "height": 206
        },
        "id": "XF1VrgBXnPjU",
        "outputId": "6b2f8b78-23d8-4a22-ac4a-590cbc7fd8cc"
      },
      "execution_count": 7,
      "outputs": [
        {
          "output_type": "execute_result",
          "data": {
            "text/plain": [
              "   id keyword location                                               text  \\\n",
              "0   1     NaN      NaN  Our Deeds are the Reason of this #earthquake M...   \n",
              "1   4     NaN      NaN             Forest fire near La Ronge Sask. Canada   \n",
              "2   5     NaN      NaN  All residents asked to 'shelter in place' are ...   \n",
              "3   6     NaN      NaN  13,000 people receive #wildfires evacuation or...   \n",
              "4   7     NaN      NaN  Just got sent this photo from Ruby #Alaska as ...   \n",
              "\n",
              "   target  \n",
              "0       1  \n",
              "1       1  \n",
              "2       1  \n",
              "3       1  \n",
              "4       1  "
            ],
            "text/html": [
              "\n",
              "\n",
              "  <div id=\"df-e7c13b68-5fc4-4702-b2f4-7e3989e04afb\">\n",
              "    <div class=\"colab-df-container\">\n",
              "      <div>\n",
              "<style scoped>\n",
              "    .dataframe tbody tr th:only-of-type {\n",
              "        vertical-align: middle;\n",
              "    }\n",
              "\n",
              "    .dataframe tbody tr th {\n",
              "        vertical-align: top;\n",
              "    }\n",
              "\n",
              "    .dataframe thead th {\n",
              "        text-align: right;\n",
              "    }\n",
              "</style>\n",
              "<table border=\"1\" class=\"dataframe\">\n",
              "  <thead>\n",
              "    <tr style=\"text-align: right;\">\n",
              "      <th></th>\n",
              "      <th>id</th>\n",
              "      <th>keyword</th>\n",
              "      <th>location</th>\n",
              "      <th>text</th>\n",
              "      <th>target</th>\n",
              "    </tr>\n",
              "  </thead>\n",
              "  <tbody>\n",
              "    <tr>\n",
              "      <th>0</th>\n",
              "      <td>1</td>\n",
              "      <td>NaN</td>\n",
              "      <td>NaN</td>\n",
              "      <td>Our Deeds are the Reason of this #earthquake M...</td>\n",
              "      <td>1</td>\n",
              "    </tr>\n",
              "    <tr>\n",
              "      <th>1</th>\n",
              "      <td>4</td>\n",
              "      <td>NaN</td>\n",
              "      <td>NaN</td>\n",
              "      <td>Forest fire near La Ronge Sask. Canada</td>\n",
              "      <td>1</td>\n",
              "    </tr>\n",
              "    <tr>\n",
              "      <th>2</th>\n",
              "      <td>5</td>\n",
              "      <td>NaN</td>\n",
              "      <td>NaN</td>\n",
              "      <td>All residents asked to 'shelter in place' are ...</td>\n",
              "      <td>1</td>\n",
              "    </tr>\n",
              "    <tr>\n",
              "      <th>3</th>\n",
              "      <td>6</td>\n",
              "      <td>NaN</td>\n",
              "      <td>NaN</td>\n",
              "      <td>13,000 people receive #wildfires evacuation or...</td>\n",
              "      <td>1</td>\n",
              "    </tr>\n",
              "    <tr>\n",
              "      <th>4</th>\n",
              "      <td>7</td>\n",
              "      <td>NaN</td>\n",
              "      <td>NaN</td>\n",
              "      <td>Just got sent this photo from Ruby #Alaska as ...</td>\n",
              "      <td>1</td>\n",
              "    </tr>\n",
              "  </tbody>\n",
              "</table>\n",
              "</div>\n",
              "      <button class=\"colab-df-convert\" onclick=\"convertToInteractive('df-e7c13b68-5fc4-4702-b2f4-7e3989e04afb')\"\n",
              "              title=\"Convert this dataframe to an interactive table.\"\n",
              "              style=\"display:none;\">\n",
              "\n",
              "  <svg xmlns=\"http://www.w3.org/2000/svg\" height=\"24px\"viewBox=\"0 0 24 24\"\n",
              "       width=\"24px\">\n",
              "    <path d=\"M0 0h24v24H0V0z\" fill=\"none\"/>\n",
              "    <path d=\"M18.56 5.44l.94 2.06.94-2.06 2.06-.94-2.06-.94-.94-2.06-.94 2.06-2.06.94zm-11 1L8.5 8.5l.94-2.06 2.06-.94-2.06-.94L8.5 2.5l-.94 2.06-2.06.94zm10 10l.94 2.06.94-2.06 2.06-.94-2.06-.94-.94-2.06-.94 2.06-2.06.94z\"/><path d=\"M17.41 7.96l-1.37-1.37c-.4-.4-.92-.59-1.43-.59-.52 0-1.04.2-1.43.59L10.3 9.45l-7.72 7.72c-.78.78-.78 2.05 0 2.83L4 21.41c.39.39.9.59 1.41.59.51 0 1.02-.2 1.41-.59l7.78-7.78 2.81-2.81c.8-.78.8-2.07 0-2.86zM5.41 20L4 18.59l7.72-7.72 1.47 1.35L5.41 20z\"/>\n",
              "  </svg>\n",
              "      </button>\n",
              "\n",
              "\n",
              "\n",
              "    <div id=\"df-986ff094-890d-47c2-a76c-d87657888a54\">\n",
              "      <button class=\"colab-df-quickchart\" onclick=\"quickchart('df-986ff094-890d-47c2-a76c-d87657888a54')\"\n",
              "              title=\"Suggest charts.\"\n",
              "              style=\"display:none;\">\n",
              "\n",
              "<svg xmlns=\"http://www.w3.org/2000/svg\" height=\"24px\"viewBox=\"0 0 24 24\"\n",
              "     width=\"24px\">\n",
              "    <g>\n",
              "        <path d=\"M19 3H5c-1.1 0-2 .9-2 2v14c0 1.1.9 2 2 2h14c1.1 0 2-.9 2-2V5c0-1.1-.9-2-2-2zM9 17H7v-7h2v7zm4 0h-2V7h2v10zm4 0h-2v-4h2v4z\"/>\n",
              "    </g>\n",
              "</svg>\n",
              "      </button>\n",
              "    </div>\n",
              "\n",
              "<style>\n",
              "  .colab-df-quickchart {\n",
              "    background-color: #E8F0FE;\n",
              "    border: none;\n",
              "    border-radius: 50%;\n",
              "    cursor: pointer;\n",
              "    display: none;\n",
              "    fill: #1967D2;\n",
              "    height: 32px;\n",
              "    padding: 0 0 0 0;\n",
              "    width: 32px;\n",
              "  }\n",
              "\n",
              "  .colab-df-quickchart:hover {\n",
              "    background-color: #E2EBFA;\n",
              "    box-shadow: 0px 1px 2px rgba(60, 64, 67, 0.3), 0px 1px 3px 1px rgba(60, 64, 67, 0.15);\n",
              "    fill: #174EA6;\n",
              "  }\n",
              "\n",
              "  [theme=dark] .colab-df-quickchart {\n",
              "    background-color: #3B4455;\n",
              "    fill: #D2E3FC;\n",
              "  }\n",
              "\n",
              "  [theme=dark] .colab-df-quickchart:hover {\n",
              "    background-color: #434B5C;\n",
              "    box-shadow: 0px 1px 3px 1px rgba(0, 0, 0, 0.15);\n",
              "    filter: drop-shadow(0px 1px 2px rgba(0, 0, 0, 0.3));\n",
              "    fill: #FFFFFF;\n",
              "  }\n",
              "</style>\n",
              "\n",
              "    <script>\n",
              "      async function quickchart(key) {\n",
              "        const containerElement = document.querySelector('#' + key);\n",
              "        const charts = await google.colab.kernel.invokeFunction(\n",
              "            'suggestCharts', [key], {});\n",
              "      }\n",
              "    </script>\n",
              "\n",
              "      <script>\n",
              "\n",
              "function displayQuickchartButton(domScope) {\n",
              "  let quickchartButtonEl =\n",
              "    domScope.querySelector('#df-986ff094-890d-47c2-a76c-d87657888a54 button.colab-df-quickchart');\n",
              "  quickchartButtonEl.style.display =\n",
              "    google.colab.kernel.accessAllowed ? 'block' : 'none';\n",
              "}\n",
              "\n",
              "        displayQuickchartButton(document);\n",
              "      </script>\n",
              "      <style>\n",
              "    .colab-df-container {\n",
              "      display:flex;\n",
              "      flex-wrap:wrap;\n",
              "      gap: 12px;\n",
              "    }\n",
              "\n",
              "    .colab-df-convert {\n",
              "      background-color: #E8F0FE;\n",
              "      border: none;\n",
              "      border-radius: 50%;\n",
              "      cursor: pointer;\n",
              "      display: none;\n",
              "      fill: #1967D2;\n",
              "      height: 32px;\n",
              "      padding: 0 0 0 0;\n",
              "      width: 32px;\n",
              "    }\n",
              "\n",
              "    .colab-df-convert:hover {\n",
              "      background-color: #E2EBFA;\n",
              "      box-shadow: 0px 1px 2px rgba(60, 64, 67, 0.3), 0px 1px 3px 1px rgba(60, 64, 67, 0.15);\n",
              "      fill: #174EA6;\n",
              "    }\n",
              "\n",
              "    [theme=dark] .colab-df-convert {\n",
              "      background-color: #3B4455;\n",
              "      fill: #D2E3FC;\n",
              "    }\n",
              "\n",
              "    [theme=dark] .colab-df-convert:hover {\n",
              "      background-color: #434B5C;\n",
              "      box-shadow: 0px 1px 3px 1px rgba(0, 0, 0, 0.15);\n",
              "      filter: drop-shadow(0px 1px 2px rgba(0, 0, 0, 0.3));\n",
              "      fill: #FFFFFF;\n",
              "    }\n",
              "  </style>\n",
              "\n",
              "      <script>\n",
              "        const buttonEl =\n",
              "          document.querySelector('#df-e7c13b68-5fc4-4702-b2f4-7e3989e04afb button.colab-df-convert');\n",
              "        buttonEl.style.display =\n",
              "          google.colab.kernel.accessAllowed ? 'block' : 'none';\n",
              "\n",
              "        async function convertToInteractive(key) {\n",
              "          const element = document.querySelector('#df-e7c13b68-5fc4-4702-b2f4-7e3989e04afb');\n",
              "          const dataTable =\n",
              "            await google.colab.kernel.invokeFunction('convertToInteractive',\n",
              "                                                     [key], {});\n",
              "          if (!dataTable) return;\n",
              "\n",
              "          const docLinkHtml = 'Like what you see? Visit the ' +\n",
              "            '<a target=\"_blank\" href=https://colab.research.google.com/notebooks/data_table.ipynb>data table notebook</a>'\n",
              "            + ' to learn more about interactive tables.';\n",
              "          element.innerHTML = '';\n",
              "          dataTable['output_type'] = 'display_data';\n",
              "          await google.colab.output.renderOutput(dataTable, element);\n",
              "          const docLink = document.createElement('div');\n",
              "          docLink.innerHTML = docLinkHtml;\n",
              "          element.appendChild(docLink);\n",
              "        }\n",
              "      </script>\n",
              "    </div>\n",
              "  </div>\n"
            ]
          },
          "metadata": {},
          "execution_count": 7
        }
      ]
    },
    {
      "cell_type": "markdown",
      "source": [
        "## Check the lenght of text"
      ],
      "metadata": {
        "id": "mJL4ShA2jCq0"
      }
    },
    {
      "cell_type": "code",
      "source": [
        "train_ds.text.str.len().hist()\n"
      ],
      "metadata": {
        "colab": {
          "base_uri": "https://localhost:8080/",
          "height": 447
        },
        "id": "6o5xNXXxjH8M",
        "outputId": "299835a0-7bac-4d4a-d48c-c5e190b472d7"
      },
      "execution_count": 8,
      "outputs": [
        {
          "output_type": "execute_result",
          "data": {
            "text/plain": [
              "<Axes: >"
            ]
          },
          "metadata": {},
          "execution_count": 8
        },
        {
          "output_type": "display_data",
          "data": {
            "text/plain": [
              "<Figure size 640x480 with 1 Axes>"
            ],
            "image/png": "[encoded data removed]"
          },
          "metadata": {}
        }
      ]
    },
    {
      "cell_type": "code",
      "source": [
        "train_ds.text.str.len().describe()\n"
      ],
      "metadata": {
        "colab": {
          "base_uri": "https://localhost:8080/"
        },
        "id": "3WYCuXjajQfT",
        "outputId": "03f4885d-b107-4360-997c-02bc1f05ce22"
      },
      "execution_count": 9,
      "outputs": [
        {
          "output_type": "execute_result",
          "data": {
            "text/plain": [
              "count    7613.000000\n",
              "mean      101.037436\n",
              "std        33.781325\n",
              "min         7.000000\n",
              "25%        78.000000\n",
              "50%       107.000000\n",
              "75%       133.000000\n",
              "max       157.000000\n",
              "Name: text, dtype: float64"
            ]
          },
          "metadata": {},
          "execution_count": 9
        }
      ]
    },
    {
      "cell_type": "markdown",
      "source": [
        "#Create a custom Tokenizer that:\n",
        " 1. clean data\n",
        " 2. tokens data\n",
        " 3. pad data"
      ],
      "metadata": {
        "id": "0UM94vNenZk1"
      }
    },
    {
      "cell_type": "code",
      "source": [
        "from tensorflow.keras.preprocessing.text import Tokenizer\n",
        "from tensorflow.keras.preprocessing.sequence import pad_sequences\n",
        "\n",
        "class TextTokenizer():\n",
        "\n",
        "  def __init__(self, max_vocab_size=1000, max_len=100, oov_token=\"<OOV>\"):\n",
        "    self.tokenizer = Tokenizer(\n",
        "        num_words=max_vocab_size,\n",
        "        filters='!\"#$%&()*+,-./:;<=>?@[\\\\]^_`{|}~\\t\\n',\n",
        "        lower=True,\n",
        "        split=' ',\n",
        "        oov_token=oov_token)\n",
        "    self.max_vocab_size = max_vocab_size\n",
        "    self.max_len = max_len\n",
        "    self.oov_token = oov_token\n",
        "  def fit(self, X):\n",
        "    self.tokenizer.fit_on_texts(X)\n",
        "\n",
        "  def transform(self, X):\n",
        "    seq = self.tokenizer.texts_to_sequences(X)\n",
        "    return pad_sequences(seq, maxlen=self.max_len,padding='post',truncating='post')\n",
        "\n",
        "  def fit_transform(self, X):\n",
        "    self.fit(X)\n",
        "    return self.transform(X)\n"
      ],
      "metadata": {
        "id": "LLI_9n99nXW4"
      },
      "execution_count": 86,
      "outputs": []
    },
    {
      "cell_type": "code",
      "source": [
        "tokenizer = TextTokenizer(max_vocab_size=10000, max_len=30)\n",
        "t = tokenizer.fit_transform(train_ds[:10].text)\n"
      ],
      "metadata": {
        "id": "sT5bGWXLpVL9"
      },
      "execution_count": 87,
      "outputs": []
    },
    {
      "cell_type": "code",
      "source": [
        "t[8]\n"
      ],
      "metadata": {
        "colab": {
          "base_uri": "https://localhost:8080/"
        },
        "id": "xzB9wKutphHZ",
        "outputId": "38153102-1eda-438c-e42f-e1e5b04d8709"
      },
      "execution_count": 88,
      "outputs": [
        {
          "output_type": "execute_result",
          "data": {
            "text/plain": [
              "array([91, 92, 93,  8, 94, 95,  2,  3, 96, 97,  3, 98,  0,  0,  0,  0,  0,\n",
              "        0,  0,  0,  0,  0,  0,  0,  0,  0,  0,  0,  0,  0], dtype=int32)"
            ]
          },
          "metadata": {},
          "execution_count": 88
        }
      ]
    },
    {
      "cell_type": "code",
      "source": [
        "train_ds.iloc[8].text, train_ds.iloc[0][\"target\"]"
      ],
      "metadata": {
        "colab": {
          "base_uri": "https://localhost:8080/"
        },
        "id": "MX86n0VPphjo",
        "outputId": "8ce0be7e-101f-476d-c430-6bab2c7eecf6"
      },
      "execution_count": 89,
      "outputs": [
        {
          "output_type": "execute_result",
          "data": {
            "text/plain": [
              "(\"There's an emergency evacuation happening now in the building across the street\",\n",
              " 1)"
            ]
          },
          "metadata": {},
          "execution_count": 89
        }
      ]
    },
    {
      "cell_type": "code",
      "source": [
        "for i in t[8]:\n",
        "  if i!=0:\n",
        "    print(tokenizer.tokenizer.index_word[i])\n"
      ],
      "metadata": {
        "colab": {
          "base_uri": "https://localhost:8080/"
        },
        "id": "hSKRw6s0qtO3",
        "outputId": "2ba74dff-9cf2-4a29-fb85-73a6a3bac177"
      },
      "execution_count": 90,
      "outputs": [
        {
          "output_type": "stream",
          "name": "stdout",
          "text": [
            "there's\n",
            "an\n",
            "emergency\n",
            "evacuation\n",
            "happening\n",
            "now\n",
            "in\n",
            "the\n",
            "building\n",
            "across\n",
            "the\n",
            "street\n"
          ]
        }
      ]
    },
    {
      "cell_type": "markdown",
      "source": [
        "## Split data to train and validation set"
      ],
      "metadata": {
        "id": "OfOT41iGuf1t"
      }
    },
    {
      "cell_type": "code",
      "source": [
        "import sklearn\n",
        "from sklearn.model_selection import train_test_split\n",
        "\n",
        "\n",
        "x_train, x_val, y_train, y_val  = train_test_split(train_ds.text, train_ds.target, test_size=0.2, random_state=42)\n",
        "\n",
        "print(x_train.shape, x_val.shape, y_train.shape, y_val.shape)\n"
      ],
      "metadata": {
        "colab": {
          "base_uri": "https://localhost:8080/"
        },
        "id": "A_JetrlmrENw",
        "outputId": "4ea0b08b-8ff3-460c-d4a6-ebc8bad556f2"
      },
      "execution_count": 91,
      "outputs": [
        {
          "output_type": "stream",
          "name": "stdout",
          "text": [
            "(6090,) (1523,) (6090,) (1523,)\n"
          ]
        }
      ]
    },
    {
      "cell_type": "code",
      "source": [
        "#apply tokenizer"
      ],
      "metadata": {
        "id": "5-clElFdvmDT"
      },
      "execution_count": 92,
      "outputs": []
    },
    {
      "cell_type": "code",
      "source": [
        "x_train = tokenizer.fit_transform(x_train)\n",
        "x_val = tokenizer.transform(x_val)"
      ],
      "metadata": {
        "id": "zar6vpNFvpaS"
      },
      "execution_count": 99,
      "outputs": []
    },
    {
      "cell_type": "code",
      "source": [
        "print(x_train.shape, x_val.shape, y_train.shape, y_val.shape)"
      ],
      "metadata": {
        "colab": {
          "base_uri": "https://localhost:8080/"
        },
        "id": "Ne9hoAjWvtKa",
        "outputId": "072a8472-9f17-4338-e508-ce53ab50543b"
      },
      "execution_count": 100,
      "outputs": [
        {
          "output_type": "stream",
          "name": "stdout",
          "text": [
            "(6090, 30) (1523, 30) (6090,) (1523,)\n"
          ]
        }
      ]
    },
    {
      "cell_type": "code",
      "source": [
        "tokenizer.max_vocab_size"
      ],
      "metadata": {
        "colab": {
          "base_uri": "https://localhost:8080/"
        },
        "id": "yLU6_trsxvq0",
        "outputId": "5aee43f3-b431-49f5-c903-f13bb45edafd"
      },
      "execution_count": 101,
      "outputs": [
        {
          "output_type": "execute_result",
          "data": {
            "text/plain": [
              "10000"
            ]
          },
          "metadata": {},
          "execution_count": 101
        }
      ]
    },
    {
      "cell_type": "code",
      "source": [
        "x_train.shape"
      ],
      "metadata": {
        "colab": {
          "base_uri": "https://localhost:8080/"
        },
        "id": "_khHuvktVoJS",
        "outputId": "fe29f81c-4e84-4abf-deb8-492a996bd1f4"
      },
      "execution_count": 98,
      "outputs": [
        {
          "output_type": "execute_result",
          "data": {
            "text/plain": [
              "(6090,)"
            ]
          },
          "metadata": {},
          "execution_count": 98
        }
      ]
    },
    {
      "cell_type": "code",
      "source": [
        "plt.hist(x_train.sum(axis = 0))\n",
        "plt.show()\n"
      ],
      "metadata": {
        "colab": {
          "base_uri": "https://localhost:8080/",
          "height": 448
        },
        "id": "lLqdZyAPkfdq",
        "outputId": "6a9c1e81-426e-4446-813c-5b5ec566438e"
      },
      "execution_count": 102,
      "outputs": [
        {
          "output_type": "display_data",
          "data": {
            "text/plain": [
              "<Figure size 640x480 with 1 Axes>"
            ],
            "image/png": "[encoded data removed]"
          },
          "metadata": {}
        }
      ]
    },
    {
      "cell_type": "code",
      "source": [
        "x_train.sum(axis = 0)"
      ],
      "metadata": {
        "colab": {
          "base_uri": "https://localhost:8080/"
        },
        "id": "LOlA4qoYlD72",
        "outputId": "47e8bc38-7a54-4b9c-94f5-95309d4b3407"
      },
      "execution_count": 103,
      "outputs": [
        {
          "output_type": "execute_result",
          "data": {
            "text/plain": [
              "array([8212656, 6743533, 5708836, 5839085, 5665322, 5343371, 5225919,\n",
              "       5166315, 5277959, 4707601, 4565893, 4471273, 4127299, 4088881,\n",
              "       3733720, 3306197, 3189769, 2591975, 2361869, 2120306, 1901181,\n",
              "       1495080,  982700,  841034,  553314,  270693,  126874,   82688,\n",
              "         55304,   43967])"
            ]
          },
          "metadata": {},
          "execution_count": 103
        }
      ]
    },
    {
      "cell_type": "markdown",
      "source": [
        "## Create nlp model using LSTP and enbedding layers"
      ],
      "metadata": {
        "id": "6H7wPfc9vz_b"
      }
    },
    {
      "cell_type": "code",
      "source": [
        "#check shape of input\n",
        "x_train.shape, x_val.shape\n"
      ],
      "metadata": {
        "colab": {
          "base_uri": "https://localhost:8080/"
        },
        "id": "nFGyG0e9VpZ5",
        "outputId": "2b3d96ec-ae4f-49fb-bc43-77e6913e9972"
      },
      "execution_count": 23,
      "outputs": [
        {
          "output_type": "execute_result",
          "data": {
            "text/plain": [
              "((6090, 30), (1523, 30))"
            ]
          },
          "metadata": {},
          "execution_count": 23
        }
      ]
    },
    {
      "cell_type": "code",
      "source": [
        "x_train[100]"
      ],
      "metadata": {
        "colab": {
          "base_uri": "https://localhost:8080/"
        },
        "id": "BW189zR2izQk",
        "outputId": "066cb28e-7dd7-4800-974f-4817da340130"
      },
      "execution_count": 24,
      "outputs": [
        {
          "output_type": "execute_result",
          "data": {
            "text/plain": [
              "array([6175, 6176,  636,  598, 2488,   17, 6177, 4051, 1106,   11,  230,\n",
              "       6178,   20,    6, 1107, 3099,   26,    2,    4,    2,    3, 6179,\n",
              "          0,    0,    0,    0,    0,    0,    0,    0], dtype=int32)"
            ]
          },
          "metadata": {},
          "execution_count": 24
        }
      ]
    },
    {
      "cell_type": "code",
      "source": [
        "from tensorflow.keras.layers import Embedding, LSTM, Dense, Bidirectional, Input, Dropout\n",
        "from tensorflow.keras.models import Model\n",
        "\n",
        "def create_model(vocab_size, phrase_size, embedding_dim, rnn_units, batch_size):\n",
        "    inputs = Input(shape=(phrase_size,))\n",
        "    x = Embedding(vocab_size, embedding_dim, batch_input_shape=[batch_size, None])(inputs)\n",
        "    x = LSTM(rnn_units, dropout = 0.5, recurrent_dropout=0.5)(x)\n",
        "    x = Dropout(0.5)(x)\n",
        "    x = Dense(1, activation=\"sigmoid\")(x)\n",
        "    model = Model(inputs=inputs, outputs=x)\n",
        "\n",
        "    model.compile(loss=\"binary_crossentropy\", optimizer=\"Adam\", metrics=[\"accuracy\"])\n",
        "\n",
        "    return model"
      ],
      "metadata": {
        "id": "sJjgEAfmv50E"
      },
      "execution_count": 104,
      "outputs": []
    },
    {
      "cell_type": "code",
      "source": [
        "rnn_model = create_model(\n",
        "    vocab_size=tokenizer.max_vocab_size,\n",
        "    phrase_size=x_train.shape[1],\n",
        "    embedding_dim=16,\n",
        "    rnn_units=16,\n",
        "    batch_size=32)\n",
        "\n",
        "rnn_model.summary()\n"
      ],
      "metadata": {
        "colab": {
          "base_uri": "https://localhost:8080/"
        },
        "id": "OxIV6qAnxmZG",
        "outputId": "26f05e41-9acc-41d9-b484-9de4076b76fe"
      },
      "execution_count": 105,
      "outputs": [
        {
          "output_type": "stream",
          "name": "stderr",
          "text": [
            "WARNING:tensorflow:Layer lstm_2 will not use cuDNN kernels since it doesn't meet the criteria. It will use a generic GPU kernel as fallback when running on GPU.\n"
          ]
        },
        {
          "output_type": "stream",
          "name": "stdout",
          "text": [
            "Model: \"model_2\"\n",
            "_________________________________________________________________\n",
            " Layer (type)                Output Shape              Param #   \n",
            "=================================================================\n",
            " input_3 (InputLayer)        [(None, 30)]              0         \n",
            "                                                                 \n",
            " embedding_2 (Embedding)     (None, 30, 16)            160000    \n",
            "                                                                 \n",
            " lstm_2 (LSTM)               (None, 16)                2112      \n",
            "                                                                 \n",
            " dropout_2 (Dropout)         (None, 16)                0         \n",
            "                                                                 \n",
            " dense_3 (Dense)             (None, 1)                 17        \n",
            "                                                                 \n",
            "=================================================================\n",
            "Total params: 162,129\n",
            "Trainable params: 162,129\n",
            "Non-trainable params: 0\n",
            "_________________________________________________________________\n"
          ]
        }
      ]
    },
    {
      "cell_type": "code",
      "source": [
        "history_rnn = rnn_model.fit(x_train, y_train, batch_size=32, epochs=10, validation_data=(x_val, y_val))\n",
        "plot_loss_curves(history_rnn)\n"
      ],
      "metadata": {
        "colab": {
          "base_uri": "https://localhost:8080/",
          "height": 1000
        },
        "id": "SHvlnXorx3Un",
        "outputId": "a799cc8e-0aee-42d8-b8ce-a6bb3f28963b"
      },
      "execution_count": 106,
      "outputs": [
        {
          "output_type": "stream",
          "name": "stdout",
          "text": [
            "Epoch 1/10\n",
            "191/191 [==============================] - 44s 211ms/step - loss: 0.6442 - accuracy: 0.6266 - val_loss: 0.5690 - val_accuracy: 0.7177\n",
            "Epoch 2/10\n",
            "191/191 [==============================] - 38s 198ms/step - loss: 0.4604 - accuracy: 0.8151 - val_loss: 0.4478 - val_accuracy: 0.7984\n",
            "Epoch 3/10\n",
            "191/191 [==============================] - 36s 189ms/step - loss: 0.3664 - accuracy: 0.8680 - val_loss: 0.4522 - val_accuracy: 0.8004\n",
            "Epoch 4/10\n",
            "191/191 [==============================] - 36s 187ms/step - loss: 0.3115 - accuracy: 0.8903 - val_loss: 0.4488 - val_accuracy: 0.7984\n",
            "Epoch 5/10\n",
            "191/191 [==============================] - 36s 187ms/step - loss: 0.2668 - accuracy: 0.9117 - val_loss: 0.5286 - val_accuracy: 0.7827\n",
            "Epoch 6/10\n",
            "191/191 [==============================] - 34s 178ms/step - loss: 0.2349 - accuracy: 0.9232 - val_loss: 0.6391 - val_accuracy: 0.7794\n",
            "Epoch 7/10\n",
            "191/191 [==============================] - 35s 181ms/step - loss: 0.2100 - accuracy: 0.9358 - val_loss: 0.6006 - val_accuracy: 0.7853\n",
            "Epoch 8/10\n",
            "191/191 [==============================] - 32s 166ms/step - loss: 0.2014 - accuracy: 0.9346 - val_loss: 0.6513 - val_accuracy: 0.7663\n",
            "Epoch 9/10\n",
            "191/191 [==============================] - 31s 161ms/step - loss: 0.1815 - accuracy: 0.9468 - val_loss: 0.5589 - val_accuracy: 0.7945\n",
            "Epoch 10/10\n",
            "191/191 [==============================] - 28s 145ms/step - loss: 0.1615 - accuracy: 0.9504 - val_loss: 0.6561 - val_accuracy: 0.7892\n"
          ]
        },
        {
          "output_type": "display_data",
          "data": {
            "text/plain": [
              "<Figure size 640x480 with 1 Axes>"
            ],
            "image/png": "[encoded data removed]"
          },
          "metadata": {}
        },
        {
          "output_type": "display_data",
          "data": {
            "text/plain": [
              "<Figure size 640x480 with 1 Axes>"
            ],
            "image/png": "[encoded data removed]"
          },
          "metadata": {}
        }
      ]
    },
    {
      "cell_type": "markdown",
      "source": [
        "##Create a model using Bidirectional LSTM"
      ],
      "metadata": {
        "id": "LfQyqacKZo0g"
      }
    },
    {
      "cell_type": "code",
      "source": [
        "from tensorflow.keras.layers import Embedding, LSTM, Dense, Bidirectional, Input, Dropout\n",
        "from tensorflow.keras.models import Model\n",
        "\n",
        "def create_bidiretional_lstm(vocab_size, phrase_size, embedding_dim, rnn_units, batch_size):\n",
        "    inputs = Input(shape=(phrase_size,))\n",
        "    x = Embedding(vocab_size, embedding_dim, batch_input_shape=[batch_size, None])(inputs)\n",
        "    x = Bidirectional(LSTM(rnn_units))(x)\n",
        "    x = Dropout(0.5)(x)\n",
        "    x = Dense(1, activation=\"sigmoid\")(x)\n",
        "    model = Model(inputs=inputs, outputs=x)\n",
        "\n",
        "    model.compile(loss=\"binary_crossentropy\", optimizer=\"Adam\", metrics=[\"accuracy\"])\n",
        "\n",
        "    return model"
      ],
      "metadata": {
        "id": "xbC7GQn4ZwsA"
      },
      "execution_count": 114,
      "outputs": []
    },
    {
      "cell_type": "code",
      "source": [
        "b_lstm_model = create_bidiretional_lstm(\n",
        "    vocab_size=tokenizer.max_vocab_size,\n",
        "    phrase_size=x_train.shape[1],\n",
        "    embedding_dim=16,\n",
        "    rnn_units=16,\n",
        "    batch_size=32)\n",
        "\n",
        "b_lstm_model.summary()"
      ],
      "metadata": {
        "colab": {
          "base_uri": "https://localhost:8080/"
        },
        "id": "1M5UXwBDZ8Yo",
        "outputId": "333b18b4-5d21-4689-9248-d4fa06ecd1ed"
      },
      "execution_count": 115,
      "outputs": [
        {
          "output_type": "stream",
          "name": "stdout",
          "text": [
            "Model: \"model_5\"\n",
            "_________________________________________________________________\n",
            " Layer (type)                Output Shape              Param #   \n",
            "=================================================================\n",
            " input_7 (InputLayer)        [(None, 30)]              0         \n",
            "                                                                 \n",
            " embedding_6 (Embedding)     (None, 30, 16)            160000    \n",
            "                                                                 \n",
            " bidirectional_2 (Bidirectio  (None, 32)               4224      \n",
            " nal)                                                            \n",
            "                                                                 \n",
            " dropout_5 (Dropout)         (None, 32)                0         \n",
            "                                                                 \n",
            " dense_6 (Dense)             (None, 1)                 33        \n",
            "                                                                 \n",
            "=================================================================\n",
            "Total params: 164,257\n",
            "Trainable params: 164,257\n",
            "Non-trainable params: 0\n",
            "_________________________________________________________________\n"
          ]
        }
      ]
    },
    {
      "cell_type": "code",
      "source": [
        "MC_b_lsmt = tf.keras.callbacks.ModelCheckpoint(\"b_lstm.h5\", monitor=\"val_accuracy\", save_best_only=True)\n",
        "ES_b_lsmt = tf.keras.callbacks.EarlyStopping(monitor=\"val_accuracy\", patience=6, restore_best_weights=True)\n",
        "LRC_b_lsmt = tf.keras.callbacks.ReduceLROnPlateau(monitor=\"val_accuracy\", patience=3, factor=0.2, min_lr=0.00001)\n",
        "\n",
        "history_b_lstm = b_lstm_model.fit(\n",
        "    x_train,\n",
        "    y_train,\n",
        "    batch_size=32,\n",
        "    epochs=100, validation_data=(x_val, y_val),\n",
        "    callbacks = [MC_b_lsmt, ES_b_lsmt, LRC_b_lsmt])\n",
        "plot_loss_curves(history_b_lstm)"
      ],
      "metadata": {
        "colab": {
          "base_uri": "https://localhost:8080/",
          "height": 1000
        },
        "id": "9bP3o9S_aD0_",
        "outputId": "0731a5e4-58b9-427c-f2fd-0a759a86ee6a"
      },
      "execution_count": 116,
      "outputs": [
        {
          "output_type": "stream",
          "name": "stdout",
          "text": [
            "Epoch 1/100\n",
            "191/191 [==============================] - 62s 73ms/step - loss: 0.6337 - accuracy: 0.6335 - val_loss: 0.5049 - val_accuracy: 0.7702 - lr: 0.0010\n",
            "Epoch 2/100\n",
            "191/191 [==============================] - 4s 20ms/step - loss: 0.4019 - accuracy: 0.8355 - val_loss: 0.4550 - val_accuracy: 0.8024 - lr: 0.0010\n",
            "Epoch 3/100\n",
            "191/191 [==============================] - 4s 21ms/step - loss: 0.2783 - accuracy: 0.8969 - val_loss: 0.4867 - val_accuracy: 0.8004 - lr: 0.0010\n",
            "Epoch 4/100\n",
            "191/191 [==============================] - 2s 13ms/step - loss: 0.2066 - accuracy: 0.9292 - val_loss: 0.5779 - val_accuracy: 0.7833 - lr: 0.0010\n",
            "Epoch 5/100\n",
            "191/191 [==============================] - 2s 10ms/step - loss: 0.1550 - accuracy: 0.9493 - val_loss: 0.6547 - val_accuracy: 0.7892 - lr: 0.0010\n",
            "Epoch 6/100\n",
            "191/191 [==============================] - 2s 12ms/step - loss: 0.1014 - accuracy: 0.9706 - val_loss: 0.6948 - val_accuracy: 0.7800 - lr: 2.0000e-04\n",
            "Epoch 7/100\n",
            "191/191 [==============================] - 2s 12ms/step - loss: 0.0895 - accuracy: 0.9750 - val_loss: 0.7044 - val_accuracy: 0.7820 - lr: 2.0000e-04\n",
            "Epoch 8/100\n",
            "191/191 [==============================] - 3s 14ms/step - loss: 0.0822 - accuracy: 0.9768 - val_loss: 0.7402 - val_accuracy: 0.7833 - lr: 2.0000e-04\n"
          ]
        },
        {
          "output_type": "display_data",
          "data": {
            "text/plain": [
              "<Figure size 640x480 with 1 Axes>"
            ],
            "image/png": "[encoded data removed]"
          },
          "metadata": {}
        },
        {
          "output_type": "display_data",
          "data": {
            "text/plain": [
              "<Figure size 640x480 with 1 Axes>"
            ],
            "image/png": "[encoded data removed]"
          },
          "metadata": {}
        }
      ]
    },
    {
      "cell_type": "markdown",
      "source": [
        "### Create model using Conv1D layer"
      ],
      "metadata": {
        "id": "A7Gc0iq1SZ3n"
      }
    },
    {
      "cell_type": "code",
      "source": [
        "from tensorflow.keras.layers import Conv1D, MaxPooling1D, Flatten\n",
        "\n",
        "def create_model_cnn1(vocab_size, phrase_size, embedding_dim, rnn_units, batch_size= 32):\n",
        "    inputs = Input(shape=(phrase_size,))\n",
        "    x = Embedding(vocab_size, embedding_dim, batch_input_shape=[batch_size, None])(inputs)\n",
        "    x = Conv1D(32, 3, activation=\"relu\")(x)\n",
        "    x = MaxPooling1D(8)(x)\n",
        "    x = LSTM(rnn_units, dropout = 0.5, recurrent_dropout=0.5)(x)\n",
        "    x = Dense(8, activation=\"sigmoid\")(x)\n",
        "    x = Dropout(0.5)(x)\n",
        "    x = Dense(1, activation=\"sigmoid\")(x)\n",
        "    model = Model(inputs=inputs, outputs=x)\n",
        "\n",
        "    model.compile(loss=\"binary_crossentropy\", optimizer=tf.keras.optimizers.Adam(0.001), metrics=[\"accuracy\"])\n",
        "\n",
        "    return model"
      ],
      "metadata": {
        "id": "Prwy_L0cZzBY"
      },
      "execution_count": 117,
      "outputs": []
    },
    {
      "cell_type": "code",
      "source": [
        "rnn_cnn = create_model_cnn1(\n",
        "    vocab_size=tokenizer.max_vocab_size,\n",
        "    phrase_size=x_train.shape[1],\n",
        "    embedding_dim=16,\n",
        "    rnn_units=16)\n",
        "\n",
        "rnn_cnn.summary()"
      ],
      "metadata": {
        "colab": {
          "base_uri": "https://localhost:8080/"
        },
        "id": "Me1I86UfTQHP",
        "outputId": "c47d9908-e908-4c78-8f78-084836a6ae94"
      },
      "execution_count": 118,
      "outputs": [
        {
          "output_type": "stream",
          "name": "stderr",
          "text": [
            "WARNING:tensorflow:Layer lstm_7 will not use cuDNN kernels since it doesn't meet the criteria. It will use a generic GPU kernel as fallback when running on GPU.\n"
          ]
        },
        {
          "output_type": "stream",
          "name": "stdout",
          "text": [
            "Model: \"model_6\"\n",
            "_________________________________________________________________\n",
            " Layer (type)                Output Shape              Param #   \n",
            "=================================================================\n",
            " input_8 (InputLayer)        [(None, 30)]              0         \n",
            "                                                                 \n",
            " embedding_7 (Embedding)     (None, 30, 16)            160000    \n",
            "                                                                 \n",
            " conv1d_1 (Conv1D)           (None, 28, 32)            1568      \n",
            "                                                                 \n",
            " max_pooling1d_1 (MaxPooling  (None, 3, 32)            0         \n",
            " 1D)                                                             \n",
            "                                                                 \n",
            " lstm_7 (LSTM)               (None, 16)                3136      \n",
            "                                                                 \n",
            " dense_7 (Dense)             (None, 8)                 136       \n",
            "                                                                 \n",
            " dropout_6 (Dropout)         (None, 8)                 0         \n",
            "                                                                 \n",
            " dense_8 (Dense)             (None, 1)                 9         \n",
            "                                                                 \n",
            "=================================================================\n",
            "Total params: 164,849\n",
            "Trainable params: 164,849\n",
            "Non-trainable params: 0\n",
            "_________________________________________________________________\n"
          ]
        }
      ]
    },
    {
      "cell_type": "code",
      "source": [
        "from tensorflow.keras.callbacks import ModelCheckpoint\n",
        "\n",
        "MC = ModelCheckpoint(\"rnn_cnn.h5\", monitor=\"val_accuracy\", save_best_only=True)\n",
        "ES = tf.keras.callbacks.EarlyStopping(monitor=\"val_accuracy\", patience=6, restore_best_weights=True)\n",
        "LRC = tf.keras.callbacks.ReduceLROnPlateau(monitor=\"val_accuracy\", patience=3, factor=0.2, min_lr=0.00001)\n",
        "\n",
        "history_rnn_cnn = rnn_cnn.fit(\n",
        "    x_train, y_train,\n",
        "    batch_size=32, epochs=100,\n",
        "    validation_data=(x_val, y_val),\n",
        "    callbacks = [MC, ES, LRC])\n",
        "plot_loss_curves(history_rnn_cnn)"
      ],
      "metadata": {
        "colab": {
          "base_uri": "https://localhost:8080/",
          "height": 1000
        },
        "id": "04rv4HcoTWk3",
        "outputId": "5e070a5c-0f3c-445d-ca61-315307125a34"
      },
      "execution_count": 119,
      "outputs": [
        {
          "output_type": "stream",
          "name": "stdout",
          "text": [
            "Epoch 1/100\n",
            "191/191 [==============================] - 19s 79ms/step - loss: 0.7640 - accuracy: 0.5087 - val_loss: 0.6723 - val_accuracy: 0.5765 - lr: 0.0010\n",
            "Epoch 2/100\n",
            "191/191 [==============================] - 7s 35ms/step - loss: 0.6425 - accuracy: 0.6246 - val_loss: 0.5151 - val_accuracy: 0.7728 - lr: 0.0010\n",
            "Epoch 3/100\n",
            "191/191 [==============================] - 7s 35ms/step - loss: 0.4929 - accuracy: 0.7962 - val_loss: 0.4775 - val_accuracy: 0.7866 - lr: 0.0010\n",
            "Epoch 4/100\n",
            "191/191 [==============================] - 5s 28ms/step - loss: 0.4046 - accuracy: 0.8568 - val_loss: 0.4890 - val_accuracy: 0.7879 - lr: 0.0010\n",
            "Epoch 5/100\n",
            "191/191 [==============================] - 5s 26ms/step - loss: 0.3589 - accuracy: 0.8880 - val_loss: 0.4838 - val_accuracy: 0.7892 - lr: 0.0010\n",
            "Epoch 6/100\n",
            "191/191 [==============================] - 5s 28ms/step - loss: 0.3029 - accuracy: 0.9110 - val_loss: 0.5110 - val_accuracy: 0.7800 - lr: 0.0010\n",
            "Epoch 7/100\n",
            "191/191 [==============================] - 5s 24ms/step - loss: 0.2695 - accuracy: 0.9258 - val_loss: 0.5478 - val_accuracy: 0.7814 - lr: 0.0010\n",
            "Epoch 8/100\n",
            "191/191 [==============================] - 5s 28ms/step - loss: 0.2493 - accuracy: 0.9310 - val_loss: 0.5819 - val_accuracy: 0.7741 - lr: 0.0010\n",
            "Epoch 9/100\n",
            "191/191 [==============================] - 4s 22ms/step - loss: 0.2184 - accuracy: 0.9461 - val_loss: 0.5951 - val_accuracy: 0.7728 - lr: 2.0000e-04\n",
            "Epoch 10/100\n",
            "191/191 [==============================] - 4s 23ms/step - loss: 0.2231 - accuracy: 0.9420 - val_loss: 0.6029 - val_accuracy: 0.7715 - lr: 2.0000e-04\n",
            "Epoch 11/100\n",
            "191/191 [==============================] - 5s 28ms/step - loss: 0.2095 - accuracy: 0.9516 - val_loss: 0.6125 - val_accuracy: 0.7722 - lr: 2.0000e-04\n"
          ]
        },
        {
          "output_type": "display_data",
          "data": {
            "text/plain": [
              "<Figure size 640x480 with 1 Axes>"
            ],
            "image/png": "[encoded data removed]"
          },
          "metadata": {}
        },
        {
          "output_type": "display_data",
          "data": {
            "text/plain": [
              "<Figure size 640x480 with 1 Axes>"
            ],
            "image/png": "[encoded data removed]"
          },
          "metadata": {}
        }
      ]
    },
    {
      "cell_type": "markdown",
      "source": [
        "### Compare models"
      ],
      "metadata": {
        "id": "VISI3bCzam4T"
      }
    },
    {
      "cell_type": "code",
      "source": [
        "loss1, acc1 = rnn_model.evaluate(x_val, y_val)\n",
        "loss2, acc2 = b_lstm_model.evaluate(x_val, y_val)\n",
        "loss3, acc3 = rnn_cnn.evaluate(x_val, y_val)"
      ],
      "metadata": {
        "colab": {
          "base_uri": "https://localhost:8080/"
        },
        "id": "31QTDCiMalzd",
        "outputId": "3fda8a09-a22e-493c-f1ce-8e84a33e4fdc"
      },
      "execution_count": 120,
      "outputs": [
        {
          "output_type": "stream",
          "name": "stdout",
          "text": [
            "48/48 [==============================] - 1s 16ms/step - loss: 0.6561 - accuracy: 0.7892\n",
            "48/48 [==============================] - 0s 5ms/step - loss: 0.4550 - accuracy: 0.8024\n",
            "48/48 [==============================] - 0s 5ms/step - loss: 0.4838 - accuracy: 0.7892\n"
          ]
        }
      ]
    },
    {
      "cell_type": "markdown",
      "source": [
        "### Saving the models and tokenizers"
      ],
      "metadata": {
        "id": "M4Eg7Tl3_GV3"
      }
    },
    {
      "cell_type": "code",
      "source": [
        "import pickle\n",
        "\n",
        "# saving\n",
        "with open('tokenizer.pickle', 'wb') as handle:\n",
        "    pickle.dump(tokenizer, handle, protocol=pickle.HIGHEST_PROTOCOL)\n"
      ],
      "metadata": {
        "id": "bRyMU6cO-0M1"
      },
      "execution_count": 40,
      "outputs": []
    },
    {
      "cell_type": "code",
      "source": [
        "rnn_cnn.save(\"model_rnn_cnn.h5\")\n",
        "rnn_model.save(\"model_rnn.h5\")\n",
        "b_lstm_model.save(\"model_b_lstm.h5\")"
      ],
      "metadata": {
        "id": "QM3juO1y_70u"
      },
      "execution_count": 123,
      "outputs": []
    },
    {
      "cell_type": "code",
      "source": [
        "text_not_disaster=\"Life like an ensemble: take the best choices from others and make your own\"\n",
        "text_disaster=\"Reports that the smoke in Beirut sky contains nitric acid, which is toxic. Please share and refrain from stepping outside unless urgent. #Lebanon\"\n"
      ],
      "metadata": {
        "id": "BrCEwHoIAR5B"
      },
      "execution_count": 124,
      "outputs": []
    },
    {
      "cell_type": "code",
      "source": [
        "token_not_disaster = tokenizer.transform([text_not_disaster])\n",
        "token_disaster = tokenizer.transform([text_disaster])\n"
      ],
      "metadata": {
        "id": "T-Jwzx7eAre8"
      },
      "execution_count": 80,
      "outputs": []
    },
    {
      "cell_type": "code",
      "source": [
        "token_not_disaster.shape, token_disaster.shape\n"
      ],
      "metadata": {
        "colab": {
          "base_uri": "https://localhost:8080/"
        },
        "id": "eGsnkKNQBeOp",
        "outputId": "de1f732f-c36b-4f3a-f799-1962fa3a2b71"
      },
      "execution_count": 81,
      "outputs": [
        {
          "output_type": "execute_result",
          "data": {
            "text/plain": [
              "((1, 30), (1, 30))"
            ]
          },
          "metadata": {},
          "execution_count": 81
        }
      ]
    },
    {
      "cell_type": "code",
      "source": [
        "# rnn predicts\n",
        "pr_not_disaster = rnn_model.predict(token_not_disaster)\n",
        "pr_disaster = rnn_model.predict(token_disaster)\n",
        "\n",
        "pr_not_disaster, pr_disaster"
      ],
      "metadata": {
        "colab": {
          "base_uri": "https://localhost:8080/"
        },
        "id": "4-6N4BseBsgZ",
        "outputId": "59525cbd-375d-4014-f5a0-7fe581e462a8"
      },
      "execution_count": 82,
      "outputs": [
        {
          "output_type": "stream",
          "name": "stdout",
          "text": [
            "1/1 [==============================] - 0s 28ms/step\n",
            "1/1 [==============================] - 0s 25ms/step\n"
          ]
        },
        {
          "output_type": "execute_result",
          "data": {
            "text/plain": [
              "(array([[0.00333882]], dtype=float32), array([[0.99865603]], dtype=float32))"
            ]
          },
          "metadata": {},
          "execution_count": 82
        }
      ]
    },
    {
      "cell_type": "code",
      "source": [
        "# rnn_cnn predicts\n",
        "\n",
        "pr_not_disaster_cnn = rnn_cnn.predict(token_not_disaster)\n",
        "pr_disaster_cnn = rnn_cnn.predict(token_disaster)\n",
        "\n",
        "pr_not_disaster_cnn, pr_disaster_cnn"
      ],
      "metadata": {
        "colab": {
          "base_uri": "https://localhost:8080/"
        },
        "id": "V39Po1TSG7Yf",
        "outputId": "2315eccf-bcbf-4586-a7fa-58ea78d2a326"
      },
      "execution_count": 83,
      "outputs": [
        {
          "output_type": "stream",
          "name": "stdout",
          "text": [
            "1/1 [==============================] - 0s 20ms/step\n",
            "1/1 [==============================] - 0s 18ms/step\n"
          ]
        },
        {
          "output_type": "execute_result",
          "data": {
            "text/plain": [
              "(array([[0.18267798]], dtype=float32), array([[0.68248236]], dtype=float32))"
            ]
          },
          "metadata": {},
          "execution_count": 83
        }
      ]
    },
    {
      "cell_type": "code",
      "source": [
        "# bidirectional predicts\n",
        "pr_not_disaster_b = b_lstm_model.predict(token_not_disaster)\n",
        "pr_disaster_b = b_lstm_model.predict(token_disaster)\n",
        "\n",
        "pr_not_disaster_b, pr_disaster_b"
      ],
      "metadata": {
        "colab": {
          "base_uri": "https://localhost:8080/"
        },
        "id": "28qE3NNciVFJ",
        "outputId": "1a3edae3-fdba-4129-a983-833ba682c483"
      },
      "execution_count": 126,
      "outputs": [
        {
          "output_type": "stream",
          "name": "stdout",
          "text": [
            "1/1 [==============================] - 1s 751ms/step\n",
            "1/1 [==============================] - 0s 23ms/step\n"
          ]
        },
        {
          "output_type": "execute_result",
          "data": {
            "text/plain": [
              "(array([[0.11991965]], dtype=float32), array([[0.9078671]], dtype=float32))"
            ]
          },
          "metadata": {},
          "execution_count": 126
        }
      ]
    },
    {
      "cell_type": "markdown",
      "source": [],
      "metadata": {
        "id": "0pHIW4LoWzkQ"
      }
    }
  ]
}