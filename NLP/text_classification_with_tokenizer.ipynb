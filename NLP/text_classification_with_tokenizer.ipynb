{
  "nbformat": 4,
  "nbformat_minor": 0,
  "metadata": {
    "colab": {
      "provenance": [],
      "gpuType": "T4",
      "authorship_tag": "ABX9TyM0U4Q6hyd+0g57duQdvJ67",
      "include_colab_link": true
    },
    "kernelspec": {
      "name": "python3",
      "display_name": "Python 3"
    },
    "language_info": {
      "name": "python"
    },
    "accelerator": "GPU"
  },
  "cells": [
    {
      "cell_type": "markdown",
      "metadata": {
        "id": "view-in-github",
        "colab_type": "text"
      },
      "source": [
        "<a href=\"https://colab.research.google.com/github/ryzhokhina/Tensorflow-Dev-Exam-Preparation/blob/main/NLP/text_classification_with_tokenizer.ipynb\" target=\"_parent\"><img src=\"https://colab.research.google.com/assets/colab-badge.svg\" alt=\"Open In Colab\"/></a>"
      ]
    },
    {
      "cell_type": "code",
      "execution_count": 1,
      "metadata": {
        "id": "96gZgdbifc9_"
      },
      "outputs": [],
      "source": [
        "import tensorflow as tf\n",
        "import numpy as np\n",
        "import matplotlib.pyplot as plt\n",
        "import pandas as pd\n",
        "import os"
      ]
    },
    {
      "cell_type": "code",
      "source": [
        "!nvidia-smi"
      ],
      "metadata": {
        "colab": {
          "base_uri": "https://localhost:8080/"
        },
        "id": "cUXTr_G4fnVp",
        "outputId": "6e50a845-0448-43a5-b691-646435cc2b9e"
      },
      "execution_count": 2,
      "outputs": [
        {
          "output_type": "stream",
          "name": "stdout",
          "text": [
            "Wed Jul 26 04:23:01 2023       \n",
            "+-----------------------------------------------------------------------------+\n",
            "| NVIDIA-SMI 525.105.17   Driver Version: 525.105.17   CUDA Version: 12.0     |\n",
            "|-------------------------------+----------------------+----------------------+\n",
            "| GPU  Name        Persistence-M| Bus-Id        Disp.A | Volatile Uncorr. ECC |\n",
            "| Fan  Temp  Perf  Pwr:Usage/Cap|         Memory-Usage | GPU-Util  Compute M. |\n",
            "|                               |                      |               MIG M. |\n",
            "|===============================+======================+======================|\n",
            "|   0  Tesla T4            Off  | 00000000:00:04.0 Off |                    0 |\n",
            "| N/A   37C    P8     9W /  70W |      0MiB / 15360MiB |      0%      Default |\n",
            "|                               |                      |                  N/A |\n",
            "+-------------------------------+----------------------+----------------------+\n",
            "                                                                               \n",
            "+-----------------------------------------------------------------------------+\n",
            "| Processes:                                                                  |\n",
            "|  GPU   GI   CI        PID   Type   Process name                  GPU Memory |\n",
            "|        ID   ID                                                   Usage      |\n",
            "|=============================================================================|\n",
            "|  No running processes found                                                 |\n",
            "+-----------------------------------------------------------------------------+\n"
          ]
        }
      ]
    },
    {
      "cell_type": "code",
      "source": [
        "!wget https://raw.githubusercontent.com/mrdbourke/tensorflow-deep-learning/main/extras/helper_functions.py"
      ],
      "metadata": {
        "colab": {
          "base_uri": "https://localhost:8080/"
        },
        "id": "gyn-SNWIjb0A",
        "outputId": "63420bd3-794d-4bf2-d709-3282759a3e1f"
      },
      "execution_count": 3,
      "outputs": [
        {
          "output_type": "stream",
          "name": "stdout",
          "text": [
            "--2023-07-26 04:23:01--  https://raw.githubusercontent.com/mrdbourke/tensorflow-deep-learning/main/extras/helper_functions.py\n",
            "Resolving raw.githubusercontent.com (raw.githubusercontent.com)... 185.199.108.133, 185.199.109.133, 185.199.110.133, ...\n",
            "Connecting to raw.githubusercontent.com (raw.githubusercontent.com)|185.199.108.133|:443... connected.\n",
            "HTTP request sent, awaiting response... 200 OK\n",
            "Length: 10246 (10K) [text/plain]\n",
            "Saving to: ‘helper_functions.py’\n",
            "\n",
            "helper_functions.py 100%[===================>]  10.01K  --.-KB/s    in 0s      \n",
            "\n",
            "2023-07-26 04:23:01 (92.3 MB/s) - ‘helper_functions.py’ saved [10246/10246]\n",
            "\n"
          ]
        }
      ]
    },
    {
      "cell_type": "code",
      "source": [
        "from helper_functions import create_tensorboard_callback, plot_loss_curves, unzip_data"
      ],
      "metadata": {
        "id": "O7pU-SqdjgVh"
      },
      "execution_count": 4,
      "outputs": []
    },
    {
      "cell_type": "markdown",
      "source": [
        "#Load data"
      ],
      "metadata": {
        "id": "ZO77RALYf1Bf"
      }
    },
    {
      "cell_type": "code",
      "source": [
        "# Download data (same as from Kaggle)\n",
        "!wget \"https://storage.googleapis.com/ztm_tf_course/nlp_getting_started.zip\"\n",
        "\n",
        "# Unzip data\n",
        "unzip_data(\"nlp_getting_started.zip\")"
      ],
      "metadata": {
        "colab": {
          "base_uri": "https://localhost:8080/"
        },
        "id": "CQy325kvf0ce",
        "outputId": "14313f2c-7254-44c4-f2e9-c1bafe46a660"
      },
      "execution_count": 5,
      "outputs": [
        {
          "output_type": "stream",
          "name": "stdout",
          "text": [
            "--2023-07-26 04:23:03--  https://storage.googleapis.com/ztm_tf_course/nlp_getting_started.zip\n",
            "Resolving storage.googleapis.com (storage.googleapis.com)... 142.250.148.128, 209.85.200.128, 142.251.172.128, ...\n",
            "Connecting to storage.googleapis.com (storage.googleapis.com)|142.250.148.128|:443... connected.\n",
            "HTTP request sent, awaiting response... 200 OK\n",
            "Length: 607343 (593K) [application/zip]\n",
            "Saving to: ‘nlp_getting_started.zip’\n",
            "\n",
            "\rnlp_getting_started   0%[                    ]       0  --.-KB/s               \rnlp_getting_started 100%[===================>] 593.11K  --.-KB/s    in 0.009s  \n",
            "\n",
            "2023-07-26 04:23:03 (62.0 MB/s) - ‘nlp_getting_started.zip’ saved [607343/607343]\n",
            "\n"
          ]
        }
      ]
    },
    {
      "cell_type": "code",
      "source": [
        "train_ds = pd.read_csv(\"train.csv\")\n",
        "test_ds = pd.read_csv(\"test.csv\")\n",
        "\n",
        "print(train_ds.shape)\n",
        "print(test_ds.shape)\n"
      ],
      "metadata": {
        "colab": {
          "base_uri": "https://localhost:8080/"
        },
        "id": "DkCztyJjnD3E",
        "outputId": "57374eb4-7786-4942-82c5-246307c6c07f"
      },
      "execution_count": 6,
      "outputs": [
        {
          "output_type": "stream",
          "name": "stdout",
          "text": [
            "(7613, 5)\n",
            "(3263, 4)\n"
          ]
        }
      ]
    },
    {
      "cell_type": "code",
      "source": [
        "train_ds.head()"
      ],
      "metadata": {
        "colab": {
          "base_uri": "https://localhost:8080/",
          "height": 206
        },
        "id": "XF1VrgBXnPjU",
        "outputId": "d5ae0cec-a1d4-43df-dfd3-9ba780645ec7"
      },
      "execution_count": 7,
      "outputs": [
        {
          "output_type": "execute_result",
          "data": {
            "text/plain": [
              "   id keyword location                                               text  \\\n",
              "0   1     NaN      NaN  Our Deeds are the Reason of this #earthquake M...   \n",
              "1   4     NaN      NaN             Forest fire near La Ronge Sask. Canada   \n",
              "2   5     NaN      NaN  All residents asked to 'shelter in place' are ...   \n",
              "3   6     NaN      NaN  13,000 people receive #wildfires evacuation or...   \n",
              "4   7     NaN      NaN  Just got sent this photo from Ruby #Alaska as ...   \n",
              "\n",
              "   target  \n",
              "0       1  \n",
              "1       1  \n",
              "2       1  \n",
              "3       1  \n",
              "4       1  "
            ],
            "text/html": [
              "\n",
              "\n",
              "  <div id=\"df-228494a1-4c1c-481a-bd71-bc3617ba56f0\">\n",
              "    <div class=\"colab-df-container\">\n",
              "      <div>\n",
              "<style scoped>\n",
              "    .dataframe tbody tr th:only-of-type {\n",
              "        vertical-align: middle;\n",
              "    }\n",
              "\n",
              "    .dataframe tbody tr th {\n",
              "        vertical-align: top;\n",
              "    }\n",
              "\n",
              "    .dataframe thead th {\n",
              "        text-align: right;\n",
              "    }\n",
              "</style>\n",
              "<table border=\"1\" class=\"dataframe\">\n",
              "  <thead>\n",
              "    <tr style=\"text-align: right;\">\n",
              "      <th></th>\n",
              "      <th>id</th>\n",
              "      <th>keyword</th>\n",
              "      <th>location</th>\n",
              "      <th>text</th>\n",
              "      <th>target</th>\n",
              "    </tr>\n",
              "  </thead>\n",
              "  <tbody>\n",
              "    <tr>\n",
              "      <th>0</th>\n",
              "      <td>1</td>\n",
              "      <td>NaN</td>\n",
              "      <td>NaN</td>\n",
              "      <td>Our Deeds are the Reason of this #earthquake M...</td>\n",
              "      <td>1</td>\n",
              "    </tr>\n",
              "    <tr>\n",
              "      <th>1</th>\n",
              "      <td>4</td>\n",
              "      <td>NaN</td>\n",
              "      <td>NaN</td>\n",
              "      <td>Forest fire near La Ronge Sask. Canada</td>\n",
              "      <td>1</td>\n",
              "    </tr>\n",
              "    <tr>\n",
              "      <th>2</th>\n",
              "      <td>5</td>\n",
              "      <td>NaN</td>\n",
              "      <td>NaN</td>\n",
              "      <td>All residents asked to 'shelter in place' are ...</td>\n",
              "      <td>1</td>\n",
              "    </tr>\n",
              "    <tr>\n",
              "      <th>3</th>\n",
              "      <td>6</td>\n",
              "      <td>NaN</td>\n",
              "      <td>NaN</td>\n",
              "      <td>13,000 people receive #wildfires evacuation or...</td>\n",
              "      <td>1</td>\n",
              "    </tr>\n",
              "    <tr>\n",
              "      <th>4</th>\n",
              "      <td>7</td>\n",
              "      <td>NaN</td>\n",
              "      <td>NaN</td>\n",
              "      <td>Just got sent this photo from Ruby #Alaska as ...</td>\n",
              "      <td>1</td>\n",
              "    </tr>\n",
              "  </tbody>\n",
              "</table>\n",
              "</div>\n",
              "      <button class=\"colab-df-convert\" onclick=\"convertToInteractive('df-228494a1-4c1c-481a-bd71-bc3617ba56f0')\"\n",
              "              title=\"Convert this dataframe to an interactive table.\"\n",
              "              style=\"display:none;\">\n",
              "\n",
              "  <svg xmlns=\"http://www.w3.org/2000/svg\" height=\"24px\"viewBox=\"0 0 24 24\"\n",
              "       width=\"24px\">\n",
              "    <path d=\"M0 0h24v24H0V0z\" fill=\"none\"/>\n",
              "    <path d=\"M18.56 5.44l.94 2.06.94-2.06 2.06-.94-2.06-.94-.94-2.06-.94 2.06-2.06.94zm-11 1L8.5 8.5l.94-2.06 2.06-.94-2.06-.94L8.5 2.5l-.94 2.06-2.06.94zm10 10l.94 2.06.94-2.06 2.06-.94-2.06-.94-.94-2.06-.94 2.06-2.06.94z\"/><path d=\"M17.41 7.96l-1.37-1.37c-.4-.4-.92-.59-1.43-.59-.52 0-1.04.2-1.43.59L10.3 9.45l-7.72 7.72c-.78.78-.78 2.05 0 2.83L4 21.41c.39.39.9.59 1.41.59.51 0 1.02-.2 1.41-.59l7.78-7.78 2.81-2.81c.8-.78.8-2.07 0-2.86zM5.41 20L4 18.59l7.72-7.72 1.47 1.35L5.41 20z\"/>\n",
              "  </svg>\n",
              "      </button>\n",
              "\n",
              "\n",
              "\n",
              "    <div id=\"df-3159d9ff-3149-440e-94bb-19818c68e367\">\n",
              "      <button class=\"colab-df-quickchart\" onclick=\"quickchart('df-3159d9ff-3149-440e-94bb-19818c68e367')\"\n",
              "              title=\"Suggest charts.\"\n",
              "              style=\"display:none;\">\n",
              "\n",
              "<svg xmlns=\"http://www.w3.org/2000/svg\" height=\"24px\"viewBox=\"0 0 24 24\"\n",
              "     width=\"24px\">\n",
              "    <g>\n",
              "        <path d=\"M19 3H5c-1.1 0-2 .9-2 2v14c0 1.1.9 2 2 2h14c1.1 0 2-.9 2-2V5c0-1.1-.9-2-2-2zM9 17H7v-7h2v7zm4 0h-2V7h2v10zm4 0h-2v-4h2v4z\"/>\n",
              "    </g>\n",
              "</svg>\n",
              "      </button>\n",
              "    </div>\n",
              "\n",
              "<style>\n",
              "  .colab-df-quickchart {\n",
              "    background-color: #E8F0FE;\n",
              "    border: none;\n",
              "    border-radius: 50%;\n",
              "    cursor: pointer;\n",
              "    display: none;\n",
              "    fill: #1967D2;\n",
              "    height: 32px;\n",
              "    padding: 0 0 0 0;\n",
              "    width: 32px;\n",
              "  }\n",
              "\n",
              "  .colab-df-quickchart:hover {\n",
              "    background-color: #E2EBFA;\n",
              "    box-shadow: 0px 1px 2px rgba(60, 64, 67, 0.3), 0px 1px 3px 1px rgba(60, 64, 67, 0.15);\n",
              "    fill: #174EA6;\n",
              "  }\n",
              "\n",
              "  [theme=dark] .colab-df-quickchart {\n",
              "    background-color: #3B4455;\n",
              "    fill: #D2E3FC;\n",
              "  }\n",
              "\n",
              "  [theme=dark] .colab-df-quickchart:hover {\n",
              "    background-color: #434B5C;\n",
              "    box-shadow: 0px 1px 3px 1px rgba(0, 0, 0, 0.15);\n",
              "    filter: drop-shadow(0px 1px 2px rgba(0, 0, 0, 0.3));\n",
              "    fill: #FFFFFF;\n",
              "  }\n",
              "</style>\n",
              "\n",
              "    <script>\n",
              "      async function quickchart(key) {\n",
              "        const containerElement = document.querySelector('#' + key);\n",
              "        const charts = await google.colab.kernel.invokeFunction(\n",
              "            'suggestCharts', [key], {});\n",
              "      }\n",
              "    </script>\n",
              "\n",
              "      <script>\n",
              "\n",
              "function displayQuickchartButton(domScope) {\n",
              "  let quickchartButtonEl =\n",
              "    domScope.querySelector('#df-3159d9ff-3149-440e-94bb-19818c68e367 button.colab-df-quickchart');\n",
              "  quickchartButtonEl.style.display =\n",
              "    google.colab.kernel.accessAllowed ? 'block' : 'none';\n",
              "}\n",
              "\n",
              "        displayQuickchartButton(document);\n",
              "      </script>\n",
              "      <style>\n",
              "    .colab-df-container {\n",
              "      display:flex;\n",
              "      flex-wrap:wrap;\n",
              "      gap: 12px;\n",
              "    }\n",
              "\n",
              "    .colab-df-convert {\n",
              "      background-color: #E8F0FE;\n",
              "      border: none;\n",
              "      border-radius: 50%;\n",
              "      cursor: pointer;\n",
              "      display: none;\n",
              "      fill: #1967D2;\n",
              "      height: 32px;\n",
              "      padding: 0 0 0 0;\n",
              "      width: 32px;\n",
              "    }\n",
              "\n",
              "    .colab-df-convert:hover {\n",
              "      background-color: #E2EBFA;\n",
              "      box-shadow: 0px 1px 2px rgba(60, 64, 67, 0.3), 0px 1px 3px 1px rgba(60, 64, 67, 0.15);\n",
              "      fill: #174EA6;\n",
              "    }\n",
              "\n",
              "    [theme=dark] .colab-df-convert {\n",
              "      background-color: #3B4455;\n",
              "      fill: #D2E3FC;\n",
              "    }\n",
              "\n",
              "    [theme=dark] .colab-df-convert:hover {\n",
              "      background-color: #434B5C;\n",
              "      box-shadow: 0px 1px 3px 1px rgba(0, 0, 0, 0.15);\n",
              "      filter: drop-shadow(0px 1px 2px rgba(0, 0, 0, 0.3));\n",
              "      fill: #FFFFFF;\n",
              "    }\n",
              "  </style>\n",
              "\n",
              "      <script>\n",
              "        const buttonEl =\n",
              "          document.querySelector('#df-228494a1-4c1c-481a-bd71-bc3617ba56f0 button.colab-df-convert');\n",
              "        buttonEl.style.display =\n",
              "          google.colab.kernel.accessAllowed ? 'block' : 'none';\n",
              "\n",
              "        async function convertToInteractive(key) {\n",
              "          const element = document.querySelector('#df-228494a1-4c1c-481a-bd71-bc3617ba56f0');\n",
              "          const dataTable =\n",
              "            await google.colab.kernel.invokeFunction('convertToInteractive',\n",
              "                                                     [key], {});\n",
              "          if (!dataTable) return;\n",
              "\n",
              "          const docLinkHtml = 'Like what you see? Visit the ' +\n",
              "            '<a target=\"_blank\" href=https://colab.research.google.com/notebooks/data_table.ipynb>data table notebook</a>'\n",
              "            + ' to learn more about interactive tables.';\n",
              "          element.innerHTML = '';\n",
              "          dataTable['output_type'] = 'display_data';\n",
              "          await google.colab.output.renderOutput(dataTable, element);\n",
              "          const docLink = document.createElement('div');\n",
              "          docLink.innerHTML = docLinkHtml;\n",
              "          element.appendChild(docLink);\n",
              "        }\n",
              "      </script>\n",
              "    </div>\n",
              "  </div>\n"
            ]
          },
          "metadata": {},
          "execution_count": 7
        }
      ]
    },
    {
      "cell_type": "markdown",
      "source": [
        "## Check the lenght of text"
      ],
      "metadata": {
        "id": "mJL4ShA2jCq0"
      }
    },
    {
      "cell_type": "code",
      "source": [
        "train_ds.text.str.len().hist()\n"
      ],
      "metadata": {
        "colab": {
          "base_uri": "https://localhost:8080/",
          "height": 447
        },
        "id": "6o5xNXXxjH8M",
        "outputId": "53f63a8d-f22a-476c-e8a1-9b738434fb80"
      },
      "execution_count": 8,
      "outputs": [
        {
          "output_type": "execute_result",
          "data": {
            "text/plain": [
              "<Axes: >"
            ]
          },
          "metadata": {},
          "execution_count": 8
        },
        {
          "output_type": "display_data",
          "data": {
            "text/plain": [
              "<Figure size 640x480 with 1 Axes>"
            ],
            "image/png": "[encoded data removed]"
          },
          "metadata": {}
        }
      ]
    },
    {
      "cell_type": "code",
      "source": [
        "train_ds.text.str.len().describe()\n"
      ],
      "metadata": {
        "colab": {
          "base_uri": "https://localhost:8080/"
        },
        "id": "3WYCuXjajQfT",
        "outputId": "e571d220-201d-407b-c08d-f581f9d6bab2"
      },
      "execution_count": 9,
      "outputs": [
        {
          "output_type": "execute_result",
          "data": {
            "text/plain": [
              "count    7613.000000\n",
              "mean      101.037436\n",
              "std        33.781325\n",
              "min         7.000000\n",
              "25%        78.000000\n",
              "50%       107.000000\n",
              "75%       133.000000\n",
              "max       157.000000\n",
              "Name: text, dtype: float64"
            ]
          },
          "metadata": {},
          "execution_count": 9
        }
      ]
    },
    {
      "cell_type": "markdown",
      "source": [
        "#Create a custom Tokenizer that:\n",
        " 1. clean data\n",
        " 2. tokens data\n",
        " 3. pad data"
      ],
      "metadata": {
        "id": "0UM94vNenZk1"
      }
    },
    {
      "cell_type": "code",
      "source": [
        "from tensorflow.keras.preprocessing.text import Tokenizer\n",
        "from tensorflow.keras.preprocessing.sequence import pad_sequences\n",
        "\n",
        "class TextTokenizer():\n",
        "\n",
        "  def __init__(self, max_vocab_size=1000, max_len=100, oov_token=\"<OOV>\"):\n",
        "    self.tokenizer = Tokenizer(\n",
        "        num_words=max_vocab_size,\n",
        "        filters='!\"#$%&()*+,-./:;<=>?@[\\\\]^_`{|}~\\t\\n',\n",
        "        lower=True,\n",
        "        split=' ',\n",
        "        oov_token=oov_token)\n",
        "    self.max_vocab_size = max_vocab_size\n",
        "    self.max_len = max_len\n",
        "    self.oov_token = oov_token\n",
        "  def fit(self, X):\n",
        "    self.tokenizer.fit_on_texts(X)\n",
        "\n",
        "  def transform(self, X):\n",
        "    seq = self.tokenizer.texts_to_sequences(X)\n",
        "    return pad_sequences(seq, maxlen=self.max_len,padding='post',truncating='post')\n",
        "\n",
        "  def fit_transform(self, X):\n",
        "    self.fit(X)\n",
        "    return self.transform(X)\n"
      ],
      "metadata": {
        "id": "LLI_9n99nXW4"
      },
      "execution_count": 10,
      "outputs": []
    },
    {
      "cell_type": "code",
      "source": [
        "tokenizer = TextTokenizer(max_vocab_size=10000, max_len=30)\n",
        "t = tokenizer.fit_transform(train_ds[:10].text)\n"
      ],
      "metadata": {
        "id": "sT5bGWXLpVL9"
      },
      "execution_count": 11,
      "outputs": []
    },
    {
      "cell_type": "code",
      "source": [
        "t[8]\n"
      ],
      "metadata": {
        "colab": {
          "base_uri": "https://localhost:8080/"
        },
        "id": "xzB9wKutphHZ",
        "outputId": "401afcb4-9c95-4504-9eac-0bac63010f61"
      },
      "execution_count": 12,
      "outputs": [
        {
          "output_type": "execute_result",
          "data": {
            "text/plain": [
              "array([91, 92, 93,  8, 94, 95,  2,  3, 96, 97,  3, 98,  0,  0,  0,  0,  0,\n",
              "        0,  0,  0,  0,  0,  0,  0,  0,  0,  0,  0,  0,  0], dtype=int32)"
            ]
          },
          "metadata": {},
          "execution_count": 12
        }
      ]
    },
    {
      "cell_type": "code",
      "source": [
        "train_ds.iloc[8].text, train_ds.iloc[0][\"target\"]"
      ],
      "metadata": {
        "colab": {
          "base_uri": "https://localhost:8080/"
        },
        "id": "MX86n0VPphjo",
        "outputId": "bc39bd60-6ae3-48b5-d406-3fb2d06dde57"
      },
      "execution_count": 13,
      "outputs": [
        {
          "output_type": "execute_result",
          "data": {
            "text/plain": [
              "(\"There's an emergency evacuation happening now in the building across the street\",\n",
              " 1)"
            ]
          },
          "metadata": {},
          "execution_count": 13
        }
      ]
    },
    {
      "cell_type": "code",
      "source": [
        "for i in t[8]:\n",
        "  if i!=0:\n",
        "    print(tokenizer.tokenizer.index_word[i])\n"
      ],
      "metadata": {
        "colab": {
          "base_uri": "https://localhost:8080/"
        },
        "id": "hSKRw6s0qtO3",
        "outputId": "9079044b-1869-450f-d75a-aa2f10840e8e"
      },
      "execution_count": 14,
      "outputs": [
        {
          "output_type": "stream",
          "name": "stdout",
          "text": [
            "there's\n",
            "an\n",
            "emergency\n",
            "evacuation\n",
            "happening\n",
            "now\n",
            "in\n",
            "the\n",
            "building\n",
            "across\n",
            "the\n",
            "street\n"
          ]
        }
      ]
    },
    {
      "cell_type": "markdown",
      "source": [
        "## Split data to train and validation set"
      ],
      "metadata": {
        "id": "OfOT41iGuf1t"
      }
    },
    {
      "cell_type": "code",
      "source": [
        "import sklearn\n",
        "from sklearn.model_selection import train_test_split\n",
        "\n",
        "\n",
        "x_train, x_val, y_train, y_val  = train_test_split(train_ds.text, train_ds.target, test_size=0.2, random_state=42)\n",
        "\n",
        "print(x_train.shape, x_val.shape, y_train.shape, y_val.shape)\n"
      ],
      "metadata": {
        "colab": {
          "base_uri": "https://localhost:8080/"
        },
        "id": "A_JetrlmrENw",
        "outputId": "43db7fd6-8eb7-4455-8d13-659b7f3c3808"
      },
      "execution_count": 15,
      "outputs": [
        {
          "output_type": "stream",
          "name": "stdout",
          "text": [
            "(6090,) (1523,) (6090,) (1523,)\n"
          ]
        }
      ]
    },
    {
      "cell_type": "code",
      "source": [
        "#apply tokenizer"
      ],
      "metadata": {
        "id": "5-clElFdvmDT"
      },
      "execution_count": 16,
      "outputs": []
    },
    {
      "cell_type": "code",
      "source": [
        "x_train = tokenizer.fit_transform(x_train)\n",
        "x_val = tokenizer.transform(x_val)"
      ],
      "metadata": {
        "id": "zar6vpNFvpaS"
      },
      "execution_count": 17,
      "outputs": []
    },
    {
      "cell_type": "code",
      "source": [
        "print(x_train.shape, x_val.shape, y_train.shape, y_val.shape)"
      ],
      "metadata": {
        "colab": {
          "base_uri": "https://localhost:8080/"
        },
        "id": "Ne9hoAjWvtKa",
        "outputId": "2ce60b2c-ee7b-475f-c5df-f42e4a3a9480"
      },
      "execution_count": 18,
      "outputs": [
        {
          "output_type": "stream",
          "name": "stdout",
          "text": [
            "(6090, 30) (1523, 30) (6090,) (1523,)\n"
          ]
        }
      ]
    },
    {
      "cell_type": "code",
      "source": [
        "tokenizer.max_vocab_size"
      ],
      "metadata": {
        "colab": {
          "base_uri": "https://localhost:8080/"
        },
        "id": "yLU6_trsxvq0",
        "outputId": "8d534a5e-c6d4-4057-82c8-33f851d71967"
      },
      "execution_count": 19,
      "outputs": [
        {
          "output_type": "execute_result",
          "data": {
            "text/plain": [
              "10000"
            ]
          },
          "metadata": {},
          "execution_count": 19
        }
      ]
    },
    {
      "cell_type": "code",
      "source": [
        "x_train.shape"
      ],
      "metadata": {
        "colab": {
          "base_uri": "https://localhost:8080/"
        },
        "id": "_khHuvktVoJS",
        "outputId": "941768b5-d2f2-4e9d-e98b-5ca21fdb84cc"
      },
      "execution_count": 20,
      "outputs": [
        {
          "output_type": "execute_result",
          "data": {
            "text/plain": [
              "(6090, 30)"
            ]
          },
          "metadata": {},
          "execution_count": 20
        }
      ]
    },
    {
      "cell_type": "code",
      "source": [
        "plt.hist(x_train.sum(axis = 0))\n",
        "plt.show()\n"
      ],
      "metadata": {
        "colab": {
          "base_uri": "https://localhost:8080/",
          "height": 448
        },
        "id": "lLqdZyAPkfdq",
        "outputId": "8d1264bd-8a29-404c-a24e-be6b809b3725"
      },
      "execution_count": 21,
      "outputs": [
        {
          "output_type": "display_data",
          "data": {
            "text/plain": [
              "<Figure size 640x480 with 1 Axes>"
            ],
            "image/png": "[encoded data removed]"
          },
          "metadata": {}
        }
      ]
    },
    {
      "cell_type": "code",
      "source": [
        "x_train.sum(axis = 0)"
      ],
      "metadata": {
        "colab": {
          "base_uri": "https://localhost:8080/"
        },
        "id": "LOlA4qoYlD72",
        "outputId": "7ce08053-12f3-46e8-de7e-9b76da336811"
      },
      "execution_count": 22,
      "outputs": [
        {
          "output_type": "execute_result",
          "data": {
            "text/plain": [
              "array([8212656, 6743533, 5708836, 5839085, 5665322, 5343371, 5225919,\n",
              "       5166315, 5277959, 4707601, 4565893, 4471273, 4127299, 4088881,\n",
              "       3733720, 3306197, 3189769, 2591975, 2361869, 2120306, 1901181,\n",
              "       1495080,  982700,  841034,  553314,  270693,  126874,   82688,\n",
              "         55304,   43967])"
            ]
          },
          "metadata": {},
          "execution_count": 22
        }
      ]
    },
    {
      "cell_type": "markdown",
      "source": [
        "## Create nlp model using LSTP and enbedding layers"
      ],
      "metadata": {
        "id": "6H7wPfc9vz_b"
      }
    },
    {
      "cell_type": "code",
      "source": [
        "#check shape of input\n",
        "x_train.shape, x_val.shape\n"
      ],
      "metadata": {
        "colab": {
          "base_uri": "https://localhost:8080/"
        },
        "id": "nFGyG0e9VpZ5",
        "outputId": "e883c072-9015-4ec9-ec7a-0da0e4279f05"
      },
      "execution_count": 23,
      "outputs": [
        {
          "output_type": "execute_result",
          "data": {
            "text/plain": [
              "((6090, 30), (1523, 30))"
            ]
          },
          "metadata": {},
          "execution_count": 23
        }
      ]
    },
    {
      "cell_type": "code",
      "source": [
        "x_train[100]"
      ],
      "metadata": {
        "colab": {
          "base_uri": "https://localhost:8080/"
        },
        "id": "BW189zR2izQk",
        "outputId": "21c85c29-ac49-439f-e93f-bae9873da2ab"
      },
      "execution_count": 24,
      "outputs": [
        {
          "output_type": "execute_result",
          "data": {
            "text/plain": [
              "array([6175, 6176,  636,  598, 2488,   17, 6177, 4051, 1106,   11,  230,\n",
              "       6178,   20,    6, 1107, 3099,   26,    2,    4,    2,    3, 6179,\n",
              "          0,    0,    0,    0,    0,    0,    0,    0], dtype=int32)"
            ]
          },
          "metadata": {},
          "execution_count": 24
        }
      ]
    },
    {
      "cell_type": "code",
      "source": [
        "from tensorflow.keras.layers import Embedding, LSTM, Dense, Bidirectional, Input, Dropout\n",
        "from tensorflow.keras.models import Model\n",
        "\n",
        "def create_model(vocab_size, phrase_size, embedding_dim, rnn_units, batch_size):\n",
        "    inputs = Input(shape=(phrase_size,))\n",
        "    x = Embedding(vocab_size, embedding_dim, batch_input_shape=[batch_size, None])(inputs)\n",
        "    x = LSTM(rnn_units, dropout = 0.5, recurrent_dropout=0.5)(x)\n",
        "    x = Dropout(0.5)(x)\n",
        "    x = Dense(1, activation=\"sigmoid\")(x)\n",
        "    model = Model(inputs=inputs, outputs=x)\n",
        "\n",
        "    model.compile(loss=\"binary_crossentropy\", optimizer=\"Adam\", metrics=[\"accuracy\"])\n",
        "\n",
        "    return model"
      ],
      "metadata": {
        "id": "sJjgEAfmv50E"
      },
      "execution_count": 25,
      "outputs": []
    },
    {
      "cell_type": "code",
      "source": [
        "rnn_model = create_model(\n",
        "    vocab_size=tokenizer.max_vocab_size,\n",
        "    phrase_size=x_train.shape[1],\n",
        "    embedding_dim=16,\n",
        "    rnn_units=16,\n",
        "    batch_size=32)\n",
        "\n",
        "rnn_model.summary()\n"
      ],
      "metadata": {
        "colab": {
          "base_uri": "https://localhost:8080/"
        },
        "id": "OxIV6qAnxmZG",
        "outputId": "0641fb9a-34c7-4b6f-d614-535b0de135fd"
      },
      "execution_count": 26,
      "outputs": [
        {
          "output_type": "stream",
          "name": "stderr",
          "text": [
            "WARNING:tensorflow:Layer lstm will not use cuDNN kernels since it doesn't meet the criteria. It will use a generic GPU kernel as fallback when running on GPU.\n"
          ]
        },
        {
          "output_type": "stream",
          "name": "stdout",
          "text": [
            "Model: \"model\"\n",
            "_________________________________________________________________\n",
            " Layer (type)                Output Shape              Param #   \n",
            "=================================================================\n",
            " input_1 (InputLayer)        [(None, 30)]              0         \n",
            "                                                                 \n",
            " embedding (Embedding)       (None, 30, 16)            160000    \n",
            "                                                                 \n",
            " lstm (LSTM)                 (None, 16)                2112      \n",
            "                                                                 \n",
            " dropout (Dropout)           (None, 16)                0         \n",
            "                                                                 \n",
            " dense (Dense)               (None, 1)                 17        \n",
            "                                                                 \n",
            "=================================================================\n",
            "Total params: 162,129\n",
            "Trainable params: 162,129\n",
            "Non-trainable params: 0\n",
            "_________________________________________________________________\n"
          ]
        }
      ]
    },
    {
      "cell_type": "code",
      "source": [
        "history_rnn = rnn_model.fit(x_train, y_train, batch_size=32, epochs=10, validation_data=(x_val, y_val))\n",
        "plot_loss_curves(history_rnn)\n"
      ],
      "metadata": {
        "colab": {
          "base_uri": "https://localhost:8080/",
          "height": 1000
        },
        "id": "SHvlnXorx3Un",
        "outputId": "e0806f9f-5775-426a-ee82-d4970bfc259e"
      },
      "execution_count": 27,
      "outputs": [
        {
          "output_type": "stream",
          "name": "stdout",
          "text": [
            "Epoch 1/10\n",
            "191/191 [==============================] - 60s 237ms/step - loss: 0.6447 - accuracy: 0.6240 - val_loss: 0.5227 - val_accuracy: 0.7787\n",
            "Epoch 2/10\n",
            "191/191 [==============================] - 31s 163ms/step - loss: 0.4621 - accuracy: 0.8144 - val_loss: 0.4619 - val_accuracy: 0.7892\n",
            "Epoch 3/10\n",
            "191/191 [==============================] - 32s 166ms/step - loss: 0.3675 - accuracy: 0.8652 - val_loss: 0.4480 - val_accuracy: 0.8024\n",
            "Epoch 4/10\n",
            "191/191 [==============================] - 28s 149ms/step - loss: 0.3064 - accuracy: 0.8964 - val_loss: 0.5361 - val_accuracy: 0.7899\n",
            "Epoch 5/10\n",
            "191/191 [==============================] - 28s 145ms/step - loss: 0.2696 - accuracy: 0.9103 - val_loss: 0.5438 - val_accuracy: 0.7945\n",
            "Epoch 6/10\n",
            "191/191 [==============================] - 30s 156ms/step - loss: 0.2356 - accuracy: 0.9236 - val_loss: 0.5314 - val_accuracy: 0.7978\n",
            "Epoch 7/10\n",
            "191/191 [==============================] - 28s 149ms/step - loss: 0.2177 - accuracy: 0.9289 - val_loss: 0.5871 - val_accuracy: 0.7853\n",
            "Epoch 8/10\n",
            "191/191 [==============================] - 28s 149ms/step - loss: 0.1973 - accuracy: 0.9376 - val_loss: 0.6066 - val_accuracy: 0.7846\n",
            "Epoch 9/10\n",
            "191/191 [==============================] - 28s 148ms/step - loss: 0.1812 - accuracy: 0.9424 - val_loss: 0.6362 - val_accuracy: 0.7754\n",
            "Epoch 10/10\n",
            "191/191 [==============================] - 30s 155ms/step - loss: 0.1641 - accuracy: 0.9468 - val_loss: 0.7014 - val_accuracy: 0.7873\n"
          ]
        },
        {
          "output_type": "display_data",
          "data": {
            "text/plain": [
              "<Figure size 640x480 with 1 Axes>"
            ],
            "image/png": "[encoded data removed]"
          },
          "metadata": {}
        },
        {
          "output_type": "display_data",
          "data": {
            "text/plain": [
              "<Figure size 640x480 with 1 Axes>"
            ],
            "image/png": "[encoded data removed]"
          },
          "metadata": {}
        }
      ]
    },
    {
      "cell_type": "markdown",
      "source": [
        "##Create a model using Bidirectional LSTM"
      ],
      "metadata": {
        "id": "LfQyqacKZo0g"
      }
    },
    {
      "cell_type": "code",
      "source": [
        "from tensorflow.keras.layers import Embedding, LSTM, Dense, Bidirectional, Input, Dropout\n",
        "from tensorflow.keras.models import Model\n",
        "\n",
        "def create_bidiretional_lstm(vocab_size, phrase_size, embedding_dim, rnn_units, batch_size):\n",
        "    inputs = Input(shape=(phrase_size,))\n",
        "    x = Embedding(vocab_size, embedding_dim, batch_input_shape=[batch_size, None])(inputs)\n",
        "    x = Bidirectional(LSTM(rnn_units))(x)\n",
        "    x = Dropout(0.5)(x)\n",
        "    x = Dense(1, activation=\"sigmoid\")(x)\n",
        "    model = Model(inputs=inputs, outputs=x)\n",
        "\n",
        "    model.compile(loss=\"binary_crossentropy\", optimizer=\"Adam\", metrics=[\"accuracy\"])\n",
        "\n",
        "    return model"
      ],
      "metadata": {
        "id": "xbC7GQn4ZwsA"
      },
      "execution_count": 28,
      "outputs": []
    },
    {
      "cell_type": "code",
      "source": [
        "b_lstm_model = create_bidiretional_lstm(\n",
        "    vocab_size=tokenizer.max_vocab_size,\n",
        "    phrase_size=x_train.shape[1],\n",
        "    embedding_dim=16,\n",
        "    rnn_units=16,\n",
        "    batch_size=32)\n",
        "\n",
        "b_lstm_model.summary()"
      ],
      "metadata": {
        "colab": {
          "base_uri": "https://localhost:8080/"
        },
        "id": "1M5UXwBDZ8Yo",
        "outputId": "e9021df7-618d-4192-bb6d-d4c3fdfbe024"
      },
      "execution_count": 29,
      "outputs": [
        {
          "output_type": "stream",
          "name": "stdout",
          "text": [
            "Model: \"model_1\"\n",
            "_________________________________________________________________\n",
            " Layer (type)                Output Shape              Param #   \n",
            "=================================================================\n",
            " input_2 (InputLayer)        [(None, 30)]              0         \n",
            "                                                                 \n",
            " embedding_1 (Embedding)     (None, 30, 16)            160000    \n",
            "                                                                 \n",
            " bidirectional (Bidirectiona  (None, 32)               4224      \n",
            " l)                                                              \n",
            "                                                                 \n",
            " dropout_1 (Dropout)         (None, 32)                0         \n",
            "                                                                 \n",
            " dense_1 (Dense)             (None, 1)                 33        \n",
            "                                                                 \n",
            "=================================================================\n",
            "Total params: 164,257\n",
            "Trainable params: 164,257\n",
            "Non-trainable params: 0\n",
            "_________________________________________________________________\n"
          ]
        }
      ]
    },
    {
      "cell_type": "code",
      "source": [
        "MC_b_lsmt = tf.keras.callbacks.ModelCheckpoint(\"b_lstm.h5\", monitor=\"val_accuracy\", save_best_only=True)\n",
        "ES_b_lsmt = tf.keras.callbacks.EarlyStopping(monitor=\"val_accuracy\", patience=6, restore_best_weights=True)\n",
        "LRC_b_lsmt = tf.keras.callbacks.ReduceLROnPlateau(monitor=\"val_accuracy\", patience=3, factor=0.2, min_lr=0.00001)\n",
        "\n",
        "history_b_lstm = b_lstm_model.fit(\n",
        "    x_train,\n",
        "    y_train,\n",
        "    batch_size=32,\n",
        "    epochs=100, validation_data=(x_val, y_val),\n",
        "    callbacks = [MC_b_lsmt, ES_b_lsmt, LRC_b_lsmt])\n",
        "plot_loss_curves(history_b_lstm)"
      ],
      "metadata": {
        "colab": {
          "base_uri": "https://localhost:8080/",
          "height": 1000
        },
        "id": "9bP3o9S_aD0_",
        "outputId": "c391e6f7-5d38-40aa-a889-521009af9961"
      },
      "execution_count": 30,
      "outputs": [
        {
          "output_type": "stream",
          "name": "stdout",
          "text": [
            "Epoch 1/100\n",
            "191/191 [==============================] - 21s 79ms/step - loss: 0.6354 - accuracy: 0.6411 - val_loss: 0.5284 - val_accuracy: 0.7820 - lr: 0.0010\n",
            "Epoch 2/100\n",
            "191/191 [==============================] - 4s 20ms/step - loss: 0.4100 - accuracy: 0.8322 - val_loss: 0.4373 - val_accuracy: 0.8122 - lr: 0.0010\n",
            "Epoch 3/100\n",
            "191/191 [==============================] - 4s 23ms/step - loss: 0.2734 - accuracy: 0.8966 - val_loss: 0.5155 - val_accuracy: 0.7873 - lr: 0.0010\n",
            "Epoch 4/100\n",
            "191/191 [==============================] - 3s 15ms/step - loss: 0.1989 - accuracy: 0.9319 - val_loss: 0.5555 - val_accuracy: 0.7905 - lr: 0.0010\n",
            "Epoch 5/100\n",
            "191/191 [==============================] - 2s 12ms/step - loss: 0.1485 - accuracy: 0.9522 - val_loss: 0.6616 - val_accuracy: 0.7590 - lr: 0.0010\n",
            "Epoch 6/100\n",
            "191/191 [==============================] - 2s 11ms/step - loss: 0.0980 - accuracy: 0.9724 - val_loss: 0.7144 - val_accuracy: 0.7748 - lr: 2.0000e-04\n",
            "Epoch 7/100\n",
            "191/191 [==============================] - 3s 13ms/step - loss: 0.0853 - accuracy: 0.9757 - val_loss: 0.7550 - val_accuracy: 0.7715 - lr: 2.0000e-04\n",
            "Epoch 8/100\n",
            "191/191 [==============================] - 2s 12ms/step - loss: 0.0772 - accuracy: 0.9770 - val_loss: 0.7963 - val_accuracy: 0.7649 - lr: 2.0000e-04\n"
          ]
        },
        {
          "output_type": "display_data",
          "data": {
            "text/plain": [
              "<Figure size 640x480 with 1 Axes>"
            ],
            "image/png": "[encoded data removed]"
          },
          "metadata": {}
        },
        {
          "output_type": "display_data",
          "data": {
            "text/plain": [
              "<Figure size 640x480 with 1 Axes>"
            ],
            "image/png": "[encoded data removed]"
          },
          "metadata": {}
        }
      ]
    },
    {
      "cell_type": "markdown",
      "source": [
        "### Create model using Conv1D layer"
      ],
      "metadata": {
        "id": "A7Gc0iq1SZ3n"
      }
    },
    {
      "cell_type": "code",
      "source": [
        "from tensorflow.keras.layers import Conv1D, MaxPooling1D, Flatten\n",
        "\n",
        "def create_model_cnn1(vocab_size, phrase_size, embedding_dim, rnn_units, batch_size= 32):\n",
        "    inputs = Input(shape=(phrase_size,))\n",
        "    x = Embedding(vocab_size, embedding_dim, batch_input_shape=[batch_size, None])(inputs)\n",
        "    x = Conv1D(4, 3, activation=\"relu\")(x)\n",
        "    x = MaxPooling1D(8)(x)\n",
        "    x = LSTM(rnn_units, dropout = 0.5, recurrent_dropout=0.5)(x)\n",
        "    x = Dense(8, activation=\"relu\")(x)\n",
        "    x = Dropout(0.3)(x)\n",
        "    x = Dense(1, activation=\"sigmoid\")(x)\n",
        "    model = Model(inputs=inputs, outputs=x)\n",
        "\n",
        "    model.compile(loss=\"binary_crossentropy\", optimizer=tf.keras.optimizers.Adam(0.001), metrics=[\"accuracy\"])\n",
        "\n",
        "    return model"
      ],
      "metadata": {
        "id": "Prwy_L0cZzBY"
      },
      "execution_count": 49,
      "outputs": []
    },
    {
      "cell_type": "code",
      "source": [
        "rnn_cnn = create_model_cnn1(\n",
        "    vocab_size=tokenizer.max_vocab_size,\n",
        "    phrase_size=x_train.shape[1],\n",
        "    embedding_dim=16,\n",
        "    rnn_units=4)\n",
        "\n",
        "rnn_cnn.summary()"
      ],
      "metadata": {
        "colab": {
          "base_uri": "https://localhost:8080/"
        },
        "id": "Me1I86UfTQHP",
        "outputId": "c7227fe3-7df3-43e8-cade-04a442c12325"
      },
      "execution_count": 108,
      "outputs": [
        {
          "output_type": "stream",
          "name": "stderr",
          "text": [
            "WARNING:tensorflow:Layer lstm_5 will not use cuDNN kernels since it doesn't meet the criteria. It will use a generic GPU kernel as fallback when running on GPU.\n"
          ]
        },
        {
          "output_type": "stream",
          "name": "stdout",
          "text": [
            "Model: \"model_21\"\n",
            "_________________________________________________________________\n",
            " Layer (type)                Output Shape              Param #   \n",
            "=================================================================\n",
            " input_24 (InputLayer)       [(None, 30)]              0         \n",
            "                                                                 \n",
            " embedding_23 (Embedding)    (None, 30, 16)            160000    \n",
            "                                                                 \n",
            " conv1d_3 (Conv1D)           (None, 28, 4)             196       \n",
            "                                                                 \n",
            " max_pooling1d_3 (MaxPooling  (None, 3, 4)             0         \n",
            " 1D)                                                             \n",
            "                                                                 \n",
            " lstm_5 (LSTM)               (None, 4)                 144       \n",
            "                                                                 \n",
            " dense_32 (Dense)            (None, 8)                 40        \n",
            "                                                                 \n",
            " dropout_13 (Dropout)        (None, 8)                 0         \n",
            "                                                                 \n",
            " dense_33 (Dense)            (None, 1)                 9         \n",
            "                                                                 \n",
            "=================================================================\n",
            "Total params: 160,389\n",
            "Trainable params: 160,389\n",
            "Non-trainable params: 0\n",
            "_________________________________________________________________\n"
          ]
        }
      ]
    },
    {
      "cell_type": "code",
      "source": [
        "MC = tf.keras.callbacks.ModelCheckpoint(\"rnn_cnn.h5\", monitor=\"val_accuracy\", save_best_only=True)\n",
        "ES = tf.keras.callbacks.EarlyStopping(monitor=\"val_accuracy\", patience=6, restore_best_weights=True)\n",
        "LRC = tf.keras.callbacks.ReduceLROnPlateau(monitor=\"val_accuracy\", patience=3, factor=0.2, min_lr=0.00001)\n",
        "\n",
        "history_rnn_cnn = rnn_cnn.fit(\n",
        "    x_train, y_train,\n",
        "    batch_size=32, epochs=100,\n",
        "    validation_data=(x_val, y_val),\n",
        "    callbacks = [MC, ES, LRC])\n",
        "plot_loss_curves(history_rnn_cnn)"
      ],
      "metadata": {
        "colab": {
          "base_uri": "https://localhost:8080/",
          "height": 1000
        },
        "id": "04rv4HcoTWk3",
        "outputId": "4c77b867-5c53-41cc-f79e-d4c7f5a69266"
      },
      "execution_count": 52,
      "outputs": [
        {
          "output_type": "stream",
          "name": "stdout",
          "text": [
            "Epoch 1/100\n",
            "191/191 [==============================] - 23s 92ms/step - loss: 0.6779 - accuracy: 0.5778 - val_loss: 0.6403 - val_accuracy: 0.6540 - lr: 0.0010\n",
            "Epoch 2/100\n",
            "191/191 [==============================] - 8s 40ms/step - loss: 0.5927 - accuracy: 0.6867 - val_loss: 0.5107 - val_accuracy: 0.7846 - lr: 0.0010\n",
            "Epoch 3/100\n",
            "191/191 [==============================] - 8s 40ms/step - loss: 0.4910 - accuracy: 0.7706 - val_loss: 0.4691 - val_accuracy: 0.7879 - lr: 0.0010\n",
            "Epoch 4/100\n",
            "191/191 [==============================] - 7s 38ms/step - loss: 0.3994 - accuracy: 0.8365 - val_loss: 0.4808 - val_accuracy: 0.7859 - lr: 0.0010\n",
            "Epoch 5/100\n",
            "191/191 [==============================] - 5s 28ms/step - loss: 0.3534 - accuracy: 0.8509 - val_loss: 0.5003 - val_accuracy: 0.7905 - lr: 0.0010\n",
            "Epoch 6/100\n",
            "191/191 [==============================] - 6s 32ms/step - loss: 0.2962 - accuracy: 0.8895 - val_loss: 0.5224 - val_accuracy: 0.7873 - lr: 0.0010\n",
            "Epoch 7/100\n",
            "191/191 [==============================] - 5s 26ms/step - loss: 0.2676 - accuracy: 0.8969 - val_loss: 0.5510 - val_accuracy: 0.7951 - lr: 0.0010\n",
            "Epoch 8/100\n",
            "191/191 [==============================] - 5s 28ms/step - loss: 0.2445 - accuracy: 0.9069 - val_loss: 0.5836 - val_accuracy: 0.7925 - lr: 0.0010\n",
            "Epoch 9/100\n",
            "191/191 [==============================] - 5s 25ms/step - loss: 0.2108 - accuracy: 0.9213 - val_loss: 0.6438 - val_accuracy: 0.7741 - lr: 0.0010\n",
            "Epoch 10/100\n",
            "191/191 [==============================] - 5s 24ms/step - loss: 0.1875 - accuracy: 0.9320 - val_loss: 0.6605 - val_accuracy: 0.7866 - lr: 0.0010\n",
            "Epoch 11/100\n",
            "191/191 [==============================] - 6s 31ms/step - loss: 0.1715 - accuracy: 0.9353 - val_loss: 0.6789 - val_accuracy: 0.7899 - lr: 2.0000e-04\n",
            "Epoch 12/100\n",
            "191/191 [==============================] - 5s 25ms/step - loss: 0.1469 - accuracy: 0.9453 - val_loss: 0.7043 - val_accuracy: 0.7892 - lr: 2.0000e-04\n",
            "Epoch 13/100\n",
            "191/191 [==============================] - 6s 30ms/step - loss: 0.1473 - accuracy: 0.9440 - val_loss: 0.7305 - val_accuracy: 0.7827 - lr: 2.0000e-04\n"
          ]
        },
        {
          "output_type": "display_data",
          "data": {
            "text/plain": [
              "<Figure size 640x480 with 1 Axes>"
            ],
            "image/png": "[encoded data removed]"
          },
          "metadata": {}
        },
        {
          "output_type": "display_data",
          "data": {
            "text/plain": [
              "<Figure size 640x480 with 1 Axes>"
            ],
            "image/png": "[encoded data removed]"
          },
          "metadata": {}
        }
      ]
    },
    {
      "cell_type": "code",
      "source": [
        "rnn_cnn.evaluate(x_val, y_val)"
      ],
      "metadata": {
        "colab": {
          "base_uri": "https://localhost:8080/"
        },
        "id": "B_SZxaN1eV5T",
        "outputId": "0ff5ce03-26de-411e-cf11-259aa5cd895a"
      },
      "execution_count": 107,
      "outputs": [
        {
          "output_type": "stream",
          "name": "stdout",
          "text": [
            "48/48 [==============================] - 0s 5ms/step - loss: 0.5510 - accuracy: 0.7951\n"
          ]
        },
        {
          "output_type": "execute_result",
          "data": {
            "text/plain": [
              "[0.5510057806968689, 0.7951411604881287]"
            ]
          },
          "metadata": {},
          "execution_count": 107
        }
      ]
    },
    {
      "cell_type": "markdown",
      "source": [
        "## Create RNN using GRU - gated recurring unit"
      ],
      "metadata": {
        "id": "jnudCk8UA-kz"
      }
    },
    {
      "cell_type": "code",
      "source": [
        "from tensorflow.keras.layers import GRU\n",
        "\n",
        "def create_model_gru(vocab_size, phrase_size, embedding_dim, rnn_units, batch_size= 32):\n",
        "    inputs = Input(shape=(phrase_size,))\n",
        "    x = Embedding(vocab_size, embedding_dim, batch_input_shape=[batch_size, None])(inputs)\n",
        "    #x = tf.keras.layers.GlobalAveragePooling1D()(x)\n",
        "\n",
        "    print(x.shape)\n",
        "    x = GRU(rnn_units, dropout=0.4)(x)\n",
        "    x = Dense(1, activation=\"sigmoid\")(x)\n",
        "    model = Model(inputs=inputs, outputs=x)\n",
        "\n",
        "    model.compile(loss=\"binary_crossentropy\", optimizer=tf.keras.optimizers.Adam(0.001), metrics=[\"accuracy\"])\n",
        "\n",
        "    return model"
      ],
      "metadata": {
        "id": "JBNwQQ1pBI3A"
      },
      "execution_count": 112,
      "outputs": []
    },
    {
      "cell_type": "code",
      "source": [
        "rnn_gru = create_model_gru(\n",
        "    vocab_size=tokenizer.max_vocab_size,\n",
        "    phrase_size=x_train.shape[1],\n",
        "    embedding_dim=16,\n",
        "    rnn_units=8)\n",
        "\n",
        "rnn_gru.summary()"
      ],
      "metadata": {
        "colab": {
          "base_uri": "https://localhost:8080/"
        },
        "id": "gSSXaOPsBekY",
        "outputId": "5c2c4943-bb9a-4fab-8230-29d9629a906b"
      },
      "execution_count": 113,
      "outputs": [
        {
          "output_type": "stream",
          "name": "stdout",
          "text": [
            "(None, 30, 16)\n",
            "Model: \"model_23\"\n",
            "_________________________________________________________________\n",
            " Layer (type)                Output Shape              Param #   \n",
            "=================================================================\n",
            " input_26 (InputLayer)       [(None, 30)]              0         \n",
            "                                                                 \n",
            " embedding_25 (Embedding)    (None, 30, 16)            160000    \n",
            "                                                                 \n",
            " gru_11 (GRU)                (None, 8)                 624       \n",
            "                                                                 \n",
            " dense_35 (Dense)            (None, 1)                 9         \n",
            "                                                                 \n",
            "=================================================================\n",
            "Total params: 160,633\n",
            "Trainable params: 160,633\n",
            "Non-trainable params: 0\n",
            "_________________________________________________________________\n"
          ]
        }
      ]
    },
    {
      "cell_type": "code",
      "source": [
        "MC_GRU = tf.keras.callbacks.ModelCheckpoint(\"rnn_gru.h5\", monitor=\"val_accuracy\", save_best_only=True)\n",
        "ES_GRU = tf.keras.callbacks.EarlyStopping(monitor=\"val_accuracy\", patience=6, restore_best_weights=True)\n",
        "LRC_GRU = tf.keras.callbacks.ReduceLROnPlateau(monitor=\"val_accuracy\", patience=2, factor=0.2, min_lr=0.00001)\n",
        "\n",
        "history_rnn_gru = rnn_gru.fit(\n",
        "    x_train, y_train,\n",
        "    batch_size=32, epochs=100,\n",
        "    validation_data=(x_val, y_val),\n",
        "    callbacks = [MC_GRU, ES_GRU, LRC_GRU])\n",
        "plot_loss_curves(history_rnn_gru)"
      ],
      "metadata": {
        "colab": {
          "base_uri": "https://localhost:8080/",
          "height": 1000
        },
        "id": "RgFgSFF1BWWP",
        "outputId": "3b150e18-43ce-4c50-8a40-733d3a4f8306"
      },
      "execution_count": 116,
      "outputs": [
        {
          "output_type": "stream",
          "name": "stdout",
          "text": [
            "Epoch 1/100\n",
            "191/191 [==============================] - 17s 73ms/step - loss: 0.6855 - accuracy: 0.5644 - val_loss: 0.6821 - val_accuracy: 0.5739 - lr: 0.0010\n",
            "Epoch 2/100\n",
            "191/191 [==============================] - 5s 25ms/step - loss: 0.6834 - accuracy: 0.5698 - val_loss: 0.6802 - val_accuracy: 0.5739 - lr: 0.0010\n",
            "Epoch 3/100\n",
            "191/191 [==============================] - 2s 10ms/step - loss: 0.5841 - accuracy: 0.6860 - val_loss: 0.4692 - val_accuracy: 0.8043 - lr: 0.0010\n",
            "Epoch 4/100\n",
            "191/191 [==============================] - 3s 15ms/step - loss: 0.3784 - accuracy: 0.8514 - val_loss: 0.4488 - val_accuracy: 0.8175 - lr: 0.0010\n",
            "Epoch 5/100\n",
            "191/191 [==============================] - 2s 10ms/step - loss: 0.2980 - accuracy: 0.8944 - val_loss: 0.4692 - val_accuracy: 0.7958 - lr: 0.0010\n",
            "Epoch 6/100\n",
            "191/191 [==============================] - 2s 9ms/step - loss: 0.2479 - accuracy: 0.9118 - val_loss: 0.5108 - val_accuracy: 0.7879 - lr: 0.0010\n",
            "Epoch 7/100\n",
            "191/191 [==============================] - 2s 9ms/step - loss: 0.2006 - accuracy: 0.9366 - val_loss: 0.5397 - val_accuracy: 0.7814 - lr: 2.0000e-04\n",
            "Epoch 8/100\n",
            "191/191 [==============================] - 1s 8ms/step - loss: 0.1911 - accuracy: 0.9378 - val_loss: 0.5309 - val_accuracy: 0.7938 - lr: 2.0000e-04\n",
            "Epoch 9/100\n",
            "191/191 [==============================] - 2s 8ms/step - loss: 0.1807 - accuracy: 0.9417 - val_loss: 0.5375 - val_accuracy: 0.7905 - lr: 4.0000e-05\n",
            "Epoch 10/100\n",
            "191/191 [==============================] - 2s 8ms/step - loss: 0.1774 - accuracy: 0.9455 - val_loss: 0.5397 - val_accuracy: 0.7925 - lr: 4.0000e-05\n"
          ]
        },
        {
          "output_type": "display_data",
          "data": {
            "text/plain": [
              "<Figure size 640x480 with 1 Axes>"
            ],
            "image/png": "[encoded data removed]"
          },
          "metadata": {}
        },
        {
          "output_type": "display_data",
          "data": {
            "text/plain": [
              "<Figure size 640x480 with 1 Axes>"
            ],
            "image/png": "[encoded data removed]"
          },
          "metadata": {}
        }
      ]
    },
    {
      "cell_type": "code",
      "source": [
        "rnn_gru.evaluate(x_val, y_val)"
      ],
      "metadata": {
        "colab": {
          "base_uri": "https://localhost:8080/"
        },
        "id": "PlVVWNsnCcTP",
        "outputId": "cf8ad532-a801-4c27-e059-876d9c8a2d14"
      },
      "execution_count": 117,
      "outputs": [
        {
          "output_type": "stream",
          "name": "stdout",
          "text": [
            "48/48 [==============================] - 0s 3ms/step - loss: 0.4488 - accuracy: 0.8175\n"
          ]
        },
        {
          "output_type": "execute_result",
          "data": {
            "text/plain": [
              "[0.44882145524024963, 0.8174655437469482]"
            ]
          },
          "metadata": {},
          "execution_count": 117
        }
      ]
    },
    {
      "cell_type": "markdown",
      "source": [
        "### Compare models"
      ],
      "metadata": {
        "id": "VISI3bCzam4T"
      }
    },
    {
      "cell_type": "code",
      "source": [
        "loss1, acc1 = rnn_model.evaluate(x_val, y_val)\n",
        "loss2, acc2 = b_lstm_model.evaluate(x_val, y_val)\n",
        "loss3, acc3 = rnn_cnn.evaluate(x_val, y_val)\n",
        "loss3, acc4 = rnn_gru.evaluate(x_val, y_val)"
      ],
      "metadata": {
        "colab": {
          "base_uri": "https://localhost:8080/"
        },
        "id": "31QTDCiMalzd",
        "outputId": "b209e8ba-bab3-43c3-9ac6-c5b4b63c3f6c"
      },
      "execution_count": 118,
      "outputs": [
        {
          "output_type": "stream",
          "name": "stdout",
          "text": [
            "48/48 [==============================] - 1s 11ms/step - loss: 0.7014 - accuracy: 0.7873\n",
            "48/48 [==============================] - 0s 4ms/step - loss: 0.4373 - accuracy: 0.8122\n",
            "48/48 [==============================] - 1s 4ms/step - loss: 0.6935 - accuracy: 0.4268\n",
            "48/48 [==============================] - 0s 3ms/step - loss: 0.4488 - accuracy: 0.8175\n"
          ]
        }
      ]
    },
    {
      "cell_type": "markdown",
      "source": [
        "### Saving the models and tokenizers"
      ],
      "metadata": {
        "id": "M4Eg7Tl3_GV3"
      }
    },
    {
      "cell_type": "code",
      "source": [
        "import pickle\n",
        "\n",
        "# saving\n",
        "with open('tokenizer.pickle', 'wb') as handle:\n",
        "    pickle.dump(tokenizer, handle, protocol=pickle.HIGHEST_PROTOCOL)\n"
      ],
      "metadata": {
        "id": "bRyMU6cO-0M1"
      },
      "execution_count": 39,
      "outputs": []
    },
    {
      "cell_type": "code",
      "source": [
        "rnn_cnn.save(\"model_rnn_cnn.h5\")\n",
        "rnn_model.save(\"model_rnn.h5\")\n",
        "b_lstm_model.save(\"model_b_lstm.h5\")"
      ],
      "metadata": {
        "id": "QM3juO1y_70u"
      },
      "execution_count": 40,
      "outputs": []
    },
    {
      "cell_type": "code",
      "source": [
        "text_not_disaster=\"Life like an ensemble: take the best choices from others and make your own\"\n",
        "text_disaster=\"Reports that the smoke in Beirut sky contains nitric acid, which is toxic. Please share and refrain from stepping outside unless urgent. #Lebanon\"\n"
      ],
      "metadata": {
        "id": "BrCEwHoIAR5B"
      },
      "execution_count": 41,
      "outputs": []
    },
    {
      "cell_type": "code",
      "source": [
        "token_not_disaster = tokenizer.transform([text_not_disaster])\n",
        "token_disaster = tokenizer.transform([text_disaster])\n"
      ],
      "metadata": {
        "id": "T-Jwzx7eAre8"
      },
      "execution_count": 42,
      "outputs": []
    },
    {
      "cell_type": "code",
      "source": [
        "token_not_disaster.shape, token_disaster.shape\n"
      ],
      "metadata": {
        "colab": {
          "base_uri": "https://localhost:8080/"
        },
        "id": "eGsnkKNQBeOp",
        "outputId": "af61c921-432f-47fe-ae7e-87eee8466abd"
      },
      "execution_count": 43,
      "outputs": [
        {
          "output_type": "execute_result",
          "data": {
            "text/plain": [
              "((1, 30), (1, 30))"
            ]
          },
          "metadata": {},
          "execution_count": 43
        }
      ]
    },
    {
      "cell_type": "code",
      "source": [
        "# rnn predicts\n",
        "pr_not_disaster = rnn_model.predict(token_not_disaster)\n",
        "pr_disaster = rnn_model.predict(token_disaster)\n",
        "\n",
        "pr_not_disaster, pr_disaster"
      ],
      "metadata": {
        "colab": {
          "base_uri": "https://localhost:8080/"
        },
        "id": "4-6N4BseBsgZ",
        "outputId": "92cdd7da-8969-46a1-859f-f3e4f411fabe"
      },
      "execution_count": 44,
      "outputs": [
        {
          "output_type": "stream",
          "name": "stdout",
          "text": [
            "1/1 [==============================] - 0s 413ms/step\n",
            "1/1 [==============================] - 0s 41ms/step\n"
          ]
        },
        {
          "output_type": "execute_result",
          "data": {
            "text/plain": [
              "(array([[0.00777986]], dtype=float32), array([[0.99434596]], dtype=float32))"
            ]
          },
          "metadata": {},
          "execution_count": 44
        }
      ]
    },
    {
      "cell_type": "code",
      "source": [
        "# rnn_cnn predicts\n",
        "\n",
        "pr_not_disaster_cnn = rnn_cnn.predict(token_not_disaster)\n",
        "pr_disaster_cnn = rnn_cnn.predict(token_disaster)\n",
        "\n",
        "pr_not_disaster_cnn, pr_disaster_cnn"
      ],
      "metadata": {
        "colab": {
          "base_uri": "https://localhost:8080/"
        },
        "id": "V39Po1TSG7Yf",
        "outputId": "2f76aa48-0430-4985-c756-ad82449392bf"
      },
      "execution_count": 45,
      "outputs": [
        {
          "output_type": "stream",
          "name": "stdout",
          "text": [
            "1/1 [==============================] - 0s 438ms/step\n",
            "1/1 [==============================] - 0s 29ms/step\n"
          ]
        },
        {
          "output_type": "execute_result",
          "data": {
            "text/plain": [
              "(array([[0.19962886]], dtype=float32), array([[0.6817393]], dtype=float32))"
            ]
          },
          "metadata": {},
          "execution_count": 45
        }
      ]
    },
    {
      "cell_type": "code",
      "source": [
        "# bidirectional predicts\n",
        "pr_not_disaster_b = b_lstm_model.predict(token_not_disaster)\n",
        "pr_disaster_b = b_lstm_model.predict(token_disaster)\n",
        "\n",
        "pr_not_disaster_b, pr_disaster_b"
      ],
      "metadata": {
        "colab": {
          "base_uri": "https://localhost:8080/"
        },
        "id": "28qE3NNciVFJ",
        "outputId": "8ed0cbeb-6d72-4d11-ce28-ff61d002f18d"
      },
      "execution_count": 46,
      "outputs": [
        {
          "output_type": "stream",
          "name": "stdout",
          "text": [
            "1/1 [==============================] - 1s 772ms/step\n",
            "1/1 [==============================] - 0s 20ms/step\n"
          ]
        },
        {
          "output_type": "execute_result",
          "data": {
            "text/plain": [
              "(array([[0.08869642]], dtype=float32), array([[0.7003002]], dtype=float32))"
            ]
          },
          "metadata": {},
          "execution_count": 46
        }
      ]
    },
    {
      "cell_type": "markdown",
      "source": [],
      "metadata": {
        "id": "0pHIW4LoWzkQ"
      }
    }
  ]
}