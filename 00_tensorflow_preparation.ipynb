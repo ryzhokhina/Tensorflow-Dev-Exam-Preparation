{
  "nbformat": 4,
  "nbformat_minor": 0,
  "metadata": {
    "colab": {
      "provenance": [],
      "gpuType": "T4",
      "authorship_tag": "ABX9TyOVViiSYt+dCOP0N8wJGvxU",
      "include_colab_link": true
    },
    "kernelspec": {
      "name": "python3",
      "display_name": "Python 3"
    },
    "language_info": {
      "name": "python"
    },
    "accelerator": "GPU",
    "gpuClass": "standard"
  },
  "cells": [
    {
      "cell_type": "markdown",
      "metadata": {
        "id": "view-in-github",
        "colab_type": "text"
      },
      "source": [
        "<a href=\"https://colab.research.google.com/github/ryzhokhina/Tensorflow-Dev-Exam-Preparation/blob/main/00_tensorflow_preparation.ipynb\" target=\"_parent\"><img src=\"https://colab.research.google.com/assets/colab-badge.svg\" alt=\"Open In Colab\"/></a>"
      ]
    },
    {
      "cell_type": "code",
      "execution_count": null,
      "metadata": {
        "id": "BZbHpE4EVOWL"
      },
      "outputs": [],
      "source": [
        " import tensorflow as tf\n",
        "import numpy as np"
      ]
    },
    {
      "cell_type": "code",
      "source": [
        "print(tf.__version__)"
      ],
      "metadata": {
        "colab": {
          "base_uri": "https://localhost:8080/"
        },
        "id": "UnajUwNHVWL9",
        "outputId": "b210dee0-671f-4829-f986-46476efa3874"
      },
      "execution_count": null,
      "outputs": [
        {
          "output_type": "stream",
          "name": "stdout",
          "text": [
            "2.12.0\n"
          ]
        }
      ]
    },
    {
      "cell_type": "code",
      "source": [
        "scalar = tf.constant(7)\n",
        "scalar"
      ],
      "metadata": {
        "colab": {
          "base_uri": "https://localhost:8080/"
        },
        "id": "CcO-brA2Vlb2",
        "outputId": "5041128c-acb8-45e2-f01f-6e0d07229f58"
      },
      "execution_count": null,
      "outputs": [
        {
          "output_type": "execute_result",
          "data": {
            "text/plain": [
              "<tf.Tensor: shape=(), dtype=int32, numpy=7>"
            ]
          },
          "metadata": {},
          "execution_count": 3
        }
      ]
    },
    {
      "cell_type": "code",
      "source": [
        "scalar.ndim"
      ],
      "metadata": {
        "colab": {
          "base_uri": "https://localhost:8080/"
        },
        "id": "JjuUrjU5V-K8",
        "outputId": "3547ea9a-0404-4327-9bed-6c088e4c4c5c"
      },
      "execution_count": null,
      "outputs": [
        {
          "output_type": "execute_result",
          "data": {
            "text/plain": [
              "0"
            ]
          },
          "metadata": {},
          "execution_count": 4
        }
      ]
    },
    {
      "cell_type": "code",
      "source": [
        "vector = tf.constant([10,11,12,23])\n",
        "vector"
      ],
      "metadata": {
        "colab": {
          "base_uri": "https://localhost:8080/"
        },
        "id": "wssVOsV7WbFv",
        "outputId": "601f52a7-2536-4bf5-9139-9289a80bfede"
      },
      "execution_count": null,
      "outputs": [
        {
          "output_type": "execute_result",
          "data": {
            "text/plain": [
              "<tf.Tensor: shape=(4,), dtype=int32, numpy=array([10, 11, 12, 23], dtype=int32)>"
            ]
          },
          "metadata": {},
          "execution_count": 5
        }
      ]
    },
    {
      "cell_type": "code",
      "source": [
        "vector.ndim"
      ],
      "metadata": {
        "colab": {
          "base_uri": "https://localhost:8080/"
        },
        "id": "22EcUhAlWrGW",
        "outputId": "b24358cb-00ec-4a13-b497-0077b2fbe0c3"
      },
      "execution_count": null,
      "outputs": [
        {
          "output_type": "execute_result",
          "data": {
            "text/plain": [
              "1"
            ]
          },
          "metadata": {},
          "execution_count": 6
        }
      ]
    },
    {
      "cell_type": "code",
      "source": [
        "matrix = tf.constant([[9,4],[9,7]])\n",
        "matrix"
      ],
      "metadata": {
        "colab": {
          "base_uri": "https://localhost:8080/"
        },
        "id": "8j2ipftfWuC0",
        "outputId": "3d8ed3ce-3d13-4d16-f2d0-25ad5eb92a7b"
      },
      "execution_count": null,
      "outputs": [
        {
          "output_type": "execute_result",
          "data": {
            "text/plain": [
              "<tf.Tensor: shape=(2, 2), dtype=int32, numpy=\n",
              "array([[9, 4],\n",
              "       [9, 7]], dtype=int32)>"
            ]
          },
          "metadata": {},
          "execution_count": 7
        }
      ]
    },
    {
      "cell_type": "code",
      "source": [
        "matrix.ndim"
      ],
      "metadata": {
        "colab": {
          "base_uri": "https://localhost:8080/"
        },
        "id": "jeZCbHo7W7R6",
        "outputId": "d6add067-75bf-4c7b-c94e-acb18ae3caf7"
      },
      "execution_count": null,
      "outputs": [
        {
          "output_type": "execute_result",
          "data": {
            "text/plain": [
              "2"
            ]
          },
          "metadata": {},
          "execution_count": 8
        }
      ]
    },
    {
      "cell_type": "code",
      "source": [
        "float_matrix = tf.constant([[1,2],[3,4],[5,6]], dtype = tf.float16)"
      ],
      "metadata": {
        "id": "QC2SuYvGW9U2"
      },
      "execution_count": null,
      "outputs": []
    },
    {
      "cell_type": "code",
      "source": [
        "float_matrix"
      ],
      "metadata": {
        "colab": {
          "base_uri": "https://localhost:8080/"
        },
        "id": "5beSrTflXipO",
        "outputId": "ce53d31e-a593-41a3-ae72-50d9964f2377"
      },
      "execution_count": null,
      "outputs": [
        {
          "output_type": "execute_result",
          "data": {
            "text/plain": [
              "<tf.Tensor: shape=(3, 2), dtype=float16, numpy=\n",
              "array([[1., 2.],\n",
              "       [3., 4.],\n",
              "       [5., 6.]], dtype=float16)>"
            ]
          },
          "metadata": {},
          "execution_count": 10
        }
      ]
    },
    {
      "cell_type": "code",
      "source": [
        "float_matrix.ndim"
      ],
      "metadata": {
        "colab": {
          "base_uri": "https://localhost:8080/"
        },
        "id": "OuacefwSXkIJ",
        "outputId": "c2fbad73-a7b6-4271-8d84-d220bf0954c5"
      },
      "execution_count": null,
      "outputs": [
        {
          "output_type": "execute_result",
          "data": {
            "text/plain": [
              "2"
            ]
          },
          "metadata": {},
          "execution_count": 11
        }
      ]
    },
    {
      "cell_type": "code",
      "source": [
        "v_tensor = tf.Variable([10,7])"
      ],
      "metadata": {
        "id": "cGDAmAWeX0Yc"
      },
      "execution_count": null,
      "outputs": []
    },
    {
      "cell_type": "code",
      "source": [
        "v_tensor"
      ],
      "metadata": {
        "colab": {
          "base_uri": "https://localhost:8080/"
        },
        "id": "jM1pXvF8ZaIm",
        "outputId": "2189ceeb-acb4-49b1-f84f-add21260cf07"
      },
      "execution_count": null,
      "outputs": [
        {
          "output_type": "execute_result",
          "data": {
            "text/plain": [
              "<tf.Variable 'Variable:0' shape=(2,) dtype=int32, numpy=array([10,  7], dtype=int32)>"
            ]
          },
          "metadata": {},
          "execution_count": 13
        }
      ]
    },
    {
      "cell_type": "code",
      "source": [
        "v_tensor[0]"
      ],
      "metadata": {
        "colab": {
          "base_uri": "https://localhost:8080/"
        },
        "id": "-dmAMuWZZbgU",
        "outputId": "9ab995c5-2d88-4ac9-b2fb-647183109358"
      },
      "execution_count": null,
      "outputs": [
        {
          "output_type": "execute_result",
          "data": {
            "text/plain": [
              "<tf.Tensor: shape=(), dtype=int32, numpy=10>"
            ]
          },
          "metadata": {},
          "execution_count": 14
        }
      ]
    },
    {
      "cell_type": "code",
      "source": [
        "v_tensor[0] = 6"
      ],
      "metadata": {
        "colab": {
          "base_uri": "https://localhost:8080/",
          "height": 166
        },
        "id": "qbY6ADS2ZzSR",
        "outputId": "bf019f9e-29ca-493f-e04f-e981956b8f25"
      },
      "execution_count": null,
      "outputs": [
        {
          "output_type": "error",
          "ename": "TypeError",
          "evalue": "ignored",
          "traceback": [
            "\u001b[0;31m---------------------------------------------------------------------------\u001b[0m",
            "\u001b[0;31mTypeError\u001b[0m                                 Traceback (most recent call last)",
            "\u001b[0;32m<ipython-input-15-4c5703dc8bb9>\u001b[0m in \u001b[0;36m<cell line: 1>\u001b[0;34m()\u001b[0m\n\u001b[0;32m----> 1\u001b[0;31m \u001b[0mv_tensor\u001b[0m\u001b[0;34m[\u001b[0m\u001b[0;36m0\u001b[0m\u001b[0;34m]\u001b[0m \u001b[0;34m=\u001b[0m \u001b[0;36m6\u001b[0m\u001b[0;34m\u001b[0m\u001b[0;34m\u001b[0m\u001b[0m\n\u001b[0m",
            "\u001b[0;31mTypeError\u001b[0m: 'ResourceVariable' object does not support item assignment"
          ]
        }
      ]
    },
    {
      "cell_type": "code",
      "source": [
        "v_tensor[0].assign(8)"
      ],
      "metadata": {
        "id": "VPZIFQnzZ1aK"
      },
      "execution_count": null,
      "outputs": []
    },
    {
      "cell_type": "code",
      "source": [
        "v_tensor"
      ],
      "metadata": {
        "id": "sVLjLkgZaBw-"
      },
      "execution_count": null,
      "outputs": []
    },
    {
      "cell_type": "code",
      "source": [
        "vector[0]"
      ],
      "metadata": {
        "id": "MWX5j4sDaGdb"
      },
      "execution_count": null,
      "outputs": []
    },
    {
      "cell_type": "code",
      "source": [
        "vector[0] = 9"
      ],
      "metadata": {
        "id": "zujQGGI8aLkt"
      },
      "execution_count": null,
      "outputs": []
    },
    {
      "cell_type": "code",
      "source": [
        "vector[0].assign = 9"
      ],
      "metadata": {
        "id": "GKRgG9tRaNR7"
      },
      "execution_count": null,
      "outputs": []
    },
    {
      "cell_type": "code",
      "source": [
        "vector"
      ],
      "metadata": {
        "id": "i7NGf5vSaRDZ"
      },
      "execution_count": null,
      "outputs": []
    },
    {
      "cell_type": "code",
      "source": [
        "vector[0]"
      ],
      "metadata": {
        "id": "uZdGaDjhaSGj"
      },
      "execution_count": null,
      "outputs": []
    },
    {
      "cell_type": "code",
      "source": [
        "random1 = tf.random.Generator.from_seed(42)\n",
        "random1 = random1.uniform(shape = (3,3))"
      ],
      "metadata": {
        "id": "ZJRGYCqYa09B"
      },
      "execution_count": null,
      "outputs": []
    },
    {
      "cell_type": "code",
      "source": [
        "random1"
      ],
      "metadata": {
        "id": "PZ4ubmxRWalk"
      },
      "execution_count": null,
      "outputs": []
    },
    {
      "cell_type": "code",
      "source": [
        "random2 = tf.random.Generator.from_seed(42)\n",
        "random2 = random2.uniform(shape = (3,3))"
      ],
      "metadata": {
        "id": "D3iuvlaPWbo0"
      },
      "execution_count": null,
      "outputs": []
    },
    {
      "cell_type": "code",
      "source": [
        "random2"
      ],
      "metadata": {
        "id": "BJP3SbiPWk_v"
      },
      "execution_count": null,
      "outputs": []
    },
    {
      "cell_type": "code",
      "source": [
        "random1 == random2"
      ],
      "metadata": {
        "id": "6jI62cbqW2t7"
      },
      "execution_count": null,
      "outputs": []
    },
    {
      "cell_type": "code",
      "source": [
        "random3 = tf.random.shuffle(random1)"
      ],
      "metadata": {
        "id": "ztFbgOXgXE5n"
      },
      "execution_count": null,
      "outputs": []
    },
    {
      "cell_type": "code",
      "source": [
        "random3, random1"
      ],
      "metadata": {
        "id": "zE8m1Nb5ZoGe"
      },
      "execution_count": null,
      "outputs": []
    },
    {
      "cell_type": "code",
      "source": [
        "random4 = tf.random.shuffle(random1, seed = 42)\n",
        "random4"
      ],
      "metadata": {
        "id": "AC6ugujDZr7-"
      },
      "execution_count": null,
      "outputs": []
    },
    {
      "cell_type": "code",
      "source": [
        "random4"
      ],
      "metadata": {
        "id": "d8ty4wYJaPO7"
      },
      "execution_count": null,
      "outputs": []
    },
    {
      "cell_type": "code",
      "source": [
        "print(tf.random.uniform([1]))  \n",
        "print(tf.random.uniform([1]))"
      ],
      "metadata": {
        "id": "-7qwstFLaWZQ"
      },
      "execution_count": null,
      "outputs": []
    },
    {
      "cell_type": "code",
      "source": [
        "print(tf.random.uniform([1])) \n",
        "print(tf.random.uniform([1]))"
      ],
      "metadata": {
        "id": "Gx5AZsGa7EAj"
      },
      "execution_count": null,
      "outputs": []
    },
    {
      "cell_type": "code",
      "source": [
        "tf.random.set_seed(1234)\n",
        "print(tf.random.uniform([1]))  # generates 'A1'\n",
        "print(tf.random.uniform([1]))  # generates 'A"
      ],
      "metadata": {
        "id": "T1KmQJDd7NSL"
      },
      "execution_count": null,
      "outputs": []
    },
    {
      "cell_type": "code",
      "source": [
        "tf.random.set_seed(1234)\n",
        "print(tf.random.uniform([1]))  # generates 'A1'\n",
        "print(tf.random.uniform([1]))  # generates 'A"
      ],
      "metadata": {
        "id": "cP29HQSF7Q7F"
      },
      "execution_count": null,
      "outputs": []
    },
    {
      "cell_type": "code",
      "source": [
        "tf.random.set_seed(1234)\n",
        "\n",
        "@tf.function\n",
        "def f():\n",
        "  a = tf.random.uniform([1])\n",
        "  b = tf.random.uniform([1])\n",
        "  return a, b\n",
        "\n",
        "@tf.function\n",
        "def g():\n",
        "  a = tf.random.uniform([1])\n",
        "  b = tf.random.uniform([1])\n",
        "  return a, b\n",
        "\n",
        "print(f())  \n",
        "print(g()) "
      ],
      "metadata": {
        "id": "JiWiiPg37Rmo"
      },
      "execution_count": null,
      "outputs": []
    },
    {
      "cell_type": "code",
      "source": [
        "import tensorflow as tf"
      ],
      "metadata": {
        "id": "Y4u6hjY6B_Fm"
      },
      "execution_count": null,
      "outputs": []
    },
    {
      "cell_type": "code",
      "source": [
        "print(tf.random.uniform([1], seed=1))  # generates 'A1'\n",
        "print(tf.random.uniform([1], seed=1))  # generates 'A2'"
      ],
      "metadata": {
        "id": "BPnvvN5C71Ks"
      },
      "execution_count": null,
      "outputs": []
    },
    {
      "cell_type": "code",
      "source": [
        "print(tf.random.uniform([1], seed=1))  # generates 'A1'\n",
        "print(tf.random.uniform([1], seed=1))  # generates 'A2'"
      ],
      "metadata": {
        "id": "pIHCWLee72At"
      },
      "execution_count": null,
      "outputs": []
    },
    {
      "cell_type": "code",
      "source": [
        "@tf.function\n",
        "def foo():\n",
        "  a = tf.random.uniform([1], seed=1)\n",
        "  b = tf.random.uniform([1], seed=1)\n",
        "  return a, b\n",
        "print(foo())  # prints '(A1, A1)'\n",
        "print(foo())  # prints '(A2, A2)'\n",
        "\n",
        "@tf.function\n",
        "def bar():\n",
        "  a = tf.random.uniform([1])\n",
        "  b = tf.random.uniform([1])\n",
        "  return a, b\n",
        "print(bar())  # prints '(A1, A2)'\n",
        "print(bar())  # prints '(A3, A4)'"
      ],
      "metadata": {
        "id": "J237BmmUCcRy"
      },
      "execution_count": null,
      "outputs": []
    },
    {
      "cell_type": "code",
      "source": [],
      "metadata": {
        "id": "K1uLazR0GUDi"
      },
      "execution_count": null,
      "outputs": []
    },
    {
      "cell_type": "code",
      "source": [
        "print(foo())"
      ],
      "metadata": {
        "id": "QqqB6tOsDjfY"
      },
      "execution_count": null,
      "outputs": []
    },
    {
      "cell_type": "code",
      "source": [
        "print(tf.random.uniform([1], seed=1))  # generates 'A1'\n",
        "print(tf.random.uniform([1], seed=1))  # generates 'A2'"
      ],
      "metadata": {
        "id": "cHSjLL_cDmv_"
      },
      "execution_count": null,
      "outputs": []
    },
    {
      "cell_type": "code",
      "source": [
        "unshuffled_tensor = tf.random.normal((4,2))"
      ],
      "metadata": {
        "id": "c7tnHy70GbFu"
      },
      "execution_count": null,
      "outputs": []
    },
    {
      "cell_type": "code",
      "source": [
        "unshuffled_tensor"
      ],
      "metadata": {
        "id": "bPshgISjGla4"
      },
      "execution_count": null,
      "outputs": []
    },
    {
      "cell_type": "code",
      "source": [
        "tf.random.set_seed(42)\n",
        "sh_tensor = tf.random.shuffle(unshuffled_tensor, seed = 4)\n",
        "sh_tensor\n"
      ],
      "metadata": {
        "id": "RWMNHOCSGUq1"
      },
      "execution_count": null,
      "outputs": []
    },
    {
      "cell_type": "code",
      "source": [
        "tf.ones([3,4])"
      ],
      "metadata": {
        "id": "MR-mDokGG1MS"
      },
      "execution_count": null,
      "outputs": []
    },
    {
      "cell_type": "code",
      "source": [
        "tf.zeros(shape = (4,2))"
      ],
      "metadata": {
        "id": "ARQUhahkJa0d"
      },
      "execution_count": null,
      "outputs": []
    },
    {
      "cell_type": "code",
      "source": [
        "tf.zeros([3,2,4])"
      ],
      "metadata": {
        "id": "LMuQqsXKJiK2"
      },
      "execution_count": null,
      "outputs": []
    },
    {
      "cell_type": "code",
      "source": [
        "import numpy as np"
      ],
      "metadata": {
        "id": "AYFwTKp8JoDX"
      },
      "execution_count": null,
      "outputs": []
    },
    {
      "cell_type": "code",
      "source": [
        "np_A = np.ones((2,3))"
      ],
      "metadata": {
        "id": "Cxas0_7kJtPP"
      },
      "execution_count": null,
      "outputs": []
    },
    {
      "cell_type": "code",
      "source": [
        "np_A"
      ],
      "metadata": {
        "id": "3NsQvasGJxtZ"
      },
      "execution_count": null,
      "outputs": []
    },
    {
      "cell_type": "code",
      "source": [
        "np_A = np.arange(1,25, dtype = np.int32)\n",
        "np_A"
      ],
      "metadata": {
        "id": "AxHQBVwtJzrI"
      },
      "execution_count": null,
      "outputs": []
    },
    {
      "cell_type": "code",
      "source": [
        "A = tf.constant(np_A)\n",
        "B = tf.constant(np_A, shape = (3,8))"
      ],
      "metadata": {
        "id": "W_SE4OOZK_qB"
      },
      "execution_count": null,
      "outputs": []
    },
    {
      "cell_type": "code",
      "source": [
        "A"
      ],
      "metadata": {
        "id": "gvTrAulQLH0y"
      },
      "execution_count": null,
      "outputs": []
    },
    {
      "cell_type": "code",
      "source": [
        "B"
      ],
      "metadata": {
        "id": "BdvnC0P1LOqT"
      },
      "execution_count": null,
      "outputs": []
    },
    {
      "cell_type": "code",
      "source": [
        "A.ndim, B.ndim"
      ],
      "metadata": {
        "id": "7-SaI53ULP-e"
      },
      "execution_count": null,
      "outputs": []
    },
    {
      "cell_type": "code",
      "source": [
        "tensor_4_dim = tf.zeros(shape = [2,3,4,5])"
      ],
      "metadata": {
        "id": "gIzD-8ToLVNi"
      },
      "execution_count": null,
      "outputs": []
    },
    {
      "cell_type": "code",
      "source": [
        "tensor_4_dim"
      ],
      "metadata": {
        "id": "FIGIfPBax7kz"
      },
      "execution_count": null,
      "outputs": []
    },
    {
      "cell_type": "code",
      "source": [
        "tensor_4_dim.shape, tensor_4_dim.ndim, tf.size(tensor_4_dim)"
      ],
      "metadata": {
        "id": "TlIntsY2x8GS"
      },
      "execution_count": null,
      "outputs": []
    },
    {
      "cell_type": "code",
      "source": [
        "tensor_4_dim[0]"
      ],
      "metadata": {
        "id": "InXgOSkLyy27"
      },
      "execution_count": null,
      "outputs": []
    },
    {
      "cell_type": "code",
      "source": [
        "tensor_4_dim[:2,:2,:2,:2]"
      ],
      "metadata": {
        "id": "SjUjOuwn06RL"
      },
      "execution_count": null,
      "outputs": []
    },
    {
      "cell_type": "code",
      "source": [
        "tensor_4_dim[:1,:1,:1]"
      ],
      "metadata": {
        "id": "LH9OC28c1Otg"
      },
      "execution_count": null,
      "outputs": []
    },
    {
      "cell_type": "code",
      "source": [
        "tensor_4_dim[1,1,1]"
      ],
      "metadata": {
        "id": "QOILtQr01_UH"
      },
      "execution_count": null,
      "outputs": []
    },
    {
      "cell_type": "code",
      "source": [
        "rank_2_tensor = tf.constant([[10,7],[4,3]])"
      ],
      "metadata": {
        "id": "gS0tk-Gr2DZ3"
      },
      "execution_count": null,
      "outputs": []
    },
    {
      "cell_type": "code",
      "source": [
        "rank_2_tensor"
      ],
      "metadata": {
        "id": "v6tVbZPd3aOY"
      },
      "execution_count": null,
      "outputs": []
    },
    {
      "cell_type": "code",
      "source": [
        "rank_2_tensor[:,:1]"
      ],
      "metadata": {
        "id": "11VXu1Na3crn"
      },
      "execution_count": null,
      "outputs": []
    },
    {
      "cell_type": "code",
      "source": [
        "rank_2_tensor[:,-1]"
      ],
      "metadata": {
        "id": "6vprdS803hOW"
      },
      "execution_count": null,
      "outputs": []
    },
    {
      "cell_type": "code",
      "source": [
        "rank_2_tensor[:,-1:]"
      ],
      "metadata": {
        "id": "hnaU4qFQ3rTX"
      },
      "execution_count": null,
      "outputs": []
    },
    {
      "cell_type": "code",
      "source": [
        "rank_3_tensor = rank_2_tensor[..., tf.newaxis]"
      ],
      "metadata": {
        "id": "bcnyNtgs3vzQ"
      },
      "execution_count": null,
      "outputs": []
    },
    {
      "cell_type": "code",
      "source": [
        "rank_3_tensor"
      ],
      "metadata": {
        "id": "gXm-owab4sfx"
      },
      "execution_count": null,
      "outputs": []
    },
    {
      "cell_type": "code",
      "source": [
        "rank_3_tensor2 = tf.expand_dims(rank_2_tensor, 1)\n",
        "rank_3_tensor2"
      ],
      "metadata": {
        "id": "DU4cT_jH4ufW"
      },
      "execution_count": null,
      "outputs": []
    },
    {
      "cell_type": "code",
      "source": [
        "tf.expand_dims(rank_2_tensor, -1)"
      ],
      "metadata": {
        "id": "bugu7cBn5MBJ"
      },
      "execution_count": null,
      "outputs": []
    },
    {
      "cell_type": "code",
      "source": [
        "tensor = rank_2_tensor\n",
        "tensor"
      ],
      "metadata": {
        "id": "ZyhhQx9B5kAZ"
      },
      "execution_count": null,
      "outputs": []
    },
    {
      "cell_type": "code",
      "source": [
        "tensor+10"
      ],
      "metadata": {
        "id": "759d_nST6MX5"
      },
      "execution_count": null,
      "outputs": []
    },
    {
      "cell_type": "code",
      "source": [
        "tensor-4"
      ],
      "metadata": {
        "id": "dkotUuGu6OOz"
      },
      "execution_count": null,
      "outputs": []
    },
    {
      "cell_type": "code",
      "source": [
        "tensor*2"
      ],
      "metadata": {
        "id": "3OPON2YS6Sok"
      },
      "execution_count": null,
      "outputs": []
    },
    {
      "cell_type": "code",
      "source": [
        "tensor/10"
      ],
      "metadata": {
        "id": "oJglbxF_6V98"
      },
      "execution_count": null,
      "outputs": []
    },
    {
      "cell_type": "code",
      "source": [
        "tf.add(tensor,10)"
      ],
      "metadata": {
        "id": "yXTrcArX6Yx2"
      },
      "execution_count": null,
      "outputs": []
    },
    {
      "cell_type": "code",
      "source": [
        "tf.math.multiply(tensor,2)"
      ],
      "metadata": {
        "id": "7anq6ij9-Vkd"
      },
      "execution_count": null,
      "outputs": []
    },
    {
      "cell_type": "code",
      "source": [
        "tf.math.divide(tensor,10)"
      ],
      "metadata": {
        "id": "NSoGfYk_-eYD"
      },
      "execution_count": null,
      "outputs": []
    },
    {
      "cell_type": "code",
      "source": [
        "tf.math.subtract(tensor,1)"
      ],
      "metadata": {
        "id": "eHzaakIH-xbl"
      },
      "execution_count": null,
      "outputs": []
    },
    {
      "cell_type": "code",
      "source": [
        "tensor = tf.constant([[10,7],[4,3]])"
      ],
      "metadata": {
        "id": "cnxl6zuu_Cfp"
      },
      "execution_count": null,
      "outputs": []
    },
    {
      "cell_type": "code",
      "source": [
        "tensor"
      ],
      "metadata": {
        "id": "GzsEH08VJYF2"
      },
      "execution_count": null,
      "outputs": []
    },
    {
      "cell_type": "code",
      "source": [
        "t2= tf.matmul(tensor, tensor)\n",
        "t2"
      ],
      "metadata": {
        "id": "vnBZlAW4JY38"
      },
      "execution_count": null,
      "outputs": []
    },
    {
      "cell_type": "code",
      "source": [
        "tensor@tensor"
      ],
      "metadata": {
        "id": "eams-dNTJ8aV"
      },
      "execution_count": null,
      "outputs": []
    },
    {
      "cell_type": "code",
      "source": [
        "tensor*tensor"
      ],
      "metadata": {
        "id": "0TK3t3czJkBr"
      },
      "execution_count": null,
      "outputs": []
    },
    {
      "cell_type": "code",
      "source": [
        "t1 = tf.constant([[1,2],[3,4],[5,6]])"
      ],
      "metadata": {
        "id": "tHUHOIvlJpTj"
      },
      "execution_count": null,
      "outputs": []
    },
    {
      "cell_type": "code",
      "source": [
        "t2 = tf.constant([[7,8],[9,10],[11,12]])"
      ],
      "metadata": {
        "id": "9W0hDkzMKRNn"
      },
      "execution_count": null,
      "outputs": []
    },
    {
      "cell_type": "code",
      "source": [
        "t1, t2"
      ],
      "metadata": {
        "id": "HNT0CnniKh9Y"
      },
      "execution_count": null,
      "outputs": []
    },
    {
      "cell_type": "code",
      "source": [
        "tf.reshape(t2, [2,3])"
      ],
      "metadata": {
        "id": "vDpBaK0dLJ2b"
      },
      "execution_count": null,
      "outputs": []
    },
    {
      "cell_type": "code",
      "source": [
        "t1@tf.reshape(t2, [2,3])"
      ],
      "metadata": {
        "id": "YkeFPQUXKi20"
      },
      "execution_count": null,
      "outputs": []
    },
    {
      "cell_type": "code",
      "source": [
        "tf.matmul(t1, tf.reshape(t2,[2,3]))"
      ],
      "metadata": {
        "id": "Ovuuzm5fLDXY"
      },
      "execution_count": null,
      "outputs": []
    },
    {
      "cell_type": "code",
      "source": [
        "tf.transpose(t1)"
      ],
      "metadata": {
        "id": "VB1uGaumLj3r"
      },
      "execution_count": null,
      "outputs": []
    },
    {
      "cell_type": "code",
      "source": [
        "tf.reshape(t1, [2,3])"
      ],
      "metadata": {
        "id": "ij2SpFIPLy6y"
      },
      "execution_count": null,
      "outputs": []
    },
    {
      "cell_type": "code",
      "source": [
        "t1"
      ],
      "metadata": {
        "id": "ZZGeL3WSMBCH"
      },
      "execution_count": null,
      "outputs": []
    },
    {
      "cell_type": "code",
      "source": [
        "tf.tensordot(t1,t2,axes=0)"
      ],
      "metadata": {
        "id": "NxceGVtXMDob"
      },
      "execution_count": null,
      "outputs": []
    },
    {
      "cell_type": "code",
      "source": [
        "tf.tensordot(tf.transpose(t1),t2,axes=1)"
      ],
      "metadata": {
        "id": "vHIIy1o2Mtbw"
      },
      "execution_count": null,
      "outputs": []
    },
    {
      "cell_type": "code",
      "source": [
        "tf.transpose(t1),t2"
      ],
      "metadata": {
        "id": "CXzSlId8PjOa"
      },
      "execution_count": null,
      "outputs": []
    },
    {
      "cell_type": "code",
      "source": [
        "t = tf.constant([[7,8],[9,10],[11,12]])"
      ],
      "metadata": {
        "id": "7J7CQIJCBLjR"
      },
      "execution_count": null,
      "outputs": []
    },
    {
      "cell_type": "code",
      "source": [
        "t.dtype"
      ],
      "metadata": {
        "id": "2j9X-9EQBM6q"
      },
      "execution_count": null,
      "outputs": []
    },
    {
      "cell_type": "code",
      "source": [
        "b = tf.constant([[7.0,8],[9,10],[11,12]])"
      ],
      "metadata": {
        "id": "VQNVlyONBPYu"
      },
      "execution_count": null,
      "outputs": []
    },
    {
      "cell_type": "code",
      "source": [
        "b.dtype"
      ],
      "metadata": {
        "id": "-CKfEfn4BUKl"
      },
      "execution_count": null,
      "outputs": []
    },
    {
      "cell_type": "code",
      "source": [
        "b = tf.cast(b, dtype = tf.float16)\n",
        "b"
      ],
      "metadata": {
        "id": "utVxLw9gBVLo"
      },
      "execution_count": null,
      "outputs": []
    },
    {
      "cell_type": "code",
      "source": [
        "b = tf.constant([[-7.0,-8],[-9,-10],[-11,-12]])"
      ],
      "metadata": {
        "id": "Ya2_Z3SrBc_V"
      },
      "execution_count": null,
      "outputs": []
    },
    {
      "cell_type": "code",
      "source": [
        "b_abs = tf.abs(b)\n",
        "b_abs"
      ],
      "metadata": {
        "id": "ca7UclYqDJtx"
      },
      "execution_count": null,
      "outputs": []
    },
    {
      "cell_type": "code",
      "source": [
        "b_min = tf.reduce_min(b)\n",
        "b_min"
      ],
      "metadata": {
        "id": "xKA_LibvDMFF"
      },
      "execution_count": null,
      "outputs": []
    },
    {
      "cell_type": "code",
      "source": [
        "tf.minimum(b, b_abs)"
      ],
      "metadata": {
        "id": "24pldz4_DgJs"
      },
      "execution_count": null,
      "outputs": []
    },
    {
      "cell_type": "code",
      "source": [
        "tf.minimum(b, b_min)"
      ],
      "metadata": {
        "id": "gwEjAiMHGah8"
      },
      "execution_count": null,
      "outputs": []
    },
    {
      "cell_type": "code",
      "source": [
        "tf.minimum(b, -18)"
      ],
      "metadata": {
        "id": "C12e4KMDGwK_"
      },
      "execution_count": null,
      "outputs": []
    },
    {
      "cell_type": "code",
      "source": [
        "b_max = tf.reduce_max(b)\n",
        "b_max"
      ],
      "metadata": {
        "id": "EnigvYDnG5U3"
      },
      "execution_count": null,
      "outputs": []
    },
    {
      "cell_type": "code",
      "source": [
        "tf.maximum(b, b_abs)"
      ],
      "metadata": {
        "id": "TLZLPfgmG_83"
      },
      "execution_count": null,
      "outputs": []
    },
    {
      "cell_type": "code",
      "source": [
        "tf.maximum(b, 0)"
      ],
      "metadata": {
        "id": "cvg5yiiZHNph"
      },
      "execution_count": null,
      "outputs": []
    },
    {
      "cell_type": "code",
      "source": [
        "tf.reduce_sum(b)"
      ],
      "metadata": {
        "id": "dwKQCEcjHTwb"
      },
      "execution_count": null,
      "outputs": []
    },
    {
      "cell_type": "code",
      "source": [
        "tf.reduce_sum(b, axis = 1)"
      ],
      "metadata": {
        "id": "HYXYLUUMHdiY"
      },
      "execution_count": null,
      "outputs": []
    },
    {
      "cell_type": "code",
      "source": [
        "b"
      ],
      "metadata": {
        "id": "GOsTtab8N18O"
      },
      "execution_count": null,
      "outputs": []
    },
    {
      "cell_type": "code",
      "source": [
        "tf.reduce_sum(b, axis = 0)"
      ],
      "metadata": {
        "id": "MTfm4M8eN24g"
      },
      "execution_count": null,
      "outputs": []
    },
    {
      "cell_type": "code",
      "source": [
        "tf.reduce_mean(b)"
      ],
      "metadata": {
        "id": "6cWxKzx3N8w3"
      },
      "execution_count": null,
      "outputs": []
    },
    {
      "cell_type": "code",
      "source": [
        "tf.reduce_mean(b, axis = 0)"
      ],
      "metadata": {
        "id": "w1adj1VnPvO-"
      },
      "execution_count": null,
      "outputs": []
    },
    {
      "cell_type": "code",
      "source": [
        "tf.reduce_mean(b, axis = 1)"
      ],
      "metadata": {
        "id": "Gu7WVUqsQGRz"
      },
      "execution_count": null,
      "outputs": []
    },
    {
      "cell_type": "code",
      "source": [
        "import numpy as np"
      ],
      "metadata": {
        "id": "Omlm3fd-QMZQ"
      },
      "execution_count": null,
      "outputs": []
    },
    {
      "cell_type": "code",
      "source": [
        "E = tf.constant(np.random.randint(0,100, size = 50))"
      ],
      "metadata": {
        "id": "HHULm83wQXRt"
      },
      "execution_count": null,
      "outputs": []
    },
    {
      "cell_type": "code",
      "source": [
        "tf.reduce_min(E)"
      ],
      "metadata": {
        "id": "QAAwWmP1Q2bx"
      },
      "execution_count": null,
      "outputs": []
    },
    {
      "cell_type": "code",
      "source": [
        "tf.reduce_max(E)"
      ],
      "metadata": {
        "id": "8WBa1DjpRB24"
      },
      "execution_count": null,
      "outputs": []
    },
    {
      "cell_type": "code",
      "source": [
        "tf.reduce_mean(E)"
      ],
      "metadata": {
        "id": "GbBLmZZbREfr"
      },
      "execution_count": null,
      "outputs": []
    },
    {
      "cell_type": "code",
      "source": [
        "tf.reduce_sum(E)"
      ],
      "metadata": {
        "id": "-p7JaK0zRHog"
      },
      "execution_count": null,
      "outputs": []
    },
    {
      "cell_type": "code",
      "source": [
        "E.ndim, tf.size(E), E.dtype, E.shape"
      ],
      "metadata": {
        "id": "nG3pS6MhRMEe"
      },
      "execution_count": null,
      "outputs": []
    },
    {
      "cell_type": "code",
      "source": [
        "#variance of E"
      ],
      "metadata": {
        "id": "dbWSBDrYTZkL"
      },
      "execution_count": null,
      "outputs": []
    },
    {
      "cell_type": "code",
      "source": [
        "E-tf.reduce_mean(E)"
      ],
      "metadata": {
        "id": "QS7SrPeaSryK"
      },
      "execution_count": null,
      "outputs": []
    },
    {
      "cell_type": "code",
      "source": [
        "(E-tf.reduce_mean(E))**2"
      ],
      "metadata": {
        "id": "KJfOz4PkSgj_"
      },
      "execution_count": null,
      "outputs": []
    },
    {
      "cell_type": "code",
      "source": [
        "tf.reduce_sum((E-tf.reduce_mean(E))**2)"
      ],
      "metadata": {
        "id": "PqpIpry8Sy8b"
      },
      "execution_count": null,
      "outputs": []
    },
    {
      "cell_type": "code",
      "source": [
        "var = tf.reduce_sum((E-tf.reduce_mean(E))**2)/tf.cast(tf.size(E), dtype=(tf.int64))"
      ],
      "metadata": {
        "id": "lqmzbxN0RS_X"
      },
      "execution_count": null,
      "outputs": []
    },
    {
      "cell_type": "code",
      "source": [
        "var"
      ],
      "metadata": {
        "id": "5Kavcoo2SbGE"
      },
      "execution_count": null,
      "outputs": []
    },
    {
      "cell_type": "code",
      "source": [
        "E.numpy().var()"
      ],
      "metadata": {
        "id": "lTdu9shrTQp4"
      },
      "execution_count": null,
      "outputs": []
    },
    {
      "cell_type": "code",
      "source": [
        "tf.math.reduce_variance(tf.cast(E, dtype = tf.float32))"
      ],
      "metadata": {
        "id": "pETHiLkmTzva"
      },
      "execution_count": null,
      "outputs": []
    },
    {
      "cell_type": "code",
      "source": [
        "## standart deviation"
      ],
      "metadata": {
        "id": "sXBUGhqkUnJ4"
      },
      "execution_count": null,
      "outputs": []
    },
    {
      "cell_type": "code",
      "source": [
        "std = (tf.reduce_sum((E-tf.reduce_mean(E))**2)/tf.cast(tf.size(E), dtype=(tf.int64)))**0.5"
      ],
      "metadata": {
        "id": "C_xC_THjTVAG"
      },
      "execution_count": null,
      "outputs": []
    },
    {
      "cell_type": "code",
      "source": [
        "std"
      ],
      "metadata": {
        "id": "dM15Wh_ZTiUc"
      },
      "execution_count": null,
      "outputs": []
    },
    {
      "cell_type": "code",
      "source": [
        "E.numpy().std()"
      ],
      "metadata": {
        "id": "hoD9OQpgTi-F"
      },
      "execution_count": null,
      "outputs": []
    },
    {
      "cell_type": "code",
      "source": [
        "tf.math.reduce_std(tf.cast(E, dtype = tf.float32))"
      ],
      "metadata": {
        "id": "ZXrtbg2wTlTf"
      },
      "execution_count": null,
      "outputs": []
    },
    {
      "cell_type": "code",
      "source": [
        "tf.math.reduce_std(tf.cast(E, dtype = tf.float16))"
      ],
      "metadata": {
        "id": "bBoRj0eqUxbK"
      },
      "execution_count": null,
      "outputs": []
    },
    {
      "cell_type": "code",
      "source": [
        "tf.random.set_seed(42)\n",
        "E = tf.random.uniform([50])\n",
        "E"
      ],
      "metadata": {
        "id": "mRYRSgL7WWfr"
      },
      "execution_count": null,
      "outputs": []
    },
    {
      "cell_type": "code",
      "source": [
        "tf.argmax(E)"
      ],
      "metadata": {
        "id": "6PKgo4P-WfhE"
      },
      "execution_count": null,
      "outputs": []
    },
    {
      "cell_type": "code",
      "source": [
        "tf.argmin(E)"
      ],
      "metadata": {
        "id": "rSEIAkGmWv1m"
      },
      "execution_count": null,
      "outputs": []
    },
    {
      "cell_type": "code",
      "source": [
        "E[42], E[16]"
      ],
      "metadata": {
        "id": "jkroVR36W0n9"
      },
      "execution_count": null,
      "outputs": []
    },
    {
      "cell_type": "code",
      "source": [
        "tf.reduce_max(E), tf.reduce_min(E)"
      ],
      "metadata": {
        "id": "iWanWc5_W7tq"
      },
      "execution_count": null,
      "outputs": []
    },
    {
      "cell_type": "code",
      "source": [
        "tf.random.set_seed(42)\n",
        "M = tf.random.uniform([5,5])\n",
        "M"
      ],
      "metadata": {
        "id": "A-KPRT6xXB13"
      },
      "execution_count": null,
      "outputs": []
    },
    {
      "cell_type": "code",
      "source": [
        "tf.argmax(M)"
      ],
      "metadata": {
        "id": "WnSvsOWrXht0"
      },
      "execution_count": null,
      "outputs": []
    },
    {
      "cell_type": "code",
      "source": [
        "tf.argmax(M, axis = 1)"
      ],
      "metadata": {
        "id": "QtYGxJ6HXkk8"
      },
      "execution_count": null,
      "outputs": []
    },
    {
      "cell_type": "code",
      "source": [
        "tf.argmax(M)"
      ],
      "metadata": {
        "id": "LNiwOgRPXup8"
      },
      "execution_count": null,
      "outputs": []
    },
    {
      "cell_type": "code",
      "source": [
        "tf.random.set_seed(42)\n",
        "E = tf.random.uniform(shape = (1,1,1,1,50))\n",
        "E"
      ],
      "metadata": {
        "colab": {
          "base_uri": "https://localhost:8080/"
        },
        "id": "p91srS6AX5AS",
        "outputId": "ac890f75-943f-4a78-e0a6-df61c46936b6"
      },
      "execution_count": null,
      "outputs": [
        {
          "output_type": "execute_result",
          "data": {
            "text/plain": [
              "<tf.Tensor: shape=(1, 1, 1, 1, 50), dtype=float32, numpy=\n",
              "array([[[[[0.6645621 , 0.44100678, 0.3528825 , 0.46448255, 0.03366041,\n",
              "           0.68467236, 0.74011743, 0.8724445 , 0.22632635, 0.22319686,\n",
              "           0.3103881 , 0.7223358 , 0.13318717, 0.5480639 , 0.5746088 ,\n",
              "           0.8996835 , 0.00946367, 0.5212307 , 0.6345445 , 0.1993283 ,\n",
              "           0.72942245, 0.54583454, 0.10756552, 0.6767061 , 0.6602763 ,\n",
              "           0.33695042, 0.60141766, 0.21062577, 0.8527372 , 0.44062173,\n",
              "           0.9485276 , 0.23752594, 0.81179297, 0.5263394 , 0.494308  ,\n",
              "           0.21612847, 0.8457197 , 0.8718841 , 0.3083862 , 0.6868038 ,\n",
              "           0.23764038, 0.7817228 , 0.9671384 , 0.06870162, 0.79873943,\n",
              "           0.66028714, 0.5871513 , 0.16461694, 0.7381023 , 0.32054043]]]]],\n",
              "      dtype=float32)>"
            ]
          },
          "metadata": {},
          "execution_count": 19
        }
      ]
    },
    {
      "cell_type": "code",
      "source": [
        "E.shape, E.ndim"
      ],
      "metadata": {
        "colab": {
          "base_uri": "https://localhost:8080/"
        },
        "id": "NP3nB7-6Ne_S",
        "outputId": "97adf99d-48c4-4cd5-d23e-d1e4cc882dec"
      },
      "execution_count": null,
      "outputs": [
        {
          "output_type": "execute_result",
          "data": {
            "text/plain": [
              "(TensorShape([1, 1, 1, 1, 50]), 5)"
            ]
          },
          "metadata": {},
          "execution_count": 20
        }
      ]
    },
    {
      "cell_type": "code",
      "source": [
        "E_squeezed = tf.squeeze(E)\n",
        "E_squeezed"
      ],
      "metadata": {
        "colab": {
          "base_uri": "https://localhost:8080/"
        },
        "id": "5qWLTwizNn7S",
        "outputId": "e2ef3f0b-307b-40ad-ef09-66b568c126c5"
      },
      "execution_count": null,
      "outputs": [
        {
          "output_type": "execute_result",
          "data": {
            "text/plain": [
              "<tf.Tensor: shape=(50,), dtype=float32, numpy=\n",
              "array([0.6645621 , 0.44100678, 0.3528825 , 0.46448255, 0.03366041,\n",
              "       0.68467236, 0.74011743, 0.8724445 , 0.22632635, 0.22319686,\n",
              "       0.3103881 , 0.7223358 , 0.13318717, 0.5480639 , 0.5746088 ,\n",
              "       0.8996835 , 0.00946367, 0.5212307 , 0.6345445 , 0.1993283 ,\n",
              "       0.72942245, 0.54583454, 0.10756552, 0.6767061 , 0.6602763 ,\n",
              "       0.33695042, 0.60141766, 0.21062577, 0.8527372 , 0.44062173,\n",
              "       0.9485276 , 0.23752594, 0.81179297, 0.5263394 , 0.494308  ,\n",
              "       0.21612847, 0.8457197 , 0.8718841 , 0.3083862 , 0.6868038 ,\n",
              "       0.23764038, 0.7817228 , 0.9671384 , 0.06870162, 0.79873943,\n",
              "       0.66028714, 0.5871513 , 0.16461694, 0.7381023 , 0.32054043],\n",
              "      dtype=float32)>"
            ]
          },
          "metadata": {},
          "execution_count": 22
        }
      ]
    },
    {
      "cell_type": "markdown",
      "source": [
        "## One-hot encoding"
      ],
      "metadata": {
        "id": "12a4x0e3PsIZ"
      }
    },
    {
      "cell_type": "code",
      "source": [
        "test_list = [0,2,3,4, 1, 3]\n",
        "test_list"
      ],
      "metadata": {
        "colab": {
          "base_uri": "https://localhost:8080/"
        },
        "id": "DF4--yRANvbg",
        "outputId": "9727d9fd-0e13-4ab4-e0d0-2e152282dbe8"
      },
      "execution_count": null,
      "outputs": [
        {
          "output_type": "execute_result",
          "data": {
            "text/plain": [
              "[0, 2, 3, 4, 1, 3]"
            ]
          },
          "metadata": {},
          "execution_count": 39
        }
      ]
    },
    {
      "cell_type": "code",
      "source": [
        "tf.one_hot(test_list, depth =5, axis = -1)"
      ],
      "metadata": {
        "colab": {
          "base_uri": "https://localhost:8080/"
        },
        "id": "h0_sgZBUP5Hm",
        "outputId": "03c628ec-7881-4236-f088-960a52b1295d"
      },
      "execution_count": null,
      "outputs": [
        {
          "output_type": "execute_result",
          "data": {
            "text/plain": [
              "<tf.Tensor: shape=(6, 5), dtype=float32, numpy=\n",
              "array([[1., 0., 0., 0., 0.],\n",
              "       [0., 0., 1., 0., 0.],\n",
              "       [0., 0., 0., 1., 0.],\n",
              "       [0., 0., 0., 0., 1.],\n",
              "       [0., 1., 0., 0., 0.],\n",
              "       [0., 0., 0., 1., 0.]], dtype=float32)>"
            ]
          },
          "metadata": {},
          "execution_count": 42
        }
      ]
    },
    {
      "cell_type": "code",
      "source": [
        "tf.one_hot(test_list, depth =5, axis = 0)"
      ],
      "metadata": {
        "colab": {
          "base_uri": "https://localhost:8080/"
        },
        "id": "r2kLHL7nQpPD",
        "outputId": "0952611d-43eb-4d12-c482-674964ba0935"
      },
      "execution_count": null,
      "outputs": [
        {
          "output_type": "execute_result",
          "data": {
            "text/plain": [
              "<tf.Tensor: shape=(5, 6), dtype=float32, numpy=\n",
              "array([[1., 0., 0., 0., 0., 0.],\n",
              "       [0., 0., 0., 0., 1., 0.],\n",
              "       [0., 1., 0., 0., 0., 0.],\n",
              "       [0., 0., 1., 0., 0., 1.],\n",
              "       [0., 0., 0., 1., 0., 0.]], dtype=float32)>"
            ]
          },
          "metadata": {},
          "execution_count": 43
        }
      ]
    },
    {
      "cell_type": "code",
      "source": [
        "tf.one_hot(test_list, depth =5, axis = 1)"
      ],
      "metadata": {
        "colab": {
          "base_uri": "https://localhost:8080/"
        },
        "id": "_gF_aQPRYLB4",
        "outputId": "41e2062c-8960-48a7-d537-19928439cf9c"
      },
      "execution_count": null,
      "outputs": [
        {
          "output_type": "execute_result",
          "data": {
            "text/plain": [
              "<tf.Tensor: shape=(6, 5), dtype=float32, numpy=\n",
              "array([[1., 0., 0., 0., 0.],\n",
              "       [0., 0., 1., 0., 0.],\n",
              "       [0., 0., 0., 1., 0.],\n",
              "       [0., 0., 0., 0., 1.],\n",
              "       [0., 1., 0., 0., 0.],\n",
              "       [0., 0., 0., 1., 0.]], dtype=float32)>"
            ]
          },
          "metadata": {},
          "execution_count": 44
        }
      ]
    },
    {
      "cell_type": "code",
      "source": [
        "J = tf.constant(np.array([3.0, 7, 10]))"
      ],
      "metadata": {
        "id": "VhzRYc_iYND8"
      },
      "execution_count": null,
      "outputs": []
    },
    {
      "cell_type": "code",
      "source": [
        "J"
      ],
      "metadata": {
        "colab": {
          "base_uri": "https://localhost:8080/"
        },
        "id": "TDJE8PPfdFl9",
        "outputId": "7b24cb79-2bd6-42ce-d273-d449bd306b7a"
      },
      "execution_count": null,
      "outputs": [
        {
          "output_type": "execute_result",
          "data": {
            "text/plain": [
              "<tf.Tensor: shape=(3,), dtype=float64, numpy=array([ 3.,  7., 10.])>"
            ]
          },
          "metadata": {},
          "execution_count": 46
        }
      ]
    },
    {
      "cell_type": "code",
      "source": [
        "np.array(J)"
      ],
      "metadata": {
        "colab": {
          "base_uri": "https://localhost:8080/"
        },
        "id": "niap76YudGrn",
        "outputId": "0aa6b948-8319-4412-f38f-113573c3e2c0"
      },
      "execution_count": null,
      "outputs": [
        {
          "output_type": "execute_result",
          "data": {
            "text/plain": [
              "array([ 3.,  7., 10.])"
            ]
          },
          "metadata": {},
          "execution_count": 47
        }
      ]
    },
    {
      "cell_type": "code",
      "source": [
        "J.numpy()"
      ],
      "metadata": {
        "colab": {
          "base_uri": "https://localhost:8080/"
        },
        "id": "9eoltQuzdNQy",
        "outputId": "5b60bf62-a9a0-4fc2-a359-1de394bdbb30"
      },
      "execution_count": null,
      "outputs": [
        {
          "output_type": "execute_result",
          "data": {
            "text/plain": [
              "array([ 3.,  7., 10.])"
            ]
          },
          "metadata": {},
          "execution_count": 48
        }
      ]
    },
    {
      "cell_type": "code",
      "source": [
        "numpy_J= tf.constant(np.array([1.0,2]))\n",
        "tensor_J = tf.constant([1.0, 2])\n",
        "numpy_J.dtype, tensor_J.dtype"
      ],
      "metadata": {
        "colab": {
          "base_uri": "https://localhost:8080/"
        },
        "id": "qOr8bBFcdPtZ",
        "outputId": "50eeaae7-0e7c-4b4a-f561-7cb62d2f06f8"
      },
      "execution_count": null,
      "outputs": [
        {
          "output_type": "execute_result",
          "data": {
            "text/plain": [
              "(tf.float64, tf.float32)"
            ]
          },
          "metadata": {},
          "execution_count": 49
        }
      ]
    },
    {
      "cell_type": "code",
      "source": [
        "import tensorflow as tf"
      ],
      "metadata": {
        "id": "A5HspKbhgSnX"
      },
      "execution_count": null,
      "outputs": []
    },
    {
      "cell_type": "code",
      "source": [
        "tf.config.list_physical_devices()"
      ],
      "metadata": {
        "colab": {
          "base_uri": "https://localhost:8080/"
        },
        "id": "LMTWJmM9eNaA",
        "outputId": "9d642ca7-0b63-4b71-aa96-d5309521c8ae"
      },
      "execution_count": null,
      "outputs": [
        {
          "output_type": "execute_result",
          "data": {
            "text/plain": [
              "[PhysicalDevice(name='/physical_device:CPU:0', device_type='CPU'),\n",
              " PhysicalDevice(name='/physical_device:GPU:0', device_type='GPU')]"
            ]
          },
          "metadata": {},
          "execution_count": 2
        }
      ]
    },
    {
      "cell_type": "code",
      "source": [
        "tf.config.list_physical_devices('GPU')"
      ],
      "metadata": {
        "colab": {
          "base_uri": "https://localhost:8080/"
        },
        "id": "bharnlJfftHM",
        "outputId": "d4ffae13-0bea-4476-9fae-aa49a6f229de"
      },
      "execution_count": null,
      "outputs": [
        {
          "output_type": "execute_result",
          "data": {
            "text/plain": [
              "[PhysicalDevice(name='/physical_device:GPU:0', device_type='GPU')]"
            ]
          },
          "metadata": {},
          "execution_count": 4
        }
      ]
    },
    {
      "cell_type": "code",
      "source": [
        "!invidia-smi"
      ],
      "metadata": {
        "colab": {
          "base_uri": "https://localhost:8080/"
        },
        "id": "qiy4YnoUgHIu",
        "outputId": "6de77493-b78a-49cb-c688-8115505d84e0"
      },
      "execution_count": null,
      "outputs": [
        {
          "output_type": "stream",
          "name": "stdout",
          "text": [
            "/bin/bash: invidia-smi: command not found\n"
          ]
        }
      ]
    },
    {
      "cell_type": "code",
      "source": [
        "import tensorflow as tf\n",
        "import numpy as np"
      ],
      "metadata": {
        "id": "2_eVOwq2w06T"
      },
      "execution_count": null,
      "outputs": []
    },
    {
      "cell_type": "code",
      "source": [
        "#Create a vector, scalar, matrix and tensor with values of your choosing using tf.constant().\n",
        "vector = tf.constant([1,2,3])\n",
        "scalar = tf.constant([1])\n",
        "matrix = tf.constant([[1,2],[3,4]])\n",
        "tensor = tf.constant(np.arange(50), shape = [2,5,5])\n"
      ],
      "metadata": {
        "id": "cSsHLL6zk91u"
      },
      "execution_count": null,
      "outputs": []
    },
    {
      "cell_type": "code",
      "source": [
        "#Find the shape, rank and size of the tensors you created in 1.\n",
        "print(\"vector {},{},{}\".format(vector.shape, vector.ndim, tf.size(vector)))\n",
        "print(\"scalar {},{},{}\".format(scalar.shape, scalar.ndim, tf.size(scalar)))\n",
        "print(\"matrix {},{},{}\".format(matrix.shape, matrix.ndim, tf.size(matrix)))\n",
        "print(\"tensor {},{},{}\".format(tensor.shape, tensor.ndim, tf.size(tensor)))\n"
      ],
      "metadata": {
        "colab": {
          "base_uri": "https://localhost:8080/"
        },
        "id": "akGzb-FMmoqE",
        "outputId": "972c6b27-60c3-419a-9120-6fc3e936f01c"
      },
      "execution_count": null,
      "outputs": [
        {
          "output_type": "stream",
          "name": "stdout",
          "text": [
            "vector (3,),1,3\n",
            "scalar (1,),1,1\n",
            "matrix (2, 2),2,4\n",
            "tensor (2, 5, 5),3,50\n"
          ]
        }
      ]
    },
    {
      "cell_type": "code",
      "source": [
        "#Create two tensors containing random values between 0 and 1 with shape [5, 300].\n",
        "t1 = tf.random.uniform(shape = [5,300], minval =0, maxval = 1)\n",
        "t2 = tf.random.uniform(shape = [5,300], minval = 0, maxval = 1)\n",
        "t1, t2"
      ],
      "metadata": {
        "colab": {
          "base_uri": "https://localhost:8080/"
        },
        "id": "AsGcxZH6yobq",
        "outputId": "f571ea23-d7a2-440f-ebcc-a415170d08c3"
      },
      "execution_count": null,
      "outputs": [
        {
          "output_type": "execute_result",
          "data": {
            "text/plain": [
              "(<tf.Tensor: shape=(5, 300), dtype=float32, numpy=\n",
              " array([[0.03410864, 0.6712892 , 0.9341308 , ..., 0.12094486, 0.44511437,\n",
              "         0.7034954 ],\n",
              "        [0.688988  , 0.89092994, 0.4203391 , ..., 0.89263284, 0.13894904,\n",
              "         0.05739295],\n",
              "        [0.52934337, 0.7926327 , 0.534721  , ..., 0.73519635, 0.06316221,\n",
              "         0.23610985],\n",
              "        [0.6636108 , 0.98635423, 0.9437398 , ..., 0.9595028 , 0.3453461 ,\n",
              "         0.45652127],\n",
              "        [0.24432766, 0.14741111, 0.5308615 , ..., 0.18024969, 0.80593383,\n",
              "         0.34907556]], dtype=float32)>,\n",
              " <tf.Tensor: shape=(5, 300), dtype=float32, numpy=\n",
              " array([[0.3484305 , 0.95428765, 0.56107426, ..., 0.11278844, 0.6615336 ,\n",
              "         0.68999255],\n",
              "        [0.71009946, 0.82667303, 0.19556022, ..., 0.28393877, 0.90871596,\n",
              "         0.30467892],\n",
              "        [0.875653  , 0.5618967 , 0.9336641 , ..., 0.95648944, 0.5939126 ,\n",
              "         0.38912082],\n",
              "        [0.38538778, 0.7584404 , 0.11576414, ..., 0.35072267, 0.81134164,\n",
              "         0.16922927],\n",
              "        [0.84335375, 0.71539474, 0.43328738, ..., 0.6467662 , 0.5376897 ,\n",
              "         0.49254918]], dtype=float32)>)"
            ]
          },
          "metadata": {},
          "execution_count": 26
        }
      ]
    },
    {
      "cell_type": "code",
      "source": [
        "#Multiply the two tensors you created in 3 using matrix multiplication.\n",
        "\n",
        "mult_t1_t2 = tf.matmul(t1, tf.transpose(t2))\n",
        "mult_t1_t2"
      ],
      "metadata": {
        "colab": {
          "base_uri": "https://localhost:8080/"
        },
        "id": "SIWL32ANyl7A",
        "outputId": "f9c55896-2c63-4e95-d085-2474a9575a36"
      },
      "execution_count": null,
      "outputs": [
        {
          "output_type": "execute_result",
          "data": {
            "text/plain": [
              "<tf.Tensor: shape=(5, 5), dtype=float32, numpy=\n",
              "array([[74.44744 , 79.06798 , 73.171364, 72.90617 , 71.1685  ],\n",
              "       [73.567085, 78.51357 , 73.47629 , 73.19177 , 71.37075 ],\n",
              "       [70.249565, 76.99632 , 70.21444 , 70.96486 , 67.99918 ],\n",
              "       [72.44569 , 76.5076  , 73.89001 , 71.2482  , 68.845055],\n",
              "       [73.43387 , 78.06104 , 71.645164, 73.71147 , 68.8915  ]],\n",
              "      dtype=float32)>"
            ]
          },
          "metadata": {},
          "execution_count": 30
        }
      ]
    },
    {
      "cell_type": "code",
      "source": [
        "#Multiply the two tensors you created in 3 using dot product.\n",
        "dot_t1_t2 = tf.tensordot(t1, tf.transpose(t2), axes = 1)\n",
        "dot_t1_t2"
      ],
      "metadata": {
        "colab": {
          "base_uri": "https://localhost:8080/"
        },
        "id": "9BeicnSux1T-",
        "outputId": "2d4e316a-6be1-4bd6-80bf-5649ffc0e679"
      },
      "execution_count": null,
      "outputs": [
        {
          "output_type": "execute_result",
          "data": {
            "text/plain": [
              "<tf.Tensor: shape=(5, 5), dtype=float32, numpy=\n",
              "array([[74.44744 , 79.06798 , 73.171364, 72.90617 , 71.1685  ],\n",
              "       [73.567085, 78.51357 , 73.47629 , 73.19177 , 71.37075 ],\n",
              "       [70.249565, 76.99632 , 70.21444 , 70.96486 , 67.99918 ],\n",
              "       [72.44569 , 76.5076  , 73.89001 , 71.2482  , 68.845055],\n",
              "       [73.43387 , 78.06104 , 71.645164, 73.71147 , 68.8915  ]],\n",
              "      dtype=float32)>"
            ]
          },
          "metadata": {},
          "execution_count": 36
        }
      ]
    },
    {
      "cell_type": "code",
      "source": [
        "#Create a tensor with random values between 0 and 1 with shape [224, 224, 3].\n",
        "t3 = tf.random.uniform(shape = [224, 224, 3], minval= 0, maxval = 1)\n",
        "t3"
      ],
      "metadata": {
        "colab": {
          "base_uri": "https://localhost:8080/"
        },
        "id": "2fIs4ts90sdO",
        "outputId": "168da37c-5767-4596-ad6c-17a0ef78d912"
      },
      "execution_count": null,
      "outputs": [
        {
          "output_type": "execute_result",
          "data": {
            "text/plain": [
              "<tf.Tensor: shape=(224, 224, 3), dtype=float32, numpy=\n",
              "array([[[0.5315008 , 0.7399769 , 0.09661651],\n",
              "        [0.33271587, 0.27172506, 0.6901357 ],\n",
              "        [0.35539234, 0.14974833, 0.16095972],\n",
              "        ...,\n",
              "        [0.7479389 , 0.53253686, 0.49402952],\n",
              "        [0.3787638 , 0.4215008 , 0.7862258 ],\n",
              "        [0.5761702 , 0.10568404, 0.871948  ]],\n",
              "\n",
              "       [[0.30342972, 0.00435126, 0.28345442],\n",
              "        [0.73012686, 0.19012749, 0.48619926],\n",
              "        [0.06656551, 0.5134121 , 0.08196127],\n",
              "        ...,\n",
              "        [0.6518084 , 0.38060415, 0.91039336],\n",
              "        [0.71098685, 0.7660469 , 0.01406765],\n",
              "        [0.19650793, 0.7490692 , 0.48240006]],\n",
              "\n",
              "       [[0.16516817, 0.94852316, 0.8174052 ],\n",
              "        [0.34893048, 0.29878867, 0.8704263 ],\n",
              "        [0.5145253 , 0.26821387, 0.19131982],\n",
              "        ...,\n",
              "        [0.7209611 , 0.22828794, 0.47804332],\n",
              "        [0.03313828, 0.04320407, 0.55945003],\n",
              "        [0.34764373, 0.82928765, 0.50761616]],\n",
              "\n",
              "       ...,\n",
              "\n",
              "       [[0.7849082 , 0.76302063, 0.05084443],\n",
              "        [0.25283396, 0.32940114, 0.24346232],\n",
              "        [0.992156  , 0.28057182, 0.21342933],\n",
              "        ...,\n",
              "        [0.47652864, 0.01974976, 0.6575378 ],\n",
              "        [0.95425296, 0.77332747, 0.3600725 ],\n",
              "        [0.10584474, 0.8820138 , 0.7448598 ]],\n",
              "\n",
              "       [[0.6134192 , 0.03010678, 0.50719905],\n",
              "        [0.7973968 , 0.8465204 , 0.52864885],\n",
              "        [0.04627442, 0.18250799, 0.614856  ],\n",
              "        ...,\n",
              "        [0.3787247 , 0.31320786, 0.5278784 ],\n",
              "        [0.4598632 , 0.23706341, 0.1683259 ],\n",
              "        [0.33387005, 0.6858952 , 0.11979055]],\n",
              "\n",
              "       [[0.69485736, 0.15265262, 0.90724874],\n",
              "        [0.30450797, 0.6620486 , 0.6546515 ],\n",
              "        [0.6531769 , 0.61512995, 0.21323228],\n",
              "        ...,\n",
              "        [0.8753172 , 0.6226226 , 0.72378194],\n",
              "        [0.9009347 , 0.06291461, 0.68296766],\n",
              "        [0.49119568, 0.21158993, 0.42718458]]], dtype=float32)>"
            ]
          },
          "metadata": {},
          "execution_count": 38
        }
      ]
    },
    {
      "cell_type": "code",
      "source": [
        "#Find the min and max values of the tensor you created in 6 along the first axis.\n",
        "min_val = tf.reduce_min(t3, axis = 0)\n",
        "max_val = tf.reduce_max(t3, axis = 0)\n",
        "min_val, max_val"
      ],
      "metadata": {
        "colab": {
          "base_uri": "https://localhost:8080/"
        },
        "id": "yeyXyXK56dWV",
        "outputId": "e732a1d8-93e3-49ea-f1d5-220664092020"
      },
      "execution_count": null,
      "outputs": [
        {
          "output_type": "execute_result",
          "data": {
            "text/plain": [
              "(<tf.Tensor: shape=(224, 3), dtype=float32, numpy=\n",
              " array([[5.77950478e-03, 4.35125828e-03, 2.53748894e-03],\n",
              "        [1.79493427e-03, 2.55072117e-03, 3.22008133e-03],\n",
              "        [1.72054768e-03, 6.65342808e-03, 1.10507011e-04],\n",
              "        [5.87582588e-04, 5.02943993e-04, 3.59404087e-03],\n",
              "        [2.83610821e-03, 5.57279587e-03, 3.79204750e-03],\n",
              "        [1.56818628e-02, 1.01923943e-03, 6.78253174e-03],\n",
              "        [5.89609146e-04, 3.78119946e-03, 8.56876373e-04],\n",
              "        [6.39617443e-03, 5.09500504e-04, 1.39737129e-03],\n",
              "        [2.19643116e-03, 2.00343132e-03, 1.55127048e-03],\n",
              "        [2.08377838e-03, 5.84626198e-03, 1.34706497e-03],\n",
              "        [8.88586044e-04, 1.78990364e-02, 4.76050377e-03],\n",
              "        [9.60469246e-03, 3.77476215e-03, 6.51788712e-03],\n",
              "        [1.64151192e-04, 2.72512436e-04, 2.76052952e-03],\n",
              "        [1.57487392e-03, 5.91242313e-03, 2.76565552e-04],\n",
              "        [8.96036625e-03, 1.02747679e-02, 5.04875183e-03],\n",
              "        [9.28997993e-04, 9.04440880e-04, 2.89893150e-03],\n",
              "        [5.57768345e-03, 7.60042667e-03, 4.68170643e-03],\n",
              "        [1.25503540e-03, 6.73294067e-04, 1.00195408e-03],\n",
              "        [3.75628471e-03, 5.07390499e-03, 1.98936462e-03],\n",
              "        [1.92451477e-03, 1.21963024e-03, 3.61001492e-03],\n",
              "        [6.20722771e-03, 3.62277031e-04, 4.59790230e-03],\n",
              "        [2.58445740e-04, 5.49972057e-03, 3.16381454e-04],\n",
              "        [7.28011131e-04, 2.86960602e-03, 1.76157951e-02],\n",
              "        [1.22952461e-03, 1.97148323e-03, 1.23500824e-03],\n",
              "        [1.06678009e-02, 1.71877146e-02, 8.14998150e-03],\n",
              "        [4.41789627e-04, 7.14421272e-04, 6.18660450e-03],\n",
              "        [2.50637531e-03, 7.54189491e-03, 3.89099121e-04],\n",
              "        [3.31962109e-03, 9.22679901e-04, 2.71100998e-02],\n",
              "        [3.29232216e-03, 4.99022007e-03, 2.03979015e-03],\n",
              "        [8.12292099e-04, 1.15261078e-02, 1.92379951e-03],\n",
              "        [2.62475014e-03, 1.15704536e-02, 8.39948654e-03],\n",
              "        [5.11860847e-03, 2.86579132e-04, 7.47942924e-03],\n",
              "        [2.21800804e-03, 3.46028805e-03, 2.96223164e-03],\n",
              "        [2.74205208e-03, 9.23991203e-04, 4.60994244e-03],\n",
              "        [1.65152550e-03, 2.21848488e-03, 5.93185425e-04],\n",
              "        [1.87754631e-04, 7.16352463e-03, 1.14059448e-03],\n",
              "        [1.37684345e-02, 5.22136688e-05, 1.55922174e-02],\n",
              "        [1.91926956e-05, 1.95670128e-03, 2.51805782e-03],\n",
              "        [1.28030777e-04, 1.27434731e-03, 4.01020050e-04],\n",
              "        [6.25860691e-03, 1.71887875e-03, 2.93374062e-04],\n",
              "        [5.07318974e-03, 2.12831497e-02, 6.48975372e-03],\n",
              "        [1.43731833e-02, 2.82859802e-03, 6.24096394e-03],\n",
              "        [1.29160881e-02, 2.58922577e-03, 7.86781311e-05],\n",
              "        [1.33156776e-04, 2.15852261e-03, 9.00745392e-04],\n",
              "        [1.39214993e-02, 5.41210175e-05, 7.85267353e-03],\n",
              "        [1.61838531e-03, 1.19102001e-03, 8.33129883e-03],\n",
              "        [6.50870800e-03, 1.05142593e-04, 6.47163391e-03],\n",
              "        [1.03235245e-03, 2.35605240e-03, 1.47771835e-03],\n",
              "        [1.02245808e-03, 2.12836266e-03, 8.72957706e-03],\n",
              "        [1.01387501e-03, 6.47282600e-03, 6.74724579e-05],\n",
              "        [7.46989250e-03, 8.42571259e-04, 7.07507133e-04],\n",
              "        [9.23621655e-03, 6.97076321e-03, 2.02333927e-03],\n",
              "        [1.53541565e-03, 1.06034279e-02, 2.78258324e-03],\n",
              "        [1.91450119e-02, 1.26206875e-03, 1.49428844e-03],\n",
              "        [1.60574913e-04, 2.34009027e-02, 1.12950802e-03],\n",
              "        [1.33204460e-03, 1.64866447e-03, 3.54051590e-03],\n",
              "        [8.34465027e-04, 5.30433655e-03, 5.59568405e-03],\n",
              "        [1.72984600e-03, 1.59387589e-02, 6.27160072e-03],\n",
              "        [7.05718994e-05, 6.57582283e-03, 9.95755196e-04],\n",
              "        [5.35440445e-03, 1.01709366e-02, 3.61907482e-03],\n",
              "        [9.99331474e-04, 1.42312050e-03, 3.02982330e-03],\n",
              "        [9.39321518e-03, 4.28628922e-03, 6.87694550e-03],\n",
              "        [2.18915939e-03, 3.76427174e-03, 1.32066011e-02],\n",
              "        [1.06024742e-03, 8.89372826e-03, 1.43873692e-03],\n",
              "        [9.10758972e-03, 1.00839138e-03, 2.11000443e-05],\n",
              "        [1.73826218e-02, 3.46136093e-03, 6.79385662e-03],\n",
              "        [2.42853165e-03, 1.01783276e-02, 4.87017632e-03],\n",
              "        [7.52639771e-03, 2.69126892e-03, 2.49731541e-03],\n",
              "        [7.83443451e-04, 1.75249577e-03, 1.41596794e-03],\n",
              "        [2.84552574e-04, 5.14173508e-03, 7.16209412e-04],\n",
              "        [1.70099735e-03, 3.13150883e-03, 3.48210335e-04],\n",
              "        [9.67776775e-03, 1.78574324e-02, 6.04057312e-03],\n",
              "        [2.90119648e-03, 5.59568405e-04, 8.27908516e-04],\n",
              "        [2.82764435e-03, 7.74633884e-03, 2.31361389e-03],\n",
              "        [2.04443932e-03, 8.72492790e-03, 1.37219429e-02],\n",
              "        [3.53050232e-03, 4.61256504e-03, 1.14560127e-03],\n",
              "        [1.46198273e-03, 1.50716305e-03, 3.94606590e-03],\n",
              "        [4.26733494e-03, 2.92050838e-03, 5.04422188e-03],\n",
              "        [5.44309616e-04, 1.09972954e-02, 7.13706017e-04],\n",
              "        [7.11202621e-03, 7.72750378e-03, 2.35700607e-02],\n",
              "        [2.46441364e-03, 2.00271606e-03, 1.86765194e-03],\n",
              "        [2.28440762e-03, 1.00898743e-03, 8.96453857e-05],\n",
              "        [7.49909878e-03, 3.89218330e-04, 5.50413132e-03],\n",
              "        [1.47938728e-04, 9.24754143e-03, 7.91430473e-04],\n",
              "        [4.67407703e-03, 2.47573853e-03, 1.98364258e-03],\n",
              "        [2.94232368e-03, 7.03811646e-04, 3.93259525e-03],\n",
              "        [2.56311893e-03, 1.87063217e-03, 7.34210014e-04],\n",
              "        [1.48773193e-04, 1.63502693e-02, 4.31954861e-03],\n",
              "        [5.00714779e-03, 2.24149227e-03, 9.15074348e-03],\n",
              "        [4.48870659e-03, 2.56419182e-03, 1.48990154e-02],\n",
              "        [1.09537840e-02, 3.53038311e-03, 5.13911247e-03],\n",
              "        [8.59856606e-04, 1.27351284e-03, 1.43456459e-03],\n",
              "        [1.41556263e-02, 7.04765320e-03, 1.61230564e-03],\n",
              "        [6.62720203e-03, 6.65187836e-05, 1.00600719e-03],\n",
              "        [2.38537788e-03, 4.40633297e-03, 1.08373165e-03],\n",
              "        [1.13784075e-02, 1.43023729e-02, 1.86443329e-04],\n",
              "        [1.35147572e-03, 1.66189671e-03, 1.69086456e-03],\n",
              "        [4.11987305e-03, 8.56816769e-03, 3.75330448e-03],\n",
              "        [2.63023376e-03, 4.50682640e-03, 4.26065922e-03],\n",
              "        [1.80125237e-03, 4.46200371e-04, 1.55317783e-03],\n",
              "        [1.42066479e-02, 7.89642334e-04, 1.32906437e-03],\n",
              "        [3.60786915e-03, 4.55176830e-03, 3.60012054e-05],\n",
              "        [4.77576256e-03, 3.61025333e-03, 3.28421593e-04],\n",
              "        [3.15427780e-04, 2.20859051e-03, 2.28762627e-03],\n",
              "        [4.38487530e-03, 1.79529190e-03, 1.15329027e-02],\n",
              "        [1.86395645e-03, 6.09242916e-03, 3.79800797e-04],\n",
              "        [3.57353687e-03, 1.19810104e-02, 1.29938126e-04],\n",
              "        [7.17759132e-04, 1.01422071e-02, 6.57153130e-03],\n",
              "        [2.43949890e-03, 1.79266930e-03, 2.14064121e-03],\n",
              "        [6.89113140e-03, 4.70149517e-03, 1.82867050e-03],\n",
              "        [4.87565994e-04, 1.24132633e-03, 6.76858425e-03],\n",
              "        [5.55706024e-03, 7.86781311e-05, 1.02996826e-02],\n",
              "        [1.01947784e-03, 1.54793262e-03, 6.26325607e-03],\n",
              "        [2.19297409e-03, 3.97443771e-04, 5.40161133e-03],\n",
              "        [3.79109383e-03, 6.51347637e-03, 2.68340111e-04],\n",
              "        [4.24945354e-03, 4.27699089e-03, 5.76817989e-03],\n",
              "        [3.90410423e-04, 2.32231617e-03, 8.54599476e-03],\n",
              "        [5.26654720e-03, 1.24564171e-02, 7.36463070e-03],\n",
              "        [8.08334351e-03, 6.93559647e-03, 5.63383102e-04],\n",
              "        [1.81925297e-03, 3.37016582e-03, 1.75232887e-02],\n",
              "        [8.21924210e-03, 5.46145439e-03, 7.26461411e-03],\n",
              "        [2.28404999e-04, 2.07519531e-03, 1.43289566e-04],\n",
              "        [2.50327587e-03, 1.28364563e-03, 5.81586361e-03],\n",
              "        [9.70959663e-04, 4.62007523e-03, 3.04782391e-03],\n",
              "        [1.27625465e-03, 4.02200222e-03, 3.43084335e-04],\n",
              "        [3.30960751e-03, 7.94768333e-04, 4.84812260e-03],\n",
              "        [6.11484051e-03, 1.35719776e-03, 3.73542309e-03],\n",
              "        [3.12340260e-03, 4.11760807e-03, 4.05871868e-03],\n",
              "        [3.90112400e-03, 2.78139114e-03, 4.80997562e-03],\n",
              "        [5.71489334e-04, 2.25365162e-03, 8.48054886e-04],\n",
              "        [1.40368938e-03, 9.41777229e-03, 1.30900145e-02],\n",
              "        [1.72269344e-03, 2.37119198e-03, 9.02175903e-04],\n",
              "        [5.88655472e-04, 4.52876091e-04, 1.32826567e-02],\n",
              "        [1.61767006e-04, 3.75747681e-04, 1.54089928e-03],\n",
              "        [6.75356388e-03, 5.87964058e-03, 2.57956982e-03],\n",
              "        [5.96141815e-03, 1.58417225e-03, 1.71916485e-02],\n",
              "        [1.47905350e-02, 2.99572945e-04, 3.12590599e-03],\n",
              "        [7.03954697e-03, 1.69396400e-04, 6.81626797e-03],\n",
              "        [1.66416168e-03, 1.38902664e-03, 2.36952305e-03],\n",
              "        [1.36864185e-03, 1.83486938e-03, 2.27034092e-03],\n",
              "        [4.65822220e-03, 6.33430481e-03, 4.38785553e-03],\n",
              "        [2.35760212e-03, 3.62598896e-03, 5.45060635e-03],\n",
              "        [4.33075428e-03, 4.62055206e-04, 1.73032284e-03],\n",
              "        [3.91042233e-03, 5.05232811e-03, 7.83312321e-03],\n",
              "        [9.31012630e-03, 9.13691521e-03, 2.97045708e-03],\n",
              "        [1.61170959e-04, 9.05418396e-03, 1.16586685e-03],\n",
              "        [3.02171707e-03, 1.42002106e-03, 3.75556946e-03],\n",
              "        [7.77244568e-03, 5.44857979e-03, 4.39560413e-03],\n",
              "        [1.69706345e-03, 1.59740448e-03, 1.31742954e-02],\n",
              "        [8.81564617e-03, 1.08945370e-03, 1.74260139e-03],\n",
              "        [8.68678093e-04, 5.26189804e-04, 1.55484676e-03],\n",
              "        [5.07938862e-03, 3.71384621e-03, 5.59091568e-03],\n",
              "        [2.28160620e-02, 1.53537989e-02, 1.72853470e-03],\n",
              "        [3.03387642e-04, 3.32760811e-03, 6.29186630e-04],\n",
              "        [9.33587551e-03, 1.53183937e-02, 4.43828106e-03],\n",
              "        [1.93226337e-03, 3.46314907e-03, 4.06622887e-04],\n",
              "        [9.99689102e-04, 5.41090965e-04, 3.93390656e-05],\n",
              "        [2.63297558e-03, 1.95034742e-02, 1.96046829e-02],\n",
              "        [3.36253643e-03, 1.41930580e-03, 3.90172005e-04],\n",
              "        [1.17695332e-03, 1.49953365e-03, 5.73241711e-03],\n",
              "        [2.19571590e-03, 2.16805935e-03, 1.75380707e-03],\n",
              "        [9.93609428e-04, 2.81035900e-03, 5.94496727e-04],\n",
              "        [4.87077236e-03, 4.69231606e-03, 5.36203384e-04],\n",
              "        [5.82420826e-03, 8.62360001e-04, 1.08075142e-03],\n",
              "        [3.16321850e-03, 2.09414959e-03, 1.78360939e-03],\n",
              "        [8.44740868e-03, 1.86586380e-03, 1.79111958e-03],\n",
              "        [7.11798668e-04, 8.72373581e-04, 1.60602331e-02],\n",
              "        [1.06061697e-02, 1.55270100e-03, 9.12427902e-04],\n",
              "        [2.94733047e-03, 2.07018852e-03, 3.37743759e-03],\n",
              "        [4.56571579e-05, 5.00833988e-03, 2.01213360e-03],\n",
              "        [3.44991684e-04, 1.36637688e-03, 3.71909142e-03],\n",
              "        [6.71625137e-04, 2.57968903e-03, 1.01773739e-02],\n",
              "        [6.35278225e-03, 1.37758255e-03, 3.85403633e-03],\n",
              "        [2.22039223e-03, 4.03952599e-03, 4.75168228e-04],\n",
              "        [5.67138195e-03, 5.92112541e-03, 1.43848658e-02],\n",
              "        [6.70075417e-04, 5.84125519e-05, 1.06376410e-02],\n",
              "        [1.20306015e-03, 3.07142735e-03, 5.91278076e-05],\n",
              "        [7.72547722e-03, 1.48940086e-03, 6.86132908e-03],\n",
              "        [4.11677361e-03, 1.07740164e-02, 1.06847286e-03],\n",
              "        [1.81646347e-02, 1.16614103e-02, 2.89940834e-03],\n",
              "        [9.30190086e-03, 9.17792320e-04, 7.48920441e-03],\n",
              "        [3.70287895e-03, 1.95407867e-03, 1.04528666e-02],\n",
              "        [2.27546692e-03, 1.77121162e-03, 6.92009926e-04],\n",
              "        [8.07404518e-04, 2.51984596e-03, 7.85112381e-04],\n",
              "        [1.58977509e-03, 2.47955322e-03, 2.26700306e-03],\n",
              "        [1.09887123e-03, 2.32362747e-03, 2.69722939e-03],\n",
              "        [6.95514679e-03, 1.49488449e-03, 6.79183006e-03],\n",
              "        [5.89132309e-04, 4.48703766e-04, 2.50136852e-03],\n",
              "        [8.10623169e-05, 1.47795677e-03, 4.81843948e-04],\n",
              "        [5.01656532e-03, 8.95750523e-03, 1.98304653e-03],\n",
              "        [1.26295090e-02, 9.24968719e-03, 7.00116158e-04],\n",
              "        [7.10487366e-04, 8.64744186e-04, 4.22644615e-03],\n",
              "        [1.13987923e-03, 1.07586384e-03, 4.40478325e-04],\n",
              "        [1.12416744e-02, 9.63687897e-04, 6.84022903e-04],\n",
              "        [1.27041340e-02, 2.57599354e-03, 9.99093056e-04],\n",
              "        [8.59498978e-05, 4.49824333e-03, 4.54199314e-03],\n",
              "        [2.21252441e-04, 2.73227692e-03, 1.26330853e-02],\n",
              "        [4.21893597e-03, 1.19948387e-03, 2.02594995e-02],\n",
              "        [3.63111496e-04, 5.43105602e-03, 8.68070126e-03],\n",
              "        [3.52835655e-03, 4.32252884e-04, 7.12060928e-03],\n",
              "        [5.96463680e-03, 4.69565392e-03, 3.10730934e-03],\n",
              "        [1.70735121e-02, 2.67553329e-03, 9.69219208e-03],\n",
              "        [6.10625744e-03, 1.22832060e-02, 9.79483128e-03],\n",
              "        [9.45973396e-03, 1.53791904e-03, 8.63075256e-04],\n",
              "        [1.12726688e-02, 9.98377800e-04, 9.86671448e-03],\n",
              "        [6.65223598e-03, 4.78482246e-03, 2.95877457e-04],\n",
              "        [4.19509411e-03, 3.28433514e-03, 1.76310539e-03],\n",
              "        [8.23509693e-03, 3.37207317e-03, 5.12361526e-03],\n",
              "        [5.04827499e-03, 3.84545326e-03, 3.52180004e-03],\n",
              "        [9.25040245e-03, 6.71505928e-04, 1.22690201e-02],\n",
              "        [4.85801697e-03, 4.74560261e-03, 7.97224045e-03],\n",
              "        [2.70295143e-03, 3.41629982e-03, 1.64985657e-03],\n",
              "        [8.44955444e-04, 1.64461136e-03, 4.49419022e-05],\n",
              "        [7.83908367e-03, 8.37993622e-03, 8.76426697e-03],\n",
              "        [1.12909079e-02, 4.72211838e-03, 2.39253044e-04],\n",
              "        [3.47566605e-03, 3.21030617e-04, 1.62434578e-03],\n",
              "        [1.23560429e-03, 2.17068195e-03, 4.41384315e-03],\n",
              "        [1.80029869e-03, 4.49812412e-03, 9.62626934e-03],\n",
              "        [2.53689289e-03, 5.13792038e-04, 2.33912468e-03],\n",
              "        [3.57508659e-04, 2.98261642e-03, 1.01876259e-03],\n",
              "        [2.61902809e-04, 2.16150284e-03, 5.11348248e-03],\n",
              "        [9.13500786e-04, 3.90625000e-03, 4.99868393e-03],\n",
              "        [7.38906860e-03, 2.32994556e-03, 1.40676498e-02],\n",
              "        [1.63980722e-02, 1.45435333e-05, 2.67398357e-03]], dtype=float32)>,\n",
              " <tf.Tensor: shape=(224, 3), dtype=float32, numpy=\n",
              " array([[0.9965563 , 0.9984555 , 0.9947667 ],\n",
              "        [0.9945525 , 0.9955523 , 0.9999832 ],\n",
              "        [0.992156  , 0.99726415, 0.9893948 ],\n",
              "        [0.9991082 , 0.99875665, 0.99914396],\n",
              "        [0.99600875, 0.9939951 , 0.9987345 ],\n",
              "        [0.9933822 , 0.9977467 , 0.9978676 ],\n",
              "        [0.9983456 , 0.9974867 , 0.999388  ],\n",
              "        [0.9937582 , 0.99887323, 0.9999784 ],\n",
              "        [0.99796677, 0.99575925, 0.9942677 ],\n",
              "        [0.9964212 , 0.9987235 , 0.99180377],\n",
              "        [0.99770665, 0.9850733 , 0.99707735],\n",
              "        [0.9980384 , 0.99121654, 0.9978479 ],\n",
              "        [0.99724185, 0.99979055, 0.9960127 ],\n",
              "        [0.9966035 , 0.99887455, 0.9983759 ],\n",
              "        [0.9918562 , 0.99688613, 0.9999248 ],\n",
              "        [0.99552584, 0.99538004, 0.9948803 ],\n",
              "        [0.99306095, 0.9992659 , 0.9987546 ],\n",
              "        [0.9995184 , 0.995837  , 0.99898386],\n",
              "        [0.99803686, 0.99397826, 0.993395  ],\n",
              "        [0.99945223, 0.99820817, 0.99643767],\n",
              "        [0.99866855, 0.9961791 , 0.99863636],\n",
              "        [0.997432  , 0.9992732 , 0.9924624 ],\n",
              "        [0.9942572 , 0.9996586 , 0.99917984],\n",
              "        [0.99813545, 0.9921138 , 0.99865115],\n",
              "        [0.99808586, 0.9945271 , 0.9963287 ],\n",
              "        [0.9931303 , 0.996951  , 0.99820733],\n",
              "        [0.9937123 , 0.99796903, 0.999454  ],\n",
              "        [0.98022425, 0.9969109 , 0.99669325],\n",
              "        [0.99962306, 0.9938588 , 0.9964665 ],\n",
              "        [0.992939  , 0.98600173, 0.99831426],\n",
              "        [0.98761404, 0.991488  , 0.99277544],\n",
              "        [0.9977733 , 0.99960005, 0.9998076 ],\n",
              "        [0.996806  , 0.99740636, 0.9945303 ],\n",
              "        [0.99958885, 0.9990717 , 0.9998529 ],\n",
              "        [0.99890196, 0.999141  , 0.9999945 ],\n",
              "        [0.9993342 , 0.99082077, 0.996771  ],\n",
              "        [0.99886703, 0.99937165, 0.99976635],\n",
              "        [0.99926615, 0.99173033, 0.99949193],\n",
              "        [0.99711955, 0.99753857, 0.98973405],\n",
              "        [0.9978651 , 0.999063  , 0.99627864],\n",
              "        [0.9933034 , 0.9940927 , 0.99643433],\n",
              "        [0.9908532 , 0.9994335 , 0.99488723],\n",
              "        [0.9957485 , 0.9962032 , 0.9935585 ],\n",
              "        [0.9956176 , 0.99875784, 0.99900484],\n",
              "        [0.9990541 , 0.99982333, 0.99712837],\n",
              "        [0.9967389 , 0.9949714 , 0.99629974],\n",
              "        [0.98720384, 0.9992784 , 0.996668  ],\n",
              "        [0.9915569 , 0.9925246 , 0.99089515],\n",
              "        [0.9961786 , 0.9876238 , 0.9990232 ],\n",
              "        [0.9926908 , 0.9994838 , 0.99881935],\n",
              "        [0.99966896, 0.99124956, 0.9989548 ],\n",
              "        [0.99648726, 0.9880388 , 0.99981284],\n",
              "        [0.9970299 , 0.9977473 , 0.9964161 ],\n",
              "        [0.9910091 , 0.9965453 , 0.99733174],\n",
              "        [0.99873066, 0.9996476 , 0.98921907],\n",
              "        [0.9992527 , 0.98411906, 0.99028146],\n",
              "        [0.9990015 , 0.99827385, 0.98788095],\n",
              "        [0.98578775, 0.994154  , 0.99759936],\n",
              "        [0.9934428 , 0.99274826, 0.99088323],\n",
              "        [0.9959203 , 0.998567  , 0.9970279 ],\n",
              "        [0.99954665, 0.99691904, 0.99184835],\n",
              "        [0.99962354, 0.9948962 , 0.9826865 ],\n",
              "        [0.99775994, 0.99590755, 0.9996983 ],\n",
              "        [0.9949603 , 0.99436104, 0.9967786 ],\n",
              "        [0.99801636, 0.9989959 , 0.9981451 ],\n",
              "        [0.9984577 , 0.9893725 , 0.99529874],\n",
              "        [0.99111545, 0.9891274 , 0.99899256],\n",
              "        [0.99924576, 0.9998274 , 0.9979112 ],\n",
              "        [0.99625015, 0.9983007 , 0.9974309 ],\n",
              "        [0.99729323, 0.99840736, 0.99661744],\n",
              "        [0.99873245, 0.98793685, 0.99240005],\n",
              "        [0.991331  , 0.9815384 , 0.9964186 ],\n",
              "        [0.99540865, 0.9903296 , 0.99777997],\n",
              "        [0.99023867, 0.99476147, 0.99956965],\n",
              "        [0.9991921 , 0.98932385, 0.99925256],\n",
              "        [0.99934006, 0.9931207 , 0.99410117],\n",
              "        [0.99839914, 0.99939966, 0.9949902 ],\n",
              "        [0.9933231 , 0.9993874 , 0.9996524 ],\n",
              "        [0.9899595 , 0.9995252 , 0.9990628 ],\n",
              "        [0.9980601 , 0.99807453, 0.9911339 ],\n",
              "        [0.99667585, 0.9992454 , 0.98407567],\n",
              "        [0.9989697 , 0.99615765, 0.9965048 ],\n",
              "        [0.9967123 , 0.9997567 , 0.99704385],\n",
              "        [0.99727833, 0.99628365, 0.9925157 ],\n",
              "        [0.98731744, 0.9966314 , 0.9899268 ],\n",
              "        [0.9947617 , 0.99748826, 0.9988079 ],\n",
              "        [0.98585844, 0.9877039 , 0.98703194],\n",
              "        [0.99973786, 0.9969785 , 0.99580276],\n",
              "        [0.9908279 , 0.99952734, 0.9998648 ],\n",
              "        [0.99941826, 0.9925915 , 0.9996096 ],\n",
              "        [0.9996542 , 0.99723864, 0.9949511 ],\n",
              "        [0.9994774 , 0.99717414, 0.99815774],\n",
              "        [0.9919156 , 0.9953302 , 0.98974884],\n",
              "        [0.9939681 , 0.9945946 , 0.9993483 ],\n",
              "        [0.99708927, 0.9981096 , 0.9889586 ],\n",
              "        [0.9962007 , 0.991035  , 0.9843842 ],\n",
              "        [0.99637496, 0.99656284, 0.9964528 ],\n",
              "        [0.999207  , 0.9886255 , 0.99885726],\n",
              "        [0.9882753 , 0.999385  , 0.9995681 ],\n",
              "        [0.99252105, 0.9996338 , 0.99930394],\n",
              "        [0.99887514, 0.98687637, 0.9922416 ],\n",
              "        [0.9972217 , 0.9985434 , 0.99339426],\n",
              "        [0.99869   , 0.9831772 , 0.991979  ],\n",
              "        [0.98950243, 0.9891956 , 0.99625254],\n",
              "        [0.997174  , 0.99502206, 0.9938861 ],\n",
              "        [0.9961425 , 0.9996451 , 0.99644995],\n",
              "        [0.99910855, 0.99909794, 0.99487734],\n",
              "        [0.99770594, 0.99812746, 0.99934185],\n",
              "        [0.9930054 , 0.9965956 , 0.99952185],\n",
              "        [0.9948491 , 0.9997281 , 0.9991447 ],\n",
              "        [0.99902856, 0.9886824 , 0.99942875],\n",
              "        [0.9987036 , 0.9975436 , 0.9939532 ],\n",
              "        [0.99735224, 0.99027836, 0.99887204],\n",
              "        [0.9992609 , 0.9794899 , 0.995962  ],\n",
              "        [0.9853157 , 0.99397326, 0.9987718 ],\n",
              "        [0.99155045, 0.9994137 , 0.997756  ],\n",
              "        [0.991565  , 0.9979899 , 0.98665583],\n",
              "        [0.9945586 , 0.9969398 , 0.99883175],\n",
              "        [0.99961925, 0.99402773, 0.99830127],\n",
              "        [0.99168277, 0.9769882 , 0.9997606 ],\n",
              "        [0.997475  , 0.9936851 , 0.99756575],\n",
              "        [0.99879324, 0.9781666 , 0.9943085 ],\n",
              "        [0.99854183, 0.9907975 , 0.99514496],\n",
              "        [0.98709   , 0.99159586, 0.99638927],\n",
              "        [0.9945241 , 0.9963794 , 0.9957311 ],\n",
              "        [0.9987531 , 0.99988425, 0.99829173],\n",
              "        [0.9936433 , 0.99541056, 0.9916004 ],\n",
              "        [0.99541295, 0.9998851 , 0.99816334],\n",
              "        [0.9990612 , 0.9975989 , 0.9932189 ],\n",
              "        [0.9905375 , 0.9837233 , 0.9967375 ],\n",
              "        [0.9958837 , 0.9981241 , 0.9993062 ],\n",
              "        [0.9769702 , 0.99886143, 0.987098  ],\n",
              "        [0.9993353 , 0.99348795, 0.99240077],\n",
              "        [0.9990082 , 0.9901649 , 0.9998902 ],\n",
              "        [0.9986558 , 0.998175  , 0.997717  ],\n",
              "        [0.9966811 , 0.9924445 , 0.99835896],\n",
              "        [0.99355674, 0.9974024 , 0.99585485],\n",
              "        [0.99483514, 0.99558353, 0.99675727],\n",
              "        [0.9999106 , 0.997854  , 0.99605405],\n",
              "        [0.9982486 , 0.998109  , 0.9957814 ],\n",
              "        [0.99950624, 0.9964206 , 0.99899614],\n",
              "        [0.9952966 , 0.99746144, 0.9928752 ],\n",
              "        [0.99990165, 0.99740183, 0.9968556 ],\n",
              "        [0.9985397 , 0.9950397 , 0.99538016],\n",
              "        [0.99938166, 0.99779403, 0.9957826 ],\n",
              "        [0.99111223, 0.99664164, 0.98186207],\n",
              "        [0.9940629 , 0.997187  , 0.98191917],\n",
              "        [0.99907243, 0.99475634, 0.9995866 ],\n",
              "        [0.98895943, 0.99627936, 0.9983926 ],\n",
              "        [0.9985539 , 0.99460554, 0.9973761 ],\n",
              "        [0.99674916, 0.99470973, 0.9956182 ],\n",
              "        [0.99671936, 0.9967607 , 0.99949193],\n",
              "        [0.9999095 , 0.9896028 , 0.99907744],\n",
              "        [0.9844706 , 0.9972452 , 0.9980227 ],\n",
              "        [0.9966241 , 0.9964225 , 0.9977834 ],\n",
              "        [0.99877334, 0.9866923 , 0.99752975],\n",
              "        [0.9954072 , 0.9955522 , 0.99623823],\n",
              "        [0.99780643, 0.99844253, 0.99422157],\n",
              "        [0.9991586 , 0.99910593, 0.99918187],\n",
              "        [0.99206185, 0.99382925, 0.99865925],\n",
              "        [0.99751353, 0.9902793 , 0.9900079 ],\n",
              "        [0.9986023 , 0.99814165, 0.99312925],\n",
              "        [0.99688685, 0.99946487, 0.9891325 ],\n",
              "        [0.99810755, 0.9992994 , 0.99699664],\n",
              "        [0.9974034 , 0.9943    , 0.9990423 ],\n",
              "        [0.99758947, 0.99656904, 0.9972278 ],\n",
              "        [0.9992775 , 0.9987396 , 0.99968386],\n",
              "        [0.99775016, 0.9981694 , 0.9964975 ],\n",
              "        [0.99619544, 0.99645185, 0.991454  ],\n",
              "        [0.993502  , 0.998364  , 0.9768437 ],\n",
              "        [0.9986149 , 0.99546754, 0.99609005],\n",
              "        [0.9961152 , 0.99892867, 0.99569035],\n",
              "        [0.98153985, 0.9883748 , 0.9905927 ],\n",
              "        [0.9973011 , 0.99929595, 0.99885476],\n",
              "        [0.99804235, 0.9997828 , 0.98918605],\n",
              "        [0.9920263 , 0.9993329 , 0.9939704 ],\n",
              "        [0.9993613 , 0.99975336, 0.99959886],\n",
              "        [0.98466647, 0.9963473 , 0.9785793 ],\n",
              "        [0.9910017 , 0.9966221 , 0.995021  ],\n",
              "        [0.9923496 , 0.985327  , 0.9996556 ],\n",
              "        [0.9979378 , 0.999565  , 0.98782635],\n",
              "        [0.99471796, 0.99628305, 0.99436355],\n",
              "        [0.9982184 , 0.98344827, 0.9958352 ],\n",
              "        [0.9985465 , 0.9960402 , 0.99021554],\n",
              "        [0.9930513 , 0.9929644 , 0.99267924],\n",
              "        [0.98823214, 0.99967766, 0.9929234 ],\n",
              "        [0.9975554 , 0.98974276, 0.99892986],\n",
              "        [0.99938405, 0.9919722 , 0.9988934 ],\n",
              "        [0.9979818 , 0.99411607, 0.99562   ],\n",
              "        [0.9903852 , 0.99772394, 0.99781656],\n",
              "        [0.9983338 , 0.99970496, 0.99600255],\n",
              "        [0.9994935 , 0.99956834, 0.9951681 ],\n",
              "        [0.98805654, 0.9975219 , 0.99365497],\n",
              "        [0.99459505, 0.99886596, 0.99599636],\n",
              "        [0.9983094 , 0.9999417 , 0.9973619 ],\n",
              "        [0.99696565, 0.9993216 , 0.9995514 ],\n",
              "        [0.99659526, 0.98637044, 0.9921762 ],\n",
              "        [0.9962008 , 0.9846333 , 0.9898404 ],\n",
              "        [0.9965246 , 0.99627674, 0.99679506],\n",
              "        [0.9985008 , 0.99765587, 0.9980122 ],\n",
              "        [0.9984573 , 0.9992627 , 0.9990374 ],\n",
              "        [0.99404955, 0.9996238 , 0.9969635 ],\n",
              "        [0.99862564, 0.9934318 , 0.99758434],\n",
              "        [0.98835754, 0.9919113 , 0.98972976],\n",
              "        [0.9935205 , 0.9991205 , 0.989388  ],\n",
              "        [0.9976145 , 0.9983516 , 0.99926245],\n",
              "        [0.99499893, 0.9986973 , 0.9932301 ],\n",
              "        [0.9971193 , 0.9987041 , 0.9992782 ],\n",
              "        [0.9985032 , 0.99924695, 0.99314034],\n",
              "        [0.9995247 , 0.9965731 , 0.9951371 ],\n",
              "        [0.99528706, 0.99687076, 0.9999478 ],\n",
              "        [0.99589026, 0.99993384, 0.9983362 ],\n",
              "        [0.99600387, 0.9942808 , 0.9921346 ],\n",
              "        [0.9932934 , 0.98684466, 0.9993042 ],\n",
              "        [0.9966849 , 0.9990636 , 0.98389196],\n",
              "        [0.99901366, 0.99658704, 0.99732196],\n",
              "        [0.9952365 , 0.9975642 , 0.9937458 ],\n",
              "        [0.999277  , 0.9977063 , 0.98337305],\n",
              "        [0.9990268 , 0.9996458 , 0.9976466 ],\n",
              "        [0.99204326, 0.99904907, 0.9944167 ],\n",
              "        [0.9978932 , 0.9966105 , 0.9988662 ],\n",
              "        [0.99769664, 0.99676967, 0.9985918 ],\n",
              "        [0.9935106 , 0.99912584, 0.99797094],\n",
              "        [0.992929  , 0.99956346, 0.9958656 ]], dtype=float32)>)"
            ]
          },
          "metadata": {},
          "execution_count": 41
        }
      ]
    },
    {
      "cell_type": "code",
      "source": [
        "#Created a tensor with random values of shape [1, 224, 224, 3] then squeeze it to change the shape to [224, 224, 3].\n",
        "random_tensor = tf.constant(np.random.randint(10, 20, size = 224*224*3), shape = [1,224,224,3])\n",
        "random_tensor.shape"
      ],
      "metadata": {
        "colab": {
          "base_uri": "https://localhost:8080/"
        },
        "id": "kxbZ7CL_67oB",
        "outputId": "5cc4a121-0186-4d3b-cc14-99d982c3cfb2"
      },
      "execution_count": null,
      "outputs": [
        {
          "output_type": "execute_result",
          "data": {
            "text/plain": [
              "TensorShape([1, 224, 224, 3])"
            ]
          },
          "metadata": {},
          "execution_count": 43
        }
      ]
    },
    {
      "cell_type": "code",
      "source": [
        "squeezed_t = tf.squeeze(random_tensor)\n",
        "squeezed_t.shape"
      ],
      "metadata": {
        "colab": {
          "base_uri": "https://localhost:8080/"
        },
        "id": "sGL5o61J78uv",
        "outputId": "df09364e-2558-4933-cb55-4478d8b56542"
      },
      "execution_count": null,
      "outputs": [
        {
          "output_type": "execute_result",
          "data": {
            "text/plain": [
              "TensorShape([224, 224, 3])"
            ]
          },
          "metadata": {},
          "execution_count": 45
        }
      ]
    },
    {
      "cell_type": "code",
      "source": [
        "#Create a tensor with shape [10] using your own choice of values, then find the index which has the maximum value.\n",
        "t10 = tf.constant(np.arange(30, 40))\n",
        "t10"
      ],
      "metadata": {
        "colab": {
          "base_uri": "https://localhost:8080/"
        },
        "id": "Nv6xQKP07ajP",
        "outputId": "3f291c04-f32c-453d-da6e-6cfa5c22bb23"
      },
      "execution_count": null,
      "outputs": [
        {
          "output_type": "execute_result",
          "data": {
            "text/plain": [
              "<tf.Tensor: shape=(10,), dtype=int64, numpy=array([30, 31, 32, 33, 34, 35, 36, 37, 38, 39])>"
            ]
          },
          "metadata": {},
          "execution_count": 51
        }
      ]
    },
    {
      "cell_type": "code",
      "source": [
        "tf.random.set_seed(42)\n",
        "t10 = tf.random.shuffle(t10)\n",
        "t10"
      ],
      "metadata": {
        "colab": {
          "base_uri": "https://localhost:8080/"
        },
        "id": "m8PYE-Ql8Upp",
        "outputId": "d14d48d6-3e50-47d8-9b20-a97b480dd18d"
      },
      "execution_count": null,
      "outputs": [
        {
          "output_type": "execute_result",
          "data": {
            "text/plain": [
              "<tf.Tensor: shape=(10,), dtype=int64, numpy=array([35, 34, 39, 33, 36, 38, 32, 31, 37, 30])>"
            ]
          },
          "metadata": {},
          "execution_count": 56
        }
      ]
    },
    {
      "cell_type": "code",
      "source": [
        "index_max = tf.argmax(t10)\n",
        "index_max"
      ],
      "metadata": {
        "colab": {
          "base_uri": "https://localhost:8080/"
        },
        "id": "XtG9Gfbg9GuF",
        "outputId": "5c600f18-5f3e-4b2d-86a7-321b253bcc93"
      },
      "execution_count": null,
      "outputs": [
        {
          "output_type": "execute_result",
          "data": {
            "text/plain": [
              "<tf.Tensor: shape=(), dtype=int64, numpy=2>"
            ]
          },
          "metadata": {},
          "execution_count": 58
        }
      ]
    },
    {
      "cell_type": "code",
      "source": [
        "t10[index_max], tf.reduce_max(t10)"
      ],
      "metadata": {
        "colab": {
          "base_uri": "https://localhost:8080/"
        },
        "id": "refYYbYT9Rdy",
        "outputId": "73c27b7d-d679-4cad-c6d7-267ab2d17b0d"
      },
      "execution_count": null,
      "outputs": [
        {
          "output_type": "execute_result",
          "data": {
            "text/plain": [
              "(<tf.Tensor: shape=(), dtype=int64, numpy=39>,\n",
              " <tf.Tensor: shape=(), dtype=int64, numpy=39>)"
            ]
          },
          "metadata": {},
          "execution_count": 59
        }
      ]
    },
    {
      "cell_type": "code",
      "source": [
        "#One-hot encode the tensor you created in 9.\n",
        "tf.one_hot(t10, depth= 40)"
      ],
      "metadata": {
        "colab": {
          "base_uri": "https://localhost:8080/"
        },
        "id": "rMSDPZu67bCi",
        "outputId": "9ebe5ddc-aae8-432f-c260-95d75ffa9679"
      },
      "execution_count": null,
      "outputs": [
        {
          "output_type": "execute_result",
          "data": {
            "text/plain": [
              "<tf.Tensor: shape=(10, 40), dtype=float32, numpy=\n",
              "array([[0., 0., 0., 0., 0., 0., 0., 0., 0., 0., 0., 0., 0., 0., 0., 0.,\n",
              "        0., 0., 0., 0., 0., 0., 0., 0., 0., 0., 0., 0., 0., 0., 0., 0.,\n",
              "        0., 0., 0., 1., 0., 0., 0., 0.],\n",
              "       [0., 0., 0., 0., 0., 0., 0., 0., 0., 0., 0., 0., 0., 0., 0., 0.,\n",
              "        0., 0., 0., 0., 0., 0., 0., 0., 0., 0., 0., 0., 0., 0., 0., 0.,\n",
              "        0., 0., 1., 0., 0., 0., 0., 0.],\n",
              "       [0., 0., 0., 0., 0., 0., 0., 0., 0., 0., 0., 0., 0., 0., 0., 0.,\n",
              "        0., 0., 0., 0., 0., 0., 0., 0., 0., 0., 0., 0., 0., 0., 0., 0.,\n",
              "        0., 0., 0., 0., 0., 0., 0., 1.],\n",
              "       [0., 0., 0., 0., 0., 0., 0., 0., 0., 0., 0., 0., 0., 0., 0., 0.,\n",
              "        0., 0., 0., 0., 0., 0., 0., 0., 0., 0., 0., 0., 0., 0., 0., 0.,\n",
              "        0., 1., 0., 0., 0., 0., 0., 0.],\n",
              "       [0., 0., 0., 0., 0., 0., 0., 0., 0., 0., 0., 0., 0., 0., 0., 0.,\n",
              "        0., 0., 0., 0., 0., 0., 0., 0., 0., 0., 0., 0., 0., 0., 0., 0.,\n",
              "        0., 0., 0., 0., 1., 0., 0., 0.],\n",
              "       [0., 0., 0., 0., 0., 0., 0., 0., 0., 0., 0., 0., 0., 0., 0., 0.,\n",
              "        0., 0., 0., 0., 0., 0., 0., 0., 0., 0., 0., 0., 0., 0., 0., 0.,\n",
              "        0., 0., 0., 0., 0., 0., 1., 0.],\n",
              "       [0., 0., 0., 0., 0., 0., 0., 0., 0., 0., 0., 0., 0., 0., 0., 0.,\n",
              "        0., 0., 0., 0., 0., 0., 0., 0., 0., 0., 0., 0., 0., 0., 0., 0.,\n",
              "        1., 0., 0., 0., 0., 0., 0., 0.],\n",
              "       [0., 0., 0., 0., 0., 0., 0., 0., 0., 0., 0., 0., 0., 0., 0., 0.,\n",
              "        0., 0., 0., 0., 0., 0., 0., 0., 0., 0., 0., 0., 0., 0., 0., 1.,\n",
              "        0., 0., 0., 0., 0., 0., 0., 0.],\n",
              "       [0., 0., 0., 0., 0., 0., 0., 0., 0., 0., 0., 0., 0., 0., 0., 0.,\n",
              "        0., 0., 0., 0., 0., 0., 0., 0., 0., 0., 0., 0., 0., 0., 0., 0.,\n",
              "        0., 0., 0., 0., 0., 1., 0., 0.],\n",
              "       [0., 0., 0., 0., 0., 0., 0., 0., 0., 0., 0., 0., 0., 0., 0., 0.,\n",
              "        0., 0., 0., 0., 0., 0., 0., 0., 0., 0., 0., 0., 0., 0., 1., 0.,\n",
              "        0., 0., 0., 0., 0., 0., 0., 0.]], dtype=float32)>"
            ]
          },
          "metadata": {},
          "execution_count": 61
        }
      ]
    }
  ]
}