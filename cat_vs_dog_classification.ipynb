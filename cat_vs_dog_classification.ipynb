{
  "cells": [
    {
      "cell_type": "markdown",
      "metadata": {
        "id": "view-in-github",
        "colab_type": "text"
      },
      "source": [
        "<a href=\"https://colab.research.google.com/github/ryzhokhina/Tensorflow-Dev-Exam-Preparation/blob/main/cat_vs_dog_classification.ipynb\" target=\"_parent\"><img src=\"https://colab.research.google.com/assets/colab-badge.svg\" alt=\"Open In Colab\"/></a>"
      ]
    },
    {
      "cell_type": "code",
      "execution_count": null,
      "metadata": {
        "id": "7PsTLGvBh8av"
      },
      "outputs": [],
      "source": [
        "import matplotlib.pyplot as plt\n",
        "import os\n",
        "import tensorflow as tf\n",
        "import numpy as np\n",
        "import pandas as pd"
      ]
    },
    {
      "cell_type": "code",
      "execution_count": null,
      "metadata": {
        "colab": {
          "base_uri": "https://localhost:8080/"
        },
        "id": "3Di-MZQGjkR_",
        "outputId": "c2c29e08-5fbe-4420-f026-ec1fbf65a889"
      },
      "outputs": [
        {
          "name": "stdout",
          "output_type": "stream",
          "text": [
            "[PhysicalDevice(name='/physical_device:CPU:0', device_type='CPU'), PhysicalDevice(name='/physical_device:GPU:0', device_type='GPU')]\n"
          ]
        }
      ],
      "source": [
        "devices = tf.config.list_physical_devices()\n",
        "print(devices)"
      ]
    },
    {
      "cell_type": "code",
      "execution_count": null,
      "metadata": {
        "colab": {
          "base_uri": "https://localhost:8080/"
        },
        "id": "GF_cR3W0krpq",
        "outputId": "789e46ac-83a9-4569-bc5c-0d681fe92e7e"
      },
      "outputs": [
        {
          "name": "stdout",
          "output_type": "stream",
          "text": [
            "  % Total    % Received % Xferd  Average Speed   Time    Time     Time  Current\n",
            "                                 Dload  Upload   Total   Spent    Left  Speed\n",
            "100  786M  100  786M    0     0  23.2M      0  0:00:33  0:00:33 --:--:-- 30.7M\n"
          ]
        }
      ],
      "source": [
        "!curl -O https://download.microsoft.com/download/3/E/1/3E1C3F21-ECDB-4869-8368-6DEBA77B919F/kagglecatsanddogs_5340.zip"
      ]
    },
    {
      "cell_type": "code",
      "execution_count": null,
      "metadata": {
        "colab": {
          "base_uri": "https://localhost:8080/"
        },
        "id": "6OCqWu8mkv5l",
        "outputId": "3e7707d5-ba8b-447a-b120-53af874df865"
      },
      "outputs": [
        {
          "name": "stdout",
          "output_type": "stream",
          "text": [
            " CDLA-Permissive-2.0.pdf   kagglecatsanddogs_5340.zip  'readme[1].txt'\n",
            " drive\t\t\t   PetImages\t\t        sample_data\n"
          ]
        }
      ],
      "source": [
        "!unzip -q kagglecatsanddogs_5340.zip\n",
        "!ls"
      ]
    },
    {
      "cell_type": "code",
      "execution_count": null,
      "metadata": {
        "id": "WSDul-i3jmnr"
      },
      "outputs": [],
      "source": [
        "sourse_path = 'PetImages'"
      ]
    },
    {
      "cell_type": "code",
      "execution_count": null,
      "metadata": {
        "colab": {
          "base_uri": "https://localhost:8080/"
        },
        "id": "TBGClnfsjo81",
        "outputId": "af553095-b125-4a11-ba14-45256c847401"
      },
      "outputs": [
        {
          "data": {
            "text/plain": [
              "['Dog', 'Cat']"
            ]
          },
          "execution_count": 7,
          "metadata": {},
          "output_type": "execute_result"
        }
      ],
      "source": [
        "os.listdir(sourse_path)"
      ]
    },
    {
      "cell_type": "code",
      "execution_count": null,
      "metadata": {
        "colab": {
          "base_uri": "https://localhost:8080/"
        },
        "id": "vCLBcTqkjrwd",
        "outputId": "e4f3128e-dff5-4698-cda9-5b90513e0d9f"
      },
      "outputs": [
        {
          "name": "stdout",
          "output_type": "stream",
          "text": [
            "Count of image in Cat folder 12501\n",
            "Count of image in Dog folder 12501\n"
          ]
        }
      ],
      "source": [
        "cat_dir = os.path.join(sourse_path, 'Cat')\n",
        "dog_dir = os.path.join(sourse_path, 'Dog')\n",
        "print(f'Count of image in Cat folder {len(os.listdir(cat_dir))}')\n",
        "print(f'Count of image in Dog folder {len(os.listdir(dog_dir))}')"
      ]
    },
    {
      "cell_type": "code",
      "execution_count": null,
      "metadata": {
        "colab": {
          "base_uri": "https://localhost:8080/"
        },
        "id": "2My18Qv1jwRJ",
        "outputId": "e73cd012-d1af-46d6-be90-4f6b68861237"
      },
      "outputs": [
        {
          "name": "stdout",
          "output_type": "stream",
          "text": [
            "Deleted 1590 images\n"
          ]
        }
      ],
      "source": [
        "import os\n",
        "\n",
        "num_skipped = 0\n",
        "skiped_files = []\n",
        "for folder_name in (\"Cat\", \"Dog\"):\n",
        "    folder_path = os.path.join(sourse_path, folder_name)\n",
        "    for fname in os.listdir(folder_path):\n",
        "        fpath = os.path.join(folder_path, fname)\n",
        "        try:\n",
        "            fobj = open(fpath, \"rb\")\n",
        "            is_jfif = tf.compat.as_bytes(\"JFIF\") in fobj.peek(10)\n",
        "        finally:\n",
        "            fobj.close()\n",
        "\n",
        "        if not is_jfif:\n",
        "            num_skipped += 1\n",
        "            skiped_files.append(fpath)\n",
        "            # Delete corrupted image\n",
        "            os.remove(fpath)\n",
        "\n",
        "print(\"Deleted %d images\" % num_skipped)"
      ]
    },
    {
      "cell_type": "code",
      "execution_count": null,
      "metadata": {
        "colab": {
          "base_uri": "https://localhost:8080/"
        },
        "id": "j4_BW9C6lBhy",
        "outputId": "6477048d-e2a2-434e-913f-58642e0f4c7e"
      },
      "outputs": [
        {
          "name": "stdout",
          "output_type": "stream",
          "text": [
            "Count of image in Cat folder 11742\n",
            "Count of image in Dog folder 11670\n"
          ]
        }
      ],
      "source": [
        "cat_dir = os.path.join(sourse_path, 'Cat')\n",
        "dog_dir = os.path.join(sourse_path, 'Dog')\n",
        "print(f'Count of image in Cat folder {len(os.listdir(cat_dir))}')\n",
        "print(f'Count of image in Dog folder {len(os.listdir(dog_dir))}')"
      ]
    },
    {
      "cell_type": "code",
      "execution_count": null,
      "metadata": {
        "colab": {
          "base_uri": "https://localhost:8080/"
        },
        "id": "biGgqah9kD3V",
        "outputId": "2e5a68af-e209-4e90-8460-f3af381d5147"
      },
      "outputs": [
        {
          "name": "stdout",
          "output_type": "stream",
          "text": [
            "Found 23410 files belonging to 2 classes.\n",
            "Using 18728 files for training.\n",
            "Using 4682 files for validation.\n"
          ]
        }
      ],
      "source": [
        "IMG_SIZE = 180\n",
        "\n",
        "train_raw_ds, val_raw_ds = tf.keras.utils.image_dataset_from_directory(\n",
        "    sourse_path,\n",
        "    batch_size = 128,\n",
        "    labels='inferred',\n",
        "    shuffle=True,\n",
        "    seed=1234,\n",
        "    validation_split=0.2,\n",
        "    subset='both',\n",
        "    image_size = (IMG_SIZE, IMG_SIZE)\n",
        ")"
      ]
    },
    {
      "cell_type": "code",
      "execution_count": null,
      "metadata": {
        "id": "6-HYPDAjkF3K"
      },
      "outputs": [],
      "source": [
        "#data augmentation\n",
        "data_augmentation = tf.keras.Sequential(\n",
        "    [\n",
        "        tf.keras.layers.RandomFlip(\"horizontal\"),\n",
        "        tf.keras.layers.RandomRotation(0.1),\n",
        "    ]\n",
        ")"
      ]
    },
    {
      "cell_type": "code",
      "execution_count": null,
      "metadata": {
        "id": "FGqJfjA_UrkW"
      },
      "outputs": [],
      "source": [
        "aug_train = tf.keras.Sequential([\n",
        "    tf.keras.layers.Rescaling(1./255),\n",
        "    tf.keras.layers.RandomFlip('horizontal'),\n",
        "    tf.keras.layers.RandomZoom(0.1)\n",
        "])\n",
        "\n",
        "aug_val = tf.keras.Sequential([\n",
        "    tf.keras.layers.Rescaling(1./255)\n",
        "])"
      ]
    },
    {
      "cell_type": "code",
      "execution_count": null,
      "metadata": {
        "id": "8lB98KxlkIDF"
      },
      "outputs": [],
      "source": [
        "train_ds = train_raw_ds.map(lambda x,label: (aug_train(x), label), num_parallel_calls=tf.data.AUTOTUNE).shuffle(1000)\n",
        "train_ds = train_ds.prefetch(buffer_size=tf.data.AUTOTUNE)\n",
        "\n",
        "val_ds = val_raw_ds.map(lambda x,label: (aug_val(x), label), num_parallel_calls=tf.data.AUTOTUNE)\n",
        "val_ds = val_ds.prefetch(buffer_size=tf.data.AUTOTUNE)"
      ]
    },
    {
      "cell_type": "code",
      "execution_count": null,
      "metadata": {
        "colab": {
          "base_uri": "https://localhost:8080/"
        },
        "id": "mvtYyYgG2nXa",
        "outputId": "ee30159f-b636-4382-abf3-ac84c9b8d91d"
      },
      "outputs": [
        {
          "name": "stdout",
          "output_type": "stream",
          "text": [
            "(128, 180, 180, 3)\n",
            "(128,)\n"
          ]
        }
      ],
      "source": [
        "for x, y in train_ds.take(1):\n",
        "    print(x.shape)\n",
        "    print(y.shape)"
      ]
    },
    {
      "cell_type": "code",
      "execution_count": null,
      "metadata": {
        "id": "-HFBlQqokLqy"
      },
      "outputs": [],
      "source": [
        "def early_stopping_callback(monitor='val_loss', patience=5, verbose=1):\n",
        "    es = tf.keras.callbacks.EarlyStopping(\n",
        "        monitor=monitor,\n",
        "        patience=patience,\n",
        "        verbose=verbose,\n",
        "        restore_best_weights='True'\n",
        "    )\n",
        "    return es"
      ]
    },
    {
      "cell_type": "code",
      "execution_count": null,
      "metadata": {
        "id": "wjmJN_iikKAQ"
      },
      "outputs": [],
      "source": [
        "# create LetNet model\n",
        "def LeNet5_model(input_shape):\n",
        "\n",
        "    model = tf.keras.models.Sequential([\n",
        "        tf.keras.layers.Input(shape = input_shape),\n",
        "        #tf.keras.layers.Rescaling(1./255),\n",
        "        tf.keras.layers.Conv2D(filters = 6, kernel_size=(5,5), strides = 1, activation = 'relu'),\n",
        "        tf.keras.layers.AvgPool2D(2, strides = 2),\n",
        "        tf.keras.layers.Conv2D(filters = 16, kernel_size=(5,5), strides = 1, activation = 'relu'),\n",
        "        tf.keras.layers.AvgPool2D(2, strides = 2),\n",
        "        tf.keras.layers.Conv2D(filters = 120, kernel_size=(5,5), strides = 1, activation = 'relu'),\n",
        "        tf.keras.layers.Flatten(),\n",
        "        tf.keras.layers.Dense(84, 'relu'),\n",
        "        tf.keras.layers.Dense(10, 'relu'),\n",
        "        tf.keras.layers.Dense(1,'sigmoid')])\n",
        "    return model"
      ]
    },
    {
      "cell_type": "code",
      "execution_count": null,
      "metadata": {
        "colab": {
          "base_uri": "https://localhost:8080/"
        },
        "id": "4gY318HhkNJo",
        "outputId": "eb419aa1-3715-424e-8a2e-1d21c8881121"
      },
      "outputs": [
        {
          "name": "stdout",
          "output_type": "stream",
          "text": [
            "Model: \"sequential_6\"\n",
            "_________________________________________________________________\n",
            " Layer (type)                Output Shape              Param #   \n",
            "=================================================================\n",
            " conv2d_9 (Conv2D)           (None, 176, 176, 6)       456       \n",
            "                                                                 \n",
            " average_pooling2d (Average  (None, 88, 88, 6)         0         \n",
            " Pooling2D)                                                      \n",
            "                                                                 \n",
            " conv2d_10 (Conv2D)          (None, 84, 84, 16)        2416      \n",
            "                                                                 \n",
            " average_pooling2d_1 (Avera  (None, 42, 42, 16)        0         \n",
            " gePooling2D)                                                    \n",
            "                                                                 \n",
            " conv2d_11 (Conv2D)          (None, 38, 38, 120)       48120     \n",
            "                                                                 \n",
            " flatten_3 (Flatten)         (None, 173280)            0         \n",
            "                                                                 \n",
            " dense_6 (Dense)             (None, 84)                14555604  \n",
            "                                                                 \n",
            " dense_7 (Dense)             (None, 10)                850       \n",
            "                                                                 \n",
            " dense_8 (Dense)             (None, 1)                 11        \n",
            "                                                                 \n",
            "=================================================================\n",
            "Total params: 14607457 (55.72 MB)\n",
            "Trainable params: 14607457 (55.72 MB)\n",
            "Non-trainable params: 0 (0.00 Byte)\n",
            "_________________________________________________________________\n"
          ]
        }
      ],
      "source": [
        "leNet_model = LeNet5_model((IMG_SIZE, IMG_SIZE,3))\n",
        "leNet_model.summary()"
      ]
    },
    {
      "cell_type": "code",
      "execution_count": null,
      "metadata": {
        "id": "1R9Q25xukOsY"
      },
      "outputs": [],
      "source": [
        "tf.keras.utils.plot_model(leNet_model)"
      ]
    },
    {
      "cell_type": "code",
      "execution_count": null,
      "metadata": {
        "colab": {
          "base_uri": "https://localhost:8080/"
        },
        "id": "L8XawSXykQ5f",
        "outputId": "0db751bd-6e7a-4731-db25-72a54d055d26"
      },
      "outputs": [
        {
          "name": "stdout",
          "output_type": "stream",
          "text": [
            "Epoch 1/100\n",
            "147/147 [==============================] - 46s 84ms/step - loss: 0.6864 - accuracy: 0.5493 - val_loss: 0.6683 - val_accuracy: 0.5989\n",
            "Epoch 2/100\n",
            "147/147 [==============================] - 42s 78ms/step - loss: 0.6394 - accuracy: 0.6382 - val_loss: 0.6195 - val_accuracy: 0.6555\n",
            "Epoch 3/100\n",
            "147/147 [==============================] - 42s 78ms/step - loss: 0.6122 - accuracy: 0.6688 - val_loss: 0.6095 - val_accuracy: 0.6670\n",
            "Epoch 4/100\n",
            "147/147 [==============================] - 42s 78ms/step - loss: 0.6067 - accuracy: 0.6732 - val_loss: 0.6036 - val_accuracy: 0.6745\n",
            "Epoch 5/100\n",
            "147/147 [==============================] - 42s 78ms/step - loss: 0.5977 - accuracy: 0.6817 - val_loss: 0.5925 - val_accuracy: 0.6841\n",
            "Epoch 6/100\n",
            "147/147 [==============================] - 42s 78ms/step - loss: 0.5914 - accuracy: 0.6883 - val_loss: 0.5809 - val_accuracy: 0.6916\n",
            "Epoch 7/100\n",
            "147/147 [==============================] - 42s 79ms/step - loss: 0.5868 - accuracy: 0.6901 - val_loss: 0.5944 - val_accuracy: 0.6794\n",
            "Epoch 8/100\n",
            "147/147 [==============================] - 42s 78ms/step - loss: 0.5843 - accuracy: 0.6915 - val_loss: 0.6001 - val_accuracy: 0.6807\n",
            "Epoch 9/100\n",
            "147/147 [==============================] - 42s 79ms/step - loss: 0.5798 - accuracy: 0.6974 - val_loss: 0.5658 - val_accuracy: 0.7059\n",
            "Epoch 10/100\n",
            "147/147 [==============================] - 42s 79ms/step - loss: 0.5642 - accuracy: 0.7093 - val_loss: 0.5619 - val_accuracy: 0.7063\n",
            "Epoch 11/100\n",
            "147/147 [==============================] - 42s 80ms/step - loss: 0.5620 - accuracy: 0.7122 - val_loss: 0.5579 - val_accuracy: 0.7151\n",
            "Epoch 12/100\n",
            "147/147 [==============================] - 42s 79ms/step - loss: 0.5558 - accuracy: 0.7175 - val_loss: 0.5463 - val_accuracy: 0.7230\n",
            "Epoch 13/100\n",
            "147/147 [==============================] - 42s 80ms/step - loss: 0.5474 - accuracy: 0.7200 - val_loss: 0.5318 - val_accuracy: 0.7292\n",
            "Epoch 14/100\n",
            "147/147 [==============================] - 42s 79ms/step - loss: 0.5412 - accuracy: 0.7266 - val_loss: 0.5260 - val_accuracy: 0.7341\n",
            "Epoch 15/100\n",
            "147/147 [==============================] - 42s 81ms/step - loss: 0.5437 - accuracy: 0.7248 - val_loss: 0.5433 - val_accuracy: 0.7240\n",
            "Epoch 16/100\n",
            "147/147 [==============================] - 42s 79ms/step - loss: 0.5320 - accuracy: 0.7324 - val_loss: 0.5227 - val_accuracy: 0.7420\n",
            "Epoch 17/100\n",
            "147/147 [==============================] - 42s 78ms/step - loss: 0.5258 - accuracy: 0.7386 - val_loss: 0.5300 - val_accuracy: 0.7394\n",
            "Epoch 18/100\n",
            "147/147 [==============================] - 41s 78ms/step - loss: 0.5205 - accuracy: 0.7394 - val_loss: 0.5157 - val_accuracy: 0.7518\n",
            "Epoch 19/100\n",
            "147/147 [==============================] - 42s 79ms/step - loss: 0.5174 - accuracy: 0.7447 - val_loss: 0.5017 - val_accuracy: 0.7582\n",
            "Epoch 20/100\n",
            "147/147 [==============================] - 43s 78ms/step - loss: 0.5111 - accuracy: 0.7460 - val_loss: 0.4767 - val_accuracy: 0.7651\n",
            "Epoch 21/100\n",
            "147/147 [==============================] - 42s 78ms/step - loss: 0.5032 - accuracy: 0.7535 - val_loss: 0.4723 - val_accuracy: 0.7757\n",
            "Epoch 22/100\n",
            "147/147 [==============================] - 41s 78ms/step - loss: 0.4963 - accuracy: 0.7598 - val_loss: 0.4742 - val_accuracy: 0.7676\n",
            "Epoch 23/100\n",
            "147/147 [==============================] - 42s 78ms/step - loss: 0.4897 - accuracy: 0.7638 - val_loss: 0.4624 - val_accuracy: 0.7755\n",
            "Epoch 24/100\n",
            "147/147 [==============================] - 42s 78ms/step - loss: 0.4818 - accuracy: 0.7637 - val_loss: 0.4627 - val_accuracy: 0.7749\n",
            "Epoch 25/100\n",
            "147/147 [==============================] - 41s 78ms/step - loss: 0.4812 - accuracy: 0.7680 - val_loss: 0.4707 - val_accuracy: 0.7753\n",
            "Epoch 26/100\n",
            "147/147 [==============================] - 42s 78ms/step - loss: 0.4768 - accuracy: 0.7722 - val_loss: 0.4755 - val_accuracy: 0.7689\n",
            "Epoch 27/100\n",
            "147/147 [==============================] - 43s 79ms/step - loss: 0.4688 - accuracy: 0.7776 - val_loss: 0.4602 - val_accuracy: 0.7821\n",
            "Epoch 28/100\n",
            "147/147 [==============================] - 42s 79ms/step - loss: 0.4625 - accuracy: 0.7773 - val_loss: 0.4476 - val_accuracy: 0.7918\n",
            "Epoch 29/100\n",
            "147/147 [==============================] - 42s 80ms/step - loss: 0.4607 - accuracy: 0.7796 - val_loss: 0.4351 - val_accuracy: 0.7952\n",
            "Epoch 30/100\n",
            "147/147 [==============================] - 42s 79ms/step - loss: 0.4565 - accuracy: 0.7837 - val_loss: 0.4316 - val_accuracy: 0.7954\n",
            "Epoch 31/100\n",
            "147/147 [==============================] - 43s 80ms/step - loss: 0.4464 - accuracy: 0.7888 - val_loss: 0.4367 - val_accuracy: 0.7926\n",
            "Epoch 32/100\n",
            "147/147 [==============================] - 42s 80ms/step - loss: 0.4428 - accuracy: 0.7918 - val_loss: 0.4297 - val_accuracy: 0.7952\n",
            "Epoch 33/100\n",
            "147/147 [==============================] - 41s 78ms/step - loss: 0.4368 - accuracy: 0.7979 - val_loss: 0.4726 - val_accuracy: 0.7723\n",
            "Epoch 34/100\n",
            "147/147 [==============================] - 42s 79ms/step - loss: 0.4425 - accuracy: 0.7936 - val_loss: 0.4237 - val_accuracy: 0.7956\n",
            "Epoch 35/100\n",
            "147/147 [==============================] - 42s 78ms/step - loss: 0.4335 - accuracy: 0.7963 - val_loss: 0.4296 - val_accuracy: 0.8005\n",
            "Epoch 36/100\n",
            "147/147 [==============================] - 42s 78ms/step - loss: 0.4278 - accuracy: 0.7998 - val_loss: 0.4230 - val_accuracy: 0.8009\n",
            "Epoch 37/100\n",
            "147/147 [==============================] - 42s 78ms/step - loss: 0.4302 - accuracy: 0.7966 - val_loss: 0.4184 - val_accuracy: 0.8065\n",
            "Epoch 38/100\n",
            "147/147 [==============================] - 41s 77ms/step - loss: 0.4234 - accuracy: 0.8016 - val_loss: 0.4293 - val_accuracy: 0.7997\n",
            "Epoch 39/100\n",
            "147/147 [==============================] - 42s 78ms/step - loss: 0.4145 - accuracy: 0.8084 - val_loss: 0.4045 - val_accuracy: 0.8172\n",
            "Epoch 40/100\n",
            "147/147 [==============================] - 41s 78ms/step - loss: 0.4132 - accuracy: 0.8107 - val_loss: 0.4018 - val_accuracy: 0.8157\n",
            "Epoch 41/100\n",
            "147/147 [==============================] - 41s 78ms/step - loss: 0.4155 - accuracy: 0.8072 - val_loss: 0.4006 - val_accuracy: 0.8135\n",
            "Epoch 42/100\n",
            "147/147 [==============================] - 41s 78ms/step - loss: 0.4079 - accuracy: 0.8116 - val_loss: 0.3849 - val_accuracy: 0.8251\n",
            "Epoch 43/100\n",
            "147/147 [==============================] - 42s 78ms/step - loss: 0.4078 - accuracy: 0.8124 - val_loss: 0.4064 - val_accuracy: 0.8157\n",
            "Epoch 44/100\n",
            "147/147 [==============================] - 42s 78ms/step - loss: 0.4020 - accuracy: 0.8149 - val_loss: 0.4483 - val_accuracy: 0.7935\n",
            "Epoch 45/100\n",
            "147/147 [==============================] - 42s 78ms/step - loss: 0.4041 - accuracy: 0.8126 - val_loss: 0.4108 - val_accuracy: 0.8067\n",
            "Epoch 46/100\n",
            "147/147 [==============================] - 41s 78ms/step - loss: 0.3943 - accuracy: 0.8195 - val_loss: 0.3819 - val_accuracy: 0.8343\n",
            "Epoch 47/100\n",
            "147/147 [==============================] - 42s 78ms/step - loss: 0.3918 - accuracy: 0.8207 - val_loss: 0.3756 - val_accuracy: 0.8253\n",
            "Epoch 48/100\n",
            "147/147 [==============================] - 42s 78ms/step - loss: 0.3907 - accuracy: 0.8228 - val_loss: 0.3878 - val_accuracy: 0.8242\n",
            "Epoch 49/100\n",
            "147/147 [==============================] - 42s 78ms/step - loss: 0.3906 - accuracy: 0.8210 - val_loss: 0.3827 - val_accuracy: 0.8266\n",
            "Epoch 50/100\n",
            "147/147 [==============================] - 42s 78ms/step - loss: 0.3771 - accuracy: 0.8313 - val_loss: 0.3834 - val_accuracy: 0.8313\n",
            "Epoch 51/100\n",
            "147/147 [==============================] - 42s 79ms/step - loss: 0.3882 - accuracy: 0.8242 - val_loss: 0.3806 - val_accuracy: 0.8306\n",
            "Epoch 52/100\n",
            "147/147 [==============================] - 42s 80ms/step - loss: 0.3817 - accuracy: 0.8277 - val_loss: 0.3732 - val_accuracy: 0.8345\n",
            "Epoch 53/100\n",
            "147/147 [==============================] - 42s 79ms/step - loss: 0.3719 - accuracy: 0.8313 - val_loss: 0.3765 - val_accuracy: 0.8347\n",
            "Epoch 54/100\n",
            "147/147 [==============================] - 42s 79ms/step - loss: 0.3725 - accuracy: 0.8328 - val_loss: 0.3657 - val_accuracy: 0.8360\n",
            "Epoch 55/100\n",
            "147/147 [==============================] - 43s 80ms/step - loss: 0.3695 - accuracy: 0.8311 - val_loss: 0.3744 - val_accuracy: 0.8302\n",
            "Epoch 56/100\n",
            "147/147 [==============================] - 41s 78ms/step - loss: 0.3733 - accuracy: 0.8328 - val_loss: 0.4116 - val_accuracy: 0.8133\n",
            "Epoch 57/100\n",
            "147/147 [==============================] - 42s 79ms/step - loss: 0.3652 - accuracy: 0.8373 - val_loss: 0.3664 - val_accuracy: 0.8383\n",
            "Epoch 58/100\n",
            "147/147 [==============================] - 42s 79ms/step - loss: 0.3580 - accuracy: 0.8427 - val_loss: 0.3814 - val_accuracy: 0.8289\n",
            "Epoch 59/100\n",
            "147/147 [==============================] - ETA: 0s - loss: 0.3668 - accuracy: 0.8332Restoring model weights from the end of the best epoch: 54.\n",
            "147/147 [==============================] - 42s 80ms/step - loss: 0.3668 - accuracy: 0.8332 - val_loss: 0.3710 - val_accuracy: 0.8383\n",
            "Epoch 59: early stopping\n"
          ]
        }
      ],
      "source": [
        "ES = early_stopping_callback()\n",
        "leNet_model.compile(optimizer = 'adam', loss = tf.keras.losses.BinaryCrossentropy(), metrics=['accuracy'] )\n",
        "history_leNet = leNet_model.fit(train_ds, epochs = 100, validation_data = val_ds, callbacks=[ES], verbose = 1)"
      ]
    },
    {
      "cell_type": "code",
      "execution_count": null,
      "metadata": {
        "colab": {
          "base_uri": "https://localhost:8080/"
        },
        "id": "LXwrmm7glK84",
        "outputId": "f3272f84-c3a3-49c6-c38f-804a8d7629c8"
      },
      "outputs": [
        {
          "name": "stdout",
          "output_type": "stream",
          "text": [
            "147/147 [==============================] - 3s 17ms/step - loss: 0.4060 - accuracy: 0.8199\n"
          ]
        },
        {
          "data": {
            "text/plain": [
              "[0.40602561831474304, 0.8199487328529358]"
            ]
          },
          "execution_count": 21,
          "metadata": {},
          "output_type": "execute_result"
        }
      ],
      "source": [
        "leNet_model.evaluate(val_ds)"
      ]
    },
    {
      "cell_type": "code",
      "execution_count": null,
      "metadata": {
        "colab": {
          "base_uri": "https://localhost:8080/"
        },
        "id": "xNCa6UifH4KP",
        "outputId": "ef9e292e-aab7-4b04-e05d-e410c9df6f20"
      },
      "outputs": [
        {
          "name": "stderr",
          "output_type": "stream",
          "text": [
            "/usr/local/lib/python3.10/dist-packages/keras/src/engine/training.py:3000: UserWarning: You are saving your model as an HDF5 file via `model.save()`. This file format is considered legacy. We recommend using instead the native Keras format, e.g. `model.save('my_model.keras')`.\n",
            "  saving_api.save_model(\n"
          ]
        }
      ],
      "source": [
        "leNet_model.save('LeNet_model.h5')\n"
      ]
    },
    {
      "cell_type": "code",
      "execution_count": null,
      "metadata": {
        "colab": {
          "base_uri": "https://localhost:8080/"
        },
        "id": "r8tR4ojULH3f",
        "outputId": "1b006de5-b31d-40ef-b084-b54c5728e193"
      },
      "outputs": [
        {
          "data": {
            "text/plain": [
              "<_PrefetchDataset element_spec=(TensorSpec(shape=(None, 227, 227, 3), dtype=tf.float32, name=None), TensorSpec(shape=(None,), dtype=tf.int32, name=None))>"
            ]
          },
          "execution_count": 9,
          "metadata": {},
          "output_type": "execute_result"
        }
      ],
      "source": [
        "train_ds"
      ]
    },
    {
      "cell_type": "code",
      "execution_count": null,
      "metadata": {
        "id": "ZTkEcOwkILsU"
      },
      "outputs": [],
      "source": [
        "def simple_model(input_shape):\n",
        "    model = tf.keras.Sequential([\n",
        "        #tf.keras.layers.Rescaling(1./255),\n",
        "        tf.keras.layers.Conv2D(32, (2,2), activation='relu', input_shape=input_shape),\n",
        "        tf.keras.layers.MaxPool2D(2,2),\n",
        "        tf.keras.layers.Conv2D(64, (2,2), activation='relu'),\n",
        "        tf.keras.layers.MaxPool2D(2,2),\n",
        "        tf.keras.layers.Conv2D(128, (2,2), activation='relu'),\n",
        "        tf.keras.layers.MaxPool2D(2,2),\n",
        "        tf.keras.layers.Flatten(),\n",
        "        tf.keras.layers.Dense(512, activation='relu'),\n",
        "        tf.keras.layers.Dense(128, activation='relu'),\n",
        "        tf.keras.layers.Dense(1, activation='sigmoid')\n",
        "    ])\n",
        "    return model"
      ]
    },
    {
      "cell_type": "code",
      "execution_count": null,
      "metadata": {
        "id": "aykYhaVdIR-Z"
      },
      "outputs": [],
      "source": [
        "model = simple_model((IMG_SIZE, IMG_SIZE, 3))"
      ]
    },
    {
      "cell_type": "code",
      "execution_count": null,
      "metadata": {
        "colab": {
          "base_uri": "https://localhost:8080/"
        },
        "id": "cogJactLhYdP",
        "outputId": "2e13bebe-840b-4310-b38f-be909293541f"
      },
      "outputs": [
        {
          "name": "stdout",
          "output_type": "stream",
          "text": [
            "Model: \"sequential_2\"\n",
            "_________________________________________________________________\n",
            " Layer (type)                Output Shape              Param #   \n",
            "=================================================================\n",
            " conv2d (Conv2D)             (None, 179, 179, 32)      416       \n",
            "                                                                 \n",
            " max_pooling2d (MaxPooling2  (None, 89, 89, 32)        0         \n",
            " D)                                                              \n",
            "                                                                 \n",
            " conv2d_1 (Conv2D)           (None, 88, 88, 64)        8256      \n",
            "                                                                 \n",
            " max_pooling2d_1 (MaxPoolin  (None, 44, 44, 64)        0         \n",
            " g2D)                                                            \n",
            "                                                                 \n",
            " conv2d_2 (Conv2D)           (None, 43, 43, 128)       32896     \n",
            "                                                                 \n",
            " max_pooling2d_2 (MaxPoolin  (None, 21, 21, 128)       0         \n",
            " g2D)                                                            \n",
            "                                                                 \n",
            " flatten (Flatten)           (None, 56448)             0         \n",
            "                                                                 \n",
            " dense (Dense)               (None, 512)               28901888  \n",
            "                                                                 \n",
            " dense_1 (Dense)             (None, 128)               65664     \n",
            "                                                                 \n",
            " dense_2 (Dense)             (None, 1)                 129       \n",
            "                                                                 \n",
            "=================================================================\n",
            "Total params: 29009249 (110.66 MB)\n",
            "Trainable params: 29009249 (110.66 MB)\n",
            "Non-trainable params: 0 (0.00 Byte)\n",
            "_________________________________________________________________\n"
          ]
        }
      ],
      "source": [
        "model.summary()"
      ]
    },
    {
      "cell_type": "code",
      "execution_count": null,
      "metadata": {
        "colab": {
          "base_uri": "https://localhost:8080/"
        },
        "id": "x27xzeuPIQh5",
        "outputId": "89c681c1-daf4-4dd5-f8c6-4b0e71c7588d"
      },
      "outputs": [
        {
          "name": "stdout",
          "output_type": "stream",
          "text": [
            "Epoch 1/100\n",
            "147/147 [==============================] - 51s 120ms/step - loss: 0.6497 - accuracy: 0.6351 - val_loss: 0.5678 - val_accuracy: 0.7072\n",
            "Epoch 2/100\n",
            "147/147 [==============================] - 37s 113ms/step - loss: 0.5162 - accuracy: 0.7427 - val_loss: 0.4611 - val_accuracy: 0.7817\n",
            "Epoch 3/100\n",
            "147/147 [==============================] - 37s 113ms/step - loss: 0.4659 - accuracy: 0.7797 - val_loss: 0.4611 - val_accuracy: 0.7813\n",
            "Epoch 4/100\n",
            "147/147 [==============================] - 37s 117ms/step - loss: 0.4266 - accuracy: 0.8005 - val_loss: 0.4175 - val_accuracy: 0.8048\n",
            "Epoch 5/100\n",
            "147/147 [==============================] - 37s 118ms/step - loss: 0.3898 - accuracy: 0.8222 - val_loss: 0.4169 - val_accuracy: 0.8093\n",
            "Epoch 6/100\n",
            "147/147 [==============================] - 39s 115ms/step - loss: 0.3553 - accuracy: 0.8428 - val_loss: 0.3700 - val_accuracy: 0.8364\n",
            "Epoch 7/100\n",
            "147/147 [==============================] - 37s 118ms/step - loss: 0.3289 - accuracy: 0.8559 - val_loss: 0.3534 - val_accuracy: 0.8447\n",
            "Epoch 8/100\n",
            "147/147 [==============================] - 37s 116ms/step - loss: 0.3072 - accuracy: 0.8680 - val_loss: 0.3448 - val_accuracy: 0.8505\n",
            "Epoch 9/100\n",
            "147/147 [==============================] - 37s 115ms/step - loss: 0.2876 - accuracy: 0.8779 - val_loss: 0.3552 - val_accuracy: 0.8481\n",
            "Epoch 10/100\n",
            "147/147 [==============================] - 37s 119ms/step - loss: 0.2549 - accuracy: 0.8941 - val_loss: 0.3726 - val_accuracy: 0.8441\n",
            "Epoch 11/100\n",
            "147/147 [==============================] - 37s 115ms/step - loss: 0.2304 - accuracy: 0.9066 - val_loss: 0.3602 - val_accuracy: 0.8501\n",
            "Epoch 12/100\n",
            "147/147 [==============================] - 37s 116ms/step - loss: 0.2030 - accuracy: 0.9198 - val_loss: 0.4025 - val_accuracy: 0.8449\n",
            "Epoch 13/100\n",
            "147/147 [==============================] - ETA: 0s - loss: 0.1839 - accuracy: 0.9270Restoring model weights from the end of the best epoch: 8.\n",
            "147/147 [==============================] - 37s 116ms/step - loss: 0.1839 - accuracy: 0.9270 - val_loss: 0.4165 - val_accuracy: 0.8379\n",
            "Epoch 13: early stopping\n"
          ]
        }
      ],
      "source": [
        "ES = early_stopping_callback()\n",
        "model.compile(optimizer = 'adam', loss = tf.keras.losses.BinaryCrossentropy(), metrics=['accuracy'] )\n",
        "s_h = model.fit(train_ds, epochs = 100, validation_data = val_ds, callbacks=[ES])"
      ]
    },
    {
      "cell_type": "code",
      "execution_count": null,
      "metadata": {
        "colab": {
          "base_uri": "https://localhost:8080/"
        },
        "id": "sJ04rPHpSI-A",
        "outputId": "dbce3fa1-1c61-4ed2-a843-9e96753dfbd6"
      },
      "outputs": [
        {
          "name": "stdout",
          "output_type": "stream",
          "text": [
            "37/37 [==============================] - 2s 42ms/step - loss: 0.3448 - accuracy: 0.8505\n"
          ]
        },
        {
          "data": {
            "text/plain": [
              "[0.3447887897491455, 0.8504912257194519]"
            ]
          },
          "execution_count": 19,
          "metadata": {},
          "output_type": "execute_result"
        }
      ],
      "source": [
        "model.evaluate(val_ds)\n"
      ]
    },
    {
      "cell_type": "code",
      "execution_count": null,
      "metadata": {
        "colab": {
          "base_uri": "https://localhost:8080/",
          "height": 430
        },
        "id": "boBAIkEokdF8",
        "outputId": "64a9ca05-5f8a-4e10-b301-7729e82e3c2b"
      },
      "outputs": [
        {
          "data": {
            "image/png": "[encoded data removed]",
            "text/plain": [
              "<Figure size 640x480 with 1 Axes>"
            ]
          },
          "metadata": {},
          "output_type": "display_data"
        }
      ],
      "source": [
        "pd.DataFrame(s_h.history).plot()\n",
        "plt.show()\n"
      ]
    },
    {
      "cell_type": "markdown",
      "metadata": {
        "id": "R6m3A_4Otqp4"
      },
      "source": [
        "# Evaluation model"
      ]
    },
    {
      "cell_type": "code",
      "execution_count": null,
      "metadata": {
        "id": "0cZ7_7wBtnLe"
      },
      "outputs": [],
      "source": [
        "# add more augmentation\n",
        "aug_train = tf.keras.Sequential([\n",
        "    tf.keras.layers.Rescaling(1./255),\n",
        "    tf.keras.layers.RandomFlip('horizontal'),\n",
        "    tf.keras.layers.RandomZoom(0.1),\n",
        "    tf.keras.layers.RandomRotation(0.3)\n",
        "])\n",
        "\n",
        "aug_val = tf.keras.Sequential([\n",
        "    tf.keras.layers.Rescaling(1./255)\n",
        "])"
      ]
    },
    {
      "cell_type": "code",
      "execution_count": null,
      "metadata": {
        "id": "1jL_4XQMuWAM"
      },
      "outputs": [],
      "source": [
        "train_ds = train_raw_ds.map(lambda x,label: (aug_train(x), label), num_parallel_calls=tf.data.AUTOTUNE).shuffle(1000)\n",
        "train_ds = train_ds.prefetch(buffer_size=tf.data.AUTOTUNE)\n",
        "\n",
        "val_ds = val_raw_ds.map(lambda x,label: (aug_val(x), label), num_parallel_calls=tf.data.AUTOTUNE)\n",
        "val_ds = val_ds.prefetch(buffer_size=tf.data.AUTOTUNE)"
      ]
    },
    {
      "cell_type": "code",
      "execution_count": null,
      "metadata": {
        "id": "ph5A-kbHvkI3"
      },
      "outputs": [],
      "source": [
        "def simple_model_dropout(input_shape):\n",
        "    model = tf.keras.Sequential([\n",
        "        #tf.keras.layers.Rescaling(1./255),\n",
        "        tf.keras.layers.Conv2D(32, (2,2), activation='relu', input_shape=input_shape),\n",
        "        tf.keras.layers.MaxPool2D(2,2),\n",
        "        tf.keras.layers.Conv2D(64, (2,2), activation='relu'),\n",
        "        tf.keras.layers.MaxPool2D(2,2),\n",
        "        tf.keras.layers.Conv2D(128, (2,2), activation='relu'),\n",
        "        tf.keras.layers.MaxPool2D(2,2),\n",
        "        tf.keras.layers.Flatten(),\n",
        "        tf.keras.layers.Dropout(0.4),\n",
        "        tf.keras.layers.Dense(512, activation='relu'),\n",
        "        tf.keras.layers.Dropout(0.4),\n",
        "        tf.keras.layers.Dense(128, activation='relu'),\n",
        "        tf.keras.layers.Dense(1, activation='sigmoid')\n",
        "    ])\n",
        "    return model"
      ]
    },
    {
      "cell_type": "code",
      "execution_count": null,
      "metadata": {
        "id": "Zwveqd0gyA6U"
      },
      "outputs": [],
      "source": [
        "model2 = simple_model_dropout((IMG_SIZE, IMG_SIZE,3))\n",
        "model2.summary()"
      ]
    },
    {
      "cell_type": "code",
      "execution_count": null,
      "metadata": {
        "id": "_v60FnEUuorA"
      },
      "outputs": [],
      "source": [
        "batch_size = 128\n",
        "ES = early_stopping_callback()\n",
        "model2.compile(optimizer = 'adam', loss = tf.keras.losses.BinaryCrossentropy(), metrics=['accuracy'] )\n",
        "history2 = model2.fit(train_ds,\n",
        "                epochs = 100,\n",
        "                #steps_per_epoch = int(len(train_ds)//batch_size),\n",
        "                validation_data = val_ds,\n",
        "                #validation_steps = int(len(val_ds)//batch_size),\n",
        "                callbacks=[ES])"
      ]
    },
    {
      "cell_type": "markdown",
      "metadata": {
        "id": "YlQm7UakiT7T"
      },
      "source": [
        "# Keras model"
      ]
    },
    {
      "cell_type": "code",
      "execution_count": null,
      "metadata": {
        "id": "9nc6y8S02FEF"
      },
      "outputs": [],
      "source": [
        "def keras_model(input_shape, num_classes):\n",
        "    inputs = tf.keras.Input(shape=input_shape)\n",
        "\n",
        "    # Entry block\n",
        "    #x = tf.keras.layers.Rescaling(1.0 / 255)(inputs)\n",
        "    x = tf.keras.layers.Conv2D(128, 3, strides=2, padding=\"same\")(inputs)\n",
        "    x = tf.keras.layers.BatchNormalization()(x)\n",
        "    x = tf.keras.layers.Activation(\"relu\")(x)\n",
        "\n",
        "    previous_block_activation = x  # Set aside residual\n",
        "\n",
        "    for size in [256, 512, 728]:\n",
        "        x = tf.keras.layers.Activation(\"relu\")(x)\n",
        "        x = tf.keras.layers.SeparableConv2D(size, 3, padding=\"same\")(x)\n",
        "        x = tf.keras.layers.BatchNormalization()(x)\n",
        "\n",
        "        x = tf.keras.layers.Activation(\"relu\")(x)\n",
        "        x = tf.keras.layers.SeparableConv2D(size, 3, padding=\"same\")(x)\n",
        "        x = tf.keras.layers.BatchNormalization()(x)\n",
        "\n",
        "        x = tf.keras.layers.MaxPooling2D(3, strides=2, padding=\"same\")(x)\n",
        "\n",
        "        # Project residual\n",
        "        residual = tf.keras.layers.Conv2D(size, 1, strides=2, padding=\"same\")(\n",
        "            previous_block_activation\n",
        "        )\n",
        "        x = tf.keras.layers.add([x, residual])  # Add back residual\n",
        "        previous_block_activation = x  # Set aside next residual\n",
        "\n",
        "    x = tf.keras.layers.SeparableConv2D(1024, 3, padding=\"same\")(x)\n",
        "    x = tf.keras.layers.BatchNormalization()(x)\n",
        "    x = tf.keras.layers.Activation(\"relu\")(x)\n",
        "\n",
        "    x = tf.keras.layers.GlobalAveragePooling2D()(x)\n",
        "    if num_classes == 2:\n",
        "        activation = \"sigmoid\"\n",
        "        units = 1\n",
        "    else:\n",
        "        activation = \"softmax\"\n",
        "        units = num_classes\n",
        "\n",
        "    x = tf.keras.layers.Dropout(0.5)(x)\n",
        "    outputs = tf.keras.layers.Dense(units, activation=activation)(x)\n",
        "    return tf.keras.Model(inputs, outputs)"
      ]
    },
    {
      "cell_type": "code",
      "execution_count": null,
      "metadata": {
        "id": "0uL9ZlNPEpUF"
      },
      "outputs": [],
      "source": [
        "big_model = keras_model((IMG_SIZE, IMG_SIZE,3), 2)"
      ]
    },
    {
      "cell_type": "code",
      "execution_count": null,
      "metadata": {
        "colab": {
          "base_uri": "https://localhost:8080/"
        },
        "id": "AFXLBJeNFG6u",
        "outputId": "57f477cf-4f55-4955-bd01-64cc1316bdda"
      },
      "outputs": [
        {
          "name": "stdout",
          "output_type": "stream",
          "text": [
            "Model: \"model\"\n",
            "__________________________________________________________________________________________________\n",
            " Layer (type)                Output Shape                 Param #   Connected to                  \n",
            "==================================================================================================\n",
            " input_1 (InputLayer)        [(None, 180, 180, 3)]        0         []                            \n",
            "                                                                                                  \n",
            " conv2d (Conv2D)             (None, 90, 90, 128)          3584      ['input_1[0][0]']             \n",
            "                                                                                                  \n",
            " batch_normalization (Batch  (None, 90, 90, 128)          512       ['conv2d[0][0]']              \n",
            " Normalization)                                                                                   \n",
            "                                                                                                  \n",
            " activation (Activation)     (None, 90, 90, 128)          0         ['batch_normalization[0][0]'] \n",
            "                                                                                                  \n",
            " activation_1 (Activation)   (None, 90, 90, 128)          0         ['activation[0][0]']          \n",
            "                                                                                                  \n",
            " separable_conv2d (Separabl  (None, 90, 90, 256)          34176     ['activation_1[0][0]']        \n",
            " eConv2D)                                                                                         \n",
            "                                                                                                  \n",
            " batch_normalization_1 (Bat  (None, 90, 90, 256)          1024      ['separable_conv2d[0][0]']    \n",
            " chNormalization)                                                                                 \n",
            "                                                                                                  \n",
            " activation_2 (Activation)   (None, 90, 90, 256)          0         ['batch_normalization_1[0][0]'\n",
            "                                                                    ]                             \n",
            "                                                                                                  \n",
            " separable_conv2d_1 (Separa  (None, 90, 90, 256)          68096     ['activation_2[0][0]']        \n",
            " bleConv2D)                                                                                       \n",
            "                                                                                                  \n",
            " batch_normalization_2 (Bat  (None, 90, 90, 256)          1024      ['separable_conv2d_1[0][0]']  \n",
            " chNormalization)                                                                                 \n",
            "                                                                                                  \n",
            " max_pooling2d (MaxPooling2  (None, 45, 45, 256)          0         ['batch_normalization_2[0][0]'\n",
            " D)                                                                 ]                             \n",
            "                                                                                                  \n",
            " conv2d_1 (Conv2D)           (None, 45, 45, 256)          33024     ['activation[0][0]']          \n",
            "                                                                                                  \n",
            " add (Add)                   (None, 45, 45, 256)          0         ['max_pooling2d[0][0]',       \n",
            "                                                                     'conv2d_1[0][0]']            \n",
            "                                                                                                  \n",
            " activation_3 (Activation)   (None, 45, 45, 256)          0         ['add[0][0]']                 \n",
            "                                                                                                  \n",
            " separable_conv2d_2 (Separa  (None, 45, 45, 512)          133888    ['activation_3[0][0]']        \n",
            " bleConv2D)                                                                                       \n",
            "                                                                                                  \n",
            " batch_normalization_3 (Bat  (None, 45, 45, 512)          2048      ['separable_conv2d_2[0][0]']  \n",
            " chNormalization)                                                                                 \n",
            "                                                                                                  \n",
            " activation_4 (Activation)   (None, 45, 45, 512)          0         ['batch_normalization_3[0][0]'\n",
            "                                                                    ]                             \n",
            "                                                                                                  \n",
            " separable_conv2d_3 (Separa  (None, 45, 45, 512)          267264    ['activation_4[0][0]']        \n",
            " bleConv2D)                                                                                       \n",
            "                                                                                                  \n",
            " batch_normalization_4 (Bat  (None, 45, 45, 512)          2048      ['separable_conv2d_3[0][0]']  \n",
            " chNormalization)                                                                                 \n",
            "                                                                                                  \n",
            " max_pooling2d_1 (MaxPoolin  (None, 23, 23, 512)          0         ['batch_normalization_4[0][0]'\n",
            " g2D)                                                               ]                             \n",
            "                                                                                                  \n",
            " conv2d_2 (Conv2D)           (None, 23, 23, 512)          131584    ['add[0][0]']                 \n",
            "                                                                                                  \n",
            " add_1 (Add)                 (None, 23, 23, 512)          0         ['max_pooling2d_1[0][0]',     \n",
            "                                                                     'conv2d_2[0][0]']            \n",
            "                                                                                                  \n",
            " activation_5 (Activation)   (None, 23, 23, 512)          0         ['add_1[0][0]']               \n",
            "                                                                                                  \n",
            " separable_conv2d_4 (Separa  (None, 23, 23, 728)          378072    ['activation_5[0][0]']        \n",
            " bleConv2D)                                                                                       \n",
            "                                                                                                  \n",
            " batch_normalization_5 (Bat  (None, 23, 23, 728)          2912      ['separable_conv2d_4[0][0]']  \n",
            " chNormalization)                                                                                 \n",
            "                                                                                                  \n",
            " activation_6 (Activation)   (None, 23, 23, 728)          0         ['batch_normalization_5[0][0]'\n",
            "                                                                    ]                             \n",
            "                                                                                                  \n",
            " separable_conv2d_5 (Separa  (None, 23, 23, 728)          537264    ['activation_6[0][0]']        \n",
            " bleConv2D)                                                                                       \n",
            "                                                                                                  \n",
            " batch_normalization_6 (Bat  (None, 23, 23, 728)          2912      ['separable_conv2d_5[0][0]']  \n",
            " chNormalization)                                                                                 \n",
            "                                                                                                  \n",
            " max_pooling2d_2 (MaxPoolin  (None, 12, 12, 728)          0         ['batch_normalization_6[0][0]'\n",
            " g2D)                                                               ]                             \n",
            "                                                                                                  \n",
            " conv2d_3 (Conv2D)           (None, 12, 12, 728)          373464    ['add_1[0][0]']               \n",
            "                                                                                                  \n",
            " add_2 (Add)                 (None, 12, 12, 728)          0         ['max_pooling2d_2[0][0]',     \n",
            "                                                                     'conv2d_3[0][0]']            \n",
            "                                                                                                  \n",
            " separable_conv2d_6 (Separa  (None, 12, 12, 1024)         753048    ['add_2[0][0]']               \n",
            " bleConv2D)                                                                                       \n",
            "                                                                                                  \n",
            " batch_normalization_7 (Bat  (None, 12, 12, 1024)         4096      ['separable_conv2d_6[0][0]']  \n",
            " chNormalization)                                                                                 \n",
            "                                                                                                  \n",
            " activation_7 (Activation)   (None, 12, 12, 1024)         0         ['batch_normalization_7[0][0]'\n",
            "                                                                    ]                             \n",
            "                                                                                                  \n",
            " global_average_pooling2d (  (None, 1024)                 0         ['activation_7[0][0]']        \n",
            " GlobalAveragePooling2D)                                                                          \n",
            "                                                                                                  \n",
            " dropout (Dropout)           (None, 1024)                 0         ['global_average_pooling2d[0][\n",
            "                                                                    0]']                          \n",
            "                                                                                                  \n",
            " dense (Dense)               (None, 1)                    1025      ['dropout[0][0]']             \n",
            "                                                                                                  \n",
            "==================================================================================================\n",
            "Total params: 2731065 (10.42 MB)\n",
            "Trainable params: 2722777 (10.39 MB)\n",
            "Non-trainable params: 8288 (32.38 KB)\n",
            "__________________________________________________________________________________________________\n"
          ]
        }
      ],
      "source": [
        "big_model.summary()"
      ]
    },
    {
      "cell_type": "code",
      "execution_count": null,
      "metadata": {
        "colab": {
          "background_save": true,
          "base_uri": "https://localhost:8080/"
        },
        "id": "7B_4nleAE5vw",
        "outputId": "63c82793-bfb7-4fb1-8977-383aba8a9f29"
      },
      "outputs": [
        {
          "name": "stdout",
          "output_type": "stream",
          "text": [
            "Epoch 1/100\n",
            "147/147 [==============================] - 118s 420ms/step - loss: 0.6709 - accuracy: 0.6204 - val_loss: 0.7435 - val_accuracy: 0.5028\n",
            "Epoch 2/100\n",
            "147/147 [==============================] - 91s 400ms/step - loss: 0.5743 - accuracy: 0.7023 - val_loss: 0.9554 - val_accuracy: 0.5028\n",
            "Epoch 3/100\n",
            "147/147 [==============================] - 92s 400ms/step - loss: 0.4854 - accuracy: 0.7722 - val_loss: 1.3412 - val_accuracy: 0.5028\n",
            "Epoch 4/100\n",
            "147/147 [==============================] - 92s 400ms/step - loss: 0.4194 - accuracy: 0.8140 - val_loss: 0.5192 - val_accuracy: 0.7302\n",
            "Epoch 5/100\n",
            "147/147 [==============================] - 92s 400ms/step - loss: 0.3756 - accuracy: 0.8360 - val_loss: 1.0133 - val_accuracy: 0.6337\n",
            "Epoch 6/100\n",
            "147/147 [==============================] - 91s 400ms/step - loss: 0.3453 - accuracy: 0.8503 - val_loss: 0.9915 - val_accuracy: 0.6576\n",
            "Epoch 7/100\n",
            "147/147 [==============================] - 92s 400ms/step - loss: 0.3161 - accuracy: 0.8657 - val_loss: 0.3396 - val_accuracy: 0.8454\n",
            "Epoch 8/100\n",
            "147/147 [==============================] - 92s 400ms/step - loss: 0.2833 - accuracy: 0.8782 - val_loss: 0.3341 - val_accuracy: 0.8607\n",
            "Epoch 9/100\n",
            "147/147 [==============================] - 92s 400ms/step - loss: 0.2632 - accuracy: 0.8889 - val_loss: 0.6422 - val_accuracy: 0.7723\n",
            "Epoch 10/100\n",
            "147/147 [==============================] - 90s 400ms/step - loss: 0.2463 - accuracy: 0.8958 - val_loss: 0.2789 - val_accuracy: 0.8868\n",
            "Epoch 11/100\n",
            "147/147 [==============================] - 91s 400ms/step - loss: 0.2321 - accuracy: 0.9015 - val_loss: 0.8286 - val_accuracy: 0.7563\n",
            "Epoch 12/100\n",
            "147/147 [==============================] - 91s 400ms/step - loss: 0.2227 - accuracy: 0.9091 - val_loss: 0.2658 - val_accuracy: 0.8744\n",
            "Epoch 13/100\n",
            "147/147 [==============================] - 91s 400ms/step - loss: 0.2104 - accuracy: 0.9147 - val_loss: 0.4949 - val_accuracy: 0.8289\n",
            "Epoch 14/100\n",
            "147/147 [==============================] - 91s 400ms/step - loss: 0.1994 - accuracy: 0.9174 - val_loss: 0.2096 - val_accuracy: 0.9186\n",
            "Epoch 15/100\n",
            "147/147 [==============================] - 91s 400ms/step - loss: 0.1909 - accuracy: 0.9216 - val_loss: 0.2326 - val_accuracy: 0.8992\n",
            "Epoch 16/100\n",
            "147/147 [==============================] - 91s 400ms/step - loss: 0.1739 - accuracy: 0.9273 - val_loss: 0.2149 - val_accuracy: 0.9107\n",
            "Epoch 17/100\n",
            "147/147 [==============================] - 91s 400ms/step - loss: 0.1717 - accuracy: 0.9285 - val_loss: 0.2954 - val_accuracy: 0.8872\n",
            "Epoch 18/100\n",
            "147/147 [==============================] - 91s 400ms/step - loss: 0.1636 - accuracy: 0.9332 - val_loss: 0.2400 - val_accuracy: 0.9069\n",
            "Epoch 19/100\n",
            "147/147 [==============================] - ETA: 0s - loss: 0.1525 - accuracy: 0.9389Restoring model weights from the end of the best epoch: 14.\n",
            "147/147 [==============================] - 91s 400ms/step - loss: 0.1525 - accuracy: 0.9389 - val_loss: 0.2569 - val_accuracy: 0.8911\n",
            "Epoch 19: early stopping\n"
          ]
        }
      ],
      "source": [
        "ES = early_stopping_callback()\n",
        "big_model.compile(optimizer = 'adam', loss = tf.keras.losses.BinaryCrossentropy(), metrics=['accuracy'] )\n",
        "history_big_model = big_model.fit(train_ds, epochs = 100, validation_data = val_ds, callbacks=[ES])"
      ]
    },
    {
      "cell_type": "code",
      "execution_count": 2,
      "metadata": {
        "id": "2MOSwYCTFJyN",
        "colab": {
          "base_uri": "https://localhost:8080/",
          "height": 211
        },
        "outputId": "3704e9f3-14b3-4b7a-e6f3-df9577966a2a"
      },
      "outputs": [
        {
          "output_type": "error",
          "ename": "NameError",
          "evalue": "ignored",
          "traceback": [
            "\u001b[0;31m---------------------------------------------------------------------------\u001b[0m",
            "\u001b[0;31mNameError\u001b[0m                                 Traceback (most recent call last)",
            "\u001b[0;32m<ipython-input-2-3165617229b4>\u001b[0m in \u001b[0;36m<cell line: 2>\u001b[0;34m()\u001b[0m\n\u001b[1;32m      1\u001b[0m \u001b[0;32mimport\u001b[0m \u001b[0mpandas\u001b[0m \u001b[0;32mas\u001b[0m \u001b[0mpd\u001b[0m\u001b[0;34m\u001b[0m\u001b[0;34m\u001b[0m\u001b[0m\n\u001b[0;32m----> 2\u001b[0;31m \u001b[0mpd\u001b[0m\u001b[0;34m.\u001b[0m\u001b[0mDataFrame\u001b[0m\u001b[0;34m(\u001b[0m\u001b[0mhistory_big_model\u001b[0m\u001b[0;34m.\u001b[0m\u001b[0mhistory\u001b[0m\u001b[0;34m)\u001b[0m\u001b[0;34m.\u001b[0m\u001b[0mplot\u001b[0m\u001b[0;34m(\u001b[0m\u001b[0;34m)\u001b[0m\u001b[0;34m\u001b[0m\u001b[0;34m\u001b[0m\u001b[0m\n\u001b[0m\u001b[1;32m      3\u001b[0m \u001b[0mplt\u001b[0m\u001b[0;34m.\u001b[0m\u001b[0mshow\u001b[0m\u001b[0;34m(\u001b[0m\u001b[0;34m)\u001b[0m\u001b[0;34m\u001b[0m\u001b[0;34m\u001b[0m\u001b[0m\n",
            "\u001b[0;31mNameError\u001b[0m: name 'history_big_model' is not defined"
          ]
        }
      ],
      "source": [
        "import pandas as pd\n",
        "pd.DataFrame(history_big_model.history).plot()\n",
        "plt.show()\n"
      ]
    },
    {
      "cell_type": "code",
      "source": [],
      "metadata": {
        "id": "5m5321AYKZCz"
      },
      "execution_count": null,
      "outputs": []
    }
  ],
  "metadata": {
    "accelerator": "GPU",
    "colab": {
      "machine_shape": "hm",
      "provenance": [],
      "mount_file_id": "1uDNsQaMxTcEkbGe0aKv7u2GSnb3JcVpK",
      "authorship_tag": "ABX9TyOIdcENQ4hoYBfQd72HL675",
      "include_colab_link": true
    },
    "kernelspec": {
      "display_name": "Python 3",
      "name": "python3"
    },
    "language_info": {
      "name": "python"
    }
  },
  "nbformat": 4,
  "nbformat_minor": 0
}