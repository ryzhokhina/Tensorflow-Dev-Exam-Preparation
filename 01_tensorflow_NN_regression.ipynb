{
  "nbformat": 4,
  "nbformat_minor": 0,
  "metadata": {
    "colab": {
      "provenance": [],
      "gpuType": "T4",
      "mount_file_id": "1HDMfWvOCJMFT8LG4A4NWwo9mAS6Fl0Kl",
      "authorship_tag": "ABX9TyPo1l1BUFYy5tNYynGPjMZP",
      "include_colab_link": true
    },
    "kernelspec": {
      "name": "python3",
      "display_name": "Python 3"
    },
    "language_info": {
      "name": "python"
    },
    "accelerator": "GPU"
  },
  "cells": [
    {
      "cell_type": "markdown",
      "metadata": {
        "id": "view-in-github",
        "colab_type": "text"
      },
      "source": [
        "<a href=\"https://colab.research.google.com/github/ryzhokhina/Tensorflow-Dev-Exam-Preparation/blob/main/01_tensorflow_NN_regression.ipynb\" target=\"_parent\"><img src=\"https://colab.research.google.com/assets/colab-badge.svg\" alt=\"Open In Colab\"/></a>"
      ]
    },
    {
      "cell_type": "markdown",
      "source": [
        "##01. Neural Network Regression with TensorFlow"
      ],
      "metadata": {
        "id": "pl8ck9HQE1Bs"
      }
    },
    {
      "cell_type": "code",
      "source": [
        "import tensorflow as tf\n",
        "print(tf.__version__)"
      ],
      "metadata": {
        "colab": {
          "base_uri": "https://localhost:8080/"
        },
        "id": "hZASpNf9EVxt",
        "outputId": "04d828a3-a7dc-4b82-c28b-82725946d26f"
      },
      "execution_count": 1,
      "outputs": [
        {
          "output_type": "stream",
          "name": "stdout",
          "text": [
            "2.12.0\n"
          ]
        }
      ]
    },
    {
      "cell_type": "code",
      "source": [
        "import numpy as np\n",
        "import matplotlib.pyplot as plt"
      ],
      "metadata": {
        "id": "8NSdQKdEE8QB"
      },
      "execution_count": 2,
      "outputs": []
    },
    {
      "cell_type": "code",
      "source": [
        "X = np.linspace(-7.0, 14, 8)\n",
        "y = np.linspace(3.0, 24, 8)"
      ],
      "metadata": {
        "id": "4iai_KK0HsFC"
      },
      "execution_count": 3,
      "outputs": []
    },
    {
      "cell_type": "code",
      "source": [
        "plt.plot(X,y, '*-b')"
      ],
      "metadata": {
        "colab": {
          "base_uri": "https://localhost:8080/",
          "height": 452
        },
        "id": "OuS_tg-AIErB",
        "outputId": "52ecd0d8-70bd-472f-ec90-464e320e21c9"
      },
      "execution_count": 4,
      "outputs": [
        {
          "output_type": "execute_result",
          "data": {
            "text/plain": [
              "[<matplotlib.lines.Line2D at 0x7ff8513e9600>]"
            ]
          },
          "metadata": {},
          "execution_count": 4
        },
        {
          "output_type": "display_data",
          "data": {
            "text/plain": [
              "<Figure size 640x480 with 1 Axes>"
            ],
            "image/png": "[encoded data removed]"
          },
          "metadata": {}
        }
      ]
    },
    {
      "cell_type": "code",
      "source": [
        "X = tf.constant(X)\n",
        "y = tf.constant(y)"
      ],
      "metadata": {
        "id": "oWcxQ56kIFrV"
      },
      "execution_count": 5,
      "outputs": []
    },
    {
      "cell_type": "code",
      "source": [
        "X, y"
      ],
      "metadata": {
        "colab": {
          "base_uri": "https://localhost:8080/"
        },
        "id": "x7iAjZf_Nrzw",
        "outputId": "a5c0b163-deff-41d0-d6f0-0f4d7b8585f6"
      },
      "execution_count": 6,
      "outputs": [
        {
          "output_type": "execute_result",
          "data": {
            "text/plain": [
              "(<tf.Tensor: shape=(8,), dtype=float64, numpy=array([-7., -4., -1.,  2.,  5.,  8., 11., 14.])>,\n",
              " <tf.Tensor: shape=(8,), dtype=float64, numpy=array([ 3.,  6.,  9., 12., 15., 18., 21., 24.])>)"
            ]
          },
          "metadata": {},
          "execution_count": 6
        }
      ]
    },
    {
      "cell_type": "code",
      "source": [
        "plt.scatter(X,y)"
      ],
      "metadata": {
        "colab": {
          "base_uri": "https://localhost:8080/",
          "height": 452
        },
        "id": "pdOaEbIgNtNC",
        "outputId": "0fc439aa-aa2f-4a2b-ed8b-579aa2024028"
      },
      "execution_count": 7,
      "outputs": [
        {
          "output_type": "execute_result",
          "data": {
            "text/plain": [
              "<matplotlib.collections.PathCollection at 0x7ff8db286890>"
            ]
          },
          "metadata": {},
          "execution_count": 7
        },
        {
          "output_type": "display_data",
          "data": {
            "text/plain": [
              "<Figure size 640x480 with 1 Axes>"
            ],
            "image/png": "[encoded data removed]"
          },
          "metadata": {}
        }
      ]
    },
    {
      "cell_type": "markdown",
      "source": [
        "# Creating model with TensorFlow\n",
        "\n",
        "\n",
        "*   Create model\n",
        "*   Compile model\n",
        "*   Fit model\n",
        "*   Evaluate model\n",
        "\n",
        "\n",
        "\n"
      ],
      "metadata": {
        "id": "tTqNZaNJN-Qc"
      }
    },
    {
      "cell_type": "code",
      "source": [
        "tf.random.set_seed(42)\n",
        "\n",
        "model = tf.keras.Sequential()\n",
        "model.add(tf.keras.layers.Dense(1))\n",
        "model.compile(optimizer = 'sgd', loss = tf.keras.losses.mse, metrics = 'mae')\n",
        "model.fit(tf.expand_dims(X, -1), y, epochs = 10)"
      ],
      "metadata": {
        "colab": {
          "base_uri": "https://localhost:8080/"
        },
        "id": "Z1sTaG8pN6Ra",
        "outputId": "2566ccdf-61dd-4b93-93d9-e04b1a693261"
      },
      "execution_count": 8,
      "outputs": [
        {
          "output_type": "stream",
          "name": "stdout",
          "text": [
            "Epoch 1/10\n",
            "1/1 [==============================] - 5s 5s/step - loss: 241.3184 - mae: 13.7147\n",
            "Epoch 2/10\n",
            "1/1 [==============================] - 0s 10ms/step - loss: 81.5772 - mae: 7.3424\n",
            "Epoch 3/10\n",
            "1/1 [==============================] - 0s 10ms/step - loss: 73.2784 - mae: 7.8111\n",
            "Epoch 4/10\n",
            "1/1 [==============================] - 0s 14ms/step - loss: 70.7609 - mae: 7.4263\n",
            "Epoch 5/10\n",
            "1/1 [==============================] - 0s 12ms/step - loss: 68.5306 - mae: 7.3595\n",
            "Epoch 6/10\n",
            "1/1 [==============================] - 0s 11ms/step - loss: 66.3782 - mae: 7.2331\n",
            "Epoch 7/10\n",
            "1/1 [==============================] - 0s 11ms/step - loss: 64.2937 - mae: 7.1206\n",
            "Epoch 8/10\n",
            "1/1 [==============================] - 0s 10ms/step - loss: 62.2747 - mae: 7.0075\n",
            "Epoch 9/10\n",
            "1/1 [==============================] - 0s 9ms/step - loss: 60.3191 - mae: 6.8967\n",
            "Epoch 10/10\n",
            "1/1 [==============================] - 0s 9ms/step - loss: 58.4249 - mae: 6.7875\n"
          ]
        },
        {
          "output_type": "execute_result",
          "data": {
            "text/plain": [
              "<keras.callbacks.History at 0x7ff7cc18d5a0>"
            ]
          },
          "metadata": {},
          "execution_count": 8
        }
      ]
    },
    {
      "cell_type": "code",
      "source": [
        "y_predict = model.predict(X)\n",
        "plt.plot(X, y_predict)\n",
        "plt.plot(X,y)"
      ],
      "metadata": {
        "colab": {
          "base_uri": "https://localhost:8080/",
          "height": 465
        },
        "id": "-BPcE2onQg7S",
        "outputId": "ccfc12c4-fa4e-4948-9e9d-02beb4af5fa9"
      },
      "execution_count": 9,
      "outputs": [
        {
          "output_type": "stream",
          "name": "stdout",
          "text": [
            "1/1 [==============================] - 0s 72ms/step\n"
          ]
        },
        {
          "output_type": "execute_result",
          "data": {
            "text/plain": [
              "[<matplotlib.lines.Line2D at 0x7ff7b637d7b0>]"
            ]
          },
          "metadata": {},
          "execution_count": 9
        },
        {
          "output_type": "display_data",
          "data": {
            "text/plain": [
              "<Figure size 640x480 with 1 Axes>"
            ],
            "image/png": "[encoded data removed]"
          },
          "metadata": {}
        }
      ]
    },
    {
      "cell_type": "markdown",
      "source": [
        "### Improving model:\n",
        "**1. creting model** : change layrs, change number of neurons, chanhe activation function\n",
        "\n",
        "**2. compile model** : change optimizer, change lerning rate, change loss function\n",
        "**3. fit model** : change number of data, change number of epochs"
      ],
      "metadata": {
        "id": "xnNpTe2VYybA"
      }
    },
    {
      "cell_type": "code",
      "source": [
        "tf.random.set_seed(42)\n",
        "model_dif = tf.keras.Sequential((\n",
        "  tf.keras.layers.Dense(50, 'relu'),\n",
        "  tf.keras.layers.Dense(50),\n",
        "  tf.keras.layers.Dense(50))\n",
        ")\n",
        "model_dif.add(tf.keras.layers.Dense(1))\n",
        "model_dif.compile(optimizer = tf.keras.optimizers.Adam(learning_rate = 0.01), loss = tf.keras.losses.mae, metrics = 'mae')\n",
        "history = model_dif.fit(tf.expand_dims(X, -1), y, epochs = 100)"
      ],
      "metadata": {
        "colab": {
          "base_uri": "https://localhost:8080/"
        },
        "id": "Ty890o0sYuzp",
        "outputId": "08b7cfbb-be82-4ff4-b55c-34fb4c17d6a8"
      },
      "execution_count": 10,
      "outputs": [
        {
          "output_type": "stream",
          "name": "stdout",
          "text": [
            "Epoch 1/100\n",
            "1/1 [==============================] - 2s 2s/step - loss: 14.1374 - mae: 14.1374\n",
            "Epoch 2/100\n",
            "1/1 [==============================] - 0s 11ms/step - loss: 9.5321 - mae: 9.5321\n",
            "Epoch 3/100\n",
            "1/1 [==============================] - 0s 9ms/step - loss: 5.2528 - mae: 5.2528\n",
            "Epoch 4/100\n",
            "1/1 [==============================] - 0s 14ms/step - loss: 5.3937 - mae: 5.3937\n",
            "Epoch 5/100\n",
            "1/1 [==============================] - 0s 11ms/step - loss: 6.9275 - mae: 6.9275\n",
            "Epoch 6/100\n",
            "1/1 [==============================] - 0s 10ms/step - loss: 5.3762 - mae: 5.3762\n",
            "Epoch 7/100\n",
            "1/1 [==============================] - 0s 10ms/step - loss: 3.8266 - mae: 3.8266\n",
            "Epoch 8/100\n",
            "1/1 [==============================] - 0s 11ms/step - loss: 4.8744 - mae: 4.8744\n",
            "Epoch 9/100\n",
            "1/1 [==============================] - 0s 12ms/step - loss: 5.1952 - mae: 5.1952\n",
            "Epoch 10/100\n",
            "1/1 [==============================] - 0s 14ms/step - loss: 4.1140 - mae: 4.1140\n",
            "Epoch 11/100\n",
            "1/1 [==============================] - 0s 18ms/step - loss: 3.5773 - mae: 3.5773\n",
            "Epoch 12/100\n",
            "1/1 [==============================] - 0s 14ms/step - loss: 4.2417 - mae: 4.2417\n",
            "Epoch 13/100\n",
            "1/1 [==============================] - 0s 15ms/step - loss: 4.4601 - mae: 4.4601\n",
            "Epoch 14/100\n",
            "1/1 [==============================] - 0s 14ms/step - loss: 4.1081 - mae: 4.1081\n",
            "Epoch 15/100\n",
            "1/1 [==============================] - 0s 13ms/step - loss: 3.3369 - mae: 3.3369\n",
            "Epoch 16/100\n",
            "1/1 [==============================] - 0s 15ms/step - loss: 3.4019 - mae: 3.4019\n",
            "Epoch 17/100\n",
            "1/1 [==============================] - 0s 14ms/step - loss: 3.5888 - mae: 3.5888\n",
            "Epoch 18/100\n",
            "1/1 [==============================] - 0s 15ms/step - loss: 3.0344 - mae: 3.0344\n",
            "Epoch 19/100\n",
            "1/1 [==============================] - 0s 14ms/step - loss: 2.8584 - mae: 2.8584\n",
            "Epoch 20/100\n",
            "1/1 [==============================] - 0s 17ms/step - loss: 2.8793 - mae: 2.8793\n",
            "Epoch 21/100\n",
            "1/1 [==============================] - 0s 12ms/step - loss: 2.9315 - mae: 2.9315\n",
            "Epoch 22/100\n",
            "1/1 [==============================] - 0s 11ms/step - loss: 2.6965 - mae: 2.6965\n",
            "Epoch 23/100\n",
            "1/1 [==============================] - 0s 13ms/step - loss: 2.4928 - mae: 2.4928\n",
            "Epoch 24/100\n",
            "1/1 [==============================] - 0s 16ms/step - loss: 2.2729 - mae: 2.2729\n",
            "Epoch 25/100\n",
            "1/1 [==============================] - 0s 13ms/step - loss: 2.2053 - mae: 2.2053\n",
            "Epoch 26/100\n",
            "1/1 [==============================] - 0s 11ms/step - loss: 2.0169 - mae: 2.0169\n",
            "Epoch 27/100\n",
            "1/1 [==============================] - 0s 13ms/step - loss: 1.9067 - mae: 1.9067\n",
            "Epoch 28/100\n",
            "1/1 [==============================] - 0s 12ms/step - loss: 1.7009 - mae: 1.7009\n",
            "Epoch 29/100\n",
            "1/1 [==============================] - 0s 12ms/step - loss: 1.5579 - mae: 1.5579\n",
            "Epoch 30/100\n",
            "1/1 [==============================] - 0s 11ms/step - loss: 1.3792 - mae: 1.3792\n",
            "Epoch 31/100\n",
            "1/1 [==============================] - 0s 12ms/step - loss: 1.0837 - mae: 1.0837\n",
            "Epoch 32/100\n",
            "1/1 [==============================] - 0s 14ms/step - loss: 1.0659 - mae: 1.0659\n",
            "Epoch 33/100\n",
            "1/1 [==============================] - 0s 11ms/step - loss: 0.7084 - mae: 0.7084\n",
            "Epoch 34/100\n",
            "1/1 [==============================] - 0s 13ms/step - loss: 0.6430 - mae: 0.6430\n",
            "Epoch 35/100\n",
            "1/1 [==============================] - 0s 11ms/step - loss: 0.3778 - mae: 0.3778\n",
            "Epoch 36/100\n",
            "1/1 [==============================] - 0s 15ms/step - loss: 0.5623 - mae: 0.5623\n",
            "Epoch 37/100\n",
            "1/1 [==============================] - 0s 12ms/step - loss: 1.1982 - mae: 1.1982\n",
            "Epoch 38/100\n",
            "1/1 [==============================] - 0s 14ms/step - loss: 0.8499 - mae: 0.8499\n",
            "Epoch 39/100\n",
            "1/1 [==============================] - 0s 13ms/step - loss: 1.5630 - mae: 1.5630\n",
            "Epoch 40/100\n",
            "1/1 [==============================] - 0s 12ms/step - loss: 1.7139 - mae: 1.7139\n",
            "Epoch 41/100\n",
            "1/1 [==============================] - 0s 14ms/step - loss: 1.3066 - mae: 1.3066\n",
            "Epoch 42/100\n",
            "1/1 [==============================] - 0s 18ms/step - loss: 1.3186 - mae: 1.3186\n",
            "Epoch 43/100\n",
            "1/1 [==============================] - 0s 13ms/step - loss: 1.0463 - mae: 1.0463\n",
            "Epoch 44/100\n",
            "1/1 [==============================] - 0s 14ms/step - loss: 0.5407 - mae: 0.5407\n",
            "Epoch 45/100\n",
            "1/1 [==============================] - 0s 14ms/step - loss: 0.5940 - mae: 0.5940\n",
            "Epoch 46/100\n",
            "1/1 [==============================] - 0s 11ms/step - loss: 0.4676 - mae: 0.4676\n",
            "Epoch 47/100\n",
            "1/1 [==============================] - 0s 11ms/step - loss: 0.4323 - mae: 0.4323\n",
            "Epoch 48/100\n",
            "1/1 [==============================] - 0s 14ms/step - loss: 0.7796 - mae: 0.7796\n",
            "Epoch 49/100\n",
            "1/1 [==============================] - 0s 13ms/step - loss: 0.6067 - mae: 0.6067\n",
            "Epoch 50/100\n",
            "1/1 [==============================] - 0s 11ms/step - loss: 0.5418 - mae: 0.5418\n",
            "Epoch 51/100\n",
            "1/1 [==============================] - 0s 12ms/step - loss: 0.6509 - mae: 0.6509\n",
            "Epoch 52/100\n",
            "1/1 [==============================] - 0s 12ms/step - loss: 0.5051 - mae: 0.5051\n",
            "Epoch 53/100\n",
            "1/1 [==============================] - 0s 17ms/step - loss: 0.7824 - mae: 0.7824\n",
            "Epoch 54/100\n",
            "1/1 [==============================] - 0s 13ms/step - loss: 0.6700 - mae: 0.6700\n",
            "Epoch 55/100\n",
            "1/1 [==============================] - 0s 11ms/step - loss: 0.3821 - mae: 0.3821\n",
            "Epoch 56/100\n",
            "1/1 [==============================] - 0s 11ms/step - loss: 0.5860 - mae: 0.5860\n",
            "Epoch 57/100\n",
            "1/1 [==============================] - 0s 13ms/step - loss: 0.4349 - mae: 0.4349\n",
            "Epoch 58/100\n",
            "1/1 [==============================] - 0s 11ms/step - loss: 0.5562 - mae: 0.5562\n",
            "Epoch 59/100\n",
            "1/1 [==============================] - 0s 13ms/step - loss: 0.6409 - mae: 0.6409\n",
            "Epoch 60/100\n",
            "1/1 [==============================] - 0s 13ms/step - loss: 0.1741 - mae: 0.1741\n",
            "Epoch 61/100\n",
            "1/1 [==============================] - 0s 13ms/step - loss: 0.2208 - mae: 0.2208\n",
            "Epoch 62/100\n",
            "1/1 [==============================] - 0s 12ms/step - loss: 0.2258 - mae: 0.2258\n",
            "Epoch 63/100\n",
            "1/1 [==============================] - 0s 14ms/step - loss: 0.2898 - mae: 0.2898\n",
            "Epoch 64/100\n",
            "1/1 [==============================] - 0s 12ms/step - loss: 0.2087 - mae: 0.2087\n",
            "Epoch 65/100\n",
            "1/1 [==============================] - 0s 12ms/step - loss: 0.4757 - mae: 0.4757\n",
            "Epoch 66/100\n",
            "1/1 [==============================] - 0s 13ms/step - loss: 0.3902 - mae: 0.3902\n",
            "Epoch 67/100\n",
            "1/1 [==============================] - 0s 13ms/step - loss: 0.4243 - mae: 0.4243\n",
            "Epoch 68/100\n",
            "1/1 [==============================] - 0s 12ms/step - loss: 0.6048 - mae: 0.6048\n",
            "Epoch 69/100\n",
            "1/1 [==============================] - 0s 12ms/step - loss: 0.5680 - mae: 0.5680\n",
            "Epoch 70/100\n",
            "1/1 [==============================] - 0s 12ms/step - loss: 0.4170 - mae: 0.4170\n",
            "Epoch 71/100\n",
            "1/1 [==============================] - 0s 12ms/step - loss: 0.1845 - mae: 0.1845\n",
            "Epoch 72/100\n",
            "1/1 [==============================] - 0s 11ms/step - loss: 0.3243 - mae: 0.3243\n",
            "Epoch 73/100\n",
            "1/1 [==============================] - 0s 12ms/step - loss: 0.6117 - mae: 0.6117\n",
            "Epoch 74/100\n",
            "1/1 [==============================] - 0s 12ms/step - loss: 0.2876 - mae: 0.2876\n",
            "Epoch 75/100\n",
            "1/1 [==============================] - 0s 12ms/step - loss: 0.8535 - mae: 0.8535\n",
            "Epoch 76/100\n",
            "1/1 [==============================] - 0s 13ms/step - loss: 1.0549 - mae: 1.0549\n",
            "Epoch 77/100\n",
            "1/1 [==============================] - 0s 12ms/step - loss: 0.4510 - mae: 0.4510\n",
            "Epoch 78/100\n",
            "1/1 [==============================] - 0s 12ms/step - loss: 0.9454 - mae: 0.9454\n",
            "Epoch 79/100\n",
            "1/1 [==============================] - 0s 16ms/step - loss: 1.3258 - mae: 1.3258\n",
            "Epoch 80/100\n",
            "1/1 [==============================] - 0s 14ms/step - loss: 0.7543 - mae: 0.7543\n",
            "Epoch 81/100\n",
            "1/1 [==============================] - 0s 11ms/step - loss: 0.5720 - mae: 0.5720\n",
            "Epoch 82/100\n",
            "1/1 [==============================] - 0s 13ms/step - loss: 0.9548 - mae: 0.9548\n",
            "Epoch 83/100\n",
            "1/1 [==============================] - 0s 12ms/step - loss: 0.5660 - mae: 0.5660\n",
            "Epoch 84/100\n",
            "1/1 [==============================] - 0s 21ms/step - loss: 0.5485 - mae: 0.5485\n",
            "Epoch 85/100\n",
            "1/1 [==============================] - 0s 16ms/step - loss: 0.7558 - mae: 0.7558\n",
            "Epoch 86/100\n",
            "1/1 [==============================] - 0s 12ms/step - loss: 0.1463 - mae: 0.1463\n",
            "Epoch 87/100\n",
            "1/1 [==============================] - 0s 14ms/step - loss: 0.5105 - mae: 0.5105\n",
            "Epoch 88/100\n",
            "1/1 [==============================] - 0s 16ms/step - loss: 0.3700 - mae: 0.3700\n",
            "Epoch 89/100\n",
            "1/1 [==============================] - 0s 14ms/step - loss: 0.5799 - mae: 0.5799\n",
            "Epoch 90/100\n",
            "1/1 [==============================] - 0s 14ms/step - loss: 0.7303 - mae: 0.7303\n",
            "Epoch 91/100\n",
            "1/1 [==============================] - 0s 12ms/step - loss: 0.2310 - mae: 0.2310\n",
            "Epoch 92/100\n",
            "1/1 [==============================] - 0s 14ms/step - loss: 0.7276 - mae: 0.7276\n",
            "Epoch 93/100\n",
            "1/1 [==============================] - 0s 15ms/step - loss: 0.8158 - mae: 0.8158\n",
            "Epoch 94/100\n",
            "1/1 [==============================] - 0s 13ms/step - loss: 0.4048 - mae: 0.4048\n",
            "Epoch 95/100\n",
            "1/1 [==============================] - 0s 12ms/step - loss: 0.7221 - mae: 0.7221\n",
            "Epoch 96/100\n",
            "1/1 [==============================] - 0s 16ms/step - loss: 1.1094 - mae: 1.1094\n",
            "Epoch 97/100\n",
            "1/1 [==============================] - 0s 13ms/step - loss: 0.7371 - mae: 0.7371\n",
            "Epoch 98/100\n",
            "1/1 [==============================] - 0s 14ms/step - loss: 0.3051 - mae: 0.3051\n",
            "Epoch 99/100\n",
            "1/1 [==============================] - 0s 12ms/step - loss: 0.5481 - mae: 0.5481\n",
            "Epoch 100/100\n",
            "1/1 [==============================] - 0s 14ms/step - loss: 0.3008 - mae: 0.3008\n"
          ]
        }
      ]
    },
    {
      "cell_type": "code",
      "source": [
        "plt.plot(X, model_dif.predict(X))\n",
        "plt.plot(X,y)\n",
        "plt.show()"
      ],
      "metadata": {
        "colab": {
          "base_uri": "https://localhost:8080/",
          "height": 447
        },
        "id": "TFOQlwWLR1rE",
        "outputId": "deb57a59-6c58-49a4-e92e-5a6dcb6bf247"
      },
      "execution_count": 11,
      "outputs": [
        {
          "output_type": "stream",
          "name": "stdout",
          "text": [
            "1/1 [==============================] - 0s 96ms/step\n"
          ]
        },
        {
          "output_type": "display_data",
          "data": {
            "text/plain": [
              "<Figure size 640x480 with 1 Axes>"
            ],
            "image/png": "[encoded data removed]"
          },
          "metadata": {}
        }
      ]
    },
    {
      "cell_type": "code",
      "source": [
        "model_dif.predict(X)"
      ],
      "metadata": {
        "colab": {
          "base_uri": "https://localhost:8080/"
        },
        "id": "g0Wk3Codb0Gd",
        "outputId": "0622ece3-7a7e-47ac-a551-e10f22d35fd7"
      },
      "execution_count": 12,
      "outputs": [
        {
          "output_type": "stream",
          "name": "stdout",
          "text": [
            "1/1 [==============================] - 0s 31ms/step\n"
          ]
        },
        {
          "output_type": "execute_result",
          "data": {
            "text/plain": [
              "array([[ 3.4934971],\n",
              "       [ 6.427904 ],\n",
              "       [ 9.351105 ],\n",
              "       [12.36854  ],\n",
              "       [15.648342 ],\n",
              "       [18.92676  ],\n",
              "       [22.22967  ],\n",
              "       [25.532722 ]], dtype=float32)"
            ]
          },
          "metadata": {},
          "execution_count": 12
        }
      ]
    },
    {
      "cell_type": "code",
      "source": [
        "y"
      ],
      "metadata": {
        "colab": {
          "base_uri": "https://localhost:8080/"
        },
        "id": "wjuOXqiFb6ql",
        "outputId": "34cd532b-d521-4b67-a3c9-e290398de950"
      },
      "execution_count": 13,
      "outputs": [
        {
          "output_type": "execute_result",
          "data": {
            "text/plain": [
              "<tf.Tensor: shape=(8,), dtype=float64, numpy=array([ 3.,  6.,  9., 12., 15., 18., 21., 24.])>"
            ]
          },
          "metadata": {},
          "execution_count": 13
        }
      ]
    },
    {
      "cell_type": "code",
      "source": [
        "model.summary()"
      ],
      "metadata": {
        "colab": {
          "base_uri": "https://localhost:8080/"
        },
        "id": "37COCg8kd6VI",
        "outputId": "3e46bf94-17b2-45c3-af46-192be04a2040"
      },
      "execution_count": 14,
      "outputs": [
        {
          "output_type": "stream",
          "name": "stdout",
          "text": [
            "Model: \"sequential\"\n",
            "_________________________________________________________________\n",
            " Layer (type)                Output Shape              Param #   \n",
            "=================================================================\n",
            " dense (Dense)               (None, 1)                 2         \n",
            "                                                                 \n",
            "=================================================================\n",
            "Total params: 2\n",
            "Trainable params: 2\n",
            "Non-trainable params: 0\n",
            "_________________________________________________________________\n"
          ]
        }
      ]
    },
    {
      "cell_type": "code",
      "source": [
        "model_dif.summary()"
      ],
      "metadata": {
        "colab": {
          "base_uri": "https://localhost:8080/"
        },
        "id": "SeQ8Be7V1BPk",
        "outputId": "c0f5b8cf-4391-43eb-a4e9-7463266e6817"
      },
      "execution_count": 15,
      "outputs": [
        {
          "output_type": "stream",
          "name": "stdout",
          "text": [
            "Model: \"sequential_1\"\n",
            "_________________________________________________________________\n",
            " Layer (type)                Output Shape              Param #   \n",
            "=================================================================\n",
            " dense_1 (Dense)             (None, 50)                100       \n",
            "                                                                 \n",
            " dense_2 (Dense)             (None, 50)                2550      \n",
            "                                                                 \n",
            " dense_3 (Dense)             (None, 50)                2550      \n",
            "                                                                 \n",
            " dense_4 (Dense)             (None, 1)                 51        \n",
            "                                                                 \n",
            "=================================================================\n",
            "Total params: 5,251\n",
            "Trainable params: 5,251\n",
            "Non-trainable params: 0\n",
            "_________________________________________________________________\n"
          ]
        }
      ]
    },
    {
      "cell_type": "code",
      "source": [
        "import pandas as pd\n",
        "plt.plot(pd.DataFrame(history.history))"
      ],
      "metadata": {
        "colab": {
          "base_uri": "https://localhost:8080/",
          "height": 465
        },
        "id": "74Ez-4HT1Eql",
        "outputId": "8f5676d0-045e-40dd-9055-e2256589089c"
      },
      "execution_count": 16,
      "outputs": [
        {
          "output_type": "execute_result",
          "data": {
            "text/plain": [
              "[<matplotlib.lines.Line2D at 0x7ff7b1779ae0>,\n",
              " <matplotlib.lines.Line2D at 0x7ff7b1779b40>]"
            ]
          },
          "metadata": {},
          "execution_count": 16
        },
        {
          "output_type": "display_data",
          "data": {
            "text/plain": [
              "<Figure size 640x480 with 1 Axes>"
            ],
            "image/png": "[encoded data removed]"
          },
          "metadata": {}
        }
      ]
    },
    {
      "cell_type": "code",
      "source": [
        "pd.DataFrame(history.history)"
      ],
      "metadata": {
        "colab": {
          "base_uri": "https://localhost:8080/",
          "height": 424
        },
        "id": "A5J9patz1YOg",
        "outputId": "e662a030-bb03-4086-8d4a-c095339e32af"
      },
      "execution_count": 17,
      "outputs": [
        {
          "output_type": "execute_result",
          "data": {
            "text/plain": [
              "         loss        mae\n",
              "0   14.137412  14.137412\n",
              "1    9.532125   9.532125\n",
              "2    5.252847   5.252847\n",
              "3    5.393700   5.393700\n",
              "4    6.927472   6.927472\n",
              "..        ...        ...\n",
              "95   1.109420   1.109420\n",
              "96   0.737058   0.737058\n",
              "97   0.305116   0.305116\n",
              "98   0.548146   0.548146\n",
              "99   0.300766   0.300766\n",
              "\n",
              "[100 rows x 2 columns]"
            ],
            "text/html": [
              "\n",
              "  <div id=\"df-ba12da01-79af-45f0-8c65-84ff4240cf63\">\n",
              "    <div class=\"colab-df-container\">\n",
              "      <div>\n",
              "<style scoped>\n",
              "    .dataframe tbody tr th:only-of-type {\n",
              "        vertical-align: middle;\n",
              "    }\n",
              "\n",
              "    .dataframe tbody tr th {\n",
              "        vertical-align: top;\n",
              "    }\n",
              "\n",
              "    .dataframe thead th {\n",
              "        text-align: right;\n",
              "    }\n",
              "</style>\n",
              "<table border=\"1\" class=\"dataframe\">\n",
              "  <thead>\n",
              "    <tr style=\"text-align: right;\">\n",
              "      <th></th>\n",
              "      <th>loss</th>\n",
              "      <th>mae</th>\n",
              "    </tr>\n",
              "  </thead>\n",
              "  <tbody>\n",
              "    <tr>\n",
              "      <th>0</th>\n",
              "      <td>14.137412</td>\n",
              "      <td>14.137412</td>\n",
              "    </tr>\n",
              "    <tr>\n",
              "      <th>1</th>\n",
              "      <td>9.532125</td>\n",
              "      <td>9.532125</td>\n",
              "    </tr>\n",
              "    <tr>\n",
              "      <th>2</th>\n",
              "      <td>5.252847</td>\n",
              "      <td>5.252847</td>\n",
              "    </tr>\n",
              "    <tr>\n",
              "      <th>3</th>\n",
              "      <td>5.393700</td>\n",
              "      <td>5.393700</td>\n",
              "    </tr>\n",
              "    <tr>\n",
              "      <th>4</th>\n",
              "      <td>6.927472</td>\n",
              "      <td>6.927472</td>\n",
              "    </tr>\n",
              "    <tr>\n",
              "      <th>...</th>\n",
              "      <td>...</td>\n",
              "      <td>...</td>\n",
              "    </tr>\n",
              "    <tr>\n",
              "      <th>95</th>\n",
              "      <td>1.109420</td>\n",
              "      <td>1.109420</td>\n",
              "    </tr>\n",
              "    <tr>\n",
              "      <th>96</th>\n",
              "      <td>0.737058</td>\n",
              "      <td>0.737058</td>\n",
              "    </tr>\n",
              "    <tr>\n",
              "      <th>97</th>\n",
              "      <td>0.305116</td>\n",
              "      <td>0.305116</td>\n",
              "    </tr>\n",
              "    <tr>\n",
              "      <th>98</th>\n",
              "      <td>0.548146</td>\n",
              "      <td>0.548146</td>\n",
              "    </tr>\n",
              "    <tr>\n",
              "      <th>99</th>\n",
              "      <td>0.300766</td>\n",
              "      <td>0.300766</td>\n",
              "    </tr>\n",
              "  </tbody>\n",
              "</table>\n",
              "<p>100 rows × 2 columns</p>\n",
              "</div>\n",
              "      <button class=\"colab-df-convert\" onclick=\"convertToInteractive('df-ba12da01-79af-45f0-8c65-84ff4240cf63')\"\n",
              "              title=\"Convert this dataframe to an interactive table.\"\n",
              "              style=\"display:none;\">\n",
              "        \n",
              "  <svg xmlns=\"http://www.w3.org/2000/svg\" height=\"24px\"viewBox=\"0 0 24 24\"\n",
              "       width=\"24px\">\n",
              "    <path d=\"M0 0h24v24H0V0z\" fill=\"none\"/>\n",
              "    <path d=\"M18.56 5.44l.94 2.06.94-2.06 2.06-.94-2.06-.94-.94-2.06-.94 2.06-2.06.94zm-11 1L8.5 8.5l.94-2.06 2.06-.94-2.06-.94L8.5 2.5l-.94 2.06-2.06.94zm10 10l.94 2.06.94-2.06 2.06-.94-2.06-.94-.94-2.06-.94 2.06-2.06.94z\"/><path d=\"M17.41 7.96l-1.37-1.37c-.4-.4-.92-.59-1.43-.59-.52 0-1.04.2-1.43.59L10.3 9.45l-7.72 7.72c-.78.78-.78 2.05 0 2.83L4 21.41c.39.39.9.59 1.41.59.51 0 1.02-.2 1.41-.59l7.78-7.78 2.81-2.81c.8-.78.8-2.07 0-2.86zM5.41 20L4 18.59l7.72-7.72 1.47 1.35L5.41 20z\"/>\n",
              "  </svg>\n",
              "      </button>\n",
              "      \n",
              "  <style>\n",
              "    .colab-df-container {\n",
              "      display:flex;\n",
              "      flex-wrap:wrap;\n",
              "      gap: 12px;\n",
              "    }\n",
              "\n",
              "    .colab-df-convert {\n",
              "      background-color: #E8F0FE;\n",
              "      border: none;\n",
              "      border-radius: 50%;\n",
              "      cursor: pointer;\n",
              "      display: none;\n",
              "      fill: #1967D2;\n",
              "      height: 32px;\n",
              "      padding: 0 0 0 0;\n",
              "      width: 32px;\n",
              "    }\n",
              "\n",
              "    .colab-df-convert:hover {\n",
              "      background-color: #E2EBFA;\n",
              "      box-shadow: 0px 1px 2px rgba(60, 64, 67, 0.3), 0px 1px 3px 1px rgba(60, 64, 67, 0.15);\n",
              "      fill: #174EA6;\n",
              "    }\n",
              "\n",
              "    [theme=dark] .colab-df-convert {\n",
              "      background-color: #3B4455;\n",
              "      fill: #D2E3FC;\n",
              "    }\n",
              "\n",
              "    [theme=dark] .colab-df-convert:hover {\n",
              "      background-color: #434B5C;\n",
              "      box-shadow: 0px 1px 3px 1px rgba(0, 0, 0, 0.15);\n",
              "      filter: drop-shadow(0px 1px 2px rgba(0, 0, 0, 0.3));\n",
              "      fill: #FFFFFF;\n",
              "    }\n",
              "  </style>\n",
              "\n",
              "      <script>\n",
              "        const buttonEl =\n",
              "          document.querySelector('#df-ba12da01-79af-45f0-8c65-84ff4240cf63 button.colab-df-convert');\n",
              "        buttonEl.style.display =\n",
              "          google.colab.kernel.accessAllowed ? 'block' : 'none';\n",
              "\n",
              "        async function convertToInteractive(key) {\n",
              "          const element = document.querySelector('#df-ba12da01-79af-45f0-8c65-84ff4240cf63');\n",
              "          const dataTable =\n",
              "            await google.colab.kernel.invokeFunction('convertToInteractive',\n",
              "                                                     [key], {});\n",
              "          if (!dataTable) return;\n",
              "\n",
              "          const docLinkHtml = 'Like what you see? Visit the ' +\n",
              "            '<a target=\"_blank\" href=https://colab.research.google.com/notebooks/data_table.ipynb>data table notebook</a>'\n",
              "            + ' to learn more about interactive tables.';\n",
              "          element.innerHTML = '';\n",
              "          dataTable['output_type'] = 'display_data';\n",
              "          await google.colab.output.renderOutput(dataTable, element);\n",
              "          const docLink = document.createElement('div');\n",
              "          docLink.innerHTML = docLinkHtml;\n",
              "          element.appendChild(docLink);\n",
              "        }\n",
              "      </script>\n",
              "    </div>\n",
              "  </div>\n",
              "  "
            ]
          },
          "metadata": {},
          "execution_count": 17
        }
      ]
    },
    {
      "cell_type": "markdown",
      "source": [
        "## Plot of model\n"
      ],
      "metadata": {
        "id": "f53koIU1mA72"
      }
    },
    {
      "cell_type": "code",
      "source": [
        "from keras.utils import plot_model"
      ],
      "metadata": {
        "id": "aE3io-_A1hpd"
      },
      "execution_count": 18,
      "outputs": []
    },
    {
      "cell_type": "code",
      "source": [
        "plot_model(model,show_shapes = True, show_layer_activations=True)"
      ],
      "metadata": {
        "colab": {
          "base_uri": "https://localhost:8080/",
          "height": 201
        },
        "id": "Yv2ghZx1pJvp",
        "outputId": "7fc7c5b8-9aea-44c5-8976-bd9b8e0e88d6"
      },
      "execution_count": 19,
      "outputs": [
        {
          "output_type": "execute_result",
          "data": {
            "image/png": "[encoded data removed]",
            "text/plain": [
              "<IPython.core.display.Image object>"
            ]
          },
          "metadata": {},
          "execution_count": 19
        }
      ]
    },
    {
      "cell_type": "code",
      "source": [
        "plot_model(model_dif,show_shapes = True, show_layer_activations=True)"
      ],
      "metadata": {
        "colab": {
          "base_uri": "https://localhost:8080/",
          "height": 533
        },
        "id": "WznhbsOlpPeS",
        "outputId": "9381650b-e8d5-4175-8a90-58f781ca64b7"
      },
      "execution_count": 20,
      "outputs": [
        {
          "output_type": "execute_result",
          "data": {
            "image/png": "[encoded data removed]",
            "text/plain": [
              "<IPython.core.display.Image object>"
            ]
          },
          "metadata": {},
          "execution_count": 20
        }
      ]
    },
    {
      "cell_type": "code",
      "source": [
        "plt.plot(X, model_dif.predict(X), '+-', label = 'prediction')\n",
        "plt.plot(X,y, '*-', label ='true value')\n",
        "plt.title(\"Trues vs Predictions\")\n",
        "plt.grid(True)\n",
        "plt.legend()\n",
        "plt.show()"
      ],
      "metadata": {
        "colab": {
          "base_uri": "https://localhost:8080/",
          "height": 469
        },
        "id": "c2HCmLowpi8_",
        "outputId": "a5bc0e8c-2ad6-49ff-a1b4-b31c0003fe8b"
      },
      "execution_count": 21,
      "outputs": [
        {
          "output_type": "stream",
          "name": "stdout",
          "text": [
            "1/1 [==============================] - 0s 48ms/step\n"
          ]
        },
        {
          "output_type": "display_data",
          "data": {
            "text/plain": [
              "<Figure size 640x480 with 1 Axes>"
            ],
            "image/png": "[encoded data removed]"
          },
          "metadata": {}
        }
      ]
    },
    {
      "cell_type": "markdown",
      "source": [
        "## Evaluate model\n",
        "- MAE - mean absolute error (sensitive to outliers)\n",
        "- MSE - mean squear error (not sensitive to outliers)\n",
        "- Huber - combinations of mae, mse"
      ],
      "metadata": {
        "id": "EhuZqjSRyfWr"
      }
    },
    {
      "cell_type": "code",
      "source": [
        "from keras.metrics import mean_absolute_error\n",
        "from keras.metrics import mean_squared_error\n",
        "from keras.losses import Huber "
      ],
      "metadata": {
        "id": "OHJNdfPh1mQE"
      },
      "execution_count": 33,
      "outputs": []
    },
    {
      "cell_type": "code",
      "source": [
        "y_predict = model_dif.predict(X)"
      ],
      "metadata": {
        "colab": {
          "base_uri": "https://localhost:8080/"
        },
        "id": "w8PjBbug2Gt9",
        "outputId": "2fb849f0-a2c8-4be9-a390-7d23c47c0e79"
      },
      "execution_count": 23,
      "outputs": [
        {
          "output_type": "stream",
          "name": "stdout",
          "text": [
            "1/1 [==============================] - 0s 36ms/step\n"
          ]
        }
      ]
    },
    {
      "cell_type": "code",
      "source": [
        "y_predict = tf.squeeze(y_predict)\n",
        "y_predict"
      ],
      "metadata": {
        "colab": {
          "base_uri": "https://localhost:8080/"
        },
        "id": "Tl5u1vjS526r",
        "outputId": "d6a5386c-729f-44c6-f8d8-13848778d8ed"
      },
      "execution_count": 29,
      "outputs": [
        {
          "output_type": "execute_result",
          "data": {
            "text/plain": [
              "<tf.Tensor: shape=(8,), dtype=float32, numpy=\n",
              "array([ 3.4934971,  6.427904 ,  9.351105 , 12.36854  , 15.648342 ,\n",
              "       18.92676  , 22.22967  , 25.532722 ], dtype=float32)>"
            ]
          },
          "metadata": {},
          "execution_count": 29
        }
      ]
    },
    {
      "cell_type": "code",
      "source": [
        "# calulation mae\n",
        "mean_absolute_error(y, y_predict)"
      ],
      "metadata": {
        "colab": {
          "base_uri": "https://localhost:8080/"
        },
        "id": "teOhlwzorIPb",
        "outputId": "8c773a16-3222-4071-c8b9-7a7947dd699a"
      },
      "execution_count": 30,
      "outputs": [
        {
          "output_type": "execute_result",
          "data": {
            "text/plain": [
              "<tf.Tensor: shape=(), dtype=float32, numpy=0.74731743>"
            ]
          },
          "metadata": {},
          "execution_count": 30
        }
      ]
    },
    {
      "cell_type": "code",
      "source": [
        "# calulation mse\n",
        "mse = mean_squared_error(y, y_predict)\n",
        "mse"
      ],
      "metadata": {
        "colab": {
          "base_uri": "https://localhost:8080/"
        },
        "id": "hLr5fJcz2Mpd",
        "outputId": "b9ba90d1-15a2-4cc4-beca-298fbace6c8d"
      },
      "execution_count": 32,
      "outputs": [
        {
          "output_type": "execute_result",
          "data": {
            "text/plain": [
              "<tf.Tensor: shape=(), dtype=float32, numpy=0.72828674>"
            ]
          },
          "metadata": {},
          "execution_count": 32
        }
      ]
    },
    {
      "cell_type": "code",
      "source": [
        "# calculate huber metrics\n",
        "huber = Huber()\n",
        "huber(y, y_predict)"
      ],
      "metadata": {
        "colab": {
          "base_uri": "https://localhost:8080/"
        },
        "id": "Q8bW8QB54JnQ",
        "outputId": "b93151dc-840f-419a-e3ab-b25d67b5b96d"
      },
      "execution_count": 35,
      "outputs": [
        {
          "output_type": "execute_result",
          "data": {
            "text/plain": [
              "<tf.Tensor: shape=(), dtype=float32, numpy=0.34310955>"
            ]
          },
          "metadata": {},
          "execution_count": 35
        }
      ]
    },
    {
      "cell_type": "markdown",
      "source": [
        "##Saving model\n",
        "There two saving formats in TensorFlow we can use to save model:\n",
        "1. SavedModel format\n",
        "2. The HDF5 format"
      ],
      "metadata": {
        "id": "Vt8pbj37_bef"
      }
    },
    {
      "cell_type": "code",
      "source": [
        "# save SaveModel format\n",
        "\n",
        "model_dif.save(\"best_model_SaveModel_format\")"
      ],
      "metadata": {
        "colab": {
          "base_uri": "https://localhost:8080/"
        },
        "id": "rtXcBDP44LU-",
        "outputId": "938b0714-803c-47d6-985c-866f1d8ad515"
      },
      "execution_count": 37,
      "outputs": [
        {
          "output_type": "stream",
          "name": "stderr",
          "text": [
            "WARNING:absl:Found untraced functions such as _update_step_xla while saving (showing 1 of 1). These functions will not be directly callable after loading.\n"
          ]
        }
      ]
    },
    {
      "cell_type": "code",
      "source": [
        "# save model using HDF5 format\n",
        "model_dif.save(\"best_model_HDF5_format.h5\")"
      ],
      "metadata": {
        "id": "jKil0XvmCqMm"
      },
      "execution_count": 38,
      "outputs": []
    },
    {
      "cell_type": "markdown",
      "source": [
        "## Loading a saved model"
      ],
      "metadata": {
        "id": "I-3AtW-6Dt-q"
      }
    },
    {
      "cell_type": "code",
      "source": [
        "# Loading a saved model SavedModel format\n",
        "model_savedmodel = tf.keras.models.load_model('/content/best_model_SaveModel_format')\n"
      ],
      "metadata": {
        "id": "sn-TClB2DNlu"
      },
      "execution_count": 39,
      "outputs": []
    },
    {
      "cell_type": "code",
      "source": [
        "model_savedmodel.summary()"
      ],
      "metadata": {
        "colab": {
          "base_uri": "https://localhost:8080/"
        },
        "id": "u4mtJ3vYEYFt",
        "outputId": "193b9029-5061-43da-a83e-cd81f12878a2"
      },
      "execution_count": 40,
      "outputs": [
        {
          "output_type": "stream",
          "name": "stdout",
          "text": [
            "Model: \"sequential_1\"\n",
            "_________________________________________________________________\n",
            " Layer (type)                Output Shape              Param #   \n",
            "=================================================================\n",
            " dense_1 (Dense)             (None, 50)                100       \n",
            "                                                                 \n",
            " dense_2 (Dense)             (None, 50)                2550      \n",
            "                                                                 \n",
            " dense_3 (Dense)             (None, 50)                2550      \n",
            "                                                                 \n",
            " dense_4 (Dense)             (None, 1)                 51        \n",
            "                                                                 \n",
            "=================================================================\n",
            "Total params: 5,251\n",
            "Trainable params: 5,251\n",
            "Non-trainable params: 0\n",
            "_________________________________________________________________\n"
          ]
        }
      ]
    },
    {
      "cell_type": "code",
      "source": [
        "model_hdf5 = tf.keras.models.load_model('/content/best_model_HDF5_format.h5')"
      ],
      "metadata": {
        "id": "mVE0R6MWEicZ"
      },
      "execution_count": 42,
      "outputs": []
    },
    {
      "cell_type": "code",
      "source": [
        "model_hdf5.summary()"
      ],
      "metadata": {
        "colab": {
          "base_uri": "https://localhost:8080/"
        },
        "id": "NcSxkv4EExgB",
        "outputId": "172ff15c-3ad3-4a5f-9262-1a05e7264682"
      },
      "execution_count": 43,
      "outputs": [
        {
          "output_type": "stream",
          "name": "stdout",
          "text": [
            "Model: \"sequential_1\"\n",
            "_________________________________________________________________\n",
            " Layer (type)                Output Shape              Param #   \n",
            "=================================================================\n",
            " dense_1 (Dense)             (None, 50)                100       \n",
            "                                                                 \n",
            " dense_2 (Dense)             (None, 50)                2550      \n",
            "                                                                 \n",
            " dense_3 (Dense)             (None, 50)                2550      \n",
            "                                                                 \n",
            " dense_4 (Dense)             (None, 1)                 51        \n",
            "                                                                 \n",
            "=================================================================\n",
            "Total params: 5,251\n",
            "Trainable params: 5,251\n",
            "Non-trainable params: 0\n",
            "_________________________________________________________________\n"
          ]
        }
      ]
    },
    {
      "cell_type": "code",
      "source": [
        "y2 = model_savedmodel.predict(X)"
      ],
      "metadata": {
        "colab": {
          "base_uri": "https://localhost:8080/"
        },
        "id": "6_T9lh92E2vy",
        "outputId": "556e8b81-6784-489c-be02-279f353ae16f"
      },
      "execution_count": 44,
      "outputs": [
        {
          "output_type": "stream",
          "name": "stdout",
          "text": [
            "1/1 [==============================] - 0s 263ms/step\n"
          ]
        }
      ]
    },
    {
      "cell_type": "code",
      "source": [
        "y3 = model_hdf5.predict(X)"
      ],
      "metadata": {
        "colab": {
          "base_uri": "https://localhost:8080/"
        },
        "id": "-CsHqhFjFW8U",
        "outputId": "2c2f4b2c-8e0f-4396-bce5-79631afd4310"
      },
      "execution_count": 45,
      "outputs": [
        {
          "output_type": "stream",
          "name": "stdout",
          "text": [
            "1/1 [==============================] - 0s 240ms/step\n"
          ]
        }
      ]
    },
    {
      "cell_type": "code",
      "source": [
        "y2==y3"
      ],
      "metadata": {
        "colab": {
          "base_uri": "https://localhost:8080/"
        },
        "id": "VLibt1N-FaYx",
        "outputId": "9d182a0e-9a6c-4f6a-e844-7b3c96b52ead"
      },
      "execution_count": 46,
      "outputs": [
        {
          "output_type": "execute_result",
          "data": {
            "text/plain": [
              "array([[ True],\n",
              "       [ True],\n",
              "       [ True],\n",
              "       [ True],\n",
              "       [ True],\n",
              "       [ True],\n",
              "       [ True],\n",
              "       [ True]])"
            ]
          },
          "metadata": {},
          "execution_count": 46
        }
      ]
    },
    {
      "cell_type": "code",
      "source": [
        "tf.squeeze(y2) == y_predict"
      ],
      "metadata": {
        "colab": {
          "base_uri": "https://localhost:8080/"
        },
        "id": "XxRkzTkRFbyD",
        "outputId": "6e6c966b-a7b6-48b5-db22-abec5326aaad"
      },
      "execution_count": 47,
      "outputs": [
        {
          "output_type": "execute_result",
          "data": {
            "text/plain": [
              "<tf.Tensor: shape=(8,), dtype=bool, numpy=array([ True,  True,  True,  True,  True,  True,  True,  True])>"
            ]
          },
          "metadata": {},
          "execution_count": 47
        }
      ]
    },
    {
      "cell_type": "code",
      "source": [],
      "metadata": {
        "id": "Fnoo3fCQFn2H"
      },
      "execution_count": null,
      "outputs": []
    }
  ]
}