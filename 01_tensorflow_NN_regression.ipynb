{
  "nbformat": 4,
  "nbformat_minor": 0,
  "metadata": {
    "colab": {
      "provenance": [],
      "gpuType": "T4",
      "mount_file_id": "1HDMfWvOCJMFT8LG4A4NWwo9mAS6Fl0Kl",
      "authorship_tag": "ABX9TyM7PoRTmjAC17+hpGgx8TUj",
      "include_colab_link": true
    },
    "kernelspec": {
      "name": "python3",
      "display_name": "Python 3"
    },
    "language_info": {
      "name": "python"
    },
    "accelerator": "GPU"
  },
  "cells": [
    {
      "cell_type": "markdown",
      "metadata": {
        "id": "view-in-github",
        "colab_type": "text"
      },
      "source": [
        "<a href=\"https://colab.research.google.com/github/ryzhokhina/Tensorflow-Dev-Exam-Preparation/blob/main/01_tensorflow_NN_regression.ipynb\" target=\"_parent\"><img src=\"https://colab.research.google.com/assets/colab-badge.svg\" alt=\"Open In Colab\"/></a>"
      ]
    },
    {
      "cell_type": "markdown",
      "source": [
        "##01. Neural Network Regression with TensorFlow"
      ],
      "metadata": {
        "id": "pl8ck9HQE1Bs"
      }
    },
    {
      "cell_type": "code",
      "source": [
        "import tensorflow as tf\n",
        "print(tf.__version__)"
      ],
      "metadata": {
        "colab": {
          "base_uri": "https://localhost:8080/"
        },
        "id": "hZASpNf9EVxt",
        "outputId": "4cc47379-7b54-46df-a576-76411619502f"
      },
      "execution_count": 3,
      "outputs": [
        {
          "output_type": "stream",
          "name": "stdout",
          "text": [
            "2.12.0\n"
          ]
        }
      ]
    },
    {
      "cell_type": "code",
      "source": [
        "import numpy as np\n",
        "import matplotlib.pyplot as plt"
      ],
      "metadata": {
        "id": "8NSdQKdEE8QB"
      },
      "execution_count": 4,
      "outputs": []
    },
    {
      "cell_type": "code",
      "source": [
        "X = np.linspace(-7.0, 14, 8)\n",
        "y = np.linspace(3.0, 24, 8)"
      ],
      "metadata": {
        "id": "4iai_KK0HsFC"
      },
      "execution_count": 5,
      "outputs": []
    },
    {
      "cell_type": "code",
      "source": [
        "plt.plot(X,y, '*-b')"
      ],
      "metadata": {
        "colab": {
          "base_uri": "https://localhost:8080/",
          "height": 452
        },
        "id": "OuS_tg-AIErB",
        "outputId": "7b60c58c-a1e6-488f-de08-a58f13e51a9f"
      },
      "execution_count": 6,
      "outputs": [
        {
          "output_type": "execute_result",
          "data": {
            "text/plain": [
              "[<matplotlib.lines.Line2D at 0x7f1b4b6c3eb0>]"
            ]
          },
          "metadata": {},
          "execution_count": 6
        },
        {
          "output_type": "display_data",
          "data": {
            "text/plain": [
              "<Figure size 640x480 with 1 Axes>"
            ],
            "image/png": "[encoded data removed]"
          },
          "metadata": {}
        }
      ]
    },
    {
      "cell_type": "code",
      "source": [
        "X = tf.constant(X)\n",
        "y = tf.constant(y)"
      ],
      "metadata": {
        "id": "oWcxQ56kIFrV"
      },
      "execution_count": 7,
      "outputs": []
    },
    {
      "cell_type": "code",
      "source": [
        "X, y"
      ],
      "metadata": {
        "colab": {
          "base_uri": "https://localhost:8080/"
        },
        "id": "x7iAjZf_Nrzw",
        "outputId": "a689f7c9-e353-4b1a-fdd8-ed8c51c24d0e"
      },
      "execution_count": 8,
      "outputs": [
        {
          "output_type": "execute_result",
          "data": {
            "text/plain": [
              "(<tf.Tensor: shape=(8,), dtype=float64, numpy=array([-7., -4., -1.,  2.,  5.,  8., 11., 14.])>,\n",
              " <tf.Tensor: shape=(8,), dtype=float64, numpy=array([ 3.,  6.,  9., 12., 15., 18., 21., 24.])>)"
            ]
          },
          "metadata": {},
          "execution_count": 8
        }
      ]
    },
    {
      "cell_type": "code",
      "source": [
        "plt.scatter(X,y)"
      ],
      "metadata": {
        "colab": {
          "base_uri": "https://localhost:8080/",
          "height": 452
        },
        "id": "pdOaEbIgNtNC",
        "outputId": "76200c5c-3901-4f20-c1d0-95e5acf04060"
      },
      "execution_count": 9,
      "outputs": [
        {
          "output_type": "execute_result",
          "data": {
            "text/plain": [
              "<matplotlib.collections.PathCollection at 0x7f1b4b731d80>"
            ]
          },
          "metadata": {},
          "execution_count": 9
        },
        {
          "output_type": "display_data",
          "data": {
            "text/plain": [
              "<Figure size 640x480 with 1 Axes>"
            ],
            "image/png": "[encoded data removed]"
          },
          "metadata": {}
        }
      ]
    },
    {
      "cell_type": "markdown",
      "source": [
        "# Creating model with TensorFlow\n",
        "\n",
        "\n",
        "*   Create model\n",
        "*   Compile model\n",
        "*   Fit model\n",
        "*   Evaluate model\n",
        "\n",
        "\n",
        "\n"
      ],
      "metadata": {
        "id": "tTqNZaNJN-Qc"
      }
    },
    {
      "cell_type": "code",
      "source": [
        "tf.random.set_seed(42)\n",
        "\n",
        "model = tf.keras.Sequential()\n",
        "model.add(tf.keras.layers.Dense(1))\n",
        "model.compile(optimizer = 'sgd', loss = tf.keras.losses.mse, metrics = 'mae')\n",
        "model.fit(tf.expand_dims(X, -1), y, epochs = 10)"
      ],
      "metadata": {
        "colab": {
          "base_uri": "https://localhost:8080/"
        },
        "id": "Z1sTaG8pN6Ra",
        "outputId": "bf8b214f-4aaa-4b83-8004-32e338462644"
      },
      "execution_count": 10,
      "outputs": [
        {
          "output_type": "stream",
          "name": "stdout",
          "text": [
            "Epoch 1/10\n",
            "1/1 [==============================] - 5s 5s/step - loss: 169.3004 - mae: 12.2431\n",
            "Epoch 2/10\n",
            "1/1 [==============================] - 0s 11ms/step - loss: 79.2280 - mae: 7.3164\n",
            "Epoch 3/10\n",
            "1/1 [==============================] - 0s 10ms/step - loss: 73.5444 - mae: 7.7740\n",
            "Epoch 4/10\n",
            "1/1 [==============================] - 0s 10ms/step - loss: 71.1144 - mae: 7.4560\n",
            "Epoch 5/10\n",
            "1/1 [==============================] - 0s 12ms/step - loss: 68.8766 - mae: 7.3759\n",
            "Epoch 6/10\n",
            "1/1 [==============================] - 0s 10ms/step - loss: 66.7135 - mae: 7.2518\n",
            "Epoch 7/10\n",
            "1/1 [==============================] - 0s 10ms/step - loss: 64.6185 - mae: 7.1385\n",
            "Epoch 8/10\n",
            "1/1 [==============================] - 0s 10ms/step - loss: 62.5893 - mae: 7.0252\n",
            "Epoch 9/10\n",
            "1/1 [==============================] - 0s 9ms/step - loss: 60.6238 - mae: 6.9141\n",
            "Epoch 10/10\n",
            "1/1 [==============================] - 0s 11ms/step - loss: 58.7200 - mae: 6.8046\n"
          ]
        },
        {
          "output_type": "execute_result",
          "data": {
            "text/plain": [
              "<keras.callbacks.History at 0x7f1ac2cd7d90>"
            ]
          },
          "metadata": {},
          "execution_count": 10
        }
      ]
    },
    {
      "cell_type": "code",
      "source": [
        "y_predict = model.predict(X)\n",
        "plt.plot(X, y_predict)\n",
        "plt.plot(X,y)"
      ],
      "metadata": {
        "colab": {
          "base_uri": "https://localhost:8080/",
          "height": 465
        },
        "id": "-BPcE2onQg7S",
        "outputId": "413b3a82-2caa-4445-ddfe-702261eeee41"
      },
      "execution_count": 11,
      "outputs": [
        {
          "output_type": "stream",
          "name": "stdout",
          "text": [
            "1/1 [==============================] - 0s 65ms/step\n"
          ]
        },
        {
          "output_type": "execute_result",
          "data": {
            "text/plain": [
              "[<matplotlib.lines.Line2D at 0x7f1ac20743a0>]"
            ]
          },
          "metadata": {},
          "execution_count": 11
        },
        {
          "output_type": "display_data",
          "data": {
            "text/plain": [
              "<Figure size 640x480 with 1 Axes>"
            ],
            "image/png": "[encoded data removed]"
          },
          "metadata": {}
        }
      ]
    },
    {
      "cell_type": "markdown",
      "source": [
        "### Improving model:\n",
        "**1. creting model** : change layrs, change number of neurons, chanhe activation function\n",
        "\n",
        "**2. compile model** : change optimizer, change lerning rate, change loss function\n",
        "**3. fit model** : change number of data, change number of epochs"
      ],
      "metadata": {
        "id": "xnNpTe2VYybA"
      }
    },
    {
      "cell_type": "code",
      "source": [
        "tf.random.set_seed(42)\n",
        "model_dif = tf.keras.Sequential((\n",
        "  tf.keras.layers.Dense(50, 'relu'),\n",
        "  tf.keras.layers.Dense(50),\n",
        "  tf.keras.layers.Dense(50))\n",
        ")\n",
        "model_dif.add(tf.keras.layers.Dense(1))\n",
        "model_dif.compile(optimizer = tf.keras.optimizers.Adam(learning_rate = 0.01), loss = tf.keras.losses.mae, metrics = 'mae')\n",
        "history = model_dif.fit(tf.expand_dims(X, -1), y, epochs = 100)"
      ],
      "metadata": {
        "colab": {
          "base_uri": "https://localhost:8080/"
        },
        "id": "Ty890o0sYuzp",
        "outputId": "abfaa971-07de-4b74-ca88-f578b6d8784f"
      },
      "execution_count": 12,
      "outputs": [
        {
          "output_type": "stream",
          "name": "stdout",
          "text": [
            "Epoch 1/100\n",
            "1/1 [==============================] - 2s 2s/step - loss: 11.6002 - mae: 11.6002\n",
            "Epoch 2/100\n",
            "1/1 [==============================] - 0s 11ms/step - loss: 4.3962 - mae: 4.3962\n",
            "Epoch 3/100\n",
            "1/1 [==============================] - 0s 11ms/step - loss: 8.0508 - mae: 8.0508\n",
            "Epoch 4/100\n",
            "1/1 [==============================] - 0s 11ms/step - loss: 8.6147 - mae: 8.6147\n",
            "Epoch 5/100\n",
            "1/1 [==============================] - 0s 10ms/step - loss: 5.9098 - mae: 5.9098\n",
            "Epoch 6/100\n",
            "1/1 [==============================] - 0s 10ms/step - loss: 3.9809 - mae: 3.9809\n",
            "Epoch 7/100\n",
            "1/1 [==============================] - 0s 10ms/step - loss: 6.0226 - mae: 6.0226\n",
            "Epoch 8/100\n",
            "1/1 [==============================] - 0s 13ms/step - loss: 6.8025 - mae: 6.8025\n",
            "Epoch 9/100\n",
            "1/1 [==============================] - 0s 11ms/step - loss: 6.4626 - mae: 6.4626\n",
            "Epoch 10/100\n",
            "1/1 [==============================] - 0s 9ms/step - loss: 5.0093 - mae: 5.0093\n",
            "Epoch 11/100\n",
            "1/1 [==============================] - 0s 14ms/step - loss: 3.5741 - mae: 3.5741\n",
            "Epoch 12/100\n",
            "1/1 [==============================] - 0s 12ms/step - loss: 4.1724 - mae: 4.1724\n",
            "Epoch 13/100\n",
            "1/1 [==============================] - 0s 10ms/step - loss: 4.8329 - mae: 4.8329\n",
            "Epoch 14/100\n",
            "1/1 [==============================] - 0s 10ms/step - loss: 4.9199 - mae: 4.9199\n",
            "Epoch 15/100\n",
            "1/1 [==============================] - 0s 10ms/step - loss: 4.5465 - mae: 4.5465\n",
            "Epoch 16/100\n",
            "1/1 [==============================] - 0s 10ms/step - loss: 3.8413 - mae: 3.8413\n",
            "Epoch 17/100\n",
            "1/1 [==============================] - 0s 10ms/step - loss: 3.3222 - mae: 3.3222\n",
            "Epoch 18/100\n",
            "1/1 [==============================] - 0s 11ms/step - loss: 3.4742 - mae: 3.4742\n",
            "Epoch 19/100\n",
            "1/1 [==============================] - 0s 10ms/step - loss: 3.8483 - mae: 3.8483\n",
            "Epoch 20/100\n",
            "1/1 [==============================] - 0s 15ms/step - loss: 3.7048 - mae: 3.7048\n",
            "Epoch 21/100\n",
            "1/1 [==============================] - 0s 10ms/step - loss: 3.0935 - mae: 3.0935\n",
            "Epoch 22/100\n",
            "1/1 [==============================] - 0s 10ms/step - loss: 2.9928 - mae: 2.9928\n",
            "Epoch 23/100\n",
            "1/1 [==============================] - 0s 11ms/step - loss: 3.1123 - mae: 3.1123\n",
            "Epoch 24/100\n",
            "1/1 [==============================] - 0s 10ms/step - loss: 3.1998 - mae: 3.1998\n",
            "Epoch 25/100\n",
            "1/1 [==============================] - 0s 9ms/step - loss: 3.0035 - mae: 3.0035\n",
            "Epoch 26/100\n",
            "1/1 [==============================] - 0s 10ms/step - loss: 2.8524 - mae: 2.8524\n",
            "Epoch 27/100\n",
            "1/1 [==============================] - 0s 10ms/step - loss: 2.6527 - mae: 2.6527\n",
            "Epoch 28/100\n",
            "1/1 [==============================] - 0s 11ms/step - loss: 2.6426 - mae: 2.6426\n",
            "Epoch 29/100\n",
            "1/1 [==============================] - 0s 11ms/step - loss: 2.5442 - mae: 2.5442\n",
            "Epoch 30/100\n",
            "1/1 [==============================] - 0s 10ms/step - loss: 2.3398 - mae: 2.3398\n",
            "Epoch 31/100\n",
            "1/1 [==============================] - 0s 11ms/step - loss: 2.3331 - mae: 2.3331\n",
            "Epoch 32/100\n",
            "1/1 [==============================] - 0s 9ms/step - loss: 2.2790 - mae: 2.2790\n",
            "Epoch 33/100\n",
            "1/1 [==============================] - 0s 11ms/step - loss: 1.9716 - mae: 1.9716\n",
            "Epoch 34/100\n",
            "1/1 [==============================] - 0s 10ms/step - loss: 1.8536 - mae: 1.8536\n",
            "Epoch 35/100\n",
            "1/1 [==============================] - 0s 9ms/step - loss: 1.7018 - mae: 1.7018\n",
            "Epoch 36/100\n",
            "1/1 [==============================] - 0s 11ms/step - loss: 1.6306 - mae: 1.6306\n",
            "Epoch 37/100\n",
            "1/1 [==============================] - 0s 12ms/step - loss: 1.6045 - mae: 1.6045\n",
            "Epoch 38/100\n",
            "1/1 [==============================] - 0s 11ms/step - loss: 1.2425 - mae: 1.2425\n",
            "Epoch 39/100\n",
            "1/1 [==============================] - 0s 14ms/step - loss: 1.0169 - mae: 1.0169\n",
            "Epoch 40/100\n",
            "1/1 [==============================] - 0s 10ms/step - loss: 0.8089 - mae: 0.8089\n",
            "Epoch 41/100\n",
            "1/1 [==============================] - 0s 10ms/step - loss: 0.8886 - mae: 0.8886\n",
            "Epoch 42/100\n",
            "1/1 [==============================] - 0s 13ms/step - loss: 0.8605 - mae: 0.8605\n",
            "Epoch 43/100\n",
            "1/1 [==============================] - 0s 10ms/step - loss: 0.6238 - mae: 0.6238\n",
            "Epoch 44/100\n",
            "1/1 [==============================] - 0s 10ms/step - loss: 0.6872 - mae: 0.6872\n",
            "Epoch 45/100\n",
            "1/1 [==============================] - 0s 10ms/step - loss: 1.2088 - mae: 1.2088\n",
            "Epoch 46/100\n",
            "1/1 [==============================] - 0s 10ms/step - loss: 0.8912 - mae: 0.8912\n",
            "Epoch 47/100\n",
            "1/1 [==============================] - 0s 12ms/step - loss: 1.3576 - mae: 1.3576\n",
            "Epoch 48/100\n",
            "1/1 [==============================] - 0s 9ms/step - loss: 1.2618 - mae: 1.2618\n",
            "Epoch 49/100\n",
            "1/1 [==============================] - 0s 10ms/step - loss: 1.0831 - mae: 1.0831\n",
            "Epoch 50/100\n",
            "1/1 [==============================] - 0s 12ms/step - loss: 1.2158 - mae: 1.2158\n",
            "Epoch 51/100\n",
            "1/1 [==============================] - 0s 11ms/step - loss: 0.5328 - mae: 0.5328\n",
            "Epoch 52/100\n",
            "1/1 [==============================] - 0s 14ms/step - loss: 1.3156 - mae: 1.3156\n",
            "Epoch 53/100\n",
            "1/1 [==============================] - 0s 11ms/step - loss: 1.4182 - mae: 1.4182\n",
            "Epoch 54/100\n",
            "1/1 [==============================] - 0s 10ms/step - loss: 0.6104 - mae: 0.6104\n",
            "Epoch 55/100\n",
            "1/1 [==============================] - 0s 12ms/step - loss: 1.4777 - mae: 1.4777\n",
            "Epoch 56/100\n",
            "1/1 [==============================] - 0s 12ms/step - loss: 1.5899 - mae: 1.5899\n",
            "Epoch 57/100\n",
            "1/1 [==============================] - 0s 10ms/step - loss: 1.4263 - mae: 1.4263\n",
            "Epoch 58/100\n",
            "1/1 [==============================] - 0s 11ms/step - loss: 0.6943 - mae: 0.6943\n",
            "Epoch 59/100\n",
            "1/1 [==============================] - 0s 12ms/step - loss: 1.4117 - mae: 1.4117\n",
            "Epoch 60/100\n",
            "1/1 [==============================] - 0s 11ms/step - loss: 1.5180 - mae: 1.5180\n",
            "Epoch 61/100\n",
            "1/1 [==============================] - 0s 12ms/step - loss: 0.8424 - mae: 0.8424\n",
            "Epoch 62/100\n",
            "1/1 [==============================] - 0s 11ms/step - loss: 0.7632 - mae: 0.7632\n",
            "Epoch 63/100\n",
            "1/1 [==============================] - 0s 10ms/step - loss: 1.1474 - mae: 1.1474\n",
            "Epoch 64/100\n",
            "1/1 [==============================] - 0s 11ms/step - loss: 0.8588 - mae: 0.8588\n",
            "Epoch 65/100\n",
            "1/1 [==============================] - 0s 10ms/step - loss: 0.9308 - mae: 0.9308\n",
            "Epoch 66/100\n",
            "1/1 [==============================] - 0s 11ms/step - loss: 1.0848 - mae: 1.0848\n",
            "Epoch 67/100\n",
            "1/1 [==============================] - 0s 11ms/step - loss: 0.9115 - mae: 0.9115\n",
            "Epoch 68/100\n",
            "1/1 [==============================] - 0s 11ms/step - loss: 0.5380 - mae: 0.5380\n",
            "Epoch 69/100\n",
            "1/1 [==============================] - 0s 11ms/step - loss: 1.0680 - mae: 1.0680\n",
            "Epoch 70/100\n",
            "1/1 [==============================] - 0s 9ms/step - loss: 1.2032 - mae: 1.2032\n",
            "Epoch 71/100\n",
            "1/1 [==============================] - 0s 10ms/step - loss: 0.7004 - mae: 0.7004\n",
            "Epoch 72/100\n",
            "1/1 [==============================] - 0s 11ms/step - loss: 0.4849 - mae: 0.4849\n",
            "Epoch 73/100\n",
            "1/1 [==============================] - 0s 17ms/step - loss: 0.7875 - mae: 0.7875\n",
            "Epoch 74/100\n",
            "1/1 [==============================] - 0s 13ms/step - loss: 0.3690 - mae: 0.3690\n",
            "Epoch 75/100\n",
            "1/1 [==============================] - 0s 12ms/step - loss: 0.8842 - mae: 0.8842\n",
            "Epoch 76/100\n",
            "1/1 [==============================] - 0s 11ms/step - loss: 0.9743 - mae: 0.9743\n",
            "Epoch 77/100\n",
            "1/1 [==============================] - 0s 15ms/step - loss: 0.7641 - mae: 0.7641\n",
            "Epoch 78/100\n",
            "1/1 [==============================] - 0s 10ms/step - loss: 0.6347 - mae: 0.6347\n",
            "Epoch 79/100\n",
            "1/1 [==============================] - 0s 10ms/step - loss: 0.7748 - mae: 0.7748\n",
            "Epoch 80/100\n",
            "1/1 [==============================] - 0s 14ms/step - loss: 0.3382 - mae: 0.3382\n",
            "Epoch 81/100\n",
            "1/1 [==============================] - 0s 11ms/step - loss: 0.1329 - mae: 0.1329\n",
            "Epoch 82/100\n",
            "1/1 [==============================] - 0s 11ms/step - loss: 0.6543 - mae: 0.6543\n",
            "Epoch 83/100\n",
            "1/1 [==============================] - 0s 15ms/step - loss: 0.5784 - mae: 0.5784\n",
            "Epoch 84/100\n",
            "1/1 [==============================] - 0s 10ms/step - loss: 0.4322 - mae: 0.4322\n",
            "Epoch 85/100\n",
            "1/1 [==============================] - 0s 10ms/step - loss: 0.3868 - mae: 0.3868\n",
            "Epoch 86/100\n",
            "1/1 [==============================] - 0s 11ms/step - loss: 0.3324 - mae: 0.3324\n",
            "Epoch 87/100\n",
            "1/1 [==============================] - 0s 10ms/step - loss: 0.3964 - mae: 0.3964\n",
            "Epoch 88/100\n",
            "1/1 [==============================] - 0s 10ms/step - loss: 0.5139 - mae: 0.5139\n",
            "Epoch 89/100\n",
            "1/1 [==============================] - 0s 10ms/step - loss: 0.4615 - mae: 0.4615\n",
            "Epoch 90/100\n",
            "1/1 [==============================] - 0s 11ms/step - loss: 0.2541 - mae: 0.2541\n",
            "Epoch 91/100\n",
            "1/1 [==============================] - 0s 11ms/step - loss: 0.3671 - mae: 0.3671\n",
            "Epoch 92/100\n",
            "1/1 [==============================] - 0s 9ms/step - loss: 0.1901 - mae: 0.1901\n",
            "Epoch 93/100\n",
            "1/1 [==============================] - 0s 11ms/step - loss: 0.1481 - mae: 0.1481\n",
            "Epoch 94/100\n",
            "1/1 [==============================] - 0s 10ms/step - loss: 0.4550 - mae: 0.4550\n",
            "Epoch 95/100\n",
            "1/1 [==============================] - 0s 9ms/step - loss: 0.3016 - mae: 0.3016\n",
            "Epoch 96/100\n",
            "1/1 [==============================] - 0s 12ms/step - loss: 0.5135 - mae: 0.5135\n",
            "Epoch 97/100\n",
            "1/1 [==============================] - 0s 10ms/step - loss: 0.5610 - mae: 0.5610\n",
            "Epoch 98/100\n",
            "1/1 [==============================] - 0s 11ms/step - loss: 0.1837 - mae: 0.1837\n",
            "Epoch 99/100\n",
            "1/1 [==============================] - 0s 11ms/step - loss: 0.9195 - mae: 0.9195\n",
            "Epoch 100/100\n",
            "1/1 [==============================] - 0s 11ms/step - loss: 0.9973 - mae: 0.9973\n"
          ]
        }
      ]
    },
    {
      "cell_type": "code",
      "source": [
        "plt.plot(X, model_dif.predict(X))\n",
        "plt.plot(X,y)\n",
        "plt.show()"
      ],
      "metadata": {
        "colab": {
          "base_uri": "https://localhost:8080/",
          "height": 447
        },
        "id": "TFOQlwWLR1rE",
        "outputId": "2f214420-b83b-4721-868a-292735181fdb"
      },
      "execution_count": 13,
      "outputs": [
        {
          "output_type": "stream",
          "name": "stdout",
          "text": [
            "1/1 [==============================] - 0s 75ms/step\n"
          ]
        },
        {
          "output_type": "display_data",
          "data": {
            "text/plain": [
              "<Figure size 640x480 with 1 Axes>"
            ],
            "image/png": "[encoded data removed]"
          },
          "metadata": {}
        }
      ]
    },
    {
      "cell_type": "code",
      "source": [
        "model_dif.predict(X)"
      ],
      "metadata": {
        "colab": {
          "base_uri": "https://localhost:8080/"
        },
        "id": "g0Wk3Codb0Gd",
        "outputId": "41b7e604-0e49-4119-b655-eefe0a927b40"
      },
      "execution_count": 14,
      "outputs": [
        {
          "output_type": "stream",
          "name": "stdout",
          "text": [
            "1/1 [==============================] - 0s 32ms/step\n"
          ]
        },
        {
          "output_type": "execute_result",
          "data": {
            "text/plain": [
              "array([[ 2.535883 ],\n",
              "       [ 5.971757 ],\n",
              "       [ 9.2206545],\n",
              "       [12.294679 ],\n",
              "       [15.442395 ],\n",
              "       [18.586624 ],\n",
              "       [21.733433 ],\n",
              "       [24.906538 ]], dtype=float32)"
            ]
          },
          "metadata": {},
          "execution_count": 14
        }
      ]
    },
    {
      "cell_type": "code",
      "source": [
        "y"
      ],
      "metadata": {
        "colab": {
          "base_uri": "https://localhost:8080/"
        },
        "id": "wjuOXqiFb6ql",
        "outputId": "8d843207-bbc5-4184-b7a9-012a2b5cf3fe"
      },
      "execution_count": 15,
      "outputs": [
        {
          "output_type": "execute_result",
          "data": {
            "text/plain": [
              "<tf.Tensor: shape=(8,), dtype=float64, numpy=array([ 3.,  6.,  9., 12., 15., 18., 21., 24.])>"
            ]
          },
          "metadata": {},
          "execution_count": 15
        }
      ]
    },
    {
      "cell_type": "code",
      "source": [
        "model.summary()"
      ],
      "metadata": {
        "colab": {
          "base_uri": "https://localhost:8080/"
        },
        "id": "37COCg8kd6VI",
        "outputId": "7043c2a1-4328-4db3-a51d-0c20044c764f"
      },
      "execution_count": 16,
      "outputs": [
        {
          "output_type": "stream",
          "name": "stdout",
          "text": [
            "Model: \"sequential\"\n",
            "_________________________________________________________________\n",
            " Layer (type)                Output Shape              Param #   \n",
            "=================================================================\n",
            " dense (Dense)               (None, 1)                 2         \n",
            "                                                                 \n",
            "=================================================================\n",
            "Total params: 2\n",
            "Trainable params: 2\n",
            "Non-trainable params: 0\n",
            "_________________________________________________________________\n"
          ]
        }
      ]
    },
    {
      "cell_type": "code",
      "source": [
        "model_dif.summary()"
      ],
      "metadata": {
        "colab": {
          "base_uri": "https://localhost:8080/"
        },
        "id": "SeQ8Be7V1BPk",
        "outputId": "523a553d-efd2-490f-9e30-5f619fd7eb3e"
      },
      "execution_count": 17,
      "outputs": [
        {
          "output_type": "stream",
          "name": "stdout",
          "text": [
            "Model: \"sequential_1\"\n",
            "_________________________________________________________________\n",
            " Layer (type)                Output Shape              Param #   \n",
            "=================================================================\n",
            " dense_1 (Dense)             (None, 50)                100       \n",
            "                                                                 \n",
            " dense_2 (Dense)             (None, 50)                2550      \n",
            "                                                                 \n",
            " dense_3 (Dense)             (None, 50)                2550      \n",
            "                                                                 \n",
            " dense_4 (Dense)             (None, 1)                 51        \n",
            "                                                                 \n",
            "=================================================================\n",
            "Total params: 5,251\n",
            "Trainable params: 5,251\n",
            "Non-trainable params: 0\n",
            "_________________________________________________________________\n"
          ]
        }
      ]
    },
    {
      "cell_type": "code",
      "source": [
        "import pandas as pd\n",
        "plt.plot(pd.DataFrame(history.history))"
      ],
      "metadata": {
        "colab": {
          "base_uri": "https://localhost:8080/",
          "height": 465
        },
        "id": "74Ez-4HT1Eql",
        "outputId": "3c34f8b1-d87c-4cea-85be-6c47fcdab9cc"
      },
      "execution_count": 18,
      "outputs": [
        {
          "output_type": "execute_result",
          "data": {
            "text/plain": [
              "[<matplotlib.lines.Line2D at 0x7f1ac01d7c70>,\n",
              " <matplotlib.lines.Line2D at 0x7f1ac01d7cd0>]"
            ]
          },
          "metadata": {},
          "execution_count": 18
        },
        {
          "output_type": "display_data",
          "data": {
            "text/plain": [
              "<Figure size 640x480 with 1 Axes>"
            ],
            "image/png": "[encoded data removed]"
          },
          "metadata": {}
        }
      ]
    },
    {
      "cell_type": "code",
      "source": [
        "pd.DataFrame(history.history)"
      ],
      "metadata": {
        "colab": {
          "base_uri": "https://localhost:8080/",
          "height": 424
        },
        "id": "A5J9patz1YOg",
        "outputId": "8ce764df-3e5e-4590-e89c-438cfdf7f9cd"
      },
      "execution_count": 19,
      "outputs": [
        {
          "output_type": "execute_result",
          "data": {
            "text/plain": [
              "         loss        mae\n",
              "0   11.600216  11.600216\n",
              "1    4.396186   4.396186\n",
              "2    8.050821   8.050821\n",
              "3    8.614729   8.614729\n",
              "4    5.909800   5.909800\n",
              "..        ...        ...\n",
              "95   0.513519   0.513519\n",
              "96   0.560999   0.560999\n",
              "97   0.183667   0.183667\n",
              "98   0.919515   0.919515\n",
              "99   0.997306   0.997306\n",
              "\n",
              "[100 rows x 2 columns]"
            ],
            "text/html": [
              "\n",
              "  <div id=\"df-3a1de204-b29f-4d6c-aee0-11e61a0a78dc\">\n",
              "    <div class=\"colab-df-container\">\n",
              "      <div>\n",
              "<style scoped>\n",
              "    .dataframe tbody tr th:only-of-type {\n",
              "        vertical-align: middle;\n",
              "    }\n",
              "\n",
              "    .dataframe tbody tr th {\n",
              "        vertical-align: top;\n",
              "    }\n",
              "\n",
              "    .dataframe thead th {\n",
              "        text-align: right;\n",
              "    }\n",
              "</style>\n",
              "<table border=\"1\" class=\"dataframe\">\n",
              "  <thead>\n",
              "    <tr style=\"text-align: right;\">\n",
              "      <th></th>\n",
              "      <th>loss</th>\n",
              "      <th>mae</th>\n",
              "    </tr>\n",
              "  </thead>\n",
              "  <tbody>\n",
              "    <tr>\n",
              "      <th>0</th>\n",
              "      <td>11.600216</td>\n",
              "      <td>11.600216</td>\n",
              "    </tr>\n",
              "    <tr>\n",
              "      <th>1</th>\n",
              "      <td>4.396186</td>\n",
              "      <td>4.396186</td>\n",
              "    </tr>\n",
              "    <tr>\n",
              "      <th>2</th>\n",
              "      <td>8.050821</td>\n",
              "      <td>8.050821</td>\n",
              "    </tr>\n",
              "    <tr>\n",
              "      <th>3</th>\n",
              "      <td>8.614729</td>\n",
              "      <td>8.614729</td>\n",
              "    </tr>\n",
              "    <tr>\n",
              "      <th>4</th>\n",
              "      <td>5.909800</td>\n",
              "      <td>5.909800</td>\n",
              "    </tr>\n",
              "    <tr>\n",
              "      <th>...</th>\n",
              "      <td>...</td>\n",
              "      <td>...</td>\n",
              "    </tr>\n",
              "    <tr>\n",
              "      <th>95</th>\n",
              "      <td>0.513519</td>\n",
              "      <td>0.513519</td>\n",
              "    </tr>\n",
              "    <tr>\n",
              "      <th>96</th>\n",
              "      <td>0.560999</td>\n",
              "      <td>0.560999</td>\n",
              "    </tr>\n",
              "    <tr>\n",
              "      <th>97</th>\n",
              "      <td>0.183667</td>\n",
              "      <td>0.183667</td>\n",
              "    </tr>\n",
              "    <tr>\n",
              "      <th>98</th>\n",
              "      <td>0.919515</td>\n",
              "      <td>0.919515</td>\n",
              "    </tr>\n",
              "    <tr>\n",
              "      <th>99</th>\n",
              "      <td>0.997306</td>\n",
              "      <td>0.997306</td>\n",
              "    </tr>\n",
              "  </tbody>\n",
              "</table>\n",
              "<p>100 rows × 2 columns</p>\n",
              "</div>\n",
              "      <button class=\"colab-df-convert\" onclick=\"convertToInteractive('df-3a1de204-b29f-4d6c-aee0-11e61a0a78dc')\"\n",
              "              title=\"Convert this dataframe to an interactive table.\"\n",
              "              style=\"display:none;\">\n",
              "        \n",
              "  <svg xmlns=\"http://www.w3.org/2000/svg\" height=\"24px\"viewBox=\"0 0 24 24\"\n",
              "       width=\"24px\">\n",
              "    <path d=\"M0 0h24v24H0V0z\" fill=\"none\"/>\n",
              "    <path d=\"M18.56 5.44l.94 2.06.94-2.06 2.06-.94-2.06-.94-.94-2.06-.94 2.06-2.06.94zm-11 1L8.5 8.5l.94-2.06 2.06-.94-2.06-.94L8.5 2.5l-.94 2.06-2.06.94zm10 10l.94 2.06.94-2.06 2.06-.94-2.06-.94-.94-2.06-.94 2.06-2.06.94z\"/><path d=\"M17.41 7.96l-1.37-1.37c-.4-.4-.92-.59-1.43-.59-.52 0-1.04.2-1.43.59L10.3 9.45l-7.72 7.72c-.78.78-.78 2.05 0 2.83L4 21.41c.39.39.9.59 1.41.59.51 0 1.02-.2 1.41-.59l7.78-7.78 2.81-2.81c.8-.78.8-2.07 0-2.86zM5.41 20L4 18.59l7.72-7.72 1.47 1.35L5.41 20z\"/>\n",
              "  </svg>\n",
              "      </button>\n",
              "      \n",
              "  <style>\n",
              "    .colab-df-container {\n",
              "      display:flex;\n",
              "      flex-wrap:wrap;\n",
              "      gap: 12px;\n",
              "    }\n",
              "\n",
              "    .colab-df-convert {\n",
              "      background-color: #E8F0FE;\n",
              "      border: none;\n",
              "      border-radius: 50%;\n",
              "      cursor: pointer;\n",
              "      display: none;\n",
              "      fill: #1967D2;\n",
              "      height: 32px;\n",
              "      padding: 0 0 0 0;\n",
              "      width: 32px;\n",
              "    }\n",
              "\n",
              "    .colab-df-convert:hover {\n",
              "      background-color: #E2EBFA;\n",
              "      box-shadow: 0px 1px 2px rgba(60, 64, 67, 0.3), 0px 1px 3px 1px rgba(60, 64, 67, 0.15);\n",
              "      fill: #174EA6;\n",
              "    }\n",
              "\n",
              "    [theme=dark] .colab-df-convert {\n",
              "      background-color: #3B4455;\n",
              "      fill: #D2E3FC;\n",
              "    }\n",
              "\n",
              "    [theme=dark] .colab-df-convert:hover {\n",
              "      background-color: #434B5C;\n",
              "      box-shadow: 0px 1px 3px 1px rgba(0, 0, 0, 0.15);\n",
              "      filter: drop-shadow(0px 1px 2px rgba(0, 0, 0, 0.3));\n",
              "      fill: #FFFFFF;\n",
              "    }\n",
              "  </style>\n",
              "\n",
              "      <script>\n",
              "        const buttonEl =\n",
              "          document.querySelector('#df-3a1de204-b29f-4d6c-aee0-11e61a0a78dc button.colab-df-convert');\n",
              "        buttonEl.style.display =\n",
              "          google.colab.kernel.accessAllowed ? 'block' : 'none';\n",
              "\n",
              "        async function convertToInteractive(key) {\n",
              "          const element = document.querySelector('#df-3a1de204-b29f-4d6c-aee0-11e61a0a78dc');\n",
              "          const dataTable =\n",
              "            await google.colab.kernel.invokeFunction('convertToInteractive',\n",
              "                                                     [key], {});\n",
              "          if (!dataTable) return;\n",
              "\n",
              "          const docLinkHtml = 'Like what you see? Visit the ' +\n",
              "            '<a target=\"_blank\" href=https://colab.research.google.com/notebooks/data_table.ipynb>data table notebook</a>'\n",
              "            + ' to learn more about interactive tables.';\n",
              "          element.innerHTML = '';\n",
              "          dataTable['output_type'] = 'display_data';\n",
              "          await google.colab.output.renderOutput(dataTable, element);\n",
              "          const docLink = document.createElement('div');\n",
              "          docLink.innerHTML = docLinkHtml;\n",
              "          element.appendChild(docLink);\n",
              "        }\n",
              "      </script>\n",
              "    </div>\n",
              "  </div>\n",
              "  "
            ]
          },
          "metadata": {},
          "execution_count": 19
        }
      ]
    },
    {
      "cell_type": "markdown",
      "source": [
        "## Plot of model\n"
      ],
      "metadata": {
        "id": "f53koIU1mA72"
      }
    },
    {
      "cell_type": "code",
      "source": [
        "from keras.utils import plot_model"
      ],
      "metadata": {
        "id": "aE3io-_A1hpd"
      },
      "execution_count": 20,
      "outputs": []
    },
    {
      "cell_type": "code",
      "source": [
        "plot_model(model,show_shapes = True, show_layer_activations=True)"
      ],
      "metadata": {
        "colab": {
          "base_uri": "https://localhost:8080/",
          "height": 201
        },
        "id": "Yv2ghZx1pJvp",
        "outputId": "3ee8bfe1-8dc7-485c-ea15-623144f5ba5f"
      },
      "execution_count": 21,
      "outputs": [
        {
          "output_type": "execute_result",
          "data": {
            "image/png": "[encoded data removed]",
            "text/plain": [
              "<IPython.core.display.Image object>"
            ]
          },
          "metadata": {},
          "execution_count": 21
        }
      ]
    },
    {
      "cell_type": "code",
      "source": [
        "plot_model(model_dif,show_shapes = True, show_layer_activations=True)"
      ],
      "metadata": {
        "colab": {
          "base_uri": "https://localhost:8080/",
          "height": 533
        },
        "id": "WznhbsOlpPeS",
        "outputId": "8517663a-9cd3-47f1-b4a5-a5d32ff849fb"
      },
      "execution_count": 22,
      "outputs": [
        {
          "output_type": "execute_result",
          "data": {
            "image/png": "[encoded data removed]",
            "text/plain": [
              "<IPython.core.display.Image object>"
            ]
          },
          "metadata": {},
          "execution_count": 22
        }
      ]
    },
    {
      "cell_type": "code",
      "source": [
        "plt.plot(X, model_dif.predict(X), '+-', label = 'prediction')\n",
        "plt.plot(X,y, '*-', label ='true value')\n",
        "plt.title(\"Trues vs Predictions\")\n",
        "plt.grid(True)\n",
        "plt.legend()\n",
        "plt.show()"
      ],
      "metadata": {
        "colab": {
          "base_uri": "https://localhost:8080/",
          "height": 469
        },
        "id": "c2HCmLowpi8_",
        "outputId": "d0103dfa-bd5e-4bdc-90e6-078eba5e2b68"
      },
      "execution_count": 23,
      "outputs": [
        {
          "output_type": "stream",
          "name": "stdout",
          "text": [
            "1/1 [==============================] - 0s 37ms/step\n"
          ]
        },
        {
          "output_type": "display_data",
          "data": {
            "text/plain": [
              "<Figure size 640x480 with 1 Axes>"
            ],
            "image/png": "[encoded data removed]"
          },
          "metadata": {}
        }
      ]
    },
    {
      "cell_type": "markdown",
      "source": [
        "## Evaluate model\n",
        "- MAE - mean absolute error (sensitive to outliers)\n",
        "- MSE - mean squear error (not sensitive to outliers)\n",
        "- Huber - combinations of mae, mse"
      ],
      "metadata": {
        "id": "EhuZqjSRyfWr"
      }
    },
    {
      "cell_type": "code",
      "source": [
        "from keras.metrics import mean_absolute_error\n",
        "from keras.metrics import mean_squared_error\n",
        "from keras.losses import Huber "
      ],
      "metadata": {
        "id": "OHJNdfPh1mQE"
      },
      "execution_count": 24,
      "outputs": []
    },
    {
      "cell_type": "code",
      "source": [
        "y_predict = model_dif.predict(X)"
      ],
      "metadata": {
        "colab": {
          "base_uri": "https://localhost:8080/"
        },
        "id": "w8PjBbug2Gt9",
        "outputId": "c4b65b25-fe58-4eb5-d72d-d4cacb630672"
      },
      "execution_count": 25,
      "outputs": [
        {
          "output_type": "stream",
          "name": "stdout",
          "text": [
            "1/1 [==============================] - 0s 33ms/step\n"
          ]
        }
      ]
    },
    {
      "cell_type": "code",
      "source": [
        "y_predict = tf.squeeze(y_predict)\n",
        "y_predict"
      ],
      "metadata": {
        "colab": {
          "base_uri": "https://localhost:8080/"
        },
        "id": "Tl5u1vjS526r",
        "outputId": "fb5c3297-4aae-4a28-8c48-63dd05133cca"
      },
      "execution_count": 26,
      "outputs": [
        {
          "output_type": "execute_result",
          "data": {
            "text/plain": [
              "<tf.Tensor: shape=(8,), dtype=float32, numpy=\n",
              "array([ 2.535883 ,  5.971757 ,  9.2206545, 12.294679 , 15.442395 ,\n",
              "       18.586624 , 21.733433 , 24.906538 ], dtype=float32)>"
            ]
          },
          "metadata": {},
          "execution_count": 26
        }
      ]
    },
    {
      "cell_type": "code",
      "source": [
        "# calulation mae\n",
        "mean_absolute_error(y, y_predict)"
      ],
      "metadata": {
        "colab": {
          "base_uri": "https://localhost:8080/"
        },
        "id": "teOhlwzorIPb",
        "outputId": "cad8272c-9bda-4212-d6ff-17fa3163945c"
      },
      "execution_count": 27,
      "outputs": [
        {
          "output_type": "execute_result",
          "data": {
            "text/plain": [
              "<tf.Tensor: shape=(), dtype=float32, numpy=0.45958543>"
            ]
          },
          "metadata": {},
          "execution_count": 27
        }
      ]
    },
    {
      "cell_type": "code",
      "source": [
        "# calulation mse\n",
        "mse = mean_squared_error(y, y_predict)\n",
        "mse"
      ],
      "metadata": {
        "colab": {
          "base_uri": "https://localhost:8080/"
        },
        "id": "hLr5fJcz2Mpd",
        "outputId": "10d3f293-c381-4b82-a12a-d83a634a0f21"
      },
      "execution_count": 28,
      "outputs": [
        {
          "output_type": "execute_result",
          "data": {
            "text/plain": [
              "<tf.Tensor: shape=(), dtype=float32, numpy=0.2814128>"
            ]
          },
          "metadata": {},
          "execution_count": 28
        }
      ]
    },
    {
      "cell_type": "code",
      "source": [
        "# calculate huber metrics\n",
        "huber = Huber()\n",
        "huber(y, y_predict)"
      ],
      "metadata": {
        "colab": {
          "base_uri": "https://localhost:8080/"
        },
        "id": "Q8bW8QB54JnQ",
        "outputId": "1c1d3a3d-6734-4f25-9757-512f2d5d9cf1"
      },
      "execution_count": 29,
      "outputs": [
        {
          "output_type": "execute_result",
          "data": {
            "text/plain": [
              "<tf.Tensor: shape=(), dtype=float32, numpy=0.1407064>"
            ]
          },
          "metadata": {},
          "execution_count": 29
        }
      ]
    },
    {
      "cell_type": "markdown",
      "source": [
        "##Saving model\n",
        "There two saving formats in TensorFlow we can use to save model:\n",
        "1. SavedModel format\n",
        "2. The HDF5 format"
      ],
      "metadata": {
        "id": "Vt8pbj37_bef"
      }
    },
    {
      "cell_type": "code",
      "source": [
        "# save SaveModel format\n",
        "\n",
        "model_dif.save(\"best_model_SaveModel_format\")"
      ],
      "metadata": {
        "colab": {
          "base_uri": "https://localhost:8080/"
        },
        "id": "rtXcBDP44LU-",
        "outputId": "56e26a40-bee9-4fce-f7f8-31cdac8cd963"
      },
      "execution_count": 30,
      "outputs": [
        {
          "output_type": "stream",
          "name": "stderr",
          "text": [
            "WARNING:absl:Found untraced functions such as _update_step_xla while saving (showing 1 of 1). These functions will not be directly callable after loading.\n"
          ]
        }
      ]
    },
    {
      "cell_type": "code",
      "source": [
        "# save model using HDF5 format\n",
        "model_dif.save(\"best_model_HDF5_format.h5\")"
      ],
      "metadata": {
        "id": "jKil0XvmCqMm"
      },
      "execution_count": 31,
      "outputs": []
    },
    {
      "cell_type": "markdown",
      "source": [
        "## Loading a saved model"
      ],
      "metadata": {
        "id": "I-3AtW-6Dt-q"
      }
    },
    {
      "cell_type": "code",
      "source": [
        "# Loading a saved model SavedModel format\n",
        "model_savedmodel = tf.keras.models.load_model('/content/best_model_SaveModel_format')\n"
      ],
      "metadata": {
        "id": "sn-TClB2DNlu"
      },
      "execution_count": 32,
      "outputs": []
    },
    {
      "cell_type": "code",
      "source": [
        "model_savedmodel.summary()"
      ],
      "metadata": {
        "colab": {
          "base_uri": "https://localhost:8080/"
        },
        "id": "u4mtJ3vYEYFt",
        "outputId": "b1e8b04d-3a8a-44b9-a99d-809932873d33"
      },
      "execution_count": 33,
      "outputs": [
        {
          "output_type": "stream",
          "name": "stdout",
          "text": [
            "Model: \"sequential_1\"\n",
            "_________________________________________________________________\n",
            " Layer (type)                Output Shape              Param #   \n",
            "=================================================================\n",
            " dense_1 (Dense)             (None, 50)                100       \n",
            "                                                                 \n",
            " dense_2 (Dense)             (None, 50)                2550      \n",
            "                                                                 \n",
            " dense_3 (Dense)             (None, 50)                2550      \n",
            "                                                                 \n",
            " dense_4 (Dense)             (None, 1)                 51        \n",
            "                                                                 \n",
            "=================================================================\n",
            "Total params: 5,251\n",
            "Trainable params: 5,251\n",
            "Non-trainable params: 0\n",
            "_________________________________________________________________\n"
          ]
        }
      ]
    },
    {
      "cell_type": "code",
      "source": [
        "model_hdf5 = tf.keras.models.load_model('/content/best_model_HDF5_format.h5')"
      ],
      "metadata": {
        "id": "mVE0R6MWEicZ"
      },
      "execution_count": 34,
      "outputs": []
    },
    {
      "cell_type": "code",
      "source": [
        "model_hdf5.summary()"
      ],
      "metadata": {
        "colab": {
          "base_uri": "https://localhost:8080/"
        },
        "id": "NcSxkv4EExgB",
        "outputId": "f5054240-6ed8-4e9a-b283-846b6dbd8636"
      },
      "execution_count": 35,
      "outputs": [
        {
          "output_type": "stream",
          "name": "stdout",
          "text": [
            "Model: \"sequential_1\"\n",
            "_________________________________________________________________\n",
            " Layer (type)                Output Shape              Param #   \n",
            "=================================================================\n",
            " dense_1 (Dense)             (None, 50)                100       \n",
            "                                                                 \n",
            " dense_2 (Dense)             (None, 50)                2550      \n",
            "                                                                 \n",
            " dense_3 (Dense)             (None, 50)                2550      \n",
            "                                                                 \n",
            " dense_4 (Dense)             (None, 1)                 51        \n",
            "                                                                 \n",
            "=================================================================\n",
            "Total params: 5,251\n",
            "Trainable params: 5,251\n",
            "Non-trainable params: 0\n",
            "_________________________________________________________________\n"
          ]
        }
      ]
    },
    {
      "cell_type": "code",
      "source": [
        "y2 = model_savedmodel.predict(X)"
      ],
      "metadata": {
        "colab": {
          "base_uri": "https://localhost:8080/"
        },
        "id": "6_T9lh92E2vy",
        "outputId": "150c9329-d5d6-4b65-9a7d-5bf2844b7b4c"
      },
      "execution_count": 36,
      "outputs": [
        {
          "output_type": "stream",
          "name": "stdout",
          "text": [
            "1/1 [==============================] - 0s 93ms/step\n"
          ]
        }
      ]
    },
    {
      "cell_type": "code",
      "source": [
        "y3 = model_hdf5.predict(X)"
      ],
      "metadata": {
        "colab": {
          "base_uri": "https://localhost:8080/"
        },
        "id": "-CsHqhFjFW8U",
        "outputId": "d4b051d9-56b7-4a9d-8d2c-f72fa145a078"
      },
      "execution_count": 37,
      "outputs": [
        {
          "output_type": "stream",
          "name": "stdout",
          "text": [
            "1/1 [==============================] - 0s 91ms/step\n"
          ]
        }
      ]
    },
    {
      "cell_type": "code",
      "source": [
        "y2==y3"
      ],
      "metadata": {
        "colab": {
          "base_uri": "https://localhost:8080/"
        },
        "id": "VLibt1N-FaYx",
        "outputId": "685af9af-f6bb-4fe3-89f6-cac256e3b8ff"
      },
      "execution_count": 38,
      "outputs": [
        {
          "output_type": "execute_result",
          "data": {
            "text/plain": [
              "array([[ True],\n",
              "       [ True],\n",
              "       [ True],\n",
              "       [ True],\n",
              "       [ True],\n",
              "       [ True],\n",
              "       [ True],\n",
              "       [ True]])"
            ]
          },
          "metadata": {},
          "execution_count": 38
        }
      ]
    },
    {
      "cell_type": "code",
      "source": [
        "tf.squeeze(y2) == y_predict"
      ],
      "metadata": {
        "colab": {
          "base_uri": "https://localhost:8080/"
        },
        "id": "XxRkzTkRFbyD",
        "outputId": "9dd6e887-3923-4407-8946-3807b83af812"
      },
      "execution_count": 39,
      "outputs": [
        {
          "output_type": "execute_result",
          "data": {
            "text/plain": [
              "<tf.Tensor: shape=(8,), dtype=bool, numpy=array([ True,  True,  True,  True,  True,  True,  True,  True])>"
            ]
          },
          "metadata": {},
          "execution_count": 39
        }
      ]
    },
    {
      "cell_type": "markdown",
      "source": [
        "## Insurance data set and creating model for it"
      ],
      "metadata": {
        "id": "ovocaEErPQor"
      }
    },
    {
      "cell_type": "markdown",
      "source": [
        "Get insurance data set and split data into x_train, y_traim, x_val, y_val"
      ],
      "metadata": {
        "id": "VIWTDCRtPcMd"
      }
    },
    {
      "cell_type": "code",
      "source": [
        "import pandas as pd"
      ],
      "metadata": {
        "id": "Fnoo3fCQFn2H"
      },
      "execution_count": 40,
      "outputs": []
    },
    {
      "cell_type": "code",
      "source": [
        "insurance = pd.read_csv('https://raw.githubusercontent.com/stedy/Machine-Learning-with-R-datasets/master/insurance.csv')"
      ],
      "metadata": {
        "id": "f8wb1iql1rVQ"
      },
      "execution_count": 41,
      "outputs": []
    },
    {
      "cell_type": "code",
      "source": [
        "insurance"
      ],
      "metadata": {
        "colab": {
          "base_uri": "https://localhost:8080/",
          "height": 424
        },
        "id": "trVkg3FC1yzp",
        "outputId": "1e88141a-a951-4d39-dc98-dbc92b76c98f"
      },
      "execution_count": 42,
      "outputs": [
        {
          "output_type": "execute_result",
          "data": {
            "text/plain": [
              "      age     sex     bmi  children smoker     region      charges\n",
              "0      19  female  27.900         0    yes  southwest  16884.92400\n",
              "1      18    male  33.770         1     no  southeast   1725.55230\n",
              "2      28    male  33.000         3     no  southeast   4449.46200\n",
              "3      33    male  22.705         0     no  northwest  21984.47061\n",
              "4      32    male  28.880         0     no  northwest   3866.85520\n",
              "...   ...     ...     ...       ...    ...        ...          ...\n",
              "1333   50    male  30.970         3     no  northwest  10600.54830\n",
              "1334   18  female  31.920         0     no  northeast   2205.98080\n",
              "1335   18  female  36.850         0     no  southeast   1629.83350\n",
              "1336   21  female  25.800         0     no  southwest   2007.94500\n",
              "1337   61  female  29.070         0    yes  northwest  29141.36030\n",
              "\n",
              "[1338 rows x 7 columns]"
            ],
            "text/html": [
              "\n",
              "  <div id=\"df-589a6d3f-e359-453f-a338-6bb8c398c77c\">\n",
              "    <div class=\"colab-df-container\">\n",
              "      <div>\n",
              "<style scoped>\n",
              "    .dataframe tbody tr th:only-of-type {\n",
              "        vertical-align: middle;\n",
              "    }\n",
              "\n",
              "    .dataframe tbody tr th {\n",
              "        vertical-align: top;\n",
              "    }\n",
              "\n",
              "    .dataframe thead th {\n",
              "        text-align: right;\n",
              "    }\n",
              "</style>\n",
              "<table border=\"1\" class=\"dataframe\">\n",
              "  <thead>\n",
              "    <tr style=\"text-align: right;\">\n",
              "      <th></th>\n",
              "      <th>age</th>\n",
              "      <th>sex</th>\n",
              "      <th>bmi</th>\n",
              "      <th>children</th>\n",
              "      <th>smoker</th>\n",
              "      <th>region</th>\n",
              "      <th>charges</th>\n",
              "    </tr>\n",
              "  </thead>\n",
              "  <tbody>\n",
              "    <tr>\n",
              "      <th>0</th>\n",
              "      <td>19</td>\n",
              "      <td>female</td>\n",
              "      <td>27.900</td>\n",
              "      <td>0</td>\n",
              "      <td>yes</td>\n",
              "      <td>southwest</td>\n",
              "      <td>16884.92400</td>\n",
              "    </tr>\n",
              "    <tr>\n",
              "      <th>1</th>\n",
              "      <td>18</td>\n",
              "      <td>male</td>\n",
              "      <td>33.770</td>\n",
              "      <td>1</td>\n",
              "      <td>no</td>\n",
              "      <td>southeast</td>\n",
              "      <td>1725.55230</td>\n",
              "    </tr>\n",
              "    <tr>\n",
              "      <th>2</th>\n",
              "      <td>28</td>\n",
              "      <td>male</td>\n",
              "      <td>33.000</td>\n",
              "      <td>3</td>\n",
              "      <td>no</td>\n",
              "      <td>southeast</td>\n",
              "      <td>4449.46200</td>\n",
              "    </tr>\n",
              "    <tr>\n",
              "      <th>3</th>\n",
              "      <td>33</td>\n",
              "      <td>male</td>\n",
              "      <td>22.705</td>\n",
              "      <td>0</td>\n",
              "      <td>no</td>\n",
              "      <td>northwest</td>\n",
              "      <td>21984.47061</td>\n",
              "    </tr>\n",
              "    <tr>\n",
              "      <th>4</th>\n",
              "      <td>32</td>\n",
              "      <td>male</td>\n",
              "      <td>28.880</td>\n",
              "      <td>0</td>\n",
              "      <td>no</td>\n",
              "      <td>northwest</td>\n",
              "      <td>3866.85520</td>\n",
              "    </tr>\n",
              "    <tr>\n",
              "      <th>...</th>\n",
              "      <td>...</td>\n",
              "      <td>...</td>\n",
              "      <td>...</td>\n",
              "      <td>...</td>\n",
              "      <td>...</td>\n",
              "      <td>...</td>\n",
              "      <td>...</td>\n",
              "    </tr>\n",
              "    <tr>\n",
              "      <th>1333</th>\n",
              "      <td>50</td>\n",
              "      <td>male</td>\n",
              "      <td>30.970</td>\n",
              "      <td>3</td>\n",
              "      <td>no</td>\n",
              "      <td>northwest</td>\n",
              "      <td>10600.54830</td>\n",
              "    </tr>\n",
              "    <tr>\n",
              "      <th>1334</th>\n",
              "      <td>18</td>\n",
              "      <td>female</td>\n",
              "      <td>31.920</td>\n",
              "      <td>0</td>\n",
              "      <td>no</td>\n",
              "      <td>northeast</td>\n",
              "      <td>2205.98080</td>\n",
              "    </tr>\n",
              "    <tr>\n",
              "      <th>1335</th>\n",
              "      <td>18</td>\n",
              "      <td>female</td>\n",
              "      <td>36.850</td>\n",
              "      <td>0</td>\n",
              "      <td>no</td>\n",
              "      <td>southeast</td>\n",
              "      <td>1629.83350</td>\n",
              "    </tr>\n",
              "    <tr>\n",
              "      <th>1336</th>\n",
              "      <td>21</td>\n",
              "      <td>female</td>\n",
              "      <td>25.800</td>\n",
              "      <td>0</td>\n",
              "      <td>no</td>\n",
              "      <td>southwest</td>\n",
              "      <td>2007.94500</td>\n",
              "    </tr>\n",
              "    <tr>\n",
              "      <th>1337</th>\n",
              "      <td>61</td>\n",
              "      <td>female</td>\n",
              "      <td>29.070</td>\n",
              "      <td>0</td>\n",
              "      <td>yes</td>\n",
              "      <td>northwest</td>\n",
              "      <td>29141.36030</td>\n",
              "    </tr>\n",
              "  </tbody>\n",
              "</table>\n",
              "<p>1338 rows × 7 columns</p>\n",
              "</div>\n",
              "      <button class=\"colab-df-convert\" onclick=\"convertToInteractive('df-589a6d3f-e359-453f-a338-6bb8c398c77c')\"\n",
              "              title=\"Convert this dataframe to an interactive table.\"\n",
              "              style=\"display:none;\">\n",
              "        \n",
              "  <svg xmlns=\"http://www.w3.org/2000/svg\" height=\"24px\"viewBox=\"0 0 24 24\"\n",
              "       width=\"24px\">\n",
              "    <path d=\"M0 0h24v24H0V0z\" fill=\"none\"/>\n",
              "    <path d=\"M18.56 5.44l.94 2.06.94-2.06 2.06-.94-2.06-.94-.94-2.06-.94 2.06-2.06.94zm-11 1L8.5 8.5l.94-2.06 2.06-.94-2.06-.94L8.5 2.5l-.94 2.06-2.06.94zm10 10l.94 2.06.94-2.06 2.06-.94-2.06-.94-.94-2.06-.94 2.06-2.06.94z\"/><path d=\"M17.41 7.96l-1.37-1.37c-.4-.4-.92-.59-1.43-.59-.52 0-1.04.2-1.43.59L10.3 9.45l-7.72 7.72c-.78.78-.78 2.05 0 2.83L4 21.41c.39.39.9.59 1.41.59.51 0 1.02-.2 1.41-.59l7.78-7.78 2.81-2.81c.8-.78.8-2.07 0-2.86zM5.41 20L4 18.59l7.72-7.72 1.47 1.35L5.41 20z\"/>\n",
              "  </svg>\n",
              "      </button>\n",
              "      \n",
              "  <style>\n",
              "    .colab-df-container {\n",
              "      display:flex;\n",
              "      flex-wrap:wrap;\n",
              "      gap: 12px;\n",
              "    }\n",
              "\n",
              "    .colab-df-convert {\n",
              "      background-color: #E8F0FE;\n",
              "      border: none;\n",
              "      border-radius: 50%;\n",
              "      cursor: pointer;\n",
              "      display: none;\n",
              "      fill: #1967D2;\n",
              "      height: 32px;\n",
              "      padding: 0 0 0 0;\n",
              "      width: 32px;\n",
              "    }\n",
              "\n",
              "    .colab-df-convert:hover {\n",
              "      background-color: #E2EBFA;\n",
              "      box-shadow: 0px 1px 2px rgba(60, 64, 67, 0.3), 0px 1px 3px 1px rgba(60, 64, 67, 0.15);\n",
              "      fill: #174EA6;\n",
              "    }\n",
              "\n",
              "    [theme=dark] .colab-df-convert {\n",
              "      background-color: #3B4455;\n",
              "      fill: #D2E3FC;\n",
              "    }\n",
              "\n",
              "    [theme=dark] .colab-df-convert:hover {\n",
              "      background-color: #434B5C;\n",
              "      box-shadow: 0px 1px 3px 1px rgba(0, 0, 0, 0.15);\n",
              "      filter: drop-shadow(0px 1px 2px rgba(0, 0, 0, 0.3));\n",
              "      fill: #FFFFFF;\n",
              "    }\n",
              "  </style>\n",
              "\n",
              "      <script>\n",
              "        const buttonEl =\n",
              "          document.querySelector('#df-589a6d3f-e359-453f-a338-6bb8c398c77c button.colab-df-convert');\n",
              "        buttonEl.style.display =\n",
              "          google.colab.kernel.accessAllowed ? 'block' : 'none';\n",
              "\n",
              "        async function convertToInteractive(key) {\n",
              "          const element = document.querySelector('#df-589a6d3f-e359-453f-a338-6bb8c398c77c');\n",
              "          const dataTable =\n",
              "            await google.colab.kernel.invokeFunction('convertToInteractive',\n",
              "                                                     [key], {});\n",
              "          if (!dataTable) return;\n",
              "\n",
              "          const docLinkHtml = 'Like what you see? Visit the ' +\n",
              "            '<a target=\"_blank\" href=https://colab.research.google.com/notebooks/data_table.ipynb>data table notebook</a>'\n",
              "            + ' to learn more about interactive tables.';\n",
              "          element.innerHTML = '';\n",
              "          dataTable['output_type'] = 'display_data';\n",
              "          await google.colab.output.renderOutput(dataTable, element);\n",
              "          const docLink = document.createElement('div');\n",
              "          docLink.innerHTML = docLinkHtml;\n",
              "          element.appendChild(docLink);\n",
              "        }\n",
              "      </script>\n",
              "    </div>\n",
              "  </div>\n",
              "  "
            ]
          },
          "metadata": {},
          "execution_count": 42
        }
      ]
    },
    {
      "cell_type": "code",
      "source": [
        "insurance.shape"
      ],
      "metadata": {
        "colab": {
          "base_uri": "https://localhost:8080/"
        },
        "id": "KFyHQPHN1_HI",
        "outputId": "da26f555-8281-4a35-dc06-4a32c48bfa43"
      },
      "execution_count": 43,
      "outputs": [
        {
          "output_type": "execute_result",
          "data": {
            "text/plain": [
              "(1338, 7)"
            ]
          },
          "metadata": {},
          "execution_count": 43
        }
      ]
    },
    {
      "cell_type": "code",
      "source": [
        "insurance.info()"
      ],
      "metadata": {
        "colab": {
          "base_uri": "https://localhost:8080/"
        },
        "id": "nwDZl3dF40sA",
        "outputId": "6cc72cfa-4932-47d3-cf62-893bae281bae"
      },
      "execution_count": 44,
      "outputs": [
        {
          "output_type": "stream",
          "name": "stdout",
          "text": [
            "<class 'pandas.core.frame.DataFrame'>\n",
            "RangeIndex: 1338 entries, 0 to 1337\n",
            "Data columns (total 7 columns):\n",
            " #   Column    Non-Null Count  Dtype  \n",
            "---  ------    --------------  -----  \n",
            " 0   age       1338 non-null   int64  \n",
            " 1   sex       1338 non-null   object \n",
            " 2   bmi       1338 non-null   float64\n",
            " 3   children  1338 non-null   int64  \n",
            " 4   smoker    1338 non-null   object \n",
            " 5   region    1338 non-null   object \n",
            " 6   charges   1338 non-null   float64\n",
            "dtypes: float64(2), int64(2), object(3)\n",
            "memory usage: 73.3+ KB\n"
          ]
        }
      ]
    },
    {
      "cell_type": "code",
      "source": [
        "pd.get_dummies(insurance)"
      ],
      "metadata": {
        "colab": {
          "base_uri": "https://localhost:8080/",
          "height": 424
        },
        "id": "hKNqkjR27Jma",
        "outputId": "f976ddaa-df8b-4a45-9aba-6250982f964a"
      },
      "execution_count": 45,
      "outputs": [
        {
          "output_type": "execute_result",
          "data": {
            "text/plain": [
              "      age     bmi  children      charges  sex_female  sex_male  smoker_no  \\\n",
              "0      19  27.900         0  16884.92400           1         0          0   \n",
              "1      18  33.770         1   1725.55230           0         1          1   \n",
              "2      28  33.000         3   4449.46200           0         1          1   \n",
              "3      33  22.705         0  21984.47061           0         1          1   \n",
              "4      32  28.880         0   3866.85520           0         1          1   \n",
              "...   ...     ...       ...          ...         ...       ...        ...   \n",
              "1333   50  30.970         3  10600.54830           0         1          1   \n",
              "1334   18  31.920         0   2205.98080           1         0          1   \n",
              "1335   18  36.850         0   1629.83350           1         0          1   \n",
              "1336   21  25.800         0   2007.94500           1         0          1   \n",
              "1337   61  29.070         0  29141.36030           1         0          0   \n",
              "\n",
              "      smoker_yes  region_northeast  region_northwest  region_southeast  \\\n",
              "0              1                 0                 0                 0   \n",
              "1              0                 0                 0                 1   \n",
              "2              0                 0                 0                 1   \n",
              "3              0                 0                 1                 0   \n",
              "4              0                 0                 1                 0   \n",
              "...          ...               ...               ...               ...   \n",
              "1333           0                 0                 1                 0   \n",
              "1334           0                 1                 0                 0   \n",
              "1335           0                 0                 0                 1   \n",
              "1336           0                 0                 0                 0   \n",
              "1337           1                 0                 1                 0   \n",
              "\n",
              "      region_southwest  \n",
              "0                    1  \n",
              "1                    0  \n",
              "2                    0  \n",
              "3                    0  \n",
              "4                    0  \n",
              "...                ...  \n",
              "1333                 0  \n",
              "1334                 0  \n",
              "1335                 0  \n",
              "1336                 1  \n",
              "1337                 0  \n",
              "\n",
              "[1338 rows x 12 columns]"
            ],
            "text/html": [
              "\n",
              "  <div id=\"df-785cefe6-d6ea-458b-8a85-81d3aeaf9cbf\">\n",
              "    <div class=\"colab-df-container\">\n",
              "      <div>\n",
              "<style scoped>\n",
              "    .dataframe tbody tr th:only-of-type {\n",
              "        vertical-align: middle;\n",
              "    }\n",
              "\n",
              "    .dataframe tbody tr th {\n",
              "        vertical-align: top;\n",
              "    }\n",
              "\n",
              "    .dataframe thead th {\n",
              "        text-align: right;\n",
              "    }\n",
              "</style>\n",
              "<table border=\"1\" class=\"dataframe\">\n",
              "  <thead>\n",
              "    <tr style=\"text-align: right;\">\n",
              "      <th></th>\n",
              "      <th>age</th>\n",
              "      <th>bmi</th>\n",
              "      <th>children</th>\n",
              "      <th>charges</th>\n",
              "      <th>sex_female</th>\n",
              "      <th>sex_male</th>\n",
              "      <th>smoker_no</th>\n",
              "      <th>smoker_yes</th>\n",
              "      <th>region_northeast</th>\n",
              "      <th>region_northwest</th>\n",
              "      <th>region_southeast</th>\n",
              "      <th>region_southwest</th>\n",
              "    </tr>\n",
              "  </thead>\n",
              "  <tbody>\n",
              "    <tr>\n",
              "      <th>0</th>\n",
              "      <td>19</td>\n",
              "      <td>27.900</td>\n",
              "      <td>0</td>\n",
              "      <td>16884.92400</td>\n",
              "      <td>1</td>\n",
              "      <td>0</td>\n",
              "      <td>0</td>\n",
              "      <td>1</td>\n",
              "      <td>0</td>\n",
              "      <td>0</td>\n",
              "      <td>0</td>\n",
              "      <td>1</td>\n",
              "    </tr>\n",
              "    <tr>\n",
              "      <th>1</th>\n",
              "      <td>18</td>\n",
              "      <td>33.770</td>\n",
              "      <td>1</td>\n",
              "      <td>1725.55230</td>\n",
              "      <td>0</td>\n",
              "      <td>1</td>\n",
              "      <td>1</td>\n",
              "      <td>0</td>\n",
              "      <td>0</td>\n",
              "      <td>0</td>\n",
              "      <td>1</td>\n",
              "      <td>0</td>\n",
              "    </tr>\n",
              "    <tr>\n",
              "      <th>2</th>\n",
              "      <td>28</td>\n",
              "      <td>33.000</td>\n",
              "      <td>3</td>\n",
              "      <td>4449.46200</td>\n",
              "      <td>0</td>\n",
              "      <td>1</td>\n",
              "      <td>1</td>\n",
              "      <td>0</td>\n",
              "      <td>0</td>\n",
              "      <td>0</td>\n",
              "      <td>1</td>\n",
              "      <td>0</td>\n",
              "    </tr>\n",
              "    <tr>\n",
              "      <th>3</th>\n",
              "      <td>33</td>\n",
              "      <td>22.705</td>\n",
              "      <td>0</td>\n",
              "      <td>21984.47061</td>\n",
              "      <td>0</td>\n",
              "      <td>1</td>\n",
              "      <td>1</td>\n",
              "      <td>0</td>\n",
              "      <td>0</td>\n",
              "      <td>1</td>\n",
              "      <td>0</td>\n",
              "      <td>0</td>\n",
              "    </tr>\n",
              "    <tr>\n",
              "      <th>4</th>\n",
              "      <td>32</td>\n",
              "      <td>28.880</td>\n",
              "      <td>0</td>\n",
              "      <td>3866.85520</td>\n",
              "      <td>0</td>\n",
              "      <td>1</td>\n",
              "      <td>1</td>\n",
              "      <td>0</td>\n",
              "      <td>0</td>\n",
              "      <td>1</td>\n",
              "      <td>0</td>\n",
              "      <td>0</td>\n",
              "    </tr>\n",
              "    <tr>\n",
              "      <th>...</th>\n",
              "      <td>...</td>\n",
              "      <td>...</td>\n",
              "      <td>...</td>\n",
              "      <td>...</td>\n",
              "      <td>...</td>\n",
              "      <td>...</td>\n",
              "      <td>...</td>\n",
              "      <td>...</td>\n",
              "      <td>...</td>\n",
              "      <td>...</td>\n",
              "      <td>...</td>\n",
              "      <td>...</td>\n",
              "    </tr>\n",
              "    <tr>\n",
              "      <th>1333</th>\n",
              "      <td>50</td>\n",
              "      <td>30.970</td>\n",
              "      <td>3</td>\n",
              "      <td>10600.54830</td>\n",
              "      <td>0</td>\n",
              "      <td>1</td>\n",
              "      <td>1</td>\n",
              "      <td>0</td>\n",
              "      <td>0</td>\n",
              "      <td>1</td>\n",
              "      <td>0</td>\n",
              "      <td>0</td>\n",
              "    </tr>\n",
              "    <tr>\n",
              "      <th>1334</th>\n",
              "      <td>18</td>\n",
              "      <td>31.920</td>\n",
              "      <td>0</td>\n",
              "      <td>2205.98080</td>\n",
              "      <td>1</td>\n",
              "      <td>0</td>\n",
              "      <td>1</td>\n",
              "      <td>0</td>\n",
              "      <td>1</td>\n",
              "      <td>0</td>\n",
              "      <td>0</td>\n",
              "      <td>0</td>\n",
              "    </tr>\n",
              "    <tr>\n",
              "      <th>1335</th>\n",
              "      <td>18</td>\n",
              "      <td>36.850</td>\n",
              "      <td>0</td>\n",
              "      <td>1629.83350</td>\n",
              "      <td>1</td>\n",
              "      <td>0</td>\n",
              "      <td>1</td>\n",
              "      <td>0</td>\n",
              "      <td>0</td>\n",
              "      <td>0</td>\n",
              "      <td>1</td>\n",
              "      <td>0</td>\n",
              "    </tr>\n",
              "    <tr>\n",
              "      <th>1336</th>\n",
              "      <td>21</td>\n",
              "      <td>25.800</td>\n",
              "      <td>0</td>\n",
              "      <td>2007.94500</td>\n",
              "      <td>1</td>\n",
              "      <td>0</td>\n",
              "      <td>1</td>\n",
              "      <td>0</td>\n",
              "      <td>0</td>\n",
              "      <td>0</td>\n",
              "      <td>0</td>\n",
              "      <td>1</td>\n",
              "    </tr>\n",
              "    <tr>\n",
              "      <th>1337</th>\n",
              "      <td>61</td>\n",
              "      <td>29.070</td>\n",
              "      <td>0</td>\n",
              "      <td>29141.36030</td>\n",
              "      <td>1</td>\n",
              "      <td>0</td>\n",
              "      <td>0</td>\n",
              "      <td>1</td>\n",
              "      <td>0</td>\n",
              "      <td>1</td>\n",
              "      <td>0</td>\n",
              "      <td>0</td>\n",
              "    </tr>\n",
              "  </tbody>\n",
              "</table>\n",
              "<p>1338 rows × 12 columns</p>\n",
              "</div>\n",
              "      <button class=\"colab-df-convert\" onclick=\"convertToInteractive('df-785cefe6-d6ea-458b-8a85-81d3aeaf9cbf')\"\n",
              "              title=\"Convert this dataframe to an interactive table.\"\n",
              "              style=\"display:none;\">\n",
              "        \n",
              "  <svg xmlns=\"http://www.w3.org/2000/svg\" height=\"24px\"viewBox=\"0 0 24 24\"\n",
              "       width=\"24px\">\n",
              "    <path d=\"M0 0h24v24H0V0z\" fill=\"none\"/>\n",
              "    <path d=\"M18.56 5.44l.94 2.06.94-2.06 2.06-.94-2.06-.94-.94-2.06-.94 2.06-2.06.94zm-11 1L8.5 8.5l.94-2.06 2.06-.94-2.06-.94L8.5 2.5l-.94 2.06-2.06.94zm10 10l.94 2.06.94-2.06 2.06-.94-2.06-.94-.94-2.06-.94 2.06-2.06.94z\"/><path d=\"M17.41 7.96l-1.37-1.37c-.4-.4-.92-.59-1.43-.59-.52 0-1.04.2-1.43.59L10.3 9.45l-7.72 7.72c-.78.78-.78 2.05 0 2.83L4 21.41c.39.39.9.59 1.41.59.51 0 1.02-.2 1.41-.59l7.78-7.78 2.81-2.81c.8-.78.8-2.07 0-2.86zM5.41 20L4 18.59l7.72-7.72 1.47 1.35L5.41 20z\"/>\n",
              "  </svg>\n",
              "      </button>\n",
              "      \n",
              "  <style>\n",
              "    .colab-df-container {\n",
              "      display:flex;\n",
              "      flex-wrap:wrap;\n",
              "      gap: 12px;\n",
              "    }\n",
              "\n",
              "    .colab-df-convert {\n",
              "      background-color: #E8F0FE;\n",
              "      border: none;\n",
              "      border-radius: 50%;\n",
              "      cursor: pointer;\n",
              "      display: none;\n",
              "      fill: #1967D2;\n",
              "      height: 32px;\n",
              "      padding: 0 0 0 0;\n",
              "      width: 32px;\n",
              "    }\n",
              "\n",
              "    .colab-df-convert:hover {\n",
              "      background-color: #E2EBFA;\n",
              "      box-shadow: 0px 1px 2px rgba(60, 64, 67, 0.3), 0px 1px 3px 1px rgba(60, 64, 67, 0.15);\n",
              "      fill: #174EA6;\n",
              "    }\n",
              "\n",
              "    [theme=dark] .colab-df-convert {\n",
              "      background-color: #3B4455;\n",
              "      fill: #D2E3FC;\n",
              "    }\n",
              "\n",
              "    [theme=dark] .colab-df-convert:hover {\n",
              "      background-color: #434B5C;\n",
              "      box-shadow: 0px 1px 3px 1px rgba(0, 0, 0, 0.15);\n",
              "      filter: drop-shadow(0px 1px 2px rgba(0, 0, 0, 0.3));\n",
              "      fill: #FFFFFF;\n",
              "    }\n",
              "  </style>\n",
              "\n",
              "      <script>\n",
              "        const buttonEl =\n",
              "          document.querySelector('#df-785cefe6-d6ea-458b-8a85-81d3aeaf9cbf button.colab-df-convert');\n",
              "        buttonEl.style.display =\n",
              "          google.colab.kernel.accessAllowed ? 'block' : 'none';\n",
              "\n",
              "        async function convertToInteractive(key) {\n",
              "          const element = document.querySelector('#df-785cefe6-d6ea-458b-8a85-81d3aeaf9cbf');\n",
              "          const dataTable =\n",
              "            await google.colab.kernel.invokeFunction('convertToInteractive',\n",
              "                                                     [key], {});\n",
              "          if (!dataTable) return;\n",
              "\n",
              "          const docLinkHtml = 'Like what you see? Visit the ' +\n",
              "            '<a target=\"_blank\" href=https://colab.research.google.com/notebooks/data_table.ipynb>data table notebook</a>'\n",
              "            + ' to learn more about interactive tables.';\n",
              "          element.innerHTML = '';\n",
              "          dataTable['output_type'] = 'display_data';\n",
              "          await google.colab.output.renderOutput(dataTable, element);\n",
              "          const docLink = document.createElement('div');\n",
              "          docLink.innerHTML = docLinkHtml;\n",
              "          element.appendChild(docLink);\n",
              "        }\n",
              "      </script>\n",
              "    </div>\n",
              "  </div>\n",
              "  "
            ]
          },
          "metadata": {},
          "execution_count": 45
        }
      ]
    },
    {
      "cell_type": "code",
      "source": [
        "data_insurance = pd.get_dummies(insurance)"
      ],
      "metadata": {
        "id": "VjWGAd977tre"
      },
      "execution_count": 46,
      "outputs": []
    },
    {
      "cell_type": "code",
      "source": [
        "X_data = data_insurance.loc[:, ~data_insurance.columns.isin([\"charges\"])]"
      ],
      "metadata": {
        "id": "GfnwDUl4774z"
      },
      "execution_count": 47,
      "outputs": []
    },
    {
      "cell_type": "code",
      "source": [
        "X_data.shape\n",
        "X_data.head()"
      ],
      "metadata": {
        "colab": {
          "base_uri": "https://localhost:8080/",
          "height": 206
        },
        "id": "znflM57T8owB",
        "outputId": "3fca995f-1541-4fdc-ba12-855fd131d666"
      },
      "execution_count": 48,
      "outputs": [
        {
          "output_type": "execute_result",
          "data": {
            "text/plain": [
              "   age     bmi  children  sex_female  sex_male  smoker_no  smoker_yes  \\\n",
              "0   19  27.900         0           1         0          0           1   \n",
              "1   18  33.770         1           0         1          1           0   \n",
              "2   28  33.000         3           0         1          1           0   \n",
              "3   33  22.705         0           0         1          1           0   \n",
              "4   32  28.880         0           0         1          1           0   \n",
              "\n",
              "   region_northeast  region_northwest  region_southeast  region_southwest  \n",
              "0                 0                 0                 0                 1  \n",
              "1                 0                 0                 1                 0  \n",
              "2                 0                 0                 1                 0  \n",
              "3                 0                 1                 0                 0  \n",
              "4                 0                 1                 0                 0  "
            ],
            "text/html": [
              "\n",
              "  <div id=\"df-6d97c21a-84d9-4a93-a1ec-49ca88cee4d8\">\n",
              "    <div class=\"colab-df-container\">\n",
              "      <div>\n",
              "<style scoped>\n",
              "    .dataframe tbody tr th:only-of-type {\n",
              "        vertical-align: middle;\n",
              "    }\n",
              "\n",
              "    .dataframe tbody tr th {\n",
              "        vertical-align: top;\n",
              "    }\n",
              "\n",
              "    .dataframe thead th {\n",
              "        text-align: right;\n",
              "    }\n",
              "</style>\n",
              "<table border=\"1\" class=\"dataframe\">\n",
              "  <thead>\n",
              "    <tr style=\"text-align: right;\">\n",
              "      <th></th>\n",
              "      <th>age</th>\n",
              "      <th>bmi</th>\n",
              "      <th>children</th>\n",
              "      <th>sex_female</th>\n",
              "      <th>sex_male</th>\n",
              "      <th>smoker_no</th>\n",
              "      <th>smoker_yes</th>\n",
              "      <th>region_northeast</th>\n",
              "      <th>region_northwest</th>\n",
              "      <th>region_southeast</th>\n",
              "      <th>region_southwest</th>\n",
              "    </tr>\n",
              "  </thead>\n",
              "  <tbody>\n",
              "    <tr>\n",
              "      <th>0</th>\n",
              "      <td>19</td>\n",
              "      <td>27.900</td>\n",
              "      <td>0</td>\n",
              "      <td>1</td>\n",
              "      <td>0</td>\n",
              "      <td>0</td>\n",
              "      <td>1</td>\n",
              "      <td>0</td>\n",
              "      <td>0</td>\n",
              "      <td>0</td>\n",
              "      <td>1</td>\n",
              "    </tr>\n",
              "    <tr>\n",
              "      <th>1</th>\n",
              "      <td>18</td>\n",
              "      <td>33.770</td>\n",
              "      <td>1</td>\n",
              "      <td>0</td>\n",
              "      <td>1</td>\n",
              "      <td>1</td>\n",
              "      <td>0</td>\n",
              "      <td>0</td>\n",
              "      <td>0</td>\n",
              "      <td>1</td>\n",
              "      <td>0</td>\n",
              "    </tr>\n",
              "    <tr>\n",
              "      <th>2</th>\n",
              "      <td>28</td>\n",
              "      <td>33.000</td>\n",
              "      <td>3</td>\n",
              "      <td>0</td>\n",
              "      <td>1</td>\n",
              "      <td>1</td>\n",
              "      <td>0</td>\n",
              "      <td>0</td>\n",
              "      <td>0</td>\n",
              "      <td>1</td>\n",
              "      <td>0</td>\n",
              "    </tr>\n",
              "    <tr>\n",
              "      <th>3</th>\n",
              "      <td>33</td>\n",
              "      <td>22.705</td>\n",
              "      <td>0</td>\n",
              "      <td>0</td>\n",
              "      <td>1</td>\n",
              "      <td>1</td>\n",
              "      <td>0</td>\n",
              "      <td>0</td>\n",
              "      <td>1</td>\n",
              "      <td>0</td>\n",
              "      <td>0</td>\n",
              "    </tr>\n",
              "    <tr>\n",
              "      <th>4</th>\n",
              "      <td>32</td>\n",
              "      <td>28.880</td>\n",
              "      <td>0</td>\n",
              "      <td>0</td>\n",
              "      <td>1</td>\n",
              "      <td>1</td>\n",
              "      <td>0</td>\n",
              "      <td>0</td>\n",
              "      <td>1</td>\n",
              "      <td>0</td>\n",
              "      <td>0</td>\n",
              "    </tr>\n",
              "  </tbody>\n",
              "</table>\n",
              "</div>\n",
              "      <button class=\"colab-df-convert\" onclick=\"convertToInteractive('df-6d97c21a-84d9-4a93-a1ec-49ca88cee4d8')\"\n",
              "              title=\"Convert this dataframe to an interactive table.\"\n",
              "              style=\"display:none;\">\n",
              "        \n",
              "  <svg xmlns=\"http://www.w3.org/2000/svg\" height=\"24px\"viewBox=\"0 0 24 24\"\n",
              "       width=\"24px\">\n",
              "    <path d=\"M0 0h24v24H0V0z\" fill=\"none\"/>\n",
              "    <path d=\"M18.56 5.44l.94 2.06.94-2.06 2.06-.94-2.06-.94-.94-2.06-.94 2.06-2.06.94zm-11 1L8.5 8.5l.94-2.06 2.06-.94-2.06-.94L8.5 2.5l-.94 2.06-2.06.94zm10 10l.94 2.06.94-2.06 2.06-.94-2.06-.94-.94-2.06-.94 2.06-2.06.94z\"/><path d=\"M17.41 7.96l-1.37-1.37c-.4-.4-.92-.59-1.43-.59-.52 0-1.04.2-1.43.59L10.3 9.45l-7.72 7.72c-.78.78-.78 2.05 0 2.83L4 21.41c.39.39.9.59 1.41.59.51 0 1.02-.2 1.41-.59l7.78-7.78 2.81-2.81c.8-.78.8-2.07 0-2.86zM5.41 20L4 18.59l7.72-7.72 1.47 1.35L5.41 20z\"/>\n",
              "  </svg>\n",
              "      </button>\n",
              "      \n",
              "  <style>\n",
              "    .colab-df-container {\n",
              "      display:flex;\n",
              "      flex-wrap:wrap;\n",
              "      gap: 12px;\n",
              "    }\n",
              "\n",
              "    .colab-df-convert {\n",
              "      background-color: #E8F0FE;\n",
              "      border: none;\n",
              "      border-radius: 50%;\n",
              "      cursor: pointer;\n",
              "      display: none;\n",
              "      fill: #1967D2;\n",
              "      height: 32px;\n",
              "      padding: 0 0 0 0;\n",
              "      width: 32px;\n",
              "    }\n",
              "\n",
              "    .colab-df-convert:hover {\n",
              "      background-color: #E2EBFA;\n",
              "      box-shadow: 0px 1px 2px rgba(60, 64, 67, 0.3), 0px 1px 3px 1px rgba(60, 64, 67, 0.15);\n",
              "      fill: #174EA6;\n",
              "    }\n",
              "\n",
              "    [theme=dark] .colab-df-convert {\n",
              "      background-color: #3B4455;\n",
              "      fill: #D2E3FC;\n",
              "    }\n",
              "\n",
              "    [theme=dark] .colab-df-convert:hover {\n",
              "      background-color: #434B5C;\n",
              "      box-shadow: 0px 1px 3px 1px rgba(0, 0, 0, 0.15);\n",
              "      filter: drop-shadow(0px 1px 2px rgba(0, 0, 0, 0.3));\n",
              "      fill: #FFFFFF;\n",
              "    }\n",
              "  </style>\n",
              "\n",
              "      <script>\n",
              "        const buttonEl =\n",
              "          document.querySelector('#df-6d97c21a-84d9-4a93-a1ec-49ca88cee4d8 button.colab-df-convert');\n",
              "        buttonEl.style.display =\n",
              "          google.colab.kernel.accessAllowed ? 'block' : 'none';\n",
              "\n",
              "        async function convertToInteractive(key) {\n",
              "          const element = document.querySelector('#df-6d97c21a-84d9-4a93-a1ec-49ca88cee4d8');\n",
              "          const dataTable =\n",
              "            await google.colab.kernel.invokeFunction('convertToInteractive',\n",
              "                                                     [key], {});\n",
              "          if (!dataTable) return;\n",
              "\n",
              "          const docLinkHtml = 'Like what you see? Visit the ' +\n",
              "            '<a target=\"_blank\" href=https://colab.research.google.com/notebooks/data_table.ipynb>data table notebook</a>'\n",
              "            + ' to learn more about interactive tables.';\n",
              "          element.innerHTML = '';\n",
              "          dataTable['output_type'] = 'display_data';\n",
              "          await google.colab.output.renderOutput(dataTable, element);\n",
              "          const docLink = document.createElement('div');\n",
              "          docLink.innerHTML = docLinkHtml;\n",
              "          element.appendChild(docLink);\n",
              "        }\n",
              "      </script>\n",
              "    </div>\n",
              "  </div>\n",
              "  "
            ]
          },
          "metadata": {},
          "execution_count": 48
        }
      ]
    },
    {
      "cell_type": "code",
      "source": [
        "Y = data_insurance.charges"
      ],
      "metadata": {
        "id": "rTF4vApv9S2j"
      },
      "execution_count": 49,
      "outputs": []
    },
    {
      "cell_type": "code",
      "source": [
        "Y.shape"
      ],
      "metadata": {
        "colab": {
          "base_uri": "https://localhost:8080/"
        },
        "id": "qnK-jYLD9Zcy",
        "outputId": "d0694adf-5054-40f1-c23d-8a6846d6af8a"
      },
      "execution_count": 50,
      "outputs": [
        {
          "output_type": "execute_result",
          "data": {
            "text/plain": [
              "(1338,)"
            ]
          },
          "metadata": {},
          "execution_count": 50
        }
      ]
    },
    {
      "cell_type": "code",
      "source": [
        "Y.head()"
      ],
      "metadata": {
        "colab": {
          "base_uri": "https://localhost:8080/"
        },
        "id": "A_y1EPhc9art",
        "outputId": "d0ab3ca4-13c0-463f-fdb3-2bb5abb97e4c"
      },
      "execution_count": 51,
      "outputs": [
        {
          "output_type": "execute_result",
          "data": {
            "text/plain": [
              "0    16884.92400\n",
              "1     1725.55230\n",
              "2     4449.46200\n",
              "3    21984.47061\n",
              "4     3866.85520\n",
              "Name: charges, dtype: float64"
            ]
          },
          "metadata": {},
          "execution_count": 51
        }
      ]
    },
    {
      "cell_type": "code",
      "source": [
        "from  sklearn.model_selection import train_test_split"
      ],
      "metadata": {
        "id": "0wUF6HA09lxu"
      },
      "execution_count": 52,
      "outputs": []
    },
    {
      "cell_type": "code",
      "source": [
        "np.random.seed(42)\n",
        "X_train, X_val, y_train, y_val = train_test_split(X_data, Y, test_size = 0.2, random_state = 42)"
      ],
      "metadata": {
        "id": "_vy53AzC9cgF"
      },
      "execution_count": 53,
      "outputs": []
    },
    {
      "cell_type": "code",
      "source": [
        "X_train.shape,y_train.shape"
      ],
      "metadata": {
        "colab": {
          "base_uri": "https://localhost:8080/"
        },
        "id": "kGIZ7WX0Bb2y",
        "outputId": "74f4c59f-dde4-43f2-943e-3ed5ca001c6e"
      },
      "execution_count": 54,
      "outputs": [
        {
          "output_type": "execute_result",
          "data": {
            "text/plain": [
              "((1070, 11), (1070,))"
            ]
          },
          "metadata": {},
          "execution_count": 54
        }
      ]
    },
    {
      "cell_type": "code",
      "source": [
        "X_val.shape,y_val.shape"
      ],
      "metadata": {
        "colab": {
          "base_uri": "https://localhost:8080/"
        },
        "id": "0qlEeiKNB0vW",
        "outputId": "73fe3936-0438-4231-9ef9-61187148c7d9"
      },
      "execution_count": 55,
      "outputs": [
        {
          "output_type": "execute_result",
          "data": {
            "text/plain": [
              "((268, 11), (268,))"
            ]
          },
          "metadata": {},
          "execution_count": 55
        }
      ]
    },
    {
      "cell_type": "markdown",
      "source": [
        "### Create a model and built"
      ],
      "metadata": {
        "id": "DcoSE6TAPsyw"
      }
    },
    {
      "cell_type": "code",
      "source": [
        "# Create a model\n",
        "tf.random.set_seed(42)"
      ],
      "metadata": {
        "id": "p9BWw0mVCAZX"
      },
      "execution_count": 56,
      "outputs": []
    },
    {
      "cell_type": "code",
      "source": [
        "insurance_model = tf.keras.Sequential()\n",
        "insurance_model.add(tf.keras.layers.Input((11,)))\n",
        "insurance_model.add(tf.keras.layers.Dense(100))\n",
        "insurance_model.add(tf.keras.layers.Dense(100))\n",
        "insurance_model.add(tf.keras.layers.Dense(1))\n",
        "\n",
        "insurance_model.compile(optimizer = tf.keras.optimizers.Adam(), loss = tf.keras.losses.mae, metrics = ['mae'])\n",
        "insurance_model.summary()\n"
      ],
      "metadata": {
        "colab": {
          "base_uri": "https://localhost:8080/"
        },
        "id": "nJogW_6FDg7r",
        "outputId": "74ea2dec-29e8-45a6-bb2c-30ae0378904f"
      },
      "execution_count": 57,
      "outputs": [
        {
          "output_type": "stream",
          "name": "stdout",
          "text": [
            "Model: \"sequential_2\"\n",
            "_________________________________________________________________\n",
            " Layer (type)                Output Shape              Param #   \n",
            "=================================================================\n",
            " dense_5 (Dense)             (None, 100)               1200      \n",
            "                                                                 \n",
            " dense_6 (Dense)             (None, 100)               10100     \n",
            "                                                                 \n",
            " dense_7 (Dense)             (None, 1)                 101       \n",
            "                                                                 \n",
            "=================================================================\n",
            "Total params: 11,401\n",
            "Trainable params: 11,401\n",
            "Non-trainable params: 0\n",
            "_________________________________________________________________\n"
          ]
        }
      ]
    },
    {
      "cell_type": "code",
      "source": [
        "history = insurance_model.fit(X_train, y_train, epochs = 100, validation_data= (X_val, y_val))"
      ],
      "metadata": {
        "colab": {
          "base_uri": "https://localhost:8080/"
        },
        "id": "jIBiIutdEz2Y",
        "outputId": "3e99d4e6-9a8e-4a0b-ca41-e86314acf7cf"
      },
      "execution_count": 58,
      "outputs": [
        {
          "output_type": "stream",
          "name": "stdout",
          "text": [
            "Epoch 1/100\n",
            "34/34 [==============================] - 2s 9ms/step - loss: 13181.0996 - mae: 13181.0996 - val_loss: 12556.1885 - val_mae: 12556.1885\n",
            "Epoch 2/100\n",
            "34/34 [==============================] - 0s 4ms/step - loss: 12421.1592 - mae: 12421.1592 - val_loss: 11226.7705 - val_mae: 11226.7705\n",
            "Epoch 3/100\n",
            "34/34 [==============================] - 0s 4ms/step - loss: 10364.9092 - mae: 10364.9092 - val_loss: 8607.7627 - val_mae: 8607.7627\n",
            "Epoch 4/100\n",
            "34/34 [==============================] - 0s 4ms/step - loss: 7885.4619 - mae: 7885.4619 - val_loss: 7657.2578 - val_mae: 7657.2578\n",
            "Epoch 5/100\n",
            "34/34 [==============================] - 0s 5ms/step - loss: 7484.5205 - mae: 7484.5205 - val_loss: 7610.7241 - val_mae: 7610.7241\n",
            "Epoch 6/100\n",
            "34/34 [==============================] - 0s 4ms/step - loss: 7442.4624 - mae: 7442.4624 - val_loss: 7563.7754 - val_mae: 7563.7754\n",
            "Epoch 7/100\n",
            "34/34 [==============================] - 0s 5ms/step - loss: 7393.6538 - mae: 7393.6538 - val_loss: 7510.1538 - val_mae: 7510.1538\n",
            "Epoch 8/100\n",
            "34/34 [==============================] - 0s 4ms/step - loss: 7354.9746 - mae: 7354.9746 - val_loss: 7460.2285 - val_mae: 7460.2285\n",
            "Epoch 9/100\n",
            "34/34 [==============================] - 0s 4ms/step - loss: 7314.9609 - mae: 7314.9609 - val_loss: 7409.8516 - val_mae: 7409.8516\n",
            "Epoch 10/100\n",
            "34/34 [==============================] - 0s 5ms/step - loss: 7276.9263 - mae: 7276.9263 - val_loss: 7356.7354 - val_mae: 7356.7354\n",
            "Epoch 11/100\n",
            "34/34 [==============================] - 0s 4ms/step - loss: 7240.4785 - mae: 7240.4785 - val_loss: 7303.2256 - val_mae: 7303.2256\n",
            "Epoch 12/100\n",
            "34/34 [==============================] - 0s 4ms/step - loss: 7192.7456 - mae: 7192.7456 - val_loss: 7253.2456 - val_mae: 7253.2456\n",
            "Epoch 13/100\n",
            "34/34 [==============================] - 0s 4ms/step - loss: 7148.3203 - mae: 7148.3203 - val_loss: 7189.7642 - val_mae: 7189.7642\n",
            "Epoch 14/100\n",
            "34/34 [==============================] - 0s 4ms/step - loss: 7099.5161 - mae: 7099.5161 - val_loss: 7129.1973 - val_mae: 7129.1973\n",
            "Epoch 15/100\n",
            "34/34 [==============================] - 0s 4ms/step - loss: 7056.0703 - mae: 7056.0703 - val_loss: 7065.9224 - val_mae: 7065.9224\n",
            "Epoch 16/100\n",
            "34/34 [==============================] - 0s 4ms/step - loss: 7001.1924 - mae: 7001.1924 - val_loss: 7004.9395 - val_mae: 7004.9390\n",
            "Epoch 17/100\n",
            "34/34 [==============================] - 0s 4ms/step - loss: 6955.6475 - mae: 6955.6475 - val_loss: 6928.1709 - val_mae: 6928.1709\n",
            "Epoch 18/100\n",
            "34/34 [==============================] - 0s 6ms/step - loss: 6894.4165 - mae: 6894.4165 - val_loss: 6858.3696 - val_mae: 6858.3696\n",
            "Epoch 19/100\n",
            "34/34 [==============================] - 0s 4ms/step - loss: 6837.7329 - mae: 6837.7329 - val_loss: 6778.1768 - val_mae: 6778.1768\n",
            "Epoch 20/100\n",
            "34/34 [==============================] - 0s 4ms/step - loss: 6776.1577 - mae: 6776.1577 - val_loss: 6694.9639 - val_mae: 6694.9639\n",
            "Epoch 21/100\n",
            "34/34 [==============================] - 0s 4ms/step - loss: 6712.1060 - mae: 6712.1060 - val_loss: 6624.1938 - val_mae: 6624.1938\n",
            "Epoch 22/100\n",
            "34/34 [==============================] - 0s 4ms/step - loss: 6662.6382 - mae: 6662.6382 - val_loss: 6521.2383 - val_mae: 6521.2383\n",
            "Epoch 23/100\n",
            "34/34 [==============================] - 0s 4ms/step - loss: 6592.2383 - mae: 6592.2383 - val_loss: 6449.7212 - val_mae: 6449.7212\n",
            "Epoch 24/100\n",
            "34/34 [==============================] - 0s 4ms/step - loss: 6542.7515 - mae: 6542.7515 - val_loss: 6406.1313 - val_mae: 6406.1313\n",
            "Epoch 25/100\n",
            "34/34 [==============================] - 0s 4ms/step - loss: 6496.0796 - mae: 6496.0796 - val_loss: 6339.7266 - val_mae: 6339.7266\n",
            "Epoch 26/100\n",
            "34/34 [==============================] - 0s 4ms/step - loss: 6470.7998 - mae: 6470.7998 - val_loss: 6311.5225 - val_mae: 6311.5225\n",
            "Epoch 27/100\n",
            "34/34 [==============================] - 0s 5ms/step - loss: 6446.3276 - mae: 6446.3276 - val_loss: 6283.3267 - val_mae: 6283.3267\n",
            "Epoch 28/100\n",
            "34/34 [==============================] - 0s 4ms/step - loss: 6419.6274 - mae: 6419.6274 - val_loss: 6255.0776 - val_mae: 6255.0776\n",
            "Epoch 29/100\n",
            "34/34 [==============================] - 0s 4ms/step - loss: 6393.1816 - mae: 6393.1816 - val_loss: 6236.9185 - val_mae: 6236.9185\n",
            "Epoch 30/100\n",
            "34/34 [==============================] - 0s 5ms/step - loss: 6375.3057 - mae: 6375.3057 - val_loss: 6202.7803 - val_mae: 6202.7803\n",
            "Epoch 31/100\n",
            "34/34 [==============================] - 0s 4ms/step - loss: 6345.8486 - mae: 6345.8486 - val_loss: 6188.0029 - val_mae: 6188.0029\n",
            "Epoch 32/100\n",
            "34/34 [==============================] - 0s 4ms/step - loss: 6320.2017 - mae: 6320.2017 - val_loss: 6157.6670 - val_mae: 6157.6670\n",
            "Epoch 33/100\n",
            "34/34 [==============================] - 0s 4ms/step - loss: 6294.5171 - mae: 6294.5171 - val_loss: 6123.8203 - val_mae: 6123.8203\n",
            "Epoch 34/100\n",
            "34/34 [==============================] - 0s 4ms/step - loss: 6271.4653 - mae: 6271.4653 - val_loss: 6128.2100 - val_mae: 6128.2100\n",
            "Epoch 35/100\n",
            "34/34 [==============================] - 0s 4ms/step - loss: 6243.0127 - mae: 6243.0127 - val_loss: 6069.5498 - val_mae: 6069.5498\n",
            "Epoch 36/100\n",
            "34/34 [==============================] - 0s 4ms/step - loss: 6210.1353 - mae: 6210.1353 - val_loss: 6040.3882 - val_mae: 6040.3882\n",
            "Epoch 37/100\n",
            "34/34 [==============================] - 0s 5ms/step - loss: 6179.6182 - mae: 6179.6182 - val_loss: 6004.5698 - val_mae: 6004.5698\n",
            "Epoch 38/100\n",
            "34/34 [==============================] - 0s 4ms/step - loss: 6147.5938 - mae: 6147.5938 - val_loss: 5971.5220 - val_mae: 5971.5220\n",
            "Epoch 39/100\n",
            "34/34 [==============================] - 0s 4ms/step - loss: 6116.8960 - mae: 6116.8960 - val_loss: 5938.6260 - val_mae: 5938.6260\n",
            "Epoch 40/100\n",
            "34/34 [==============================] - 0s 4ms/step - loss: 6071.3540 - mae: 6071.3540 - val_loss: 5899.8188 - val_mae: 5899.8188\n",
            "Epoch 41/100\n",
            "34/34 [==============================] - 0s 4ms/step - loss: 6034.5273 - mae: 6034.5273 - val_loss: 5873.2407 - val_mae: 5873.2407\n",
            "Epoch 42/100\n",
            "34/34 [==============================] - 0s 4ms/step - loss: 5985.9678 - mae: 5985.9678 - val_loss: 5840.9014 - val_mae: 5840.9014\n",
            "Epoch 43/100\n",
            "34/34 [==============================] - 0s 4ms/step - loss: 5948.2568 - mae: 5948.2568 - val_loss: 5775.4248 - val_mae: 5775.4248\n",
            "Epoch 44/100\n",
            "34/34 [==============================] - 0s 6ms/step - loss: 5891.3818 - mae: 5891.3818 - val_loss: 5735.4253 - val_mae: 5735.4253\n",
            "Epoch 45/100\n",
            "34/34 [==============================] - 0s 7ms/step - loss: 5839.3325 - mae: 5839.3325 - val_loss: 5737.0586 - val_mae: 5737.0586\n",
            "Epoch 46/100\n",
            "34/34 [==============================] - 0s 6ms/step - loss: 5801.0264 - mae: 5801.0264 - val_loss: 5615.8184 - val_mae: 5615.8184\n",
            "Epoch 47/100\n",
            "34/34 [==============================] - 0s 7ms/step - loss: 5725.4160 - mae: 5725.4160 - val_loss: 5560.3784 - val_mae: 5560.3784\n",
            "Epoch 48/100\n",
            "34/34 [==============================] - 0s 8ms/step - loss: 5649.5000 - mae: 5649.5000 - val_loss: 5499.1689 - val_mae: 5499.1689\n",
            "Epoch 49/100\n",
            "34/34 [==============================] - 0s 6ms/step - loss: 5570.6216 - mae: 5570.6216 - val_loss: 5413.1133 - val_mae: 5413.1133\n",
            "Epoch 50/100\n",
            "34/34 [==============================] - 0s 7ms/step - loss: 5492.9189 - mae: 5492.9189 - val_loss: 5328.0288 - val_mae: 5328.0288\n",
            "Epoch 51/100\n",
            "34/34 [==============================] - 0s 7ms/step - loss: 5395.7998 - mae: 5395.7998 - val_loss: 5237.0234 - val_mae: 5237.0234\n",
            "Epoch 52/100\n",
            "34/34 [==============================] - 0s 6ms/step - loss: 5294.7812 - mae: 5294.7812 - val_loss: 5134.1372 - val_mae: 5134.1372\n",
            "Epoch 53/100\n",
            "34/34 [==============================] - 0s 7ms/step - loss: 5186.5801 - mae: 5186.5801 - val_loss: 5082.7573 - val_mae: 5082.7573\n",
            "Epoch 54/100\n",
            "34/34 [==============================] - 0s 7ms/step - loss: 5064.7461 - mae: 5064.7461 - val_loss: 4898.4429 - val_mae: 4898.4429\n",
            "Epoch 55/100\n",
            "34/34 [==============================] - 0s 7ms/step - loss: 4920.2847 - mae: 4920.2847 - val_loss: 4751.9072 - val_mae: 4751.9072\n",
            "Epoch 56/100\n",
            "34/34 [==============================] - 0s 6ms/step - loss: 4771.0767 - mae: 4771.0767 - val_loss: 4598.1982 - val_mae: 4598.1982\n",
            "Epoch 57/100\n",
            "34/34 [==============================] - 0s 7ms/step - loss: 4593.4014 - mae: 4593.4014 - val_loss: 4434.2949 - val_mae: 4434.2949\n",
            "Epoch 58/100\n",
            "34/34 [==============================] - 0s 7ms/step - loss: 4423.0474 - mae: 4423.0474 - val_loss: 4294.2007 - val_mae: 4294.2007\n",
            "Epoch 59/100\n",
            "34/34 [==============================] - 0s 5ms/step - loss: 4215.9639 - mae: 4215.9639 - val_loss: 4062.7803 - val_mae: 4062.7803\n",
            "Epoch 60/100\n",
            "34/34 [==============================] - 0s 4ms/step - loss: 4059.1008 - mae: 4059.1008 - val_loss: 3925.6152 - val_mae: 3925.6152\n",
            "Epoch 61/100\n",
            "34/34 [==============================] - 0s 4ms/step - loss: 3968.6125 - mae: 3968.6125 - val_loss: 3846.0820 - val_mae: 3846.0820\n",
            "Epoch 62/100\n",
            "34/34 [==============================] - 0s 4ms/step - loss: 3919.0310 - mae: 3919.0310 - val_loss: 3749.2637 - val_mae: 3749.2637\n",
            "Epoch 63/100\n",
            "34/34 [==============================] - 0s 5ms/step - loss: 3863.2971 - mae: 3863.2971 - val_loss: 3713.8652 - val_mae: 3713.8652\n",
            "Epoch 64/100\n",
            "34/34 [==============================] - 0s 4ms/step - loss: 3832.7639 - mae: 3832.7639 - val_loss: 3699.0620 - val_mae: 3699.0620\n",
            "Epoch 65/100\n",
            "34/34 [==============================] - 0s 4ms/step - loss: 3823.6980 - mae: 3823.6980 - val_loss: 3677.4595 - val_mae: 3677.4595\n",
            "Epoch 66/100\n",
            "34/34 [==============================] - 0s 4ms/step - loss: 3800.6301 - mae: 3800.6301 - val_loss: 3669.1326 - val_mae: 3669.1326\n",
            "Epoch 67/100\n",
            "34/34 [==============================] - 0s 4ms/step - loss: 3806.9927 - mae: 3806.9927 - val_loss: 3687.2969 - val_mae: 3687.2969\n",
            "Epoch 68/100\n",
            "34/34 [==============================] - 0s 4ms/step - loss: 3797.0381 - mae: 3797.0381 - val_loss: 3690.2080 - val_mae: 3690.2080\n",
            "Epoch 69/100\n",
            "34/34 [==============================] - 0s 4ms/step - loss: 3793.8665 - mae: 3793.8665 - val_loss: 3702.4727 - val_mae: 3702.4727\n",
            "Epoch 70/100\n",
            "34/34 [==============================] - 0s 4ms/step - loss: 3780.8013 - mae: 3780.8013 - val_loss: 3667.1531 - val_mae: 3667.1531\n",
            "Epoch 71/100\n",
            "34/34 [==============================] - 0s 4ms/step - loss: 3777.4951 - mae: 3777.4951 - val_loss: 3659.9661 - val_mae: 3659.9661\n",
            "Epoch 72/100\n",
            "34/34 [==============================] - 0s 4ms/step - loss: 3770.3074 - mae: 3770.3074 - val_loss: 3643.5532 - val_mae: 3643.5532\n",
            "Epoch 73/100\n",
            "34/34 [==============================] - 0s 4ms/step - loss: 3781.4292 - mae: 3781.4292 - val_loss: 3656.8821 - val_mae: 3656.8823\n",
            "Epoch 74/100\n",
            "34/34 [==============================] - 0s 4ms/step - loss: 3791.9790 - mae: 3791.9790 - val_loss: 3620.1467 - val_mae: 3620.1467\n",
            "Epoch 75/100\n",
            "34/34 [==============================] - 0s 4ms/step - loss: 3780.7368 - mae: 3780.7368 - val_loss: 3644.9651 - val_mae: 3644.9651\n",
            "Epoch 76/100\n",
            "34/34 [==============================] - 0s 4ms/step - loss: 3756.8809 - mae: 3756.8809 - val_loss: 3629.3882 - val_mae: 3629.3882\n",
            "Epoch 77/100\n",
            "34/34 [==============================] - 0s 4ms/step - loss: 3772.1270 - mae: 3772.1270 - val_loss: 3621.0391 - val_mae: 3621.0391\n",
            "Epoch 78/100\n",
            "34/34 [==============================] - 0s 4ms/step - loss: 3748.7407 - mae: 3748.7407 - val_loss: 3627.6758 - val_mae: 3627.6758\n",
            "Epoch 79/100\n",
            "34/34 [==============================] - 0s 4ms/step - loss: 3765.4873 - mae: 3765.4873 - val_loss: 3656.4751 - val_mae: 3656.4751\n",
            "Epoch 80/100\n",
            "34/34 [==============================] - 0s 4ms/step - loss: 3763.4075 - mae: 3763.4075 - val_loss: 3603.3860 - val_mae: 3603.3860\n",
            "Epoch 81/100\n",
            "34/34 [==============================] - 0s 4ms/step - loss: 3736.1042 - mae: 3736.1042 - val_loss: 3606.6836 - val_mae: 3606.6836\n",
            "Epoch 82/100\n",
            "34/34 [==============================] - 0s 4ms/step - loss: 3743.1763 - mae: 3743.1763 - val_loss: 3594.0730 - val_mae: 3594.0730\n",
            "Epoch 83/100\n",
            "34/34 [==============================] - 0s 5ms/step - loss: 3742.2610 - mae: 3742.2610 - val_loss: 3583.4165 - val_mae: 3583.4165\n",
            "Epoch 84/100\n",
            "34/34 [==============================] - 0s 4ms/step - loss: 3748.1436 - mae: 3748.1436 - val_loss: 3581.2646 - val_mae: 3581.2646\n",
            "Epoch 85/100\n",
            "34/34 [==============================] - 0s 4ms/step - loss: 3734.5632 - mae: 3734.5632 - val_loss: 3590.8521 - val_mae: 3590.8521\n",
            "Epoch 86/100\n",
            "34/34 [==============================] - 0s 4ms/step - loss: 3727.3171 - mae: 3727.3171 - val_loss: 3575.2004 - val_mae: 3575.2004\n",
            "Epoch 87/100\n",
            "34/34 [==============================] - 0s 4ms/step - loss: 3730.3452 - mae: 3730.3452 - val_loss: 3587.6848 - val_mae: 3587.6848\n",
            "Epoch 88/100\n",
            "34/34 [==============================] - 0s 4ms/step - loss: 3720.2832 - mae: 3720.2832 - val_loss: 3563.5234 - val_mae: 3563.5234\n",
            "Epoch 89/100\n",
            "34/34 [==============================] - 0s 4ms/step - loss: 3723.4287 - mae: 3723.4287 - val_loss: 3555.8303 - val_mae: 3555.8303\n",
            "Epoch 90/100\n",
            "34/34 [==============================] - 0s 4ms/step - loss: 3715.7646 - mae: 3715.7646 - val_loss: 3551.1016 - val_mae: 3551.1016\n",
            "Epoch 91/100\n",
            "34/34 [==============================] - 0s 4ms/step - loss: 3711.4580 - mae: 3711.4580 - val_loss: 3549.7432 - val_mae: 3549.7432\n",
            "Epoch 92/100\n",
            "34/34 [==============================] - 0s 4ms/step - loss: 3726.0430 - mae: 3726.0430 - val_loss: 3546.1152 - val_mae: 3546.1152\n",
            "Epoch 93/100\n",
            "34/34 [==============================] - 0s 4ms/step - loss: 3708.8743 - mae: 3708.8743 - val_loss: 3547.6155 - val_mae: 3547.6155\n",
            "Epoch 94/100\n",
            "34/34 [==============================] - 0s 4ms/step - loss: 3708.4321 - mae: 3708.4321 - val_loss: 3536.9973 - val_mae: 3536.9973\n",
            "Epoch 95/100\n",
            "34/34 [==============================] - 0s 5ms/step - loss: 3699.2971 - mae: 3699.2971 - val_loss: 3535.4517 - val_mae: 3535.4517\n",
            "Epoch 96/100\n",
            "34/34 [==============================] - 0s 4ms/step - loss: 3713.0500 - mae: 3713.0500 - val_loss: 3528.6328 - val_mae: 3528.6328\n",
            "Epoch 97/100\n",
            "34/34 [==============================] - 0s 5ms/step - loss: 3693.4617 - mae: 3693.4617 - val_loss: 3525.3550 - val_mae: 3525.3550\n",
            "Epoch 98/100\n",
            "34/34 [==============================] - 0s 4ms/step - loss: 3694.5725 - mae: 3694.5725 - val_loss: 3541.2883 - val_mae: 3541.2883\n",
            "Epoch 99/100\n",
            "34/34 [==============================] - 0s 4ms/step - loss: 3707.5381 - mae: 3707.5381 - val_loss: 3604.5281 - val_mae: 3604.5281\n",
            "Epoch 100/100\n",
            "34/34 [==============================] - 0s 4ms/step - loss: 3706.2322 - mae: 3706.2322 - val_loss: 3511.3101 - val_mae: 3511.3101\n"
          ]
        }
      ]
    },
    {
      "cell_type": "code",
      "source": [
        "pd.DataFrame(history.history).plot()"
      ],
      "metadata": {
        "colab": {
          "base_uri": "https://localhost:8080/",
          "height": 447
        },
        "id": "aM4qfMkRFh7B",
        "outputId": "1ecc6ed3-4c73-4371-a1f7-10cd3167d7ab"
      },
      "execution_count": 59,
      "outputs": [
        {
          "output_type": "execute_result",
          "data": {
            "text/plain": [
              "<Axes: >"
            ]
          },
          "metadata": {},
          "execution_count": 59
        },
        {
          "output_type": "display_data",
          "data": {
            "text/plain": [
              "<Figure size 640x480 with 1 Axes>"
            ],
            "image/png": "[encoded data removed]"
          },
          "metadata": {}
        }
      ]
    },
    {
      "cell_type": "code",
      "source": [
        "insurance_model.evaluate(X_val, y_val)"
      ],
      "metadata": {
        "colab": {
          "base_uri": "https://localhost:8080/"
        },
        "id": "mPtpAwSQLM3B",
        "outputId": "a4c80855-6c53-430d-9e24-2cbc55d3255a"
      },
      "execution_count": 60,
      "outputs": [
        {
          "output_type": "stream",
          "name": "stdout",
          "text": [
            "9/9 [==============================] - 0s 2ms/step - loss: 3511.3101 - mae: 3511.3101\n"
          ]
        },
        {
          "output_type": "execute_result",
          "data": {
            "text/plain": [
              "[3511.31005859375, 3511.31005859375]"
            ]
          },
          "metadata": {},
          "execution_count": 60
        }
      ]
    },
    {
      "cell_type": "markdown",
      "source": [
        "### Improve the model"
      ],
      "metadata": {
        "id": "QsDqZ1FaPyOO"
      }
    },
    {
      "cell_type": "code",
      "source": [
        "insurance_1 = tf.keras.Sequential()\n",
        "insurance_1.add(tf.keras.layers.Input((11,)))\n",
        "insurance_1.add(tf.keras.layers.Dense(100))\n",
        "insurance_1.add(tf.keras.layers.Dense(100))\n",
        "insurance_1.add(tf.keras.layers.Dense(1))\n",
        "\n",
        "insurance_1.compile(optimizer = tf.keras.optimizers.Adam(learning_rate=0.0001), loss = tf.keras.losses.mae, metrics = ['mae'])\n",
        "insurance_1.summary()"
      ],
      "metadata": {
        "colab": {
          "base_uri": "https://localhost:8080/"
        },
        "id": "lI-kGJwqLR69",
        "outputId": "ad8766c7-b919-4abf-fe76-e69f531ab95e"
      },
      "execution_count": 61,
      "outputs": [
        {
          "output_type": "stream",
          "name": "stdout",
          "text": [
            "Model: \"sequential_3\"\n",
            "_________________________________________________________________\n",
            " Layer (type)                Output Shape              Param #   \n",
            "=================================================================\n",
            " dense_8 (Dense)             (None, 100)               1200      \n",
            "                                                                 \n",
            " dense_9 (Dense)             (None, 100)               10100     \n",
            "                                                                 \n",
            " dense_10 (Dense)            (None, 1)                 101       \n",
            "                                                                 \n",
            "=================================================================\n",
            "Total params: 11,401\n",
            "Trainable params: 11,401\n",
            "Non-trainable params: 0\n",
            "_________________________________________________________________\n"
          ]
        }
      ]
    },
    {
      "cell_type": "code",
      "source": [
        "insurance_1.fit(X_train, y_train, epochs = 200, validation_data= (X_val, y_val))"
      ],
      "metadata": {
        "colab": {
          "base_uri": "https://localhost:8080/"
        },
        "id": "bzN3G-tXLUVJ",
        "outputId": "2c951d93-dbb0-469c-c698-c2822c721401"
      },
      "execution_count": 62,
      "outputs": [
        {
          "output_type": "stream",
          "name": "stdout",
          "text": [
            "Epoch 1/200\n",
            "34/34 [==============================] - 1s 8ms/step - loss: 13336.3574 - mae: 13336.3574 - val_loss: 12942.7471 - val_mae: 12942.7471\n",
            "Epoch 2/200\n",
            "34/34 [==============================] - 0s 4ms/step - loss: 13305.2471 - mae: 13305.2471 - val_loss: 12910.5557 - val_mae: 12910.5557\n",
            "Epoch 3/200\n",
            "34/34 [==============================] - 0s 4ms/step - loss: 13270.8955 - mae: 13270.8955 - val_loss: 12873.8770 - val_mae: 12873.8770\n",
            "Epoch 4/200\n",
            "34/34 [==============================] - 0s 5ms/step - loss: 13231.0664 - mae: 13231.0664 - val_loss: 12830.7959 - val_mae: 12830.7959\n",
            "Epoch 5/200\n",
            "34/34 [==============================] - 0s 5ms/step - loss: 13183.9229 - mae: 13183.9229 - val_loss: 12779.1562 - val_mae: 12779.1562\n",
            "Epoch 6/200\n",
            "34/34 [==============================] - 0s 4ms/step - loss: 13127.4062 - mae: 13127.4062 - val_loss: 12717.8438 - val_mae: 12717.8438\n",
            "Epoch 7/200\n",
            "34/34 [==============================] - 0s 4ms/step - loss: 13060.1660 - mae: 13060.1660 - val_loss: 12644.5908 - val_mae: 12644.5908\n",
            "Epoch 8/200\n",
            "34/34 [==============================] - 0s 4ms/step - loss: 12980.4541 - mae: 12980.4541 - val_loss: 12557.8037 - val_mae: 12557.8037\n",
            "Epoch 9/200\n",
            "34/34 [==============================] - 0s 4ms/step - loss: 12886.3916 - mae: 12886.3916 - val_loss: 12456.8135 - val_mae: 12456.8135\n",
            "Epoch 10/200\n",
            "34/34 [==============================] - 0s 4ms/step - loss: 12776.7471 - mae: 12776.7471 - val_loss: 12338.6748 - val_mae: 12338.6748\n",
            "Epoch 11/200\n",
            "34/34 [==============================] - 0s 4ms/step - loss: 12649.7754 - mae: 12649.7754 - val_loss: 12202.9893 - val_mae: 12202.9893\n",
            "Epoch 12/200\n",
            "34/34 [==============================] - 0s 5ms/step - loss: 12504.1377 - mae: 12504.1377 - val_loss: 12048.6982 - val_mae: 12048.6982\n",
            "Epoch 13/200\n",
            "34/34 [==============================] - 0s 4ms/step - loss: 12339.1309 - mae: 12339.1309 - val_loss: 11872.6543 - val_mae: 11872.6543\n",
            "Epoch 14/200\n",
            "34/34 [==============================] - 0s 7ms/step - loss: 12152.9219 - mae: 12152.9219 - val_loss: 11676.4688 - val_mae: 11676.4688\n",
            "Epoch 15/200\n",
            "34/34 [==============================] - 0s 8ms/step - loss: 11945.5186 - mae: 11945.5186 - val_loss: 11458.7568 - val_mae: 11458.7568\n",
            "Epoch 16/200\n",
            "34/34 [==============================] - 0s 7ms/step - loss: 11715.7773 - mae: 11715.7773 - val_loss: 11218.9893 - val_mae: 11218.9893\n",
            "Epoch 17/200\n",
            "34/34 [==============================] - 0s 8ms/step - loss: 11465.9082 - mae: 11465.9082 - val_loss: 10960.8447 - val_mae: 10960.8447\n",
            "Epoch 18/200\n",
            "34/34 [==============================] - 0s 7ms/step - loss: 11195.9062 - mae: 11195.9062 - val_loss: 10686.6035 - val_mae: 10686.6035\n",
            "Epoch 19/200\n",
            "34/34 [==============================] - 0s 7ms/step - loss: 10909.6377 - mae: 10909.6377 - val_loss: 10400.1934 - val_mae: 10400.1934\n",
            "Epoch 20/200\n",
            "34/34 [==============================] - 0s 7ms/step - loss: 10615.7920 - mae: 10615.7920 - val_loss: 10115.5244 - val_mae: 10115.5244\n",
            "Epoch 21/200\n",
            "34/34 [==============================] - 0s 7ms/step - loss: 10320.6113 - mae: 10320.6113 - val_loss: 9828.5693 - val_mae: 9828.5693\n",
            "Epoch 22/200\n",
            "34/34 [==============================] - 0s 7ms/step - loss: 10022.3906 - mae: 10022.3906 - val_loss: 9538.7646 - val_mae: 9538.7646\n",
            "Epoch 23/200\n",
            "34/34 [==============================] - 0s 8ms/step - loss: 9727.5430 - mae: 9727.5430 - val_loss: 9252.0068 - val_mae: 9252.0068\n",
            "Epoch 24/200\n",
            "34/34 [==============================] - 0s 7ms/step - loss: 9429.8457 - mae: 9429.8457 - val_loss: 8977.6055 - val_mae: 8977.6055\n",
            "Epoch 25/200\n",
            "34/34 [==============================] - 0s 7ms/step - loss: 9140.0625 - mae: 9140.0625 - val_loss: 8709.2480 - val_mae: 8709.2480\n",
            "Epoch 26/200\n",
            "34/34 [==============================] - 0s 7ms/step - loss: 8857.6270 - mae: 8857.6270 - val_loss: 8476.9619 - val_mae: 8476.9619\n",
            "Epoch 27/200\n",
            "34/34 [==============================] - 0s 6ms/step - loss: 8601.7295 - mae: 8601.7295 - val_loss: 8263.1260 - val_mae: 8263.1260\n",
            "Epoch 28/200\n",
            "34/34 [==============================] - 0s 4ms/step - loss: 8365.0225 - mae: 8365.0225 - val_loss: 8086.2041 - val_mae: 8086.2041\n",
            "Epoch 29/200\n",
            "34/34 [==============================] - 0s 5ms/step - loss: 8153.4253 - mae: 8153.4253 - val_loss: 7947.4375 - val_mae: 7947.4375\n",
            "Epoch 30/200\n",
            "34/34 [==============================] - 0s 4ms/step - loss: 7968.0073 - mae: 7968.0073 - val_loss: 7832.8525 - val_mae: 7832.8525\n",
            "Epoch 31/200\n",
            "34/34 [==============================] - 0s 4ms/step - loss: 7813.1191 - mae: 7813.1191 - val_loss: 7754.0454 - val_mae: 7754.0454\n",
            "Epoch 32/200\n",
            "34/34 [==============================] - 0s 5ms/step - loss: 7694.6953 - mae: 7694.6953 - val_loss: 7693.2222 - val_mae: 7693.2222\n",
            "Epoch 33/200\n",
            "34/34 [==============================] - 0s 4ms/step - loss: 7602.2876 - mae: 7602.2876 - val_loss: 7653.3281 - val_mae: 7653.3281\n",
            "Epoch 34/200\n",
            "34/34 [==============================] - 0s 4ms/step - loss: 7542.0938 - mae: 7542.0938 - val_loss: 7618.4795 - val_mae: 7618.4795\n",
            "Epoch 35/200\n",
            "34/34 [==============================] - 0s 4ms/step - loss: 7497.3887 - mae: 7497.3887 - val_loss: 7593.5415 - val_mae: 7593.5415\n",
            "Epoch 36/200\n",
            "34/34 [==============================] - 0s 4ms/step - loss: 7467.8662 - mae: 7467.8662 - val_loss: 7575.2012 - val_mae: 7575.2012\n",
            "Epoch 37/200\n",
            "34/34 [==============================] - 0s 4ms/step - loss: 7449.0708 - mae: 7449.0708 - val_loss: 7564.9502 - val_mae: 7564.9502\n",
            "Epoch 38/200\n",
            "34/34 [==============================] - 0s 4ms/step - loss: 7435.9829 - mae: 7435.9829 - val_loss: 7557.2300 - val_mae: 7557.2300\n",
            "Epoch 39/200\n",
            "34/34 [==============================] - 0s 4ms/step - loss: 7423.6548 - mae: 7423.6548 - val_loss: 7551.5747 - val_mae: 7551.5747\n",
            "Epoch 40/200\n",
            "34/34 [==============================] - 0s 4ms/step - loss: 7415.1377 - mae: 7415.1377 - val_loss: 7546.8232 - val_mae: 7546.8232\n",
            "Epoch 41/200\n",
            "34/34 [==============================] - 0s 4ms/step - loss: 7407.9941 - mae: 7407.9941 - val_loss: 7542.7476 - val_mae: 7542.7476\n",
            "Epoch 42/200\n",
            "34/34 [==============================] - 0s 4ms/step - loss: 7402.7344 - mae: 7402.7344 - val_loss: 7538.5840 - val_mae: 7538.5840\n",
            "Epoch 43/200\n",
            "34/34 [==============================] - 0s 4ms/step - loss: 7397.7183 - mae: 7397.7183 - val_loss: 7535.7812 - val_mae: 7535.7812\n",
            "Epoch 44/200\n",
            "34/34 [==============================] - 0s 5ms/step - loss: 7393.5386 - mae: 7393.5386 - val_loss: 7531.2334 - val_mae: 7531.2334\n",
            "Epoch 45/200\n",
            "34/34 [==============================] - 0s 4ms/step - loss: 7390.0103 - mae: 7390.0103 - val_loss: 7526.8135 - val_mae: 7526.8135\n",
            "Epoch 46/200\n",
            "34/34 [==============================] - 0s 4ms/step - loss: 7386.7661 - mae: 7386.7661 - val_loss: 7521.5698 - val_mae: 7521.5698\n",
            "Epoch 47/200\n",
            "34/34 [==============================] - 0s 4ms/step - loss: 7383.7935 - mae: 7383.7935 - val_loss: 7517.8687 - val_mae: 7517.8687\n",
            "Epoch 48/200\n",
            "34/34 [==============================] - 0s 4ms/step - loss: 7378.9717 - mae: 7378.9717 - val_loss: 7512.3516 - val_mae: 7512.3516\n",
            "Epoch 49/200\n",
            "34/34 [==============================] - 0s 4ms/step - loss: 7375.8013 - mae: 7375.8013 - val_loss: 7508.3457 - val_mae: 7508.3457\n",
            "Epoch 50/200\n",
            "34/34 [==============================] - 0s 4ms/step - loss: 7371.3228 - mae: 7371.3228 - val_loss: 7503.1719 - val_mae: 7503.1719\n",
            "Epoch 51/200\n",
            "34/34 [==============================] - 0s 4ms/step - loss: 7368.3892 - mae: 7368.3892 - val_loss: 7498.6299 - val_mae: 7498.6299\n",
            "Epoch 52/200\n",
            "34/34 [==============================] - 0s 4ms/step - loss: 7364.1738 - mae: 7364.1738 - val_loss: 7493.2207 - val_mae: 7493.2207\n",
            "Epoch 53/200\n",
            "34/34 [==============================] - 0s 5ms/step - loss: 7360.1377 - mae: 7360.1377 - val_loss: 7488.0190 - val_mae: 7488.0190\n",
            "Epoch 54/200\n",
            "34/34 [==============================] - 0s 5ms/step - loss: 7356.1143 - mae: 7356.1143 - val_loss: 7483.6655 - val_mae: 7483.6655\n",
            "Epoch 55/200\n",
            "34/34 [==============================] - 0s 4ms/step - loss: 7352.2300 - mae: 7352.2300 - val_loss: 7478.4292 - val_mae: 7478.4292\n",
            "Epoch 56/200\n",
            "34/34 [==============================] - 0s 4ms/step - loss: 7348.3574 - mae: 7348.3574 - val_loss: 7474.0522 - val_mae: 7474.0522\n",
            "Epoch 57/200\n",
            "34/34 [==============================] - 0s 4ms/step - loss: 7344.4619 - mae: 7344.4619 - val_loss: 7469.2544 - val_mae: 7469.2544\n",
            "Epoch 58/200\n",
            "34/34 [==============================] - 0s 5ms/step - loss: 7340.4854 - mae: 7340.4854 - val_loss: 7464.2104 - val_mae: 7464.2104\n",
            "Epoch 59/200\n",
            "34/34 [==============================] - 0s 4ms/step - loss: 7337.5796 - mae: 7337.5796 - val_loss: 7458.8594 - val_mae: 7458.8594\n",
            "Epoch 60/200\n",
            "34/34 [==============================] - 0s 4ms/step - loss: 7332.7085 - mae: 7332.7085 - val_loss: 7454.2798 - val_mae: 7454.2798\n",
            "Epoch 61/200\n",
            "34/34 [==============================] - 0s 4ms/step - loss: 7328.9531 - mae: 7328.9531 - val_loss: 7449.3462 - val_mae: 7449.3462\n",
            "Epoch 62/200\n",
            "34/34 [==============================] - 0s 4ms/step - loss: 7324.6782 - mae: 7324.6782 - val_loss: 7443.6362 - val_mae: 7443.6362\n",
            "Epoch 63/200\n",
            "34/34 [==============================] - 0s 4ms/step - loss: 7320.8340 - mae: 7320.8340 - val_loss: 7438.5762 - val_mae: 7438.5762\n",
            "Epoch 64/200\n",
            "34/34 [==============================] - 0s 5ms/step - loss: 7316.7759 - mae: 7316.7759 - val_loss: 7433.7241 - val_mae: 7433.7241\n",
            "Epoch 65/200\n",
            "34/34 [==============================] - 0s 4ms/step - loss: 7312.8735 - mae: 7312.8735 - val_loss: 7428.2427 - val_mae: 7428.2427\n",
            "Epoch 66/200\n",
            "34/34 [==============================] - 0s 4ms/step - loss: 7308.6333 - mae: 7308.6333 - val_loss: 7423.4473 - val_mae: 7423.4473\n",
            "Epoch 67/200\n",
            "34/34 [==============================] - 0s 4ms/step - loss: 7305.0176 - mae: 7305.0176 - val_loss: 7418.1343 - val_mae: 7418.1343\n",
            "Epoch 68/200\n",
            "34/34 [==============================] - 0s 4ms/step - loss: 7300.9253 - mae: 7300.9253 - val_loss: 7412.4648 - val_mae: 7412.4648\n",
            "Epoch 69/200\n",
            "34/34 [==============================] - 0s 4ms/step - loss: 7296.5918 - mae: 7296.5918 - val_loss: 7407.4204 - val_mae: 7407.4204\n",
            "Epoch 70/200\n",
            "34/34 [==============================] - 0s 4ms/step - loss: 7292.7715 - mae: 7292.7715 - val_loss: 7401.8198 - val_mae: 7401.8198\n",
            "Epoch 71/200\n",
            "34/34 [==============================] - 0s 4ms/step - loss: 7288.4893 - mae: 7288.4893 - val_loss: 7397.0454 - val_mae: 7397.0454\n",
            "Epoch 72/200\n",
            "34/34 [==============================] - 0s 4ms/step - loss: 7284.7690 - mae: 7284.7690 - val_loss: 7391.8784 - val_mae: 7391.8784\n",
            "Epoch 73/200\n",
            "34/34 [==============================] - 0s 4ms/step - loss: 7280.3643 - mae: 7280.3643 - val_loss: 7386.4429 - val_mae: 7386.4429\n",
            "Epoch 74/200\n",
            "34/34 [==============================] - 0s 4ms/step - loss: 7276.3794 - mae: 7276.3794 - val_loss: 7380.6797 - val_mae: 7380.6797\n",
            "Epoch 75/200\n",
            "34/34 [==============================] - 0s 4ms/step - loss: 7272.1069 - mae: 7272.1069 - val_loss: 7375.6108 - val_mae: 7375.6108\n",
            "Epoch 76/200\n",
            "34/34 [==============================] - 0s 4ms/step - loss: 7268.5449 - mae: 7268.5449 - val_loss: 7369.6768 - val_mae: 7369.6768\n",
            "Epoch 77/200\n",
            "34/34 [==============================] - 0s 4ms/step - loss: 7263.7227 - mae: 7263.7227 - val_loss: 7364.4219 - val_mae: 7364.4219\n",
            "Epoch 78/200\n",
            "34/34 [==============================] - 0s 5ms/step - loss: 7259.8472 - mae: 7259.8472 - val_loss: 7358.2837 - val_mae: 7358.2837\n",
            "Epoch 79/200\n",
            "34/34 [==============================] - 0s 4ms/step - loss: 7255.3540 - mae: 7255.3540 - val_loss: 7353.2612 - val_mae: 7353.2612\n",
            "Epoch 80/200\n",
            "34/34 [==============================] - 0s 4ms/step - loss: 7250.8989 - mae: 7250.8989 - val_loss: 7347.6187 - val_mae: 7347.6187\n",
            "Epoch 81/200\n",
            "34/34 [==============================] - 0s 4ms/step - loss: 7246.5034 - mae: 7246.5034 - val_loss: 7342.1401 - val_mae: 7342.1401\n",
            "Epoch 82/200\n",
            "34/34 [==============================] - 0s 4ms/step - loss: 7243.6411 - mae: 7243.6411 - val_loss: 7338.0884 - val_mae: 7338.0884\n",
            "Epoch 83/200\n",
            "34/34 [==============================] - 0s 4ms/step - loss: 7238.6929 - mae: 7238.6929 - val_loss: 7331.0532 - val_mae: 7331.0532\n",
            "Epoch 84/200\n",
            "34/34 [==============================] - 0s 4ms/step - loss: 7233.6792 - mae: 7233.6792 - val_loss: 7325.5879 - val_mae: 7325.5879\n",
            "Epoch 85/200\n",
            "34/34 [==============================] - 0s 5ms/step - loss: 7230.0244 - mae: 7230.0244 - val_loss: 7320.2847 - val_mae: 7320.2847\n",
            "Epoch 86/200\n",
            "34/34 [==============================] - 0s 5ms/step - loss: 7225.1509 - mae: 7225.1509 - val_loss: 7314.1055 - val_mae: 7314.1055\n",
            "Epoch 87/200\n",
            "34/34 [==============================] - 0s 4ms/step - loss: 7220.8623 - mae: 7220.8623 - val_loss: 7308.2139 - val_mae: 7308.2139\n",
            "Epoch 88/200\n",
            "34/34 [==============================] - 0s 4ms/step - loss: 7216.2485 - mae: 7216.2485 - val_loss: 7303.0415 - val_mae: 7303.0415\n",
            "Epoch 89/200\n",
            "34/34 [==============================] - 0s 4ms/step - loss: 7211.6328 - mae: 7211.6328 - val_loss: 7296.5459 - val_mae: 7296.5459\n",
            "Epoch 90/200\n",
            "34/34 [==============================] - 0s 4ms/step - loss: 7207.8721 - mae: 7207.8721 - val_loss: 7291.5537 - val_mae: 7291.5537\n",
            "Epoch 91/200\n",
            "34/34 [==============================] - 0s 4ms/step - loss: 7202.5957 - mae: 7202.5957 - val_loss: 7284.9536 - val_mae: 7284.9536\n",
            "Epoch 92/200\n",
            "34/34 [==============================] - 0s 4ms/step - loss: 7198.6802 - mae: 7198.6802 - val_loss: 7279.6953 - val_mae: 7279.6953\n",
            "Epoch 93/200\n",
            "34/34 [==============================] - 0s 4ms/step - loss: 7193.7622 - mae: 7193.7622 - val_loss: 7273.3237 - val_mae: 7273.3237\n",
            "Epoch 94/200\n",
            "34/34 [==============================] - 0s 6ms/step - loss: 7189.7100 - mae: 7189.7100 - val_loss: 7267.3413 - val_mae: 7267.3413\n",
            "Epoch 95/200\n",
            "34/34 [==============================] - 0s 6ms/step - loss: 7184.6436 - mae: 7184.6436 - val_loss: 7262.2993 - val_mae: 7262.2993\n",
            "Epoch 96/200\n",
            "34/34 [==============================] - 0s 7ms/step - loss: 7180.1860 - mae: 7180.1860 - val_loss: 7255.9834 - val_mae: 7255.9834\n",
            "Epoch 97/200\n",
            "34/34 [==============================] - 0s 6ms/step - loss: 7176.0332 - mae: 7176.0332 - val_loss: 7250.3364 - val_mae: 7250.3364\n",
            "Epoch 98/200\n",
            "34/34 [==============================] - 0s 8ms/step - loss: 7170.7202 - mae: 7170.7202 - val_loss: 7243.8921 - val_mae: 7243.8921\n",
            "Epoch 99/200\n",
            "34/34 [==============================] - 0s 8ms/step - loss: 7165.9868 - mae: 7165.9868 - val_loss: 7238.0708 - val_mae: 7238.0708\n",
            "Epoch 100/200\n",
            "34/34 [==============================] - 0s 7ms/step - loss: 7161.1938 - mae: 7161.1938 - val_loss: 7232.2163 - val_mae: 7232.2163\n",
            "Epoch 101/200\n",
            "34/34 [==============================] - 0s 7ms/step - loss: 7157.0991 - mae: 7157.0991 - val_loss: 7226.8086 - val_mae: 7226.8086\n",
            "Epoch 102/200\n",
            "34/34 [==============================] - 0s 6ms/step - loss: 7151.7134 - mae: 7151.7134 - val_loss: 7220.8486 - val_mae: 7220.8486\n",
            "Epoch 103/200\n",
            "34/34 [==============================] - 0s 7ms/step - loss: 7147.2959 - mae: 7147.2959 - val_loss: 7213.7539 - val_mae: 7213.7539\n",
            "Epoch 104/200\n",
            "34/34 [==============================] - 0s 7ms/step - loss: 7142.2861 - mae: 7142.2861 - val_loss: 7208.2280 - val_mae: 7208.2280\n",
            "Epoch 105/200\n",
            "34/34 [==============================] - 0s 6ms/step - loss: 7137.4590 - mae: 7137.4590 - val_loss: 7201.5981 - val_mae: 7201.5981\n",
            "Epoch 106/200\n",
            "34/34 [==============================] - 0s 7ms/step - loss: 7132.8472 - mae: 7132.8472 - val_loss: 7195.0469 - val_mae: 7195.0469\n",
            "Epoch 107/200\n",
            "34/34 [==============================] - 0s 6ms/step - loss: 7129.8159 - mae: 7129.8159 - val_loss: 7191.2090 - val_mae: 7191.2090\n",
            "Epoch 108/200\n",
            "34/34 [==============================] - 0s 6ms/step - loss: 7123.5928 - mae: 7123.5928 - val_loss: 7183.0996 - val_mae: 7183.0996\n",
            "Epoch 109/200\n",
            "34/34 [==============================] - 0s 4ms/step - loss: 7118.8145 - mae: 7118.8145 - val_loss: 7177.4731 - val_mae: 7177.4731\n",
            "Epoch 110/200\n",
            "34/34 [==============================] - 0s 4ms/step - loss: 7114.1958 - mae: 7114.1958 - val_loss: 7171.4624 - val_mae: 7171.4624\n",
            "Epoch 111/200\n",
            "34/34 [==============================] - 0s 4ms/step - loss: 7108.9478 - mae: 7108.9478 - val_loss: 7164.6855 - val_mae: 7164.6855\n",
            "Epoch 112/200\n",
            "34/34 [==============================] - 0s 4ms/step - loss: 7103.8491 - mae: 7103.8491 - val_loss: 7157.7534 - val_mae: 7157.7534\n",
            "Epoch 113/200\n",
            "34/34 [==============================] - 0s 4ms/step - loss: 7099.4165 - mae: 7099.4165 - val_loss: 7151.7236 - val_mae: 7151.7236\n",
            "Epoch 114/200\n",
            "34/34 [==============================] - 0s 4ms/step - loss: 7094.0605 - mae: 7094.0605 - val_loss: 7145.2114 - val_mae: 7145.2114\n",
            "Epoch 115/200\n",
            "34/34 [==============================] - 0s 4ms/step - loss: 7090.3003 - mae: 7090.3003 - val_loss: 7138.9160 - val_mae: 7138.9160\n",
            "Epoch 116/200\n",
            "34/34 [==============================] - 0s 4ms/step - loss: 7084.9976 - mae: 7084.9976 - val_loss: 7133.0562 - val_mae: 7133.0562\n",
            "Epoch 117/200\n",
            "34/34 [==============================] - 0s 5ms/step - loss: 7079.6699 - mae: 7079.6699 - val_loss: 7126.6030 - val_mae: 7126.6030\n",
            "Epoch 118/200\n",
            "34/34 [==============================] - 0s 4ms/step - loss: 7075.0112 - mae: 7075.0112 - val_loss: 7119.7573 - val_mae: 7119.7573\n",
            "Epoch 119/200\n",
            "34/34 [==============================] - 0s 4ms/step - loss: 7070.4038 - mae: 7070.4038 - val_loss: 7113.3906 - val_mae: 7113.3906\n",
            "Epoch 120/200\n",
            "34/34 [==============================] - 0s 4ms/step - loss: 7065.1328 - mae: 7065.1328 - val_loss: 7107.3433 - val_mae: 7107.3433\n",
            "Epoch 121/200\n",
            "34/34 [==============================] - 0s 4ms/step - loss: 7060.3672 - mae: 7060.3672 - val_loss: 7101.2417 - val_mae: 7101.2417\n",
            "Epoch 122/200\n",
            "34/34 [==============================] - 0s 4ms/step - loss: 7055.3579 - mae: 7055.3579 - val_loss: 7094.8184 - val_mae: 7094.8184\n",
            "Epoch 123/200\n",
            "34/34 [==============================] - 0s 5ms/step - loss: 7050.4673 - mae: 7050.4673 - val_loss: 7088.2021 - val_mae: 7088.2021\n",
            "Epoch 124/200\n",
            "34/34 [==============================] - 0s 4ms/step - loss: 7045.3779 - mae: 7045.3779 - val_loss: 7081.8716 - val_mae: 7081.8716\n",
            "Epoch 125/200\n",
            "34/34 [==============================] - 0s 4ms/step - loss: 7040.8159 - mae: 7040.8159 - val_loss: 7075.5259 - val_mae: 7075.5259\n",
            "Epoch 126/200\n",
            "34/34 [==============================] - 0s 5ms/step - loss: 7035.9160 - mae: 7035.9160 - val_loss: 7068.6558 - val_mae: 7068.6558\n",
            "Epoch 127/200\n",
            "34/34 [==============================] - 0s 4ms/step - loss: 7030.4575 - mae: 7030.4575 - val_loss: 7062.5059 - val_mae: 7062.5059\n",
            "Epoch 128/200\n",
            "34/34 [==============================] - 0s 4ms/step - loss: 7025.6611 - mae: 7025.6611 - val_loss: 7054.8594 - val_mae: 7054.8594\n",
            "Epoch 129/200\n",
            "34/34 [==============================] - 0s 5ms/step - loss: 7020.3662 - mae: 7020.3662 - val_loss: 7049.3232 - val_mae: 7049.3232\n",
            "Epoch 130/200\n",
            "34/34 [==============================] - 0s 5ms/step - loss: 7015.4360 - mae: 7015.4360 - val_loss: 7043.7617 - val_mae: 7043.7617\n",
            "Epoch 131/200\n",
            "34/34 [==============================] - 0s 4ms/step - loss: 7011.0986 - mae: 7011.0986 - val_loss: 7035.0894 - val_mae: 7035.0894\n",
            "Epoch 132/200\n",
            "34/34 [==============================] - 0s 4ms/step - loss: 7005.4600 - mae: 7005.4600 - val_loss: 7029.8149 - val_mae: 7029.8149\n",
            "Epoch 133/200\n",
            "34/34 [==============================] - 0s 4ms/step - loss: 6999.6445 - mae: 6999.6445 - val_loss: 7022.5620 - val_mae: 7022.5620\n",
            "Epoch 134/200\n",
            "34/34 [==============================] - 0s 4ms/step - loss: 6994.8330 - mae: 6994.8330 - val_loss: 7015.7686 - val_mae: 7015.7686\n",
            "Epoch 135/200\n",
            "34/34 [==============================] - 0s 4ms/step - loss: 6989.3213 - mae: 6989.3213 - val_loss: 7008.4658 - val_mae: 7008.4658\n",
            "Epoch 136/200\n",
            "34/34 [==============================] - 0s 5ms/step - loss: 6984.4077 - mae: 6984.4077 - val_loss: 7000.6260 - val_mae: 7000.6260\n",
            "Epoch 137/200\n",
            "34/34 [==============================] - 0s 4ms/step - loss: 6978.8926 - mae: 6978.8926 - val_loss: 6995.4609 - val_mae: 6995.4609\n",
            "Epoch 138/200\n",
            "34/34 [==============================] - 0s 5ms/step - loss: 6973.4556 - mae: 6973.4556 - val_loss: 6988.5654 - val_mae: 6988.5654\n",
            "Epoch 139/200\n",
            "34/34 [==============================] - 0s 4ms/step - loss: 6967.8989 - mae: 6967.8989 - val_loss: 6981.3569 - val_mae: 6981.3569\n",
            "Epoch 140/200\n",
            "34/34 [==============================] - 0s 4ms/step - loss: 6962.7603 - mae: 6962.7603 - val_loss: 6975.0498 - val_mae: 6975.0498\n",
            "Epoch 141/200\n",
            "34/34 [==============================] - 0s 4ms/step - loss: 6957.3970 - mae: 6957.3970 - val_loss: 6967.8472 - val_mae: 6967.8472\n",
            "Epoch 142/200\n",
            "34/34 [==============================] - 0s 4ms/step - loss: 6952.9067 - mae: 6952.9067 - val_loss: 6959.6875 - val_mae: 6959.6875\n",
            "Epoch 143/200\n",
            "34/34 [==============================] - 0s 5ms/step - loss: 6947.5845 - mae: 6947.5845 - val_loss: 6953.0000 - val_mae: 6953.0000\n",
            "Epoch 144/200\n",
            "34/34 [==============================] - 0s 4ms/step - loss: 6942.4644 - mae: 6942.4644 - val_loss: 6946.5420 - val_mae: 6946.5420\n",
            "Epoch 145/200\n",
            "34/34 [==============================] - 0s 4ms/step - loss: 6936.7783 - mae: 6936.7783 - val_loss: 6939.8428 - val_mae: 6939.8428\n",
            "Epoch 146/200\n",
            "34/34 [==============================] - 0s 5ms/step - loss: 6932.5322 - mae: 6932.5322 - val_loss: 6933.2983 - val_mae: 6933.2983\n",
            "Epoch 147/200\n",
            "34/34 [==============================] - 0s 4ms/step - loss: 6926.8262 - mae: 6926.8262 - val_loss: 6926.7856 - val_mae: 6926.7856\n",
            "Epoch 148/200\n",
            "34/34 [==============================] - 0s 4ms/step - loss: 6921.2998 - mae: 6921.2998 - val_loss: 6919.0225 - val_mae: 6919.0225\n",
            "Epoch 149/200\n",
            "34/34 [==============================] - 0s 4ms/step - loss: 6916.3340 - mae: 6916.3340 - val_loss: 6911.8462 - val_mae: 6911.8462\n",
            "Epoch 150/200\n",
            "34/34 [==============================] - 0s 5ms/step - loss: 6910.8818 - mae: 6910.8818 - val_loss: 6904.8867 - val_mae: 6904.8867\n",
            "Epoch 151/200\n",
            "34/34 [==============================] - 0s 4ms/step - loss: 6905.9707 - mae: 6905.9707 - val_loss: 6898.5054 - val_mae: 6898.5054\n",
            "Epoch 152/200\n",
            "34/34 [==============================] - 0s 4ms/step - loss: 6900.0747 - mae: 6900.0747 - val_loss: 6890.6636 - val_mae: 6890.6636\n",
            "Epoch 153/200\n",
            "34/34 [==============================] - 0s 4ms/step - loss: 6895.5664 - mae: 6895.5664 - val_loss: 6882.9775 - val_mae: 6882.9775\n",
            "Epoch 154/200\n",
            "34/34 [==============================] - 0s 4ms/step - loss: 6890.1973 - mae: 6890.1973 - val_loss: 6876.8057 - val_mae: 6876.8057\n",
            "Epoch 155/200\n",
            "34/34 [==============================] - 0s 4ms/step - loss: 6884.4292 - mae: 6884.4292 - val_loss: 6868.9507 - val_mae: 6868.9512\n",
            "Epoch 156/200\n",
            "34/34 [==============================] - 0s 6ms/step - loss: 6878.9941 - mae: 6878.9941 - val_loss: 6861.7949 - val_mae: 6861.7949\n",
            "Epoch 157/200\n",
            "34/34 [==============================] - 0s 4ms/step - loss: 6874.2622 - mae: 6874.2622 - val_loss: 6855.4756 - val_mae: 6855.4756\n",
            "Epoch 158/200\n",
            "34/34 [==============================] - 0s 4ms/step - loss: 6868.5747 - mae: 6868.5747 - val_loss: 6847.2783 - val_mae: 6847.2783\n",
            "Epoch 159/200\n",
            "34/34 [==============================] - 0s 4ms/step - loss: 6862.8359 - mae: 6862.8359 - val_loss: 6840.1318 - val_mae: 6840.1318\n",
            "Epoch 160/200\n",
            "34/34 [==============================] - 0s 4ms/step - loss: 6857.9517 - mae: 6857.9517 - val_loss: 6833.4570 - val_mae: 6833.4570\n",
            "Epoch 161/200\n",
            "34/34 [==============================] - 0s 4ms/step - loss: 6852.0059 - mae: 6852.0059 - val_loss: 6825.7920 - val_mae: 6825.7920\n",
            "Epoch 162/200\n",
            "34/34 [==============================] - 0s 4ms/step - loss: 6846.6162 - mae: 6846.6162 - val_loss: 6818.3120 - val_mae: 6818.3120\n",
            "Epoch 163/200\n",
            "34/34 [==============================] - 0s 5ms/step - loss: 6840.9194 - mae: 6840.9194 - val_loss: 6810.1567 - val_mae: 6810.1567\n",
            "Epoch 164/200\n",
            "34/34 [==============================] - 0s 4ms/step - loss: 6835.7656 - mae: 6835.7656 - val_loss: 6802.3975 - val_mae: 6802.3975\n",
            "Epoch 165/200\n",
            "34/34 [==============================] - 0s 5ms/step - loss: 6830.2505 - mae: 6830.2505 - val_loss: 6796.2983 - val_mae: 6796.2983\n",
            "Epoch 166/200\n",
            "34/34 [==============================] - 0s 5ms/step - loss: 6824.3213 - mae: 6824.3213 - val_loss: 6787.6006 - val_mae: 6787.6006\n",
            "Epoch 167/200\n",
            "34/34 [==============================] - 0s 4ms/step - loss: 6818.7832 - mae: 6818.7832 - val_loss: 6779.0195 - val_mae: 6779.0195\n",
            "Epoch 168/200\n",
            "34/34 [==============================] - 0s 4ms/step - loss: 6813.3296 - mae: 6813.3296 - val_loss: 6771.6133 - val_mae: 6771.6133\n",
            "Epoch 169/200\n",
            "34/34 [==============================] - 0s 4ms/step - loss: 6807.1216 - mae: 6807.1216 - val_loss: 6764.2705 - val_mae: 6764.2705\n",
            "Epoch 170/200\n",
            "34/34 [==============================] - 0s 4ms/step - loss: 6801.5889 - mae: 6801.5889 - val_loss: 6756.3291 - val_mae: 6756.3291\n",
            "Epoch 171/200\n",
            "34/34 [==============================] - 0s 4ms/step - loss: 6796.3369 - mae: 6796.3369 - val_loss: 6747.5156 - val_mae: 6747.5156\n",
            "Epoch 172/200\n",
            "34/34 [==============================] - 0s 4ms/step - loss: 6790.0762 - mae: 6790.0762 - val_loss: 6740.8140 - val_mae: 6740.8140\n",
            "Epoch 173/200\n",
            "34/34 [==============================] - 0s 7ms/step - loss: 6784.9771 - mae: 6784.9771 - val_loss: 6731.6899 - val_mae: 6731.6899\n",
            "Epoch 174/200\n",
            "34/34 [==============================] - 0s 7ms/step - loss: 6778.2222 - mae: 6778.2222 - val_loss: 6724.5752 - val_mae: 6724.5752\n",
            "Epoch 175/200\n",
            "34/34 [==============================] - 0s 7ms/step - loss: 6772.5259 - mae: 6772.5259 - val_loss: 6716.8345 - val_mae: 6716.8345\n",
            "Epoch 176/200\n",
            "34/34 [==============================] - 0s 8ms/step - loss: 6766.7935 - mae: 6766.7935 - val_loss: 6708.2866 - val_mae: 6708.2866\n",
            "Epoch 177/200\n",
            "34/34 [==============================] - 0s 6ms/step - loss: 6760.8335 - mae: 6760.8335 - val_loss: 6700.9482 - val_mae: 6700.9482\n",
            "Epoch 178/200\n",
            "34/34 [==============================] - 0s 7ms/step - loss: 6755.4409 - mae: 6755.4409 - val_loss: 6692.5005 - val_mae: 6692.5005\n",
            "Epoch 179/200\n",
            "34/34 [==============================] - 0s 8ms/step - loss: 6749.6392 - mae: 6749.6392 - val_loss: 6684.7231 - val_mae: 6684.7231\n",
            "Epoch 180/200\n",
            "34/34 [==============================] - 0s 6ms/step - loss: 6744.8579 - mae: 6744.8579 - val_loss: 6678.1421 - val_mae: 6678.1421\n",
            "Epoch 181/200\n",
            "34/34 [==============================] - 0s 8ms/step - loss: 6738.1548 - mae: 6738.1548 - val_loss: 6669.5059 - val_mae: 6669.5059\n",
            "Epoch 182/200\n",
            "34/34 [==============================] - 0s 7ms/step - loss: 6732.1436 - mae: 6732.1436 - val_loss: 6660.8330 - val_mae: 6660.8330\n",
            "Epoch 183/200\n",
            "34/34 [==============================] - 0s 8ms/step - loss: 6727.0298 - mae: 6727.0298 - val_loss: 6652.9863 - val_mae: 6652.9863\n",
            "Epoch 184/200\n",
            "34/34 [==============================] - 0s 7ms/step - loss: 6721.9653 - mae: 6721.9653 - val_loss: 6644.7314 - val_mae: 6644.7314\n",
            "Epoch 185/200\n",
            "34/34 [==============================] - 0s 6ms/step - loss: 6715.7036 - mae: 6715.7036 - val_loss: 6637.7573 - val_mae: 6637.7573\n",
            "Epoch 186/200\n",
            "34/34 [==============================] - 0s 6ms/step - loss: 6710.7144 - mae: 6710.7144 - val_loss: 6631.1279 - val_mae: 6631.1279\n",
            "Epoch 187/200\n",
            "34/34 [==============================] - 0s 7ms/step - loss: 6704.9014 - mae: 6704.9014 - val_loss: 6623.2891 - val_mae: 6623.2891\n",
            "Epoch 188/200\n",
            "34/34 [==============================] - 0s 5ms/step - loss: 6698.7671 - mae: 6698.7671 - val_loss: 6615.3428 - val_mae: 6615.3428\n",
            "Epoch 189/200\n",
            "34/34 [==============================] - 0s 4ms/step - loss: 6693.4385 - mae: 6693.4385 - val_loss: 6606.7769 - val_mae: 6606.7769\n",
            "Epoch 190/200\n",
            "34/34 [==============================] - 0s 4ms/step - loss: 6687.9639 - mae: 6687.9639 - val_loss: 6599.8247 - val_mae: 6599.8247\n",
            "Epoch 191/200\n",
            "34/34 [==============================] - 0s 4ms/step - loss: 6681.9297 - mae: 6681.9297 - val_loss: 6591.8491 - val_mae: 6591.8491\n",
            "Epoch 192/200\n",
            "34/34 [==============================] - 0s 5ms/step - loss: 6676.5459 - mae: 6676.5459 - val_loss: 6583.8784 - val_mae: 6583.8784\n",
            "Epoch 193/200\n",
            "34/34 [==============================] - 0s 4ms/step - loss: 6671.2583 - mae: 6671.2583 - val_loss: 6577.7554 - val_mae: 6577.7554\n",
            "Epoch 194/200\n",
            "34/34 [==============================] - 0s 5ms/step - loss: 6665.2510 - mae: 6665.2510 - val_loss: 6568.9678 - val_mae: 6568.9678\n",
            "Epoch 195/200\n",
            "34/34 [==============================] - 0s 5ms/step - loss: 6660.1772 - mae: 6660.1772 - val_loss: 6561.2437 - val_mae: 6561.2437\n",
            "Epoch 196/200\n",
            "34/34 [==============================] - 0s 4ms/step - loss: 6655.1626 - mae: 6655.1626 - val_loss: 6555.0283 - val_mae: 6555.0283\n",
            "Epoch 197/200\n",
            "34/34 [==============================] - 0s 4ms/step - loss: 6649.6221 - mae: 6649.6221 - val_loss: 6547.8569 - val_mae: 6547.8569\n",
            "Epoch 198/200\n",
            "34/34 [==============================] - 0s 4ms/step - loss: 6643.9097 - mae: 6643.9097 - val_loss: 6538.7622 - val_mae: 6538.7622\n",
            "Epoch 199/200\n",
            "34/34 [==============================] - 0s 4ms/step - loss: 6639.0312 - mae: 6639.0312 - val_loss: 6533.0186 - val_mae: 6533.0186\n",
            "Epoch 200/200\n",
            "34/34 [==============================] - 0s 4ms/step - loss: 6634.7578 - mae: 6634.7578 - val_loss: 6525.1294 - val_mae: 6525.1294\n"
          ]
        },
        {
          "output_type": "execute_result",
          "data": {
            "text/plain": [
              "<keras.callbacks.History at 0x7f1aa75947c0>"
            ]
          },
          "metadata": {},
          "execution_count": 62
        }
      ]
    },
    {
      "cell_type": "code",
      "source": [
        "insurance_1.evaluate(X_val, y_val)"
      ],
      "metadata": {
        "colab": {
          "base_uri": "https://localhost:8080/"
        },
        "id": "vvJ5GdjrQPz3",
        "outputId": "8617576a-3e3e-4ab9-ed70-7a323870cdd1"
      },
      "execution_count": 63,
      "outputs": [
        {
          "output_type": "stream",
          "name": "stdout",
          "text": [
            "9/9 [==============================] - 0s 3ms/step - loss: 6525.1294 - mae: 6525.1294\n"
          ]
        },
        {
          "output_type": "execute_result",
          "data": {
            "text/plain": [
              "[6525.12939453125, 6525.12939453125]"
            ]
          },
          "metadata": {},
          "execution_count": 63
        }
      ]
    },
    {
      "cell_type": "code",
      "source": [
        "insurance_model.evaluate(X_val, y_val)"
      ],
      "metadata": {
        "colab": {
          "base_uri": "https://localhost:8080/"
        },
        "id": "I9T91nZyQaNW",
        "outputId": "60f03eb4-5df0-411d-8e46-d3ba81dffd2d"
      },
      "execution_count": 64,
      "outputs": [
        {
          "output_type": "stream",
          "name": "stdout",
          "text": [
            "9/9 [==============================] - 0s 2ms/step - loss: 3511.3101 - mae: 3511.3101\n"
          ]
        },
        {
          "output_type": "execute_result",
          "data": {
            "text/plain": [
              "[3511.31005859375, 3511.31005859375]"
            ]
          },
          "metadata": {},
          "execution_count": 64
        }
      ]
    },
    {
      "cell_type": "markdown",
      "source": [
        "### EarlyStopping Callback"
      ],
      "metadata": {
        "id": "iIJJSPGQVGRc"
      }
    },
    {
      "cell_type": "code",
      "source": [],
      "metadata": {
        "id": "XMdqeF0rQc77"
      },
      "execution_count": 64,
      "outputs": []
    },
    {
      "cell_type": "markdown",
      "source": [
        "### Scaling Features\n",
        "**Normalization, Relugarization**\n",
        "\n",
        "A common practice when working with neural networks is to make sure all of the data you pass to them is in the range 0 to 1.\n",
        "\n",
        "This practice is called normalization (scaling all values from their original range to, e.g. between 0 and 100,000 to be between 0 and 1).\n",
        "\n",
        "There is another process call standardization which converts all of your data to unit variance and 0 mean.\n",
        "\n",
        "These two practices are often part of a preprocessing pipeline (a series of functions to prepare your data for use with neural networks).\n",
        "\n",
        "Knowing this, some of the major steps you'll take to preprocess your data for a neural network include:\n",
        "\n",
        "Turning all of your data to numbers (a neural network can't handle strings).\n",
        "Making sure your data is in the right shape (verifying input and output shapes).\n",
        "Feature scaling:\n",
        "**Normalizing data** (making sure all values are between 0 and 1). This is done by subtracting the minimum value then dividing by the maximum value minus the minimum. This is also referred to as min-max scaling.\n",
        "**Standardization** (making sure all values have a mean of 0 and a variance of 1). This is done by subtracting the mean value from the target feature and then dividing it by the standard deviation.\n",
        "Which one should you use?\n",
        "***With neural networks you'll tend to favour normalization as they tend to prefer values between 0 and 1***(you'll see this espcially with image processing), however, you'll often find a neural network can perform pretty well with minimal feature scaling.*"
      ],
      "metadata": {
        "id": "e5rScKPQYEBH"
      }
    },
    {
      "cell_type": "code",
      "source": [
        "X_data.shape"
      ],
      "metadata": {
        "colab": {
          "base_uri": "https://localhost:8080/"
        },
        "id": "RptfkBw_YGZL",
        "outputId": "96c9bba6-0af2-4c92-b051-01c605ff6dd6"
      },
      "execution_count": 65,
      "outputs": [
        {
          "output_type": "execute_result",
          "data": {
            "text/plain": [
              "(1338, 11)"
            ]
          },
          "metadata": {},
          "execution_count": 65
        }
      ]
    },
    {
      "cell_type": "code",
      "source": [
        "X_data.head()"
      ],
      "metadata": {
        "colab": {
          "base_uri": "https://localhost:8080/",
          "height": 206
        },
        "id": "IcSP0hvQ6AvK",
        "outputId": "8acb55d3-18fd-4005-a15c-a63d6eb62784"
      },
      "execution_count": 66,
      "outputs": [
        {
          "output_type": "execute_result",
          "data": {
            "text/plain": [
              "   age     bmi  children  sex_female  sex_male  smoker_no  smoker_yes  \\\n",
              "0   19  27.900         0           1         0          0           1   \n",
              "1   18  33.770         1           0         1          1           0   \n",
              "2   28  33.000         3           0         1          1           0   \n",
              "3   33  22.705         0           0         1          1           0   \n",
              "4   32  28.880         0           0         1          1           0   \n",
              "\n",
              "   region_northeast  region_northwest  region_southeast  region_southwest  \n",
              "0                 0                 0                 0                 1  \n",
              "1                 0                 0                 1                 0  \n",
              "2                 0                 0                 1                 0  \n",
              "3                 0                 1                 0                 0  \n",
              "4                 0                 1                 0                 0  "
            ],
            "text/html": [
              "\n",
              "  <div id=\"df-03aa878a-d81d-481f-9a0f-a389686665e5\">\n",
              "    <div class=\"colab-df-container\">\n",
              "      <div>\n",
              "<style scoped>\n",
              "    .dataframe tbody tr th:only-of-type {\n",
              "        vertical-align: middle;\n",
              "    }\n",
              "\n",
              "    .dataframe tbody tr th {\n",
              "        vertical-align: top;\n",
              "    }\n",
              "\n",
              "    .dataframe thead th {\n",
              "        text-align: right;\n",
              "    }\n",
              "</style>\n",
              "<table border=\"1\" class=\"dataframe\">\n",
              "  <thead>\n",
              "    <tr style=\"text-align: right;\">\n",
              "      <th></th>\n",
              "      <th>age</th>\n",
              "      <th>bmi</th>\n",
              "      <th>children</th>\n",
              "      <th>sex_female</th>\n",
              "      <th>sex_male</th>\n",
              "      <th>smoker_no</th>\n",
              "      <th>smoker_yes</th>\n",
              "      <th>region_northeast</th>\n",
              "      <th>region_northwest</th>\n",
              "      <th>region_southeast</th>\n",
              "      <th>region_southwest</th>\n",
              "    </tr>\n",
              "  </thead>\n",
              "  <tbody>\n",
              "    <tr>\n",
              "      <th>0</th>\n",
              "      <td>19</td>\n",
              "      <td>27.900</td>\n",
              "      <td>0</td>\n",
              "      <td>1</td>\n",
              "      <td>0</td>\n",
              "      <td>0</td>\n",
              "      <td>1</td>\n",
              "      <td>0</td>\n",
              "      <td>0</td>\n",
              "      <td>0</td>\n",
              "      <td>1</td>\n",
              "    </tr>\n",
              "    <tr>\n",
              "      <th>1</th>\n",
              "      <td>18</td>\n",
              "      <td>33.770</td>\n",
              "      <td>1</td>\n",
              "      <td>0</td>\n",
              "      <td>1</td>\n",
              "      <td>1</td>\n",
              "      <td>0</td>\n",
              "      <td>0</td>\n",
              "      <td>0</td>\n",
              "      <td>1</td>\n",
              "      <td>0</td>\n",
              "    </tr>\n",
              "    <tr>\n",
              "      <th>2</th>\n",
              "      <td>28</td>\n",
              "      <td>33.000</td>\n",
              "      <td>3</td>\n",
              "      <td>0</td>\n",
              "      <td>1</td>\n",
              "      <td>1</td>\n",
              "      <td>0</td>\n",
              "      <td>0</td>\n",
              "      <td>0</td>\n",
              "      <td>1</td>\n",
              "      <td>0</td>\n",
              "    </tr>\n",
              "    <tr>\n",
              "      <th>3</th>\n",
              "      <td>33</td>\n",
              "      <td>22.705</td>\n",
              "      <td>0</td>\n",
              "      <td>0</td>\n",
              "      <td>1</td>\n",
              "      <td>1</td>\n",
              "      <td>0</td>\n",
              "      <td>0</td>\n",
              "      <td>1</td>\n",
              "      <td>0</td>\n",
              "      <td>0</td>\n",
              "    </tr>\n",
              "    <tr>\n",
              "      <th>4</th>\n",
              "      <td>32</td>\n",
              "      <td>28.880</td>\n",
              "      <td>0</td>\n",
              "      <td>0</td>\n",
              "      <td>1</td>\n",
              "      <td>1</td>\n",
              "      <td>0</td>\n",
              "      <td>0</td>\n",
              "      <td>1</td>\n",
              "      <td>0</td>\n",
              "      <td>0</td>\n",
              "    </tr>\n",
              "  </tbody>\n",
              "</table>\n",
              "</div>\n",
              "      <button class=\"colab-df-convert\" onclick=\"convertToInteractive('df-03aa878a-d81d-481f-9a0f-a389686665e5')\"\n",
              "              title=\"Convert this dataframe to an interactive table.\"\n",
              "              style=\"display:none;\">\n",
              "        \n",
              "  <svg xmlns=\"http://www.w3.org/2000/svg\" height=\"24px\"viewBox=\"0 0 24 24\"\n",
              "       width=\"24px\">\n",
              "    <path d=\"M0 0h24v24H0V0z\" fill=\"none\"/>\n",
              "    <path d=\"M18.56 5.44l.94 2.06.94-2.06 2.06-.94-2.06-.94-.94-2.06-.94 2.06-2.06.94zm-11 1L8.5 8.5l.94-2.06 2.06-.94-2.06-.94L8.5 2.5l-.94 2.06-2.06.94zm10 10l.94 2.06.94-2.06 2.06-.94-2.06-.94-.94-2.06-.94 2.06-2.06.94z\"/><path d=\"M17.41 7.96l-1.37-1.37c-.4-.4-.92-.59-1.43-.59-.52 0-1.04.2-1.43.59L10.3 9.45l-7.72 7.72c-.78.78-.78 2.05 0 2.83L4 21.41c.39.39.9.59 1.41.59.51 0 1.02-.2 1.41-.59l7.78-7.78 2.81-2.81c.8-.78.8-2.07 0-2.86zM5.41 20L4 18.59l7.72-7.72 1.47 1.35L5.41 20z\"/>\n",
              "  </svg>\n",
              "      </button>\n",
              "      \n",
              "  <style>\n",
              "    .colab-df-container {\n",
              "      display:flex;\n",
              "      flex-wrap:wrap;\n",
              "      gap: 12px;\n",
              "    }\n",
              "\n",
              "    .colab-df-convert {\n",
              "      background-color: #E8F0FE;\n",
              "      border: none;\n",
              "      border-radius: 50%;\n",
              "      cursor: pointer;\n",
              "      display: none;\n",
              "      fill: #1967D2;\n",
              "      height: 32px;\n",
              "      padding: 0 0 0 0;\n",
              "      width: 32px;\n",
              "    }\n",
              "\n",
              "    .colab-df-convert:hover {\n",
              "      background-color: #E2EBFA;\n",
              "      box-shadow: 0px 1px 2px rgba(60, 64, 67, 0.3), 0px 1px 3px 1px rgba(60, 64, 67, 0.15);\n",
              "      fill: #174EA6;\n",
              "    }\n",
              "\n",
              "    [theme=dark] .colab-df-convert {\n",
              "      background-color: #3B4455;\n",
              "      fill: #D2E3FC;\n",
              "    }\n",
              "\n",
              "    [theme=dark] .colab-df-convert:hover {\n",
              "      background-color: #434B5C;\n",
              "      box-shadow: 0px 1px 3px 1px rgba(0, 0, 0, 0.15);\n",
              "      filter: drop-shadow(0px 1px 2px rgba(0, 0, 0, 0.3));\n",
              "      fill: #FFFFFF;\n",
              "    }\n",
              "  </style>\n",
              "\n",
              "      <script>\n",
              "        const buttonEl =\n",
              "          document.querySelector('#df-03aa878a-d81d-481f-9a0f-a389686665e5 button.colab-df-convert');\n",
              "        buttonEl.style.display =\n",
              "          google.colab.kernel.accessAllowed ? 'block' : 'none';\n",
              "\n",
              "        async function convertToInteractive(key) {\n",
              "          const element = document.querySelector('#df-03aa878a-d81d-481f-9a0f-a389686665e5');\n",
              "          const dataTable =\n",
              "            await google.colab.kernel.invokeFunction('convertToInteractive',\n",
              "                                                     [key], {});\n",
              "          if (!dataTable) return;\n",
              "\n",
              "          const docLinkHtml = 'Like what you see? Visit the ' +\n",
              "            '<a target=\"_blank\" href=https://colab.research.google.com/notebooks/data_table.ipynb>data table notebook</a>'\n",
              "            + ' to learn more about interactive tables.';\n",
              "          element.innerHTML = '';\n",
              "          dataTable['output_type'] = 'display_data';\n",
              "          await google.colab.output.renderOutput(dataTable, element);\n",
              "          const docLink = document.createElement('div');\n",
              "          docLink.innerHTML = docLinkHtml;\n",
              "          element.appendChild(docLink);\n",
              "        }\n",
              "      </script>\n",
              "    </div>\n",
              "  </div>\n",
              "  "
            ]
          },
          "metadata": {},
          "execution_count": 66
        }
      ]
    },
    {
      "cell_type": "code",
      "source": [
        "X_data.age.hist()"
      ],
      "metadata": {
        "colab": {
          "base_uri": "https://localhost:8080/",
          "height": 447
        },
        "id": "NYDyvr-uATnu",
        "outputId": "4966a627-67ad-47fa-d3f4-7bf13dab7fe9"
      },
      "execution_count": 67,
      "outputs": [
        {
          "output_type": "execute_result",
          "data": {
            "text/plain": [
              "<Axes: >"
            ]
          },
          "metadata": {},
          "execution_count": 67
        },
        {
          "output_type": "display_data",
          "data": {
            "text/plain": [
              "<Figure size 640x480 with 1 Axes>"
            ],
            "image/png": "[encoded data removed]"
          },
          "metadata": {}
        }
      ]
    },
    {
      "cell_type": "code",
      "source": [
        "X_data.bmi.hist()"
      ],
      "metadata": {
        "colab": {
          "base_uri": "https://localhost:8080/",
          "height": 447
        },
        "id": "vRQ5xlH2Ai9d",
        "outputId": "374c9305-801e-4caf-e7ef-e03d9bfb018a"
      },
      "execution_count": 69,
      "outputs": [
        {
          "output_type": "execute_result",
          "data": {
            "text/plain": [
              "<Axes: >"
            ]
          },
          "metadata": {},
          "execution_count": 69
        },
        {
          "output_type": "display_data",
          "data": {
            "text/plain": [
              "<Figure size 640x480 with 1 Axes>"
            ],
            "image/png": "[encoded data removed]"
          },
          "metadata": {}
        }
      ]
    },
    {
      "cell_type": "code",
      "source": [
        "from sklearn.compose import make_column_transformer\n",
        "from sklearn.preprocessing import MinMaxScaler, OneHotEncoder\n",
        "from sklearn.model_selection import train_test_split"
      ],
      "metadata": {
        "id": "jq2u-S6_Amnm"
      },
      "execution_count": 70,
      "outputs": []
    },
    {
      "cell_type": "code",
      "source": [
        "ct = make_column_transformer((MinMaxScaler(), ['age', 'bmi','children']), remainder='passthrough')"
      ],
      "metadata": {
        "id": "vUcY2slwDoFl"
      },
      "execution_count": 81,
      "outputs": []
    },
    {
      "cell_type": "code",
      "source": [
        "x_train, x_test, y_train, y_test = train_test_split(X_data, Y, random_state= 42)"
      ],
      "metadata": {
        "id": "7h-AAm89E98N"
      },
      "execution_count": 82,
      "outputs": []
    },
    {
      "cell_type": "code",
      "source": [
        "ct.fit(x_train)"
      ],
      "metadata": {
        "colab": {
          "base_uri": "https://localhost:8080/",
          "height": 118
        },
        "id": "dd95YFY1ERls",
        "outputId": "dc5dbffa-cd53-4ec9-de3b-ee9e5ae456cf"
      },
      "execution_count": 83,
      "outputs": [
        {
          "output_type": "execute_result",
          "data": {
            "text/plain": [
              "ColumnTransformer(remainder='passthrough',\n",
              "                  transformers=[('minmaxscaler', MinMaxScaler(),\n",
              "                                 ['age', 'bmi', 'children'])])"
            ],
            "text/html": [
              "<style>#sk-container-id-2 {color: black;background-color: white;}#sk-container-id-2 pre{padding: 0;}#sk-container-id-2 div.sk-toggleable {background-color: white;}#sk-container-id-2 label.sk-toggleable__label {cursor: pointer;display: block;width: 100%;margin-bottom: 0;padding: 0.3em;box-sizing: border-box;text-align: center;}#sk-container-id-2 label.sk-toggleable__label-arrow:before {content: \"▸\";float: left;margin-right: 0.25em;color: #696969;}#sk-container-id-2 label.sk-toggleable__label-arrow:hover:before {color: black;}#sk-container-id-2 div.sk-estimator:hover label.sk-toggleable__label-arrow:before {color: black;}#sk-container-id-2 div.sk-toggleable__content {max-height: 0;max-width: 0;overflow: hidden;text-align: left;background-color: #f0f8ff;}#sk-container-id-2 div.sk-toggleable__content pre {margin: 0.2em;color: black;border-radius: 0.25em;background-color: #f0f8ff;}#sk-container-id-2 input.sk-toggleable__control:checked~div.sk-toggleable__content {max-height: 200px;max-width: 100%;overflow: auto;}#sk-container-id-2 input.sk-toggleable__control:checked~label.sk-toggleable__label-arrow:before {content: \"▾\";}#sk-container-id-2 div.sk-estimator input.sk-toggleable__control:checked~label.sk-toggleable__label {background-color: #d4ebff;}#sk-container-id-2 div.sk-label input.sk-toggleable__control:checked~label.sk-toggleable__label {background-color: #d4ebff;}#sk-container-id-2 input.sk-hidden--visually {border: 0;clip: rect(1px 1px 1px 1px);clip: rect(1px, 1px, 1px, 1px);height: 1px;margin: -1px;overflow: hidden;padding: 0;position: absolute;width: 1px;}#sk-container-id-2 div.sk-estimator {font-family: monospace;background-color: #f0f8ff;border: 1px dotted black;border-radius: 0.25em;box-sizing: border-box;margin-bottom: 0.5em;}#sk-container-id-2 div.sk-estimator:hover {background-color: #d4ebff;}#sk-container-id-2 div.sk-parallel-item::after {content: \"\";width: 100%;border-bottom: 1px solid gray;flex-grow: 1;}#sk-container-id-2 div.sk-label:hover label.sk-toggleable__label {background-color: #d4ebff;}#sk-container-id-2 div.sk-serial::before {content: \"\";position: absolute;border-left: 1px solid gray;box-sizing: border-box;top: 0;bottom: 0;left: 50%;z-index: 0;}#sk-container-id-2 div.sk-serial {display: flex;flex-direction: column;align-items: center;background-color: white;padding-right: 0.2em;padding-left: 0.2em;position: relative;}#sk-container-id-2 div.sk-item {position: relative;z-index: 1;}#sk-container-id-2 div.sk-parallel {display: flex;align-items: stretch;justify-content: center;background-color: white;position: relative;}#sk-container-id-2 div.sk-item::before, #sk-container-id-2 div.sk-parallel-item::before {content: \"\";position: absolute;border-left: 1px solid gray;box-sizing: border-box;top: 0;bottom: 0;left: 50%;z-index: -1;}#sk-container-id-2 div.sk-parallel-item {display: flex;flex-direction: column;z-index: 1;position: relative;background-color: white;}#sk-container-id-2 div.sk-parallel-item:first-child::after {align-self: flex-end;width: 50%;}#sk-container-id-2 div.sk-parallel-item:last-child::after {align-self: flex-start;width: 50%;}#sk-container-id-2 div.sk-parallel-item:only-child::after {width: 0;}#sk-container-id-2 div.sk-dashed-wrapped {border: 1px dashed gray;margin: 0 0.4em 0.5em 0.4em;box-sizing: border-box;padding-bottom: 0.4em;background-color: white;}#sk-container-id-2 div.sk-label label {font-family: monospace;font-weight: bold;display: inline-block;line-height: 1.2em;}#sk-container-id-2 div.sk-label-container {text-align: center;}#sk-container-id-2 div.sk-container {/* jupyter's `normalize.less` sets `[hidden] { display: none; }` but bootstrap.min.css set `[hidden] { display: none !important; }` so we also need the `!important` here to be able to override the default hidden behavior on the sphinx rendered scikit-learn.org. See: https://github.com/scikit-learn/scikit-learn/issues/21755 */display: inline-block !important;position: relative;}#sk-container-id-2 div.sk-text-repr-fallback {display: none;}</style><div id=\"sk-container-id-2\" class=\"sk-top-container\"><div class=\"sk-text-repr-fallback\"><pre>ColumnTransformer(remainder=&#x27;passthrough&#x27;,\n",
              "                  transformers=[(&#x27;minmaxscaler&#x27;, MinMaxScaler(),\n",
              "                                 [&#x27;age&#x27;, &#x27;bmi&#x27;, &#x27;children&#x27;])])</pre><b>In a Jupyter environment, please rerun this cell to show the HTML representation or trust the notebook. <br />On GitHub, the HTML representation is unable to render, please try loading this page with nbviewer.org.</b></div><div class=\"sk-container\" hidden><div class=\"sk-item sk-dashed-wrapped\"><div class=\"sk-label-container\"><div class=\"sk-label sk-toggleable\"><input class=\"sk-toggleable__control sk-hidden--visually\" id=\"sk-estimator-id-4\" type=\"checkbox\" ><label for=\"sk-estimator-id-4\" class=\"sk-toggleable__label sk-toggleable__label-arrow\">ColumnTransformer</label><div class=\"sk-toggleable__content\"><pre>ColumnTransformer(remainder=&#x27;passthrough&#x27;,\n",
              "                  transformers=[(&#x27;minmaxscaler&#x27;, MinMaxScaler(),\n",
              "                                 [&#x27;age&#x27;, &#x27;bmi&#x27;, &#x27;children&#x27;])])</pre></div></div></div><div class=\"sk-parallel\"><div class=\"sk-parallel-item\"><div class=\"sk-item\"><div class=\"sk-label-container\"><div class=\"sk-label sk-toggleable\"><input class=\"sk-toggleable__control sk-hidden--visually\" id=\"sk-estimator-id-5\" type=\"checkbox\" ><label for=\"sk-estimator-id-5\" class=\"sk-toggleable__label sk-toggleable__label-arrow\">minmaxscaler</label><div class=\"sk-toggleable__content\"><pre>[&#x27;age&#x27;, &#x27;bmi&#x27;, &#x27;children&#x27;]</pre></div></div></div><div class=\"sk-serial\"><div class=\"sk-item\"><div class=\"sk-estimator sk-toggleable\"><input class=\"sk-toggleable__control sk-hidden--visually\" id=\"sk-estimator-id-6\" type=\"checkbox\" ><label for=\"sk-estimator-id-6\" class=\"sk-toggleable__label sk-toggleable__label-arrow\">MinMaxScaler</label><div class=\"sk-toggleable__content\"><pre>MinMaxScaler()</pre></div></div></div></div></div></div><div class=\"sk-parallel-item\"><div class=\"sk-item\"><div class=\"sk-label-container\"><div class=\"sk-label sk-toggleable\"><input class=\"sk-toggleable__control sk-hidden--visually\" id=\"sk-estimator-id-7\" type=\"checkbox\" ><label for=\"sk-estimator-id-7\" class=\"sk-toggleable__label sk-toggleable__label-arrow\">remainder</label><div class=\"sk-toggleable__content\"><pre>[&#x27;sex_female&#x27;, &#x27;sex_male&#x27;, &#x27;smoker_no&#x27;, &#x27;smoker_yes&#x27;, &#x27;region_northeast&#x27;, &#x27;region_northwest&#x27;, &#x27;region_southeast&#x27;, &#x27;region_southwest&#x27;]</pre></div></div></div><div class=\"sk-serial\"><div class=\"sk-item\"><div class=\"sk-estimator sk-toggleable\"><input class=\"sk-toggleable__control sk-hidden--visually\" id=\"sk-estimator-id-8\" type=\"checkbox\" ><label for=\"sk-estimator-id-8\" class=\"sk-toggleable__label sk-toggleable__label-arrow\">passthrough</label><div class=\"sk-toggleable__content\"><pre>passthrough</pre></div></div></div></div></div></div></div></div></div></div>"
            ]
          },
          "metadata": {},
          "execution_count": 83
        }
      ]
    },
    {
      "cell_type": "code",
      "source": [
        "x_train_normal = ct.transform(x_train)\n",
        "x_test_normal = ct.transform(x_test)"
      ],
      "metadata": {
        "id": "eSeji7UxFQbT"
      },
      "execution_count": 84,
      "outputs": []
    },
    {
      "cell_type": "code",
      "source": [
        "x_train.head()"
      ],
      "metadata": {
        "colab": {
          "base_uri": "https://localhost:8080/",
          "height": 206
        },
        "id": "LRZYddTsFwxV",
        "outputId": "b8d84369-1391-4b62-ea5b-c2eaa981a5cf"
      },
      "execution_count": 85,
      "outputs": [
        {
          "output_type": "execute_result",
          "data": {
            "text/plain": [
              "      age     bmi  children  sex_female  sex_male  smoker_no  smoker_yes  \\\n",
              "693    24  23.655         0           0         1          1           0   \n",
              "1297   28  26.510         2           1         0          1           0   \n",
              "634    51  39.700         1           0         1          1           0   \n",
              "1022   47  36.080         1           0         1          0           1   \n",
              "178    46  28.900         2           1         0          1           0   \n",
              "\n",
              "      region_northeast  region_northwest  region_southeast  region_southwest  \n",
              "693                  0                 1                 0                 0  \n",
              "1297                 0                 0                 1                 0  \n",
              "634                  0                 0                 0                 1  \n",
              "1022                 0                 0                 1                 0  \n",
              "178                  0                 0                 0                 1  "
            ],
            "text/html": [
              "\n",
              "  <div id=\"df-a508472c-e07b-4b66-938a-c964438f8d2d\">\n",
              "    <div class=\"colab-df-container\">\n",
              "      <div>\n",
              "<style scoped>\n",
              "    .dataframe tbody tr th:only-of-type {\n",
              "        vertical-align: middle;\n",
              "    }\n",
              "\n",
              "    .dataframe tbody tr th {\n",
              "        vertical-align: top;\n",
              "    }\n",
              "\n",
              "    .dataframe thead th {\n",
              "        text-align: right;\n",
              "    }\n",
              "</style>\n",
              "<table border=\"1\" class=\"dataframe\">\n",
              "  <thead>\n",
              "    <tr style=\"text-align: right;\">\n",
              "      <th></th>\n",
              "      <th>age</th>\n",
              "      <th>bmi</th>\n",
              "      <th>children</th>\n",
              "      <th>sex_female</th>\n",
              "      <th>sex_male</th>\n",
              "      <th>smoker_no</th>\n",
              "      <th>smoker_yes</th>\n",
              "      <th>region_northeast</th>\n",
              "      <th>region_northwest</th>\n",
              "      <th>region_southeast</th>\n",
              "      <th>region_southwest</th>\n",
              "    </tr>\n",
              "  </thead>\n",
              "  <tbody>\n",
              "    <tr>\n",
              "      <th>693</th>\n",
              "      <td>24</td>\n",
              "      <td>23.655</td>\n",
              "      <td>0</td>\n",
              "      <td>0</td>\n",
              "      <td>1</td>\n",
              "      <td>1</td>\n",
              "      <td>0</td>\n",
              "      <td>0</td>\n",
              "      <td>1</td>\n",
              "      <td>0</td>\n",
              "      <td>0</td>\n",
              "    </tr>\n",
              "    <tr>\n",
              "      <th>1297</th>\n",
              "      <td>28</td>\n",
              "      <td>26.510</td>\n",
              "      <td>2</td>\n",
              "      <td>1</td>\n",
              "      <td>0</td>\n",
              "      <td>1</td>\n",
              "      <td>0</td>\n",
              "      <td>0</td>\n",
              "      <td>0</td>\n",
              "      <td>1</td>\n",
              "      <td>0</td>\n",
              "    </tr>\n",
              "    <tr>\n",
              "      <th>634</th>\n",
              "      <td>51</td>\n",
              "      <td>39.700</td>\n",
              "      <td>1</td>\n",
              "      <td>0</td>\n",
              "      <td>1</td>\n",
              "      <td>1</td>\n",
              "      <td>0</td>\n",
              "      <td>0</td>\n",
              "      <td>0</td>\n",
              "      <td>0</td>\n",
              "      <td>1</td>\n",
              "    </tr>\n",
              "    <tr>\n",
              "      <th>1022</th>\n",
              "      <td>47</td>\n",
              "      <td>36.080</td>\n",
              "      <td>1</td>\n",
              "      <td>0</td>\n",
              "      <td>1</td>\n",
              "      <td>0</td>\n",
              "      <td>1</td>\n",
              "      <td>0</td>\n",
              "      <td>0</td>\n",
              "      <td>1</td>\n",
              "      <td>0</td>\n",
              "    </tr>\n",
              "    <tr>\n",
              "      <th>178</th>\n",
              "      <td>46</td>\n",
              "      <td>28.900</td>\n",
              "      <td>2</td>\n",
              "      <td>1</td>\n",
              "      <td>0</td>\n",
              "      <td>1</td>\n",
              "      <td>0</td>\n",
              "      <td>0</td>\n",
              "      <td>0</td>\n",
              "      <td>0</td>\n",
              "      <td>1</td>\n",
              "    </tr>\n",
              "  </tbody>\n",
              "</table>\n",
              "</div>\n",
              "      <button class=\"colab-df-convert\" onclick=\"convertToInteractive('df-a508472c-e07b-4b66-938a-c964438f8d2d')\"\n",
              "              title=\"Convert this dataframe to an interactive table.\"\n",
              "              style=\"display:none;\">\n",
              "        \n",
              "  <svg xmlns=\"http://www.w3.org/2000/svg\" height=\"24px\"viewBox=\"0 0 24 24\"\n",
              "       width=\"24px\">\n",
              "    <path d=\"M0 0h24v24H0V0z\" fill=\"none\"/>\n",
              "    <path d=\"M18.56 5.44l.94 2.06.94-2.06 2.06-.94-2.06-.94-.94-2.06-.94 2.06-2.06.94zm-11 1L8.5 8.5l.94-2.06 2.06-.94-2.06-.94L8.5 2.5l-.94 2.06-2.06.94zm10 10l.94 2.06.94-2.06 2.06-.94-2.06-.94-.94-2.06-.94 2.06-2.06.94z\"/><path d=\"M17.41 7.96l-1.37-1.37c-.4-.4-.92-.59-1.43-.59-.52 0-1.04.2-1.43.59L10.3 9.45l-7.72 7.72c-.78.78-.78 2.05 0 2.83L4 21.41c.39.39.9.59 1.41.59.51 0 1.02-.2 1.41-.59l7.78-7.78 2.81-2.81c.8-.78.8-2.07 0-2.86zM5.41 20L4 18.59l7.72-7.72 1.47 1.35L5.41 20z\"/>\n",
              "  </svg>\n",
              "      </button>\n",
              "      \n",
              "  <style>\n",
              "    .colab-df-container {\n",
              "      display:flex;\n",
              "      flex-wrap:wrap;\n",
              "      gap: 12px;\n",
              "    }\n",
              "\n",
              "    .colab-df-convert {\n",
              "      background-color: #E8F0FE;\n",
              "      border: none;\n",
              "      border-radius: 50%;\n",
              "      cursor: pointer;\n",
              "      display: none;\n",
              "      fill: #1967D2;\n",
              "      height: 32px;\n",
              "      padding: 0 0 0 0;\n",
              "      width: 32px;\n",
              "    }\n",
              "\n",
              "    .colab-df-convert:hover {\n",
              "      background-color: #E2EBFA;\n",
              "      box-shadow: 0px 1px 2px rgba(60, 64, 67, 0.3), 0px 1px 3px 1px rgba(60, 64, 67, 0.15);\n",
              "      fill: #174EA6;\n",
              "    }\n",
              "\n",
              "    [theme=dark] .colab-df-convert {\n",
              "      background-color: #3B4455;\n",
              "      fill: #D2E3FC;\n",
              "    }\n",
              "\n",
              "    [theme=dark] .colab-df-convert:hover {\n",
              "      background-color: #434B5C;\n",
              "      box-shadow: 0px 1px 3px 1px rgba(0, 0, 0, 0.15);\n",
              "      filter: drop-shadow(0px 1px 2px rgba(0, 0, 0, 0.3));\n",
              "      fill: #FFFFFF;\n",
              "    }\n",
              "  </style>\n",
              "\n",
              "      <script>\n",
              "        const buttonEl =\n",
              "          document.querySelector('#df-a508472c-e07b-4b66-938a-c964438f8d2d button.colab-df-convert');\n",
              "        buttonEl.style.display =\n",
              "          google.colab.kernel.accessAllowed ? 'block' : 'none';\n",
              "\n",
              "        async function convertToInteractive(key) {\n",
              "          const element = document.querySelector('#df-a508472c-e07b-4b66-938a-c964438f8d2d');\n",
              "          const dataTable =\n",
              "            await google.colab.kernel.invokeFunction('convertToInteractive',\n",
              "                                                     [key], {});\n",
              "          if (!dataTable) return;\n",
              "\n",
              "          const docLinkHtml = 'Like what you see? Visit the ' +\n",
              "            '<a target=\"_blank\" href=https://colab.research.google.com/notebooks/data_table.ipynb>data table notebook</a>'\n",
              "            + ' to learn more about interactive tables.';\n",
              "          element.innerHTML = '';\n",
              "          dataTable['output_type'] = 'display_data';\n",
              "          await google.colab.output.renderOutput(dataTable, element);\n",
              "          const docLink = document.createElement('div');\n",
              "          docLink.innerHTML = docLinkHtml;\n",
              "          element.appendChild(docLink);\n",
              "        }\n",
              "      </script>\n",
              "    </div>\n",
              "  </div>\n",
              "  "
            ]
          },
          "metadata": {},
          "execution_count": 85
        }
      ]
    },
    {
      "cell_type": "code",
      "source": [
        "x_train_normal[0]"
      ],
      "metadata": {
        "colab": {
          "base_uri": "https://localhost:8080/"
        },
        "id": "w1pW-qNYFzD4",
        "outputId": "0b8aa60e-f32c-4c49-b01c-4f3321d274dc"
      },
      "execution_count": 86,
      "outputs": [
        {
          "output_type": "execute_result",
          "data": {
            "text/plain": [
              "array([0.13043478, 0.20702179, 0.        , 0.        , 1.        ,\n",
              "       1.        , 0.        , 0.        , 1.        , 0.        ,\n",
              "       0.        ])"
            ]
          },
          "metadata": {},
          "execution_count": 86
        }
      ]
    },
    {
      "cell_type": "code",
      "source": [
        "tf.random.set_seed(42)"
      ],
      "metadata": {
        "id": "YPojNbZZF23l"
      },
      "execution_count": 87,
      "outputs": []
    },
    {
      "cell_type": "code",
      "source": [
        "model2 = tf.keras.Sequential()\n",
        "model2.add(tf.keras.layers.Input((11,)))\n",
        "model2.add(tf.keras.layers.Dense(100))\n",
        "model2.add(tf.keras.layers.Dense(100))\n",
        "model2.add(tf.keras.layers.Dense(1))\n",
        "\n",
        "model2.compile(optimizer = tf.keras.optimizers.Adam(), loss = tf.keras.losses.mae, metrics = ['mae'])\n",
        "model2.summary()"
      ],
      "metadata": {
        "colab": {
          "base_uri": "https://localhost:8080/"
        },
        "id": "dvaAe3w9Hn9j",
        "outputId": "794400ba-e154-47bb-c6c8-491f6e508d5e"
      },
      "execution_count": 95,
      "outputs": [
        {
          "output_type": "stream",
          "name": "stdout",
          "text": [
            "Model: \"sequential_6\"\n",
            "_________________________________________________________________\n",
            " Layer (type)                Output Shape              Param #   \n",
            "=================================================================\n",
            " dense_17 (Dense)            (None, 100)               1200      \n",
            "                                                                 \n",
            " dense_18 (Dense)            (None, 100)               10100     \n",
            "                                                                 \n",
            " dense_19 (Dense)            (None, 1)                 101       \n",
            "                                                                 \n",
            "=================================================================\n",
            "Total params: 11,401\n",
            "Trainable params: 11,401\n",
            "Non-trainable params: 0\n",
            "_________________________________________________________________\n"
          ]
        }
      ]
    },
    {
      "cell_type": "code",
      "source": [
        "model2.fit(x_train_normal, y_train, epochs = 200)"
      ],
      "metadata": {
        "id": "iQRnFxLEH3tm"
      },
      "execution_count": null,
      "outputs": []
    },
    {
      "cell_type": "code",
      "source": [
        "insurance_model.evaluate(X_val, y_val)"
      ],
      "metadata": {
        "colab": {
          "base_uri": "https://localhost:8080/"
        },
        "id": "yl8KE7l1IG62",
        "outputId": "3739803d-0feb-488b-8e11-6991a8154175"
      },
      "execution_count": 92,
      "outputs": [
        {
          "output_type": "stream",
          "name": "stdout",
          "text": [
            "9/9 [==============================] - 0s 6ms/step - loss: 3511.3101 - mae: 3511.3101\n"
          ]
        },
        {
          "output_type": "execute_result",
          "data": {
            "text/plain": [
              "[3511.31005859375, 3511.31005859375]"
            ]
          },
          "metadata": {},
          "execution_count": 92
        }
      ]
    },
    {
      "cell_type": "code",
      "source": [
        "model2.evaluate(x_test_normal, y_test)"
      ],
      "metadata": {
        "colab": {
          "base_uri": "https://localhost:8080/"
        },
        "id": "hAAw8ezUIdWO",
        "outputId": "13c1fed2-0682-426e-c817-cefd4881c3e7"
      },
      "execution_count": 97,
      "outputs": [
        {
          "output_type": "stream",
          "name": "stdout",
          "text": [
            "11/11 [==============================] - 0s 2ms/step - loss: 3254.1912 - mae: 3254.1912\n"
          ]
        },
        {
          "output_type": "execute_result",
          "data": {
            "text/plain": [
              "[3254.191162109375, 3254.191162109375]"
            ]
          },
          "metadata": {},
          "execution_count": 97
        }
      ]
    },
    {
      "cell_type": "code",
      "source": [],
      "metadata": {
        "id": "54wnvaaDIm2E"
      },
      "execution_count": null,
      "outputs": []
    }
  ]
}