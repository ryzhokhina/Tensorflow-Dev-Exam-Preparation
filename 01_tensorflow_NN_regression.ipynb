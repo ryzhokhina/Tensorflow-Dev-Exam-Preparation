{
  "nbformat": 4,
  "nbformat_minor": 0,
  "metadata": {
    "colab": {
      "provenance": [],
      "gpuType": "T4",
      "authorship_tag": "ABX9TyPFzRt/INX4tBe49oM33bGR",
      "include_colab_link": true
    },
    "kernelspec": {
      "name": "python3",
      "display_name": "Python 3"
    },
    "language_info": {
      "name": "python"
    },
    "accelerator": "GPU"
  },
  "cells": [
    {
      "cell_type": "markdown",
      "metadata": {
        "id": "view-in-github",
        "colab_type": "text"
      },
      "source": [
        "<a href=\"https://colab.research.google.com/github/ryzhokhina/Tensorflow-Dev-Exam-Preparation/blob/main/01_tensorflow_NN_regression.ipynb\" target=\"_parent\"><img src=\"https://colab.research.google.com/assets/colab-badge.svg\" alt=\"Open In Colab\"/></a>"
      ]
    },
    {
      "cell_type": "markdown",
      "source": [
        "##01. Neural Network Regression with TensorFlow"
      ],
      "metadata": {
        "id": "pl8ck9HQE1Bs"
      }
    },
    {
      "cell_type": "code",
      "source": [
        "import tensorflow as tf\n",
        "print(tf.__version__)"
      ],
      "metadata": {
        "colab": {
          "base_uri": "https://localhost:8080/"
        },
        "id": "hZASpNf9EVxt",
        "outputId": "037c65b1-862c-4d5f-8211-181f4bf1b3eb"
      },
      "execution_count": null,
      "outputs": [
        {
          "output_type": "stream",
          "name": "stdout",
          "text": [
            "2.12.0\n"
          ]
        }
      ]
    },
    {
      "cell_type": "code",
      "source": [
        "import numpy as np\n",
        "import matplotlib.pyplot as plt"
      ],
      "metadata": {
        "id": "8NSdQKdEE8QB"
      },
      "execution_count": null,
      "outputs": []
    },
    {
      "cell_type": "code",
      "source": [
        "X = np.linspace(-7.0, 14, 8)\n",
        "y = np.linspace(3.0, 24, 8)"
      ],
      "metadata": {
        "id": "4iai_KK0HsFC"
      },
      "execution_count": null,
      "outputs": []
    },
    {
      "cell_type": "code",
      "source": [
        "plt.plot(X,y, '*-b')"
      ],
      "metadata": {
        "colab": {
          "base_uri": "https://localhost:8080/",
          "height": 452
        },
        "id": "OuS_tg-AIErB",
        "outputId": "404e66f0-1582-4daa-eb5a-cae8e7d89a75"
      },
      "execution_count": null,
      "outputs": [
        {
          "output_type": "execute_result",
          "data": {
            "text/plain": [
              "[<matplotlib.lines.Line2D at 0x7f91a12f09d0>]"
            ]
          },
          "metadata": {},
          "execution_count": 79
        },
        {
          "output_type": "display_data",
          "data": {
            "text/plain": [
              "<Figure size 640x480 with 1 Axes>"
            ],
            "image/png": "[encoded data removed]"
          },
          "metadata": {}
        }
      ]
    },
    {
      "cell_type": "code",
      "source": [
        "X = tf.constant(X)\n",
        "y = tf.constant(y)"
      ],
      "metadata": {
        "id": "oWcxQ56kIFrV"
      },
      "execution_count": null,
      "outputs": []
    },
    {
      "cell_type": "code",
      "source": [
        "X, y"
      ],
      "metadata": {
        "colab": {
          "base_uri": "https://localhost:8080/"
        },
        "id": "x7iAjZf_Nrzw",
        "outputId": "238b062b-5e44-4300-977e-d033172d0227"
      },
      "execution_count": null,
      "outputs": [
        {
          "output_type": "execute_result",
          "data": {
            "text/plain": [
              "(<tf.Tensor: shape=(8,), dtype=float64, numpy=array([-7., -4., -1.,  2.,  5.,  8., 11., 14.])>,\n",
              " <tf.Tensor: shape=(8,), dtype=float64, numpy=array([ 3.,  6.,  9., 12., 15., 18., 21., 24.])>)"
            ]
          },
          "metadata": {},
          "execution_count": 81
        }
      ]
    },
    {
      "cell_type": "code",
      "source": [
        "plt.scatter(X,y)"
      ],
      "metadata": {
        "colab": {
          "base_uri": "https://localhost:8080/",
          "height": 452
        },
        "id": "pdOaEbIgNtNC",
        "outputId": "b15d2de0-0940-45a1-d8e8-58787178cabd"
      },
      "execution_count": null,
      "outputs": [
        {
          "output_type": "execute_result",
          "data": {
            "text/plain": [
              "<matplotlib.collections.PathCollection at 0x7f91a12ad030>"
            ]
          },
          "metadata": {},
          "execution_count": 82
        },
        {
          "output_type": "display_data",
          "data": {
            "text/plain": [
              "<Figure size 640x480 with 1 Axes>"
            ],
            "image/png": "[encoded data removed]"
          },
          "metadata": {}
        }
      ]
    },
    {
      "cell_type": "markdown",
      "source": [
        "# Creating model with TensorFlow\n",
        "\n",
        "\n",
        "*   Create model\n",
        "*   Compile model\n",
        "*   Fit model\n",
        "*   Evaluate model\n",
        "\n",
        "\n",
        "\n"
      ],
      "metadata": {
        "id": "tTqNZaNJN-Qc"
      }
    },
    {
      "cell_type": "code",
      "source": [
        "tf.random.set_seed(42)\n",
        "\n",
        "model = tf.keras.Sequential()\n",
        "model.add(tf.keras.layers.Dense(1))\n",
        "model.compile(optimizer = 'sgd', loss = tf.keras.losses.mse, metrics = 'mae')\n",
        "model.fit(tf.expand_dims(X, -1), y, epochs = 10)"
      ],
      "metadata": {
        "colab": {
          "base_uri": "https://localhost:8080/"
        },
        "id": "Z1sTaG8pN6Ra",
        "outputId": "579b659d-622d-47a2-81cc-b59bb005f053"
      },
      "execution_count": null,
      "outputs": [
        {
          "output_type": "stream",
          "name": "stdout",
          "text": [
            "Epoch 1/10\n",
            "1/1 [==============================] - 0s 392ms/step - loss: 80.1724 - mae: 7.5455\n",
            "Epoch 2/10\n",
            "1/1 [==============================] - 0s 11ms/step - loss: 77.0425 - mae: 7.8655\n",
            "Epoch 3/10\n",
            "1/1 [==============================] - 0s 11ms/step - loss: 74.6001 - mae: 7.6556\n",
            "Epoch 4/10\n",
            "1/1 [==============================] - 0s 10ms/step - loss: 72.2565 - mae: 7.5510\n",
            "Epoch 5/10\n",
            "1/1 [==============================] - 0s 10ms/step - loss: 69.9874 - mae: 7.4283\n",
            "Epoch 6/10\n",
            "1/1 [==============================] - 0s 9ms/step - loss: 67.7896 - mae: 7.3114\n",
            "Epoch 7/10\n",
            "1/1 [==============================] - 0s 9ms/step - loss: 65.6607 - mae: 7.1955\n",
            "Epoch 8/10\n",
            "1/1 [==============================] - 0s 9ms/step - loss: 63.5988 - mae: 7.0817\n",
            "Epoch 9/10\n",
            "1/1 [==============================] - 0s 9ms/step - loss: 61.6016 - mae: 6.9696\n",
            "Epoch 10/10\n",
            "1/1 [==============================] - 0s 10ms/step - loss: 59.6671 - mae: 6.8593\n"
          ]
        },
        {
          "output_type": "execute_result",
          "data": {
            "text/plain": [
              "<keras.callbacks.History at 0x7f91a1183fa0>"
            ]
          },
          "metadata": {},
          "execution_count": 83
        }
      ]
    },
    {
      "cell_type": "code",
      "source": [
        "y_predict = model.predict(X)\n",
        "plt.plot(X, y_predict)\n",
        "plt.plot(X,y)"
      ],
      "metadata": {
        "colab": {
          "base_uri": "https://localhost:8080/",
          "height": 465
        },
        "id": "-BPcE2onQg7S",
        "outputId": "26d3591f-5a4e-47e3-b4e5-1642482d93c3"
      },
      "execution_count": null,
      "outputs": [
        {
          "output_type": "stream",
          "name": "stdout",
          "text": [
            "1/1 [==============================] - 0s 81ms/step\n"
          ]
        },
        {
          "output_type": "execute_result",
          "data": {
            "text/plain": [
              "[<matplotlib.lines.Line2D at 0x7f91a10850f0>]"
            ]
          },
          "metadata": {},
          "execution_count": 84
        },
        {
          "output_type": "display_data",
          "data": {
            "text/plain": [
              "<Figure size 640x480 with 1 Axes>"
            ],
            "image/png": "[encoded data removed]"
          },
          "metadata": {}
        }
      ]
    },
    {
      "cell_type": "markdown",
      "source": [
        "### Improving model:\n",
        "**1. creting model** : change layrs, change number of neurons, chanhe activation function\n",
        "\n",
        "**2. compile model** : change optimizer, change lerning rate, change loss function\n",
        "**3. fit model** : change number of data, change number of epochs"
      ],
      "metadata": {
        "id": "xnNpTe2VYybA"
      }
    },
    {
      "cell_type": "code",
      "source": [
        "tf.random.set_seed(42)\n",
        "model_dif = tf.keras.Sequential((\n",
        "  tf.keras.layers.Dense(50),\n",
        "  tf.keras.layers.Dense(50),\n",
        "  tf.keras.layers.Dense(50))\n",
        ")\n",
        "model_dif.add(tf.keras.layers.Dense(1))\n",
        "model_dif.compile(optimizer = tf.keras.optimizers.Adam(learning_rate = 0.01), loss = tf.keras.losses.mae, metrics = 'mae')\n",
        "history = model_dif.fit(tf.expand_dims(X, -1), y, epochs = 100)"
      ],
      "metadata": {
        "colab": {
          "base_uri": "https://localhost:8080/"
        },
        "id": "Ty890o0sYuzp",
        "outputId": "b4d49ce6-54ea-4374-979c-ab9d6879ec1a"
      },
      "execution_count": null,
      "outputs": [
        {
          "output_type": "stream",
          "name": "stdout",
          "text": [
            "Epoch 1/100\n",
            "1/1 [==============================] - 2s 2s/step - loss: 14.8016 - mae: 14.8016\n",
            "Epoch 2/100\n",
            "1/1 [==============================] - 0s 11ms/step - loss: 9.9400 - mae: 9.9400\n",
            "Epoch 3/100\n",
            "1/1 [==============================] - 0s 11ms/step - loss: 8.6370 - mae: 8.6370\n",
            "Epoch 4/100\n",
            "1/1 [==============================] - 0s 11ms/step - loss: 7.4149 - mae: 7.4149\n",
            "Epoch 5/100\n",
            "1/1 [==============================] - 0s 10ms/step - loss: 8.3379 - mae: 8.3379\n",
            "Epoch 6/100\n",
            "1/1 [==============================] - 0s 17ms/step - loss: 8.4692 - mae: 8.4692\n",
            "Epoch 7/100\n",
            "1/1 [==============================] - 0s 13ms/step - loss: 7.3012 - mae: 7.3012\n",
            "Epoch 8/100\n",
            "1/1 [==============================] - 0s 11ms/step - loss: 6.8746 - mae: 6.8746\n",
            "Epoch 9/100\n",
            "1/1 [==============================] - 0s 11ms/step - loss: 7.5503 - mae: 7.5503\n",
            "Epoch 10/100\n",
            "1/1 [==============================] - 0s 10ms/step - loss: 6.6451 - mae: 6.6451\n",
            "Epoch 11/100\n",
            "1/1 [==============================] - 0s 9ms/step - loss: 5.8653 - mae: 5.8653\n",
            "Epoch 12/100\n",
            "1/1 [==============================] - 0s 10ms/step - loss: 6.2761 - mae: 6.2761\n",
            "Epoch 13/100\n",
            "1/1 [==============================] - 0s 10ms/step - loss: 6.0114 - mae: 6.0114\n",
            "Epoch 14/100\n",
            "1/1 [==============================] - 0s 13ms/step - loss: 5.1751 - mae: 5.1751\n",
            "Epoch 15/100\n",
            "1/1 [==============================] - 0s 11ms/step - loss: 5.2218 - mae: 5.2218\n",
            "Epoch 16/100\n",
            "1/1 [==============================] - 0s 12ms/step - loss: 5.1557 - mae: 5.1557\n",
            "Epoch 17/100\n",
            "1/1 [==============================] - 0s 11ms/step - loss: 4.3723 - mae: 4.3723\n",
            "Epoch 18/100\n",
            "1/1 [==============================] - 0s 13ms/step - loss: 4.2543 - mae: 4.2543\n",
            "Epoch 19/100\n",
            "1/1 [==============================] - 0s 12ms/step - loss: 3.9663 - mae: 3.9663\n",
            "Epoch 20/100\n",
            "1/1 [==============================] - 0s 10ms/step - loss: 2.9058 - mae: 2.9058\n",
            "Epoch 21/100\n",
            "1/1 [==============================] - 0s 12ms/step - loss: 2.8975 - mae: 2.8975\n",
            "Epoch 22/100\n",
            "1/1 [==============================] - 0s 10ms/step - loss: 2.0291 - mae: 2.0291\n",
            "Epoch 23/100\n",
            "1/1 [==============================] - 0s 12ms/step - loss: 1.2541 - mae: 1.2541\n",
            "Epoch 24/100\n",
            "1/1 [==============================] - 0s 11ms/step - loss: 1.2729 - mae: 1.2729\n",
            "Epoch 25/100\n",
            "1/1 [==============================] - 0s 11ms/step - loss: 2.2065 - mae: 2.2065\n",
            "Epoch 26/100\n",
            "1/1 [==============================] - 0s 10ms/step - loss: 2.8322 - mae: 2.8322\n",
            "Epoch 27/100\n",
            "1/1 [==============================] - 0s 10ms/step - loss: 1.7196 - mae: 1.7196\n",
            "Epoch 28/100\n",
            "1/1 [==============================] - 0s 10ms/step - loss: 3.3055 - mae: 3.3055\n",
            "Epoch 29/100\n",
            "1/1 [==============================] - 0s 10ms/step - loss: 3.5526 - mae: 3.5526\n",
            "Epoch 30/100\n",
            "1/1 [==============================] - 0s 12ms/step - loss: 2.1745 - mae: 2.1745\n",
            "Epoch 31/100\n",
            "1/1 [==============================] - 0s 11ms/step - loss: 0.2964 - mae: 0.2964\n",
            "Epoch 32/100\n",
            "1/1 [==============================] - 0s 11ms/step - loss: 1.0846 - mae: 1.0846\n",
            "Epoch 33/100\n",
            "1/1 [==============================] - 0s 10ms/step - loss: 0.8274 - mae: 0.8274\n",
            "Epoch 34/100\n",
            "1/1 [==============================] - 0s 10ms/step - loss: 1.5030 - mae: 1.5030\n",
            "Epoch 35/100\n",
            "1/1 [==============================] - 0s 10ms/step - loss: 1.5949 - mae: 1.5949\n",
            "Epoch 36/100\n",
            "1/1 [==============================] - 0s 10ms/step - loss: 0.9436 - mae: 0.9436\n",
            "Epoch 37/100\n",
            "1/1 [==============================] - 0s 10ms/step - loss: 0.9079 - mae: 0.9079\n",
            "Epoch 38/100\n",
            "1/1 [==============================] - 0s 10ms/step - loss: 1.0172 - mae: 1.0172\n",
            "Epoch 39/100\n",
            "1/1 [==============================] - 0s 10ms/step - loss: 0.3923 - mae: 0.3923\n",
            "Epoch 40/100\n",
            "1/1 [==============================] - 0s 10ms/step - loss: 1.3028 - mae: 1.3028\n",
            "Epoch 41/100\n",
            "1/1 [==============================] - 0s 13ms/step - loss: 1.2761 - mae: 1.2761\n",
            "Epoch 42/100\n",
            "1/1 [==============================] - 0s 12ms/step - loss: 0.3475 - mae: 0.3475\n",
            "Epoch 43/100\n",
            "1/1 [==============================] - 0s 10ms/step - loss: 1.3191 - mae: 1.3191\n",
            "Epoch 44/100\n",
            "1/1 [==============================] - 0s 13ms/step - loss: 1.4830 - mae: 1.4830\n",
            "Epoch 45/100\n",
            "1/1 [==============================] - 0s 10ms/step - loss: 0.7046 - mae: 0.7046\n",
            "Epoch 46/100\n",
            "1/1 [==============================] - 0s 10ms/step - loss: 1.1806 - mae: 1.1806\n",
            "Epoch 47/100\n",
            "1/1 [==============================] - 0s 10ms/step - loss: 1.6090 - mae: 1.6090\n",
            "Epoch 48/100\n",
            "1/1 [==============================] - 0s 10ms/step - loss: 1.3290 - mae: 1.3290\n",
            "Epoch 49/100\n",
            "1/1 [==============================] - 0s 10ms/step - loss: 0.2943 - mae: 0.2943\n",
            "Epoch 50/100\n",
            "1/1 [==============================] - 0s 10ms/step - loss: 1.5320 - mae: 1.5320\n",
            "Epoch 51/100\n",
            "1/1 [==============================] - 0s 18ms/step - loss: 2.2136 - mae: 2.2136\n",
            "Epoch 52/100\n",
            "1/1 [==============================] - 0s 12ms/step - loss: 1.7732 - mae: 1.7732\n",
            "Epoch 53/100\n",
            "1/1 [==============================] - 0s 12ms/step - loss: 0.6195 - mae: 0.6195\n",
            "Epoch 54/100\n",
            "1/1 [==============================] - 0s 12ms/step - loss: 1.4851 - mae: 1.4851\n",
            "Epoch 55/100\n",
            "1/1 [==============================] - 0s 12ms/step - loss: 2.2047 - mae: 2.2047\n",
            "Epoch 56/100\n",
            "1/1 [==============================] - 0s 11ms/step - loss: 2.1889 - mae: 2.1889\n",
            "Epoch 57/100\n",
            "1/1 [==============================] - 0s 13ms/step - loss: 1.6224 - mae: 1.6224\n",
            "Epoch 58/100\n",
            "1/1 [==============================] - 0s 12ms/step - loss: 0.6233 - mae: 0.6233\n",
            "Epoch 59/100\n",
            "1/1 [==============================] - 0s 12ms/step - loss: 1.6617 - mae: 1.6617\n",
            "Epoch 60/100\n",
            "1/1 [==============================] - 0s 12ms/step - loss: 2.5451 - mae: 2.5451\n",
            "Epoch 61/100\n",
            "1/1 [==============================] - 0s 12ms/step - loss: 2.3854 - mae: 2.3854\n",
            "Epoch 62/100\n",
            "1/1 [==============================] - 0s 13ms/step - loss: 1.2958 - mae: 1.2958\n",
            "Epoch 63/100\n",
            "1/1 [==============================] - 0s 13ms/step - loss: 0.5492 - mae: 0.5492\n",
            "Epoch 64/100\n",
            "1/1 [==============================] - 0s 11ms/step - loss: 1.3034 - mae: 1.3034\n",
            "Epoch 65/100\n",
            "1/1 [==============================] - 0s 11ms/step - loss: 1.4071 - mae: 1.4071\n",
            "Epoch 66/100\n",
            "1/1 [==============================] - 0s 11ms/step - loss: 0.8370 - mae: 0.8370\n",
            "Epoch 67/100\n",
            "1/1 [==============================] - 0s 11ms/step - loss: 0.5558 - mae: 0.5558\n",
            "Epoch 68/100\n",
            "1/1 [==============================] - 0s 12ms/step - loss: 0.9572 - mae: 0.9572\n",
            "Epoch 69/100\n",
            "1/1 [==============================] - 0s 11ms/step - loss: 0.5873 - mae: 0.5873\n",
            "Epoch 70/100\n",
            "1/1 [==============================] - 0s 11ms/step - loss: 0.4803 - mae: 0.4803\n",
            "Epoch 71/100\n",
            "1/1 [==============================] - 0s 12ms/step - loss: 0.7331 - mae: 0.7331\n",
            "Epoch 72/100\n",
            "1/1 [==============================] - 0s 12ms/step - loss: 0.3612 - mae: 0.3612\n",
            "Epoch 73/100\n",
            "1/1 [==============================] - 0s 11ms/step - loss: 0.7236 - mae: 0.7236\n",
            "Epoch 74/100\n",
            "1/1 [==============================] - 0s 12ms/step - loss: 0.8918 - mae: 0.8918\n",
            "Epoch 75/100\n",
            "1/1 [==============================] - 0s 11ms/step - loss: 0.3532 - mae: 0.3532\n",
            "Epoch 76/100\n",
            "1/1 [==============================] - 0s 12ms/step - loss: 0.8428 - mae: 0.8428\n",
            "Epoch 77/100\n",
            "1/1 [==============================] - 0s 12ms/step - loss: 1.1661 - mae: 1.1661\n",
            "Epoch 78/100\n",
            "1/1 [==============================] - 0s 10ms/step - loss: 0.8912 - mae: 0.8912\n",
            "Epoch 79/100\n",
            "1/1 [==============================] - 0s 12ms/step - loss: 0.1584 - mae: 0.1584\n",
            "Epoch 80/100\n",
            "1/1 [==============================] - 0s 12ms/step - loss: 0.7751 - mae: 0.7751\n",
            "Epoch 81/100\n",
            "1/1 [==============================] - 0s 11ms/step - loss: 0.7201 - mae: 0.7201\n",
            "Epoch 82/100\n",
            "1/1 [==============================] - 0s 12ms/step - loss: 0.0861 - mae: 0.0861\n",
            "Epoch 83/100\n",
            "1/1 [==============================] - 0s 12ms/step - loss: 0.3758 - mae: 0.3758\n",
            "Epoch 84/100\n",
            "1/1 [==============================] - 0s 11ms/step - loss: 0.0413 - mae: 0.0413\n",
            "Epoch 85/100\n",
            "1/1 [==============================] - 0s 12ms/step - loss: 0.8828 - mae: 0.8828\n",
            "Epoch 86/100\n",
            "1/1 [==============================] - 0s 11ms/step - loss: 1.0036 - mae: 1.0036\n",
            "Epoch 87/100\n",
            "1/1 [==============================] - 0s 11ms/step - loss: 0.3955 - mae: 0.3955\n",
            "Epoch 88/100\n",
            "1/1 [==============================] - 0s 11ms/step - loss: 0.7787 - mae: 0.7787\n",
            "Epoch 89/100\n",
            "1/1 [==============================] - 0s 12ms/step - loss: 1.2028 - mae: 1.2028\n",
            "Epoch 90/100\n",
            "1/1 [==============================] - 0s 10ms/step - loss: 1.0261 - mae: 1.0261\n",
            "Epoch 91/100\n",
            "1/1 [==============================] - 0s 11ms/step - loss: 0.2857 - mae: 0.2857\n",
            "Epoch 92/100\n",
            "1/1 [==============================] - 0s 9ms/step - loss: 1.0621 - mae: 1.0621\n",
            "Epoch 93/100\n",
            "1/1 [==============================] - 0s 12ms/step - loss: 1.6068 - mae: 1.6068\n",
            "Epoch 94/100\n",
            "1/1 [==============================] - 0s 11ms/step - loss: 1.3510 - mae: 1.3510\n",
            "Epoch 95/100\n",
            "1/1 [==============================] - 0s 12ms/step - loss: 0.4139 - mae: 0.4139\n",
            "Epoch 96/100\n",
            "1/1 [==============================] - 0s 10ms/step - loss: 1.0085 - mae: 1.0085\n",
            "Epoch 97/100\n",
            "1/1 [==============================] - 0s 10ms/step - loss: 1.6556 - mae: 1.6556\n",
            "Epoch 98/100\n",
            "1/1 [==============================] - 0s 12ms/step - loss: 1.7284 - mae: 1.7284\n",
            "Epoch 99/100\n",
            "1/1 [==============================] - 0s 14ms/step - loss: 1.2944 - mae: 1.2944\n",
            "Epoch 100/100\n",
            "1/1 [==============================] - 0s 11ms/step - loss: 0.3837 - mae: 0.3837\n"
          ]
        }
      ]
    },
    {
      "cell_type": "code",
      "source": [
        "plt.plot(X, model_dif.predict(X))\n",
        "plt.plot(X,y)\n",
        "plt.show()"
      ],
      "metadata": {
        "colab": {
          "base_uri": "https://localhost:8080/",
          "height": 447
        },
        "id": "TFOQlwWLR1rE",
        "outputId": "142e209b-4c31-48ba-df33-4d6354603a11"
      },
      "execution_count": null,
      "outputs": [
        {
          "output_type": "stream",
          "name": "stdout",
          "text": [
            "1/1 [==============================] - 0s 64ms/step\n"
          ]
        },
        {
          "output_type": "display_data",
          "data": {
            "text/plain": [
              "<Figure size 640x480 with 1 Axes>"
            ],
            "image/png": "[encoded data removed]"
          },
          "metadata": {}
        }
      ]
    },
    {
      "cell_type": "code",
      "source": [
        "model_dif.predict(X)"
      ],
      "metadata": {
        "colab": {
          "base_uri": "https://localhost:8080/"
        },
        "id": "g0Wk3Codb0Gd",
        "outputId": "31811c6e-104c-4115-ea61-b3d1c617449a"
      },
      "execution_count": null,
      "outputs": [
        {
          "output_type": "stream",
          "name": "stdout",
          "text": [
            "1/1 [==============================] - 0s 29ms/step\n"
          ]
        },
        {
          "output_type": "execute_result",
          "data": {
            "text/plain": [
              "array([[ 2.493699 ],\n",
              "       [ 5.9229636],\n",
              "       [ 9.352228 ],\n",
              "       [12.781494 ],\n",
              "       [16.210758 ],\n",
              "       [19.640022 ],\n",
              "       [23.069286 ],\n",
              "       [26.49855  ]], dtype=float32)"
            ]
          },
          "metadata": {},
          "execution_count": 93
        }
      ]
    },
    {
      "cell_type": "code",
      "source": [
        "y"
      ],
      "metadata": {
        "colab": {
          "base_uri": "https://localhost:8080/"
        },
        "id": "wjuOXqiFb6ql",
        "outputId": "41d5c6c2-cb7a-42e9-86e8-f815191e7f17"
      },
      "execution_count": null,
      "outputs": [
        {
          "output_type": "execute_result",
          "data": {
            "text/plain": [
              "<tf.Tensor: shape=(8,), dtype=float64, numpy=array([ 3.,  6.,  9., 12., 15., 18., 21., 24.])>"
            ]
          },
          "metadata": {},
          "execution_count": 94
        }
      ]
    },
    {
      "cell_type": "code",
      "source": [
        "model.summary()"
      ],
      "metadata": {
        "colab": {
          "base_uri": "https://localhost:8080/"
        },
        "id": "37COCg8kd6VI",
        "outputId": "5f1ef727-8535-469b-aaa3-93f82fce3112"
      },
      "execution_count": null,
      "outputs": [
        {
          "output_type": "stream",
          "name": "stdout",
          "text": [
            "Model: \"sequential_29\"\n",
            "_________________________________________________________________\n",
            " Layer (type)                Output Shape              Param #   \n",
            "=================================================================\n",
            " dense_105 (Dense)           (None, 1)                 2         \n",
            "                                                                 \n",
            "=================================================================\n",
            "Total params: 2\n",
            "Trainable params: 2\n",
            "Non-trainable params: 0\n",
            "_________________________________________________________________\n"
          ]
        }
      ]
    },
    {
      "cell_type": "code",
      "source": [
        "model_dif.summary()"
      ],
      "metadata": {
        "colab": {
          "base_uri": "https://localhost:8080/"
        },
        "id": "SeQ8Be7V1BPk",
        "outputId": "e1e39ea9-74c3-4eaa-cb68-439fb1223834"
      },
      "execution_count": null,
      "outputs": [
        {
          "output_type": "stream",
          "name": "stdout",
          "text": [
            "Model: \"sequential_31\"\n",
            "_________________________________________________________________\n",
            " Layer (type)                Output Shape              Param #   \n",
            "=================================================================\n",
            " dense_110 (Dense)           (None, 50)                100       \n",
            "                                                                 \n",
            " dense_111 (Dense)           (None, 50)                2550      \n",
            "                                                                 \n",
            " dense_112 (Dense)           (None, 50)                2550      \n",
            "                                                                 \n",
            " dense_113 (Dense)           (None, 1)                 51        \n",
            "                                                                 \n",
            "=================================================================\n",
            "Total params: 5,251\n",
            "Trainable params: 5,251\n",
            "Non-trainable params: 0\n",
            "_________________________________________________________________\n"
          ]
        }
      ]
    },
    {
      "cell_type": "code",
      "source": [
        "import pandas as pd\n",
        "plt.plot(pd.DataFrame(history.history))"
      ],
      "metadata": {
        "colab": {
          "base_uri": "https://localhost:8080/",
          "height": 465
        },
        "id": "74Ez-4HT1Eql",
        "outputId": "affff034-04c5-4c9d-e3e3-dd5bbc4f47df"
      },
      "execution_count": null,
      "outputs": [
        {
          "output_type": "execute_result",
          "data": {
            "text/plain": [
              "[<matplotlib.lines.Line2D at 0x7f91a818fca0>,\n",
              " <matplotlib.lines.Line2D at 0x7f91a818d450>]"
            ]
          },
          "metadata": {},
          "execution_count": 99
        },
        {
          "output_type": "display_data",
          "data": {
            "text/plain": [
              "<Figure size 640x480 with 1 Axes>"
            ],
            "image/png": "[encoded data removed]"
          },
          "metadata": {}
        }
      ]
    },
    {
      "cell_type": "code",
      "source": [
        "pd.DataFrame(history.history)"
      ],
      "metadata": {
        "colab": {
          "base_uri": "https://localhost:8080/",
          "height": 424
        },
        "id": "A5J9patz1YOg",
        "outputId": "6456d544-ff0f-49a9-e7fd-4a82285fe172"
      },
      "execution_count": null,
      "outputs": [
        {
          "output_type": "execute_result",
          "data": {
            "text/plain": [
              "         loss        mae\n",
              "0   14.801599  14.801599\n",
              "1    9.940037   9.940037\n",
              "2    8.637047   8.637047\n",
              "3    7.414884   7.414884\n",
              "4    8.337853   8.337853\n",
              "..        ...        ...\n",
              "95   1.008492   1.008492\n",
              "96   1.655578   1.655578\n",
              "97   1.728410   1.728410\n",
              "98   1.294447   1.294447\n",
              "99   0.383651   0.383651\n",
              "\n",
              "[100 rows x 2 columns]"
            ],
            "text/html": [
              "\n",
              "  <div id=\"df-c9433f48-786b-4925-84b9-21e15447d825\">\n",
              "    <div class=\"colab-df-container\">\n",
              "      <div>\n",
              "<style scoped>\n",
              "    .dataframe tbody tr th:only-of-type {\n",
              "        vertical-align: middle;\n",
              "    }\n",
              "\n",
              "    .dataframe tbody tr th {\n",
              "        vertical-align: top;\n",
              "    }\n",
              "\n",
              "    .dataframe thead th {\n",
              "        text-align: right;\n",
              "    }\n",
              "</style>\n",
              "<table border=\"1\" class=\"dataframe\">\n",
              "  <thead>\n",
              "    <tr style=\"text-align: right;\">\n",
              "      <th></th>\n",
              "      <th>loss</th>\n",
              "      <th>mae</th>\n",
              "    </tr>\n",
              "  </thead>\n",
              "  <tbody>\n",
              "    <tr>\n",
              "      <th>0</th>\n",
              "      <td>14.801599</td>\n",
              "      <td>14.801599</td>\n",
              "    </tr>\n",
              "    <tr>\n",
              "      <th>1</th>\n",
              "      <td>9.940037</td>\n",
              "      <td>9.940037</td>\n",
              "    </tr>\n",
              "    <tr>\n",
              "      <th>2</th>\n",
              "      <td>8.637047</td>\n",
              "      <td>8.637047</td>\n",
              "    </tr>\n",
              "    <tr>\n",
              "      <th>3</th>\n",
              "      <td>7.414884</td>\n",
              "      <td>7.414884</td>\n",
              "    </tr>\n",
              "    <tr>\n",
              "      <th>4</th>\n",
              "      <td>8.337853</td>\n",
              "      <td>8.337853</td>\n",
              "    </tr>\n",
              "    <tr>\n",
              "      <th>...</th>\n",
              "      <td>...</td>\n",
              "      <td>...</td>\n",
              "    </tr>\n",
              "    <tr>\n",
              "      <th>95</th>\n",
              "      <td>1.008492</td>\n",
              "      <td>1.008492</td>\n",
              "    </tr>\n",
              "    <tr>\n",
              "      <th>96</th>\n",
              "      <td>1.655578</td>\n",
              "      <td>1.655578</td>\n",
              "    </tr>\n",
              "    <tr>\n",
              "      <th>97</th>\n",
              "      <td>1.728410</td>\n",
              "      <td>1.728410</td>\n",
              "    </tr>\n",
              "    <tr>\n",
              "      <th>98</th>\n",
              "      <td>1.294447</td>\n",
              "      <td>1.294447</td>\n",
              "    </tr>\n",
              "    <tr>\n",
              "      <th>99</th>\n",
              "      <td>0.383651</td>\n",
              "      <td>0.383651</td>\n",
              "    </tr>\n",
              "  </tbody>\n",
              "</table>\n",
              "<p>100 rows × 2 columns</p>\n",
              "</div>\n",
              "      <button class=\"colab-df-convert\" onclick=\"convertToInteractive('df-c9433f48-786b-4925-84b9-21e15447d825')\"\n",
              "              title=\"Convert this dataframe to an interactive table.\"\n",
              "              style=\"display:none;\">\n",
              "        \n",
              "  <svg xmlns=\"http://www.w3.org/2000/svg\" height=\"24px\"viewBox=\"0 0 24 24\"\n",
              "       width=\"24px\">\n",
              "    <path d=\"M0 0h24v24H0V0z\" fill=\"none\"/>\n",
              "    <path d=\"M18.56 5.44l.94 2.06.94-2.06 2.06-.94-2.06-.94-.94-2.06-.94 2.06-2.06.94zm-11 1L8.5 8.5l.94-2.06 2.06-.94-2.06-.94L8.5 2.5l-.94 2.06-2.06.94zm10 10l.94 2.06.94-2.06 2.06-.94-2.06-.94-.94-2.06-.94 2.06-2.06.94z\"/><path d=\"M17.41 7.96l-1.37-1.37c-.4-.4-.92-.59-1.43-.59-.52 0-1.04.2-1.43.59L10.3 9.45l-7.72 7.72c-.78.78-.78 2.05 0 2.83L4 21.41c.39.39.9.59 1.41.59.51 0 1.02-.2 1.41-.59l7.78-7.78 2.81-2.81c.8-.78.8-2.07 0-2.86zM5.41 20L4 18.59l7.72-7.72 1.47 1.35L5.41 20z\"/>\n",
              "  </svg>\n",
              "      </button>\n",
              "      \n",
              "  <style>\n",
              "    .colab-df-container {\n",
              "      display:flex;\n",
              "      flex-wrap:wrap;\n",
              "      gap: 12px;\n",
              "    }\n",
              "\n",
              "    .colab-df-convert {\n",
              "      background-color: #E8F0FE;\n",
              "      border: none;\n",
              "      border-radius: 50%;\n",
              "      cursor: pointer;\n",
              "      display: none;\n",
              "      fill: #1967D2;\n",
              "      height: 32px;\n",
              "      padding: 0 0 0 0;\n",
              "      width: 32px;\n",
              "    }\n",
              "\n",
              "    .colab-df-convert:hover {\n",
              "      background-color: #E2EBFA;\n",
              "      box-shadow: 0px 1px 2px rgba(60, 64, 67, 0.3), 0px 1px 3px 1px rgba(60, 64, 67, 0.15);\n",
              "      fill: #174EA6;\n",
              "    }\n",
              "\n",
              "    [theme=dark] .colab-df-convert {\n",
              "      background-color: #3B4455;\n",
              "      fill: #D2E3FC;\n",
              "    }\n",
              "\n",
              "    [theme=dark] .colab-df-convert:hover {\n",
              "      background-color: #434B5C;\n",
              "      box-shadow: 0px 1px 3px 1px rgba(0, 0, 0, 0.15);\n",
              "      filter: drop-shadow(0px 1px 2px rgba(0, 0, 0, 0.3));\n",
              "      fill: #FFFFFF;\n",
              "    }\n",
              "  </style>\n",
              "\n",
              "      <script>\n",
              "        const buttonEl =\n",
              "          document.querySelector('#df-c9433f48-786b-4925-84b9-21e15447d825 button.colab-df-convert');\n",
              "        buttonEl.style.display =\n",
              "          google.colab.kernel.accessAllowed ? 'block' : 'none';\n",
              "\n",
              "        async function convertToInteractive(key) {\n",
              "          const element = document.querySelector('#df-c9433f48-786b-4925-84b9-21e15447d825');\n",
              "          const dataTable =\n",
              "            await google.colab.kernel.invokeFunction('convertToInteractive',\n",
              "                                                     [key], {});\n",
              "          if (!dataTable) return;\n",
              "\n",
              "          const docLinkHtml = 'Like what you see? Visit the ' +\n",
              "            '<a target=\"_blank\" href=https://colab.research.google.com/notebooks/data_table.ipynb>data table notebook</a>'\n",
              "            + ' to learn more about interactive tables.';\n",
              "          element.innerHTML = '';\n",
              "          dataTable['output_type'] = 'display_data';\n",
              "          await google.colab.output.renderOutput(dataTable, element);\n",
              "          const docLink = document.createElement('div');\n",
              "          docLink.innerHTML = docLinkHtml;\n",
              "          element.appendChild(docLink);\n",
              "        }\n",
              "      </script>\n",
              "    </div>\n",
              "  </div>\n",
              "  "
            ]
          },
          "metadata": {},
          "execution_count": 100
        }
      ]
    },
    {
      "cell_type": "code",
      "source": [],
      "metadata": {
        "id": "aE3io-_A1hpd"
      },
      "execution_count": null,
      "outputs": []
    }
  ]
}