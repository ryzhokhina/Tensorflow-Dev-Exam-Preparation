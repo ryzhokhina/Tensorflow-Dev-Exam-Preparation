{
  "nbformat": 4,
  "nbformat_minor": 0,
  "metadata": {
    "colab": {
      "provenance": [],
      "toc_visible": true,
      "gpuType": "T4",
      "authorship_tag": "ABX9TyP3kDdj2xpfHrou6d6e4jvX",
      "include_colab_link": true
    },
    "kernelspec": {
      "name": "python3",
      "display_name": "Python 3"
    },
    "language_info": {
      "name": "python"
    },
    "accelerator": "GPU"
  },
  "cells": [
    {
      "cell_type": "markdown",
      "metadata": {
        "id": "view-in-github",
        "colab_type": "text"
      },
      "source": [
        "<a href=\"https://colab.research.google.com/github/ryzhokhina/Tensorflow-Dev-Exam-Preparation/blob/main/10_timeseries_forecasting_univariate.ipynb\" target=\"_parent\"><img src=\"https://colab.research.google.com/assets/colab-badge.svg\" alt=\"Open In Colab\"/></a>"
      ]
    },
    {
      "cell_type": "code",
      "execution_count": 1,
      "metadata": {
        "colab": {
          "base_uri": "https://localhost:8080/"
        },
        "id": "KOPedqBRiH-S",
        "outputId": "e9e5a8a7-7b7d-40fd-c456-951ef152651a"
      },
      "outputs": [
        {
          "output_type": "stream",
          "name": "stdout",
          "text": [
            "GPU 0: Tesla T4 (UUID: GPU-dcbfb98d-03b9-73cf-5efb-e5d77a60e85f)\n"
          ]
        }
      ],
      "source": [
        "# Check for GPU\n",
        "!nvidia-smi -L"
      ]
    },
    {
      "cell_type": "markdown",
      "source": [
        "# Get data - bitcoin cost data"
      ],
      "metadata": {
        "id": "5XsZQ1RyzBB9"
      }
    },
    {
      "cell_type": "code",
      "source": [
        "!wget https://raw.githubusercontent.com/mrdbourke/tensorflow-deep-learning/main/extras/BTC_USD_2013-10-01_2021-05-18-CoinDesk.csv"
      ],
      "metadata": {
        "colab": {
          "base_uri": "https://localhost:8080/"
        },
        "id": "WRPat3mKzAnS",
        "outputId": "5bb7bcbe-0266-463b-b8c5-ab0410a7781a"
      },
      "execution_count": 2,
      "outputs": [
        {
          "output_type": "stream",
          "name": "stdout",
          "text": [
            "--2023-08-30 15:23:14--  https://raw.githubusercontent.com/mrdbourke/tensorflow-deep-learning/main/extras/BTC_USD_2013-10-01_2021-05-18-CoinDesk.csv\n",
            "Resolving raw.githubusercontent.com (raw.githubusercontent.com)... 185.199.108.133, 185.199.109.133, 185.199.110.133, ...\n",
            "Connecting to raw.githubusercontent.com (raw.githubusercontent.com)|185.199.108.133|:443... connected.\n",
            "HTTP request sent, awaiting response... 200 OK\n",
            "Length: 178509 (174K) [text/plain]\n",
            "Saving to: ‘BTC_USD_2013-10-01_2021-05-18-CoinDesk.csv’\n",
            "\n",
            "BTC_USD_2013-10-01_ 100%[===================>] 174.33K  --.-KB/s    in 0.005s  \n",
            "\n",
            "2023-08-30 15:23:14 (36.7 MB/s) - ‘BTC_USD_2013-10-01_2021-05-18-CoinDesk.csv’ saved [178509/178509]\n",
            "\n"
          ]
        }
      ]
    },
    {
      "cell_type": "code",
      "source": [
        "import pandas as pd\n",
        "import numpy as np"
      ],
      "metadata": {
        "id": "-0guy76HxqgL"
      },
      "execution_count": 3,
      "outputs": []
    },
    {
      "cell_type": "code",
      "source": [
        "data = pd.read_csv('BTC_USD_2013-10-01_2021-05-18-CoinDesk.csv', parse_dates = ['Date'], index_col=['Date'])\n"
      ],
      "metadata": {
        "id": "1ByeMH0L0DuV"
      },
      "execution_count": 4,
      "outputs": []
    },
    {
      "cell_type": "code",
      "source": [
        "print(data.shape)\n",
        "data.head()\n",
        "\n"
      ],
      "metadata": {
        "colab": {
          "base_uri": "https://localhost:8080/",
          "height": 255
        },
        "id": "HVrrz3Nm0HVI",
        "outputId": "349b1ec6-a4f0-40ac-f4d0-55f9a9bf9d35"
      },
      "execution_count": 5,
      "outputs": [
        {
          "output_type": "stream",
          "name": "stdout",
          "text": [
            "(2787, 5)\n"
          ]
        },
        {
          "output_type": "execute_result",
          "data": {
            "text/plain": [
              "           Currency  Closing Price (USD)  24h Open (USD)  24h High (USD)  \\\n",
              "Date                                                                       \n",
              "2013-10-01      BTC            123.65499       124.30466       124.75166   \n",
              "2013-10-02      BTC            125.45500       123.65499       125.75850   \n",
              "2013-10-03      BTC            108.58483       125.45500       125.66566   \n",
              "2013-10-04      BTC            118.67466       108.58483       118.67500   \n",
              "2013-10-05      BTC            121.33866       118.67466       121.93633   \n",
              "\n",
              "            24h Low (USD)  \n",
              "Date                       \n",
              "2013-10-01      122.56349  \n",
              "2013-10-02      123.63383  \n",
              "2013-10-03       83.32833  \n",
              "2013-10-04      107.05816  \n",
              "2013-10-05      118.00566  "
            ],
            "text/html": [
              "\n",
              "  <div id=\"df-b1f7948a-f0f0-4dc1-9f6c-e315851d9824\" class=\"colab-df-container\">\n",
              "    <div>\n",
              "<style scoped>\n",
              "    .dataframe tbody tr th:only-of-type {\n",
              "        vertical-align: middle;\n",
              "    }\n",
              "\n",
              "    .dataframe tbody tr th {\n",
              "        vertical-align: top;\n",
              "    }\n",
              "\n",
              "    .dataframe thead th {\n",
              "        text-align: right;\n",
              "    }\n",
              "</style>\n",
              "<table border=\"1\" class=\"dataframe\">\n",
              "  <thead>\n",
              "    <tr style=\"text-align: right;\">\n",
              "      <th></th>\n",
              "      <th>Currency</th>\n",
              "      <th>Closing Price (USD)</th>\n",
              "      <th>24h Open (USD)</th>\n",
              "      <th>24h High (USD)</th>\n",
              "      <th>24h Low (USD)</th>\n",
              "    </tr>\n",
              "    <tr>\n",
              "      <th>Date</th>\n",
              "      <th></th>\n",
              "      <th></th>\n",
              "      <th></th>\n",
              "      <th></th>\n",
              "      <th></th>\n",
              "    </tr>\n",
              "  </thead>\n",
              "  <tbody>\n",
              "    <tr>\n",
              "      <th>2013-10-01</th>\n",
              "      <td>BTC</td>\n",
              "      <td>123.65499</td>\n",
              "      <td>124.30466</td>\n",
              "      <td>124.75166</td>\n",
              "      <td>122.56349</td>\n",
              "    </tr>\n",
              "    <tr>\n",
              "      <th>2013-10-02</th>\n",
              "      <td>BTC</td>\n",
              "      <td>125.45500</td>\n",
              "      <td>123.65499</td>\n",
              "      <td>125.75850</td>\n",
              "      <td>123.63383</td>\n",
              "    </tr>\n",
              "    <tr>\n",
              "      <th>2013-10-03</th>\n",
              "      <td>BTC</td>\n",
              "      <td>108.58483</td>\n",
              "      <td>125.45500</td>\n",
              "      <td>125.66566</td>\n",
              "      <td>83.32833</td>\n",
              "    </tr>\n",
              "    <tr>\n",
              "      <th>2013-10-04</th>\n",
              "      <td>BTC</td>\n",
              "      <td>118.67466</td>\n",
              "      <td>108.58483</td>\n",
              "      <td>118.67500</td>\n",
              "      <td>107.05816</td>\n",
              "    </tr>\n",
              "    <tr>\n",
              "      <th>2013-10-05</th>\n",
              "      <td>BTC</td>\n",
              "      <td>121.33866</td>\n",
              "      <td>118.67466</td>\n",
              "      <td>121.93633</td>\n",
              "      <td>118.00566</td>\n",
              "    </tr>\n",
              "  </tbody>\n",
              "</table>\n",
              "</div>\n",
              "    <div class=\"colab-df-buttons\">\n",
              "\n",
              "  <div class=\"colab-df-container\">\n",
              "    <button class=\"colab-df-convert\" onclick=\"convertToInteractive('df-b1f7948a-f0f0-4dc1-9f6c-e315851d9824')\"\n",
              "            title=\"Convert this dataframe to an interactive table.\"\n",
              "            style=\"display:none;\">\n",
              "\n",
              "  <svg xmlns=\"http://www.w3.org/2000/svg\" height=\"24px\" viewBox=\"0 -960 960 960\">\n",
              "    <path d=\"M120-120v-720h720v720H120Zm60-500h600v-160H180v160Zm220 220h160v-160H400v160Zm0 220h160v-160H400v160ZM180-400h160v-160H180v160Zm440 0h160v-160H620v160ZM180-180h160v-160H180v160Zm440 0h160v-160H620v160Z\"/>\n",
              "  </svg>\n",
              "    </button>\n",
              "\n",
              "  <style>\n",
              "    .colab-df-container {\n",
              "      display:flex;\n",
              "      gap: 12px;\n",
              "    }\n",
              "\n",
              "    .colab-df-convert {\n",
              "      background-color: #E8F0FE;\n",
              "      border: none;\n",
              "      border-radius: 50%;\n",
              "      cursor: pointer;\n",
              "      display: none;\n",
              "      fill: #1967D2;\n",
              "      height: 32px;\n",
              "      padding: 0 0 0 0;\n",
              "      width: 32px;\n",
              "    }\n",
              "\n",
              "    .colab-df-convert:hover {\n",
              "      background-color: #E2EBFA;\n",
              "      box-shadow: 0px 1px 2px rgba(60, 64, 67, 0.3), 0px 1px 3px 1px rgba(60, 64, 67, 0.15);\n",
              "      fill: #174EA6;\n",
              "    }\n",
              "\n",
              "    .colab-df-buttons div {\n",
              "      margin-bottom: 4px;\n",
              "    }\n",
              "\n",
              "    [theme=dark] .colab-df-convert {\n",
              "      background-color: #3B4455;\n",
              "      fill: #D2E3FC;\n",
              "    }\n",
              "\n",
              "    [theme=dark] .colab-df-convert:hover {\n",
              "      background-color: #434B5C;\n",
              "      box-shadow: 0px 1px 3px 1px rgba(0, 0, 0, 0.15);\n",
              "      filter: drop-shadow(0px 1px 2px rgba(0, 0, 0, 0.3));\n",
              "      fill: #FFFFFF;\n",
              "    }\n",
              "  </style>\n",
              "\n",
              "    <script>\n",
              "      const buttonEl =\n",
              "        document.querySelector('#df-b1f7948a-f0f0-4dc1-9f6c-e315851d9824 button.colab-df-convert');\n",
              "      buttonEl.style.display =\n",
              "        google.colab.kernel.accessAllowed ? 'block' : 'none';\n",
              "\n",
              "      async function convertToInteractive(key) {\n",
              "        const element = document.querySelector('#df-b1f7948a-f0f0-4dc1-9f6c-e315851d9824');\n",
              "        const dataTable =\n",
              "          await google.colab.kernel.invokeFunction('convertToInteractive',\n",
              "                                                    [key], {});\n",
              "        if (!dataTable) return;\n",
              "\n",
              "        const docLinkHtml = 'Like what you see? Visit the ' +\n",
              "          '<a target=\"_blank\" href=https://colab.research.google.com/notebooks/data_table.ipynb>data table notebook</a>'\n",
              "          + ' to learn more about interactive tables.';\n",
              "        element.innerHTML = '';\n",
              "        dataTable['output_type'] = 'display_data';\n",
              "        await google.colab.output.renderOutput(dataTable, element);\n",
              "        const docLink = document.createElement('div');\n",
              "        docLink.innerHTML = docLinkHtml;\n",
              "        element.appendChild(docLink);\n",
              "      }\n",
              "    </script>\n",
              "  </div>\n",
              "\n",
              "\n",
              "<div id=\"df-33837409-69a2-47c8-832a-9b494561190d\">\n",
              "  <button class=\"colab-df-quickchart\" onclick=\"quickchart('df-33837409-69a2-47c8-832a-9b494561190d')\"\n",
              "            title=\"Suggest charts.\"\n",
              "            style=\"display:none;\">\n",
              "\n",
              "<svg xmlns=\"http://www.w3.org/2000/svg\" height=\"24px\"viewBox=\"0 0 24 24\"\n",
              "     width=\"24px\">\n",
              "    <g>\n",
              "        <path d=\"M19 3H5c-1.1 0-2 .9-2 2v14c0 1.1.9 2 2 2h14c1.1 0 2-.9 2-2V5c0-1.1-.9-2-2-2zM9 17H7v-7h2v7zm4 0h-2V7h2v10zm4 0h-2v-4h2v4z\"/>\n",
              "    </g>\n",
              "</svg>\n",
              "  </button>\n",
              "\n",
              "<style>\n",
              "  .colab-df-quickchart {\n",
              "    background-color: #E8F0FE;\n",
              "    border: none;\n",
              "    border-radius: 50%;\n",
              "    cursor: pointer;\n",
              "    display: none;\n",
              "    fill: #1967D2;\n",
              "    height: 32px;\n",
              "    padding: 0 0 0 0;\n",
              "    width: 32px;\n",
              "  }\n",
              "\n",
              "  .colab-df-quickchart:hover {\n",
              "    background-color: #E2EBFA;\n",
              "    box-shadow: 0px 1px 2px rgba(60, 64, 67, 0.3), 0px 1px 3px 1px rgba(60, 64, 67, 0.15);\n",
              "    fill: #174EA6;\n",
              "  }\n",
              "\n",
              "  [theme=dark] .colab-df-quickchart {\n",
              "    background-color: #3B4455;\n",
              "    fill: #D2E3FC;\n",
              "  }\n",
              "\n",
              "  [theme=dark] .colab-df-quickchart:hover {\n",
              "    background-color: #434B5C;\n",
              "    box-shadow: 0px 1px 3px 1px rgba(0, 0, 0, 0.15);\n",
              "    filter: drop-shadow(0px 1px 2px rgba(0, 0, 0, 0.3));\n",
              "    fill: #FFFFFF;\n",
              "  }\n",
              "</style>\n",
              "\n",
              "  <script>\n",
              "    async function quickchart(key) {\n",
              "      const charts = await google.colab.kernel.invokeFunction(\n",
              "          'suggestCharts', [key], {});\n",
              "    }\n",
              "    (() => {\n",
              "      let quickchartButtonEl =\n",
              "        document.querySelector('#df-33837409-69a2-47c8-832a-9b494561190d button');\n",
              "      quickchartButtonEl.style.display =\n",
              "        google.colab.kernel.accessAllowed ? 'block' : 'none';\n",
              "    })();\n",
              "  </script>\n",
              "</div>\n",
              "    </div>\n",
              "  </div>\n"
            ]
          },
          "metadata": {},
          "execution_count": 5
        }
      ]
    },
    {
      "cell_type": "code",
      "source": [
        "data.tail()"
      ],
      "metadata": {
        "colab": {
          "base_uri": "https://localhost:8080/",
          "height": 238
        },
        "id": "1B2CpX2d4sod",
        "outputId": "4a0bfe13-2404-40dc-f603-eb5130f1ce2d"
      },
      "execution_count": 6,
      "outputs": [
        {
          "output_type": "execute_result",
          "data": {
            "text/plain": [
              "           Currency  Closing Price (USD)  24h Open (USD)  24h High (USD)  \\\n",
              "Date                                                                       \n",
              "2021-05-14      BTC         49764.132082    49596.778891    51448.798576   \n",
              "2021-05-15      BTC         50032.693137    49717.354353    51578.312545   \n",
              "2021-05-16      BTC         47885.625255    49926.035067    50690.802950   \n",
              "2021-05-17      BTC         45604.615754    46805.537852    49670.414174   \n",
              "2021-05-18      BTC         43144.471291    46439.336570    46622.853437   \n",
              "\n",
              "            24h Low (USD)  \n",
              "Date                       \n",
              "2021-05-14   46294.720180  \n",
              "2021-05-15   48944.346536  \n",
              "2021-05-16   47005.102292  \n",
              "2021-05-17   43868.638969  \n",
              "2021-05-18   42102.346430  "
            ],
            "text/html": [
              "\n",
              "  <div id=\"df-d8fa9710-1ab3-4f61-b8d9-94cc5a098dfa\" class=\"colab-df-container\">\n",
              "    <div>\n",
              "<style scoped>\n",
              "    .dataframe tbody tr th:only-of-type {\n",
              "        vertical-align: middle;\n",
              "    }\n",
              "\n",
              "    .dataframe tbody tr th {\n",
              "        vertical-align: top;\n",
              "    }\n",
              "\n",
              "    .dataframe thead th {\n",
              "        text-align: right;\n",
              "    }\n",
              "</style>\n",
              "<table border=\"1\" class=\"dataframe\">\n",
              "  <thead>\n",
              "    <tr style=\"text-align: right;\">\n",
              "      <th></th>\n",
              "      <th>Currency</th>\n",
              "      <th>Closing Price (USD)</th>\n",
              "      <th>24h Open (USD)</th>\n",
              "      <th>24h High (USD)</th>\n",
              "      <th>24h Low (USD)</th>\n",
              "    </tr>\n",
              "    <tr>\n",
              "      <th>Date</th>\n",
              "      <th></th>\n",
              "      <th></th>\n",
              "      <th></th>\n",
              "      <th></th>\n",
              "      <th></th>\n",
              "    </tr>\n",
              "  </thead>\n",
              "  <tbody>\n",
              "    <tr>\n",
              "      <th>2021-05-14</th>\n",
              "      <td>BTC</td>\n",
              "      <td>49764.132082</td>\n",
              "      <td>49596.778891</td>\n",
              "      <td>51448.798576</td>\n",
              "      <td>46294.720180</td>\n",
              "    </tr>\n",
              "    <tr>\n",
              "      <th>2021-05-15</th>\n",
              "      <td>BTC</td>\n",
              "      <td>50032.693137</td>\n",
              "      <td>49717.354353</td>\n",
              "      <td>51578.312545</td>\n",
              "      <td>48944.346536</td>\n",
              "    </tr>\n",
              "    <tr>\n",
              "      <th>2021-05-16</th>\n",
              "      <td>BTC</td>\n",
              "      <td>47885.625255</td>\n",
              "      <td>49926.035067</td>\n",
              "      <td>50690.802950</td>\n",
              "      <td>47005.102292</td>\n",
              "    </tr>\n",
              "    <tr>\n",
              "      <th>2021-05-17</th>\n",
              "      <td>BTC</td>\n",
              "      <td>45604.615754</td>\n",
              "      <td>46805.537852</td>\n",
              "      <td>49670.414174</td>\n",
              "      <td>43868.638969</td>\n",
              "    </tr>\n",
              "    <tr>\n",
              "      <th>2021-05-18</th>\n",
              "      <td>BTC</td>\n",
              "      <td>43144.471291</td>\n",
              "      <td>46439.336570</td>\n",
              "      <td>46622.853437</td>\n",
              "      <td>42102.346430</td>\n",
              "    </tr>\n",
              "  </tbody>\n",
              "</table>\n",
              "</div>\n",
              "    <div class=\"colab-df-buttons\">\n",
              "\n",
              "  <div class=\"colab-df-container\">\n",
              "    <button class=\"colab-df-convert\" onclick=\"convertToInteractive('df-d8fa9710-1ab3-4f61-b8d9-94cc5a098dfa')\"\n",
              "            title=\"Convert this dataframe to an interactive table.\"\n",
              "            style=\"display:none;\">\n",
              "\n",
              "  <svg xmlns=\"http://www.w3.org/2000/svg\" height=\"24px\" viewBox=\"0 -960 960 960\">\n",
              "    <path d=\"M120-120v-720h720v720H120Zm60-500h600v-160H180v160Zm220 220h160v-160H400v160Zm0 220h160v-160H400v160ZM180-400h160v-160H180v160Zm440 0h160v-160H620v160ZM180-180h160v-160H180v160Zm440 0h160v-160H620v160Z\"/>\n",
              "  </svg>\n",
              "    </button>\n",
              "\n",
              "  <style>\n",
              "    .colab-df-container {\n",
              "      display:flex;\n",
              "      gap: 12px;\n",
              "    }\n",
              "\n",
              "    .colab-df-convert {\n",
              "      background-color: #E8F0FE;\n",
              "      border: none;\n",
              "      border-radius: 50%;\n",
              "      cursor: pointer;\n",
              "      display: none;\n",
              "      fill: #1967D2;\n",
              "      height: 32px;\n",
              "      padding: 0 0 0 0;\n",
              "      width: 32px;\n",
              "    }\n",
              "\n",
              "    .colab-df-convert:hover {\n",
              "      background-color: #E2EBFA;\n",
              "      box-shadow: 0px 1px 2px rgba(60, 64, 67, 0.3), 0px 1px 3px 1px rgba(60, 64, 67, 0.15);\n",
              "      fill: #174EA6;\n",
              "    }\n",
              "\n",
              "    .colab-df-buttons div {\n",
              "      margin-bottom: 4px;\n",
              "    }\n",
              "\n",
              "    [theme=dark] .colab-df-convert {\n",
              "      background-color: #3B4455;\n",
              "      fill: #D2E3FC;\n",
              "    }\n",
              "\n",
              "    [theme=dark] .colab-df-convert:hover {\n",
              "      background-color: #434B5C;\n",
              "      box-shadow: 0px 1px 3px 1px rgba(0, 0, 0, 0.15);\n",
              "      filter: drop-shadow(0px 1px 2px rgba(0, 0, 0, 0.3));\n",
              "      fill: #FFFFFF;\n",
              "    }\n",
              "  </style>\n",
              "\n",
              "    <script>\n",
              "      const buttonEl =\n",
              "        document.querySelector('#df-d8fa9710-1ab3-4f61-b8d9-94cc5a098dfa button.colab-df-convert');\n",
              "      buttonEl.style.display =\n",
              "        google.colab.kernel.accessAllowed ? 'block' : 'none';\n",
              "\n",
              "      async function convertToInteractive(key) {\n",
              "        const element = document.querySelector('#df-d8fa9710-1ab3-4f61-b8d9-94cc5a098dfa');\n",
              "        const dataTable =\n",
              "          await google.colab.kernel.invokeFunction('convertToInteractive',\n",
              "                                                    [key], {});\n",
              "        if (!dataTable) return;\n",
              "\n",
              "        const docLinkHtml = 'Like what you see? Visit the ' +\n",
              "          '<a target=\"_blank\" href=https://colab.research.google.com/notebooks/data_table.ipynb>data table notebook</a>'\n",
              "          + ' to learn more about interactive tables.';\n",
              "        element.innerHTML = '';\n",
              "        dataTable['output_type'] = 'display_data';\n",
              "        await google.colab.output.renderOutput(dataTable, element);\n",
              "        const docLink = document.createElement('div');\n",
              "        docLink.innerHTML = docLinkHtml;\n",
              "        element.appendChild(docLink);\n",
              "      }\n",
              "    </script>\n",
              "  </div>\n",
              "\n",
              "\n",
              "<div id=\"df-d1179795-74d9-49ba-a379-194fefa480db\">\n",
              "  <button class=\"colab-df-quickchart\" onclick=\"quickchart('df-d1179795-74d9-49ba-a379-194fefa480db')\"\n",
              "            title=\"Suggest charts.\"\n",
              "            style=\"display:none;\">\n",
              "\n",
              "<svg xmlns=\"http://www.w3.org/2000/svg\" height=\"24px\"viewBox=\"0 0 24 24\"\n",
              "     width=\"24px\">\n",
              "    <g>\n",
              "        <path d=\"M19 3H5c-1.1 0-2 .9-2 2v14c0 1.1.9 2 2 2h14c1.1 0 2-.9 2-2V5c0-1.1-.9-2-2-2zM9 17H7v-7h2v7zm4 0h-2V7h2v10zm4 0h-2v-4h2v4z\"/>\n",
              "    </g>\n",
              "</svg>\n",
              "  </button>\n",
              "\n",
              "<style>\n",
              "  .colab-df-quickchart {\n",
              "    background-color: #E8F0FE;\n",
              "    border: none;\n",
              "    border-radius: 50%;\n",
              "    cursor: pointer;\n",
              "    display: none;\n",
              "    fill: #1967D2;\n",
              "    height: 32px;\n",
              "    padding: 0 0 0 0;\n",
              "    width: 32px;\n",
              "  }\n",
              "\n",
              "  .colab-df-quickchart:hover {\n",
              "    background-color: #E2EBFA;\n",
              "    box-shadow: 0px 1px 2px rgba(60, 64, 67, 0.3), 0px 1px 3px 1px rgba(60, 64, 67, 0.15);\n",
              "    fill: #174EA6;\n",
              "  }\n",
              "\n",
              "  [theme=dark] .colab-df-quickchart {\n",
              "    background-color: #3B4455;\n",
              "    fill: #D2E3FC;\n",
              "  }\n",
              "\n",
              "  [theme=dark] .colab-df-quickchart:hover {\n",
              "    background-color: #434B5C;\n",
              "    box-shadow: 0px 1px 3px 1px rgba(0, 0, 0, 0.15);\n",
              "    filter: drop-shadow(0px 1px 2px rgba(0, 0, 0, 0.3));\n",
              "    fill: #FFFFFF;\n",
              "  }\n",
              "</style>\n",
              "\n",
              "  <script>\n",
              "    async function quickchart(key) {\n",
              "      const charts = await google.colab.kernel.invokeFunction(\n",
              "          'suggestCharts', [key], {});\n",
              "    }\n",
              "    (() => {\n",
              "      let quickchartButtonEl =\n",
              "        document.querySelector('#df-d1179795-74d9-49ba-a379-194fefa480db button');\n",
              "      quickchartButtonEl.style.display =\n",
              "        google.colab.kernel.accessAllowed ? 'block' : 'none';\n",
              "    })();\n",
              "  </script>\n",
              "</div>\n",
              "    </div>\n",
              "  </div>\n"
            ]
          },
          "metadata": {},
          "execution_count": 6
        }
      ]
    },
    {
      "cell_type": "code",
      "source": [
        "import matplotlib.pyplot as plt\n"
      ],
      "metadata": {
        "id": "8yRvCQox_MNS"
      },
      "execution_count": 7,
      "outputs": []
    },
    {
      "cell_type": "code",
      "source": [
        "plt.figure(figsize=(12, 6))\n",
        "data.plot(y=['Closing Price (USD)', '24h High (USD)', '24h Low (USD)'])\n",
        "plt.title('Bitcoin Price')\n",
        "plt.show()"
      ],
      "metadata": {
        "colab": {
          "base_uri": "https://localhost:8080/",
          "height": 489
        },
        "id": "u18dAzWJ0U-E",
        "outputId": "9db74777-2e9f-4ad5-f7da-c71d03f0c97f"
      },
      "execution_count": 8,
      "outputs": [
        {
          "output_type": "display_data",
          "data": {
            "text/plain": [
              "<Figure size 1200x600 with 0 Axes>"
            ]
          },
          "metadata": {}
        },
        {
          "output_type": "display_data",
          "data": {
            "text/plain": [
              "<Figure size 640x480 with 1 Axes>"
            ],
            "image/png": "[encoded data removed]"
          },
          "metadata": {}
        }
      ]
    },
    {
      "cell_type": "code",
      "source": [
        "data.info()"
      ],
      "metadata": {
        "colab": {
          "base_uri": "https://localhost:8080/"
        },
        "id": "ty-t2-bC21FU",
        "outputId": "b8f864e1-05fb-4769-d664-32396656e8ab"
      },
      "execution_count": 9,
      "outputs": [
        {
          "output_type": "stream",
          "name": "stdout",
          "text": [
            "<class 'pandas.core.frame.DataFrame'>\n",
            "DatetimeIndex: 2787 entries, 2013-10-01 to 2021-05-18\n",
            "Data columns (total 5 columns):\n",
            " #   Column               Non-Null Count  Dtype  \n",
            "---  ------               --------------  -----  \n",
            " 0   Currency             2787 non-null   object \n",
            " 1   Closing Price (USD)  2787 non-null   float64\n",
            " 2   24h Open (USD)       2787 non-null   float64\n",
            " 3   24h High (USD)       2787 non-null   float64\n",
            " 4   24h Low (USD)        2787 non-null   float64\n",
            "dtypes: float64(4), object(1)\n",
            "memory usage: 130.6+ KB\n"
          ]
        }
      ]
    },
    {
      "cell_type": "code",
      "source": [
        "#import data using csv modules\n",
        "import csv\n",
        "from datetime import datetime"
      ],
      "metadata": {
        "id": "4TR4GCDXAV48"
      },
      "execution_count": 10,
      "outputs": []
    },
    {
      "cell_type": "code",
      "source": [
        "#import data using csv modules\n",
        "\n",
        "timesteps = []\n",
        "btc_prices = []\n",
        "\n",
        "with open('BTC_USD_2013-10-01_2021-05-18-CoinDesk.csv') as csvfile:\n",
        "    reader = csv.reader(csvfile)\n",
        "    next(reader)\n",
        "    for row in reader:\n",
        "        timesteps.append(datetime.strptime(row[1], '%Y-%m-%d'))\n",
        "        btc_prices.append(float(row[2]))"
      ],
      "metadata": {
        "id": "3wS0HhQz4N5A"
      },
      "execution_count": 11,
      "outputs": []
    },
    {
      "cell_type": "code",
      "source": [
        "timesteps[:10], btc_prices[:10]"
      ],
      "metadata": {
        "colab": {
          "base_uri": "https://localhost:8080/"
        },
        "id": "yzCtj0QfAGSQ",
        "outputId": "289428c7-306d-4de3-c75f-aaed26876e69"
      },
      "execution_count": 12,
      "outputs": [
        {
          "output_type": "execute_result",
          "data": {
            "text/plain": [
              "([datetime.datetime(2013, 10, 1, 0, 0),\n",
              "  datetime.datetime(2013, 10, 2, 0, 0),\n",
              "  datetime.datetime(2013, 10, 3, 0, 0),\n",
              "  datetime.datetime(2013, 10, 4, 0, 0),\n",
              "  datetime.datetime(2013, 10, 5, 0, 0),\n",
              "  datetime.datetime(2013, 10, 6, 0, 0),\n",
              "  datetime.datetime(2013, 10, 7, 0, 0),\n",
              "  datetime.datetime(2013, 10, 8, 0, 0),\n",
              "  datetime.datetime(2013, 10, 9, 0, 0),\n",
              "  datetime.datetime(2013, 10, 10, 0, 0)],\n",
              " [123.65499,\n",
              "  125.455,\n",
              "  108.58483,\n",
              "  118.67466,\n",
              "  121.33866,\n",
              "  120.65533,\n",
              "  121.795,\n",
              "  123.033,\n",
              "  124.049,\n",
              "  125.96116])"
            ]
          },
          "metadata": {},
          "execution_count": 12
        }
      ]
    },
    {
      "cell_type": "code",
      "source": [
        "plt.figure(figsize=(12, 6))\n",
        "plt.plot(timesteps, btc_prices)\n",
        "plt.title('Bitcoin Price')\n",
        "plt.xlabel('Time')\n",
        "plt.ylabel('Price')\n",
        "plt.show()\n"
      ],
      "metadata": {
        "colab": {
          "base_uri": "https://localhost:8080/",
          "height": 564
        },
        "id": "BVcSE-ybAIBd",
        "outputId": "67afb06f-2539-44f8-c143-0741e2a2687b"
      },
      "execution_count": 13,
      "outputs": [
        {
          "output_type": "display_data",
          "data": {
            "text/plain": [
              "<Figure size 1200x600 with 1 Axes>"
            ],
            "image/png": "[encoded data removed]"
          },
          "metadata": {}
        }
      ]
    },
    {
      "cell_type": "markdown",
      "source": [
        "# Split time series data to train and test data"
      ],
      "metadata": {
        "id": "2CTJgZbqFrcS"
      }
    },
    {
      "cell_type": "code",
      "source": [
        "split_size = int(len(timesteps)*0.8)\n",
        "\n",
        "x_train = timesteps[:split_size]\n",
        "y_train = btc_prices[:split_size]\n",
        "\n",
        "x_test = timesteps[split_size:]\n",
        "y_test = btc_prices[split_size:]"
      ],
      "metadata": {
        "id": "DqYF9MvyF0Ic"
      },
      "execution_count": 14,
      "outputs": []
    },
    {
      "cell_type": "code",
      "source": [
        "len(x_train), len(y_train), len(x_test), len(y_test)\n"
      ],
      "metadata": {
        "colab": {
          "base_uri": "https://localhost:8080/"
        },
        "id": "dvUFFEztLIzD",
        "outputId": "3d183680-22f5-4a84-d1a8-787d08a9b410"
      },
      "execution_count": 15,
      "outputs": [
        {
          "output_type": "execute_result",
          "data": {
            "text/plain": [
              "(2229, 2229, 558, 558)"
            ]
          },
          "metadata": {},
          "execution_count": 15
        }
      ]
    },
    {
      "cell_type": "code",
      "source": [
        "plt.figure(figsize=(12, 6))\n",
        "plt.scatter(x_train, y_train, label='Train', s=6)\n",
        "plt.scatter(x_test, y_test, label='Test', s=6)\n",
        "plt.title('Bitcoin Price')\n",
        "plt.legend()\n",
        "plt.show()"
      ],
      "metadata": {
        "colab": {
          "base_uri": "https://localhost:8080/",
          "height": 545
        },
        "id": "JgnRwZ4nLKjK",
        "outputId": "b2187e47-0b03-44db-adfb-261213b1899e"
      },
      "execution_count": 16,
      "outputs": [
        {
          "output_type": "display_data",
          "data": {
            "text/plain": [
              "<Figure size 1200x600 with 1 Axes>"
            ],
            "image/png": "[encoded data removed]"
          },
          "metadata": {}
        }
      ]
    },
    {
      "cell_type": "code",
      "source": [
        "def plot_time_series(timesteps, values, format='.', start=0, end=None, label=None):\n",
        "  plt.plot(timesteps[start:end], values[start:end], format, label=label)\n",
        "  plt.xlabel('Time')\n",
        "  plt.ylabel('BTC Price')\n",
        "  if label:\n",
        "    plt.legend(fontsize=14)\n",
        "  plt.grid(True)"
      ],
      "metadata": {
        "id": "JOUukm-kLguv"
      },
      "execution_count": 17,
      "outputs": []
    },
    {
      "cell_type": "code",
      "source": [
        "plt.figure(figsize=(10, 7))\n",
        "plot_time_series(x_train, y_train, label='Train')\n",
        "plot_time_series(x_test, y_test, label='Test')\n"
      ],
      "metadata": {
        "colab": {
          "base_uri": "https://localhost:8080/",
          "height": 619
        },
        "id": "frPjTWPuM5NY",
        "outputId": "691a5840-658b-43d0-f29e-60a3cdd31e07"
      },
      "execution_count": 18,
      "outputs": [
        {
          "output_type": "display_data",
          "data": {
            "text/plain": [
              "<Figure size 1000x700 with 1 Axes>"
            ],
            "image/png": "[encoded data removed]"
          },
          "metadata": {}
        }
      ]
    },
    {
      "cell_type": "markdown",
      "source": [
        "# Create a naive model- a base line\n",
        "$$\\hat{y_t}=y_{t-1}$$"
      ],
      "metadata": {
        "id": "V_2t3RS538ur"
      }
    },
    {
      "cell_type": "code",
      "source": [
        "test = [1,2,3,4]\n",
        "tt = np.roll(test, 1)\n",
        "tt"
      ],
      "metadata": {
        "colab": {
          "base_uri": "https://localhost:8080/"
        },
        "id": "0frHL0Pt_CKC",
        "outputId": "d8b6e417-8920-4c8d-9c13-e3e93dc67383"
      },
      "execution_count": 19,
      "outputs": [
        {
          "output_type": "execute_result",
          "data": {
            "text/plain": [
              "array([4, 1, 2, 3])"
            ]
          },
          "metadata": {},
          "execution_count": 19
        }
      ]
    },
    {
      "cell_type": "code",
      "source": [
        "t= test[:-1]\n",
        "t"
      ],
      "metadata": {
        "colab": {
          "base_uri": "https://localhost:8080/"
        },
        "id": "oWdR8gJg_W-H",
        "outputId": "bea53f59-1606-4df4-e67f-b9294bcfeae1"
      },
      "execution_count": 20,
      "outputs": [
        {
          "output_type": "execute_result",
          "data": {
            "text/plain": [
              "[1, 2, 3]"
            ]
          },
          "metadata": {},
          "execution_count": 20
        }
      ]
    },
    {
      "cell_type": "code",
      "source": [
        "# a native model: the prediction equals to previos step\n",
        "# horizon = 1\n",
        "native_forecast = y_test[:-1]"
      ],
      "metadata": {
        "id": "63SY1fum4Bng"
      },
      "execution_count": 21,
      "outputs": []
    },
    {
      "cell_type": "code",
      "source": [
        "#plot_time_series(x_train, y_train, format='.', label='Train')\n",
        "plot_time_series(x_test, y_test, format='.', label='Test')\n",
        "plot_time_series(x_test[1:], native_forecast, format='-', label='Naive Forecast')\n"
      ],
      "metadata": {
        "colab": {
          "base_uri": "https://localhost:8080/",
          "height": 449
        },
        "id": "NsL4qA2052UH",
        "outputId": "c44b9c87-3602-49a1-96d1-72d6bcf19777"
      },
      "execution_count": 22,
      "outputs": [
        {
          "output_type": "display_data",
          "data": {
            "text/plain": [
              "<Figure size 640x480 with 1 Axes>"
            ],
            "image/png": "[encoded data removed]"
          },
          "metadata": {}
        }
      ]
    },
    {
      "cell_type": "markdown",
      "source": [
        "# Metrics to evaluate a model\n",
        "\n",
        "* **MAE** - mean absolute error\n",
        "* **MSE** - mean squared error\n",
        "* **RMSE** - root form **MSE**\n",
        "* **MASE**- mean absolute scaled error\n",
        "* **Huber**"
      ],
      "metadata": {
        "id": "AVna0zcAFHjT"
      }
    },
    {
      "cell_type": "code",
      "source": [
        "import tensorflow as tf\n",
        "\n",
        "tf.__version__"
      ],
      "metadata": {
        "colab": {
          "base_uri": "https://localhost:8080/",
          "height": 35
        },
        "id": "ztPFtVc5EmaV",
        "outputId": "cf0cba1a-3aba-49b6-df99-bf6a85f967c4"
      },
      "execution_count": 23,
      "outputs": [
        {
          "output_type": "execute_result",
          "data": {
            "text/plain": [
              "'2.12.0'"
            ],
            "application/vnd.google.colaboratory.intrinsic+json": {
              "type": "string"
            }
          },
          "metadata": {},
          "execution_count": 23
        }
      ]
    },
    {
      "cell_type": "code",
      "source": [
        "# implementation of MASE\n",
        "\n",
        "def mean_absolute_scaled_error(y_true, y_pred):\n",
        "  # calculate the mean absolute error\n",
        "  mae = tf.keras.metrics.mean_absolute_error(y_true, y_pred)\n",
        "  # calculate the mean absolute difference between consecutive values\n",
        "  mad = tf.math.reduce_mean(tf.math.abs(tf.math.subtract(y_true[1:], y_true[:-1])))\n",
        "  # calculate the MASE\n",
        "  mase = mae/mad\n",
        "  return mase\n"
      ],
      "metadata": {
        "id": "2sk2O3EDNLHk"
      },
      "execution_count": 24,
      "outputs": []
    },
    {
      "cell_type": "code",
      "source": [
        "len(y_test[:-1]), len(native_forecast)"
      ],
      "metadata": {
        "colab": {
          "base_uri": "https://localhost:8080/"
        },
        "id": "iEBUnY_tO2zE",
        "outputId": "b0078bbf-123f-4ad8-fa93-54732bf3e334"
      },
      "execution_count": 25,
      "outputs": [
        {
          "output_type": "execute_result",
          "data": {
            "text/plain": [
              "(557, 557)"
            ]
          },
          "metadata": {},
          "execution_count": 25
        }
      ]
    },
    {
      "cell_type": "code",
      "source": [
        "print(f' Mean absolute scaled error = {mean_absolute_scaled_error(y_test[1:], native_forecast)}')"
      ],
      "metadata": {
        "colab": {
          "base_uri": "https://localhost:8080/"
        },
        "id": "ivkXSUGCOYdr",
        "outputId": "662f3c3b-1813-4da8-9806-e89640286cfc"
      },
      "execution_count": 26,
      "outputs": [
        {
          "output_type": "stream",
          "name": "stdout",
          "text": [
            " Mean absolute scaled error = 0.9995700120925903\n"
          ]
        }
      ]
    },
    {
      "cell_type": "code",
      "source": [
        "# implementation all metrics\n",
        "def evaluate_preds(y_true, y_pred):\n",
        "  # calculate the mean absolute error\n",
        "  mae = tf.keras.metrics.mean_absolute_error(y_true, y_pred)\n",
        "  mse = tf.keras.metrics.mean_squared_error(y_true, y_pred)\n",
        "  rmse = tf.sqrt(mse)\n",
        "  # calculate the mean absolute difference between consecutive values\n",
        "  mad = tf.math.reduce_mean(tf.math.abs(tf.math.subtract(y_true[1:], y_true[:-1])))\n",
        "  # calculate the MAPE\n",
        "  mape = 100*tf.math.reduce_mean(tf.math.abs(tf.math.subtract(y_pred,y_true)/y_true)) #tf.keras.metrics.mean_absolute_percentage_error(y_true, y_pred)\n",
        "  # calculate the MASE\n",
        "  mase = mae/mad\n",
        "\n",
        "  metrics = dict()\n",
        "  metrics['mae'] = mae.numpy()\n",
        "  metrics['mse'] = mse.numpy()\n",
        "  metrics['rmse'] = rmse.numpy()\n",
        "  metrics['mape'] = mape.numpy()\n",
        "  metrics['mase'] = mase.numpy()\n",
        "  return metrics"
      ],
      "metadata": {
        "id": "UVZSqlpAOl4j"
      },
      "execution_count": 27,
      "outputs": []
    },
    {
      "cell_type": "code",
      "source": [
        "naive_result = evaluate_preds(y_test[1:], native_forecast)"
      ],
      "metadata": {
        "id": "nv076RIBT3cp"
      },
      "execution_count": 28,
      "outputs": []
    },
    {
      "cell_type": "code",
      "source": [
        "np.min(y_test), np.max(y_test), np.mean(y_test)\n"
      ],
      "metadata": {
        "colab": {
          "base_uri": "https://localhost:8080/"
        },
        "id": "XAaddOc8T80e",
        "outputId": "fced1eaf-d7c1-44be-b2d5-69d2609b9326"
      },
      "execution_count": 29,
      "outputs": [
        {
          "output_type": "execute_result",
          "data": {
            "text/plain": [
              "(4944.7023359837, 63346.7890351052, 20056.632963737222)"
            ]
          },
          "metadata": {},
          "execution_count": 29
        }
      ]
    },
    {
      "cell_type": "code",
      "source": [
        "100*(567.9802/20056.632963737222)"
      ],
      "metadata": {
        "colab": {
          "base_uri": "https://localhost:8080/"
        },
        "id": "5ANtlzZgWziE",
        "outputId": "f2a2422e-913f-4f56-e489-7f8a20830da2"
      },
      "execution_count": 30,
      "outputs": [
        {
          "output_type": "execute_result",
          "data": {
            "text/plain": [
              "2.831882106168663"
            ]
          },
          "metadata": {},
          "execution_count": 30
        }
      ]
    },
    {
      "cell_type": "markdown",
      "source": [
        "# Windowing our dataset"
      ],
      "metadata": {
        "id": "oTqk_R4waL6K"
      }
    },
    {
      "cell_type": "code",
      "source": [
        "# create a function windowed data\n",
        "\n",
        "def get_labelled_windows(x, horizon=1):\n",
        "  return x[:,:-horizon],x[:,-horizon:]"
      ],
      "metadata": {
        "id": "y1rEv4v9ihaP"
      },
      "execution_count": 31,
      "outputs": []
    },
    {
      "cell_type": "code",
      "source": [
        "t = np.array([[1,2,3,4,5,6,7,8]])\n",
        "get_labelled_windows(t,4)"
      ],
      "metadata": {
        "colab": {
          "base_uri": "https://localhost:8080/"
        },
        "id": "vpp9nelQlR_f",
        "outputId": "7b5a17f4-6ff5-4f5f-92a5-72df22f231a6"
      },
      "execution_count": 32,
      "outputs": [
        {
          "output_type": "execute_result",
          "data": {
            "text/plain": [
              "(array([[1, 2, 3, 4]]), array([[5, 6, 7, 8]]))"
            ]
          },
          "metadata": {},
          "execution_count": 32
        }
      ]
    },
    {
      "cell_type": "code",
      "source": [
        "# Create function to view NumPy arrays as windows\n",
        "\n",
        "def make_windows(x, window_size=7, horizon=1):\n",
        "  x = np.asarray(x)\n",
        "  # create a window step array\n",
        "  window_step = np.expand_dims(np.arange(window_size+horizon), axis=0)\n",
        "  window_indexes = window_step+ np.expand_dims(np.arange(len(x)-window_size-horizon+1), axis=0).T\n",
        "\n",
        "  windowed_array = x[window_indexes]\n",
        "  windows, labels = get_labelled_windows(windowed_array, horizon)\n",
        "  return windows, labels"
      ],
      "metadata": {
        "id": "H78lRVxZlZPj"
      },
      "execution_count": 33,
      "outputs": []
    },
    {
      "cell_type": "code",
      "source": [
        "def make_windows_using_loop(x, window_size=7, horizon=1):\n",
        "  x = np.asarray(x)\n",
        "  # create a window step array\n",
        "  windows = []\n",
        "  lebels = []\n",
        "  for i in range(len(x)-window_size-horizon+1):\n",
        "    windows.append(x[i:i+window_size])\n",
        "    lebels.append(x[i+window_size:i+window_size+horizon])\n",
        "  return np.array(windows), np.array(lebels)"
      ],
      "metadata": {
        "id": "mT0P2A-R_gB0"
      },
      "execution_count": 34,
      "outputs": []
    },
    {
      "cell_type": "code",
      "source": [
        "import time\n",
        "\n",
        "t = np.array(range(1,100000))\n",
        "st = time.time()\n",
        "x, y = make_windows_using_loop(t, 3, 2)\n",
        "print(f'Execution time1 = {time.time()- st}')\n",
        "\n",
        "st = time.time()\n",
        "x, y = make_windows(t, 3, 2)\n",
        "\n",
        "print(f'Execution time2= {time.time()- st}')"
      ],
      "metadata": {
        "colab": {
          "base_uri": "https://localhost:8080/"
        },
        "id": "k_fFXbfbme0i",
        "outputId": "ec6ab22d-0217-4754-b568-90c6a1ee99b2"
      },
      "execution_count": 35,
      "outputs": [
        {
          "output_type": "stream",
          "name": "stdout",
          "text": [
            "Execution time1 = 0.32296204566955566\n",
            "Execution time2= 0.017117977142333984\n"
          ]
        }
      ]
    },
    {
      "cell_type": "code",
      "source": [
        "x.shape, y.shape"
      ],
      "metadata": {
        "colab": {
          "base_uri": "https://localhost:8080/"
        },
        "id": "_K103wvomskJ",
        "outputId": "b549c4f1-0d4d-4c53-b13c-65e92ce27ec9"
      },
      "execution_count": 36,
      "outputs": [
        {
          "output_type": "execute_result",
          "data": {
            "text/plain": [
              "((99995, 3), (99995, 2))"
            ]
          },
          "metadata": {},
          "execution_count": 36
        }
      ]
    },
    {
      "cell_type": "code",
      "source": [
        "tt = np.array(range(0,10))\n",
        "indexes = [[0,1,2],[1,2,3]]\n",
        "\n",
        "a = tt[indexes]\n",
        "print(a.shape)\n",
        "print(a)\n"
      ],
      "metadata": {
        "colab": {
          "base_uri": "https://localhost:8080/"
        },
        "id": "KHoIPKZ98f9K",
        "outputId": "24dad719-4ca9-4427-8967-f4d61b95ec86"
      },
      "execution_count": 37,
      "outputs": [
        {
          "output_type": "stream",
          "name": "stdout",
          "text": [
            "(2, 3)\n",
            "[[0 1 2]\n",
            " [1 2 3]]\n"
          ]
        }
      ]
    },
    {
      "cell_type": "code",
      "source": [
        "tt[[[0,1],[4,5],[6,7]]]"
      ],
      "metadata": {
        "colab": {
          "base_uri": "https://localhost:8080/"
        },
        "id": "Z-q-5Ti1BtH_",
        "outputId": "5abb7808-e41a-4958-d16e-bbcc7ade508c"
      },
      "execution_count": 38,
      "outputs": [
        {
          "output_type": "execute_result",
          "data": {
            "text/plain": [
              "array([[0, 1],\n",
              "       [4, 5],\n",
              "       [6, 7]])"
            ]
          },
          "metadata": {},
          "execution_count": 38
        }
      ]
    },
    {
      "cell_type": "markdown",
      "source": [
        "#Create a model_1  window = 7, horizon = 1"
      ],
      "metadata": {
        "id": "g89q1nt4FW2M"
      }
    },
    {
      "cell_type": "code",
      "source": [
        "window_size = 7\n",
        "horizon = 1"
      ],
      "metadata": {
        "id": "YtYqJbDuFgXG"
      },
      "execution_count": 39,
      "outputs": []
    },
    {
      "cell_type": "code",
      "source": [
        "data.head()"
      ],
      "metadata": {
        "colab": {
          "base_uri": "https://localhost:8080/",
          "height": 238
        },
        "id": "DiSs8lqxFh9J",
        "outputId": "45db823b-3dac-4dcc-fcd2-eecce2c1b676"
      },
      "execution_count": 40,
      "outputs": [
        {
          "output_type": "execute_result",
          "data": {
            "text/plain": [
              "           Currency  Closing Price (USD)  24h Open (USD)  24h High (USD)  \\\n",
              "Date                                                                       \n",
              "2013-10-01      BTC            123.65499       124.30466       124.75166   \n",
              "2013-10-02      BTC            125.45500       123.65499       125.75850   \n",
              "2013-10-03      BTC            108.58483       125.45500       125.66566   \n",
              "2013-10-04      BTC            118.67466       108.58483       118.67500   \n",
              "2013-10-05      BTC            121.33866       118.67466       121.93633   \n",
              "\n",
              "            24h Low (USD)  \n",
              "Date                       \n",
              "2013-10-01      122.56349  \n",
              "2013-10-02      123.63383  \n",
              "2013-10-03       83.32833  \n",
              "2013-10-04      107.05816  \n",
              "2013-10-05      118.00566  "
            ],
            "text/html": [
              "\n",
              "  <div id=\"df-72b19686-3eaa-4a39-9720-85cd2ee44ca8\" class=\"colab-df-container\">\n",
              "    <div>\n",
              "<style scoped>\n",
              "    .dataframe tbody tr th:only-of-type {\n",
              "        vertical-align: middle;\n",
              "    }\n",
              "\n",
              "    .dataframe tbody tr th {\n",
              "        vertical-align: top;\n",
              "    }\n",
              "\n",
              "    .dataframe thead th {\n",
              "        text-align: right;\n",
              "    }\n",
              "</style>\n",
              "<table border=\"1\" class=\"dataframe\">\n",
              "  <thead>\n",
              "    <tr style=\"text-align: right;\">\n",
              "      <th></th>\n",
              "      <th>Currency</th>\n",
              "      <th>Closing Price (USD)</th>\n",
              "      <th>24h Open (USD)</th>\n",
              "      <th>24h High (USD)</th>\n",
              "      <th>24h Low (USD)</th>\n",
              "    </tr>\n",
              "    <tr>\n",
              "      <th>Date</th>\n",
              "      <th></th>\n",
              "      <th></th>\n",
              "      <th></th>\n",
              "      <th></th>\n",
              "      <th></th>\n",
              "    </tr>\n",
              "  </thead>\n",
              "  <tbody>\n",
              "    <tr>\n",
              "      <th>2013-10-01</th>\n",
              "      <td>BTC</td>\n",
              "      <td>123.65499</td>\n",
              "      <td>124.30466</td>\n",
              "      <td>124.75166</td>\n",
              "      <td>122.56349</td>\n",
              "    </tr>\n",
              "    <tr>\n",
              "      <th>2013-10-02</th>\n",
              "      <td>BTC</td>\n",
              "      <td>125.45500</td>\n",
              "      <td>123.65499</td>\n",
              "      <td>125.75850</td>\n",
              "      <td>123.63383</td>\n",
              "    </tr>\n",
              "    <tr>\n",
              "      <th>2013-10-03</th>\n",
              "      <td>BTC</td>\n",
              "      <td>108.58483</td>\n",
              "      <td>125.45500</td>\n",
              "      <td>125.66566</td>\n",
              "      <td>83.32833</td>\n",
              "    </tr>\n",
              "    <tr>\n",
              "      <th>2013-10-04</th>\n",
              "      <td>BTC</td>\n",
              "      <td>118.67466</td>\n",
              "      <td>108.58483</td>\n",
              "      <td>118.67500</td>\n",
              "      <td>107.05816</td>\n",
              "    </tr>\n",
              "    <tr>\n",
              "      <th>2013-10-05</th>\n",
              "      <td>BTC</td>\n",
              "      <td>121.33866</td>\n",
              "      <td>118.67466</td>\n",
              "      <td>121.93633</td>\n",
              "      <td>118.00566</td>\n",
              "    </tr>\n",
              "  </tbody>\n",
              "</table>\n",
              "</div>\n",
              "    <div class=\"colab-df-buttons\">\n",
              "\n",
              "  <div class=\"colab-df-container\">\n",
              "    <button class=\"colab-df-convert\" onclick=\"convertToInteractive('df-72b19686-3eaa-4a39-9720-85cd2ee44ca8')\"\n",
              "            title=\"Convert this dataframe to an interactive table.\"\n",
              "            style=\"display:none;\">\n",
              "\n",
              "  <svg xmlns=\"http://www.w3.org/2000/svg\" height=\"24px\" viewBox=\"0 -960 960 960\">\n",
              "    <path d=\"M120-120v-720h720v720H120Zm60-500h600v-160H180v160Zm220 220h160v-160H400v160Zm0 220h160v-160H400v160ZM180-400h160v-160H180v160Zm440 0h160v-160H620v160ZM180-180h160v-160H180v160Zm440 0h160v-160H620v160Z\"/>\n",
              "  </svg>\n",
              "    </button>\n",
              "\n",
              "  <style>\n",
              "    .colab-df-container {\n",
              "      display:flex;\n",
              "      gap: 12px;\n",
              "    }\n",
              "\n",
              "    .colab-df-convert {\n",
              "      background-color: #E8F0FE;\n",
              "      border: none;\n",
              "      border-radius: 50%;\n",
              "      cursor: pointer;\n",
              "      display: none;\n",
              "      fill: #1967D2;\n",
              "      height: 32px;\n",
              "      padding: 0 0 0 0;\n",
              "      width: 32px;\n",
              "    }\n",
              "\n",
              "    .colab-df-convert:hover {\n",
              "      background-color: #E2EBFA;\n",
              "      box-shadow: 0px 1px 2px rgba(60, 64, 67, 0.3), 0px 1px 3px 1px rgba(60, 64, 67, 0.15);\n",
              "      fill: #174EA6;\n",
              "    }\n",
              "\n",
              "    .colab-df-buttons div {\n",
              "      margin-bottom: 4px;\n",
              "    }\n",
              "\n",
              "    [theme=dark] .colab-df-convert {\n",
              "      background-color: #3B4455;\n",
              "      fill: #D2E3FC;\n",
              "    }\n",
              "\n",
              "    [theme=dark] .colab-df-convert:hover {\n",
              "      background-color: #434B5C;\n",
              "      box-shadow: 0px 1px 3px 1px rgba(0, 0, 0, 0.15);\n",
              "      filter: drop-shadow(0px 1px 2px rgba(0, 0, 0, 0.3));\n",
              "      fill: #FFFFFF;\n",
              "    }\n",
              "  </style>\n",
              "\n",
              "    <script>\n",
              "      const buttonEl =\n",
              "        document.querySelector('#df-72b19686-3eaa-4a39-9720-85cd2ee44ca8 button.colab-df-convert');\n",
              "      buttonEl.style.display =\n",
              "        google.colab.kernel.accessAllowed ? 'block' : 'none';\n",
              "\n",
              "      async function convertToInteractive(key) {\n",
              "        const element = document.querySelector('#df-72b19686-3eaa-4a39-9720-85cd2ee44ca8');\n",
              "        const dataTable =\n",
              "          await google.colab.kernel.invokeFunction('convertToInteractive',\n",
              "                                                    [key], {});\n",
              "        if (!dataTable) return;\n",
              "\n",
              "        const docLinkHtml = 'Like what you see? Visit the ' +\n",
              "          '<a target=\"_blank\" href=https://colab.research.google.com/notebooks/data_table.ipynb>data table notebook</a>'\n",
              "          + ' to learn more about interactive tables.';\n",
              "        element.innerHTML = '';\n",
              "        dataTable['output_type'] = 'display_data';\n",
              "        await google.colab.output.renderOutput(dataTable, element);\n",
              "        const docLink = document.createElement('div');\n",
              "        docLink.innerHTML = docLinkHtml;\n",
              "        element.appendChild(docLink);\n",
              "      }\n",
              "    </script>\n",
              "  </div>\n",
              "\n",
              "\n",
              "<div id=\"df-56e6308b-286e-4783-8096-2c7588bbdd85\">\n",
              "  <button class=\"colab-df-quickchart\" onclick=\"quickchart('df-56e6308b-286e-4783-8096-2c7588bbdd85')\"\n",
              "            title=\"Suggest charts.\"\n",
              "            style=\"display:none;\">\n",
              "\n",
              "<svg xmlns=\"http://www.w3.org/2000/svg\" height=\"24px\"viewBox=\"0 0 24 24\"\n",
              "     width=\"24px\">\n",
              "    <g>\n",
              "        <path d=\"M19 3H5c-1.1 0-2 .9-2 2v14c0 1.1.9 2 2 2h14c1.1 0 2-.9 2-2V5c0-1.1-.9-2-2-2zM9 17H7v-7h2v7zm4 0h-2V7h2v10zm4 0h-2v-4h2v4z\"/>\n",
              "    </g>\n",
              "</svg>\n",
              "  </button>\n",
              "\n",
              "<style>\n",
              "  .colab-df-quickchart {\n",
              "    background-color: #E8F0FE;\n",
              "    border: none;\n",
              "    border-radius: 50%;\n",
              "    cursor: pointer;\n",
              "    display: none;\n",
              "    fill: #1967D2;\n",
              "    height: 32px;\n",
              "    padding: 0 0 0 0;\n",
              "    width: 32px;\n",
              "  }\n",
              "\n",
              "  .colab-df-quickchart:hover {\n",
              "    background-color: #E2EBFA;\n",
              "    box-shadow: 0px 1px 2px rgba(60, 64, 67, 0.3), 0px 1px 3px 1px rgba(60, 64, 67, 0.15);\n",
              "    fill: #174EA6;\n",
              "  }\n",
              "\n",
              "  [theme=dark] .colab-df-quickchart {\n",
              "    background-color: #3B4455;\n",
              "    fill: #D2E3FC;\n",
              "  }\n",
              "\n",
              "  [theme=dark] .colab-df-quickchart:hover {\n",
              "    background-color: #434B5C;\n",
              "    box-shadow: 0px 1px 3px 1px rgba(0, 0, 0, 0.15);\n",
              "    filter: drop-shadow(0px 1px 2px rgba(0, 0, 0, 0.3));\n",
              "    fill: #FFFFFF;\n",
              "  }\n",
              "</style>\n",
              "\n",
              "  <script>\n",
              "    async function quickchart(key) {\n",
              "      const charts = await google.colab.kernel.invokeFunction(\n",
              "          'suggestCharts', [key], {});\n",
              "    }\n",
              "    (() => {\n",
              "      let quickchartButtonEl =\n",
              "        document.querySelector('#df-56e6308b-286e-4783-8096-2c7588bbdd85 button');\n",
              "      quickchartButtonEl.style.display =\n",
              "        google.colab.kernel.accessAllowed ? 'block' : 'none';\n",
              "    })();\n",
              "  </script>\n",
              "</div>\n",
              "    </div>\n",
              "  </div>\n"
            ]
          },
          "metadata": {},
          "execution_count": 40
        }
      ]
    },
    {
      "cell_type": "code",
      "source": [
        "x_data, y_data = make_windows(data['Closing Price (USD)'], window_size, horizon)\n"
      ],
      "metadata": {
        "id": "NHJ3cJ4xCAV8"
      },
      "execution_count": 41,
      "outputs": []
    },
    {
      "cell_type": "code",
      "source": [
        "x_data.shape, y_data.shape"
      ],
      "metadata": {
        "colab": {
          "base_uri": "https://localhost:8080/"
        },
        "id": "NsrQQY0EFqK6",
        "outputId": "d8cd74c5-df8e-4e58-c02e-f49c46214c37"
      },
      "execution_count": 42,
      "outputs": [
        {
          "output_type": "execute_result",
          "data": {
            "text/plain": [
              "((2780, 7), (2780, 1))"
            ]
          },
          "metadata": {},
          "execution_count": 42
        }
      ]
    },
    {
      "cell_type": "code",
      "source": [
        "print(x_data[3], y_data[3])\n",
        "print(x_data[4], y_data[4])\n"
      ],
      "metadata": {
        "colab": {
          "base_uri": "https://localhost:8080/"
        },
        "id": "n-_04DcUGOQ7",
        "outputId": "8a29d80a-1d7b-4bc3-deea-06826f5bd255"
      },
      "execution_count": 43,
      "outputs": [
        {
          "output_type": "stream",
          "name": "stdout",
          "text": [
            "[118.67466 121.33866 120.65533 121.795   123.033   124.049   125.96116] [125.27966]\n",
            "[121.33866 120.65533 121.795   123.033   124.049   125.96116 125.27966] [125.9275]\n"
          ]
        }
      ]
    },
    {
      "cell_type": "markdown",
      "source": [
        "## Split data to train and test"
      ],
      "metadata": {
        "id": "TZAY_BkbGC40"
      }
    },
    {
      "cell_type": "code",
      "source": [
        "def split_data(x, y, test_size=0.2):\n",
        "  train_size = int(len(x)*(1-test_size))\n",
        "  x_train = x[:train_size]\n",
        "  x_test = x[train_size:]\n",
        "  y_train = y[:train_size]\n",
        "  y_test = y[train_size:]\n",
        "  return x_train, x_test, y_train, y_test\n"
      ],
      "metadata": {
        "id": "MeqizXL0GqKa"
      },
      "execution_count": 44,
      "outputs": []
    },
    {
      "cell_type": "code",
      "source": [
        "x_train, x_test, y_train, y_test = split_data(x_data, y_data)"
      ],
      "metadata": {
        "id": "7EtKjZ6HG5xI"
      },
      "execution_count": 45,
      "outputs": []
    },
    {
      "cell_type": "code",
      "source": [
        "x_train.shape, x_test.shape, y_train.shape, y_test.shape\n"
      ],
      "metadata": {
        "colab": {
          "base_uri": "https://localhost:8080/"
        },
        "id": "FIuovvRgG-tw",
        "outputId": "18cf7dd1-3dfa-4a28-e80d-7226efd7bae4"
      },
      "execution_count": 46,
      "outputs": [
        {
          "output_type": "execute_result",
          "data": {
            "text/plain": [
              "((2224, 7), (556, 7), (2224, 1), (556, 1))"
            ]
          },
          "metadata": {},
          "execution_count": 46
        }
      ]
    },
    {
      "cell_type": "code",
      "source": [
        "x_data.shape"
      ],
      "metadata": {
        "colab": {
          "base_uri": "https://localhost:8080/"
        },
        "id": "_pv_iE_pHH8M",
        "outputId": "37fd45da-56a0-417c-9314-f3c94cae6e82"
      },
      "execution_count": 47,
      "outputs": [
        {
          "output_type": "execute_result",
          "data": {
            "text/plain": [
              "(2780, 7)"
            ]
          },
          "metadata": {},
          "execution_count": 47
        }
      ]
    },
    {
      "cell_type": "markdown",
      "source": [
        "## Create a Checkpoint callback"
      ],
      "metadata": {
        "id": "WRGqd7AWICOD"
      }
    },
    {
      "cell_type": "code",
      "source": [
        "# create checkpoint\n",
        "from tensorflow.keras.callbacks import ModelCheckpoint, EarlyStopping\n",
        "\n",
        "def create_ckpoint(filename):\n",
        "  return ModelCheckpoint(filename, save_best_only=True, verbose=0)\n",
        "\n",
        "def create_early_stopping(patience=3):\n",
        "  return EarlyStopping(monitor='val_loss',restore_best_weights=True,  patience=patience)"
      ],
      "metadata": {
        "id": "FsPqn3pEHjiI"
      },
      "execution_count": 48,
      "outputs": []
    },
    {
      "cell_type": "code",
      "source": [
        "def make_preds(model, data):\n",
        "  pred = model.predict(data)\n",
        "  return np.squeeze(pred)"
      ],
      "metadata": {
        "id": "2hJZOkclgRcT"
      },
      "execution_count": 49,
      "outputs": []
    },
    {
      "cell_type": "code",
      "source": [
        "# create model\n",
        "\n",
        "from tensorflow.keras.models import Sequential\n",
        "from tensorflow.keras.layers import Dense\n",
        "\n",
        "def create_model(window_size, horizon):\n",
        "  model = Sequential()\n",
        "  model.add(Dense(128, activation='relu', input_shape=(window_size,)))\n",
        "  model.add(Dense(horizon, activation='linear'))\n",
        "  model.compile(optimizer='adam', loss='mae')\n",
        "  return model"
      ],
      "metadata": {
        "id": "0RrMrydaInJZ"
      },
      "execution_count": 50,
      "outputs": []
    },
    {
      "cell_type": "code",
      "source": [
        "model1 = create_model(window_size, horizon)\n",
        "\n",
        "model1.summary()\n"
      ],
      "metadata": {
        "colab": {
          "base_uri": "https://localhost:8080/"
        },
        "id": "s6bC0nFlI-tS",
        "outputId": "5a2b5073-cbb8-46ac-bfb1-e5bf7442d9b6"
      },
      "execution_count": 51,
      "outputs": [
        {
          "output_type": "stream",
          "name": "stdout",
          "text": [
            "Model: \"sequential\"\n",
            "_________________________________________________________________\n",
            " Layer (type)                Output Shape              Param #   \n",
            "=================================================================\n",
            " dense (Dense)               (None, 128)               1024      \n",
            "                                                                 \n",
            " dense_1 (Dense)             (None, 1)                 129       \n",
            "                                                                 \n",
            "=================================================================\n",
            "Total params: 1,153\n",
            "Trainable params: 1,153\n",
            "Non-trainable params: 0\n",
            "_________________________________________________________________\n"
          ]
        }
      ]
    },
    {
      "cell_type": "code",
      "source": [
        "MCP1 = create_ckpoint('model1.h5')\n",
        "ES_CB = create_early_stopping()\n",
        "\n",
        "model1.fit(\n",
        "    x_train,\n",
        "    y_train,\n",
        "    epochs=100,\n",
        "    batch_size=128,\n",
        "    validation_data=(x_test, y_test),\n",
        "    callbacks=[MCP1],\n",
        "    verbose=1)\n"
      ],
      "metadata": {
        "colab": {
          "base_uri": "https://localhost:8080/"
        },
        "id": "qgf2i-MaJC5U",
        "outputId": "877913dc-d654-459b-fe08-57f8dbd687eb"
      },
      "execution_count": 52,
      "outputs": [
        {
          "output_type": "stream",
          "name": "stdout",
          "text": [
            "Epoch 1/100\n",
            "18/18 [==============================] - 8s 52ms/step - loss: 826.0609 - val_loss: 2114.2839\n",
            "Epoch 2/100\n",
            "18/18 [==============================] - 0s 11ms/step - loss: 244.5592 - val_loss: 1164.4470\n",
            "Epoch 3/100\n",
            "18/18 [==============================] - 0s 10ms/step - loss: 201.1110 - val_loss: 1047.1873\n",
            "Epoch 4/100\n",
            "18/18 [==============================] - 0s 10ms/step - loss: 179.9914 - val_loss: 997.3705\n",
            "Epoch 5/100\n",
            "18/18 [==============================] - 0s 19ms/step - loss: 168.0928 - val_loss: 921.1766\n",
            "Epoch 6/100\n",
            "18/18 [==============================] - 0s 17ms/step - loss: 161.6800 - val_loss: 895.3654\n",
            "Epoch 7/100\n",
            "18/18 [==============================] - 0s 13ms/step - loss: 157.3584 - val_loss: 903.7504\n",
            "Epoch 8/100\n",
            "18/18 [==============================] - 0s 11ms/step - loss: 152.4372 - val_loss: 874.3325\n",
            "Epoch 9/100\n",
            "18/18 [==============================] - 0s 11ms/step - loss: 147.1003 - val_loss: 820.2839\n",
            "Epoch 10/100\n",
            "18/18 [==============================] - 0s 14ms/step - loss: 144.6835 - val_loss: 784.0591\n",
            "Epoch 11/100\n",
            "18/18 [==============================] - 0s 11ms/step - loss: 143.8322 - val_loss: 831.0098\n",
            "Epoch 12/100\n",
            "18/18 [==============================] - 0s 9ms/step - loss: 141.2395 - val_loss: 752.0506\n",
            "Epoch 13/100\n",
            "18/18 [==============================] - 0s 10ms/step - loss: 134.4315 - val_loss: 740.6907\n",
            "Epoch 14/100\n",
            "18/18 [==============================] - 0s 9ms/step - loss: 132.1620 - val_loss: 722.7722\n",
            "Epoch 15/100\n",
            "18/18 [==============================] - 0s 11ms/step - loss: 129.5340 - val_loss: 711.7171\n",
            "Epoch 16/100\n",
            "18/18 [==============================] - 0s 9ms/step - loss: 129.4569 - val_loss: 696.4567\n",
            "Epoch 17/100\n",
            "18/18 [==============================] - 0s 14ms/step - loss: 130.1094 - val_loss: 694.1693\n",
            "Epoch 18/100\n",
            "18/18 [==============================] - 0s 10ms/step - loss: 127.6890 - val_loss: 675.4123\n",
            "Epoch 19/100\n",
            "18/18 [==============================] - 0s 12ms/step - loss: 125.5341 - val_loss: 675.2811\n",
            "Epoch 20/100\n",
            "18/18 [==============================] - 0s 14ms/step - loss: 125.7026 - val_loss: 726.6175\n",
            "Epoch 21/100\n",
            "18/18 [==============================] - 0s 8ms/step - loss: 124.5141 - val_loss: 680.6844\n",
            "Epoch 22/100\n",
            "18/18 [==============================] - 0s 11ms/step - loss: 120.5554 - val_loss: 664.1268\n",
            "Epoch 23/100\n",
            "18/18 [==============================] - 0s 8ms/step - loss: 119.3884 - val_loss: 678.3100\n",
            "Epoch 24/100\n",
            "18/18 [==============================] - 0s 9ms/step - loss: 121.8484 - val_loss: 662.2543\n",
            "Epoch 25/100\n",
            "18/18 [==============================] - 0s 9ms/step - loss: 120.3047 - val_loss: 637.2703\n",
            "Epoch 26/100\n",
            "18/18 [==============================] - 0s 8ms/step - loss: 117.9592 - val_loss: 624.7250\n",
            "Epoch 27/100\n",
            "18/18 [==============================] - 0s 9ms/step - loss: 114.6585 - val_loss: 616.0060\n",
            "Epoch 28/100\n",
            "18/18 [==============================] - 0s 8ms/step - loss: 120.7222 - val_loss: 629.0068\n",
            "Epoch 29/100\n",
            "18/18 [==============================] - 0s 8ms/step - loss: 120.1439 - val_loss: 643.4268\n",
            "Epoch 30/100\n",
            "18/18 [==============================] - 0s 9ms/step - loss: 113.5463 - val_loss: 616.5585\n",
            "Epoch 31/100\n",
            "18/18 [==============================] - 0s 18ms/step - loss: 113.0955 - val_loss: 602.0416\n",
            "Epoch 32/100\n",
            "18/18 [==============================] - 0s 16ms/step - loss: 114.1079 - val_loss: 634.6062\n",
            "Epoch 33/100\n",
            "18/18 [==============================] - 0s 17ms/step - loss: 112.3849 - val_loss: 597.8501\n",
            "Epoch 34/100\n",
            "18/18 [==============================] - 0s 15ms/step - loss: 111.6332 - val_loss: 592.8904\n",
            "Epoch 35/100\n",
            "18/18 [==============================] - 0s 14ms/step - loss: 111.6157 - val_loss: 599.8377\n",
            "Epoch 36/100\n",
            "18/18 [==============================] - 0s 13ms/step - loss: 113.3225 - val_loss: 649.8981\n",
            "Epoch 37/100\n",
            "18/18 [==============================] - 0s 12ms/step - loss: 112.2093 - val_loss: 622.9990\n",
            "Epoch 38/100\n",
            "18/18 [==============================] - 0s 12ms/step - loss: 114.6425 - val_loss: 639.8303\n",
            "Epoch 39/100\n",
            "18/18 [==============================] - 0s 15ms/step - loss: 112.6434 - val_loss: 613.9907\n",
            "Epoch 40/100\n",
            "18/18 [==============================] - 0s 17ms/step - loss: 112.3939 - val_loss: 582.3868\n",
            "Epoch 41/100\n",
            "18/18 [==============================] - 0s 8ms/step - loss: 109.7773 - val_loss: 587.6559\n",
            "Epoch 42/100\n",
            "18/18 [==============================] - 0s 7ms/step - loss: 110.0791 - val_loss: 590.6642\n",
            "Epoch 43/100\n",
            "18/18 [==============================] - 0s 10ms/step - loss: 110.7489 - val_loss: 595.7573\n",
            "Epoch 44/100\n",
            "18/18 [==============================] - 0s 8ms/step - loss: 120.3213 - val_loss: 787.4749\n",
            "Epoch 45/100\n",
            "18/18 [==============================] - 0s 9ms/step - loss: 126.1482 - val_loss: 610.8689\n",
            "Epoch 46/100\n",
            "18/18 [==============================] - 0s 14ms/step - loss: 117.1516 - val_loss: 690.0018\n",
            "Epoch 47/100\n",
            "18/18 [==============================] - 0s 8ms/step - loss: 111.5669 - val_loss: 619.6884\n",
            "Epoch 48/100\n",
            "18/18 [==============================] - 0s 5ms/step - loss: 110.3232 - val_loss: 632.3665\n",
            "Epoch 49/100\n",
            "18/18 [==============================] - 0s 4ms/step - loss: 111.7035 - val_loss: 584.7703\n",
            "Epoch 50/100\n",
            "18/18 [==============================] - 0s 5ms/step - loss: 108.9581 - val_loss: 665.4510\n",
            "Epoch 51/100\n",
            "18/18 [==============================] - 0s 5ms/step - loss: 111.7273 - val_loss: 572.7708\n",
            "Epoch 52/100\n",
            "18/18 [==============================] - 0s 5ms/step - loss: 110.0656 - val_loss: 599.5486\n",
            "Epoch 53/100\n",
            "18/18 [==============================] - 0s 5ms/step - loss: 113.2882 - val_loss: 571.4453\n",
            "Epoch 54/100\n",
            "18/18 [==============================] - 0s 5ms/step - loss: 109.4021 - val_loss: 628.4211\n",
            "Epoch 55/100\n",
            "18/18 [==============================] - 0s 6ms/step - loss: 113.0048 - val_loss: 599.2841\n",
            "Epoch 56/100\n",
            "18/18 [==============================] - 0s 5ms/step - loss: 109.4214 - val_loss: 601.0178\n",
            "Epoch 57/100\n",
            "18/18 [==============================] - 0s 5ms/step - loss: 107.1118 - val_loss: 645.6791\n",
            "Epoch 58/100\n",
            "18/18 [==============================] - 0s 6ms/step - loss: 119.5404 - val_loss: 797.3544\n",
            "Epoch 59/100\n",
            "18/18 [==============================] - 0s 5ms/step - loss: 116.8016 - val_loss: 690.0239\n",
            "Epoch 60/100\n",
            "18/18 [==============================] - 0s 5ms/step - loss: 117.8844 - val_loss: 568.7538\n",
            "Epoch 61/100\n",
            "18/18 [==============================] - 0s 6ms/step - loss: 109.9639 - val_loss: 593.4922\n",
            "Epoch 62/100\n",
            "18/18 [==============================] - 0s 5ms/step - loss: 107.4172 - val_loss: 571.7560\n",
            "Epoch 63/100\n",
            "18/18 [==============================] - 0s 5ms/step - loss: 108.1022 - val_loss: 574.1807\n",
            "Epoch 64/100\n",
            "18/18 [==============================] - 0s 5ms/step - loss: 110.8247 - val_loss: 611.8751\n",
            "Epoch 65/100\n",
            "18/18 [==============================] - 0s 5ms/step - loss: 110.1589 - val_loss: 589.6356\n",
            "Epoch 66/100\n",
            "18/18 [==============================] - 0s 5ms/step - loss: 108.4498 - val_loss: 608.1672\n",
            "Epoch 67/100\n",
            "18/18 [==============================] - 0s 5ms/step - loss: 113.1277 - val_loss: 584.1954\n",
            "Epoch 68/100\n",
            "18/18 [==============================] - 0s 4ms/step - loss: 107.2066 - val_loss: 575.0310\n",
            "Epoch 69/100\n",
            "18/18 [==============================] - 0s 5ms/step - loss: 105.8491 - val_loss: 655.4598\n",
            "Epoch 70/100\n",
            "18/18 [==============================] - 0s 4ms/step - loss: 120.7498 - val_loss: 615.1433\n",
            "Epoch 71/100\n",
            "18/18 [==============================] - 0s 5ms/step - loss: 112.9524 - val_loss: 580.4678\n",
            "Epoch 72/100\n",
            "18/18 [==============================] - 0s 5ms/step - loss: 108.5471 - val_loss: 569.0728\n",
            "Epoch 73/100\n",
            "18/18 [==============================] - 0s 6ms/step - loss: 107.0974 - val_loss: 595.4772\n",
            "Epoch 74/100\n",
            "18/18 [==============================] - 0s 6ms/step - loss: 116.1564 - val_loss: 567.1797\n",
            "Epoch 75/100\n",
            "18/18 [==============================] - 0s 6ms/step - loss: 119.8350 - val_loss: 751.5732\n",
            "Epoch 76/100\n",
            "18/18 [==============================] - 0s 5ms/step - loss: 112.0860 - val_loss: 565.8792\n",
            "Epoch 77/100\n",
            "18/18 [==============================] - 0s 5ms/step - loss: 110.4372 - val_loss: 618.7062\n",
            "Epoch 78/100\n",
            "18/18 [==============================] - 0s 5ms/step - loss: 107.5623 - val_loss: 589.7126\n",
            "Epoch 79/100\n",
            "18/18 [==============================] - 0s 5ms/step - loss: 111.2935 - val_loss: 732.7736\n",
            "Epoch 80/100\n",
            "18/18 [==============================] - 0s 5ms/step - loss: 114.7081 - val_loss: 580.7775\n",
            "Epoch 81/100\n",
            "18/18 [==============================] - 0s 6ms/step - loss: 116.3826 - val_loss: 635.9755\n",
            "Epoch 82/100\n",
            "18/18 [==============================] - 0s 5ms/step - loss: 115.6242 - val_loss: 616.8172\n",
            "Epoch 83/100\n",
            "18/18 [==============================] - 0s 4ms/step - loss: 113.0621 - val_loss: 608.2446\n",
            "Epoch 84/100\n",
            "18/18 [==============================] - 0s 5ms/step - loss: 106.6335 - val_loss: 651.8369\n",
            "Epoch 85/100\n",
            "18/18 [==============================] - 0s 5ms/step - loss: 112.1045 - val_loss: 590.1433\n",
            "Epoch 86/100\n",
            "18/18 [==============================] - 0s 5ms/step - loss: 106.0091 - val_loss: 563.6161\n",
            "Epoch 87/100\n",
            "18/18 [==============================] - 0s 5ms/step - loss: 105.4639 - val_loss: 588.7083\n",
            "Epoch 88/100\n",
            "18/18 [==============================] - 0s 4ms/step - loss: 108.5061 - val_loss: 600.6502\n",
            "Epoch 89/100\n",
            "18/18 [==============================] - 0s 4ms/step - loss: 115.2508 - val_loss: 886.6462\n",
            "Epoch 90/100\n",
            "18/18 [==============================] - 0s 4ms/step - loss: 128.6073 - val_loss: 669.3583\n",
            "Epoch 91/100\n",
            "18/18 [==============================] - 0s 4ms/step - loss: 110.3762 - val_loss: 566.1526\n",
            "Epoch 92/100\n",
            "18/18 [==============================] - 0s 6ms/step - loss: 106.6079 - val_loss: 596.9202\n",
            "Epoch 93/100\n",
            "18/18 [==============================] - 0s 5ms/step - loss: 107.5896 - val_loss: 568.5912\n",
            "Epoch 94/100\n",
            "18/18 [==============================] - 0s 5ms/step - loss: 105.2255 - val_loss: 570.6070\n",
            "Epoch 95/100\n",
            "18/18 [==============================] - 0s 5ms/step - loss: 106.6367 - val_loss: 565.6848\n",
            "Epoch 96/100\n",
            "18/18 [==============================] - 0s 5ms/step - loss: 107.1803 - val_loss: 565.3088\n",
            "Epoch 97/100\n",
            "18/18 [==============================] - 0s 4ms/step - loss: 107.6795 - val_loss: 636.7738\n",
            "Epoch 98/100\n",
            "18/18 [==============================] - 0s 5ms/step - loss: 108.0884 - val_loss: 568.5583\n",
            "Epoch 99/100\n",
            "18/18 [==============================] - 0s 5ms/step - loss: 107.9111 - val_loss: 564.4315\n",
            "Epoch 100/100\n",
            "18/18 [==============================] - 0s 4ms/step - loss: 113.5837 - val_loss: 626.0468\n"
          ]
        },
        {
          "output_type": "execute_result",
          "data": {
            "text/plain": [
              "<keras.callbacks.History at 0x7ae759fcf3a0>"
            ]
          },
          "metadata": {},
          "execution_count": 52
        }
      ]
    },
    {
      "cell_type": "code",
      "source": [
        "# load the best model\n",
        "\n",
        "# Load in saved best performing model_1 and evaluate on test data\n",
        "model_1 = tf.keras.models.load_model('model1.h5')\n",
        "model_1.evaluate(x_test, y_test)"
      ],
      "metadata": {
        "colab": {
          "base_uri": "https://localhost:8080/"
        },
        "id": "PIZintg9hTT3",
        "outputId": "8d9427c0-8e00-4b47-ee34-22e1f6175c17"
      },
      "execution_count": 53,
      "outputs": [
        {
          "output_type": "stream",
          "name": "stdout",
          "text": [
            "18/18 [==============================] - 0s 2ms/step - loss: 563.6161\n"
          ]
        },
        {
          "output_type": "execute_result",
          "data": {
            "text/plain": [
              "563.6161499023438"
            ]
          },
          "metadata": {},
          "execution_count": 53
        }
      ]
    },
    {
      "cell_type": "code",
      "source": [
        "model1.evaluate(x_test, y_test)\n"
      ],
      "metadata": {
        "colab": {
          "base_uri": "https://localhost:8080/"
        },
        "id": "R-wbU5hjLzIk",
        "outputId": "c89805ff-8367-463a-a6f2-63568c21431c"
      },
      "execution_count": 54,
      "outputs": [
        {
          "output_type": "stream",
          "name": "stdout",
          "text": [
            "18/18 [==============================] - 0s 2ms/step - loss: 626.0469\n"
          ]
        },
        {
          "output_type": "execute_result",
          "data": {
            "text/plain": [
              "626.046875"
            ]
          },
          "metadata": {},
          "execution_count": 54
        }
      ]
    },
    {
      "cell_type": "code",
      "source": [
        "y_test.dtype, y_test.shape\n"
      ],
      "metadata": {
        "colab": {
          "base_uri": "https://localhost:8080/"
        },
        "id": "bucOFMoUMFh0",
        "outputId": "258b603d-5805-4399-ed18-ba8786a98d6a"
      },
      "execution_count": 55,
      "outputs": [
        {
          "output_type": "execute_result",
          "data": {
            "text/plain": [
              "(dtype('float64'), (556, 1))"
            ]
          },
          "metadata": {},
          "execution_count": 55
        }
      ]
    },
    {
      "cell_type": "code",
      "source": [
        "y_test_ev = tf.squeeze(np.array(y_test, dtype=np.float32))\n",
        "y_pred = make_preds(model_1, x_test)\n",
        "\n",
        "model1_result = evaluate_preds(y_test_ev, y_pred)\n",
        "model1_result"
      ],
      "metadata": {
        "colab": {
          "base_uri": "https://localhost:8080/"
        },
        "id": "JC6S3QD1L2tM",
        "outputId": "ef5cd026-73bf-4e3e-9aa2-23a4f3b5604a"
      },
      "execution_count": 56,
      "outputs": [
        {
          "output_type": "stream",
          "name": "stdout",
          "text": [
            "18/18 [==============================] - 0s 2ms/step\n"
          ]
        },
        {
          "output_type": "execute_result",
          "data": {
            "text/plain": [
              "{'mae': 563.6161,\n",
              " 'mse': 1150975.1,\n",
              " 'rmse': 1072.8351,\n",
              " 'mape': 2.5274832,\n",
              " 'mase': 0.9901174}"
            ]
          },
          "metadata": {},
          "execution_count": 56
        }
      ]
    },
    {
      "cell_type": "code",
      "source": [
        "naive_result"
      ],
      "metadata": {
        "colab": {
          "base_uri": "https://localhost:8080/"
        },
        "id": "LKyIV8-RNrFf",
        "outputId": "b88be380-4013-48c5-8a93-ea150fd7c744"
      },
      "execution_count": 57,
      "outputs": [
        {
          "output_type": "execute_result",
          "data": {
            "text/plain": [
              "{'mae': 567.9802,\n",
              " 'mse': 1147547.0,\n",
              " 'rmse': 1071.2362,\n",
              " 'mape': 2.516525,\n",
              " 'mase': 0.99957}"
            ]
          },
          "metadata": {},
          "execution_count": 57
        }
      ]
    },
    {
      "cell_type": "code",
      "source": [
        "timesteps = np.array(timesteps)\n",
        "test_timesteps = timesteps[-len(y_test):]\n"
      ],
      "metadata": {
        "id": "xoG9UKdtipxe"
      },
      "execution_count": 58,
      "outputs": []
    },
    {
      "cell_type": "code",
      "source": [
        "test_timesteps.shape"
      ],
      "metadata": {
        "colab": {
          "base_uri": "https://localhost:8080/"
        },
        "id": "LWViHV2Aj857",
        "outputId": "9e04b87c-f4fd-4ddd-80ba-216e3cba2421"
      },
      "execution_count": 59,
      "outputs": [
        {
          "output_type": "execute_result",
          "data": {
            "text/plain": [
              "(556,)"
            ]
          },
          "metadata": {},
          "execution_count": 59
        }
      ]
    },
    {
      "cell_type": "code",
      "source": [
        "y_test_ev.shape"
      ],
      "metadata": {
        "colab": {
          "base_uri": "https://localhost:8080/"
        },
        "id": "-epYOcoiiva-",
        "outputId": "8a05604d-e391-4a9f-a2cf-bfb8409611de"
      },
      "execution_count": 60,
      "outputs": [
        {
          "output_type": "execute_result",
          "data": {
            "text/plain": [
              "TensorShape([556])"
            ]
          },
          "metadata": {},
          "execution_count": 60
        }
      ]
    },
    {
      "cell_type": "code",
      "source": [
        "y_test_ev.shape, y_pred.shape,test_timesteps.shape"
      ],
      "metadata": {
        "colab": {
          "base_uri": "https://localhost:8080/"
        },
        "id": "pFW-ni6Vk65-",
        "outputId": "c891d8c8-9ca3-477f-ce33-3265eae53dfd"
      },
      "execution_count": 61,
      "outputs": [
        {
          "output_type": "execute_result",
          "data": {
            "text/plain": [
              "(TensorShape([556]), (556,), (556,))"
            ]
          },
          "metadata": {},
          "execution_count": 61
        }
      ]
    },
    {
      "cell_type": "code",
      "source": [
        "#plot the forecast\n",
        "\n",
        "plt.figure(figsize=(15, 7))\n",
        "plot_time_series(test_timesteps, y_test_ev, format='.', start=0, end=None, label='actual')\n",
        "plot_time_series(test_timesteps, y_pred, format='-', start=0, end=None, label='forecast')\n",
        "plt.legend()\n",
        "plt.show()\n"
      ],
      "metadata": {
        "colab": {
          "base_uri": "https://localhost:8080/",
          "height": 619
        },
        "id": "Heahgzrvh3bn",
        "outputId": "7220c4c7-7ddd-48dc-f58a-c8c0363c1e2d"
      },
      "execution_count": 62,
      "outputs": [
        {
          "output_type": "display_data",
          "data": {
            "text/plain": [
              "<Figure size 1500x700 with 1 Axes>"
            ],
            "image/png": "[encoded data removed]"
          },
          "metadata": {}
        }
      ]
    },
    {
      "cell_type": "markdown",
      "source": [
        "# Create a model_2 using window = 30, horizon = 1"
      ],
      "metadata": {
        "id": "Zec4mzUsnPIK"
      }
    },
    {
      "cell_type": "code",
      "source": [
        "window_size2 = 30\n",
        "horizon2 = 1"
      ],
      "metadata": {
        "id": "CBewWEbblciI"
      },
      "execution_count": 63,
      "outputs": []
    },
    {
      "cell_type": "code",
      "source": [
        "x_data2, y_data2 = make_windows(data['Closing Price (USD)'], window_size2, horizon2)"
      ],
      "metadata": {
        "id": "C61CzVzondvS"
      },
      "execution_count": 64,
      "outputs": []
    },
    {
      "cell_type": "code",
      "source": [
        "x_data2.shape, y_data2.shape\n"
      ],
      "metadata": {
        "colab": {
          "base_uri": "https://localhost:8080/"
        },
        "id": "HblD-edjZhQr",
        "outputId": "74747a3f-f730-4ad8-d741-31cb118608e1"
      },
      "execution_count": 65,
      "outputs": [
        {
          "output_type": "execute_result",
          "data": {
            "text/plain": [
              "((2757, 30), (2757, 1))"
            ]
          },
          "metadata": {},
          "execution_count": 65
        }
      ]
    },
    {
      "cell_type": "code",
      "source": [
        "x_data.shape, y_data.shape"
      ],
      "metadata": {
        "colab": {
          "base_uri": "https://localhost:8080/"
        },
        "id": "H-xjbat8ZmA3",
        "outputId": "341ddf6b-4fda-4d00-e629-545ab5319ded"
      },
      "execution_count": 66,
      "outputs": [
        {
          "output_type": "execute_result",
          "data": {
            "text/plain": [
              "((2780, 7), (2780, 1))"
            ]
          },
          "metadata": {},
          "execution_count": 66
        }
      ]
    },
    {
      "cell_type": "code",
      "source": [
        "data['Closing Price (USD)'].shape"
      ],
      "metadata": {
        "colab": {
          "base_uri": "https://localhost:8080/"
        },
        "id": "3QqdQafPZvcf",
        "outputId": "753fc3dc-d6a9-441c-e5ba-e1cb2ccbf9c0"
      },
      "execution_count": 67,
      "outputs": [
        {
          "output_type": "execute_result",
          "data": {
            "text/plain": [
              "(2787,)"
            ]
          },
          "metadata": {},
          "execution_count": 67
        }
      ]
    },
    {
      "cell_type": "code",
      "source": [
        "model2 = create_model(window_size2, horizon2)\n",
        "\n",
        "model2.summary()"
      ],
      "metadata": {
        "colab": {
          "base_uri": "https://localhost:8080/"
        },
        "id": "g1mAHa2anp7Z",
        "outputId": "7464946f-97d2-4b08-ce79-a5b25cbd76f4"
      },
      "execution_count": 68,
      "outputs": [
        {
          "output_type": "stream",
          "name": "stdout",
          "text": [
            "Model: \"sequential_1\"\n",
            "_________________________________________________________________\n",
            " Layer (type)                Output Shape              Param #   \n",
            "=================================================================\n",
            " dense_2 (Dense)             (None, 128)               3968      \n",
            "                                                                 \n",
            " dense_3 (Dense)             (None, 1)                 129       \n",
            "                                                                 \n",
            "=================================================================\n",
            "Total params: 4,097\n",
            "Trainable params: 4,097\n",
            "Non-trainable params: 0\n",
            "_________________________________________________________________\n"
          ]
        }
      ]
    },
    {
      "cell_type": "code",
      "source": [
        "x_train2, x_test2, y_train2, y_test2 = split_data(x_data2, y_data2, test_size=0.2)"
      ],
      "metadata": {
        "id": "GfqShNCFny-b"
      },
      "execution_count": 69,
      "outputs": []
    },
    {
      "cell_type": "code",
      "source": [
        "x_train2.shape, x_test2.shape, y_train2.shape, y_test2.shape\n"
      ],
      "metadata": {
        "colab": {
          "base_uri": "https://localhost:8080/"
        },
        "id": "gTIg_cQgn81Z",
        "outputId": "52d092cf-725f-4721-96a1-43c1828cd257"
      },
      "execution_count": 70,
      "outputs": [
        {
          "output_type": "execute_result",
          "data": {
            "text/plain": [
              "((2205, 30), (552, 30), (2205, 1), (552, 1))"
            ]
          },
          "metadata": {},
          "execution_count": 70
        }
      ]
    },
    {
      "cell_type": "code",
      "source": [
        "MCP2 = create_ckpoint('model2.h5')\n",
        "\n",
        "model2.fit(\n",
        "    x_train2,\n",
        "    y_train2,\n",
        "    epochs=100,\n",
        "    validation_data=(x_test2, y_test2),\n",
        "    batch_size=128,\n",
        "    callbacks=[MCP2])\n"
      ],
      "metadata": {
        "colab": {
          "base_uri": "https://localhost:8080/"
        },
        "id": "sEGeE_XsnvY3",
        "outputId": "eaf4aaca-0cf4-47d6-c024-e76f6c4f9b67"
      },
      "execution_count": 71,
      "outputs": [
        {
          "output_type": "stream",
          "name": "stdout",
          "text": [
            "Epoch 1/100\n",
            "18/18 [==============================] - 1s 12ms/step - loss: 1384.8320 - val_loss: 4373.5625\n",
            "Epoch 2/100\n",
            "18/18 [==============================] - 0s 6ms/step - loss: 381.5355 - val_loss: 1169.5378\n",
            "Epoch 3/100\n",
            "18/18 [==============================] - 0s 5ms/step - loss: 203.3580 - val_loss: 1019.1291\n",
            "Epoch 4/100\n",
            "18/18 [==============================] - 0s 6ms/step - loss: 158.3208 - val_loss: 818.6147\n",
            "Epoch 5/100\n",
            "18/18 [==============================] - 0s 5ms/step - loss: 160.7749 - val_loss: 821.2989\n",
            "Epoch 6/100\n",
            "18/18 [==============================] - 0s 4ms/step - loss: 146.4342 - val_loss: 843.0681\n",
            "Epoch 7/100\n",
            "18/18 [==============================] - 0s 4ms/step - loss: 147.3971 - val_loss: 831.5584\n",
            "Epoch 8/100\n",
            "18/18 [==============================] - 0s 5ms/step - loss: 140.7202 - val_loss: 860.7885\n",
            "Epoch 9/100\n",
            "18/18 [==============================] - 0s 6ms/step - loss: 143.9274 - val_loss: 783.3657\n",
            "Epoch 10/100\n",
            "18/18 [==============================] - 0s 6ms/step - loss: 139.1810 - val_loss: 775.0930\n",
            "Epoch 11/100\n",
            "18/18 [==============================] - 0s 5ms/step - loss: 138.9970 - val_loss: 760.7772\n",
            "Epoch 12/100\n",
            "18/18 [==============================] - 0s 5ms/step - loss: 141.1038 - val_loss: 762.3909\n",
            "Epoch 13/100\n",
            "18/18 [==============================] - 0s 5ms/step - loss: 136.4363 - val_loss: 748.6629\n",
            "Epoch 14/100\n",
            "18/18 [==============================] - 0s 5ms/step - loss: 132.0126 - val_loss: 736.0848\n",
            "Epoch 15/100\n",
            "18/18 [==============================] - 0s 4ms/step - loss: 132.1999 - val_loss: 777.4375\n",
            "Epoch 16/100\n",
            "18/18 [==============================] - 0s 5ms/step - loss: 137.2325 - val_loss: 818.4681\n",
            "Epoch 17/100\n",
            "18/18 [==============================] - 0s 4ms/step - loss: 135.3256 - val_loss: 743.9628\n",
            "Epoch 18/100\n",
            "18/18 [==============================] - 0s 4ms/step - loss: 129.5575 - val_loss: 747.1959\n",
            "Epoch 19/100\n",
            "18/18 [==============================] - 0s 7ms/step - loss: 135.4635 - val_loss: 714.6482\n",
            "Epoch 20/100\n",
            "18/18 [==============================] - 0s 5ms/step - loss: 138.0460 - val_loss: 733.7015\n",
            "Epoch 21/100\n",
            "18/18 [==============================] - 0s 4ms/step - loss: 124.6907 - val_loss: 815.6021\n",
            "Epoch 22/100\n",
            "18/18 [==============================] - 0s 6ms/step - loss: 137.5788 - val_loss: 705.5877\n",
            "Epoch 23/100\n",
            "18/18 [==============================] - 0s 4ms/step - loss: 124.1331 - val_loss: 707.7575\n",
            "Epoch 24/100\n",
            "18/18 [==============================] - 0s 5ms/step - loss: 125.1824 - val_loss: 688.2206\n",
            "Epoch 25/100\n",
            "18/18 [==============================] - 0s 4ms/step - loss: 127.3129 - val_loss: 696.9404\n",
            "Epoch 26/100\n",
            "18/18 [==============================] - 0s 5ms/step - loss: 122.9425 - val_loss: 681.4711\n",
            "Epoch 27/100\n",
            "18/18 [==============================] - 0s 5ms/step - loss: 125.1513 - val_loss: 741.5428\n",
            "Epoch 28/100\n",
            "18/18 [==============================] - 0s 4ms/step - loss: 127.5955 - val_loss: 714.0915\n",
            "Epoch 29/100\n",
            "18/18 [==============================] - 0s 6ms/step - loss: 122.9040 - val_loss: 672.9866\n",
            "Epoch 30/100\n",
            "18/18 [==============================] - 0s 5ms/step - loss: 121.9546 - val_loss: 674.2907\n",
            "Epoch 31/100\n",
            "18/18 [==============================] - 0s 4ms/step - loss: 121.0365 - val_loss: 675.7921\n",
            "Epoch 32/100\n",
            "18/18 [==============================] - 0s 4ms/step - loss: 127.0197 - val_loss: 1022.6644\n",
            "Epoch 33/100\n",
            "18/18 [==============================] - 0s 4ms/step - loss: 128.3632 - val_loss: 779.9474\n",
            "Epoch 34/100\n",
            "18/18 [==============================] - 0s 5ms/step - loss: 127.1628 - val_loss: 688.1733\n",
            "Epoch 35/100\n",
            "18/18 [==============================] - 0s 4ms/step - loss: 134.6087 - val_loss: 1300.1899\n",
            "Epoch 36/100\n",
            "18/18 [==============================] - 0s 4ms/step - loss: 161.7600 - val_loss: 1356.8617\n",
            "Epoch 37/100\n",
            "18/18 [==============================] - 0s 5ms/step - loss: 182.9458 - val_loss: 664.8019\n",
            "Epoch 38/100\n",
            "18/18 [==============================] - 0s 4ms/step - loss: 132.0792 - val_loss: 674.4572\n",
            "Epoch 39/100\n",
            "18/18 [==============================] - 0s 6ms/step - loss: 134.7911 - val_loss: 918.6074\n",
            "Epoch 40/100\n",
            "18/18 [==============================] - 0s 6ms/step - loss: 138.1162 - val_loss: 661.2918\n",
            "Epoch 41/100\n",
            "18/18 [==============================] - 0s 5ms/step - loss: 121.3985 - val_loss: 681.7558\n",
            "Epoch 42/100\n",
            "18/18 [==============================] - 0s 5ms/step - loss: 123.2092 - val_loss: 654.5363\n",
            "Epoch 43/100\n",
            "18/18 [==============================] - 0s 5ms/step - loss: 125.1773 - val_loss: 644.3468\n",
            "Epoch 44/100\n",
            "18/18 [==============================] - 0s 5ms/step - loss: 117.3761 - val_loss: 647.4396\n",
            "Epoch 45/100\n",
            "18/18 [==============================] - 0s 4ms/step - loss: 119.6239 - val_loss: 647.7485\n",
            "Epoch 46/100\n",
            "18/18 [==============================] - 0s 5ms/step - loss: 116.6428 - val_loss: 869.1885\n",
            "Epoch 47/100\n",
            "18/18 [==============================] - 0s 6ms/step - loss: 132.8946 - val_loss: 637.7474\n",
            "Epoch 48/100\n",
            "18/18 [==============================] - 0s 5ms/step - loss: 117.8140 - val_loss: 677.5583\n",
            "Epoch 49/100\n",
            "18/18 [==============================] - 0s 4ms/step - loss: 141.4657 - val_loss: 796.2583\n",
            "Epoch 50/100\n",
            "18/18 [==============================] - 0s 5ms/step - loss: 127.4283 - val_loss: 687.6084\n",
            "Epoch 51/100\n",
            "18/18 [==============================] - 0s 6ms/step - loss: 126.2093 - val_loss: 636.4764\n",
            "Epoch 52/100\n",
            "18/18 [==============================] - 0s 6ms/step - loss: 125.8194 - val_loss: 683.1180\n",
            "Epoch 53/100\n",
            "18/18 [==============================] - 0s 4ms/step - loss: 120.4325 - val_loss: 714.6157\n",
            "Epoch 54/100\n",
            "18/18 [==============================] - 0s 4ms/step - loss: 124.2054 - val_loss: 730.0270\n",
            "Epoch 55/100\n",
            "18/18 [==============================] - 0s 4ms/step - loss: 126.4800 - val_loss: 676.3026\n",
            "Epoch 56/100\n",
            "18/18 [==============================] - 0s 4ms/step - loss: 112.9754 - val_loss: 714.3296\n",
            "Epoch 57/100\n",
            "18/18 [==============================] - 0s 4ms/step - loss: 113.5062 - val_loss: 676.8031\n",
            "Epoch 58/100\n",
            "18/18 [==============================] - 0s 5ms/step - loss: 113.5251 - val_loss: 627.9346\n",
            "Epoch 59/100\n",
            "18/18 [==============================] - 0s 6ms/step - loss: 115.7493 - val_loss: 627.5391\n",
            "Epoch 60/100\n",
            "18/18 [==============================] - 0s 7ms/step - loss: 127.8591 - val_loss: 902.7149\n",
            "Epoch 61/100\n",
            "18/18 [==============================] - 0s 7ms/step - loss: 148.3069 - val_loss: 670.8090\n",
            "Epoch 62/100\n",
            "18/18 [==============================] - 0s 6ms/step - loss: 119.9525 - val_loss: 650.1972\n",
            "Epoch 63/100\n",
            "18/18 [==============================] - 0s 7ms/step - loss: 111.8438 - val_loss: 661.3761\n",
            "Epoch 64/100\n",
            "18/18 [==============================] - 0s 7ms/step - loss: 115.7125 - val_loss: 703.1302\n",
            "Epoch 65/100\n",
            "18/18 [==============================] - 0s 7ms/step - loss: 115.2450 - val_loss: 630.5296\n",
            "Epoch 66/100\n",
            "18/18 [==============================] - 0s 8ms/step - loss: 116.1442 - val_loss: 622.3165\n",
            "Epoch 67/100\n",
            "18/18 [==============================] - 0s 7ms/step - loss: 119.8695 - val_loss: 662.1946\n",
            "Epoch 68/100\n",
            "18/18 [==============================] - 0s 7ms/step - loss: 141.1787 - val_loss: 632.8970\n",
            "Epoch 69/100\n",
            "18/18 [==============================] - 0s 7ms/step - loss: 138.7631 - val_loss: 634.8008\n",
            "Epoch 70/100\n",
            "18/18 [==============================] - 0s 8ms/step - loss: 132.3360 - val_loss: 621.5548\n",
            "Epoch 71/100\n",
            "18/18 [==============================] - 0s 7ms/step - loss: 129.4250 - val_loss: 1035.8964\n",
            "Epoch 72/100\n",
            "18/18 [==============================] - 0s 6ms/step - loss: 140.1850 - val_loss: 789.5316\n",
            "Epoch 73/100\n",
            "18/18 [==============================] - 0s 7ms/step - loss: 128.7546 - val_loss: 713.1356\n",
            "Epoch 74/100\n",
            "18/18 [==============================] - 0s 7ms/step - loss: 112.9819 - val_loss: 642.8450\n",
            "Epoch 75/100\n",
            "18/18 [==============================] - 0s 8ms/step - loss: 123.2562 - val_loss: 616.3766\n",
            "Epoch 76/100\n",
            "18/18 [==============================] - 0s 7ms/step - loss: 123.2552 - val_loss: 705.5128\n",
            "Epoch 77/100\n",
            "18/18 [==============================] - 0s 7ms/step - loss: 122.6578 - val_loss: 926.4617\n",
            "Epoch 78/100\n",
            "18/18 [==============================] - 0s 5ms/step - loss: 125.0599 - val_loss: 626.6984\n",
            "Epoch 79/100\n",
            "18/18 [==============================] - 0s 4ms/step - loss: 115.4365 - val_loss: 723.1657\n",
            "Epoch 80/100\n",
            "18/18 [==============================] - 0s 4ms/step - loss: 134.3115 - val_loss: 840.4209\n",
            "Epoch 81/100\n",
            "18/18 [==============================] - 0s 4ms/step - loss: 132.8231 - val_loss: 640.1838\n",
            "Epoch 82/100\n",
            "18/18 [==============================] - 0s 4ms/step - loss: 133.8839 - val_loss: 712.7498\n",
            "Epoch 83/100\n",
            "18/18 [==============================] - 0s 5ms/step - loss: 111.1044 - val_loss: 660.1871\n",
            "Epoch 84/100\n",
            "18/18 [==============================] - 0s 5ms/step - loss: 131.2955 - val_loss: 1008.7518\n",
            "Epoch 85/100\n",
            "18/18 [==============================] - 0s 4ms/step - loss: 159.7539 - val_loss: 952.3800\n",
            "Epoch 86/100\n",
            "18/18 [==============================] - 0s 4ms/step - loss: 133.3961 - val_loss: 782.4949\n",
            "Epoch 87/100\n",
            "18/18 [==============================] - 0s 5ms/step - loss: 134.4741 - val_loss: 612.2999\n",
            "Epoch 88/100\n",
            "18/18 [==============================] - 0s 4ms/step - loss: 111.5694 - val_loss: 858.1166\n",
            "Epoch 89/100\n",
            "18/18 [==============================] - 0s 4ms/step - loss: 129.5991 - val_loss: 687.9004\n",
            "Epoch 90/100\n",
            "18/18 [==============================] - 0s 5ms/step - loss: 115.0413 - val_loss: 782.0137\n",
            "Epoch 91/100\n",
            "18/18 [==============================] - 0s 5ms/step - loss: 126.2253 - val_loss: 764.4564\n",
            "Epoch 92/100\n",
            "18/18 [==============================] - 0s 5ms/step - loss: 129.0749 - val_loss: 612.8615\n",
            "Epoch 93/100\n",
            "18/18 [==============================] - 0s 5ms/step - loss: 111.0471 - val_loss: 682.8644\n",
            "Epoch 94/100\n",
            "18/18 [==============================] - 0s 4ms/step - loss: 114.7003 - val_loss: 698.4764\n",
            "Epoch 95/100\n",
            "18/18 [==============================] - 0s 6ms/step - loss: 110.4066 - val_loss: 609.8423\n",
            "Epoch 96/100\n",
            "18/18 [==============================] - 0s 4ms/step - loss: 116.1295 - val_loss: 655.7329\n",
            "Epoch 97/100\n",
            "18/18 [==============================] - 0s 4ms/step - loss: 113.8750 - val_loss: 807.0566\n",
            "Epoch 98/100\n",
            "18/18 [==============================] - 0s 4ms/step - loss: 122.9420 - val_loss: 834.3777\n",
            "Epoch 99/100\n",
            "18/18 [==============================] - 0s 5ms/step - loss: 132.3312 - val_loss: 616.0102\n",
            "Epoch 100/100\n",
            "18/18 [==============================] - 0s 5ms/step - loss: 111.7867 - val_loss: 601.6560\n"
          ]
        },
        {
          "output_type": "execute_result",
          "data": {
            "text/plain": [
              "<keras.callbacks.History at 0x7ae841f351b0>"
            ]
          },
          "metadata": {},
          "execution_count": 71
        }
      ]
    },
    {
      "cell_type": "code",
      "source": [
        "model2.evaluate(x_test2, y_test2)"
      ],
      "metadata": {
        "colab": {
          "base_uri": "https://localhost:8080/"
        },
        "id": "1kagOFbOoWFp",
        "outputId": "cf446373-e0ef-4c35-b4f4-46e9bc960faf"
      },
      "execution_count": 72,
      "outputs": [
        {
          "output_type": "stream",
          "name": "stdout",
          "text": [
            "18/18 [==============================] - 0s 2ms/step - loss: 601.6561\n"
          ]
        },
        {
          "output_type": "execute_result",
          "data": {
            "text/plain": [
              "601.6561279296875"
            ]
          },
          "metadata": {},
          "execution_count": 72
        }
      ]
    },
    {
      "cell_type": "code",
      "source": [
        "model2 = tf.keras.models.load_model('model2.h5')\n",
        "model2.evaluate(x_test2, y_test2)"
      ],
      "metadata": {
        "colab": {
          "base_uri": "https://localhost:8080/"
        },
        "id": "Uz6PvsQkq9rh",
        "outputId": "ac2d9610-8207-49c2-e334-4024905fd6f8"
      },
      "execution_count": 73,
      "outputs": [
        {
          "output_type": "stream",
          "name": "stdout",
          "text": [
            "18/18 [==============================] - 0s 2ms/step - loss: 601.6561\n"
          ]
        },
        {
          "output_type": "execute_result",
          "data": {
            "text/plain": [
              "601.6561279296875"
            ]
          },
          "metadata": {},
          "execution_count": 73
        }
      ]
    },
    {
      "cell_type": "code",
      "source": [
        "y_pred2 = make_preds(model2, x_test2)\n"
      ],
      "metadata": {
        "colab": {
          "base_uri": "https://localhost:8080/"
        },
        "id": "uM4bhLX7oe0w",
        "outputId": "43847c06-564c-4848-c70f-087ccffaed20"
      },
      "execution_count": 74,
      "outputs": [
        {
          "output_type": "stream",
          "name": "stdout",
          "text": [
            "18/18 [==============================] - 0s 1ms/step\n"
          ]
        }
      ]
    },
    {
      "cell_type": "code",
      "source": [
        "y_pred2.shape"
      ],
      "metadata": {
        "colab": {
          "base_uri": "https://localhost:8080/"
        },
        "id": "tHwA41dIorgd",
        "outputId": "e6187023-9464-4b2a-e01e-a0335de08ef6"
      },
      "execution_count": 75,
      "outputs": [
        {
          "output_type": "execute_result",
          "data": {
            "text/plain": [
              "(552,)"
            ]
          },
          "metadata": {},
          "execution_count": 75
        }
      ]
    },
    {
      "cell_type": "code",
      "source": [
        "y_test2_ev = tf.squeeze(np.array(y_test2, dtype=np.float32))\n",
        "\n",
        "model2_result = evaluate_preds(y_test2_ev, y_pred2)\n",
        "model2_result"
      ],
      "metadata": {
        "colab": {
          "base_uri": "https://localhost:8080/"
        },
        "id": "m75wePORoael",
        "outputId": "ee2e6831-5a4a-4ffa-a441-9293ef3552f1"
      },
      "execution_count": 76,
      "outputs": [
        {
          "output_type": "execute_result",
          "data": {
            "text/plain": [
              "{'mae': 601.65607,\n",
              " 'mse': 1233789.6,\n",
              " 'rmse': 1110.7607,\n",
              " 'mape': 2.7134306,\n",
              " 'mase': 1.0517007}"
            ]
          },
          "metadata": {},
          "execution_count": 76
        }
      ]
    },
    {
      "cell_type": "code",
      "source": [
        "test_timesteps2 = timesteps[-len(y_test2):]\n",
        "\n",
        "plt.figure(figsize=(15,7))\n",
        "plot_time_series(test_timesteps2, y_test2_ev, format='.', start=0, end=None, label='actual')\n",
        "plot_time_series(test_timesteps2, y_pred2, format='-', start=0, end=None, label='forecast')\n",
        "plt.legend()\n",
        "plt.show()\n"
      ],
      "metadata": {
        "colab": {
          "base_uri": "https://localhost:8080/",
          "height": 619
        },
        "id": "ysVW0bTIpETJ",
        "outputId": "41ffe98e-ca19-4c10-e4a7-09673e2ecd2f"
      },
      "execution_count": 77,
      "outputs": [
        {
          "output_type": "display_data",
          "data": {
            "text/plain": [
              "<Figure size 1500x700 with 1 Axes>"
            ],
            "image/png": "[encoded data removed]"
          },
          "metadata": {}
        }
      ]
    },
    {
      "cell_type": "markdown",
      "source": [
        "# Create model_3 using window = 30, horizon = 7"
      ],
      "metadata": {
        "id": "ezckt9WfaqYY"
      }
    },
    {
      "cell_type": "code",
      "source": [
        "window_size3 = 30\n",
        "horizon3 = 7"
      ],
      "metadata": {
        "id": "IAdd-_FNZVHW"
      },
      "execution_count": 78,
      "outputs": []
    },
    {
      "cell_type": "code",
      "source": [
        "x_data3, y_data3 = make_windows(data['Closing Price (USD)'], window_size3, horizon3)"
      ],
      "metadata": {
        "id": "ZqzV1LSLZV6z"
      },
      "execution_count": 79,
      "outputs": []
    },
    {
      "cell_type": "code",
      "source": [
        "x_data3.shape, y_data3.shape\n"
      ],
      "metadata": {
        "colab": {
          "base_uri": "https://localhost:8080/"
        },
        "id": "hKPG0u1iZYIe",
        "outputId": "854ee1d2-4880-443d-c5dc-42030a05b0e7"
      },
      "execution_count": 80,
      "outputs": [
        {
          "output_type": "execute_result",
          "data": {
            "text/plain": [
              "((2751, 30), (2751, 7))"
            ]
          },
          "metadata": {},
          "execution_count": 80
        }
      ]
    },
    {
      "cell_type": "code",
      "source": [
        "x_train3, x_test3, y_train3, y_test3 = split_data(x_data3, y_data3, test_size=0.2)\n"
      ],
      "metadata": {
        "id": "x55_OhKbbPjR"
      },
      "execution_count": 81,
      "outputs": []
    },
    {
      "cell_type": "code",
      "source": [
        "x_train3.shape, x_test3.shape, y_train3.shape, y_test3.shape"
      ],
      "metadata": {
        "colab": {
          "base_uri": "https://localhost:8080/"
        },
        "id": "QZbV4ZFZbSB0",
        "outputId": "3f516755-f276-4ba1-9442-b40e92e1c453"
      },
      "execution_count": 82,
      "outputs": [
        {
          "output_type": "execute_result",
          "data": {
            "text/plain": [
              "((2200, 30), (551, 30), (2200, 7), (551, 7))"
            ]
          },
          "metadata": {},
          "execution_count": 82
        }
      ]
    },
    {
      "cell_type": "code",
      "source": [
        "model3 = create_model(window_size3, horizon3)\n",
        "\n",
        "model3.summary()\n"
      ],
      "metadata": {
        "colab": {
          "base_uri": "https://localhost:8080/"
        },
        "id": "Lvl2s-0ZbTlf",
        "outputId": "a36bf009-8f59-42fb-89ce-d1edfec10eb6"
      },
      "execution_count": 83,
      "outputs": [
        {
          "output_type": "stream",
          "name": "stdout",
          "text": [
            "Model: \"sequential_2\"\n",
            "_________________________________________________________________\n",
            " Layer (type)                Output Shape              Param #   \n",
            "=================================================================\n",
            " dense_4 (Dense)             (None, 128)               3968      \n",
            "                                                                 \n",
            " dense_5 (Dense)             (None, 7)                 903       \n",
            "                                                                 \n",
            "=================================================================\n",
            "Total params: 4,871\n",
            "Trainable params: 4,871\n",
            "Non-trainable params: 0\n",
            "_________________________________________________________________\n"
          ]
        }
      ]
    },
    {
      "cell_type": "code",
      "source": [
        "MCP3 = create_ckpoint('model3.h5')\n",
        "\n",
        "model3.fit(\n",
        "    x_train3,\n",
        "    y_train3,\n",
        "    epochs=100,\n",
        "    validation_data=(x_test3, y_test3),\n",
        "    callbacks=[MCP3])\n"
      ],
      "metadata": {
        "colab": {
          "base_uri": "https://localhost:8080/"
        },
        "id": "S4kiXHN_bbF_",
        "outputId": "c0d9c53d-d500-4372-c894-7e840fd274a5"
      },
      "execution_count": 84,
      "outputs": [
        {
          "output_type": "stream",
          "name": "stdout",
          "text": [
            "Epoch 1/100\n",
            "69/69 [==============================] - 1s 6ms/step - loss: 628.9610 - val_loss: 2770.1855\n",
            "Epoch 2/100\n",
            "69/69 [==============================] - 0s 4ms/step - loss: 342.6341 - val_loss: 2021.1924\n",
            "Epoch 3/100\n",
            "69/69 [==============================] - 0s 3ms/step - loss: 304.2449 - val_loss: 1564.9531\n",
            "Epoch 4/100\n",
            "69/69 [==============================] - 0s 3ms/step - loss: 288.5532 - val_loss: 1750.4312\n",
            "Epoch 5/100\n",
            "69/69 [==============================] - 0s 4ms/step - loss: 325.3308 - val_loss: 1629.3105\n",
            "Epoch 6/100\n",
            "69/69 [==============================] - 0s 4ms/step - loss: 282.7699 - val_loss: 1606.4031\n",
            "Epoch 7/100\n",
            "69/69 [==============================] - 0s 3ms/step - loss: 265.2503 - val_loss: 1451.4561\n",
            "Epoch 8/100\n",
            "69/69 [==============================] - 0s 4ms/step - loss: 261.8088 - val_loss: 1421.7107\n",
            "Epoch 9/100\n",
            "69/69 [==============================] - 0s 4ms/step - loss: 256.2074 - val_loss: 1415.6913\n",
            "Epoch 10/100\n",
            "69/69 [==============================] - 0s 3ms/step - loss: 260.0216 - val_loss: 1355.3215\n",
            "Epoch 11/100\n",
            "69/69 [==============================] - 0s 3ms/step - loss: 248.8438 - val_loss: 1440.9712\n",
            "Epoch 12/100\n",
            "69/69 [==============================] - 0s 3ms/step - loss: 256.7819 - val_loss: 1722.0892\n",
            "Epoch 13/100\n",
            "69/69 [==============================] - 0s 4ms/step - loss: 250.3252 - val_loss: 1323.0514\n",
            "Epoch 14/100\n",
            "69/69 [==============================] - 0s 3ms/step - loss: 246.6734 - val_loss: 1358.4329\n",
            "Epoch 15/100\n",
            "69/69 [==============================] - 0s 3ms/step - loss: 253.9008 - val_loss: 1519.4237\n",
            "Epoch 16/100\n",
            "69/69 [==============================] - 0s 4ms/step - loss: 245.9277 - val_loss: 1301.3031\n",
            "Epoch 17/100\n",
            "69/69 [==============================] - 0s 4ms/step - loss: 241.9263 - val_loss: 1282.8242\n",
            "Epoch 18/100\n",
            "69/69 [==============================] - 0s 3ms/step - loss: 251.9897 - val_loss: 1354.8137\n",
            "Epoch 19/100\n",
            "69/69 [==============================] - 0s 4ms/step - loss: 252.4442 - val_loss: 1279.9070\n",
            "Epoch 20/100\n",
            "69/69 [==============================] - 0s 4ms/step - loss: 257.8734 - val_loss: 1270.2432\n",
            "Epoch 21/100\n",
            "69/69 [==============================] - 0s 3ms/step - loss: 236.2562 - val_loss: 1348.8700\n",
            "Epoch 22/100\n",
            "69/69 [==============================] - 0s 3ms/step - loss: 237.5406 - val_loss: 1342.0623\n",
            "Epoch 23/100\n",
            "69/69 [==============================] - 0s 4ms/step - loss: 240.6445 - val_loss: 1431.4652\n",
            "Epoch 24/100\n",
            "69/69 [==============================] - 0s 4ms/step - loss: 241.8534 - val_loss: 1508.8066\n",
            "Epoch 25/100\n",
            "69/69 [==============================] - 0s 5ms/step - loss: 235.8612 - val_loss: 1382.9349\n",
            "Epoch 26/100\n",
            "69/69 [==============================] - 0s 5ms/step - loss: 251.4234 - val_loss: 1314.2091\n",
            "Epoch 27/100\n",
            "69/69 [==============================] - 0s 5ms/step - loss: 235.5689 - val_loss: 1269.0931\n",
            "Epoch 28/100\n",
            "69/69 [==============================] - 0s 5ms/step - loss: 246.6942 - val_loss: 1271.3678\n",
            "Epoch 29/100\n",
            "69/69 [==============================] - 0s 6ms/step - loss: 238.4697 - val_loss: 1265.7684\n",
            "Epoch 30/100\n",
            "69/69 [==============================] - 0s 5ms/step - loss: 238.3168 - val_loss: 1360.3666\n",
            "Epoch 31/100\n",
            "69/69 [==============================] - 0s 4ms/step - loss: 234.8095 - val_loss: 1308.5112\n",
            "Epoch 32/100\n",
            "69/69 [==============================] - 0s 4ms/step - loss: 238.8378 - val_loss: 1367.0941\n",
            "Epoch 33/100\n",
            "69/69 [==============================] - 0s 3ms/step - loss: 231.0975 - val_loss: 1316.3375\n",
            "Epoch 34/100\n",
            "69/69 [==============================] - 0s 4ms/step - loss: 228.2786 - val_loss: 1297.3196\n",
            "Epoch 35/100\n",
            "69/69 [==============================] - 0s 4ms/step - loss: 237.0669 - val_loss: 1327.8165\n",
            "Epoch 36/100\n",
            "69/69 [==============================] - 0s 3ms/step - loss: 243.1085 - val_loss: 1276.7087\n",
            "Epoch 37/100\n",
            "69/69 [==============================] - 0s 3ms/step - loss: 228.8685 - val_loss: 1279.8937\n",
            "Epoch 38/100\n",
            "69/69 [==============================] - 0s 3ms/step - loss: 229.9893 - val_loss: 1325.4213\n",
            "Epoch 39/100\n",
            "69/69 [==============================] - 0s 3ms/step - loss: 228.9485 - val_loss: 1333.3020\n",
            "Epoch 40/100\n",
            "69/69 [==============================] - 0s 3ms/step - loss: 235.6787 - val_loss: 1290.0630\n",
            "Epoch 41/100\n",
            "69/69 [==============================] - 0s 4ms/step - loss: 232.0197 - val_loss: 1340.1602\n",
            "Epoch 42/100\n",
            "69/69 [==============================] - 0s 4ms/step - loss: 243.3095 - val_loss: 1252.4233\n",
            "Epoch 43/100\n",
            "69/69 [==============================] - 0s 3ms/step - loss: 245.7168 - val_loss: 1463.2662\n",
            "Epoch 44/100\n",
            "69/69 [==============================] - 0s 4ms/step - loss: 234.2969 - val_loss: 1310.1002\n",
            "Epoch 45/100\n",
            "69/69 [==============================] - 0s 3ms/step - loss: 240.8312 - val_loss: 1966.6311\n",
            "Epoch 46/100\n",
            "69/69 [==============================] - 0s 4ms/step - loss: 237.5031 - val_loss: 1299.6106\n",
            "Epoch 47/100\n",
            "69/69 [==============================] - 0s 3ms/step - loss: 228.0948 - val_loss: 1437.4054\n",
            "Epoch 48/100\n",
            "69/69 [==============================] - 0s 3ms/step - loss: 230.4473 - val_loss: 1269.2494\n",
            "Epoch 49/100\n",
            "69/69 [==============================] - 0s 3ms/step - loss: 248.5006 - val_loss: 1612.9015\n",
            "Epoch 50/100\n",
            "69/69 [==============================] - 0s 3ms/step - loss: 236.8480 - val_loss: 1335.1508\n",
            "Epoch 51/100\n",
            "69/69 [==============================] - 0s 4ms/step - loss: 228.2733 - val_loss: 1273.1899\n",
            "Epoch 52/100\n",
            "69/69 [==============================] - 0s 3ms/step - loss: 229.9476 - val_loss: 1316.3364\n",
            "Epoch 53/100\n",
            "69/69 [==============================] - 0s 3ms/step - loss: 227.1206 - val_loss: 1393.7419\n",
            "Epoch 54/100\n",
            "69/69 [==============================] - 0s 4ms/step - loss: 226.6138 - val_loss: 1297.5635\n",
            "Epoch 55/100\n",
            "69/69 [==============================] - 0s 4ms/step - loss: 228.7301 - val_loss: 1249.9122\n",
            "Epoch 56/100\n",
            "69/69 [==============================] - 0s 3ms/step - loss: 222.8001 - val_loss: 1246.0275\n",
            "Epoch 57/100\n",
            "69/69 [==============================] - 0s 4ms/step - loss: 228.2409 - val_loss: 1284.9003\n",
            "Epoch 58/100\n",
            "69/69 [==============================] - 0s 3ms/step - loss: 224.8694 - val_loss: 1238.7217\n",
            "Epoch 59/100\n",
            "69/69 [==============================] - 0s 4ms/step - loss: 236.2978 - val_loss: 1243.2596\n",
            "Epoch 60/100\n",
            "69/69 [==============================] - 0s 3ms/step - loss: 226.9229 - val_loss: 1289.9011\n",
            "Epoch 61/100\n",
            "69/69 [==============================] - 0s 3ms/step - loss: 223.8560 - val_loss: 1240.8800\n",
            "Epoch 62/100\n",
            "69/69 [==============================] - 0s 4ms/step - loss: 223.7159 - val_loss: 1344.7517\n",
            "Epoch 63/100\n",
            "69/69 [==============================] - 0s 4ms/step - loss: 223.3648 - val_loss: 1253.4319\n",
            "Epoch 64/100\n",
            "69/69 [==============================] - 0s 3ms/step - loss: 222.9926 - val_loss: 1519.8053\n",
            "Epoch 65/100\n",
            "69/69 [==============================] - 0s 3ms/step - loss: 229.3407 - val_loss: 1394.2445\n",
            "Epoch 66/100\n",
            "69/69 [==============================] - 0s 4ms/step - loss: 232.5958 - val_loss: 1254.4935\n",
            "Epoch 67/100\n",
            "69/69 [==============================] - 0s 3ms/step - loss: 228.2157 - val_loss: 1447.3174\n",
            "Epoch 68/100\n",
            "69/69 [==============================] - 0s 3ms/step - loss: 225.8762 - val_loss: 1290.5310\n",
            "Epoch 69/100\n",
            "69/69 [==============================] - 0s 3ms/step - loss: 237.0732 - val_loss: 2130.2144\n",
            "Epoch 70/100\n",
            "69/69 [==============================] - 0s 4ms/step - loss: 227.2088 - val_loss: 1269.5038\n",
            "Epoch 71/100\n",
            "69/69 [==============================] - 0s 5ms/step - loss: 221.4590 - val_loss: 1584.3573\n",
            "Epoch 72/100\n",
            "69/69 [==============================] - 0s 5ms/step - loss: 222.0797 - val_loss: 1251.7257\n",
            "Epoch 73/100\n",
            "69/69 [==============================] - 0s 5ms/step - loss: 236.3194 - val_loss: 1351.3906\n",
            "Epoch 74/100\n",
            "69/69 [==============================] - 0s 5ms/step - loss: 230.5786 - val_loss: 1378.6958\n",
            "Epoch 75/100\n",
            "69/69 [==============================] - 0s 5ms/step - loss: 231.2258 - val_loss: 1447.1482\n",
            "Epoch 76/100\n",
            "69/69 [==============================] - 0s 5ms/step - loss: 230.0815 - val_loss: 1228.8467\n",
            "Epoch 77/100\n",
            "69/69 [==============================] - 0s 5ms/step - loss: 225.5927 - val_loss: 1235.8699\n",
            "Epoch 78/100\n",
            "69/69 [==============================] - 0s 3ms/step - loss: 221.2552 - val_loss: 1292.1128\n",
            "Epoch 79/100\n",
            "69/69 [==============================] - 0s 3ms/step - loss: 222.0480 - val_loss: 1372.6868\n",
            "Epoch 80/100\n",
            "69/69 [==============================] - 0s 3ms/step - loss: 222.6973 - val_loss: 1362.2620\n",
            "Epoch 81/100\n",
            "69/69 [==============================] - 0s 4ms/step - loss: 228.5930 - val_loss: 1263.0857\n",
            "Epoch 82/100\n",
            "69/69 [==============================] - 0s 4ms/step - loss: 230.1366 - val_loss: 1248.6254\n",
            "Epoch 83/100\n",
            "69/69 [==============================] - 0s 3ms/step - loss: 219.4604 - val_loss: 1261.8247\n",
            "Epoch 84/100\n",
            "69/69 [==============================] - 0s 3ms/step - loss: 222.9944 - val_loss: 1256.4253\n",
            "Epoch 85/100\n",
            "69/69 [==============================] - 0s 4ms/step - loss: 221.9673 - val_loss: 1410.7473\n",
            "Epoch 86/100\n",
            "69/69 [==============================] - 0s 4ms/step - loss: 219.4792 - val_loss: 1291.6007\n",
            "Epoch 87/100\n",
            "69/69 [==============================] - 0s 3ms/step - loss: 222.4243 - val_loss: 1300.1028\n",
            "Epoch 88/100\n",
            "69/69 [==============================] - 0s 3ms/step - loss: 219.4987 - val_loss: 1273.5092\n",
            "Epoch 89/100\n",
            "69/69 [==============================] - 0s 4ms/step - loss: 215.2620 - val_loss: 1198.2692\n",
            "Epoch 90/100\n",
            "69/69 [==============================] - 0s 3ms/step - loss: 230.3759 - val_loss: 1421.5956\n",
            "Epoch 91/100\n",
            "69/69 [==============================] - 0s 4ms/step - loss: 219.2521 - val_loss: 1253.4971\n",
            "Epoch 92/100\n",
            "69/69 [==============================] - 0s 3ms/step - loss: 231.0534 - val_loss: 1256.1616\n",
            "Epoch 93/100\n",
            "69/69 [==============================] - 0s 4ms/step - loss: 225.7572 - val_loss: 1216.0133\n",
            "Epoch 94/100\n",
            "69/69 [==============================] - 0s 3ms/step - loss: 218.6778 - val_loss: 1284.4650\n",
            "Epoch 95/100\n",
            "69/69 [==============================] - 0s 3ms/step - loss: 217.1964 - val_loss: 1274.0887\n",
            "Epoch 96/100\n",
            "69/69 [==============================] - 0s 3ms/step - loss: 226.9863 - val_loss: 1240.7852\n",
            "Epoch 97/100\n",
            "69/69 [==============================] - 0s 3ms/step - loss: 222.0576 - val_loss: 1290.2841\n",
            "Epoch 98/100\n",
            "69/69 [==============================] - 0s 3ms/step - loss: 220.3326 - val_loss: 1248.9076\n",
            "Epoch 99/100\n",
            "69/69 [==============================] - 0s 4ms/step - loss: 222.5980 - val_loss: 1235.7075\n",
            "Epoch 100/100\n",
            "69/69 [==============================] - 0s 3ms/step - loss: 221.9450 - val_loss: 1296.7787\n"
          ]
        },
        {
          "output_type": "execute_result",
          "data": {
            "text/plain": [
              "<keras.callbacks.History at 0x7ae7d028bb80>"
            ]
          },
          "metadata": {},
          "execution_count": 84
        }
      ]
    },
    {
      "cell_type": "code",
      "source": [
        "model3.evaluate(x_test3, y_test3)\n"
      ],
      "metadata": {
        "colab": {
          "base_uri": "https://localhost:8080/"
        },
        "id": "BNk9dRozbi5H",
        "outputId": "3cc84eca-56d1-4868-c8f6-6d5d5a6a4a47"
      },
      "execution_count": 85,
      "outputs": [
        {
          "output_type": "stream",
          "name": "stdout",
          "text": [
            "18/18 [==============================] - 0s 2ms/step - loss: 1296.7787\n"
          ]
        },
        {
          "output_type": "execute_result",
          "data": {
            "text/plain": [
              "1296.7786865234375"
            ]
          },
          "metadata": {},
          "execution_count": 85
        }
      ]
    },
    {
      "cell_type": "code",
      "source": [
        "# load the best model\n",
        "model3= tf.keras.models.load_model('model3.h5')\n",
        "model3.evaluate(x_test3, y_test3)\n"
      ],
      "metadata": {
        "colab": {
          "base_uri": "https://localhost:8080/"
        },
        "id": "GLV0WWIebvU_",
        "outputId": "cac1bf0c-3a48-4377-a6b0-366fd037a34b"
      },
      "execution_count": 86,
      "outputs": [
        {
          "output_type": "stream",
          "name": "stdout",
          "text": [
            "18/18 [==============================] - 0s 2ms/step - loss: 1198.2692\n"
          ]
        },
        {
          "output_type": "execute_result",
          "data": {
            "text/plain": [
              "1198.2691650390625"
            ]
          },
          "metadata": {},
          "execution_count": 86
        }
      ]
    },
    {
      "cell_type": "code",
      "source": [
        "# calculate metrics\n",
        "y_pred3 = make_preds(model3, x_test3)\n",
        "\n",
        "y_pred3.shape"
      ],
      "metadata": {
        "colab": {
          "base_uri": "https://localhost:8080/"
        },
        "id": "TpUoHPFxcEFI",
        "outputId": "c97105ad-f6c0-4748-870a-a11070dd3925"
      },
      "execution_count": 87,
      "outputs": [
        {
          "output_type": "stream",
          "name": "stdout",
          "text": [
            "18/18 [==============================] - 0s 1ms/step\n"
          ]
        },
        {
          "output_type": "execute_result",
          "data": {
            "text/plain": [
              "(551, 7)"
            ]
          },
          "metadata": {},
          "execution_count": 87
        }
      ]
    },
    {
      "cell_type": "code",
      "source": [
        "y_test3.shape"
      ],
      "metadata": {
        "colab": {
          "base_uri": "https://localhost:8080/"
        },
        "id": "RTE-EWuncefB",
        "outputId": "778d9116-4280-4394-960b-c933c1caf217"
      },
      "execution_count": 88,
      "outputs": [
        {
          "output_type": "execute_result",
          "data": {
            "text/plain": [
              "(551, 7)"
            ]
          },
          "metadata": {},
          "execution_count": 88
        }
      ]
    },
    {
      "cell_type": "code",
      "source": [
        "y_test3 = tf.cast(y_test3, dtype=tf.float32)\n",
        "y_test3.shape\n"
      ],
      "metadata": {
        "colab": {
          "base_uri": "https://localhost:8080/"
        },
        "id": "ZgCdjZLBcmne",
        "outputId": "99e3c9c2-9530-4d94-ccac-a379bcbf02bd"
      },
      "execution_count": 89,
      "outputs": [
        {
          "output_type": "execute_result",
          "data": {
            "text/plain": [
              "TensorShape([551, 7])"
            ]
          },
          "metadata": {},
          "execution_count": 89
        }
      ]
    },
    {
      "cell_type": "code",
      "source": [
        "model3_result = evaluate_preds(y_test3, y_pred3)"
      ],
      "metadata": {
        "id": "ldGGDGkGcPr1"
      },
      "execution_count": 90,
      "outputs": []
    },
    {
      "cell_type": "code",
      "source": [
        "model3_result['mae'].shape, model3_result['mse'].shape\n"
      ],
      "metadata": {
        "colab": {
          "base_uri": "https://localhost:8080/"
        },
        "id": "XM6ohSgUcust",
        "outputId": "53b658fd-4de9-43fa-a3bd-302257c9892c"
      },
      "execution_count": 91,
      "outputs": [
        {
          "output_type": "execute_result",
          "data": {
            "text/plain": [
              "((551,), (551,))"
            ]
          },
          "metadata": {},
          "execution_count": 91
        }
      ]
    },
    {
      "cell_type": "code",
      "source": [
        "for key in model3_result.keys():\n",
        "    model3_result[key] = np.mean(model3_result[key])\n",
        "\n",
        "model3_result"
      ],
      "metadata": {
        "colab": {
          "base_uri": "https://localhost:8080/"
        },
        "id": "pCBzgm0yc2B2",
        "outputId": "94346351-555a-4fb2-983f-ea1fec909b4e"
      },
      "execution_count": 92,
      "outputs": [
        {
          "output_type": "execute_result",
          "data": {
            "text/plain": [
              "{'mae': 1198.269,\n",
              " 'mse': 5112047.5,\n",
              " 'rmse': 1382.3553,\n",
              " 'mape': 5.4753103,\n",
              " 'mase': 2.132253}"
            ]
          },
          "metadata": {},
          "execution_count": 92
        }
      ]
    },
    {
      "cell_type": "code",
      "source": [
        "naive_result"
      ],
      "metadata": {
        "colab": {
          "base_uri": "https://localhost:8080/"
        },
        "id": "X1jMwyamdO6k",
        "outputId": "03a4f7a7-d4eb-4cd7-a290-f5439e85ec1e"
      },
      "execution_count": 93,
      "outputs": [
        {
          "output_type": "execute_result",
          "data": {
            "text/plain": [
              "{'mae': 567.9802,\n",
              " 'mse': 1147547.0,\n",
              " 'rmse': 1071.2362,\n",
              " 'mape': 2.516525,\n",
              " 'mase': 0.99957}"
            ]
          },
          "metadata": {},
          "execution_count": 93
        }
      ]
    },
    {
      "cell_type": "code",
      "source": [
        "y_test3.shape"
      ],
      "metadata": {
        "colab": {
          "base_uri": "https://localhost:8080/"
        },
        "id": "J8R_1VlofTwr",
        "outputId": "e50ccbb8-2a05-4e70-89e3-03620fb2e206"
      },
      "execution_count": 94,
      "outputs": [
        {
          "output_type": "execute_result",
          "data": {
            "text/plain": [
              "TensorShape([551, 7])"
            ]
          },
          "metadata": {},
          "execution_count": 94
        }
      ]
    },
    {
      "cell_type": "code",
      "source": [
        "test_timesteps3 = timesteps[-len(y_test3):]\n",
        "\n",
        "plt.figure(figsize=(15,7))\n",
        "plot_time_series(test_timesteps3, tf.reduce_mean(y_test3, axis = 1), format='.', start=300, end=None, label='actual')\n",
        "plot_time_series(test_timesteps3, tf.reduce_mean(y_pred3, axis = 1), format='-', start=300, end=None, label='forecast')\n",
        "plt.legend()\n",
        "plt.show()"
      ],
      "metadata": {
        "colab": {
          "base_uri": "https://localhost:8080/",
          "height": 619
        },
        "id": "K7ysoqhCdSUh",
        "outputId": "2d3c814d-8dfd-4a2a-ffc3-542b08d06bed"
      },
      "execution_count": 95,
      "outputs": [
        {
          "output_type": "display_data",
          "data": {
            "text/plain": [
              "<Figure size 1500x700 with 1 Axes>"
            ],
            "image/png": "[encoded data removed]"
          },
          "metadata": {}
        }
      ]
    },
    {
      "cell_type": "markdown",
      "source": [
        "# Compare performing models"
      ],
      "metadata": {
        "id": "0TERRzKog01t"
      }
    },
    {
      "cell_type": "code",
      "source": [
        "all_results = pd.DataFrame([naive_result, model1_result, model2_result, model3_result], index=['naive', 'model1', 'model2', 'model3'])\n"
      ],
      "metadata": {
        "id": "VXYsXRvyg41V"
      },
      "execution_count": 96,
      "outputs": []
    },
    {
      "cell_type": "code",
      "source": [
        "all_results"
      ],
      "metadata": {
        "colab": {
          "base_uri": "https://localhost:8080/",
          "height": 175
        },
        "id": "NHaqlof1g9kY",
        "outputId": "8da733c8-b8b1-482c-8a52-a113c416a97b"
      },
      "execution_count": 97,
      "outputs": [
        {
          "output_type": "execute_result",
          "data": {
            "text/plain": [
              "                mae          mse         rmse      mape      mase\n",
              "naive    567.980225  1147547.000  1071.236206  2.516525  0.999570\n",
              "model1   563.616089  1150975.125  1072.835083  2.527483  0.990117\n",
              "model2   601.656067  1233789.625  1110.760742  2.713431  1.051701\n",
              "model3  1198.269043  5112047.500  1382.355347  5.475310  2.132253"
            ],
            "text/html": [
              "\n",
              "  <div id=\"df-b173821d-42ca-4929-8266-fa16037e53c7\" class=\"colab-df-container\">\n",
              "    <div>\n",
              "<style scoped>\n",
              "    .dataframe tbody tr th:only-of-type {\n",
              "        vertical-align: middle;\n",
              "    }\n",
              "\n",
              "    .dataframe tbody tr th {\n",
              "        vertical-align: top;\n",
              "    }\n",
              "\n",
              "    .dataframe thead th {\n",
              "        text-align: right;\n",
              "    }\n",
              "</style>\n",
              "<table border=\"1\" class=\"dataframe\">\n",
              "  <thead>\n",
              "    <tr style=\"text-align: right;\">\n",
              "      <th></th>\n",
              "      <th>mae</th>\n",
              "      <th>mse</th>\n",
              "      <th>rmse</th>\n",
              "      <th>mape</th>\n",
              "      <th>mase</th>\n",
              "    </tr>\n",
              "  </thead>\n",
              "  <tbody>\n",
              "    <tr>\n",
              "      <th>naive</th>\n",
              "      <td>567.980225</td>\n",
              "      <td>1147547.000</td>\n",
              "      <td>1071.236206</td>\n",
              "      <td>2.516525</td>\n",
              "      <td>0.999570</td>\n",
              "    </tr>\n",
              "    <tr>\n",
              "      <th>model1</th>\n",
              "      <td>563.616089</td>\n",
              "      <td>1150975.125</td>\n",
              "      <td>1072.835083</td>\n",
              "      <td>2.527483</td>\n",
              "      <td>0.990117</td>\n",
              "    </tr>\n",
              "    <tr>\n",
              "      <th>model2</th>\n",
              "      <td>601.656067</td>\n",
              "      <td>1233789.625</td>\n",
              "      <td>1110.760742</td>\n",
              "      <td>2.713431</td>\n",
              "      <td>1.051701</td>\n",
              "    </tr>\n",
              "    <tr>\n",
              "      <th>model3</th>\n",
              "      <td>1198.269043</td>\n",
              "      <td>5112047.500</td>\n",
              "      <td>1382.355347</td>\n",
              "      <td>5.475310</td>\n",
              "      <td>2.132253</td>\n",
              "    </tr>\n",
              "  </tbody>\n",
              "</table>\n",
              "</div>\n",
              "    <div class=\"colab-df-buttons\">\n",
              "\n",
              "  <div class=\"colab-df-container\">\n",
              "    <button class=\"colab-df-convert\" onclick=\"convertToInteractive('df-b173821d-42ca-4929-8266-fa16037e53c7')\"\n",
              "            title=\"Convert this dataframe to an interactive table.\"\n",
              "            style=\"display:none;\">\n",
              "\n",
              "  <svg xmlns=\"http://www.w3.org/2000/svg\" height=\"24px\" viewBox=\"0 -960 960 960\">\n",
              "    <path d=\"M120-120v-720h720v720H120Zm60-500h600v-160H180v160Zm220 220h160v-160H400v160Zm0 220h160v-160H400v160ZM180-400h160v-160H180v160Zm440 0h160v-160H620v160ZM180-180h160v-160H180v160Zm440 0h160v-160H620v160Z\"/>\n",
              "  </svg>\n",
              "    </button>\n",
              "\n",
              "  <style>\n",
              "    .colab-df-container {\n",
              "      display:flex;\n",
              "      gap: 12px;\n",
              "    }\n",
              "\n",
              "    .colab-df-convert {\n",
              "      background-color: #E8F0FE;\n",
              "      border: none;\n",
              "      border-radius: 50%;\n",
              "      cursor: pointer;\n",
              "      display: none;\n",
              "      fill: #1967D2;\n",
              "      height: 32px;\n",
              "      padding: 0 0 0 0;\n",
              "      width: 32px;\n",
              "    }\n",
              "\n",
              "    .colab-df-convert:hover {\n",
              "      background-color: #E2EBFA;\n",
              "      box-shadow: 0px 1px 2px rgba(60, 64, 67, 0.3), 0px 1px 3px 1px rgba(60, 64, 67, 0.15);\n",
              "      fill: #174EA6;\n",
              "    }\n",
              "\n",
              "    .colab-df-buttons div {\n",
              "      margin-bottom: 4px;\n",
              "    }\n",
              "\n",
              "    [theme=dark] .colab-df-convert {\n",
              "      background-color: #3B4455;\n",
              "      fill: #D2E3FC;\n",
              "    }\n",
              "\n",
              "    [theme=dark] .colab-df-convert:hover {\n",
              "      background-color: #434B5C;\n",
              "      box-shadow: 0px 1px 3px 1px rgba(0, 0, 0, 0.15);\n",
              "      filter: drop-shadow(0px 1px 2px rgba(0, 0, 0, 0.3));\n",
              "      fill: #FFFFFF;\n",
              "    }\n",
              "  </style>\n",
              "\n",
              "    <script>\n",
              "      const buttonEl =\n",
              "        document.querySelector('#df-b173821d-42ca-4929-8266-fa16037e53c7 button.colab-df-convert');\n",
              "      buttonEl.style.display =\n",
              "        google.colab.kernel.accessAllowed ? 'block' : 'none';\n",
              "\n",
              "      async function convertToInteractive(key) {\n",
              "        const element = document.querySelector('#df-b173821d-42ca-4929-8266-fa16037e53c7');\n",
              "        const dataTable =\n",
              "          await google.colab.kernel.invokeFunction('convertToInteractive',\n",
              "                                                    [key], {});\n",
              "        if (!dataTable) return;\n",
              "\n",
              "        const docLinkHtml = 'Like what you see? Visit the ' +\n",
              "          '<a target=\"_blank\" href=https://colab.research.google.com/notebooks/data_table.ipynb>data table notebook</a>'\n",
              "          + ' to learn more about interactive tables.';\n",
              "        element.innerHTML = '';\n",
              "        dataTable['output_type'] = 'display_data';\n",
              "        await google.colab.output.renderOutput(dataTable, element);\n",
              "        const docLink = document.createElement('div');\n",
              "        docLink.innerHTML = docLinkHtml;\n",
              "        element.appendChild(docLink);\n",
              "      }\n",
              "    </script>\n",
              "  </div>\n",
              "\n",
              "    </div>\n",
              "  </div>\n"
            ]
          },
          "metadata": {},
          "execution_count": 97
        }
      ]
    },
    {
      "cell_type": "code",
      "source": [
        "plt.figure(figsize=(10,7))\n",
        "ax = all_results['mae'].plot.bar()\n",
        "ax.set_ylabel('Mean Absolute Error')\n",
        "ax.set_xlabel('Model')\n",
        "ax.set_title('Mean Absolute Error by Model')\n",
        "ax.bar_label(ax.containers[0])\n",
        "plt.show()\n"
      ],
      "metadata": {
        "colab": {
          "base_uri": "https://localhost:8080/",
          "height": 679
        },
        "id": "_IXk6D0Jg_VY",
        "outputId": "b7deaad0-0dd8-4ec8-c6c2-8d3c651dcd1f"
      },
      "execution_count": 98,
      "outputs": [
        {
          "output_type": "display_data",
          "data": {
            "text/plain": [
              "<Figure size 1000x700 with 1 Axes>"
            ],
            "image/png": "[encoded data removed]"
          },
          "metadata": {}
        }
      ]
    },
    {
      "cell_type": "code",
      "source": [
        "all_results.mae"
      ],
      "metadata": {
        "colab": {
          "base_uri": "https://localhost:8080/"
        },
        "id": "SJpG8_UwhzN6",
        "outputId": "5aff901c-28ea-40ef-d1dc-040dd1532106"
      },
      "execution_count": 99,
      "outputs": [
        {
          "output_type": "execute_result",
          "data": {
            "text/plain": [
              "naive      567.980225\n",
              "model1     563.616089\n",
              "model2     601.656067\n",
              "model3    1198.269043\n",
              "Name: mae, dtype: float32"
            ]
          },
          "metadata": {},
          "execution_count": 99
        }
      ]
    },
    {
      "cell_type": "markdown",
      "source": [
        "# Create model_4 CNN1"
      ],
      "metadata": {
        "id": "c4EyXiikeliF"
      }
    },
    {
      "cell_type": "code",
      "source": [
        "# Create a model\n",
        "window_size4 = 7\n",
        "horizon4 = 1"
      ],
      "metadata": {
        "id": "OopwYailhUxi"
      },
      "execution_count": 100,
      "outputs": []
    },
    {
      "cell_type": "code",
      "source": [
        "x_data4, y_data4 = make_windows(data['Closing Price (USD)'], window_size4, horizon4)\n"
      ],
      "metadata": {
        "id": "kvHaOqNHDZg2"
      },
      "execution_count": 101,
      "outputs": []
    },
    {
      "cell_type": "code",
      "source": [
        "x_data4.shape, y_data4.shape"
      ],
      "metadata": {
        "colab": {
          "base_uri": "https://localhost:8080/"
        },
        "id": "BY-KGU2gDdeV",
        "outputId": "102cc6fb-806e-4425-fe7a-160271a6e6c0"
      },
      "execution_count": 102,
      "outputs": [
        {
          "output_type": "execute_result",
          "data": {
            "text/plain": [
              "((2780, 7), (2780, 1))"
            ]
          },
          "metadata": {},
          "execution_count": 102
        }
      ]
    },
    {
      "cell_type": "code",
      "source": [
        "x_train4, x_test4, y_train4, y_test4 = split_data(x_data4, y_data4, test_size=0.2)"
      ],
      "metadata": {
        "id": "bCp51eMVDfuH"
      },
      "execution_count": 103,
      "outputs": []
    },
    {
      "cell_type": "code",
      "source": [
        "x_train4.shape, x_test4.shape, y_train4.shape, y_test4.shape\n"
      ],
      "metadata": {
        "colab": {
          "base_uri": "https://localhost:8080/"
        },
        "id": "1zpnh28-DnFj",
        "outputId": "3a05b418-9a79-44f0-c37a-1b6b69b30a48"
      },
      "execution_count": 104,
      "outputs": [
        {
          "output_type": "execute_result",
          "data": {
            "text/plain": [
              "((2224, 7), (556, 7), (2224, 1), (556, 1))"
            ]
          },
          "metadata": {},
          "execution_count": 104
        }
      ]
    },
    {
      "cell_type": "code",
      "source": [
        "t = tf.constant(x_train4[0])\n",
        "t"
      ],
      "metadata": {
        "colab": {
          "base_uri": "https://localhost:8080/"
        },
        "id": "GpDb0jnTGH48",
        "outputId": "7a38a8e8-7162-45ec-d529-f71c7e9c33d2"
      },
      "execution_count": 105,
      "outputs": [
        {
          "output_type": "execute_result",
          "data": {
            "text/plain": [
              "<tf.Tensor: shape=(7,), dtype=float64, numpy=\n",
              "array([123.65499, 125.455  , 108.58483, 118.67466, 121.33866, 120.65533,\n",
              "       121.795  ])>"
            ]
          },
          "metadata": {},
          "execution_count": 105
        }
      ]
    },
    {
      "cell_type": "code",
      "source": [
        "# add extra demantion to input\n",
        "\n",
        "expand_dim_layer = tf.keras.layers.Lambda(lambda x: tf.expand_dims(x, axis=1))\n",
        "\n",
        "t_exp = expand_dim_layer(t)\n",
        "t_exp"
      ],
      "metadata": {
        "colab": {
          "base_uri": "https://localhost:8080/"
        },
        "id": "azCcFH7UGaQs",
        "outputId": "a1d1aa54-6b62-488f-dcf0-48a2590de3af"
      },
      "execution_count": 106,
      "outputs": [
        {
          "output_type": "execute_result",
          "data": {
            "text/plain": [
              "<tf.Tensor: shape=(7, 1), dtype=float32, numpy=\n",
              "array([[123.65499],\n",
              "       [125.455  ],\n",
              "       [108.58483],\n",
              "       [118.67466],\n",
              "       [121.33866],\n",
              "       [120.65533],\n",
              "       [121.795  ]], dtype=float32)>"
            ]
          },
          "metadata": {},
          "execution_count": 106
        }
      ]
    },
    {
      "cell_type": "code",
      "source": [
        "def create_CNN1_model(window_size4, horizon4):\n",
        "\n",
        "  inputs = tf.keras.Input(shape=(window_size4, ))\n",
        "  print(inputs.shape)\n",
        "  x = tf.keras.layers.Lambda(lambda d: tf.expand_dims(d, axis=2))(inputs)\n",
        "  print(x.shape)\n",
        "  x = tf.keras.layers.Conv1D(\n",
        "      input_shape =(window_size4, 1),\n",
        "      filters=128,\n",
        "      kernel_size=5,\n",
        "      strides=1,\n",
        "      padding='causal',\n",
        "      activation='relu')(x)\n",
        "  print(x.shape)\n",
        "  x = tf.keras.layers.Conv1D(filters=64, kernel_size=3, strides=1, padding='causal', activation='relu')(x)\n",
        "  print(x.shape)\n",
        "\n",
        "  x = tf.keras.layers.GlobalMaxPooling1D()(x)\n",
        "  print(x.shape)\n",
        "  outputs = tf.keras.layers.Dense(horizon4, activation='linear')(x)\n",
        "\n",
        "  model = tf.keras.Model(inputs=inputs, outputs=outputs)\n",
        "  model.compile(loss='mae', optimizer='adam', metrics=['mae'])\n",
        "  return model"
      ],
      "metadata": {
        "id": "tlXOrxeuDpEf"
      },
      "execution_count": 162,
      "outputs": []
    },
    {
      "cell_type": "code",
      "source": [
        "model4 = create_CNN1_model(window_size4, horizon4)\n",
        "model4.summary()"
      ],
      "metadata": {
        "colab": {
          "base_uri": "https://localhost:8080/"
        },
        "id": "cwa9oxIFaVGI",
        "outputId": "06fdeb90-5d98-461c-9def-214226729f64"
      },
      "execution_count": 163,
      "outputs": [
        {
          "output_type": "stream",
          "name": "stdout",
          "text": [
            "(None, 7)\n",
            "(None, 7, 1)\n",
            "(None, 7, 128)\n",
            "(None, 7, 64)\n",
            "(None, 64)\n",
            "Model: \"model_6\"\n",
            "_________________________________________________________________\n",
            " Layer (type)                Output Shape              Param #   \n",
            "=================================================================\n",
            " input_11 (InputLayer)       [(None, 7)]               0         \n",
            "                                                                 \n",
            " lambda_9 (Lambda)           (None, 7, 1)              0         \n",
            "                                                                 \n",
            " conv1d_16 (Conv1D)          (None, 7, 128)            768       \n",
            "                                                                 \n",
            " conv1d_17 (Conv1D)          (None, 7, 64)             24640     \n",
            "                                                                 \n",
            " global_average_pooling1d_1   (None, 64)               0         \n",
            " (GlobalAveragePooling1D)                                        \n",
            "                                                                 \n",
            " dense_16 (Dense)            (None, 1)                 65        \n",
            "                                                                 \n",
            "=================================================================\n",
            "Total params: 25,473\n",
            "Trainable params: 25,473\n",
            "Non-trainable params: 0\n",
            "_________________________________________________________________\n"
          ]
        }
      ]
    },
    {
      "cell_type": "code",
      "source": [
        "MCP4 = ModelCheckpoint('best_model4.h5', monitor='val_mae', mode='min', save_best_only=True, verbose=1)\n",
        "\n",
        "model4.fit(x_train4, y_train4, epochs=100, verbose=1, batch_size=128, validation_data=(x_test4, y_test4), callbacks=[MCP4])"
      ],
      "metadata": {
        "colab": {
          "base_uri": "https://localhost:8080/"
        },
        "id": "NIiIoP4JaW2T",
        "outputId": "89f30192-8b76-4faa-e17d-a1814d25bef5"
      },
      "execution_count": 164,
      "outputs": [
        {
          "output_type": "stream",
          "name": "stdout",
          "text": [
            "Epoch 1/100\n",
            "15/18 [========================>.....] - ETA: 0s - loss: 1483.5776 - mae: 1483.5776 \n",
            "Epoch 1: val_mae improved from inf to 2816.85693, saving model to best_model4.h5\n",
            "18/18 [==============================] - 1s 15ms/step - loss: 1370.3314 - mae: 1370.3314 - val_loss: 2816.8569 - val_mae: 2816.8569\n",
            "Epoch 2/100\n",
            "15/18 [========================>.....] - ETA: 0s - loss: 326.4340 - mae: 326.4340\n",
            "Epoch 2: val_mae improved from 2816.85693 to 1469.52332, saving model to best_model4.h5\n",
            "18/18 [==============================] - 0s 7ms/step - loss: 316.9050 - mae: 316.9050 - val_loss: 1469.5233 - val_mae: 1469.5233\n",
            "Epoch 3/100\n",
            "15/18 [========================>.....] - ETA: 0s - loss: 243.4799 - mae: 243.4799\n",
            "Epoch 3: val_mae improved from 1469.52332 to 1374.22900, saving model to best_model4.h5\n",
            "18/18 [==============================] - 0s 8ms/step - loss: 241.9713 - mae: 241.9713 - val_loss: 1374.2290 - val_mae: 1374.2290\n",
            "Epoch 4/100\n",
            "15/18 [========================>.....] - ETA: 0s - loss: 237.8278 - mae: 237.8278\n",
            "Epoch 4: val_mae improved from 1374.22900 to 1306.43665, saving model to best_model4.h5\n",
            "18/18 [==============================] - 0s 7ms/step - loss: 234.5620 - mae: 234.5620 - val_loss: 1306.4366 - val_mae: 1306.4366\n",
            "Epoch 5/100\n",
            "13/18 [====================>.........] - ETA: 0s - loss: 228.5528 - mae: 228.5528\n",
            "Epoch 5: val_mae improved from 1306.43665 to 1296.22534, saving model to best_model4.h5\n",
            "18/18 [==============================] - 0s 8ms/step - loss: 231.1776 - mae: 231.1776 - val_loss: 1296.2253 - val_mae: 1296.2253\n",
            "Epoch 6/100\n",
            "14/18 [======================>.......] - ETA: 0s - loss: 230.9432 - mae: 230.9432\n",
            "Epoch 6: val_mae did not improve from 1296.22534\n",
            "18/18 [==============================] - 0s 6ms/step - loss: 229.1301 - mae: 229.1301 - val_loss: 1318.5769 - val_mae: 1318.5769\n",
            "Epoch 7/100\n",
            "16/18 [=========================>....] - ETA: 0s - loss: 221.7752 - mae: 221.7752\n",
            "Epoch 7: val_mae did not improve from 1296.22534\n",
            "18/18 [==============================] - 0s 6ms/step - loss: 226.6133 - mae: 226.6133 - val_loss: 1353.4315 - val_mae: 1353.4315\n",
            "Epoch 8/100\n",
            "15/18 [========================>.....] - ETA: 0s - loss: 228.8351 - mae: 228.8351\n",
            "Epoch 8: val_mae did not improve from 1296.22534\n",
            "18/18 [==============================] - 0s 6ms/step - loss: 228.6435 - mae: 228.6435 - val_loss: 1356.9910 - val_mae: 1356.9910\n",
            "Epoch 9/100\n",
            "14/18 [======================>.......] - ETA: 0s - loss: 234.3770 - mae: 234.3770\n",
            "Epoch 9: val_mae improved from 1296.22534 to 1249.72644, saving model to best_model4.h5\n",
            "18/18 [==============================] - 0s 7ms/step - loss: 223.8573 - mae: 223.8573 - val_loss: 1249.7264 - val_mae: 1249.7264\n",
            "Epoch 10/100\n",
            "16/18 [=========================>....] - ETA: 0s - loss: 223.3306 - mae: 223.3306\n",
            "Epoch 10: val_mae did not improve from 1249.72644\n",
            "18/18 [==============================] - 0s 6ms/step - loss: 224.2106 - mae: 224.2106 - val_loss: 1272.2350 - val_mae: 1272.2350\n",
            "Epoch 11/100\n",
            "16/18 [=========================>....] - ETA: 0s - loss: 225.2179 - mae: 225.2179\n",
            "Epoch 11: val_mae did not improve from 1249.72644\n",
            "18/18 [==============================] - 0s 5ms/step - loss: 225.6962 - mae: 225.6962 - val_loss: 1412.7083 - val_mae: 1412.7083\n",
            "Epoch 12/100\n",
            "15/18 [========================>.....] - ETA: 0s - loss: 219.3007 - mae: 219.3007\n",
            "Epoch 12: val_mae improved from 1249.72644 to 1210.71924, saving model to best_model4.h5\n",
            "18/18 [==============================] - 0s 7ms/step - loss: 217.9073 - mae: 217.9073 - val_loss: 1210.7192 - val_mae: 1210.7192\n",
            "Epoch 13/100\n",
            "15/18 [========================>.....] - ETA: 0s - loss: 215.9887 - mae: 215.9887\n",
            "Epoch 13: val_mae did not improve from 1210.71924\n",
            "18/18 [==============================] - 0s 6ms/step - loss: 215.2920 - mae: 215.2920 - val_loss: 1376.1710 - val_mae: 1376.1710\n",
            "Epoch 14/100\n",
            "14/18 [======================>.......] - ETA: 0s - loss: 214.8644 - mae: 214.8644\n",
            "Epoch 14: val_mae did not improve from 1210.71924\n",
            "18/18 [==============================] - 0s 6ms/step - loss: 215.6233 - mae: 215.6233 - val_loss: 1315.9781 - val_mae: 1315.9781\n",
            "Epoch 15/100\n",
            "12/18 [===================>..........] - ETA: 0s - loss: 229.3869 - mae: 229.3869\n",
            "Epoch 15: val_mae did not improve from 1210.71924\n",
            "18/18 [==============================] - 0s 7ms/step - loss: 227.2243 - mae: 227.2243 - val_loss: 1251.7343 - val_mae: 1251.7343\n",
            "Epoch 16/100\n",
            "17/18 [===========================>..] - ETA: 0s - loss: 209.2303 - mae: 209.2303\n",
            "Epoch 16: val_mae did not improve from 1210.71924\n",
            "18/18 [==============================] - 0s 6ms/step - loss: 208.8803 - mae: 208.8803 - val_loss: 1215.6594 - val_mae: 1215.6594\n",
            "Epoch 17/100\n",
            "14/18 [======================>.......] - ETA: 0s - loss: 197.5460 - mae: 197.5460\n",
            "Epoch 17: val_mae did not improve from 1210.71924\n",
            "18/18 [==============================] - 0s 7ms/step - loss: 208.1956 - mae: 208.1956 - val_loss: 1394.5831 - val_mae: 1394.5831\n",
            "Epoch 18/100\n",
            "16/18 [=========================>....] - ETA: 0s - loss: 206.8448 - mae: 206.8448\n",
            "Epoch 18: val_mae improved from 1210.71924 to 1135.32349, saving model to best_model4.h5\n",
            "18/18 [==============================] - 0s 7ms/step - loss: 207.8122 - mae: 207.8122 - val_loss: 1135.3235 - val_mae: 1135.3235\n",
            "Epoch 19/100\n",
            "16/18 [=========================>....] - ETA: 0s - loss: 201.3198 - mae: 201.3198\n",
            "Epoch 19: val_mae did not improve from 1135.32349\n",
            "18/18 [==============================] - 0s 6ms/step - loss: 205.3673 - mae: 205.3673 - val_loss: 1137.8779 - val_mae: 1137.8779\n",
            "Epoch 20/100\n",
            "12/18 [===================>..........] - ETA: 0s - loss: 208.2983 - mae: 208.2983\n",
            "Epoch 20: val_mae did not improve from 1135.32349\n",
            "18/18 [==============================] - 0s 7ms/step - loss: 209.0100 - mae: 209.0100 - val_loss: 1187.7886 - val_mae: 1187.7886\n",
            "Epoch 21/100\n",
            "15/18 [========================>.....] - ETA: 0s - loss: 198.2599 - mae: 198.2599\n",
            "Epoch 21: val_mae improved from 1135.32349 to 1103.67224, saving model to best_model4.h5\n",
            "18/18 [==============================] - 0s 8ms/step - loss: 200.3696 - mae: 200.3696 - val_loss: 1103.6722 - val_mae: 1103.6722\n",
            "Epoch 22/100\n",
            "15/18 [========================>.....] - ETA: 0s - loss: 204.4043 - mae: 204.4043\n",
            "Epoch 22: val_mae improved from 1103.67224 to 1080.60632, saving model to best_model4.h5\n",
            "18/18 [==============================] - 0s 7ms/step - loss: 202.0890 - mae: 202.0890 - val_loss: 1080.6063 - val_mae: 1080.6063\n",
            "Epoch 23/100\n",
            "11/18 [=================>............] - ETA: 0s - loss: 191.5469 - mae: 191.5469\n",
            "Epoch 23: val_mae did not improve from 1080.60632\n",
            "18/18 [==============================] - 0s 7ms/step - loss: 194.1561 - mae: 194.1561 - val_loss: 1156.1753 - val_mae: 1156.1753\n",
            "Epoch 24/100\n",
            "16/18 [=========================>....] - ETA: 0s - loss: 190.9797 - mae: 190.9797\n",
            "Epoch 24: val_mae did not improve from 1080.60632\n",
            "18/18 [==============================] - 0s 6ms/step - loss: 195.6371 - mae: 195.6371 - val_loss: 1084.2283 - val_mae: 1084.2283\n",
            "Epoch 25/100\n",
            "15/18 [========================>.....] - ETA: 0s - loss: 187.9180 - mae: 187.9180\n",
            "Epoch 25: val_mae improved from 1080.60632 to 1071.10205, saving model to best_model4.h5\n",
            "18/18 [==============================] - 0s 7ms/step - loss: 186.8570 - mae: 186.8570 - val_loss: 1071.1021 - val_mae: 1071.1021\n",
            "Epoch 26/100\n",
            "13/18 [====================>.........] - ETA: 0s - loss: 186.5335 - mae: 186.5335\n",
            "Epoch 26: val_mae improved from 1071.10205 to 1053.12610, saving model to best_model4.h5\n",
            "18/18 [==============================] - 0s 9ms/step - loss: 188.2870 - mae: 188.2870 - val_loss: 1053.1261 - val_mae: 1053.1261\n",
            "Epoch 27/100\n",
            "16/18 [=========================>....] - ETA: 0s - loss: 190.7769 - mae: 190.7769\n",
            "Epoch 27: val_mae did not improve from 1053.12610\n",
            "18/18 [==============================] - 0s 6ms/step - loss: 184.3761 - mae: 184.3761 - val_loss: 1079.9098 - val_mae: 1079.9098\n",
            "Epoch 28/100\n",
            "13/18 [====================>.........] - ETA: 0s - loss: 191.4711 - mae: 191.4711\n",
            "Epoch 28: val_mae did not improve from 1053.12610\n",
            "18/18 [==============================] - 0s 7ms/step - loss: 191.1160 - mae: 191.1160 - val_loss: 1056.7649 - val_mae: 1056.7649\n",
            "Epoch 29/100\n",
            "15/18 [========================>.....] - ETA: 0s - loss: 179.3692 - mae: 179.3692\n",
            "Epoch 29: val_mae improved from 1053.12610 to 1007.31702, saving model to best_model4.h5\n",
            "18/18 [==============================] - 0s 7ms/step - loss: 179.8472 - mae: 179.8472 - val_loss: 1007.3170 - val_mae: 1007.3170\n",
            "Epoch 30/100\n",
            "16/18 [=========================>....] - ETA: 0s - loss: 178.3090 - mae: 178.3090\n",
            "Epoch 30: val_mae did not improve from 1007.31702\n",
            "18/18 [==============================] - 0s 6ms/step - loss: 176.8806 - mae: 176.8806 - val_loss: 1041.3440 - val_mae: 1041.3440\n",
            "Epoch 31/100\n",
            "14/18 [======================>.......] - ETA: 0s - loss: 171.2283 - mae: 171.2283\n",
            "Epoch 31: val_mae did not improve from 1007.31702\n",
            "18/18 [==============================] - 0s 6ms/step - loss: 173.4537 - mae: 173.4537 - val_loss: 1404.3518 - val_mae: 1404.3518\n",
            "Epoch 32/100\n",
            "15/18 [========================>.....] - ETA: 0s - loss: 200.5482 - mae: 200.5482\n",
            "Epoch 32: val_mae improved from 1007.31702 to 964.97345, saving model to best_model4.h5\n",
            "18/18 [==============================] - 0s 7ms/step - loss: 198.7162 - mae: 198.7162 - val_loss: 964.9734 - val_mae: 964.9734\n",
            "Epoch 33/100\n",
            "14/18 [======================>.......] - ETA: 0s - loss: 195.7420 - mae: 195.7420\n",
            "Epoch 33: val_mae improved from 964.97345 to 949.32721, saving model to best_model4.h5\n",
            "18/18 [==============================] - 0s 7ms/step - loss: 191.5345 - mae: 191.5345 - val_loss: 949.3272 - val_mae: 949.3272\n",
            "Epoch 34/100\n",
            "15/18 [========================>.....] - ETA: 0s - loss: 167.2280 - mae: 167.2280\n",
            "Epoch 34: val_mae did not improve from 949.32721\n",
            "18/18 [==============================] - 0s 6ms/step - loss: 169.2858 - mae: 169.2858 - val_loss: 968.3748 - val_mae: 968.3748\n",
            "Epoch 35/100\n",
            "16/18 [=========================>....] - ETA: 0s - loss: 176.8161 - mae: 176.8161\n",
            "Epoch 35: val_mae did not improve from 949.32721\n",
            "18/18 [==============================] - 0s 6ms/step - loss: 173.2555 - mae: 173.2555 - val_loss: 1032.0973 - val_mae: 1032.0972\n",
            "Epoch 36/100\n",
            "15/18 [========================>.....] - ETA: 0s - loss: 167.4225 - mae: 167.4225\n",
            "Epoch 36: val_mae improved from 949.32721 to 916.32233, saving model to best_model4.h5\n",
            "18/18 [==============================] - 0s 7ms/step - loss: 167.9559 - mae: 167.9559 - val_loss: 916.3223 - val_mae: 916.3223\n",
            "Epoch 37/100\n",
            "16/18 [=========================>....] - ETA: 0s - loss: 165.7523 - mae: 165.7523\n",
            "Epoch 37: val_mae did not improve from 916.32233\n",
            "18/18 [==============================] - 0s 6ms/step - loss: 167.2370 - mae: 167.2370 - val_loss: 987.5355 - val_mae: 987.5355\n",
            "Epoch 38/100\n",
            "16/18 [=========================>....] - ETA: 0s - loss: 164.2179 - mae: 164.2179\n",
            "Epoch 38: val_mae improved from 916.32233 to 905.00018, saving model to best_model4.h5\n",
            "18/18 [==============================] - 0s 7ms/step - loss: 165.2570 - mae: 165.2570 - val_loss: 905.0002 - val_mae: 905.0002\n",
            "Epoch 39/100\n",
            "14/18 [======================>.......] - ETA: 0s - loss: 166.3262 - mae: 166.3262\n",
            "Epoch 39: val_mae did not improve from 905.00018\n",
            "18/18 [==============================] - 0s 7ms/step - loss: 168.1245 - mae: 168.1245 - val_loss: 927.2352 - val_mae: 927.2352\n",
            "Epoch 40/100\n",
            "14/18 [======================>.......] - ETA: 0s - loss: 172.2397 - mae: 172.2397\n",
            "Epoch 40: val_mae did not improve from 905.00018\n",
            "18/18 [==============================] - 0s 6ms/step - loss: 169.1407 - mae: 169.1407 - val_loss: 984.4844 - val_mae: 984.4844\n",
            "Epoch 41/100\n",
            "16/18 [=========================>....] - ETA: 0s - loss: 173.5975 - mae: 173.5975\n",
            "Epoch 41: val_mae did not improve from 905.00018\n",
            "18/18 [==============================] - 0s 5ms/step - loss: 169.5360 - mae: 169.5360 - val_loss: 920.1736 - val_mae: 920.1736\n",
            "Epoch 42/100\n",
            "15/18 [========================>.....] - ETA: 0s - loss: 186.0474 - mae: 186.0474\n",
            "Epoch 42: val_mae improved from 905.00018 to 890.19281, saving model to best_model4.h5\n",
            "18/18 [==============================] - 0s 8ms/step - loss: 183.0353 - mae: 183.0353 - val_loss: 890.1928 - val_mae: 890.1928\n",
            "Epoch 43/100\n",
            "16/18 [=========================>....] - ETA: 0s - loss: 168.1703 - mae: 168.1703\n",
            "Epoch 43: val_mae improved from 890.19281 to 880.85956, saving model to best_model4.h5\n",
            "18/18 [==============================] - 0s 8ms/step - loss: 167.9428 - mae: 167.9428 - val_loss: 880.8596 - val_mae: 880.8596\n",
            "Epoch 44/100\n",
            "14/18 [======================>.......] - ETA: 0s - loss: 161.3261 - mae: 161.3261\n",
            "Epoch 44: val_mae improved from 880.85956 to 879.83807, saving model to best_model4.h5\n",
            "18/18 [==============================] - 0s 8ms/step - loss: 158.9454 - mae: 158.9454 - val_loss: 879.8381 - val_mae: 879.8381\n",
            "Epoch 45/100\n",
            "15/18 [========================>.....] - ETA: 0s - loss: 165.0386 - mae: 165.0386\n",
            "Epoch 45: val_mae did not improve from 879.83807\n",
            "18/18 [==============================] - 0s 6ms/step - loss: 162.8829 - mae: 162.8829 - val_loss: 896.9471 - val_mae: 896.9471\n",
            "Epoch 46/100\n",
            "15/18 [========================>.....] - ETA: 0s - loss: 160.5597 - mae: 160.5597\n",
            "Epoch 46: val_mae did not improve from 879.83807\n",
            "18/18 [==============================] - 0s 6ms/step - loss: 162.9924 - mae: 162.9924 - val_loss: 884.2265 - val_mae: 884.2265\n",
            "Epoch 47/100\n",
            "15/18 [========================>.....] - ETA: 0s - loss: 155.8906 - mae: 155.8906\n",
            "Epoch 47: val_mae did not improve from 879.83807\n",
            "18/18 [==============================] - 0s 7ms/step - loss: 165.1027 - mae: 165.1027 - val_loss: 1150.8866 - val_mae: 1150.8867\n",
            "Epoch 48/100\n",
            "15/18 [========================>.....] - ETA: 0s - loss: 191.4199 - mae: 191.4199\n",
            "Epoch 48: val_mae did not improve from 879.83807\n",
            "18/18 [==============================] - 0s 6ms/step - loss: 188.9985 - mae: 188.9985 - val_loss: 1100.3138 - val_mae: 1100.3138\n",
            "Epoch 49/100\n",
            "12/18 [===================>..........] - ETA: 0s - loss: 160.4357 - mae: 160.4357\n",
            "Epoch 49: val_mae did not improve from 879.83807\n",
            "18/18 [==============================] - 0s 7ms/step - loss: 159.2742 - mae: 159.2742 - val_loss: 1013.1556 - val_mae: 1013.1557\n",
            "Epoch 50/100\n",
            "14/18 [======================>.......] - ETA: 0s - loss: 177.6505 - mae: 177.6505\n",
            "Epoch 50: val_mae did not improve from 879.83807\n",
            "18/18 [==============================] - 0s 6ms/step - loss: 173.4429 - mae: 173.4429 - val_loss: 986.3798 - val_mae: 986.3798\n",
            "Epoch 51/100\n",
            "14/18 [======================>.......] - ETA: 0s - loss: 175.0715 - mae: 175.0715\n",
            "Epoch 51: val_mae did not improve from 879.83807\n",
            "18/18 [==============================] - 0s 7ms/step - loss: 176.9102 - mae: 176.9102 - val_loss: 939.2241 - val_mae: 939.2241\n",
            "Epoch 52/100\n",
            "13/18 [====================>.........] - ETA: 0s - loss: 168.7044 - mae: 168.7044\n",
            "Epoch 52: val_mae did not improve from 879.83807\n",
            "18/18 [==============================] - 0s 6ms/step - loss: 168.5792 - mae: 168.5792 - val_loss: 1015.5563 - val_mae: 1015.5563\n",
            "Epoch 53/100\n",
            "15/18 [========================>.....] - ETA: 0s - loss: 154.4631 - mae: 154.4631\n",
            "Epoch 53: val_mae improved from 879.83807 to 866.13953, saving model to best_model4.h5\n",
            "18/18 [==============================] - 0s 7ms/step - loss: 157.1178 - mae: 157.1178 - val_loss: 866.1395 - val_mae: 866.1395\n",
            "Epoch 54/100\n",
            "15/18 [========================>.....] - ETA: 0s - loss: 164.2801 - mae: 164.2801\n",
            "Epoch 54: val_mae did not improve from 866.13953\n",
            "18/18 [==============================] - 0s 8ms/step - loss: 161.2769 - mae: 161.2769 - val_loss: 893.2701 - val_mae: 893.2701\n",
            "Epoch 55/100\n",
            "11/18 [=================>............] - ETA: 0s - loss: 156.9363 - mae: 156.9363\n",
            "Epoch 55: val_mae did not improve from 866.13953\n",
            "18/18 [==============================] - 0s 9ms/step - loss: 158.2776 - mae: 158.2776 - val_loss: 971.2966 - val_mae: 971.2966\n",
            "Epoch 56/100\n",
            "10/18 [===============>..............] - ETA: 0s - loss: 147.1413 - mae: 147.1413\n",
            "Epoch 56: val_mae did not improve from 866.13953\n",
            "18/18 [==============================] - 0s 10ms/step - loss: 157.3291 - mae: 157.3291 - val_loss: 914.8673 - val_mae: 914.8673\n",
            "Epoch 57/100\n",
            "12/18 [===================>..........] - ETA: 0s - loss: 162.4270 - mae: 162.4270\n",
            "Epoch 57: val_mae improved from 866.13953 to 844.46423, saving model to best_model4.h5\n",
            "18/18 [==============================] - 0s 9ms/step - loss: 159.8247 - mae: 159.8247 - val_loss: 844.4642 - val_mae: 844.4642\n",
            "Epoch 58/100\n",
            "12/18 [===================>..........] - ETA: 0s - loss: 153.5297 - mae: 153.5297\n",
            "Epoch 58: val_mae did not improve from 844.46423\n",
            "18/18 [==============================] - 0s 8ms/step - loss: 160.4687 - mae: 160.4687 - val_loss: 847.3168 - val_mae: 847.3168\n",
            "Epoch 59/100\n",
            "11/18 [=================>............] - ETA: 0s - loss: 163.4850 - mae: 163.4850\n",
            "Epoch 59: val_mae did not improve from 844.46423\n",
            "18/18 [==============================] - 0s 9ms/step - loss: 157.4699 - mae: 157.4699 - val_loss: 1082.4424 - val_mae: 1082.4424\n",
            "Epoch 60/100\n",
            "10/18 [===============>..............] - ETA: 0s - loss: 162.6830 - mae: 162.6830\n",
            "Epoch 60: val_mae improved from 844.46423 to 829.81665, saving model to best_model4.h5\n",
            "18/18 [==============================] - 0s 10ms/step - loss: 166.7943 - mae: 166.7943 - val_loss: 829.8166 - val_mae: 829.8167\n",
            "Epoch 61/100\n",
            "12/18 [===================>..........] - ETA: 0s - loss: 166.9871 - mae: 166.9871\n",
            "Epoch 61: val_mae did not improve from 829.81665\n",
            "18/18 [==============================] - 0s 9ms/step - loss: 169.3177 - mae: 169.3177 - val_loss: 1025.0763 - val_mae: 1025.0763\n",
            "Epoch 62/100\n",
            "12/18 [===================>..........] - ETA: 0s - loss: 165.0830 - mae: 165.0830\n",
            "Epoch 62: val_mae did not improve from 829.81665\n",
            "18/18 [==============================] - 0s 8ms/step - loss: 156.3526 - mae: 156.3526 - val_loss: 921.0774 - val_mae: 921.0774\n",
            "Epoch 63/100\n",
            "12/18 [===================>..........] - ETA: 0s - loss: 156.1120 - mae: 156.1120\n",
            "Epoch 63: val_mae did not improve from 829.81665\n",
            "18/18 [==============================] - 0s 9ms/step - loss: 157.8060 - mae: 157.8060 - val_loss: 860.0652 - val_mae: 860.0652\n",
            "Epoch 64/100\n",
            "11/18 [=================>............] - ETA: 0s - loss: 153.6593 - mae: 153.6593\n",
            "Epoch 64: val_mae did not improve from 829.81665\n",
            "18/18 [==============================] - 0s 8ms/step - loss: 154.5257 - mae: 154.5257 - val_loss: 902.7288 - val_mae: 902.7288\n",
            "Epoch 65/100\n",
            "11/18 [=================>............] - ETA: 0s - loss: 157.3757 - mae: 157.3757\n",
            "Epoch 65: val_mae did not improve from 829.81665\n",
            "18/18 [==============================] - 0s 8ms/step - loss: 154.1643 - mae: 154.1643 - val_loss: 964.7957 - val_mae: 964.7957\n",
            "Epoch 66/100\n",
            "11/18 [=================>............] - ETA: 0s - loss: 157.0800 - mae: 157.0800\n",
            "Epoch 66: val_mae improved from 829.81665 to 816.76721, saving model to best_model4.h5\n",
            "18/18 [==============================] - 0s 10ms/step - loss: 156.5464 - mae: 156.5464 - val_loss: 816.7672 - val_mae: 816.7672\n",
            "Epoch 67/100\n",
            "11/18 [=================>............] - ETA: 0s - loss: 156.6653 - mae: 156.6653\n",
            "Epoch 67: val_mae did not improve from 816.76721\n",
            "18/18 [==============================] - 0s 9ms/step - loss: 158.0341 - mae: 158.0341 - val_loss: 856.2243 - val_mae: 856.2243\n",
            "Epoch 68/100\n",
            "10/18 [===============>..............] - ETA: 0s - loss: 149.4823 - mae: 149.4823\n",
            "Epoch 68: val_mae did not improve from 816.76721\n",
            "18/18 [==============================] - 0s 9ms/step - loss: 149.1329 - mae: 149.1329 - val_loss: 818.1356 - val_mae: 818.1356\n",
            "Epoch 69/100\n",
            "15/18 [========================>.....] - ETA: 0s - loss: 148.2722 - mae: 148.2722\n",
            "Epoch 69: val_mae improved from 816.76721 to 813.30798, saving model to best_model4.h5\n",
            "18/18 [==============================] - 0s 8ms/step - loss: 153.3088 - mae: 153.3088 - val_loss: 813.3080 - val_mae: 813.3080\n",
            "Epoch 70/100\n",
            "13/18 [====================>.........] - ETA: 0s - loss: 147.5000 - mae: 147.5000\n",
            "Epoch 70: val_mae improved from 813.30798 to 808.30621, saving model to best_model4.h5\n",
            "18/18 [==============================] - 0s 8ms/step - loss: 150.3643 - mae: 150.3643 - val_loss: 808.3062 - val_mae: 808.3062\n",
            "Epoch 71/100\n",
            "15/18 [========================>.....] - ETA: 0s - loss: 155.4281 - mae: 155.4281\n",
            "Epoch 71: val_mae did not improve from 808.30621\n",
            "18/18 [==============================] - 0s 6ms/step - loss: 158.4850 - mae: 158.4850 - val_loss: 808.5944 - val_mae: 808.5944\n",
            "Epoch 72/100\n",
            "16/18 [=========================>....] - ETA: 0s - loss: 149.8156 - mae: 149.8156\n",
            "Epoch 72: val_mae improved from 808.30621 to 804.64075, saving model to best_model4.h5\n",
            "18/18 [==============================] - 0s 7ms/step - loss: 149.9274 - mae: 149.9274 - val_loss: 804.6407 - val_mae: 804.6407\n",
            "Epoch 73/100\n",
            "15/18 [========================>.....] - ETA: 0s - loss: 153.7432 - mae: 153.7432\n",
            "Epoch 73: val_mae did not improve from 804.64075\n",
            "18/18 [==============================] - 0s 6ms/step - loss: 151.5715 - mae: 151.5715 - val_loss: 811.1552 - val_mae: 811.1552\n",
            "Epoch 74/100\n",
            "14/18 [======================>.......] - ETA: 0s - loss: 155.3881 - mae: 155.3881\n",
            "Epoch 74: val_mae did not improve from 804.64075\n",
            "18/18 [==============================] - 0s 6ms/step - loss: 149.7092 - mae: 149.7092 - val_loss: 804.8243 - val_mae: 804.8243\n",
            "Epoch 75/100\n",
            "16/18 [=========================>....] - ETA: 0s - loss: 156.7072 - mae: 156.7072\n",
            "Epoch 75: val_mae did not improve from 804.64075\n",
            "18/18 [==============================] - 0s 6ms/step - loss: 154.4570 - mae: 154.4570 - val_loss: 817.0952 - val_mae: 817.0952\n",
            "Epoch 76/100\n",
            "14/18 [======================>.......] - ETA: 0s - loss: 151.1654 - mae: 151.1654\n",
            "Epoch 76: val_mae did not improve from 804.64075\n",
            "18/18 [==============================] - 0s 6ms/step - loss: 156.7964 - mae: 156.7964 - val_loss: 837.3922 - val_mae: 837.3922\n",
            "Epoch 77/100\n",
            "15/18 [========================>.....] - ETA: 0s - loss: 149.4122 - mae: 149.4122\n",
            "Epoch 77: val_mae did not improve from 804.64075\n",
            "18/18 [==============================] - 0s 6ms/step - loss: 150.6033 - mae: 150.6033 - val_loss: 929.9099 - val_mae: 929.9099\n",
            "Epoch 78/100\n",
            "15/18 [========================>.....] - ETA: 0s - loss: 156.8476 - mae: 156.8476\n",
            "Epoch 78: val_mae did not improve from 804.64075\n",
            "18/18 [==============================] - 0s 7ms/step - loss: 154.6805 - mae: 154.6805 - val_loss: 807.6246 - val_mae: 807.6246\n",
            "Epoch 79/100\n",
            "14/18 [======================>.......] - ETA: 0s - loss: 144.8447 - mae: 144.8447\n",
            "Epoch 79: val_mae improved from 804.64075 to 793.06372, saving model to best_model4.h5\n",
            "18/18 [==============================] - 0s 7ms/step - loss: 148.4363 - mae: 148.4363 - val_loss: 793.0637 - val_mae: 793.0637\n",
            "Epoch 80/100\n",
            "15/18 [========================>.....] - ETA: 0s - loss: 149.5915 - mae: 149.5915\n",
            "Epoch 80: val_mae did not improve from 793.06372\n",
            "18/18 [==============================] - 0s 6ms/step - loss: 147.7700 - mae: 147.7700 - val_loss: 794.9232 - val_mae: 794.9232\n",
            "Epoch 81/100\n",
            "15/18 [========================>.....] - ETA: 0s - loss: 149.4338 - mae: 149.4338\n",
            "Epoch 81: val_mae did not improve from 793.06372\n",
            "18/18 [==============================] - 0s 6ms/step - loss: 149.5176 - mae: 149.5176 - val_loss: 1243.7795 - val_mae: 1243.7795\n",
            "Epoch 82/100\n",
            "16/18 [=========================>....] - ETA: 0s - loss: 187.7217 - mae: 187.7217\n",
            "Epoch 82: val_mae did not improve from 793.06372\n",
            "18/18 [==============================] - 0s 6ms/step - loss: 184.4759 - mae: 184.4759 - val_loss: 907.5265 - val_mae: 907.5265\n",
            "Epoch 83/100\n",
            "16/18 [=========================>....] - ETA: 0s - loss: 153.3484 - mae: 153.3484\n",
            "Epoch 83: val_mae did not improve from 793.06372\n",
            "18/18 [==============================] - 0s 6ms/step - loss: 153.4536 - mae: 153.4536 - val_loss: 815.4521 - val_mae: 815.4521\n",
            "Epoch 84/100\n",
            "13/18 [====================>.........] - ETA: 0s - loss: 158.8800 - mae: 158.8800\n",
            "Epoch 84: val_mae did not improve from 793.06372\n",
            "18/18 [==============================] - 0s 6ms/step - loss: 157.2315 - mae: 157.2315 - val_loss: 835.8735 - val_mae: 835.8735\n",
            "Epoch 85/100\n",
            "16/18 [=========================>....] - ETA: 0s - loss: 153.4662 - mae: 153.4662\n",
            "Epoch 85: val_mae improved from 793.06372 to 785.43005, saving model to best_model4.h5\n",
            "18/18 [==============================] - 0s 8ms/step - loss: 152.0404 - mae: 152.0404 - val_loss: 785.4301 - val_mae: 785.4301\n",
            "Epoch 86/100\n",
            "15/18 [========================>.....] - ETA: 0s - loss: 141.6899 - mae: 141.6899\n",
            "Epoch 86: val_mae improved from 785.43005 to 784.29529, saving model to best_model4.h5\n",
            "18/18 [==============================] - 0s 7ms/step - loss: 147.0162 - mae: 147.0162 - val_loss: 784.2953 - val_mae: 784.2953\n",
            "Epoch 87/100\n",
            "14/18 [======================>.......] - ETA: 0s - loss: 143.4515 - mae: 143.4515\n",
            "Epoch 87: val_mae did not improve from 784.29529\n",
            "18/18 [==============================] - 0s 6ms/step - loss: 145.5069 - mae: 145.5069 - val_loss: 816.4161 - val_mae: 816.4161\n",
            "Epoch 88/100\n",
            "13/18 [====================>.........] - ETA: 0s - loss: 149.4243 - mae: 149.4243\n",
            "Epoch 88: val_mae improved from 784.29529 to 780.03442, saving model to best_model4.h5\n",
            "18/18 [==============================] - 0s 8ms/step - loss: 146.0024 - mae: 146.0024 - val_loss: 780.0344 - val_mae: 780.0344\n",
            "Epoch 89/100\n",
            "15/18 [========================>.....] - ETA: 0s - loss: 154.4433 - mae: 154.4433\n",
            "Epoch 89: val_mae did not improve from 780.03442\n",
            "18/18 [==============================] - 0s 6ms/step - loss: 153.1300 - mae: 153.1300 - val_loss: 813.0843 - val_mae: 813.0843\n",
            "Epoch 90/100\n",
            "15/18 [========================>.....] - ETA: 0s - loss: 151.5079 - mae: 151.5079\n",
            "Epoch 90: val_mae did not improve from 780.03442\n",
            "18/18 [==============================] - 0s 7ms/step - loss: 150.4964 - mae: 150.4964 - val_loss: 817.2109 - val_mae: 817.2109\n",
            "Epoch 91/100\n",
            "13/18 [====================>.........] - ETA: 0s - loss: 144.7602 - mae: 144.7602\n",
            "Epoch 91: val_mae improved from 780.03442 to 773.31006, saving model to best_model4.h5\n",
            "18/18 [==============================] - 0s 8ms/step - loss: 148.7526 - mae: 148.7526 - val_loss: 773.3101 - val_mae: 773.3101\n",
            "Epoch 92/100\n",
            "14/18 [======================>.......] - ETA: 0s - loss: 151.2240 - mae: 151.2240\n",
            "Epoch 92: val_mae did not improve from 773.31006\n",
            "18/18 [==============================] - 0s 6ms/step - loss: 148.1136 - mae: 148.1136 - val_loss: 774.8800 - val_mae: 774.8800\n",
            "Epoch 93/100\n",
            "14/18 [======================>.......] - ETA: 0s - loss: 139.1843 - mae: 139.1843\n",
            "Epoch 93: val_mae did not improve from 773.31006\n",
            "18/18 [==============================] - 0s 6ms/step - loss: 141.9981 - mae: 141.9981 - val_loss: 828.2553 - val_mae: 828.2553\n",
            "Epoch 94/100\n",
            "14/18 [======================>.......] - ETA: 0s - loss: 145.0322 - mae: 145.0322\n",
            "Epoch 94: val_mae did not improve from 773.31006\n",
            "18/18 [==============================] - 0s 7ms/step - loss: 143.4575 - mae: 143.4575 - val_loss: 791.7518 - val_mae: 791.7518\n",
            "Epoch 95/100\n",
            "16/18 [=========================>....] - ETA: 0s - loss: 159.3804 - mae: 159.3804\n",
            "Epoch 95: val_mae did not improve from 773.31006\n",
            "18/18 [==============================] - 0s 6ms/step - loss: 158.2852 - mae: 158.2852 - val_loss: 780.4421 - val_mae: 780.4421\n",
            "Epoch 96/100\n",
            "15/18 [========================>.....] - ETA: 0s - loss: 148.3077 - mae: 148.3077\n",
            "Epoch 96: val_mae did not improve from 773.31006\n",
            "18/18 [==============================] - 0s 6ms/step - loss: 146.4550 - mae: 146.4550 - val_loss: 774.9724 - val_mae: 774.9724\n",
            "Epoch 97/100\n",
            "16/18 [=========================>....] - ETA: 0s - loss: 140.9375 - mae: 140.9375\n",
            "Epoch 97: val_mae did not improve from 773.31006\n",
            "18/18 [==============================] - 0s 6ms/step - loss: 142.2086 - mae: 142.2086 - val_loss: 811.3583 - val_mae: 811.3583\n",
            "Epoch 98/100\n",
            "15/18 [========================>.....] - ETA: 0s - loss: 149.8389 - mae: 149.8389\n",
            "Epoch 98: val_mae did not improve from 773.31006\n",
            "18/18 [==============================] - 0s 7ms/step - loss: 145.6830 - mae: 145.6830 - val_loss: 793.2046 - val_mae: 793.2046\n",
            "Epoch 99/100\n",
            "15/18 [========================>.....] - ETA: 0s - loss: 136.9578 - mae: 136.9578\n",
            "Epoch 99: val_mae did not improve from 773.31006\n",
            "18/18 [==============================] - 0s 6ms/step - loss: 140.0970 - mae: 140.0970 - val_loss: 786.8802 - val_mae: 786.8802\n",
            "Epoch 100/100\n",
            "13/18 [====================>.........] - ETA: 0s - loss: 150.9923 - mae: 150.9923\n",
            "Epoch 100: val_mae improved from 773.31006 to 759.40973, saving model to best_model4.h5\n",
            "18/18 [==============================] - 0s 8ms/step - loss: 147.1572 - mae: 147.1572 - val_loss: 759.4097 - val_mae: 759.4097\n"
          ]
        },
        {
          "output_type": "execute_result",
          "data": {
            "text/plain": [
              "<keras.callbacks.History at 0x7ae75014ca30>"
            ]
          },
          "metadata": {},
          "execution_count": 164
        }
      ]
    },
    {
      "cell_type": "code",
      "source": [
        "model4.evaluate(x_test4, y_test4)\n"
      ],
      "metadata": {
        "colab": {
          "base_uri": "https://localhost:8080/"
        },
        "id": "kwRI2bTooTkS",
        "outputId": "e315b3a4-cbc0-4eb6-92e4-8fbc0eb85357"
      },
      "execution_count": 150,
      "outputs": [
        {
          "output_type": "stream",
          "name": "stdout",
          "text": [
            "18/18 [==============================] - 0s 6ms/step - loss: 574.5280 - mae: 574.5280\n"
          ]
        },
        {
          "output_type": "execute_result",
          "data": {
            "text/plain": [
              "[574.5280151367188, 574.5280151367188]"
            ]
          },
          "metadata": {},
          "execution_count": 150
        }
      ]
    },
    {
      "cell_type": "code",
      "source": [
        "model4 = tf.keras.models.load_model('best_model4.h5')\n",
        "model4.evaluate(x_test4, y_test4)\n"
      ],
      "metadata": {
        "colab": {
          "base_uri": "https://localhost:8080/"
        },
        "id": "eXVFwA0HoYEZ",
        "outputId": "68a87710-b027-4b5a-c2ec-a7f2aeef72e8"
      },
      "execution_count": 151,
      "outputs": [
        {
          "output_type": "stream",
          "name": "stdout",
          "text": [
            "18/18 [==============================] - 0s 3ms/step - loss: 574.1472 - mae: 574.1472\n"
          ]
        },
        {
          "output_type": "execute_result",
          "data": {
            "text/plain": [
              "[574.1471557617188, 574.1471557617188]"
            ]
          },
          "metadata": {},
          "execution_count": 151
        }
      ]
    },
    {
      "cell_type": "code",
      "source": [
        "y_pred4 = model4.predict(x_test4)\n",
        "y_pred4.shape\n"
      ],
      "metadata": {
        "colab": {
          "base_uri": "https://localhost:8080/"
        },
        "id": "7Q4ZL1XIohMo",
        "outputId": "28617024-3093-4c48-eb47-155e9dcf8745"
      },
      "execution_count": 152,
      "outputs": [
        {
          "output_type": "stream",
          "name": "stdout",
          "text": [
            "18/18 [==============================] - 0s 2ms/step\n"
          ]
        },
        {
          "output_type": "execute_result",
          "data": {
            "text/plain": [
              "(556, 1)"
            ]
          },
          "metadata": {},
          "execution_count": 152
        }
      ]
    },
    {
      "cell_type": "code",
      "source": [
        "y_pred4 = tf.squeeze(y_pred4)\n",
        "y_pred4.shape\n",
        "\n"
      ],
      "metadata": {
        "colab": {
          "base_uri": "https://localhost:8080/"
        },
        "id": "aQCddoDvomAA",
        "outputId": "11db47ce-2f43-4a2e-9a93-21d6ab85838b"
      },
      "execution_count": 153,
      "outputs": [
        {
          "output_type": "execute_result",
          "data": {
            "text/plain": [
              "TensorShape([556])"
            ]
          },
          "metadata": {},
          "execution_count": 153
        }
      ]
    },
    {
      "cell_type": "code",
      "source": [
        "y_test4 = tf.cast(y_test4, dtype=tf.float32)\n",
        "y_test4.shape"
      ],
      "metadata": {
        "colab": {
          "base_uri": "https://localhost:8080/"
        },
        "id": "tCAYJmYEpJNT",
        "outputId": "21863d53-19fa-4caf-e20d-b65653c4f756"
      },
      "execution_count": 154,
      "outputs": [
        {
          "output_type": "execute_result",
          "data": {
            "text/plain": [
              "TensorShape([556, 1])"
            ]
          },
          "metadata": {},
          "execution_count": 154
        }
      ]
    },
    {
      "cell_type": "code",
      "source": [
        "model4_results = evaluate_preds(tf.squeeze(y_test4), y_pred4)\n",
        "model4_results"
      ],
      "metadata": {
        "colab": {
          "base_uri": "https://localhost:8080/"
        },
        "id": "mpX3-9Z9op7Y",
        "outputId": "323db147-fc3b-4604-aeb3-d9e7031279bd"
      },
      "execution_count": 155,
      "outputs": [
        {
          "output_type": "execute_result",
          "data": {
            "text/plain": [
              "{'mae': 574.1471,\n",
              " 'mse': 1173896.9,\n",
              " 'rmse': 1083.4652,\n",
              " 'mape': 2.632722,\n",
              " 'mase': 1.0086174}"
            ]
          },
          "metadata": {},
          "execution_count": 155
        }
      ]
    },
    {
      "cell_type": "code",
      "source": [
        "naive_result"
      ],
      "metadata": {
        "colab": {
          "base_uri": "https://localhost:8080/"
        },
        "id": "fvRil9JPpdt1",
        "outputId": "8371d73d-c351-483d-8da3-1fdaabf75c4e"
      },
      "execution_count": 156,
      "outputs": [
        {
          "output_type": "execute_result",
          "data": {
            "text/plain": [
              "{'mae': 567.9802,\n",
              " 'mse': 1147547.0,\n",
              " 'rmse': 1071.2362,\n",
              " 'mape': 2.516525,\n",
              " 'mase': 0.99957}"
            ]
          },
          "metadata": {},
          "execution_count": 156
        }
      ]
    },
    {
      "cell_type": "markdown",
      "source": [
        "# Create LSTM model"
      ],
      "metadata": {
        "id": "E5n6CHFVLpDW"
      }
    },
    {
      "cell_type": "code",
      "source": [
        "def create_LSTM_model(window_size4, horizon4):\n",
        "  inputs = tf.keras.Input(shape=(window_size4, ))\n",
        "  print(inputs.shape)\n",
        "  x = tf.keras.layers.Lambda(lambda d: tf.expand_dims(d, axis=2))(inputs)\n",
        "  print(x.shape)\n",
        "  x = tf.keras.layers.LSTM(64, return_sequences=False)(x)\n",
        "  print(x.shape)\n",
        "  outputs = tf.keras.layers.Dense(horizon4, activation='linear')(x)\n",
        "\n",
        "  model = tf.keras.Model(inputs=inputs, outputs=outputs)\n",
        "  model.compile(loss='mae', optimizer='adam', metrics=['mae'])\n",
        "  return model\n"
      ],
      "metadata": {
        "id": "vYdMg42mLscr"
      },
      "execution_count": 184,
      "outputs": []
    },
    {
      "cell_type": "code",
      "source": [
        "model5 = create_LSTM_model(window_size4, horizon4)\n",
        "model5.summary()"
      ],
      "metadata": {
        "colab": {
          "base_uri": "https://localhost:8080/"
        },
        "id": "YIkrvAoqL7bh",
        "outputId": "7f7047a8-08a1-411e-ca1f-6827b72bc699"
      },
      "execution_count": 185,
      "outputs": [
        {
          "output_type": "stream",
          "name": "stdout",
          "text": [
            "(None, 7)\n",
            "(None, 7, 1)\n",
            "(None, 64)\n",
            "Model: \"model_13\"\n",
            "_________________________________________________________________\n",
            " Layer (type)                Output Shape              Param #   \n",
            "=================================================================\n",
            " input_18 (InputLayer)       [(None, 7)]               0         \n",
            "                                                                 \n",
            " lambda_16 (Lambda)          (None, 7, 1)              0         \n",
            "                                                                 \n",
            " lstm_12 (LSTM)              (None, 64)                16896     \n",
            "                                                                 \n",
            " dense_23 (Dense)            (None, 1)                 65        \n",
            "                                                                 \n",
            "=================================================================\n",
            "Total params: 16,961\n",
            "Trainable params: 16,961\n",
            "Non-trainable params: 0\n",
            "_________________________________________________________________\n"
          ]
        }
      ]
    },
    {
      "cell_type": "code",
      "source": [
        "MCP5 = ModelCheckpoint('best_model5.h5', monitor='val_mae', mode='min', save_best_only=True, verbose=1)\n",
        "\n",
        "model5.fit(x_train4, y_train4, epochs=100, verbose=1, batch_size=128, validation_data=(x_test4, y_test4), callbacks=[MCP5])"
      ],
      "metadata": {
        "colab": {
          "base_uri": "https://localhost:8080/"
        },
        "id": "3R9AatKyMk6E",
        "outputId": "6eb36825-1ec2-4975-8d2c-5f9cfe83f935"
      },
      "execution_count": 186,
      "outputs": [
        {
          "output_type": "stream",
          "name": "stdout",
          "text": [
            "Epoch 1/100\n",
            "12/18 [===================>..........] - ETA: 0s - loss: 3149.9053 - mae: 3149.9053 \n",
            "Epoch 1: val_mae improved from inf to 20096.38672, saving model to best_model5.h5\n",
            "18/18 [==============================] - 3s 32ms/step - loss: 3158.7625 - mae: 3158.7625 - val_loss: 20096.3867 - val_mae: 20096.3867\n",
            "Epoch 2/100\n",
            "12/18 [===================>..........] - ETA: 0s - loss: 3125.7727 - mae: 3125.7727\n",
            "Epoch 2: val_mae improved from 20096.38672 to 20095.31250, saving model to best_model5.h5\n",
            "18/18 [==============================] - 0s 8ms/step - loss: 3157.9348 - mae: 3157.9348 - val_loss: 20095.3125 - val_mae: 20095.3125\n",
            "Epoch 3/100\n",
            " 9/18 [==============>...............] - ETA: 0s - loss: 3112.0869 - mae: 3112.0869\n",
            "Epoch 3: val_mae improved from 20095.31250 to 20094.50391, saving model to best_model5.h5\n",
            "18/18 [==============================] - 0s 9ms/step - loss: 3156.9995 - mae: 3156.9995 - val_loss: 20094.5039 - val_mae: 20094.5039\n",
            "Epoch 4/100\n",
            "14/18 [======================>.......] - ETA: 0s - loss: 3175.6211 - mae: 3175.6211\n",
            "Epoch 4: val_mae improved from 20094.50391 to 20093.45312, saving model to best_model5.h5\n",
            "18/18 [==============================] - 0s 8ms/step - loss: 3156.1069 - mae: 3156.1069 - val_loss: 20093.4531 - val_mae: 20093.4531\n",
            "Epoch 5/100\n",
            "13/18 [====================>.........] - ETA: 0s - loss: 3134.3240 - mae: 3134.3240\n",
            "Epoch 5: val_mae improved from 20093.45312 to 20091.94727, saving model to best_model5.h5\n",
            "18/18 [==============================] - 0s 8ms/step - loss: 3154.7739 - mae: 3154.7739 - val_loss: 20091.9473 - val_mae: 20091.9473\n",
            "Epoch 6/100\n",
            "14/18 [======================>.......] - ETA: 0s - loss: 3209.8853 - mae: 3209.8853\n",
            "Epoch 6: val_mae improved from 20091.94727 to 20090.78711, saving model to best_model5.h5\n",
            "18/18 [==============================] - 0s 8ms/step - loss: 3153.3916 - mae: 3153.3916 - val_loss: 20090.7871 - val_mae: 20090.7871\n",
            "Epoch 7/100\n",
            "11/18 [=================>............] - ETA: 0s - loss: 3176.0898 - mae: 3176.0898\n",
            "Epoch 7: val_mae improved from 20090.78711 to 20089.22656, saving model to best_model5.h5\n",
            "18/18 [==============================] - 0s 8ms/step - loss: 3152.0842 - mae: 3152.0842 - val_loss: 20089.2266 - val_mae: 20089.2266\n",
            "Epoch 8/100\n",
            "13/18 [====================>.........] - ETA: 0s - loss: 3147.4177 - mae: 3147.4177\n",
            "Epoch 8: val_mae improved from 20089.22656 to 20088.50195, saving model to best_model5.h5\n",
            "18/18 [==============================] - 0s 8ms/step - loss: 3150.9180 - mae: 3150.9180 - val_loss: 20088.5020 - val_mae: 20088.5020\n",
            "Epoch 9/100\n",
            "13/18 [====================>.........] - ETA: 0s - loss: 3157.6814 - mae: 3157.6814\n",
            "Epoch 9: val_mae improved from 20088.50195 to 20087.70703, saving model to best_model5.h5\n",
            "18/18 [==============================] - 0s 11ms/step - loss: 3150.1748 - mae: 3150.1748 - val_loss: 20087.7070 - val_mae: 20087.7070\n",
            "Epoch 10/100\n",
            "13/18 [====================>.........] - ETA: 0s - loss: 3242.4331 - mae: 3242.4331\n",
            "Epoch 10: val_mae improved from 20087.70703 to 20087.04883, saving model to best_model5.h5\n",
            "18/18 [==============================] - 0s 8ms/step - loss: 3149.4277 - mae: 3149.4277 - val_loss: 20087.0488 - val_mae: 20087.0488\n",
            "Epoch 11/100\n",
            "12/18 [===================>..........] - ETA: 0s - loss: 3180.1501 - mae: 3180.1501\n",
            "Epoch 11: val_mae improved from 20087.04883 to 20086.41016, saving model to best_model5.h5\n",
            "18/18 [==============================] - 0s 11ms/step - loss: 3148.7761 - mae: 3148.7761 - val_loss: 20086.4102 - val_mae: 20086.4102\n",
            "Epoch 12/100\n",
            "14/18 [======================>.......] - ETA: 0s - loss: 3104.3220 - mae: 3104.3220\n",
            "Epoch 12: val_mae improved from 20086.41016 to 20085.76172, saving model to best_model5.h5\n",
            "18/18 [==============================] - 0s 7ms/step - loss: 3148.1335 - mae: 3148.1335 - val_loss: 20085.7617 - val_mae: 20085.7617\n",
            "Epoch 13/100\n",
            "13/18 [====================>.........] - ETA: 0s - loss: 3181.3186 - mae: 3181.3186\n",
            "Epoch 13: val_mae improved from 20085.76172 to 20085.06250, saving model to best_model5.h5\n",
            "18/18 [==============================] - 0s 8ms/step - loss: 3147.4788 - mae: 3147.4788 - val_loss: 20085.0625 - val_mae: 20085.0625\n",
            "Epoch 14/100\n",
            "13/18 [====================>.........] - ETA: 0s - loss: 3071.2661 - mae: 3071.2661\n",
            "Epoch 14: val_mae improved from 20085.06250 to 20084.44336, saving model to best_model5.h5\n",
            "18/18 [==============================] - 0s 8ms/step - loss: 3146.8020 - mae: 3146.8020 - val_loss: 20084.4434 - val_mae: 20084.4434\n",
            "Epoch 15/100\n",
            "13/18 [====================>.........] - ETA: 0s - loss: 3110.0415 - mae: 3110.0415\n",
            "Epoch 15: val_mae improved from 20084.44336 to 20083.83398, saving model to best_model5.h5\n",
            "18/18 [==============================] - 0s 11ms/step - loss: 3146.1887 - mae: 3146.1887 - val_loss: 20083.8340 - val_mae: 20083.8340\n",
            "Epoch 16/100\n",
            "14/18 [======================>.......] - ETA: 0s - loss: 3130.9348 - mae: 3130.9348\n",
            "Epoch 16: val_mae improved from 20083.83398 to 20082.87500, saving model to best_model5.h5\n",
            "18/18 [==============================] - 0s 8ms/step - loss: 3145.4043 - mae: 3145.4043 - val_loss: 20082.8750 - val_mae: 20082.8750\n",
            "Epoch 17/100\n",
            "13/18 [====================>.........] - ETA: 0s - loss: 3060.8931 - mae: 3060.8931\n",
            "Epoch 17: val_mae improved from 20082.87500 to 20082.21875, saving model to best_model5.h5\n",
            "18/18 [==============================] - 0s 8ms/step - loss: 3144.5952 - mae: 3144.5952 - val_loss: 20082.2188 - val_mae: 20082.2188\n",
            "Epoch 18/100\n",
            "14/18 [======================>.......] - ETA: 0s - loss: 3147.5544 - mae: 3147.5544\n",
            "Epoch 18: val_mae improved from 20082.21875 to 20081.31836, saving model to best_model5.h5\n",
            "18/18 [==============================] - 0s 8ms/step - loss: 3143.8440 - mae: 3143.8440 - val_loss: 20081.3184 - val_mae: 20081.3184\n",
            "Epoch 19/100\n",
            "13/18 [====================>.........] - ETA: 0s - loss: 3128.4849 - mae: 3128.4849\n",
            "Epoch 19: val_mae improved from 20081.31836 to 20080.62500, saving model to best_model5.h5\n",
            "18/18 [==============================] - 0s 8ms/step - loss: 3143.0239 - mae: 3143.0239 - val_loss: 20080.6250 - val_mae: 20080.6250\n",
            "Epoch 20/100\n",
            "11/18 [=================>............] - ETA: 0s - loss: 3108.9609 - mae: 3108.9609\n",
            "Epoch 20: val_mae improved from 20080.62500 to 20079.95312, saving model to best_model5.h5\n",
            "18/18 [==============================] - 0s 9ms/step - loss: 3142.3398 - mae: 3142.3398 - val_loss: 20079.9531 - val_mae: 20079.9531\n",
            "Epoch 21/100\n",
            "13/18 [====================>.........] - ETA: 0s - loss: 3115.3643 - mae: 3115.3643\n",
            "Epoch 21: val_mae improved from 20079.95312 to 20079.29297, saving model to best_model5.h5\n",
            "18/18 [==============================] - 0s 8ms/step - loss: 3141.6692 - mae: 3141.6692 - val_loss: 20079.2930 - val_mae: 20079.2930\n",
            "Epoch 22/100\n",
            "13/18 [====================>.........] - ETA: 0s - loss: 3139.5298 - mae: 3139.5298\n",
            "Epoch 22: val_mae improved from 20079.29297 to 20078.59570, saving model to best_model5.h5\n",
            "18/18 [==============================] - 0s 8ms/step - loss: 3140.9800 - mae: 3140.9800 - val_loss: 20078.5957 - val_mae: 20078.5957\n",
            "Epoch 23/100\n",
            "13/18 [====================>.........] - ETA: 0s - loss: 3182.1353 - mae: 3182.1353\n",
            "Epoch 23: val_mae improved from 20078.59570 to 20077.94336, saving model to best_model5.h5\n",
            "18/18 [==============================] - 0s 8ms/step - loss: 3140.3198 - mae: 3140.3198 - val_loss: 20077.9434 - val_mae: 20077.9434\n",
            "Epoch 24/100\n",
            "14/18 [======================>.......] - ETA: 0s - loss: 3135.6799 - mae: 3135.6799\n",
            "Epoch 24: val_mae improved from 20077.94336 to 20077.29883, saving model to best_model5.h5\n",
            "18/18 [==============================] - 0s 7ms/step - loss: 3139.6716 - mae: 3139.6716 - val_loss: 20077.2988 - val_mae: 20077.2988\n",
            "Epoch 25/100\n",
            "14/18 [======================>.......] - ETA: 0s - loss: 3126.3743 - mae: 3126.3743\n",
            "Epoch 25: val_mae improved from 20077.29883 to 20076.65820, saving model to best_model5.h5\n",
            "18/18 [==============================] - 0s 8ms/step - loss: 3139.0291 - mae: 3139.0291 - val_loss: 20076.6582 - val_mae: 20076.6582\n",
            "Epoch 26/100\n",
            "13/18 [====================>.........] - ETA: 0s - loss: 3113.8542 - mae: 3113.8542\n",
            "Epoch 26: val_mae improved from 20076.65820 to 20076.02344, saving model to best_model5.h5\n",
            "18/18 [==============================] - 0s 8ms/step - loss: 3138.3906 - mae: 3138.3906 - val_loss: 20076.0234 - val_mae: 20076.0234\n",
            "Epoch 27/100\n",
            "12/18 [===================>..........] - ETA: 0s - loss: 3183.6953 - mae: 3183.6953\n",
            "Epoch 27: val_mae improved from 20076.02344 to 20075.39062, saving model to best_model5.h5\n",
            "18/18 [==============================] - 0s 8ms/step - loss: 3137.7571 - mae: 3137.7571 - val_loss: 20075.3906 - val_mae: 20075.3906\n",
            "Epoch 28/100\n",
            "14/18 [======================>.......] - ETA: 0s - loss: 3133.4980 - mae: 3133.4980\n",
            "Epoch 28: val_mae improved from 20075.39062 to 20074.76172, saving model to best_model5.h5\n",
            "18/18 [==============================] - 0s 8ms/step - loss: 3137.1265 - mae: 3137.1265 - val_loss: 20074.7617 - val_mae: 20074.7617\n",
            "Epoch 29/100\n",
            "12/18 [===================>..........] - ETA: 0s - loss: 3135.9143 - mae: 3135.9143\n",
            "Epoch 29: val_mae improved from 20074.76172 to 20074.13672, saving model to best_model5.h5\n",
            "18/18 [==============================] - 0s 9ms/step - loss: 3136.4961 - mae: 3136.4961 - val_loss: 20074.1367 - val_mae: 20074.1367\n",
            "Epoch 30/100\n",
            "13/18 [====================>.........] - ETA: 0s - loss: 3115.3447 - mae: 3115.3447\n",
            "Epoch 30: val_mae improved from 20074.13672 to 20073.29492, saving model to best_model5.h5\n",
            "18/18 [==============================] - 0s 8ms/step - loss: 3135.6729 - mae: 3135.6729 - val_loss: 20073.2949 - val_mae: 20073.2949\n",
            "Epoch 31/100\n",
            "13/18 [====================>.........] - ETA: 0s - loss: 3081.1638 - mae: 3081.1638\n",
            "Epoch 31: val_mae improved from 20073.29492 to 20072.66406, saving model to best_model5.h5\n",
            "18/18 [==============================] - 0s 8ms/step - loss: 3135.0298 - mae: 3135.0298 - val_loss: 20072.6641 - val_mae: 20072.6641\n",
            "Epoch 32/100\n",
            "12/18 [===================>..........] - ETA: 0s - loss: 3134.6624 - mae: 3134.6624\n",
            "Epoch 32: val_mae improved from 20072.66406 to 20072.03516, saving model to best_model5.h5\n",
            "18/18 [==============================] - 0s 8ms/step - loss: 3134.4004 - mae: 3134.4004 - val_loss: 20072.0352 - val_mae: 20072.0352\n",
            "Epoch 33/100\n",
            "13/18 [====================>.........] - ETA: 0s - loss: 3227.6667 - mae: 3227.6667\n",
            "Epoch 33: val_mae improved from 20072.03516 to 20071.41016, saving model to best_model5.h5\n",
            "18/18 [==============================] - 0s 9ms/step - loss: 3133.7734 - mae: 3133.7734 - val_loss: 20071.4102 - val_mae: 20071.4102\n",
            "Epoch 34/100\n",
            "13/18 [====================>.........] - ETA: 0s - loss: 3163.4690 - mae: 3163.4690\n",
            "Epoch 34: val_mae improved from 20071.41016 to 20070.78711, saving model to best_model5.h5\n",
            "18/18 [==============================] - 0s 8ms/step - loss: 3133.1482 - mae: 3133.1482 - val_loss: 20070.7871 - val_mae: 20070.7871\n",
            "Epoch 35/100\n",
            "13/18 [====================>.........] - ETA: 0s - loss: 3177.9402 - mae: 3177.9402\n",
            "Epoch 35: val_mae improved from 20070.78711 to 20069.94922, saving model to best_model5.h5\n",
            "18/18 [==============================] - 0s 8ms/step - loss: 3132.3694 - mae: 3132.3694 - val_loss: 20069.9492 - val_mae: 20069.9492\n",
            "Epoch 36/100\n",
            "11/18 [=================>............] - ETA: 0s - loss: 3153.3892 - mae: 3153.3892\n",
            "Epoch 36: val_mae improved from 20069.94922 to 20069.18750, saving model to best_model5.h5\n",
            "18/18 [==============================] - 0s 8ms/step - loss: 3131.6221 - mae: 3131.6221 - val_loss: 20069.1875 - val_mae: 20069.1875\n",
            "Epoch 37/100\n",
            "13/18 [====================>.........] - ETA: 0s - loss: 3113.6155 - mae: 3113.6155\n",
            "Epoch 37: val_mae improved from 20069.18750 to 20068.33008, saving model to best_model5.h5\n",
            "18/18 [==============================] - 0s 8ms/step - loss: 3130.9006 - mae: 3130.9006 - val_loss: 20068.3301 - val_mae: 20068.3301\n",
            "Epoch 38/100\n",
            "11/18 [=================>............] - ETA: 0s - loss: 3228.4631 - mae: 3228.4631\n",
            "Epoch 38: val_mae improved from 20068.33008 to 20067.54688, saving model to best_model5.h5\n",
            "18/18 [==============================] - 0s 8ms/step - loss: 3130.0271 - mae: 3130.0271 - val_loss: 20067.5469 - val_mae: 20067.5469\n",
            "Epoch 39/100\n",
            "13/18 [====================>.........] - ETA: 0s - loss: 3103.2903 - mae: 3103.2903\n",
            "Epoch 39: val_mae improved from 20067.54688 to 20066.83594, saving model to best_model5.h5\n",
            "18/18 [==============================] - 0s 8ms/step - loss: 3129.2432 - mae: 3129.2432 - val_loss: 20066.8359 - val_mae: 20066.8359\n",
            "Epoch 40/100\n",
            "10/18 [===============>..............] - ETA: 0s - loss: 3168.3228 - mae: 3168.3228\n",
            "Epoch 40: val_mae improved from 20066.83594 to 20066.13867, saving model to best_model5.h5\n",
            "18/18 [==============================] - 0s 13ms/step - loss: 3128.5393 - mae: 3128.5393 - val_loss: 20066.1387 - val_mae: 20066.1387\n",
            "Epoch 41/100\n",
            "10/18 [===============>..............] - ETA: 0s - loss: 3090.6399 - mae: 3090.6399\n",
            "Epoch 41: val_mae improved from 20066.13867 to 20065.45312, saving model to best_model5.h5\n",
            "18/18 [==============================] - 0s 10ms/step - loss: 3127.8481 - mae: 3127.8481 - val_loss: 20065.4531 - val_mae: 20065.4531\n",
            "Epoch 42/100\n",
            "10/18 [===============>..............] - ETA: 0s - loss: 3051.4863 - mae: 3051.4863\n",
            "Epoch 42: val_mae improved from 20065.45312 to 20064.77734, saving model to best_model5.h5\n",
            "18/18 [==============================] - 0s 13ms/step - loss: 3127.1670 - mae: 3127.1670 - val_loss: 20064.7773 - val_mae: 20064.7773\n",
            "Epoch 43/100\n",
            "11/18 [=================>............] - ETA: 0s - loss: 3066.4478 - mae: 3066.4478\n",
            "Epoch 43: val_mae improved from 20064.77734 to 20064.10547, saving model to best_model5.h5\n",
            "18/18 [==============================] - 0s 10ms/step - loss: 3126.4929 - mae: 3126.4929 - val_loss: 20064.1055 - val_mae: 20064.1055\n",
            "Epoch 44/100\n",
            "17/18 [===========================>..] - ETA: 0s - loss: 3135.7100 - mae: 3135.7100\n",
            "Epoch 44: val_mae improved from 20064.10547 to 20063.43750, saving model to best_model5.h5\n",
            "18/18 [==============================] - 0s 12ms/step - loss: 3125.8232 - mae: 3125.8232 - val_loss: 20063.4375 - val_mae: 20063.4375\n",
            "Epoch 45/100\n",
            "17/18 [===========================>..] - ETA: 0s - loss: 3116.5691 - mae: 3116.5691\n",
            "Epoch 45: val_mae improved from 20063.43750 to 20062.77539, saving model to best_model5.h5\n",
            "18/18 [==============================] - 0s 12ms/step - loss: 3125.1580 - mae: 3125.1580 - val_loss: 20062.7754 - val_mae: 20062.7754\n",
            "Epoch 46/100\n",
            "18/18 [==============================] - ETA: 0s - loss: 3124.4971 - mae: 3124.4971\n",
            "Epoch 46: val_mae improved from 20062.77539 to 20062.11523, saving model to best_model5.h5\n",
            "18/18 [==============================] - 0s 11ms/step - loss: 3124.4971 - mae: 3124.4971 - val_loss: 20062.1152 - val_mae: 20062.1152\n",
            "Epoch 47/100\n",
            "16/18 [=========================>....] - ETA: 0s - loss: 3112.8684 - mae: 3112.8684\n",
            "Epoch 47: val_mae improved from 20062.11523 to 20061.45703, saving model to best_model5.h5\n",
            "18/18 [==============================] - 0s 12ms/step - loss: 3123.8376 - mae: 3123.8376 - val_loss: 20061.4570 - val_mae: 20061.4570\n",
            "Epoch 48/100\n",
            "10/18 [===============>..............] - ETA: 0s - loss: 3107.4963 - mae: 3107.4963\n",
            "Epoch 48: val_mae improved from 20061.45703 to 20060.80273, saving model to best_model5.h5\n",
            "18/18 [==============================] - 0s 10ms/step - loss: 3123.1816 - mae: 3123.1816 - val_loss: 20060.8027 - val_mae: 20060.8027\n",
            "Epoch 49/100\n",
            "17/18 [===========================>..] - ETA: 0s - loss: 3126.3843 - mae: 3126.3843\n",
            "Epoch 49: val_mae improved from 20060.80273 to 20060.04297, saving model to best_model5.h5\n",
            "18/18 [==============================] - 0s 12ms/step - loss: 3122.4814 - mae: 3122.4814 - val_loss: 20060.0430 - val_mae: 20060.0430\n",
            "Epoch 50/100\n",
            "17/18 [===========================>..] - ETA: 0s - loss: 3111.1326 - mae: 3111.1326\n",
            "Epoch 50: val_mae improved from 20060.04297 to 20059.30664, saving model to best_model5.h5\n",
            "18/18 [==============================] - 0s 12ms/step - loss: 3121.7283 - mae: 3121.7283 - val_loss: 20059.3066 - val_mae: 20059.3066\n",
            "Epoch 51/100\n",
            "18/18 [==============================] - ETA: 0s - loss: 3120.9988 - mae: 3120.9988\n",
            "Epoch 51: val_mae improved from 20059.30664 to 20058.58594, saving model to best_model5.h5\n",
            "18/18 [==============================] - 0s 12ms/step - loss: 3120.9988 - mae: 3120.9988 - val_loss: 20058.5859 - val_mae: 20058.5859\n",
            "Epoch 52/100\n",
            "10/18 [===============>..............] - ETA: 0s - loss: 3165.8982 - mae: 3165.8982\n",
            "Epoch 52: val_mae improved from 20058.58594 to 20057.87891, saving model to best_model5.h5\n",
            "18/18 [==============================] - 0s 9ms/step - loss: 3120.2852 - mae: 3120.2852 - val_loss: 20057.8789 - val_mae: 20057.8789\n",
            "Epoch 53/100\n",
            "14/18 [======================>.......] - ETA: 0s - loss: 3126.9902 - mae: 3126.9902\n",
            "Epoch 53: val_mae improved from 20057.87891 to 20057.17969, saving model to best_model5.h5\n",
            "18/18 [==============================] - 0s 7ms/step - loss: 3119.5820 - mae: 3119.5820 - val_loss: 20057.1797 - val_mae: 20057.1797\n",
            "Epoch 54/100\n",
            "12/18 [===================>..........] - ETA: 0s - loss: 3058.0195 - mae: 3058.0195\n",
            "Epoch 54: val_mae improved from 20057.17969 to 20056.48828, saving model to best_model5.h5\n",
            "18/18 [==============================] - 0s 8ms/step - loss: 3118.8867 - mae: 3118.8867 - val_loss: 20056.4883 - val_mae: 20056.4883\n",
            "Epoch 55/100\n",
            "13/18 [====================>.........] - ETA: 0s - loss: 3110.4517 - mae: 3110.4517\n",
            "Epoch 55: val_mae improved from 20056.48828 to 20055.80078, saving model to best_model5.h5\n",
            "18/18 [==============================] - 0s 8ms/step - loss: 3118.1970 - mae: 3118.1970 - val_loss: 20055.8008 - val_mae: 20055.8008\n",
            "Epoch 56/100\n",
            "14/18 [======================>.......] - ETA: 0s - loss: 3018.1108 - mae: 3018.1108\n",
            "Epoch 56: val_mae improved from 20055.80078 to 20055.11719, saving model to best_model5.h5\n",
            "18/18 [==============================] - 0s 8ms/step - loss: 3117.5110 - mae: 3117.5110 - val_loss: 20055.1172 - val_mae: 20055.1172\n",
            "Epoch 57/100\n",
            "13/18 [====================>.........] - ETA: 0s - loss: 3057.9868 - mae: 3057.9868\n",
            "Epoch 57: val_mae improved from 20055.11719 to 20054.43750, saving model to best_model5.h5\n",
            "18/18 [==============================] - 0s 8ms/step - loss: 3116.8293 - mae: 3116.8293 - val_loss: 20054.4375 - val_mae: 20054.4375\n",
            "Epoch 58/100\n",
            "14/18 [======================>.......] - ETA: 0s - loss: 3101.6206 - mae: 3101.6206\n",
            "Epoch 58: val_mae improved from 20054.43750 to 20053.75977, saving model to best_model5.h5\n",
            "18/18 [==============================] - 0s 7ms/step - loss: 3116.1509 - mae: 3116.1509 - val_loss: 20053.7598 - val_mae: 20053.7598\n",
            "Epoch 59/100\n",
            "13/18 [====================>.........] - ETA: 0s - loss: 3175.1003 - mae: 3175.1003\n",
            "Epoch 59: val_mae improved from 20053.75977 to 20053.08594, saving model to best_model5.h5\n",
            "18/18 [==============================] - 0s 8ms/step - loss: 3115.4751 - mae: 3115.4751 - val_loss: 20053.0859 - val_mae: 20053.0859\n",
            "Epoch 60/100\n",
            "12/18 [===================>..........] - ETA: 0s - loss: 2985.1130 - mae: 2985.1130\n",
            "Epoch 60: val_mae improved from 20053.08594 to 20052.41406, saving model to best_model5.h5\n",
            "18/18 [==============================] - 0s 8ms/step - loss: 3114.8020 - mae: 3114.8020 - val_loss: 20052.4141 - val_mae: 20052.4141\n",
            "Epoch 61/100\n",
            "14/18 [======================>.......] - ETA: 0s - loss: 3031.0715 - mae: 3031.0715\n",
            "Epoch 61: val_mae improved from 20052.41406 to 20051.74414, saving model to best_model5.h5\n",
            "18/18 [==============================] - 0s 8ms/step - loss: 3114.1304 - mae: 3114.1304 - val_loss: 20051.7441 - val_mae: 20051.7441\n",
            "Epoch 62/100\n",
            "13/18 [====================>.........] - ETA: 0s - loss: 3081.2461 - mae: 3081.2461\n",
            "Epoch 62: val_mae improved from 20051.74414 to 20051.07617, saving model to best_model5.h5\n",
            "18/18 [==============================] - 0s 8ms/step - loss: 3113.4607 - mae: 3113.4607 - val_loss: 20051.0762 - val_mae: 20051.0762\n",
            "Epoch 63/100\n",
            "12/18 [===================>..........] - ETA: 0s - loss: 3075.7078 - mae: 3075.7078\n",
            "Epoch 63: val_mae improved from 20051.07617 to 20050.40820, saving model to best_model5.h5\n",
            "18/18 [==============================] - 0s 8ms/step - loss: 3112.7939 - mae: 3112.7939 - val_loss: 20050.4082 - val_mae: 20050.4082\n",
            "Epoch 64/100\n",
            "13/18 [====================>.........] - ETA: 0s - loss: 3191.7512 - mae: 3191.7512\n",
            "Epoch 64: val_mae improved from 20050.40820 to 20049.74414, saving model to best_model5.h5\n",
            "18/18 [==============================] - 0s 8ms/step - loss: 3112.1272 - mae: 3112.1272 - val_loss: 20049.7441 - val_mae: 20049.7441\n",
            "Epoch 65/100\n",
            "14/18 [======================>.......] - ETA: 0s - loss: 3188.1824 - mae: 3188.1824\n",
            "Epoch 65: val_mae improved from 20049.74414 to 20048.98438, saving model to best_model5.h5\n",
            "18/18 [==============================] - 0s 8ms/step - loss: 3111.4602 - mae: 3111.4602 - val_loss: 20048.9844 - val_mae: 20048.9844\n",
            "Epoch 66/100\n",
            "14/18 [======================>.......] - ETA: 0s - loss: 3079.6682 - mae: 3079.6682\n",
            "Epoch 66: val_mae improved from 20048.98438 to 20048.22656, saving model to best_model5.h5\n",
            "18/18 [==============================] - 0s 8ms/step - loss: 3110.6631 - mae: 3110.6631 - val_loss: 20048.2266 - val_mae: 20048.2266\n",
            "Epoch 67/100\n",
            "13/18 [====================>.........] - ETA: 0s - loss: 3148.2932 - mae: 3148.2932\n",
            "Epoch 67: val_mae improved from 20048.22656 to 20047.47852, saving model to best_model5.h5\n",
            "18/18 [==============================] - 0s 8ms/step - loss: 3109.9065 - mae: 3109.9065 - val_loss: 20047.4785 - val_mae: 20047.4785\n",
            "Epoch 68/100\n",
            "13/18 [====================>.........] - ETA: 0s - loss: 3132.1577 - mae: 3132.1577\n",
            "Epoch 68: val_mae improved from 20047.47852 to 20046.74805, saving model to best_model5.h5\n",
            "18/18 [==============================] - 0s 8ms/step - loss: 3109.1667 - mae: 3109.1667 - val_loss: 20046.7480 - val_mae: 20046.7480\n",
            "Epoch 69/100\n",
            "13/18 [====================>.........] - ETA: 0s - loss: 3092.1550 - mae: 3092.1550\n",
            "Epoch 69: val_mae improved from 20046.74805 to 20046.02734, saving model to best_model5.h5\n",
            "18/18 [==============================] - 0s 8ms/step - loss: 3108.4417 - mae: 3108.4417 - val_loss: 20046.0273 - val_mae: 20046.0273\n",
            "Epoch 70/100\n",
            "14/18 [======================>.......] - ETA: 0s - loss: 3015.0840 - mae: 3015.0840\n",
            "Epoch 70: val_mae improved from 20046.02734 to 20045.31641, saving model to best_model5.h5\n",
            "18/18 [==============================] - 0s 8ms/step - loss: 3107.7253 - mae: 3107.7253 - val_loss: 20045.3164 - val_mae: 20045.3164\n",
            "Epoch 71/100\n",
            "14/18 [======================>.......] - ETA: 0s - loss: 3127.3633 - mae: 3127.3633\n",
            "Epoch 71: val_mae improved from 20045.31641 to 20044.60938, saving model to best_model5.h5\n",
            "18/18 [==============================] - 0s 7ms/step - loss: 3107.0156 - mae: 3107.0156 - val_loss: 20044.6094 - val_mae: 20044.6094\n",
            "Epoch 72/100\n",
            "13/18 [====================>.........] - ETA: 0s - loss: 3144.5256 - mae: 3144.5256\n",
            "Epoch 72: val_mae improved from 20044.60938 to 20043.90820, saving model to best_model5.h5\n",
            "18/18 [==============================] - 0s 8ms/step - loss: 3106.3115 - mae: 3106.3115 - val_loss: 20043.9082 - val_mae: 20043.9082\n",
            "Epoch 73/100\n",
            "12/18 [===================>..........] - ETA: 0s - loss: 3170.4766 - mae: 3170.4766\n",
            "Epoch 73: val_mae improved from 20043.90820 to 20043.20898, saving model to best_model5.h5\n",
            "18/18 [==============================] - 0s 8ms/step - loss: 3105.6113 - mae: 3105.6113 - val_loss: 20043.2090 - val_mae: 20043.2090\n",
            "Epoch 74/100\n",
            "12/18 [===================>..........] - ETA: 0s - loss: 3051.3918 - mae: 3051.3918\n",
            "Epoch 74: val_mae improved from 20043.20898 to 20042.51367, saving model to best_model5.h5\n",
            "18/18 [==============================] - 0s 8ms/step - loss: 3104.9143 - mae: 3104.9143 - val_loss: 20042.5137 - val_mae: 20042.5137\n",
            "Epoch 75/100\n",
            "13/18 [====================>.........] - ETA: 0s - loss: 3165.5588 - mae: 3165.5588\n",
            "Epoch 75: val_mae improved from 20042.51367 to 20041.82227, saving model to best_model5.h5\n",
            "18/18 [==============================] - 0s 8ms/step - loss: 3104.2205 - mae: 3104.2205 - val_loss: 20041.8223 - val_mae: 20041.8223\n",
            "Epoch 76/100\n",
            "14/18 [======================>.......] - ETA: 0s - loss: 3077.2473 - mae: 3077.2473\n",
            "Epoch 76: val_mae improved from 20041.82227 to 20041.13086, saving model to best_model5.h5\n",
            "18/18 [==============================] - 0s 8ms/step - loss: 3103.5293 - mae: 3103.5293 - val_loss: 20041.1309 - val_mae: 20041.1309\n",
            "Epoch 77/100\n",
            "13/18 [====================>.........] - ETA: 0s - loss: 3111.8486 - mae: 3111.8486\n",
            "Epoch 77: val_mae improved from 20041.13086 to 20040.44336, saving model to best_model5.h5\n",
            "18/18 [==============================] - 0s 8ms/step - loss: 3102.8396 - mae: 3102.8396 - val_loss: 20040.4434 - val_mae: 20040.4434\n",
            "Epoch 78/100\n",
            "12/18 [===================>..........] - ETA: 0s - loss: 3113.9551 - mae: 3113.9551\n",
            "Epoch 78: val_mae improved from 20040.44336 to 20039.75781, saving model to best_model5.h5\n",
            "18/18 [==============================] - 0s 8ms/step - loss: 3102.1526 - mae: 3102.1526 - val_loss: 20039.7578 - val_mae: 20039.7578\n",
            "Epoch 79/100\n",
            "14/18 [======================>.......] - ETA: 0s - loss: 3074.7324 - mae: 3074.7324\n",
            "Epoch 79: val_mae improved from 20039.75781 to 20039.07227, saving model to best_model5.h5\n",
            "18/18 [==============================] - 0s 9ms/step - loss: 3101.4675 - mae: 3101.4675 - val_loss: 20039.0723 - val_mae: 20039.0723\n",
            "Epoch 80/100\n",
            "12/18 [===================>..........] - ETA: 0s - loss: 3118.0686 - mae: 3118.0686\n",
            "Epoch 80: val_mae improved from 20039.07227 to 20038.39062, saving model to best_model5.h5\n",
            "18/18 [==============================] - 0s 8ms/step - loss: 3100.7839 - mae: 3100.7839 - val_loss: 20038.3906 - val_mae: 20038.3906\n",
            "Epoch 81/100\n",
            "13/18 [====================>.........] - ETA: 0s - loss: 3104.8425 - mae: 3104.8425\n",
            "Epoch 81: val_mae improved from 20038.39062 to 20037.70898, saving model to best_model5.h5\n",
            "18/18 [==============================] - 0s 9ms/step - loss: 3100.1016 - mae: 3100.1016 - val_loss: 20037.7090 - val_mae: 20037.7090\n",
            "Epoch 82/100\n",
            "13/18 [====================>.........] - ETA: 0s - loss: 3097.5295 - mae: 3097.5295\n",
            "Epoch 82: val_mae improved from 20037.70898 to 20037.02734, saving model to best_model5.h5\n",
            "18/18 [==============================] - 0s 7ms/step - loss: 3099.4207 - mae: 3099.4207 - val_loss: 20037.0273 - val_mae: 20037.0273\n",
            "Epoch 83/100\n",
            "13/18 [====================>.........] - ETA: 0s - loss: 3125.9893 - mae: 3125.9893\n",
            "Epoch 83: val_mae improved from 20037.02734 to 20036.34961, saving model to best_model5.h5\n",
            "18/18 [==============================] - 0s 8ms/step - loss: 3098.7412 - mae: 3098.7412 - val_loss: 20036.3496 - val_mae: 20036.3496\n",
            "Epoch 84/100\n",
            "14/18 [======================>.......] - ETA: 0s - loss: 3069.6345 - mae: 3069.6345\n",
            "Epoch 84: val_mae improved from 20036.34961 to 20035.67188, saving model to best_model5.h5\n",
            "18/18 [==============================] - 0s 8ms/step - loss: 3098.0627 - mae: 3098.0627 - val_loss: 20035.6719 - val_mae: 20035.6719\n",
            "Epoch 85/100\n",
            "14/18 [======================>.......] - ETA: 0s - loss: 3030.6497 - mae: 3030.6497\n",
            "Epoch 85: val_mae improved from 20035.67188 to 20034.99414, saving model to best_model5.h5\n",
            "18/18 [==============================] - 0s 7ms/step - loss: 3097.3857 - mae: 3097.3857 - val_loss: 20034.9941 - val_mae: 20034.9941\n",
            "Epoch 86/100\n",
            "13/18 [====================>.........] - ETA: 0s - loss: 3211.9260 - mae: 3211.9260\n",
            "Epoch 86: val_mae improved from 20034.99414 to 20034.32031, saving model to best_model5.h5\n",
            "18/18 [==============================] - 0s 8ms/step - loss: 3096.7087 - mae: 3096.7087 - val_loss: 20034.3203 - val_mae: 20034.3203\n",
            "Epoch 87/100\n",
            "12/18 [===================>..........] - ETA: 0s - loss: 3133.1604 - mae: 3133.1604\n",
            "Epoch 87: val_mae improved from 20034.32031 to 20033.64453, saving model to best_model5.h5\n",
            "18/18 [==============================] - 0s 8ms/step - loss: 3096.0337 - mae: 3096.0337 - val_loss: 20033.6445 - val_mae: 20033.6445\n",
            "Epoch 88/100\n",
            "13/18 [====================>.........] - ETA: 0s - loss: 3082.7622 - mae: 3082.7622\n",
            "Epoch 88: val_mae improved from 20033.64453 to 20032.97070, saving model to best_model5.h5\n",
            "18/18 [==============================] - 0s 8ms/step - loss: 3095.3594 - mae: 3095.3594 - val_loss: 20032.9707 - val_mae: 20032.9707\n",
            "Epoch 89/100\n",
            "12/18 [===================>..........] - ETA: 0s - loss: 3049.1035 - mae: 3049.1035\n",
            "Epoch 89: val_mae improved from 20032.97070 to 20032.29688, saving model to best_model5.h5\n",
            "18/18 [==============================] - 0s 8ms/step - loss: 3094.6860 - mae: 3094.6860 - val_loss: 20032.2969 - val_mae: 20032.2969\n",
            "Epoch 90/100\n",
            "13/18 [====================>.........] - ETA: 0s - loss: 3031.8232 - mae: 3031.8232\n",
            "Epoch 90: val_mae improved from 20032.29688 to 20031.62500, saving model to best_model5.h5\n",
            "18/18 [==============================] - 0s 8ms/step - loss: 3094.0137 - mae: 3094.0137 - val_loss: 20031.6250 - val_mae: 20031.6250\n",
            "Epoch 91/100\n",
            "14/18 [======================>.......] - ETA: 0s - loss: 3096.6770 - mae: 3096.6770\n",
            "Epoch 91: val_mae improved from 20031.62500 to 20030.95312, saving model to best_model5.h5\n",
            "18/18 [==============================] - 0s 8ms/step - loss: 3093.3416 - mae: 3093.3416 - val_loss: 20030.9531 - val_mae: 20030.9531\n",
            "Epoch 92/100\n",
            "14/18 [======================>.......] - ETA: 0s - loss: 3036.4351 - mae: 3036.4351\n",
            "Epoch 92: val_mae improved from 20030.95312 to 20030.28320, saving model to best_model5.h5\n",
            "18/18 [==============================] - 0s 7ms/step - loss: 3092.6702 - mae: 3092.6702 - val_loss: 20030.2832 - val_mae: 20030.2832\n",
            "Epoch 93/100\n",
            "11/18 [=================>............] - ETA: 0s - loss: 3150.3525 - mae: 3150.3525\n",
            "Epoch 93: val_mae improved from 20030.28320 to 20029.61328, saving model to best_model5.h5\n",
            "18/18 [==============================] - 0s 9ms/step - loss: 3092.0000 - mae: 3092.0000 - val_loss: 20029.6133 - val_mae: 20029.6133\n",
            "Epoch 94/100\n",
            "13/18 [====================>.........] - ETA: 0s - loss: 3081.1741 - mae: 3081.1741\n",
            "Epoch 94: val_mae improved from 20029.61328 to 20028.94336, saving model to best_model5.h5\n",
            "18/18 [==============================] - 0s 8ms/step - loss: 3091.3306 - mae: 3091.3306 - val_loss: 20028.9434 - val_mae: 20028.9434\n",
            "Epoch 95/100\n",
            "13/18 [====================>.........] - ETA: 0s - loss: 3032.4949 - mae: 3032.4949\n",
            "Epoch 95: val_mae improved from 20028.94336 to 20028.27539, saving model to best_model5.h5\n",
            "18/18 [==============================] - 0s 8ms/step - loss: 3090.6614 - mae: 3090.6614 - val_loss: 20028.2754 - val_mae: 20028.2754\n",
            "Epoch 96/100\n",
            "13/18 [====================>.........] - ETA: 0s - loss: 3011.8462 - mae: 3011.8462\n",
            "Epoch 96: val_mae improved from 20028.27539 to 20027.60742, saving model to best_model5.h5\n",
            "18/18 [==============================] - 0s 8ms/step - loss: 3089.9929 - mae: 3089.9929 - val_loss: 20027.6074 - val_mae: 20027.6074\n",
            "Epoch 97/100\n",
            "10/18 [===============>..............] - ETA: 0s - loss: 3067.0242 - mae: 3067.0242\n",
            "Epoch 97: val_mae improved from 20027.60742 to 20026.93945, saving model to best_model5.h5\n",
            "18/18 [==============================] - 0s 8ms/step - loss: 3089.3247 - mae: 3089.3247 - val_loss: 20026.9395 - val_mae: 20026.9395\n",
            "Epoch 98/100\n",
            "13/18 [====================>.........] - ETA: 0s - loss: 2980.0730 - mae: 2980.0730\n",
            "Epoch 98: val_mae improved from 20026.93945 to 20026.27148, saving model to best_model5.h5\n",
            "18/18 [==============================] - 0s 8ms/step - loss: 3088.6570 - mae: 3088.6570 - val_loss: 20026.2715 - val_mae: 20026.2715\n",
            "Epoch 99/100\n",
            "13/18 [====================>.........] - ETA: 0s - loss: 3060.9988 - mae: 3060.9988\n",
            "Epoch 99: val_mae improved from 20026.27148 to 20025.60547, saving model to best_model5.h5\n",
            "18/18 [==============================] - 0s 8ms/step - loss: 3087.9905 - mae: 3087.9905 - val_loss: 20025.6055 - val_mae: 20025.6055\n",
            "Epoch 100/100\n",
            "13/18 [====================>.........] - ETA: 0s - loss: 3048.6494 - mae: 3048.6494\n",
            "Epoch 100: val_mae improved from 20025.60547 to 20024.93945, saving model to best_model5.h5\n",
            "18/18 [==============================] - 0s 8ms/step - loss: 3087.3242 - mae: 3087.3242 - val_loss: 20024.9395 - val_mae: 20024.9395\n"
          ]
        },
        {
          "output_type": "execute_result",
          "data": {
            "text/plain": [
              "<keras.callbacks.History at 0x7ae7492eae30>"
            ]
          },
          "metadata": {},
          "execution_count": 186
        }
      ]
    },
    {
      "cell_type": "code",
      "source": [
        "model5.evaluate(x_test4, y_test4)\n",
        "\n"
      ],
      "metadata": {
        "colab": {
          "base_uri": "https://localhost:8080/"
        },
        "id": "1JdT_rKyMx1E",
        "outputId": "fb8b2bef-8adf-4e94-ac92-32eb81ed7038"
      },
      "execution_count": 187,
      "outputs": [
        {
          "output_type": "stream",
          "name": "stdout",
          "text": [
            "18/18 [==============================] - 0s 3ms/step - loss: 20024.9375 - mae: 20024.9375\n"
          ]
        },
        {
          "output_type": "execute_result",
          "data": {
            "text/plain": [
              "[20024.9375, 20024.9375]"
            ]
          },
          "metadata": {},
          "execution_count": 187
        }
      ]
    }
  ]
}