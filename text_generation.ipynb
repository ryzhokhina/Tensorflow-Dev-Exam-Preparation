{
  "nbformat": 4,
  "nbformat_minor": 0,
  "metadata": {
    "colab": {
      "provenance": [],
      "gpuType": "T4",
      "mount_file_id": "1IVKLWcUK9t_OlxG1MhU2AQXsIB7wyJjJ",
      "authorship_tag": "ABX9TyM3Cx05Bkqa9/5MugkHPQmB",
      "include_colab_link": true
    },
    "kernelspec": {
      "name": "python3",
      "display_name": "Python 3"
    },
    "language_info": {
      "name": "python"
    },
    "accelerator": "GPU"
  },
  "cells": [
    {
      "cell_type": "markdown",
      "metadata": {
        "id": "view-in-github",
        "colab_type": "text"
      },
      "source": [
        "<a href=\"https://colab.research.google.com/github/ryzhokhina/Tensorflow-Dev-Exam-Preparation/blob/main/text_generation.ipynb\" target=\"_parent\"><img src=\"https://colab.research.google.com/assets/colab-badge.svg\" alt=\"Open In Colab\"/></a>"
      ]
    },
    {
      "cell_type": "code",
      "execution_count": 1,
      "metadata": {
        "id": "dWjnS_xseYTa"
      },
      "outputs": [],
      "source": [
        "from tensorflow.keras.preprocessing.sequence import pad_sequences\n",
        "from tensorflow.keras.layers import Embedding, LSTM, Dense, Dropout, Bidirectional\n",
        "from tensorflow.keras.preprocessing.text import Tokenizer\n",
        "from tensorflow.keras.models import Sequential\n",
        "from tensorflow.keras.optimizers import Adam\n",
        "from tensorflow.keras import regularizers\n",
        "from tensorflow.keras.losses import SparseCategoricalCrossentropy\n",
        "import tensorflow.keras.utils as ku\n",
        "import numpy as np\n",
        "import tensorflow as tf"
      ]
    },
    {
      "cell_type": "code",
      "source": [
        "!wget --no-check-certificate \\\n",
        "    https://storage.googleapis.com/learning-datasets/irish-lyrics-eof.txt \\\n",
        "    -O irish-lyrics-eof.txt"
      ],
      "metadata": {
        "colab": {
          "base_uri": "https://localhost:8080/"
        },
        "id": "oejfb1bCe-i5",
        "outputId": "39dafb1e-e946-480f-d9ba-d1281b662236"
      },
      "execution_count": 2,
      "outputs": [
        {
          "output_type": "stream",
          "name": "stdout",
          "text": [
            "--2023-10-05 17:00:16--  https://storage.googleapis.com/learning-datasets/irish-lyrics-eof.txt\n",
            "Resolving storage.googleapis.com (storage.googleapis.com)... 142.251.2.207, 142.250.101.207, 2607:f8b0:4023:c06::cf, ...\n",
            "Connecting to storage.googleapis.com (storage.googleapis.com)|142.251.2.207|:443... connected.\n",
            "HTTP request sent, awaiting response... 200 OK\n",
            "Length: 68970 (67K) [text/plain]\n",
            "Saving to: ‘irish-lyrics-eof.txt’\n",
            "\n",
            "\rirish-lyrics-eof.tx   0%[                    ]       0  --.-KB/s               \rirish-lyrics-eof.tx 100%[===================>]  67.35K  --.-KB/s    in 0.001s  \n",
            "\n",
            "2023-10-05 17:00:16 (122 MB/s) - ‘irish-lyrics-eof.txt’ saved [68970/68970]\n",
            "\n"
          ]
        }
      ]
    },
    {
      "cell_type": "code",
      "source": [
        "data = open(r\"irish-lyrics-eof.txt\").read()\n",
        "corpus = data.lower().split(\"\\n\")\n"
      ],
      "metadata": {
        "id": "GE5UM5tae_mI"
      },
      "execution_count": 3,
      "outputs": []
    },
    {
      "cell_type": "code",
      "source": [
        "corpus[1]"
      ],
      "metadata": {
        "colab": {
          "base_uri": "https://localhost:8080/",
          "height": 35
        },
        "id": "gUO-irgckbo2",
        "outputId": "db762c06-64b5-4af8-8ac8-b0bb312005b4"
      },
      "execution_count": 4,
      "outputs": [
        {
          "output_type": "execute_result",
          "data": {
            "text/plain": [
              "'and you that are blooming in your prime'"
            ],
            "application/vnd.google.colaboratory.intrinsic+json": {
              "type": "string"
            }
          },
          "metadata": {},
          "execution_count": 4
        }
      ]
    },
    {
      "cell_type": "code",
      "source": [
        "len(corpus)"
      ],
      "metadata": {
        "colab": {
          "base_uri": "https://localhost:8080/"
        },
        "id": "Mg3ZF9FJiD02",
        "outputId": "b3d6e921-ad32-4566-e1a6-7365fbb04e34"
      },
      "execution_count": 5,
      "outputs": [
        {
          "output_type": "execute_result",
          "data": {
            "text/plain": [
              "1693"
            ]
          },
          "metadata": {},
          "execution_count": 5
        }
      ]
    },
    {
      "cell_type": "code",
      "source": [
        "tokenizer = Tokenizer()\n",
        "tokenizer.fit_on_texts(corpus)\n",
        "total_words = len(tokenizer.word_index) + 1\n",
        "\n",
        "total_words"
      ],
      "metadata": {
        "colab": {
          "base_uri": "https://localhost:8080/"
        },
        "id": "nF2RRfDfiF2F",
        "outputId": "dbfed55a-b17f-4d56-cfb1-ddc28f247cd9"
      },
      "execution_count": 6,
      "outputs": [
        {
          "output_type": "execute_result",
          "data": {
            "text/plain": [
              "2690"
            ]
          },
          "metadata": {},
          "execution_count": 6
        }
      ]
    },
    {
      "cell_type": "code",
      "source": [
        "token_list = tokenizer.texts_to_sequences(corpus[1])"
      ],
      "metadata": {
        "id": "w2J1mtVAjjBs"
      },
      "execution_count": 7,
      "outputs": []
    },
    {
      "cell_type": "code",
      "source": [
        "tokenizer.texts_to_sequences([corpus[1]])[0]"
      ],
      "metadata": {
        "colab": {
          "base_uri": "https://localhost:8080/"
        },
        "id": "NnurritQjw9T",
        "outputId": "2c4b7586-ebc1-4ccc-d9df-32f63dbc88fa"
      },
      "execution_count": 8,
      "outputs": [
        {
          "output_type": "execute_result",
          "data": {
            "text/plain": [
              "[2, 11, 15, 31, 361, 8, 24, 1218]"
            ]
          },
          "metadata": {},
          "execution_count": 8
        }
      ]
    },
    {
      "cell_type": "code",
      "source": [
        "# create input sequences using list of tokens\n",
        "input_sequences = []\n",
        "for line in corpus:\n",
        "\ttoken_list = tokenizer.texts_to_sequences([line])[0]\n",
        "\tfor i in range(1, len(token_list)):\n",
        "\t\tn_gram_sequence = token_list[:i+1]\n",
        "\t\tinput_sequences.append(n_gram_sequence)"
      ],
      "metadata": {
        "id": "T8u-lWP2i6Ft"
      },
      "execution_count": 9,
      "outputs": []
    },
    {
      "cell_type": "code",
      "source": [
        "input_sequences[:10]"
      ],
      "metadata": {
        "colab": {
          "base_uri": "https://localhost:8080/"
        },
        "id": "-l8Ad3_2j7rD",
        "outputId": "542e08a2-6500-4854-d227-e82a223f400e"
      },
      "execution_count": 10,
      "outputs": [
        {
          "output_type": "execute_result",
          "data": {
            "text/plain": [
              "[[51, 12],\n",
              " [51, 12, 96],\n",
              " [51, 12, 96, 1217],\n",
              " [51, 12, 96, 1217, 48],\n",
              " [51, 12, 96, 1217, 48, 2],\n",
              " [51, 12, 96, 1217, 48, 2, 69],\n",
              " [2, 11],\n",
              " [2, 11, 15],\n",
              " [2, 11, 15, 31],\n",
              " [2, 11, 15, 31, 361]]"
            ]
          },
          "metadata": {},
          "execution_count": 10
        }
      ]
    },
    {
      "cell_type": "code",
      "source": [
        "max_lenght = max([len(s) for s in input_sequences])\n",
        "max_lenght\n"
      ],
      "metadata": {
        "colab": {
          "base_uri": "https://localhost:8080/"
        },
        "id": "FyHZ8mHJqSHf",
        "outputId": "ece30e91-7233-4a3d-dd94-beaa1c2df30f"
      },
      "execution_count": 11,
      "outputs": [
        {
          "output_type": "execute_result",
          "data": {
            "text/plain": [
              "16"
            ]
          },
          "metadata": {},
          "execution_count": 11
        }
      ]
    },
    {
      "cell_type": "code",
      "source": [
        "input_data = pad_sequences(input_sequences, maxlen=max_lenght, padding='pre')\n"
      ],
      "metadata": {
        "id": "v8QIZCpdqgud"
      },
      "execution_count": 12,
      "outputs": []
    },
    {
      "cell_type": "code",
      "source": [
        "len(input_data)"
      ],
      "metadata": {
        "colab": {
          "base_uri": "https://localhost:8080/"
        },
        "id": "jY2Zx-_JqtsU",
        "outputId": "690c4892-25d3-4d1d-b95b-9c98c0633564"
      },
      "execution_count": 13,
      "outputs": [
        {
          "output_type": "execute_result",
          "data": {
            "text/plain": [
              "12038"
            ]
          },
          "metadata": {},
          "execution_count": 13
        }
      ]
    },
    {
      "cell_type": "code",
      "source": [
        "seq, label = input_data[:,:-1], input_data[:,-1]\n",
        "seq.shape, label.shape\n"
      ],
      "metadata": {
        "colab": {
          "base_uri": "https://localhost:8080/"
        },
        "id": "IN__-4w4q1zC",
        "outputId": "0e348412-1b00-4b95-fbb2-34840680dffc"
      },
      "execution_count": 14,
      "outputs": [
        {
          "output_type": "execute_result",
          "data": {
            "text/plain": [
              "((12038, 15), (12038,))"
            ]
          },
          "metadata": {},
          "execution_count": 14
        }
      ]
    },
    {
      "cell_type": "code",
      "source": [
        "train_ds = tf.data.Dataset.from_tensor_slices((seq, label))\n",
        "train_ds = train_ds.shuffle(1000).batch(32).prefetch(tf.data.AUTOTUNE)\n",
        "\n"
      ],
      "metadata": {
        "id": "OYYZFklTxNfW"
      },
      "execution_count": 15,
      "outputs": []
    },
    {
      "cell_type": "code",
      "source": [
        "model = Sequential()\n",
        "model.add(Embedding(total_words, 100, input_length=max_lenght-1))\n",
        "model.add(Bidirectional(LSTM(150, return_sequences = True)))\n",
        "model.add(Dropout(0.2))\n",
        "model.add(LSTM(100))\n",
        "model.add(Dense(total_words/2, activation='relu', kernel_regularizer=regularizers.l2(0.01)))\n",
        "model.add(Dense(total_words, activation='softmax'))\n",
        "model.compile(loss=SparseCategoricalCrossentropy() , optimizer='adam', metrics=['accuracy'])\n",
        "print(model.summary())\n"
      ],
      "metadata": {
        "colab": {
          "base_uri": "https://localhost:8080/"
        },
        "id": "MFIx-98Owod7",
        "outputId": "4ee06cec-0400-4d22-cbb8-ccabb0b30c50"
      },
      "execution_count": 16,
      "outputs": [
        {
          "output_type": "stream",
          "name": "stdout",
          "text": [
            "Model: \"sequential\"\n",
            "_________________________________________________________________\n",
            " Layer (type)                Output Shape              Param #   \n",
            "=================================================================\n",
            " embedding (Embedding)       (None, 15, 100)           269000    \n",
            "                                                                 \n",
            " bidirectional (Bidirection  (None, 15, 300)           301200    \n",
            " al)                                                             \n",
            "                                                                 \n",
            " dropout (Dropout)           (None, 15, 300)           0         \n",
            "                                                                 \n",
            " lstm_1 (LSTM)               (None, 100)               160400    \n",
            "                                                                 \n",
            " dense (Dense)               (None, 1345)              135845    \n",
            "                                                                 \n",
            " dense_1 (Dense)             (None, 2690)              3620740   \n",
            "                                                                 \n",
            "=================================================================\n",
            "Total params: 4487185 (17.12 MB)\n",
            "Trainable params: 4487185 (17.12 MB)\n",
            "Non-trainable params: 0 (0.00 Byte)\n",
            "_________________________________________________________________\n",
            "None\n"
          ]
        }
      ]
    },
    {
      "cell_type": "code",
      "source": [
        "# create a model\n",
        "def get_lstm_model(vocab_size, input_size = max_lenght-1, embedding_dim=128, rnn_units=256):\n",
        "    model = tf.keras.Sequential([\n",
        "        tf.keras.Input(shape=(input_size,), dtype=tf.int64),\n",
        "        tf.keras.layers.Embedding(vocab_size, embedding_dim),\n",
        "        tf.keras.layers.LSTM(rnn_units),\n",
        "        tf.keras.layers.Dropout(0.2),\n",
        "        tf.keras.layers.Dense(vocab_size, activation='softmax')\n",
        "    ])\n",
        "    model.compile(optimizer='adam', loss=tf.keras.losses.SparseCategoricalCrossentropy(), metrics=['accuracy'])\n",
        "    return model"
      ],
      "metadata": {
        "id": "Zaop7Ixyyy16"
      },
      "execution_count": 24,
      "outputs": []
    },
    {
      "cell_type": "code",
      "source": [
        "model = get_lstm_model(total_words)\n"
      ],
      "metadata": {
        "id": "18bhBS5gy1jy"
      },
      "execution_count": 25,
      "outputs": []
    },
    {
      "cell_type": "code",
      "source": [
        "history = model.fit(train_ds, epochs=50, verbose=1)\n"
      ],
      "metadata": {
        "colab": {
          "base_uri": "https://localhost:8080/"
        },
        "id": "k-1IBEOerA6D",
        "outputId": "b13b4f2a-a18c-44d4-ed18-3fa0a220ef07"
      },
      "execution_count": 27,
      "outputs": [
        {
          "output_type": "stream",
          "name": "stdout",
          "text": [
            "Epoch 1/50\n",
            "377/377 [==============================] - 2s 6ms/step - loss: 0.5100 - accuracy: 0.8678\n",
            "Epoch 2/50\n",
            "377/377 [==============================] - 2s 5ms/step - loss: 0.5088 - accuracy: 0.8659\n",
            "Epoch 3/50\n",
            "377/377 [==============================] - 2s 5ms/step - loss: 0.4957 - accuracy: 0.8705\n",
            "Epoch 4/50\n",
            "377/377 [==============================] - 2s 6ms/step - loss: 0.4870 - accuracy: 0.8702\n",
            "Epoch 5/50\n",
            "377/377 [==============================] - 3s 7ms/step - loss: 0.4835 - accuracy: 0.8725\n",
            "Epoch 6/50\n",
            "377/377 [==============================] - 2s 6ms/step - loss: 0.4846 - accuracy: 0.8699\n",
            "Epoch 7/50\n",
            "377/377 [==============================] - 2s 5ms/step - loss: 0.4871 - accuracy: 0.8705\n",
            "Epoch 8/50\n",
            "377/377 [==============================] - 2s 7ms/step - loss: 0.4792 - accuracy: 0.8714\n",
            "Epoch 9/50\n",
            "377/377 [==============================] - 3s 7ms/step - loss: 0.4689 - accuracy: 0.8743\n",
            "Epoch 10/50\n",
            "377/377 [==============================] - 2s 6ms/step - loss: 0.4641 - accuracy: 0.8718\n",
            "Epoch 11/50\n",
            "377/377 [==============================] - 3s 7ms/step - loss: 0.4569 - accuracy: 0.8728\n",
            "Epoch 12/50\n",
            "377/377 [==============================] - 2s 5ms/step - loss: 0.4582 - accuracy: 0.8748\n",
            "Epoch 13/50\n",
            "377/377 [==============================] - 2s 5ms/step - loss: 0.4654 - accuracy: 0.8719\n",
            "Epoch 14/50\n",
            "377/377 [==============================] - 2s 6ms/step - loss: 0.4553 - accuracy: 0.8750\n",
            "Epoch 15/50\n",
            "377/377 [==============================] - 2s 5ms/step - loss: 0.4519 - accuracy: 0.8737\n",
            "Epoch 16/50\n",
            "377/377 [==============================] - 3s 7ms/step - loss: 0.4457 - accuracy: 0.8776\n",
            "Epoch 17/50\n",
            "377/377 [==============================] - 2s 6ms/step - loss: 0.4509 - accuracy: 0.8769\n",
            "Epoch 18/50\n",
            "377/377 [==============================] - 2s 5ms/step - loss: 0.4436 - accuracy: 0.8779\n",
            "Epoch 19/50\n",
            "377/377 [==============================] - 2s 5ms/step - loss: 0.4453 - accuracy: 0.8737\n",
            "Epoch 20/50\n",
            "377/377 [==============================] - 2s 6ms/step - loss: 0.4400 - accuracy: 0.8753\n",
            "Epoch 21/50\n",
            "377/377 [==============================] - 3s 7ms/step - loss: 0.4399 - accuracy: 0.8737\n",
            "Epoch 22/50\n",
            "377/377 [==============================] - 2s 5ms/step - loss: 0.4333 - accuracy: 0.8773\n",
            "Epoch 23/50\n",
            "377/377 [==============================] - 2s 7ms/step - loss: 0.4325 - accuracy: 0.8764\n",
            "Epoch 24/50\n",
            "377/377 [==============================] - 3s 7ms/step - loss: 0.4346 - accuracy: 0.8761\n",
            "Epoch 25/50\n",
            "377/377 [==============================] - 4s 9ms/step - loss: 0.4312 - accuracy: 0.8781\n",
            "Epoch 26/50\n",
            "377/377 [==============================] - 2s 6ms/step - loss: 0.4312 - accuracy: 0.8779\n",
            "Epoch 27/50\n",
            "377/377 [==============================] - 3s 7ms/step - loss: 0.4450 - accuracy: 0.8734\n",
            "Epoch 28/50\n",
            "377/377 [==============================] - 2s 5ms/step - loss: 0.4297 - accuracy: 0.8779\n",
            "Epoch 29/50\n",
            "377/377 [==============================] - 2s 5ms/step - loss: 0.4283 - accuracy: 0.8767\n",
            "Epoch 30/50\n",
            "377/377 [==============================] - 2s 6ms/step - loss: 0.4287 - accuracy: 0.8762\n",
            "Epoch 31/50\n",
            "377/377 [==============================] - 3s 9ms/step - loss: 0.4336 - accuracy: 0.8761\n",
            "Epoch 32/50\n",
            "377/377 [==============================] - 3s 9ms/step - loss: 0.4225 - accuracy: 0.8772\n",
            "Epoch 33/50\n",
            "377/377 [==============================] - 4s 10ms/step - loss: 0.4252 - accuracy: 0.8760\n",
            "Epoch 34/50\n",
            "377/377 [==============================] - 5s 12ms/step - loss: 0.4152 - accuracy: 0.8770\n",
            "Epoch 35/50\n",
            "377/377 [==============================] - 3s 9ms/step - loss: 0.4151 - accuracy: 0.8781\n",
            "Epoch 36/50\n",
            "377/377 [==============================] - 2s 7ms/step - loss: 0.4212 - accuracy: 0.8758\n",
            "Epoch 37/50\n",
            "377/377 [==============================] - 3s 7ms/step - loss: 0.4193 - accuracy: 0.8786\n",
            "Epoch 38/50\n",
            "377/377 [==============================] - 4s 10ms/step - loss: 0.4301 - accuracy: 0.8753\n",
            "Epoch 39/50\n",
            "377/377 [==============================] - 3s 8ms/step - loss: 0.4247 - accuracy: 0.8757\n",
            "Epoch 40/50\n",
            "377/377 [==============================] - 2s 6ms/step - loss: 0.4355 - accuracy: 0.8729\n",
            "Epoch 41/50\n",
            "377/377 [==============================] - 2s 5ms/step - loss: 0.4274 - accuracy: 0.8748\n",
            "Epoch 42/50\n",
            "377/377 [==============================] - 2s 7ms/step - loss: 0.4371 - accuracy: 0.8721\n",
            "Epoch 43/50\n",
            "377/377 [==============================] - 2s 7ms/step - loss: 0.4336 - accuracy: 0.8732\n",
            "Epoch 44/50\n",
            "377/377 [==============================] - 2s 5ms/step - loss: 0.4268 - accuracy: 0.8728\n",
            "Epoch 45/50\n",
            "377/377 [==============================] - 2s 5ms/step - loss: 0.4347 - accuracy: 0.8722\n",
            "Epoch 46/50\n",
            "377/377 [==============================] - 2s 5ms/step - loss: 0.4246 - accuracy: 0.8751\n",
            "Epoch 47/50\n",
            "377/377 [==============================] - 2s 5ms/step - loss: 0.4137 - accuracy: 0.8776\n",
            "Epoch 48/50\n",
            "377/377 [==============================] - 3s 8ms/step - loss: 0.4361 - accuracy: 0.8722\n",
            "Epoch 49/50\n",
            "377/377 [==============================] - 3s 9ms/step - loss: 0.4133 - accuracy: 0.8777\n",
            "Epoch 50/50\n",
            "377/377 [==============================] - 3s 7ms/step - loss: 0.4267 - accuracy: 0.8740\n"
          ]
        }
      ]
    },
    {
      "cell_type": "code",
      "source": [
        "seed_text = \"Help me Obi Wan Kenobi, you're my only hope\"\n",
        "next_words = 10\n",
        "\n",
        "prediction_words = []\n",
        "\n",
        "x = tokenizer.texts_to_sequences([seed_text])[0]\n",
        "x = pad_sequences([x], maxlen=max_lenght-1, padding='pre')\n",
        "\n",
        "for i in range(next_words):\n",
        "  predict = model.predict(x, verbose = 0)\n",
        "  index_word = np.argmax(predict)\n",
        "  word = tokenizer.index_word[index_word]\n",
        "  prediction_words.append(word)\n",
        "  x = np.append(x, index_word)\n",
        "  x = x[1:]\n",
        "  x = x.reshape(1,x.shape[0])\n",
        "\n",
        "\n",
        "print(' '.join(prediction_words))\n",
        "\n",
        "\n",
        "\n",
        "\n",
        "\n"
      ],
      "metadata": {
        "colab": {
          "base_uri": "https://localhost:8080/"
        },
        "id": "XGjpG2lcszbM",
        "outputId": "0210866c-700e-4eb5-afe6-d04feed7b70e"
      },
      "execution_count": 57,
      "outputs": [
        {
          "output_type": "stream",
          "name": "stdout",
          "text": [
            "for erin go bragh to darlin jenny stand and see\n"
          ]
        }
      ]
    }
  ]
}