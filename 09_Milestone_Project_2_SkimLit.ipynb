{
  "nbformat": 4,
  "nbformat_minor": 0,
  "metadata": {
    "colab": {
      "provenance": [],
      "toc_visible": true,
      "gpuType": "T4",
      "authorship_tag": "ABX9TyPr0Jusj6PzTh9lwNNKXn//",
      "include_colab_link": true
    },
    "kernelspec": {
      "name": "python3",
      "display_name": "Python 3"
    },
    "language_info": {
      "name": "python"
    },
    "accelerator": "GPU"
  },
  "cells": [
    {
      "cell_type": "markdown",
      "metadata": {
        "id": "view-in-github",
        "colab_type": "text"
      },
      "source": [
        "<a href=\"https://colab.research.google.com/github/ryzhokhina/Tensorflow-Dev-Exam-Preparation/blob/main/09_Milestone_Project_2_SkimLit.ipynb\" target=\"_parent\"><img src=\"https://colab.research.google.com/assets/colab-badge.svg\" alt=\"Open In Colab\"/></a>"
      ]
    },
    {
      "cell_type": "markdown",
      "source": [
        "# Downloading the data and preprocessing it."
      ],
      "metadata": {
        "id": "P9GI7oZm2Sy4"
      }
    },
    {
      "cell_type": "code",
      "source": [
        "import tensorflow as tf\n",
        "from tensorflow.keras import layers"
      ],
      "metadata": {
        "id": "CZBPUfeO2VmQ"
      },
      "execution_count": 1,
      "outputs": []
    },
    {
      "cell_type": "code",
      "source": [
        "\n",
        "!git clone https://github.com/Franck-Dernoncourt/pubmed-rct.git\n",
        "!ls pubmed-rct"
      ],
      "metadata": {
        "colab": {
          "base_uri": "https://localhost:8080/"
        },
        "id": "qo_mts1F2aQY",
        "outputId": "56616d31-5108-49af-e5bc-26d540164edc"
      },
      "execution_count": 2,
      "outputs": [
        {
          "output_type": "stream",
          "name": "stdout",
          "text": [
            "Cloning into 'pubmed-rct'...\n",
            "remote: Enumerating objects: 33, done.\u001b[K\n",
            "remote: Counting objects: 100% (8/8), done.\u001b[K\n",
            "remote: Compressing objects: 100% (3/3), done.\u001b[K\n",
            "remote: Total 33 (delta 5), reused 5 (delta 5), pack-reused 25\u001b[K\n",
            "Receiving objects: 100% (33/33), 177.08 MiB | 22.52 MiB/s, done.\n",
            "Resolving deltas: 100% (12/12), done.\n",
            "Updating files: 100% (13/13), done.\n",
            "PubMed_200k_RCT\n",
            "PubMed_200k_RCT_numbers_replaced_with_at_sign\n",
            "PubMed_20k_RCT\n",
            "PubMed_20k_RCT_numbers_replaced_with_at_sign\n",
            "README.md\n"
          ]
        }
      ]
    },
    {
      "cell_type": "code",
      "source": [
        "# Check what files are in the PubMed_20K dataset\n",
        "!ls pubmed-rct/PubMed_20k_RCT_numbers_replaced_with_at_sign"
      ],
      "metadata": {
        "colab": {
          "base_uri": "https://localhost:8080/"
        },
        "id": "cSFpGXyK2wEF",
        "outputId": "e688c1ad-8805-4a7b-f47d-ca325e03ef2e"
      },
      "execution_count": 3,
      "outputs": [
        {
          "output_type": "stream",
          "name": "stdout",
          "text": [
            "dev.txt  test.txt  train.txt\n"
          ]
        }
      ]
    },
    {
      "cell_type": "code",
      "source": [
        "# get lines from file\n",
        "def get_lines(filename):\n",
        "  with open(filename, \"r\") as f:\n",
        "    return f.readlines()\n"
      ],
      "metadata": {
        "id": "5IisDH263Onh"
      },
      "execution_count": 4,
      "outputs": []
    },
    {
      "cell_type": "code",
      "source": [
        "dev_file = '/content/pubmed-rct/PubMed_20k_RCT_numbers_replaced_with_at_sign/dev.txt'\n",
        "dev_lines=get_lines(dev_file)"
      ],
      "metadata": {
        "id": "FPYF7vDo-COS"
      },
      "execution_count": 5,
      "outputs": []
    },
    {
      "cell_type": "code",
      "source": [
        "dev_lines[:4]"
      ],
      "metadata": {
        "colab": {
          "base_uri": "https://localhost:8080/"
        },
        "id": "W02JlrF--Kex",
        "outputId": "23edfe88-5a06-457f-b498-5e044d02e9df"
      },
      "execution_count": 6,
      "outputs": [
        {
          "output_type": "execute_result",
          "data": {
            "text/plain": [
              "['###24290286\\n',\n",
              " 'BACKGROUND\\tIgE sensitization to Aspergillus fumigatus and a positive sputum fungal culture result are common in patients with refractory asthma .\\n',\n",
              " 'BACKGROUND\\tIt is not clear whether these patients would benefit from antifungal treatment .\\n',\n",
              " 'OBJECTIVE\\tWe sought to determine whether a @-month course of voriconazole improved asthma-related outcomes in patients with asthma who are IgE sensitized to A fumigatus .\\n']"
            ]
          },
          "metadata": {},
          "execution_count": 6
        }
      ]
    },
    {
      "cell_type": "code",
      "source": [
        "# creating the stuucture looks like this:\n",
        "'''\n",
        "[{'line_number': 0,\n",
        "  'target': 'OBJECTIVE',\n",
        "  'text': 'to investigate the efficacy of @ weeks of daily low-dose oral prednisolone in improving pain ,\n",
        "          mobility , and systemic low-grade inflammation in the short term and whether the effect would be sustained at @ weeks\n",
        "          in older adults with moderate to severe knee osteoarthritis ( oa ) .',\n",
        "  'total_lines': 11},\n",
        "'''\n",
        "def preprocess_text_with_line_numbers(filename):\n",
        "  lines = get_lines(filename) # get all lines from filename\n",
        "  abstracts = [] # create an empty list of abstracts\n",
        "  abstract = \"\" # create an empty string\n",
        "  line_number = 1\n",
        "  abstract_lines = \"\"\n",
        "\n",
        "  for line in lines:\n",
        "    if line.startswith(\"###\"): # check to see if line starts with \"###\"\n",
        "      abstract_number = line[3:]\n",
        "      abstract_lines =\"\"\n",
        "    elif line.isspace(): # check to see if line is a new line\n",
        "      split_lines = abstract_lines.splitlines() # split lines\n",
        "      for line_number, split_line in enumerate(split_lines):\n",
        "        #print(split_line)\n",
        "        t_split = split_line.split('\\t')\n",
        "        #print(t_split)\n",
        "        target = t_split[0]\n",
        "        text = t_split[1]\n",
        "        abstract = {\n",
        "          'number':abstract_number,\n",
        "          'target':target,\n",
        "          'text':text,\n",
        "          'line_number':line_number +1,\n",
        "          'total_lines':len(split_lines)\n",
        "          }\n",
        "        abstracts.append(abstract)\n",
        "    else:\n",
        "      abstract_lines+=line\n",
        "  return abstracts"
      ],
      "metadata": {
        "id": "2wuuF0iY-NsG"
      },
      "execution_count": 7,
      "outputs": []
    },
    {
      "cell_type": "code",
      "source": [
        "test = preprocess_text_with_line_numbers(dev_file)\n"
      ],
      "metadata": {
        "id": "YGKrY7peB9ic"
      },
      "execution_count": 8,
      "outputs": []
    },
    {
      "cell_type": "code",
      "source": [
        "test[:3]"
      ],
      "metadata": {
        "colab": {
          "base_uri": "https://localhost:8080/"
        },
        "id": "SFwqnSzjB_2-",
        "outputId": "ea2f77ab-784b-47e3-dd50-70cc80552b8b"
      },
      "execution_count": 9,
      "outputs": [
        {
          "output_type": "execute_result",
          "data": {
            "text/plain": [
              "[{'number': '24290286\\n',\n",
              "  'target': 'BACKGROUND',\n",
              "  'text': 'IgE sensitization to Aspergillus fumigatus and a positive sputum fungal culture result are common in patients with refractory asthma .',\n",
              "  'line_number': 1,\n",
              "  'total_lines': 10},\n",
              " {'number': '24290286\\n',\n",
              "  'target': 'BACKGROUND',\n",
              "  'text': 'It is not clear whether these patients would benefit from antifungal treatment .',\n",
              "  'line_number': 2,\n",
              "  'total_lines': 10},\n",
              " {'number': '24290286\\n',\n",
              "  'target': 'OBJECTIVE',\n",
              "  'text': 'We sought to determine whether a @-month course of voriconazole improved asthma-related outcomes in patients with asthma who are IgE sensitized to A fumigatus .',\n",
              "  'line_number': 3,\n",
              "  'total_lines': 10}]"
            ]
          },
          "metadata": {},
          "execution_count": 9
        }
      ]
    },
    {
      "cell_type": "code",
      "source": [
        "import pandas as pd\n",
        "\n",
        "dev_df = pd.DataFrame(test)\n",
        "dev_df.head()\n"
      ],
      "metadata": {
        "colab": {
          "base_uri": "https://localhost:8080/",
          "height": 206
        },
        "id": "-iZiW9gLCvqc",
        "outputId": "40ebac00-0d42-49f9-cae0-037f82f31289"
      },
      "execution_count": 10,
      "outputs": [
        {
          "output_type": "execute_result",
          "data": {
            "text/plain": [
              "       number      target                                               text  \\\n",
              "0  24290286\\n  BACKGROUND  IgE sensitization to Aspergillus fumigatus and...   \n",
              "1  24290286\\n  BACKGROUND  It is not clear whether these patients would b...   \n",
              "2  24290286\\n   OBJECTIVE  We sought to determine whether a @-month cours...   \n",
              "3  24290286\\n     METHODS  Asthmatic patients who were IgE sensitized to ...   \n",
              "4  24290286\\n     METHODS  Primary outcomes were improvement in quality o...   \n",
              "\n",
              "   line_number  total_lines  \n",
              "0            1           10  \n",
              "1            2           10  \n",
              "2            3           10  \n",
              "3            4           10  \n",
              "4            5           10  "
            ],
            "text/html": [
              "\n",
              "\n",
              "  <div id=\"df-069aebbd-3a0e-45a5-a389-fba314e861d5\">\n",
              "    <div class=\"colab-df-container\">\n",
              "      <div>\n",
              "<style scoped>\n",
              "    .dataframe tbody tr th:only-of-type {\n",
              "        vertical-align: middle;\n",
              "    }\n",
              "\n",
              "    .dataframe tbody tr th {\n",
              "        vertical-align: top;\n",
              "    }\n",
              "\n",
              "    .dataframe thead th {\n",
              "        text-align: right;\n",
              "    }\n",
              "</style>\n",
              "<table border=\"1\" class=\"dataframe\">\n",
              "  <thead>\n",
              "    <tr style=\"text-align: right;\">\n",
              "      <th></th>\n",
              "      <th>number</th>\n",
              "      <th>target</th>\n",
              "      <th>text</th>\n",
              "      <th>line_number</th>\n",
              "      <th>total_lines</th>\n",
              "    </tr>\n",
              "  </thead>\n",
              "  <tbody>\n",
              "    <tr>\n",
              "      <th>0</th>\n",
              "      <td>24290286\\n</td>\n",
              "      <td>BACKGROUND</td>\n",
              "      <td>IgE sensitization to Aspergillus fumigatus and...</td>\n",
              "      <td>1</td>\n",
              "      <td>10</td>\n",
              "    </tr>\n",
              "    <tr>\n",
              "      <th>1</th>\n",
              "      <td>24290286\\n</td>\n",
              "      <td>BACKGROUND</td>\n",
              "      <td>It is not clear whether these patients would b...</td>\n",
              "      <td>2</td>\n",
              "      <td>10</td>\n",
              "    </tr>\n",
              "    <tr>\n",
              "      <th>2</th>\n",
              "      <td>24290286\\n</td>\n",
              "      <td>OBJECTIVE</td>\n",
              "      <td>We sought to determine whether a @-month cours...</td>\n",
              "      <td>3</td>\n",
              "      <td>10</td>\n",
              "    </tr>\n",
              "    <tr>\n",
              "      <th>3</th>\n",
              "      <td>24290286\\n</td>\n",
              "      <td>METHODS</td>\n",
              "      <td>Asthmatic patients who were IgE sensitized to ...</td>\n",
              "      <td>4</td>\n",
              "      <td>10</td>\n",
              "    </tr>\n",
              "    <tr>\n",
              "      <th>4</th>\n",
              "      <td>24290286\\n</td>\n",
              "      <td>METHODS</td>\n",
              "      <td>Primary outcomes were improvement in quality o...</td>\n",
              "      <td>5</td>\n",
              "      <td>10</td>\n",
              "    </tr>\n",
              "  </tbody>\n",
              "</table>\n",
              "</div>\n",
              "      <button class=\"colab-df-convert\" onclick=\"convertToInteractive('df-069aebbd-3a0e-45a5-a389-fba314e861d5')\"\n",
              "              title=\"Convert this dataframe to an interactive table.\"\n",
              "              style=\"display:none;\">\n",
              "\n",
              "  <svg xmlns=\"http://www.w3.org/2000/svg\" height=\"24px\"viewBox=\"0 0 24 24\"\n",
              "       width=\"24px\">\n",
              "    <path d=\"M0 0h24v24H0V0z\" fill=\"none\"/>\n",
              "    <path d=\"M18.56 5.44l.94 2.06.94-2.06 2.06-.94-2.06-.94-.94-2.06-.94 2.06-2.06.94zm-11 1L8.5 8.5l.94-2.06 2.06-.94-2.06-.94L8.5 2.5l-.94 2.06-2.06.94zm10 10l.94 2.06.94-2.06 2.06-.94-2.06-.94-.94-2.06-.94 2.06-2.06.94z\"/><path d=\"M17.41 7.96l-1.37-1.37c-.4-.4-.92-.59-1.43-.59-.52 0-1.04.2-1.43.59L10.3 9.45l-7.72 7.72c-.78.78-.78 2.05 0 2.83L4 21.41c.39.39.9.59 1.41.59.51 0 1.02-.2 1.41-.59l7.78-7.78 2.81-2.81c.8-.78.8-2.07 0-2.86zM5.41 20L4 18.59l7.72-7.72 1.47 1.35L5.41 20z\"/>\n",
              "  </svg>\n",
              "      </button>\n",
              "\n",
              "\n",
              "\n",
              "    <div id=\"df-02d75665-45d3-4623-b0e1-f0c86525818d\">\n",
              "      <button class=\"colab-df-quickchart\" onclick=\"quickchart('df-02d75665-45d3-4623-b0e1-f0c86525818d')\"\n",
              "              title=\"Suggest charts.\"\n",
              "              style=\"display:none;\">\n",
              "\n",
              "<svg xmlns=\"http://www.w3.org/2000/svg\" height=\"24px\"viewBox=\"0 0 24 24\"\n",
              "     width=\"24px\">\n",
              "    <g>\n",
              "        <path d=\"M19 3H5c-1.1 0-2 .9-2 2v14c0 1.1.9 2 2 2h14c1.1 0 2-.9 2-2V5c0-1.1-.9-2-2-2zM9 17H7v-7h2v7zm4 0h-2V7h2v10zm4 0h-2v-4h2v4z\"/>\n",
              "    </g>\n",
              "</svg>\n",
              "      </button>\n",
              "    </div>\n",
              "\n",
              "<style>\n",
              "  .colab-df-quickchart {\n",
              "    background-color: #E8F0FE;\n",
              "    border: none;\n",
              "    border-radius: 50%;\n",
              "    cursor: pointer;\n",
              "    display: none;\n",
              "    fill: #1967D2;\n",
              "    height: 32px;\n",
              "    padding: 0 0 0 0;\n",
              "    width: 32px;\n",
              "  }\n",
              "\n",
              "  .colab-df-quickchart:hover {\n",
              "    background-color: #E2EBFA;\n",
              "    box-shadow: 0px 1px 2px rgba(60, 64, 67, 0.3), 0px 1px 3px 1px rgba(60, 64, 67, 0.15);\n",
              "    fill: #174EA6;\n",
              "  }\n",
              "\n",
              "  [theme=dark] .colab-df-quickchart {\n",
              "    background-color: #3B4455;\n",
              "    fill: #D2E3FC;\n",
              "  }\n",
              "\n",
              "  [theme=dark] .colab-df-quickchart:hover {\n",
              "    background-color: #434B5C;\n",
              "    box-shadow: 0px 1px 3px 1px rgba(0, 0, 0, 0.15);\n",
              "    filter: drop-shadow(0px 1px 2px rgba(0, 0, 0, 0.3));\n",
              "    fill: #FFFFFF;\n",
              "  }\n",
              "</style>\n",
              "\n",
              "    <script>\n",
              "      async function quickchart(key) {\n",
              "        const containerElement = document.querySelector('#' + key);\n",
              "        const charts = await google.colab.kernel.invokeFunction(\n",
              "            'suggestCharts', [key], {});\n",
              "      }\n",
              "    </script>\n",
              "\n",
              "      <script>\n",
              "\n",
              "function displayQuickchartButton(domScope) {\n",
              "  let quickchartButtonEl =\n",
              "    domScope.querySelector('#df-02d75665-45d3-4623-b0e1-f0c86525818d button.colab-df-quickchart');\n",
              "  quickchartButtonEl.style.display =\n",
              "    google.colab.kernel.accessAllowed ? 'block' : 'none';\n",
              "}\n",
              "\n",
              "        displayQuickchartButton(document);\n",
              "      </script>\n",
              "      <style>\n",
              "    .colab-df-container {\n",
              "      display:flex;\n",
              "      flex-wrap:wrap;\n",
              "      gap: 12px;\n",
              "    }\n",
              "\n",
              "    .colab-df-convert {\n",
              "      background-color: #E8F0FE;\n",
              "      border: none;\n",
              "      border-radius: 50%;\n",
              "      cursor: pointer;\n",
              "      display: none;\n",
              "      fill: #1967D2;\n",
              "      height: 32px;\n",
              "      padding: 0 0 0 0;\n",
              "      width: 32px;\n",
              "    }\n",
              "\n",
              "    .colab-df-convert:hover {\n",
              "      background-color: #E2EBFA;\n",
              "      box-shadow: 0px 1px 2px rgba(60, 64, 67, 0.3), 0px 1px 3px 1px rgba(60, 64, 67, 0.15);\n",
              "      fill: #174EA6;\n",
              "    }\n",
              "\n",
              "    [theme=dark] .colab-df-convert {\n",
              "      background-color: #3B4455;\n",
              "      fill: #D2E3FC;\n",
              "    }\n",
              "\n",
              "    [theme=dark] .colab-df-convert:hover {\n",
              "      background-color: #434B5C;\n",
              "      box-shadow: 0px 1px 3px 1px rgba(0, 0, 0, 0.15);\n",
              "      filter: drop-shadow(0px 1px 2px rgba(0, 0, 0, 0.3));\n",
              "      fill: #FFFFFF;\n",
              "    }\n",
              "  </style>\n",
              "\n",
              "      <script>\n",
              "        const buttonEl =\n",
              "          document.querySelector('#df-069aebbd-3a0e-45a5-a389-fba314e861d5 button.colab-df-convert');\n",
              "        buttonEl.style.display =\n",
              "          google.colab.kernel.accessAllowed ? 'block' : 'none';\n",
              "\n",
              "        async function convertToInteractive(key) {\n",
              "          const element = document.querySelector('#df-069aebbd-3a0e-45a5-a389-fba314e861d5');\n",
              "          const dataTable =\n",
              "            await google.colab.kernel.invokeFunction('convertToInteractive',\n",
              "                                                     [key], {});\n",
              "          if (!dataTable) return;\n",
              "\n",
              "          const docLinkHtml = 'Like what you see? Visit the ' +\n",
              "            '<a target=\"_blank\" href=https://colab.research.google.com/notebooks/data_table.ipynb>data table notebook</a>'\n",
              "            + ' to learn more about interactive tables.';\n",
              "          element.innerHTML = '';\n",
              "          dataTable['output_type'] = 'display_data';\n",
              "          await google.colab.output.renderOutput(dataTable, element);\n",
              "          const docLink = document.createElement('div');\n",
              "          docLink.innerHTML = docLinkHtml;\n",
              "          element.appendChild(docLink);\n",
              "        }\n",
              "      </script>\n",
              "    </div>\n",
              "  </div>\n"
            ]
          },
          "metadata": {},
          "execution_count": 10
        }
      ]
    },
    {
      "cell_type": "code",
      "source": [
        "# create dataframes for test, train\n",
        "train_file = '/content/pubmed-rct/PubMed_20k_RCT_numbers_replaced_with_at_sign/train.txt'\n",
        "test_file = '/content/pubmed-rct/PubMed_20k_RCT_numbers_replaced_with_at_sign/test.txt'\n",
        "\n",
        "train_df = pd.DataFrame(preprocess_text_with_line_numbers(train_file))\n",
        "test_df = pd.DataFrame(preprocess_text_with_line_numbers(test_file))\n"
      ],
      "metadata": {
        "id": "50sjM2f93sye"
      },
      "execution_count": 11,
      "outputs": []
    },
    {
      "cell_type": "code",
      "source": [
        "train_df.shape, test_df.shape, dev_df.shape\n",
        "\n"
      ],
      "metadata": {
        "colab": {
          "base_uri": "https://localhost:8080/"
        },
        "id": "PqOQmImx7viw",
        "outputId": "4b5ee433-ff67-4b0d-d568-dac227f4aea1"
      },
      "execution_count": 12,
      "outputs": [
        {
          "output_type": "execute_result",
          "data": {
            "text/plain": [
              "((180040, 5), (30135, 5), (30212, 5))"
            ]
          },
          "metadata": {},
          "execution_count": 12
        }
      ]
    },
    {
      "cell_type": "code",
      "source": [
        "train_df.head()"
      ],
      "metadata": {
        "colab": {
          "base_uri": "https://localhost:8080/",
          "height": 206
        },
        "id": "htQOvtts8Jk7",
        "outputId": "bbf7bf14-d434-4151-950b-1d5e28420623"
      },
      "execution_count": 13,
      "outputs": [
        {
          "output_type": "execute_result",
          "data": {
            "text/plain": [
              "       number     target                                               text  \\\n",
              "0  24293578\\n  OBJECTIVE  To investigate the efficacy of @ weeks of dail...   \n",
              "1  24293578\\n    METHODS  A total of @ patients with primary knee OA wer...   \n",
              "2  24293578\\n    METHODS  Outcome measures included pain reduction and i...   \n",
              "3  24293578\\n    METHODS  Pain was assessed using the visual analog pain...   \n",
              "4  24293578\\n    METHODS  Secondary outcome measures included the Wester...   \n",
              "\n",
              "   line_number  total_lines  \n",
              "0            1           12  \n",
              "1            2           12  \n",
              "2            3           12  \n",
              "3            4           12  \n",
              "4            5           12  "
            ],
            "text/html": [
              "\n",
              "\n",
              "  <div id=\"df-00fc229a-f11a-4ff5-bd6c-3d1fd57522a2\">\n",
              "    <div class=\"colab-df-container\">\n",
              "      <div>\n",
              "<style scoped>\n",
              "    .dataframe tbody tr th:only-of-type {\n",
              "        vertical-align: middle;\n",
              "    }\n",
              "\n",
              "    .dataframe tbody tr th {\n",
              "        vertical-align: top;\n",
              "    }\n",
              "\n",
              "    .dataframe thead th {\n",
              "        text-align: right;\n",
              "    }\n",
              "</style>\n",
              "<table border=\"1\" class=\"dataframe\">\n",
              "  <thead>\n",
              "    <tr style=\"text-align: right;\">\n",
              "      <th></th>\n",
              "      <th>number</th>\n",
              "      <th>target</th>\n",
              "      <th>text</th>\n",
              "      <th>line_number</th>\n",
              "      <th>total_lines</th>\n",
              "    </tr>\n",
              "  </thead>\n",
              "  <tbody>\n",
              "    <tr>\n",
              "      <th>0</th>\n",
              "      <td>24293578\\n</td>\n",
              "      <td>OBJECTIVE</td>\n",
              "      <td>To investigate the efficacy of @ weeks of dail...</td>\n",
              "      <td>1</td>\n",
              "      <td>12</td>\n",
              "    </tr>\n",
              "    <tr>\n",
              "      <th>1</th>\n",
              "      <td>24293578\\n</td>\n",
              "      <td>METHODS</td>\n",
              "      <td>A total of @ patients with primary knee OA wer...</td>\n",
              "      <td>2</td>\n",
              "      <td>12</td>\n",
              "    </tr>\n",
              "    <tr>\n",
              "      <th>2</th>\n",
              "      <td>24293578\\n</td>\n",
              "      <td>METHODS</td>\n",
              "      <td>Outcome measures included pain reduction and i...</td>\n",
              "      <td>3</td>\n",
              "      <td>12</td>\n",
              "    </tr>\n",
              "    <tr>\n",
              "      <th>3</th>\n",
              "      <td>24293578\\n</td>\n",
              "      <td>METHODS</td>\n",
              "      <td>Pain was assessed using the visual analog pain...</td>\n",
              "      <td>4</td>\n",
              "      <td>12</td>\n",
              "    </tr>\n",
              "    <tr>\n",
              "      <th>4</th>\n",
              "      <td>24293578\\n</td>\n",
              "      <td>METHODS</td>\n",
              "      <td>Secondary outcome measures included the Wester...</td>\n",
              "      <td>5</td>\n",
              "      <td>12</td>\n",
              "    </tr>\n",
              "  </tbody>\n",
              "</table>\n",
              "</div>\n",
              "      <button class=\"colab-df-convert\" onclick=\"convertToInteractive('df-00fc229a-f11a-4ff5-bd6c-3d1fd57522a2')\"\n",
              "              title=\"Convert this dataframe to an interactive table.\"\n",
              "              style=\"display:none;\">\n",
              "\n",
              "  <svg xmlns=\"http://www.w3.org/2000/svg\" height=\"24px\"viewBox=\"0 0 24 24\"\n",
              "       width=\"24px\">\n",
              "    <path d=\"M0 0h24v24H0V0z\" fill=\"none\"/>\n",
              "    <path d=\"M18.56 5.44l.94 2.06.94-2.06 2.06-.94-2.06-.94-.94-2.06-.94 2.06-2.06.94zm-11 1L8.5 8.5l.94-2.06 2.06-.94-2.06-.94L8.5 2.5l-.94 2.06-2.06.94zm10 10l.94 2.06.94-2.06 2.06-.94-2.06-.94-.94-2.06-.94 2.06-2.06.94z\"/><path d=\"M17.41 7.96l-1.37-1.37c-.4-.4-.92-.59-1.43-.59-.52 0-1.04.2-1.43.59L10.3 9.45l-7.72 7.72c-.78.78-.78 2.05 0 2.83L4 21.41c.39.39.9.59 1.41.59.51 0 1.02-.2 1.41-.59l7.78-7.78 2.81-2.81c.8-.78.8-2.07 0-2.86zM5.41 20L4 18.59l7.72-7.72 1.47 1.35L5.41 20z\"/>\n",
              "  </svg>\n",
              "      </button>\n",
              "\n",
              "\n",
              "\n",
              "    <div id=\"df-64543ef3-8f24-4b05-a257-a48b6a1810e5\">\n",
              "      <button class=\"colab-df-quickchart\" onclick=\"quickchart('df-64543ef3-8f24-4b05-a257-a48b6a1810e5')\"\n",
              "              title=\"Suggest charts.\"\n",
              "              style=\"display:none;\">\n",
              "\n",
              "<svg xmlns=\"http://www.w3.org/2000/svg\" height=\"24px\"viewBox=\"0 0 24 24\"\n",
              "     width=\"24px\">\n",
              "    <g>\n",
              "        <path d=\"M19 3H5c-1.1 0-2 .9-2 2v14c0 1.1.9 2 2 2h14c1.1 0 2-.9 2-2V5c0-1.1-.9-2-2-2zM9 17H7v-7h2v7zm4 0h-2V7h2v10zm4 0h-2v-4h2v4z\"/>\n",
              "    </g>\n",
              "</svg>\n",
              "      </button>\n",
              "    </div>\n",
              "\n",
              "<style>\n",
              "  .colab-df-quickchart {\n",
              "    background-color: #E8F0FE;\n",
              "    border: none;\n",
              "    border-radius: 50%;\n",
              "    cursor: pointer;\n",
              "    display: none;\n",
              "    fill: #1967D2;\n",
              "    height: 32px;\n",
              "    padding: 0 0 0 0;\n",
              "    width: 32px;\n",
              "  }\n",
              "\n",
              "  .colab-df-quickchart:hover {\n",
              "    background-color: #E2EBFA;\n",
              "    box-shadow: 0px 1px 2px rgba(60, 64, 67, 0.3), 0px 1px 3px 1px rgba(60, 64, 67, 0.15);\n",
              "    fill: #174EA6;\n",
              "  }\n",
              "\n",
              "  [theme=dark] .colab-df-quickchart {\n",
              "    background-color: #3B4455;\n",
              "    fill: #D2E3FC;\n",
              "  }\n",
              "\n",
              "  [theme=dark] .colab-df-quickchart:hover {\n",
              "    background-color: #434B5C;\n",
              "    box-shadow: 0px 1px 3px 1px rgba(0, 0, 0, 0.15);\n",
              "    filter: drop-shadow(0px 1px 2px rgba(0, 0, 0, 0.3));\n",
              "    fill: #FFFFFF;\n",
              "  }\n",
              "</style>\n",
              "\n",
              "    <script>\n",
              "      async function quickchart(key) {\n",
              "        const containerElement = document.querySelector('#' + key);\n",
              "        const charts = await google.colab.kernel.invokeFunction(\n",
              "            'suggestCharts', [key], {});\n",
              "      }\n",
              "    </script>\n",
              "\n",
              "      <script>\n",
              "\n",
              "function displayQuickchartButton(domScope) {\n",
              "  let quickchartButtonEl =\n",
              "    domScope.querySelector('#df-64543ef3-8f24-4b05-a257-a48b6a1810e5 button.colab-df-quickchart');\n",
              "  quickchartButtonEl.style.display =\n",
              "    google.colab.kernel.accessAllowed ? 'block' : 'none';\n",
              "}\n",
              "\n",
              "        displayQuickchartButton(document);\n",
              "      </script>\n",
              "      <style>\n",
              "    .colab-df-container {\n",
              "      display:flex;\n",
              "      flex-wrap:wrap;\n",
              "      gap: 12px;\n",
              "    }\n",
              "\n",
              "    .colab-df-convert {\n",
              "      background-color: #E8F0FE;\n",
              "      border: none;\n",
              "      border-radius: 50%;\n",
              "      cursor: pointer;\n",
              "      display: none;\n",
              "      fill: #1967D2;\n",
              "      height: 32px;\n",
              "      padding: 0 0 0 0;\n",
              "      width: 32px;\n",
              "    }\n",
              "\n",
              "    .colab-df-convert:hover {\n",
              "      background-color: #E2EBFA;\n",
              "      box-shadow: 0px 1px 2px rgba(60, 64, 67, 0.3), 0px 1px 3px 1px rgba(60, 64, 67, 0.15);\n",
              "      fill: #174EA6;\n",
              "    }\n",
              "\n",
              "    [theme=dark] .colab-df-convert {\n",
              "      background-color: #3B4455;\n",
              "      fill: #D2E3FC;\n",
              "    }\n",
              "\n",
              "    [theme=dark] .colab-df-convert:hover {\n",
              "      background-color: #434B5C;\n",
              "      box-shadow: 0px 1px 3px 1px rgba(0, 0, 0, 0.15);\n",
              "      filter: drop-shadow(0px 1px 2px rgba(0, 0, 0, 0.3));\n",
              "      fill: #FFFFFF;\n",
              "    }\n",
              "  </style>\n",
              "\n",
              "      <script>\n",
              "        const buttonEl =\n",
              "          document.querySelector('#df-00fc229a-f11a-4ff5-bd6c-3d1fd57522a2 button.colab-df-convert');\n",
              "        buttonEl.style.display =\n",
              "          google.colab.kernel.accessAllowed ? 'block' : 'none';\n",
              "\n",
              "        async function convertToInteractive(key) {\n",
              "          const element = document.querySelector('#df-00fc229a-f11a-4ff5-bd6c-3d1fd57522a2');\n",
              "          const dataTable =\n",
              "            await google.colab.kernel.invokeFunction('convertToInteractive',\n",
              "                                                     [key], {});\n",
              "          if (!dataTable) return;\n",
              "\n",
              "          const docLinkHtml = 'Like what you see? Visit the ' +\n",
              "            '<a target=\"_blank\" href=https://colab.research.google.com/notebooks/data_table.ipynb>data table notebook</a>'\n",
              "            + ' to learn more about interactive tables.';\n",
              "          element.innerHTML = '';\n",
              "          dataTable['output_type'] = 'display_data';\n",
              "          await google.colab.output.renderOutput(dataTable, element);\n",
              "          const docLink = document.createElement('div');\n",
              "          docLink.innerHTML = docLinkHtml;\n",
              "          element.appendChild(docLink);\n",
              "        }\n",
              "      </script>\n",
              "    </div>\n",
              "  </div>\n"
            ]
          },
          "metadata": {},
          "execution_count": 13
        }
      ]
    },
    {
      "cell_type": "code",
      "source": [
        "#Distributions of labels\n",
        "train_df.target.value_counts().plot(kind='bar')"
      ],
      "metadata": {
        "colab": {
          "base_uri": "https://localhost:8080/",
          "height": 533
        },
        "id": "GZuTfPlH8OS7",
        "outputId": "586e2b19-7267-49d2-e0eb-de32b46626ce"
      },
      "execution_count": 14,
      "outputs": [
        {
          "output_type": "execute_result",
          "data": {
            "text/plain": [
              "<Axes: >"
            ]
          },
          "metadata": {},
          "execution_count": 14
        },
        {
          "output_type": "display_data",
          "data": {
            "text/plain": [
              "<Figure size 640x480 with 1 Axes>"
            ],
            "image/png": "[encoded data removed]"
          },
          "metadata": {}
        }
      ]
    },
    {
      "cell_type": "code",
      "source": [
        "train_df.text.str.len().plot(kind='hist', bins=100)"
      ],
      "metadata": {
        "colab": {
          "base_uri": "https://localhost:8080/",
          "height": 447
        },
        "id": "3u2OsCmGCo1s",
        "outputId": "5067597e-a317-4228-e7ee-23d7a1356405"
      },
      "execution_count": 15,
      "outputs": [
        {
          "output_type": "execute_result",
          "data": {
            "text/plain": [
              "<Axes: ylabel='Frequency'>"
            ]
          },
          "metadata": {},
          "execution_count": 15
        },
        {
          "output_type": "display_data",
          "data": {
            "text/plain": [
              "<Figure size 640x480 with 1 Axes>"
            ],
            "image/png": "[encoded data removed]"
          },
          "metadata": {}
        }
      ]
    },
    {
      "cell_type": "code",
      "source": [
        "train_df.total_lines.plot.hist(bins=15)\n"
      ],
      "metadata": {
        "colab": {
          "base_uri": "https://localhost:8080/",
          "height": 447
        },
        "id": "6th9o5AP9QWE",
        "outputId": "3dc7f0a8-dac0-4d42-c28d-38e86b6f9bf2"
      },
      "execution_count": 16,
      "outputs": [
        {
          "output_type": "execute_result",
          "data": {
            "text/plain": [
              "<Axes: ylabel='Frequency'>"
            ]
          },
          "metadata": {},
          "execution_count": 16
        },
        {
          "output_type": "display_data",
          "data": {
            "text/plain": [
              "<Figure size 640x480 with 1 Axes>"
            ],
            "image/png": "[encoded data removed]"
          },
          "metadata": {}
        }
      ]
    },
    {
      "cell_type": "markdown",
      "source": [
        "##Get text for train, test and val as list"
      ],
      "metadata": {
        "id": "ZVjYz7uFA6AK"
      }
    },
    {
      "cell_type": "code",
      "source": [
        "train_sentences = train_df['text'].str.lower().to_list()\n",
        "val_sentences = dev_df['text'].str.lower().to_list()\n",
        "test_sentences = test_df['text'].str.lower().to_list()"
      ],
      "metadata": {
        "id": "9M4vpsGc9qtP"
      },
      "execution_count": 17,
      "outputs": []
    },
    {
      "cell_type": "code",
      "source": [
        "train_sentences[:10]"
      ],
      "metadata": {
        "colab": {
          "base_uri": "https://localhost:8080/"
        },
        "id": "5wHQaWydBB7T",
        "outputId": "aed99744-8db6-4008-a44a-84ee8250481a"
      },
      "execution_count": 18,
      "outputs": [
        {
          "output_type": "execute_result",
          "data": {
            "text/plain": [
              "['to investigate the efficacy of @ weeks of daily low-dose oral prednisolone in improving pain , mobility , and systemic low-grade inflammation in the short term and whether the effect would be sustained at @ weeks in older adults with moderate to severe knee osteoarthritis ( oa ) .',\n",
              " 'a total of @ patients with primary knee oa were randomized @:@ ; @ received @ mg/day of prednisolone and @ received placebo for @ weeks .',\n",
              " 'outcome measures included pain reduction and improvement in function scores and systemic inflammation markers .',\n",
              " 'pain was assessed using the visual analog pain scale ( @-@ mm ) .',\n",
              " 'secondary outcome measures included the western ontario and mcmaster universities osteoarthritis index scores , patient global assessment ( pga ) of the severity of knee oa , and @-min walk distance ( @mwd ) .',\n",
              " 'serum levels of interleukin @ ( il-@ ) , il-@ , tumor necrosis factor ( tnf ) - , and high-sensitivity c-reactive protein ( hscrp ) were measured .',\n",
              " 'there was a clinically relevant reduction in the intervention group compared to the placebo group for knee pain , physical function , pga , and @mwd at @ weeks .',\n",
              " 'the mean difference between treatment arms ( @ % ci ) was @ ( @-@ @ ) , p < @ ; @ ( @-@ @ ) , p < @ ; @ ( @-@ @ ) , p < @ ; and @ ( @-@ @ ) , p < @ , respectively .',\n",
              " 'further , there was a clinically relevant reduction in the serum levels of il-@ , il-@ , tnf - , and hscrp at @ weeks in the intervention group when compared to the placebo group .',\n",
              " 'these differences remained significant at @ weeks .']"
            ]
          },
          "metadata": {},
          "execution_count": 18
        }
      ]
    },
    {
      "cell_type": "markdown",
      "source": [
        "## Encode target using OneHotEncoder and LabelEncoder"
      ],
      "metadata": {
        "id": "7-zyU1P-SCwR"
      }
    },
    {
      "cell_type": "code",
      "source": [
        "from tensorflow.python.ops.gen_array_ops import one_hot\n",
        "from sklearn.preprocessing import OneHotEncoder, LabelEncoder\n",
        "\n",
        "one_hot_encoder = OneHotEncoder(sparse=False)\n",
        "label_encoder = LabelEncoder()"
      ],
      "metadata": {
        "id": "uuHk29mwQpIq"
      },
      "execution_count": 19,
      "outputs": []
    },
    {
      "cell_type": "code",
      "source": [
        "y_train_one_hot = one_hot_encoder.fit_transform(train_df['target'].to_numpy().reshape(-1,1))\n",
        "y_test_one_hot = one_hot_encoder.transform(test_df['target'].to_numpy().reshape(-1,1))\n",
        "y_val_one_hot = one_hot_encoder.transform(dev_df['target'].to_numpy().reshape(-1,1))\n",
        "\n",
        "y_train_one_hot\n"
      ],
      "metadata": {
        "colab": {
          "base_uri": "https://localhost:8080/"
        },
        "id": "2N2rZHhqBtQx",
        "outputId": "83f42214-57c7-449f-ff26-e04170c1bcf9"
      },
      "execution_count": 20,
      "outputs": [
        {
          "output_type": "stream",
          "name": "stderr",
          "text": [
            "/usr/local/lib/python3.10/dist-packages/sklearn/preprocessing/_encoders.py:868: FutureWarning: `sparse` was renamed to `sparse_output` in version 1.2 and will be removed in 1.4. `sparse_output` is ignored unless you leave `sparse` to its default value.\n",
            "  warnings.warn(\n"
          ]
        },
        {
          "output_type": "execute_result",
          "data": {
            "text/plain": [
              "array([[0., 0., 0., 1., 0.],\n",
              "       [0., 0., 1., 0., 0.],\n",
              "       [0., 0., 1., 0., 0.],\n",
              "       ...,\n",
              "       [0., 0., 0., 0., 1.],\n",
              "       [0., 1., 0., 0., 0.],\n",
              "       [0., 1., 0., 0., 0.]])"
            ]
          },
          "metadata": {},
          "execution_count": 20
        }
      ]
    },
    {
      "cell_type": "code",
      "source": [
        "one_hot_encoder.categories_"
      ],
      "metadata": {
        "colab": {
          "base_uri": "https://localhost:8080/"
        },
        "id": "0pqFnEFWUGlM",
        "outputId": "3d92ee97-d758-491a-dda2-dbe1fd3133dd"
      },
      "execution_count": 21,
      "outputs": [
        {
          "output_type": "execute_result",
          "data": {
            "text/plain": [
              "[array(['BACKGROUND', 'CONCLUSIONS', 'METHODS', 'OBJECTIVE', 'RESULTS'],\n",
              "       dtype=object)]"
            ]
          },
          "metadata": {},
          "execution_count": 21
        }
      ]
    },
    {
      "cell_type": "code",
      "source": [
        "y_train_categorical = label_encoder.fit_transform(train_df['target'].to_numpy())\n",
        "y_test_categorical = label_encoder.transform(test_df['target'].to_numpy())\n",
        "y_val_categorical = label_encoder.transform(dev_df['target'].to_numpy())\n",
        "\n",
        "y_train_categorical\n"
      ],
      "metadata": {
        "colab": {
          "base_uri": "https://localhost:8080/"
        },
        "id": "VvdIu_6CICfZ",
        "outputId": "46bff32c-4f9b-4eba-82d8-2c184be082e2"
      },
      "execution_count": 22,
      "outputs": [
        {
          "output_type": "execute_result",
          "data": {
            "text/plain": [
              "array([3, 2, 2, ..., 4, 1, 1])"
            ]
          },
          "metadata": {},
          "execution_count": 22
        }
      ]
    },
    {
      "cell_type": "code",
      "source": [
        "label_encoder.classes_"
      ],
      "metadata": {
        "colab": {
          "base_uri": "https://localhost:8080/"
        },
        "id": "mtHtULlZIeek",
        "outputId": "a65dcd86-fe89-486e-ebca-f8229d160b73"
      },
      "execution_count": 23,
      "outputs": [
        {
          "output_type": "execute_result",
          "data": {
            "text/plain": [
              "array(['BACKGROUND', 'CONCLUSIONS', 'METHODS', 'OBJECTIVE', 'RESULTS'],\n",
              "      dtype=object)"
            ]
          },
          "metadata": {},
          "execution_count": 23
        }
      ]
    },
    {
      "cell_type": "markdown",
      "source": [
        "## Create a base model using TF-IDF and Native Bayes"
      ],
      "metadata": {
        "id": "DM9erZzaahfy"
      }
    },
    {
      "cell_type": "code",
      "source": [
        "from sklearn.feature_extraction.text import TfidfVectorizer\n",
        "from sklearn.naive_bayes import MultinomialNB\n",
        "from sklearn.pipeline import Pipeline\n"
      ],
      "metadata": {
        "id": "RELXuD1dUx1Y"
      },
      "execution_count": 24,
      "outputs": []
    },
    {
      "cell_type": "code",
      "source": [
        "tfidf = TfidfVectorizer()\n",
        "\n",
        "tfidf.fit(train_sentences)\n",
        "\n",
        "X_train = tfidf.transform(train_sentences)\n",
        "X_test = tfidf.transform(test_sentences)\n",
        "X_val = tfidf.transform(val_sentences)"
      ],
      "metadata": {
        "id": "8ClRSUanayDC"
      },
      "execution_count": 25,
      "outputs": []
    },
    {
      "cell_type": "code",
      "source": [
        "X_train.shape, X_test.shape, X_val.shape\n"
      ],
      "metadata": {
        "colab": {
          "base_uri": "https://localhost:8080/"
        },
        "id": "dyuw-D_ga3bM",
        "outputId": "3e37106f-33f3-4da9-9e57-d51d27ea7650"
      },
      "execution_count": 26,
      "outputs": [
        {
          "output_type": "execute_result",
          "data": {
            "text/plain": [
              "((180040, 45871), (30135, 45871), (30212, 45871))"
            ]
          },
          "metadata": {},
          "execution_count": 26
        }
      ]
    },
    {
      "cell_type": "code",
      "source": [
        "print(f\"Vocabulary len is {len(tfidf.vocabulary_)}\")"
      ],
      "metadata": {
        "colab": {
          "base_uri": "https://localhost:8080/"
        },
        "id": "E7J7SByfbEiD",
        "outputId": "52dc4178-9fe8-4e16-ec9a-e5c65668e950"
      },
      "execution_count": 27,
      "outputs": [
        {
          "output_type": "stream",
          "name": "stdout",
          "text": [
            "Vocabulary len is 45871\n"
          ]
        }
      ]
    },
    {
      "cell_type": "code",
      "source": [
        "clf = MultinomialNB()\n",
        "clf.fit(X_train, y_train_categorical)\n",
        "\n",
        "clf.score(X_val, y_val_categorical)\n"
      ],
      "metadata": {
        "colab": {
          "base_uri": "https://localhost:8080/"
        },
        "id": "9sz21j79bHhr",
        "outputId": "964419ac-33b8-4a79-f543-662821965978"
      },
      "execution_count": 28,
      "outputs": [
        {
          "output_type": "execute_result",
          "data": {
            "text/plain": [
              "0.7218323844829869"
            ]
          },
          "metadata": {},
          "execution_count": 28
        }
      ]
    },
    {
      "cell_type": "code",
      "source": [
        "y_test_categorical_pred = clf.predict(X_test)\n"
      ],
      "metadata": {
        "id": "dnv-6ABXbtsq"
      },
      "execution_count": 29,
      "outputs": []
    },
    {
      "cell_type": "code",
      "source": [
        "from sklearn.metrics import accuracy_score, precision_score, recall_score, f1_score\n",
        "from sklearn.metrics import confusion_matrix, classification_report\n"
      ],
      "metadata": {
        "id": "tnpX461gb777"
      },
      "execution_count": 30,
      "outputs": []
    },
    {
      "cell_type": "code",
      "source": [
        "print(classification_report(y_test_categorical, y_test_categorical_pred, target_names=label_encoder.classes_))"
      ],
      "metadata": {
        "colab": {
          "base_uri": "https://localhost:8080/"
        },
        "id": "9dGOjZbFg9rK",
        "outputId": "b12a7f0a-5e56-4c86-a696-3107b0db0925"
      },
      "execution_count": 31,
      "outputs": [
        {
          "output_type": "stream",
          "name": "stdout",
          "text": [
            "              precision    recall  f1-score   support\n",
            "\n",
            "  BACKGROUND       0.65      0.47      0.54      3621\n",
            " CONCLUSIONS       0.63      0.58      0.60      4571\n",
            "     METHODS       0.72      0.88      0.79      9897\n",
            "   OBJECTIVE       0.74      0.13      0.22      2333\n",
            "     RESULTS       0.76      0.85      0.80      9713\n",
            "\n",
            "    accuracy                           0.72     30135\n",
            "   macro avg       0.70      0.58      0.59     30135\n",
            "weighted avg       0.71      0.72      0.69     30135\n",
            "\n"
          ]
        }
      ]
    },
    {
      "cell_type": "code",
      "source": [
        "y_val_categorical_pred = clf.predict(X_val)\n",
        "print(classification_report(y_val_categorical, y_val_categorical_pred, target_names=label_encoder.classes_))\n"
      ],
      "metadata": {
        "colab": {
          "base_uri": "https://localhost:8080/"
        },
        "id": "bcIRYaZHg_oO",
        "outputId": "551bfbe3-2213-4ba9-f049-4a2a1505d049"
      },
      "execution_count": 32,
      "outputs": [
        {
          "output_type": "stream",
          "name": "stdout",
          "text": [
            "              precision    recall  f1-score   support\n",
            "\n",
            "  BACKGROUND       0.66      0.49      0.56      3449\n",
            " CONCLUSIONS       0.65      0.59      0.61      4582\n",
            "     METHODS       0.72      0.87      0.79      9964\n",
            "   OBJECTIVE       0.75      0.14      0.23      2376\n",
            "     RESULTS       0.76      0.86      0.81      9841\n",
            "\n",
            "    accuracy                           0.72     30212\n",
            "   macro avg       0.71      0.59      0.60     30212\n",
            "weighted avg       0.72      0.72      0.70     30212\n",
            "\n"
          ]
        }
      ]
    },
    {
      "cell_type": "code",
      "source": [
        "def calculate_results(y_true, y_pred):\n",
        "  acc = accuracy_score(y_true, y_pred)\n",
        "  prec = precision_score(y_true, y_pred, average='weighted')\n",
        "  rec = recall_score(y_true, y_pred, average='weighted')\n",
        "  f1 = f1_score(y_true, y_pred, average='weighted')\n",
        "  print(f\"Accuracy : {acc}\")\n",
        "  print(f\"Precision : {prec}\")\n",
        "  print(f\"Recall : {rec}\")\n",
        "  print(f\"F1 : {f1}\")"
      ],
      "metadata": {
        "id": "2S2W8TbUfOEh"
      },
      "execution_count": 33,
      "outputs": []
    },
    {
      "cell_type": "code",
      "source": [
        "calculate_results(y_val_categorical, y_val_categorical_pred)"
      ],
      "metadata": {
        "colab": {
          "base_uri": "https://localhost:8080/"
        },
        "id": "wE4Pv2jAgT53",
        "outputId": "17fbcebe-f6eb-4db4-b1b7-80a47fe474d1"
      },
      "execution_count": 34,
      "outputs": [
        {
          "output_type": "stream",
          "name": "stdout",
          "text": [
            "Accuracy : 0.7218323844829869\n",
            "Precision : 0.7186466952323352\n",
            "Recall : 0.7218323844829869\n",
            "F1 : 0.6989250353450294\n"
          ]
        }
      ]
    },
    {
      "cell_type": "markdown",
      "source": [
        "## Cretae Conv1D model using Embbeding"
      ],
      "metadata": {
        "id": "KA8Yoy6K2jju"
      }
    },
    {
      "cell_type": "code",
      "source": [
        "# Prepare data to embbedding\n",
        "import tensorflow as tf\n",
        "from tensorflow.keras.layers.experimental.preprocessing import TextVectorization\n",
        "import numpy as np"
      ],
      "metadata": {
        "id": "rLN_PrIVi2eE"
      },
      "execution_count": 35,
      "outputs": []
    },
    {
      "cell_type": "code",
      "source": [
        "len(train_sentences)"
      ],
      "metadata": {
        "colab": {
          "base_uri": "https://localhost:8080/"
        },
        "id": "ZvVFiZSW9MAz",
        "outputId": "2782b3c3-ef86-462b-d9cd-d445573eda5f"
      },
      "execution_count": 36,
      "outputs": [
        {
          "output_type": "execute_result",
          "data": {
            "text/plain": [
              "180040"
            ]
          },
          "metadata": {},
          "execution_count": 36
        }
      ]
    },
    {
      "cell_type": "code",
      "source": [
        "train_sentences[3]"
      ],
      "metadata": {
        "colab": {
          "base_uri": "https://localhost:8080/",
          "height": 35
        },
        "id": "rAoeVmqy9SvQ",
        "outputId": "acef543a-31ed-4f21-93be-14b19b294916"
      },
      "execution_count": 37,
      "outputs": [
        {
          "output_type": "execute_result",
          "data": {
            "text/plain": [
              "'pain was assessed using the visual analog pain scale ( @-@ mm ) .'"
            ],
            "application/vnd.google.colaboratory.intrinsic+json": {
              "type": "string"
            }
          },
          "metadata": {},
          "execution_count": 37
        }
      ]
    },
    {
      "cell_type": "code",
      "source": [
        "import matplotlib.pyplot as plt\n",
        "\n",
        "lens = [len(x.split()) for x in train_sentences]\n",
        "plt.hist(lens, bins = 20);\n"
      ],
      "metadata": {
        "colab": {
          "base_uri": "https://localhost:8080/",
          "height": 430
        },
        "id": "QqykNqx13CHg",
        "outputId": "900ec76b-f772-4292-d9f2-37a2ebb84e0b"
      },
      "execution_count": 38,
      "outputs": [
        {
          "output_type": "display_data",
          "data": {
            "text/plain": [
              "<Figure size 640x480 with 1 Axes>"
            ],
            "image/png": "[encoded data removed]"
          },
          "metadata": {}
        }
      ]
    },
    {
      "cell_type": "code",
      "source": [
        "np.max(lens), np.mean(lens), np.min(lens)"
      ],
      "metadata": {
        "colab": {
          "base_uri": "https://localhost:8080/"
        },
        "id": "br8Aot2-9fvI",
        "outputId": "e03841d6-0c43-43a2-b256-7bacaf7766c0"
      },
      "execution_count": 39,
      "outputs": [
        {
          "output_type": "execute_result",
          "data": {
            "text/plain": [
              "(296, 26.338269273494777, 1)"
            ]
          },
          "metadata": {},
          "execution_count": 39
        }
      ]
    },
    {
      "cell_type": "code",
      "source": [
        "np.quantile(lens, 0.95)"
      ],
      "metadata": {
        "colab": {
          "base_uri": "https://localhost:8080/"
        },
        "id": "pgwt6CcI4PiC",
        "outputId": "b01a2c43-c3e8-40ed-81f9-4a326ff4c546"
      },
      "execution_count": 40,
      "outputs": [
        {
          "output_type": "execute_result",
          "data": {
            "text/plain": [
              "55.0"
            ]
          },
          "metadata": {},
          "execution_count": 40
        }
      ]
    },
    {
      "cell_type": "code",
      "source": [
        "max_vocab_length = 68000\n",
        "max_length = 55\n",
        "\n",
        "text_vectorizer = TextVectorization(max_tokens=max_vocab_length,\n",
        "                                    output_sequence_length=max_length)\n",
        "\n",
        "text_vectorizer.adapt(train_sentences)"
      ],
      "metadata": {
        "id": "qHuNxgp32y-F"
      },
      "execution_count": 41,
      "outputs": []
    },
    {
      "cell_type": "code",
      "source": [
        "text_vectorizer(train_sentences[10])"
      ],
      "metadata": {
        "colab": {
          "base_uri": "https://localhost:8080/"
        },
        "id": "ohY5SunjEqBG",
        "outputId": "c94ba71a-2845-4920-c883-6cb2a18ceb11"
      },
      "execution_count": 42,
      "outputs": [
        {
          "output_type": "execute_result",
          "data": {
            "text/plain": [
              "<tf.Tensor: shape=(55,), dtype=int64, numpy=\n",
              "array([    2,    86,   213,     5,  4358,    47, 33550,   285,  1702,\n",
              "         848,  3555,    78,    10,     5,     2,    38,    13,     3,\n",
              "           5,     2,    48,    13,    14,     0,     0,     0,     0,\n",
              "           0,     0,     0,     0,     0,     0,     0,     0,     0,\n",
              "           0,     0,     0,     0,     0,     0,     0,     0,     0,\n",
              "           0,     0,     0,     0,     0,     0,     0,     0,     0,\n",
              "           0])>"
            ]
          },
          "metadata": {},
          "execution_count": 42
        }
      ]
    },
    {
      "cell_type": "code",
      "source": [
        "y_train_categorical[10]"
      ],
      "metadata": {
        "colab": {
          "base_uri": "https://localhost:8080/"
        },
        "id": "tQ7HgwWVGGQT",
        "outputId": "3ed3ae59-764f-4410-d2a4-ac0ac4ebef34"
      },
      "execution_count": 43,
      "outputs": [
        {
          "output_type": "execute_result",
          "data": {
            "text/plain": [
              "4"
            ]
          },
          "metadata": {},
          "execution_count": 43
        }
      ]
    },
    {
      "cell_type": "code",
      "source": [
        "y_train_one_hot[10]"
      ],
      "metadata": {
        "colab": {
          "base_uri": "https://localhost:8080/"
        },
        "id": "AG2F0gouGNJ7",
        "outputId": "d445069d-9bad-492d-c3bf-75f7b124326b"
      },
      "execution_count": 44,
      "outputs": [
        {
          "output_type": "execute_result",
          "data": {
            "text/plain": [
              "array([0., 0., 0., 0., 1.])"
            ]
          },
          "metadata": {},
          "execution_count": 44
        }
      ]
    },
    {
      "cell_type": "code",
      "source": [
        "# create Conv1D model\n",
        "from tensorflow.keras.layers import Conv1D, MaxPool1D, GlobalMaxPool1D, Dropout, Input, Embedding, Dense\n",
        "\n",
        "def create_con1D_model():\n",
        "  embedding_dim=64\n",
        "\n",
        "  modelConv1D = tf.keras.Sequential()\n",
        "  modelConv1D.add(Input(shape=(1,), dtype=tf.string))\n",
        "  modelConv1D.add(text_vectorizer)\n",
        "  modelConv1D.add(Embedding(max_vocab_length, embedding_dim, input_length=max_length))\n",
        "  modelConv1D.add(Conv1D(32, 3, activation='relu'))\n",
        "  modelConv1D.add(GlobalMaxPool1D())\n",
        "  modelConv1D.add(Dense(16, activation='relu'))\n",
        "  modelConv1D.add(Dropout(0.5))\n",
        "  modelConv1D.add(Dense(5, activation='softmax'))\n",
        "\n",
        "  modelConv1D.compile(loss='categorical_crossentropy', optimizer='adam', metrics=['accuracy'])\n",
        "  return modelConv1D"
      ],
      "metadata": {
        "id": "AGTIgDWd3Nnz"
      },
      "execution_count": 45,
      "outputs": []
    },
    {
      "cell_type": "code",
      "source": [
        "modelConv1D = create_con1D_model()\n",
        "modelConv1D.summary()"
      ],
      "metadata": {
        "colab": {
          "base_uri": "https://localhost:8080/"
        },
        "id": "IkLkyVp6dQz9",
        "outputId": "22772f79-f63e-474f-bd21-754908ca4402"
      },
      "execution_count": 46,
      "outputs": [
        {
          "output_type": "stream",
          "name": "stdout",
          "text": [
            "Model: \"sequential\"\n",
            "_________________________________________________________________\n",
            " Layer (type)                Output Shape              Param #   \n",
            "=================================================================\n",
            " text_vectorization (TextVec  (None, 55)               0         \n",
            " torization)                                                     \n",
            "                                                                 \n",
            " embedding (Embedding)       (None, 55, 64)            4352000   \n",
            "                                                                 \n",
            " conv1d (Conv1D)             (None, 53, 32)            6176      \n",
            "                                                                 \n",
            " global_max_pooling1d (Globa  (None, 32)               0         \n",
            " lMaxPooling1D)                                                  \n",
            "                                                                 \n",
            " dense (Dense)               (None, 16)                528       \n",
            "                                                                 \n",
            " dropout (Dropout)           (None, 16)                0         \n",
            "                                                                 \n",
            " dense_1 (Dense)             (None, 5)                 85        \n",
            "                                                                 \n",
            "=================================================================\n",
            "Total params: 4,358,789\n",
            "Trainable params: 4,358,789\n",
            "Non-trainable params: 0\n",
            "_________________________________________________________________\n"
          ]
        }
      ]
    },
    {
      "cell_type": "code",
      "source": [
        "train_sentences = np.array(train_sentences)\n",
        "val_sentences = np.array(val_sentences)\n"
      ],
      "metadata": {
        "id": "x5eopvrpGgZ-"
      },
      "execution_count": 47,
      "outputs": []
    },
    {
      "cell_type": "code",
      "source": [
        "train_sentences.dtype"
      ],
      "metadata": {
        "colab": {
          "base_uri": "https://localhost:8080/"
        },
        "id": "qJBXRct6HKXz",
        "outputId": "9cb463b9-6b14-450c-8536-0f66f4d23502"
      },
      "execution_count": 48,
      "outputs": [
        {
          "output_type": "execute_result",
          "data": {
            "text/plain": [
              "dtype('<U1386')"
            ]
          },
          "metadata": {},
          "execution_count": 48
        }
      ]
    },
    {
      "cell_type": "code",
      "source": [
        "type(train_sentences)"
      ],
      "metadata": {
        "colab": {
          "base_uri": "https://localhost:8080/"
        },
        "id": "oIoI2YoqHXj-",
        "outputId": "8d6d97d7-21ed-450f-b894-ce7540c26829"
      },
      "execution_count": 49,
      "outputs": [
        {
          "output_type": "execute_result",
          "data": {
            "text/plain": [
              "numpy.ndarray"
            ]
          },
          "metadata": {},
          "execution_count": 49
        }
      ]
    },
    {
      "cell_type": "code",
      "source": [
        "y_val_one_hot"
      ],
      "metadata": {
        "colab": {
          "base_uri": "https://localhost:8080/"
        },
        "id": "ISFbpvg9HcZG",
        "outputId": "5f2f07b2-9ed1-4105-cffa-48def3b0a544"
      },
      "execution_count": 50,
      "outputs": [
        {
          "output_type": "execute_result",
          "data": {
            "text/plain": [
              "array([[1., 0., 0., 0., 0.],\n",
              "       [1., 0., 0., 0., 0.],\n",
              "       [0., 0., 0., 1., 0.],\n",
              "       ...,\n",
              "       [0., 0., 0., 0., 1.],\n",
              "       [0., 1., 0., 0., 0.],\n",
              "       [0., 1., 0., 0., 0.]])"
            ]
          },
          "metadata": {},
          "execution_count": 50
        }
      ]
    },
    {
      "cell_type": "code",
      "source": [
        "historyConv1D = modelConv1D.fit(\n",
        "    train_sentences,\n",
        "    y_train_one_hot,\n",
        "    epochs=10,\n",
        "    batch_size=32,\n",
        "    validation_data=(val_sentences, y_val_one_hot))"
      ],
      "metadata": {
        "colab": {
          "base_uri": "https://localhost:8080/"
        },
        "id": "mLaBgssq6p6m",
        "outputId": "2e3871c0-ddcc-4366-aa02-56df345f45f5"
      },
      "execution_count": 51,
      "outputs": [
        {
          "output_type": "stream",
          "name": "stdout",
          "text": [
            "Epoch 1/10\n",
            "5627/5627 [==============================] - 99s 16ms/step - loss: 0.7841 - accuracy: 0.7025 - val_loss: 0.5437 - val_accuracy: 0.8024\n",
            "Epoch 2/10\n",
            "5627/5627 [==============================] - 46s 8ms/step - loss: 0.6200 - accuracy: 0.7629 - val_loss: 0.5214 - val_accuracy: 0.8099\n",
            "Epoch 3/10\n",
            "5627/5627 [==============================] - 43s 8ms/step - loss: 0.5404 - accuracy: 0.7875 - val_loss: 0.5298 - val_accuracy: 0.8090\n",
            "Epoch 4/10\n",
            "5627/5627 [==============================] - 47s 8ms/step - loss: 0.4766 - accuracy: 0.8087 - val_loss: 0.5662 - val_accuracy: 0.8044\n",
            "Epoch 5/10\n",
            "5627/5627 [==============================] - 52s 9ms/step - loss: 0.4254 - accuracy: 0.8248 - val_loss: 0.6168 - val_accuracy: 0.8001\n",
            "Epoch 6/10\n",
            "5627/5627 [==============================] - 46s 8ms/step - loss: 0.3875 - accuracy: 0.8368 - val_loss: 0.6790 - val_accuracy: 0.7942\n",
            "Epoch 7/10\n",
            "5627/5627 [==============================] - 44s 8ms/step - loss: 0.3577 - accuracy: 0.8458 - val_loss: 0.7553 - val_accuracy: 0.7923\n",
            "Epoch 8/10\n",
            "5627/5627 [==============================] - 43s 8ms/step - loss: 0.3358 - accuracy: 0.8557 - val_loss: 0.7641 - val_accuracy: 0.7905\n",
            "Epoch 9/10\n",
            "5627/5627 [==============================] - 42s 8ms/step - loss: 0.3141 - accuracy: 0.8636 - val_loss: 0.8456 - val_accuracy: 0.7879\n",
            "Epoch 10/10\n",
            "5627/5627 [==============================] - 44s 8ms/step - loss: 0.2814 - accuracy: 0.8795 - val_loss: 0.9301 - val_accuracy: 0.7784\n"
          ]
        }
      ]
    },
    {
      "cell_type": "code",
      "source": [
        "pd.DataFrame(historyConv1D.history).plot()"
      ],
      "metadata": {
        "colab": {
          "base_uri": "https://localhost:8080/",
          "height": 447
        },
        "id": "dCJq5OsQHbfz",
        "outputId": "222ab1aa-f633-4559-94c1-19e831a3affe"
      },
      "execution_count": 52,
      "outputs": [
        {
          "output_type": "execute_result",
          "data": {
            "text/plain": [
              "<Axes: >"
            ]
          },
          "metadata": {},
          "execution_count": 52
        },
        {
          "output_type": "display_data",
          "data": {
            "text/plain": [
              "<Figure size 640x480 with 1 Axes>"
            ],
            "image/png": "[encoded data removed]"
          },
          "metadata": {}
        }
      ]
    },
    {
      "cell_type": "code",
      "source": [
        "# create dataset for train and callbacks for training\n",
        "train_dataset = tf.data.Dataset.from_tensor_slices((train_sentences, y_train_one_hot))\n",
        "val_dataset = tf.data.Dataset.from_tensor_slices((val_sentences, y_val_one_hot))\n",
        "test_dataset = tf.data.Dataset.from_tensor_slices((test_sentences, y_test_one_hot))\n",
        "\n",
        "train_dataset = train_dataset.batch(32).prefetch(tf.data.AUTOTUNE)\n",
        "val_dataset = val_dataset.batch(32).prefetch(tf.data.AUTOTUNE)\n",
        "test_dataset = test_dataset.batch(32).prefetch(tf.data.AUTOTUNE)\n"
      ],
      "metadata": {
        "id": "L1g5HOHsGepe"
      },
      "execution_count": 53,
      "outputs": []
    },
    {
      "cell_type": "code",
      "source": [],
      "metadata": {
        "id": "XVot147Anlai"
      },
      "execution_count": 53,
      "outputs": []
    },
    {
      "cell_type": "code",
      "source": [
        "modelConv1D_2 = create_con1D_model()\n",
        "modelConv1D_2.summary()"
      ],
      "metadata": {
        "colab": {
          "base_uri": "https://localhost:8080/"
        },
        "id": "gx_iKFuKFhJM",
        "outputId": "01192401-ba26-4f79-c976-8841da26ac24"
      },
      "execution_count": 54,
      "outputs": [
        {
          "output_type": "stream",
          "name": "stdout",
          "text": [
            "Model: \"sequential_1\"\n",
            "_________________________________________________________________\n",
            " Layer (type)                Output Shape              Param #   \n",
            "=================================================================\n",
            " text_vectorization (TextVec  (None, 55)               0         \n",
            " torization)                                                     \n",
            "                                                                 \n",
            " embedding_1 (Embedding)     (None, 55, 64)            4352000   \n",
            "                                                                 \n",
            " conv1d_1 (Conv1D)           (None, 53, 32)            6176      \n",
            "                                                                 \n",
            " global_max_pooling1d_1 (Glo  (None, 32)               0         \n",
            " balMaxPooling1D)                                                \n",
            "                                                                 \n",
            " dense_2 (Dense)             (None, 16)                528       \n",
            "                                                                 \n",
            " dropout_1 (Dropout)         (None, 16)                0         \n",
            "                                                                 \n",
            " dense_3 (Dense)             (None, 5)                 85        \n",
            "                                                                 \n",
            "=================================================================\n",
            "Total params: 4,358,789\n",
            "Trainable params: 4,358,789\n",
            "Non-trainable params: 0\n",
            "_________________________________________________________________\n"
          ]
        }
      ]
    },
    {
      "cell_type": "code",
      "source": [
        "historyConv1D_2 = modelConv1D_2.fit(\n",
        "    train_dataset,\n",
        "    steps_per_epoch=int(len(train_dataset)*0.1),\n",
        "    epochs=5,\n",
        "    validation_data=val_dataset,\n",
        "    validation_steps=int(len(train_dataset)*0.1))"
      ],
      "metadata": {
        "colab": {
          "base_uri": "https://localhost:8080/"
        },
        "id": "aDv4UIsedc79",
        "outputId": "ceda336e-b816-4373-fbf2-b609919a9e1b"
      },
      "execution_count": 55,
      "outputs": [
        {
          "output_type": "stream",
          "name": "stdout",
          "text": [
            "Epoch 1/5\n",
            "562/562 [==============================] - 31s 53ms/step - loss: 1.1493 - accuracy: 0.5140 - val_loss: 0.7678 - val_accuracy: 0.7260\n",
            "Epoch 2/5\n",
            "562/562 [==============================] - 10s 17ms/step - loss: 0.8482 - accuracy: 0.6764 - val_loss: 0.6569 - val_accuracy: 0.7666\n",
            "Epoch 3/5\n",
            "562/562 [==============================] - 7s 12ms/step - loss: 0.7909 - accuracy: 0.6986 - val_loss: 0.6144 - val_accuracy: 0.7812\n",
            "Epoch 4/5\n",
            "562/562 [==============================] - 5s 9ms/step - loss: 0.7561 - accuracy: 0.7175 - val_loss: 0.5939 - val_accuracy: 0.7874\n",
            "Epoch 5/5\n",
            "562/562 [==============================] - 7s 12ms/step - loss: 0.7420 - accuracy: 0.7281 - val_loss: 0.5733 - val_accuracy: 0.7918\n"
          ]
        }
      ]
    },
    {
      "cell_type": "code",
      "source": [
        "pd.DataFrame(historyConv1D_2.history).plot()\n"
      ],
      "metadata": {
        "colab": {
          "base_uri": "https://localhost:8080/",
          "height": 447
        },
        "id": "ZAFr3hLRdjnJ",
        "outputId": "6f7e0079-5d7f-42d1-ae02-10d9f739bbe2"
      },
      "execution_count": 56,
      "outputs": [
        {
          "output_type": "execute_result",
          "data": {
            "text/plain": [
              "<Axes: >"
            ]
          },
          "metadata": {},
          "execution_count": 56
        },
        {
          "output_type": "display_data",
          "data": {
            "text/plain": [
              "<Figure size 640x480 with 1 Axes>"
            ],
            "image/png": "[encoded data removed]"
          },
          "metadata": {}
        }
      ]
    },
    {
      "cell_type": "code",
      "source": [
        "modelConv1D_2.evaluate(val_dataset)"
      ],
      "metadata": {
        "colab": {
          "base_uri": "https://localhost:8080/"
        },
        "id": "MO3RdX3be50o",
        "outputId": "c2129d3e-09b8-45de-b6bc-e467931882e6"
      },
      "execution_count": 57,
      "outputs": [
        {
          "output_type": "stream",
          "name": "stdout",
          "text": [
            "945/945 [==============================] - 3s 3ms/step - loss: 0.5808 - accuracy: 0.7896\n"
          ]
        },
        {
          "output_type": "execute_result",
          "data": {
            "text/plain": [
              "[0.5807731747627258, 0.7895538210868835]"
            ]
          },
          "metadata": {},
          "execution_count": 57
        }
      ]
    },
    {
      "cell_type": "code",
      "source": [
        "modelConv1D_2.evaluate(test_dataset)"
      ],
      "metadata": {
        "colab": {
          "base_uri": "https://localhost:8080/"
        },
        "id": "f8--kq5egERS",
        "outputId": "964c5377-024c-463e-9d7a-5b33cdf04e23"
      },
      "execution_count": 58,
      "outputs": [
        {
          "output_type": "stream",
          "name": "stdout",
          "text": [
            "942/942 [==============================] - 3s 3ms/step - loss: 0.5999 - accuracy: 0.7819\n"
          ]
        },
        {
          "output_type": "execute_result",
          "data": {
            "text/plain": [
              "[0.5998702645301819, 0.7819147109985352]"
            ]
          },
          "metadata": {},
          "execution_count": 58
        }
      ]
    },
    {
      "cell_type": "code",
      "source": [
        "val_predicts1 = modelConv1D_2.predict(val_dataset)\n"
      ],
      "metadata": {
        "colab": {
          "base_uri": "https://localhost:8080/"
        },
        "id": "9VfaYVMJgOJv",
        "outputId": "69f2f9af-8d5b-488a-b116-9f170d02773f"
      },
      "execution_count": 59,
      "outputs": [
        {
          "output_type": "stream",
          "name": "stdout",
          "text": [
            "945/945 [==============================] - 3s 3ms/step\n"
          ]
        }
      ]
    },
    {
      "cell_type": "code",
      "source": [
        "val_predicts1"
      ],
      "metadata": {
        "colab": {
          "base_uri": "https://localhost:8080/"
        },
        "id": "BHA_Egf1hOpk",
        "outputId": "6a04487a-7d62-4208-a05f-037cdc873864"
      },
      "execution_count": 60,
      "outputs": [
        {
          "output_type": "execute_result",
          "data": {
            "text/plain": [
              "array([[4.38839793e-01, 3.42835903e-01, 3.04349195e-02, 1.75308362e-01,\n",
              "        1.25810727e-02],\n",
              "       [3.12133759e-01, 4.94461983e-01, 3.06315646e-02, 1.31215140e-01,\n",
              "        3.15575004e-02],\n",
              "       [3.74879479e-01, 4.48812395e-02, 5.66780157e-02, 5.14715195e-01,\n",
              "        8.84604361e-03],\n",
              "       ...,\n",
              "       [1.91458603e-05, 2.69553671e-03, 2.28465721e-02, 3.08681615e-06,\n",
              "        9.74435687e-01],\n",
              "       [6.93601817e-02, 2.95331895e-01, 1.09251156e-01, 4.50338349e-02,\n",
              "        4.81022865e-01],\n",
              "       [1.88869238e-01, 6.25429511e-01, 1.05302244e-01, 2.80390810e-02,\n",
              "        5.23599871e-02]], dtype=float32)"
            ]
          },
          "metadata": {},
          "execution_count": 60
        }
      ]
    },
    {
      "cell_type": "code",
      "source": [
        "val_predicts1.shape"
      ],
      "metadata": {
        "colab": {
          "base_uri": "https://localhost:8080/"
        },
        "id": "KWewMn_MhW70",
        "outputId": "86dbcd5a-a60f-44f5-87da-dfa51f0991b1"
      },
      "execution_count": 61,
      "outputs": [
        {
          "output_type": "execute_result",
          "data": {
            "text/plain": [
              "(30212, 5)"
            ]
          },
          "metadata": {},
          "execution_count": 61
        }
      ]
    },
    {
      "cell_type": "code",
      "source": [
        "val_predicts1.argmax(axis=1)\n"
      ],
      "metadata": {
        "colab": {
          "base_uri": "https://localhost:8080/"
        },
        "id": "cyHoy1jrha0-",
        "outputId": "7dc0c40a-a7df-4889-da90-c4eb24a85fa9"
      },
      "execution_count": 62,
      "outputs": [
        {
          "output_type": "execute_result",
          "data": {
            "text/plain": [
              "array([0, 1, 3, ..., 4, 4, 1])"
            ]
          },
          "metadata": {},
          "execution_count": 62
        }
      ]
    },
    {
      "cell_type": "code",
      "source": [
        "calculate_results(y_val_categorical, val_predicts1.argmax(axis=1))"
      ],
      "metadata": {
        "colab": {
          "base_uri": "https://localhost:8080/"
        },
        "id": "gpWihYYshLjp",
        "outputId": "0bd6a353-186b-4176-b06c-982d63024f82"
      },
      "execution_count": 63,
      "outputs": [
        {
          "output_type": "stream",
          "name": "stdout",
          "text": [
            "Accuracy : 0.7895538196743016\n",
            "Precision : 0.787277331012111\n",
            "Recall : 0.7895538196743016\n",
            "F1 : 0.7857575706812808\n"
          ]
        }
      ]
    },
    {
      "cell_type": "code",
      "source": [
        "print(classification_report(y_val_categorical, val_predicts1.argmax(axis=1), target_names=label_encoder.classes_))"
      ],
      "metadata": {
        "colab": {
          "base_uri": "https://localhost:8080/"
        },
        "id": "rSCsQPPhhvNR",
        "outputId": "e6fcd31c-2c4a-4dff-9c3e-20fc66dd069c"
      },
      "execution_count": 64,
      "outputs": [
        {
          "output_type": "stream",
          "name": "stdout",
          "text": [
            "              precision    recall  f1-score   support\n",
            "\n",
            "  BACKGROUND       0.57      0.62      0.59      3449\n",
            " CONCLUSIONS       0.69      0.67      0.68      4582\n",
            "     METHODS       0.85      0.91      0.88      9964\n",
            "   OBJECTIVE       0.71      0.45      0.55      2376\n",
            "     RESULTS       0.86      0.87      0.86      9841\n",
            "\n",
            "    accuracy                           0.79     30212\n",
            "   macro avg       0.74      0.70      0.71     30212\n",
            "weighted avg       0.79      0.79      0.79     30212\n",
            "\n"
          ]
        }
      ]
    },
    {
      "cell_type": "markdown",
      "source": [
        "## Create Conv1D using prentraining embedding using universal-sentence-encoder from Tensorflow Hub"
      ],
      "metadata": {
        "id": "z6t9t1E1h0bY"
      }
    },
    {
      "cell_type": "code",
      "source": [
        "import tensorflow_hub as hub\n",
        "\n",
        "embed = hub.load(\"https://tfhub.dev/google/universal-sentence-encoder/4\")"
      ],
      "metadata": {
        "id": "Dd1d8mSThvxV"
      },
      "execution_count": 65,
      "outputs": []
    },
    {
      "cell_type": "code",
      "source": [
        "def create_use_model():\n",
        "  model = tf.keras.Sequential()\n",
        "  model.add(Input(shape=[], dtype=tf.string))\n",
        "  model.add(hub.KerasLayer(\"https://tfhub.dev/google/universal-sentence-encoder/4\",\n",
        "                                        trainable=False,\n",
        "                                        name=\"universal_sentence_encoder\"))\n",
        "  model.add(Dense(16, activation='relu'))\n",
        "  model.add(Dropout(0.5))\n",
        "  model.add(Dense(5, activation='softmax'))\n",
        "\n",
        "  model.compile(loss='categorical_crossentropy', optimizer='adam', metrics=['accuracy'])\n",
        "  return model"
      ],
      "metadata": {
        "id": "DihYO_SSC5rx"
      },
      "execution_count": 66,
      "outputs": []
    },
    {
      "cell_type": "code",
      "source": [
        "train_sentences[0]"
      ],
      "metadata": {
        "colab": {
          "base_uri": "https://localhost:8080/",
          "height": 53
        },
        "id": "Ogy_wl9xDbJi",
        "outputId": "560cda65-4b7d-4718-f9e6-8984b78746ec"
      },
      "execution_count": 67,
      "outputs": [
        {
          "output_type": "execute_result",
          "data": {
            "text/plain": [
              "'to investigate the efficacy of @ weeks of daily low-dose oral prednisolone in improving pain , mobility , and systemic low-grade inflammation in the short term and whether the effect would be sustained at @ weeks in older adults with moderate to severe knee osteoarthritis ( oa ) .'"
            ],
            "application/vnd.google.colaboratory.intrinsic+json": {
              "type": "string"
            }
          },
          "metadata": {},
          "execution_count": 67
        }
      ]
    },
    {
      "cell_type": "code",
      "source": [
        "embed([train_sentences[0]]).shape\n"
      ],
      "metadata": {
        "colab": {
          "base_uri": "https://localhost:8080/"
        },
        "id": "oCh54AedECPX",
        "outputId": "4bdc8b9c-fca0-4cb7-e47b-f19cbd708667"
      },
      "execution_count": 68,
      "outputs": [
        {
          "output_type": "execute_result",
          "data": {
            "text/plain": [
              "TensorShape([1, 512])"
            ]
          },
          "metadata": {},
          "execution_count": 68
        }
      ]
    },
    {
      "cell_type": "code",
      "source": [
        "model_use = create_use_model()\n",
        "model_use.summary()\n"
      ],
      "metadata": {
        "colab": {
          "base_uri": "https://localhost:8080/"
        },
        "id": "z8JexiChEEt8",
        "outputId": "4afbe6af-ad6c-4781-eb42-92fd9f497a7c"
      },
      "execution_count": 69,
      "outputs": [
        {
          "output_type": "stream",
          "name": "stdout",
          "text": [
            "Model: \"sequential_2\"\n",
            "_________________________________________________________________\n",
            " Layer (type)                Output Shape              Param #   \n",
            "=================================================================\n",
            " universal_sentence_encoder   (None, 512)              256797824 \n",
            " (KerasLayer)                                                    \n",
            "                                                                 \n",
            " dense_4 (Dense)             (None, 16)                8208      \n",
            "                                                                 \n",
            " dropout_2 (Dropout)         (None, 16)                0         \n",
            "                                                                 \n",
            " dense_5 (Dense)             (None, 5)                 85        \n",
            "                                                                 \n",
            "=================================================================\n",
            "Total params: 256,806,117\n",
            "Trainable params: 8,293\n",
            "Non-trainable params: 256,797,824\n",
            "_________________________________________________________________\n"
          ]
        }
      ]
    },
    {
      "cell_type": "code",
      "source": [
        "hisory_use = model_use.fit(\n",
        "    train_dataset,\n",
        "    steps_per_epoch=int(len(train_dataset)*0.1),\n",
        "    epochs=5,\n",
        "    validation_data=val_dataset,\n",
        "    validation_steps=int(len(train_dataset)*0.1))"
      ],
      "metadata": {
        "colab": {
          "base_uri": "https://localhost:8080/"
        },
        "id": "Vy5Gb_DXEc3B",
        "outputId": "bcd73062-53dc-4d41-a447-49a8997c0839"
      },
      "execution_count": 70,
      "outputs": [
        {
          "output_type": "stream",
          "name": "stdout",
          "text": [
            "Epoch 1/5\n",
            "562/562 [==============================] - 17s 24ms/step - loss: 1.1878 - accuracy: 0.5168 - val_loss: 0.9527 - val_accuracy: 0.6417\n",
            "Epoch 2/5\n",
            "562/562 [==============================] - 13s 23ms/step - loss: 0.9993 - accuracy: 0.5970 - val_loss: 0.8751 - val_accuracy: 0.6644\n",
            "Epoch 3/5\n",
            "562/562 [==============================] - 13s 22ms/step - loss: 0.9585 - accuracy: 0.6127 - val_loss: 0.8435 - val_accuracy: 0.6724\n",
            "Epoch 4/5\n",
            "562/562 [==============================] - 13s 22ms/step - loss: 0.9307 - accuracy: 0.6284 - val_loss: 0.8301 - val_accuracy: 0.6754\n",
            "Epoch 5/5\n",
            "562/562 [==============================] - 13s 22ms/step - loss: 0.9361 - accuracy: 0.6248 - val_loss: 0.8157 - val_accuracy: 0.6826\n"
          ]
        }
      ]
    },
    {
      "cell_type": "code",
      "source": [
        "val_predicts_usa = model_use.predict(val_dataset)"
      ],
      "metadata": {
        "colab": {
          "base_uri": "https://localhost:8080/"
        },
        "id": "qKLoJsArJjzJ",
        "outputId": "dbae38f0-9078-446b-b3de-aa00251ce140"
      },
      "execution_count": 71,
      "outputs": [
        {
          "output_type": "stream",
          "name": "stdout",
          "text": [
            "945/945 [==============================] - 11s 11ms/step\n"
          ]
        }
      ]
    },
    {
      "cell_type": "code",
      "source": [
        "calculate_results(y_val_categorical, val_predicts_usa.argmax(axis=1))"
      ],
      "metadata": {
        "colab": {
          "base_uri": "https://localhost:8080/"
        },
        "id": "E_OV5yyMJp1W",
        "outputId": "6b34f527-6fa4-4d14-ab0b-2fd68897164c"
      },
      "execution_count": 72,
      "outputs": [
        {
          "output_type": "stream",
          "name": "stdout",
          "text": [
            "Accuracy : 0.6795313120614326\n",
            "Precision : 0.680082714416192\n",
            "Recall : 0.6795313120614326\n",
            "F1 : 0.6642695177405429\n"
          ]
        }
      ]
    },
    {
      "cell_type": "code",
      "source": [
        "val_predicts_usa = model_use.predict(val_dataset)"
      ],
      "metadata": {
        "colab": {
          "base_uri": "https://localhost:8080/"
        },
        "id": "p_dzFIrEIkgF",
        "outputId": "dd99dbcb-7cbc-4d83-e1db-9fd908987412"
      },
      "execution_count": 73,
      "outputs": [
        {
          "output_type": "stream",
          "name": "stdout",
          "text": [
            "945/945 [==============================] - 10s 11ms/step\n"
          ]
        }
      ]
    },
    {
      "cell_type": "markdown",
      "source": [
        "## Create model using characters embeddibgs"
      ],
      "metadata": {
        "id": "5FaRVq9EUdaN"
      }
    },
    {
      "cell_type": "code",
      "source": [
        "## Create a character leval vectorizer\n",
        "def split_chars(text):\n",
        "  return \" \".join(list(text))\n"
      ],
      "metadata": {
        "id": "MeOx5sDfI4xV"
      },
      "execution_count": 74,
      "outputs": []
    },
    {
      "cell_type": "code",
      "source": [
        "train_sentences_chars = [split_chars(sentence) for sentence in train_sentences]\n",
        "val_sentences_chars = [split_chars(sentence) for sentence in val_sentences]\n",
        "test_sentences_char = [split_chars(sentence) for sentence in test_sentences]\n"
      ],
      "metadata": {
        "id": "r-zdkY-WWF7R"
      },
      "execution_count": 75,
      "outputs": []
    },
    {
      "cell_type": "code",
      "source": [
        "val_sentences[0], train_sentences[0], test_sentences[0]\n"
      ],
      "metadata": {
        "colab": {
          "base_uri": "https://localhost:8080/"
        },
        "id": "6C71dXXPWKoJ",
        "outputId": "ac8ab7bd-2631-435e-e1a0-ad09871a8e7e"
      },
      "execution_count": 76,
      "outputs": [
        {
          "output_type": "execute_result",
          "data": {
            "text/plain": [
              "('ige sensitization to aspergillus fumigatus and a positive sputum fungal culture result are common in patients with refractory asthma .',\n",
              " 'to investigate the efficacy of @ weeks of daily low-dose oral prednisolone in improving pain , mobility , and systemic low-grade inflammation in the short term and whether the effect would be sustained at @ weeks in older adults with moderate to severe knee osteoarthritis ( oa ) .',\n",
              " 'this study analyzed liver function abnormalities in heart failure patients admitted with severe acute decompensated heart failure ( adhf ) .')"
            ]
          },
          "metadata": {},
          "execution_count": 76
        }
      ]
    },
    {
      "cell_type": "code",
      "source": [
        "len(train_sentences_chars[1]), len(train_sentences[1])"
      ],
      "metadata": {
        "colab": {
          "base_uri": "https://localhost:8080/"
        },
        "id": "j9ApXy7UWMLJ",
        "outputId": "a1ee66f5-3ca1-4599-e3b2-72f77940e700"
      },
      "execution_count": 77,
      "outputs": [
        {
          "output_type": "execute_result",
          "data": {
            "text/plain": [
              "(273, 137)"
            ]
          },
          "metadata": {},
          "execution_count": 77
        }
      ]
    },
    {
      "cell_type": "code",
      "source": [
        "len(train_sentences[1])"
      ],
      "metadata": {
        "colab": {
          "base_uri": "https://localhost:8080/"
        },
        "id": "i_pSABB-WYR_",
        "outputId": "0f9b7e87-0d58-4d14-8544-2d951365adf0"
      },
      "execution_count": 78,
      "outputs": [
        {
          "output_type": "execute_result",
          "data": {
            "text/plain": [
              "137"
            ]
          },
          "metadata": {},
          "execution_count": 78
        }
      ]
    },
    {
      "cell_type": "code",
      "source": [
        "## check the distribution of lens\n",
        "\n",
        "char_lens = [len(sentence) for sentence in train_sentences]\n",
        "\n",
        "plt.hist(char_lens, bins=20);"
      ],
      "metadata": {
        "colab": {
          "base_uri": "https://localhost:8080/",
          "height": 430
        },
        "id": "wHeNyabBXKRR",
        "outputId": "d65e07f3-653e-4016-88f9-4a81d41010c5"
      },
      "execution_count": 79,
      "outputs": [
        {
          "output_type": "display_data",
          "data": {
            "text/plain": [
              "<Figure size 640x480 with 1 Axes>"
            ],
            "image/png": "[encoded data removed]"
          },
          "metadata": {}
        }
      ]
    },
    {
      "cell_type": "code",
      "source": [
        "np.quantile(char_lens, 0.95)\n"
      ],
      "metadata": {
        "colab": {
          "base_uri": "https://localhost:8080/"
        },
        "id": "oaBI6D2RXWnj",
        "outputId": "eb22d086-99be-47fb-eebb-0d6be2bf9447"
      },
      "execution_count": 80,
      "outputs": [
        {
          "output_type": "execute_result",
          "data": {
            "text/plain": [
              "290.0"
            ]
          },
          "metadata": {},
          "execution_count": 80
        }
      ]
    },
    {
      "cell_type": "code",
      "source": [
        "len(train_sentences_chars[1])"
      ],
      "metadata": {
        "colab": {
          "base_uri": "https://localhost:8080/"
        },
        "id": "OiPaR9fwXa2P",
        "outputId": "8050e475-42ed-4437-e992-e49343e29a1b"
      },
      "execution_count": 81,
      "outputs": [
        {
          "output_type": "execute_result",
          "data": {
            "text/plain": [
              "273"
            ]
          },
          "metadata": {},
          "execution_count": 81
        }
      ]
    },
    {
      "cell_type": "code",
      "source": [
        "len(train_sentences[1])"
      ],
      "metadata": {
        "colab": {
          "base_uri": "https://localhost:8080/"
        },
        "id": "T_6muxhnX5Uy",
        "outputId": "31f96473-ef6c-4936-cc6c-937dc0934ec0"
      },
      "execution_count": 82,
      "outputs": [
        {
          "output_type": "execute_result",
          "data": {
            "text/plain": [
              "137"
            ]
          },
          "metadata": {},
          "execution_count": 82
        }
      ]
    },
    {
      "cell_type": "code",
      "source": [
        "train_sentences[1]"
      ],
      "metadata": {
        "colab": {
          "base_uri": "https://localhost:8080/",
          "height": 35
        },
        "id": "HbDCWjQoYAH8",
        "outputId": "0773665f-b238-4a4f-84bb-48af68bae747"
      },
      "execution_count": 83,
      "outputs": [
        {
          "output_type": "execute_result",
          "data": {
            "text/plain": [
              "'a total of @ patients with primary knee oa were randomized @:@ ; @ received @ mg/day of prednisolone and @ received placebo for @ weeks .'"
            ],
            "application/vnd.google.colaboratory.intrinsic+json": {
              "type": "string"
            }
          },
          "metadata": {},
          "execution_count": 83
        }
      ]
    },
    {
      "cell_type": "code",
      "source": [
        "train_sentences_chars[1]"
      ],
      "metadata": {
        "colab": {
          "base_uri": "https://localhost:8080/",
          "height": 53
        },
        "id": "yPOtS5x3YKd8",
        "outputId": "9d3c187b-f52d-4e6d-bf5c-de9b3fd941ed"
      },
      "execution_count": 84,
      "outputs": [
        {
          "output_type": "execute_result",
          "data": {
            "text/plain": [
              "'a   t o t a l   o f   @   p a t i e n t s   w i t h   p r i m a r y   k n e e   o a   w e r e   r a n d o m i z e d   @ : @   ;   @   r e c e i v e d   @   m g / d a y   o f   p r e d n i s o l o n e   a n d   @   r e c e i v e d   p l a c e b o   f o r   @   w e e k s   .'"
            ],
            "application/vnd.google.colaboratory.intrinsic+json": {
              "type": "string"
            }
          },
          "metadata": {},
          "execution_count": 84
        }
      ]
    },
    {
      "cell_type": "code",
      "source": [
        "import string\n",
        "alphabet = string.ascii_lowercase + string.digits + string.punctuation\n",
        "len(alphabet)\n"
      ],
      "metadata": {
        "colab": {
          "base_uri": "https://localhost:8080/"
        },
        "id": "-sIXeTW9bDtT",
        "outputId": "1bf26770-1fd4-4780-a0d7-f7ec5683d3c9"
      },
      "execution_count": 85,
      "outputs": [
        {
          "output_type": "execute_result",
          "data": {
            "text/plain": [
              "68"
            ]
          },
          "metadata": {},
          "execution_count": 85
        }
      ]
    },
    {
      "cell_type": "code",
      "source": [
        "NUM_CHAR_TOKENS = len(alphabet) + 2 # add 2 for space and OOV token (OOV = out of vocabulary)\n",
        "SEQUENCE_LENGTH = int(np.quantile(char_lens, 0.95))\n",
        "\n",
        "chart_vectorizer = TextVectorization(max_tokens=NUM_CHAR_TOKENS,\n",
        "                                    output_sequence_length=SEQUENCE_LENGTH)"
      ],
      "metadata": {
        "id": "RG8aaX4cbHrj"
      },
      "execution_count": 86,
      "outputs": []
    },
    {
      "cell_type": "code",
      "source": [
        "chart_vectorizer.adapt(train_sentences_chars)\n"
      ],
      "metadata": {
        "id": "U8uJ4GfXcaCI"
      },
      "execution_count": 87,
      "outputs": []
    },
    {
      "cell_type": "code",
      "source": [
        "chack_vocab = chart_vectorizer.get_vocabulary()\n",
        "chack_vocab[:10]\n"
      ],
      "metadata": {
        "colab": {
          "base_uri": "https://localhost:8080/"
        },
        "id": "R4fiWyxuceWa",
        "outputId": "71acb767-4c6a-4841-a80c-57b4f4aa83a1"
      },
      "execution_count": 88,
      "outputs": [
        {
          "output_type": "execute_result",
          "data": {
            "text/plain": [
              "['', '[UNK]', 'e', 't', 'i', 'a', 'n', 'o', 'r', 's']"
            ]
          },
          "metadata": {},
          "execution_count": 88
        }
      ]
    },
    {
      "cell_type": "code",
      "source": [
        "len(chack_vocab)"
      ],
      "metadata": {
        "colab": {
          "base_uri": "https://localhost:8080/"
        },
        "id": "i87jw6nkcmu4",
        "outputId": "fa6529e6-fe72-41ba-870f-800490c5ac90"
      },
      "execution_count": 89,
      "outputs": [
        {
          "output_type": "execute_result",
          "data": {
            "text/plain": [
              "28"
            ]
          },
          "metadata": {},
          "execution_count": 89
        }
      ]
    },
    {
      "cell_type": "code",
      "source": [
        "##test char vectorizer\n",
        "import random\n",
        "random_train_chars = random.choice(train_sentences_chars)\n",
        "print(f\"Charified text:\\n {random_train_chars}\")\n",
        "print(f\"\\nLength of chars: {len(random_train_chars.split())}\")\n",
        "vectorized_chars = chart_vectorizer([random_train_chars])\n",
        "print(f\"\\nVectorized chars:\\n {vectorized_chars}\")\n",
        "print(f\"\\nLength of vectorized chars: {len(vectorized_chars[0])}\")\n",
        "\n",
        "\n"
      ],
      "metadata": {
        "colab": {
          "base_uri": "https://localhost:8080/"
        },
        "id": "uKzOTkeWdDbR",
        "outputId": "5bbd9c97-9b1a-431b-8046-01032c4ca488"
      },
      "execution_count": 90,
      "outputs": [
        {
          "output_type": "stream",
          "name": "stdout",
          "text": [
            "Charified text:\n",
            " l d l - c   a l s o   d e c r e a s e d   b y   m o r e   t h a n   @   %   (   p   <   @   )   a n d   t r i g l y c e r i d e s   i n c r e a s e d   b y   a p p r o x i m a t e l y   @ - f o l d   (   p   <   @   )   .\n",
            "\n",
            "Length of chars: 87\n",
            "\n",
            "Vectorized chars:\n",
            " [[12 10 12 11  5 12  9  7 10  2 11  8  2  5  9  2 10 22 19 15  7  8  2  3\n",
            "  13  5  6 14  5  6 10  3  8  4 18 12 19 11  2  8  4 10  2  9  4  6 11  8\n",
            "   2  5  9  2 10 22 19  5 14 14  8  7 24  4 15  5  3  2 12 19 17  7 12 10\n",
            "  14  0  0  0  0  0  0  0  0  0  0  0  0  0  0  0  0  0  0  0  0  0  0  0\n",
            "   0  0  0  0  0  0  0  0  0  0  0  0  0  0  0  0  0  0  0  0  0  0  0  0\n",
            "   0  0  0  0  0  0  0  0  0  0  0  0  0  0  0  0  0  0  0  0  0  0  0  0\n",
            "   0  0  0  0  0  0  0  0  0  0  0  0  0  0  0  0  0  0  0  0  0  0  0  0\n",
            "   0  0  0  0  0  0  0  0  0  0  0  0  0  0  0  0  0  0  0  0  0  0  0  0\n",
            "   0  0  0  0  0  0  0  0  0  0  0  0  0  0  0  0  0  0  0  0  0  0  0  0\n",
            "   0  0  0  0  0  0  0  0  0  0  0  0  0  0  0  0  0  0  0  0  0  0  0  0\n",
            "   0  0  0  0  0  0  0  0  0  0  0  0  0  0  0  0  0  0  0  0  0  0  0  0\n",
            "   0  0  0  0  0  0  0  0  0  0  0  0  0  0  0  0  0  0  0  0  0  0  0  0\n",
            "   0  0]]\n",
            "\n",
            "Length of vectorized chars: 290\n"
          ]
        }
      ]
    },
    {
      "cell_type": "code",
      "source": [
        "SEQUENCE_LENGTH, NUM_CHAR_TOKENS"
      ],
      "metadata": {
        "colab": {
          "base_uri": "https://localhost:8080/"
        },
        "id": "RMOAzsZWdrAL",
        "outputId": "ef3c0bae-82b9-4342-c6a9-214d398d41b3"
      },
      "execution_count": 91,
      "outputs": [
        {
          "output_type": "execute_result",
          "data": {
            "text/plain": [
              "(290, 70)"
            ]
          },
          "metadata": {},
          "execution_count": 91
        }
      ]
    },
    {
      "cell_type": "code",
      "source": [
        "# create datasets fro chars represantation\n",
        "train_dataset_cr = tf.data.Dataset.from_tensor_slices((train_sentences_chars, y_train_one_hot))\n",
        "val_dataset_cr = tf.data.Dataset.from_tensor_slices((val_sentences_chars, y_val_one_hot))\n",
        "test_dataset_cr = tf.data.Dataset.from_tensor_slices((test_sentences_char, y_test_one_hot))\n",
        "\n",
        "train_dataset_cr = train_dataset_cr.batch(32).prefetch(tf.data.AUTOTUNE)\n",
        "val_dataset_cr = val_dataset_cr.batch(32).prefetch(tf.data.AUTOTUNE)\n",
        "test_dataset_cr = test_dataset_cr.batch(32).prefetch(tf.data.AUTOTUNE)"
      ],
      "metadata": {
        "id": "3CaUXl-4npzm"
      },
      "execution_count": 92,
      "outputs": []
    },
    {
      "cell_type": "code",
      "source": [
        "## create model\n",
        "def create_chars_model(embedding_dim = 55):\n",
        "  model = tf.keras.Sequential()\n",
        "  model.add(Input(shape=(1,), dtype=tf.string))\n",
        "  model.add(chart_vectorizer)\n",
        "  model.add(Embedding(NUM_CHAR_TOKENS, embedding_dim))\n",
        "  model.add(Conv1D(32, 3, activation='relu'))\n",
        "  model.add(GlobalMaxPool1D())\n",
        "  model.add(Dense(16, activation='relu'))\n",
        "  model.add(Dropout(0.5))\n",
        "  model.add(Dense(5, activation='softmax'))\n",
        "\n",
        "  model.compile(loss='categorical_crossentropy', optimizer='adam', metrics=['accuracy'])\n",
        "  return model"
      ],
      "metadata": {
        "id": "XXt6LanOa2CS"
      },
      "execution_count": 93,
      "outputs": []
    },
    {
      "cell_type": "code",
      "source": [
        "char_model = create_chars_model()\n",
        "char_model.summary()\n"
      ],
      "metadata": {
        "colab": {
          "base_uri": "https://localhost:8080/"
        },
        "id": "QkK2qV4JbXwS",
        "outputId": "314f9a71-791e-4e0b-e465-f51a6f995d05"
      },
      "execution_count": 94,
      "outputs": [
        {
          "output_type": "stream",
          "name": "stdout",
          "text": [
            "Model: \"sequential_3\"\n",
            "_________________________________________________________________\n",
            " Layer (type)                Output Shape              Param #   \n",
            "=================================================================\n",
            " text_vectorization_1 (TextV  (None, 290)              0         \n",
            " ectorization)                                                   \n",
            "                                                                 \n",
            " embedding_2 (Embedding)     (None, 290, 55)           3850      \n",
            "                                                                 \n",
            " conv1d_2 (Conv1D)           (None, 288, 32)           5312      \n",
            "                                                                 \n",
            " global_max_pooling1d_2 (Glo  (None, 32)               0         \n",
            " balMaxPooling1D)                                                \n",
            "                                                                 \n",
            " dense_6 (Dense)             (None, 16)                528       \n",
            "                                                                 \n",
            " dropout_3 (Dropout)         (None, 16)                0         \n",
            "                                                                 \n",
            " dense_7 (Dense)             (None, 5)                 85        \n",
            "                                                                 \n",
            "=================================================================\n",
            "Total params: 9,775\n",
            "Trainable params: 9,775\n",
            "Non-trainable params: 0\n",
            "_________________________________________________________________\n"
          ]
        }
      ]
    },
    {
      "cell_type": "code",
      "source": [
        "hisory_char = char_model.fit(\n",
        "    train_dataset_cr,\n",
        "    steps_per_epoch=int(len(train_dataset_cr)*0.1),\n",
        "    epochs=5,\n",
        "    validation_data=val_dataset_cr,\n",
        "    validation_steps=int(len(val_dataset_cr)*0.1))"
      ],
      "metadata": {
        "colab": {
          "base_uri": "https://localhost:8080/"
        },
        "id": "gGm5sROTbbtT",
        "outputId": "953bba4b-8077-4e33-bc85-dfa4012a5c4e"
      },
      "execution_count": 95,
      "outputs": [
        {
          "output_type": "stream",
          "name": "stdout",
          "text": [
            "Epoch 1/5\n",
            "562/562 [==============================] - 7s 9ms/step - loss: 1.4057 - accuracy: 0.4055 - val_loss: 1.2244 - val_accuracy: 0.4953\n",
            "Epoch 2/5\n",
            "562/562 [==============================] - 4s 6ms/step - loss: 1.2299 - accuracy: 0.4822 - val_loss: 1.1028 - val_accuracy: 0.5605\n",
            "Epoch 3/5\n",
            "562/562 [==============================] - 4s 6ms/step - loss: 1.1797 - accuracy: 0.5190 - val_loss: 1.0429 - val_accuracy: 0.5884\n",
            "Epoch 4/5\n",
            "562/562 [==============================] - 4s 7ms/step - loss: 1.1372 - accuracy: 0.5374 - val_loss: 1.0372 - val_accuracy: 0.5941\n",
            "Epoch 5/5\n",
            "562/562 [==============================] - 3s 6ms/step - loss: 1.1218 - accuracy: 0.5439 - val_loss: 1.0075 - val_accuracy: 0.5977\n"
          ]
        }
      ]
    },
    {
      "cell_type": "code",
      "source": [
        "# create bi-LSTM model using charactes embedding\n",
        "from tensorflow.keras.layers import LSTM, Bidirectional\n",
        "\n",
        "def create_chars_lstm_model(embedding_dim = 55):\n",
        "  model = tf.keras.Sequential()\n",
        "  model.add(Input(shape=(1,), dtype=tf.string))\n",
        "  model.add(chart_vectorizer)\n",
        "  model.add(Embedding(NUM_CHAR_TOKENS, embedding_dim))\n",
        "  model.add(Bidirectional(LSTM(32)))\n",
        "  model.add(Dense(16, activation='relu'))\n",
        "  model.add(Dropout(0.5))\n",
        "  model.add(Dense(5, activation='softmax'))\n",
        "\n",
        "  model.compile(loss='categorical_crossentropy', optimizer='adam', metrics=['accuracy'])\n",
        "  return model"
      ],
      "metadata": {
        "id": "zZLuw_13dL6_"
      },
      "execution_count": 96,
      "outputs": []
    },
    {
      "cell_type": "code",
      "source": [
        "char_lstm_model = create_chars_lstm_model()\n",
        "char_lstm_model.summary()\n"
      ],
      "metadata": {
        "colab": {
          "base_uri": "https://localhost:8080/"
        },
        "id": "5MYeXO4KeK1K",
        "outputId": "2aab85f3-2a85-430b-92c4-3335607f327f"
      },
      "execution_count": 97,
      "outputs": [
        {
          "output_type": "stream",
          "name": "stdout",
          "text": [
            "Model: \"sequential_4\"\n",
            "_________________________________________________________________\n",
            " Layer (type)                Output Shape              Param #   \n",
            "=================================================================\n",
            " text_vectorization_1 (TextV  (None, 290)              0         \n",
            " ectorization)                                                   \n",
            "                                                                 \n",
            " embedding_3 (Embedding)     (None, 290, 55)           3850      \n",
            "                                                                 \n",
            " bidirectional (Bidirectiona  (None, 64)               22528     \n",
            " l)                                                              \n",
            "                                                                 \n",
            " dense_8 (Dense)             (None, 16)                1040      \n",
            "                                                                 \n",
            " dropout_4 (Dropout)         (None, 16)                0         \n",
            "                                                                 \n",
            " dense_9 (Dense)             (None, 5)                 85        \n",
            "                                                                 \n",
            "=================================================================\n",
            "Total params: 27,503\n",
            "Trainable params: 27,503\n",
            "Non-trainable params: 0\n",
            "_________________________________________________________________\n"
          ]
        }
      ]
    },
    {
      "cell_type": "code",
      "source": [
        "hisory_char_lstm = char_lstm_model.fit(\n",
        "    train_dataset_cr,\n",
        "    steps_per_epoch=int(len(train_dataset_cr)*0.1),\n",
        "    epochs=10,\n",
        "    validation_data=val_dataset_cr,\n",
        "    validation_steps=int(len(train_dataset_cr)*0.1))"
      ],
      "metadata": {
        "colab": {
          "base_uri": "https://localhost:8080/"
        },
        "id": "0WTiuMYdeS7l",
        "outputId": "3529bef2-3540-43ee-f672-66fd24f4e71f"
      },
      "execution_count": 98,
      "outputs": [
        {
          "output_type": "stream",
          "name": "stdout",
          "text": [
            "Epoch 1/10\n",
            "562/562 [==============================] - 24s 32ms/step - loss: 1.4559 - accuracy: 0.3453 - val_loss: 1.3935 - val_accuracy: 0.4051\n",
            "Epoch 2/10\n",
            "562/562 [==============================] - 17s 29ms/step - loss: 1.3667 - accuracy: 0.3969 - val_loss: 1.2963 - val_accuracy: 0.4509\n",
            "Epoch 3/10\n",
            "562/562 [==============================] - 17s 31ms/step - loss: 1.3164 - accuracy: 0.4359 - val_loss: 1.2290 - val_accuracy: 0.4879\n",
            "Epoch 4/10\n",
            "562/562 [==============================] - 17s 30ms/step - loss: 1.2733 - accuracy: 0.4533 - val_loss: 1.1927 - val_accuracy: 0.5058\n",
            "Epoch 5/10\n",
            "562/562 [==============================] - 22s 39ms/step - loss: 1.2406 - accuracy: 0.4692 - val_loss: 1.1448 - val_accuracy: 0.5272\n",
            "Epoch 6/10\n",
            "562/562 [==============================] - 17s 30ms/step - loss: 1.2186 - accuracy: 0.4838 - val_loss: 1.1303 - val_accuracy: 0.5382\n",
            "Epoch 7/10\n",
            "562/562 [==============================] - 17s 30ms/step - loss: 1.1874 - accuracy: 0.4978 - val_loss: 1.1334 - val_accuracy: 0.5250\n",
            "Epoch 8/10\n",
            "562/562 [==============================] - 17s 30ms/step - loss: 1.1620 - accuracy: 0.5122 - val_loss: 1.0790 - val_accuracy: 0.5650\n",
            "Epoch 9/10\n",
            "562/562 [==============================] - 17s 31ms/step - loss: 1.1856 - accuracy: 0.4998 - val_loss: 1.0726 - val_accuracy: 0.5673\n",
            "Epoch 10/10\n",
            "562/562 [==============================] - 20s 36ms/step - loss: 1.1508 - accuracy: 0.5260 - val_loss: 1.0285 - val_accuracy: 0.5876\n"
          ]
        }
      ]
    },
    {
      "cell_type": "code",
      "source": [
        "predict_lstm = char_lstm_model.predict(test_dataset_cr)\n",
        "\n",
        "calculate_results(y_test_categorical, predict_lstm.argmax(axis=1))\n"
      ],
      "metadata": {
        "colab": {
          "base_uri": "https://localhost:8080/"
        },
        "id": "bonVMRyJmbUS",
        "outputId": "d25ee127-e3a5-4c87-bc13-0f72a3df71f0"
      },
      "execution_count": 99,
      "outputs": [
        {
          "output_type": "stream",
          "name": "stdout",
          "text": [
            "942/942 [==============================] - 10s 10ms/step\n",
            "Accuracy : 0.5784303965488634\n",
            "Precision : 0.5795680049238574\n",
            "Recall : 0.5784303965488634\n",
            "F1 : 0.571047760732325\n"
          ]
        }
      ]
    },
    {
      "cell_type": "code",
      "source": [
        "predict_val_lstm = char_lstm_model.predict(val_dataset_cr)\n",
        "\n",
        "calculate_results(y_val_categorical, predict_val_lstm.argmax(axis=1))"
      ],
      "metadata": {
        "colab": {
          "base_uri": "https://localhost:8080/"
        },
        "id": "Ib-Mp0ipnQvw",
        "outputId": "ab08191f-e7bb-4841-e4b0-c8a9d321f232"
      },
      "execution_count": 100,
      "outputs": [
        {
          "output_type": "stream",
          "name": "stdout",
          "text": [
            "945/945 [==============================] - 9s 10ms/step\n",
            "Accuracy : 0.5865881106844962\n",
            "Precision : 0.5881203456379237\n",
            "Recall : 0.5865881106844962\n",
            "F1 : 0.5795899238131819\n"
          ]
        }
      ]
    },
    {
      "cell_type": "markdown",
      "source": [
        "## Concatenate inputs chars embedding and token embeddings"
      ],
      "metadata": {
        "id": "Wp1esjE4rDB8"
      }
    },
    {
      "cell_type": "code",
      "source": [
        "NUM_TOKEN_TOKENS = 68000\n",
        "NUM_CHAR_TOKENS = len(alphabet) + 2"
      ],
      "metadata": {
        "id": "JJr7EtQSuT7D"
      },
      "execution_count": 101,
      "outputs": []
    },
    {
      "cell_type": "code",
      "source": [
        "from tensorflow.keras.layers import Concatenate\n",
        "from tensorflow.keras import Model\n"
      ],
      "metadata": {
        "id": "_hpPltUV59KL"
      },
      "execution_count": 102,
      "outputs": []
    },
    {
      "cell_type": "code",
      "source": [
        "from tensorflow.keras.layers import Concatenate\n",
        "\n",
        "\n",
        "#1. Create token level embeddings\n",
        "#2. Create char level embeddings\n",
        "#3. Concatenate token and char level embeddings\n",
        "#4. Build model\n",
        "\n",
        "token_input = Input(shape=[], dtype=tf.string)\n",
        "token_embedding = hub.KerasLayer(\"https://tfhub.dev/google/universal-sentence-encoder/4\",\n",
        "                                        trainable=False,\n",
        "                                        name=\"universal_sentence_encoder\")(token_input)\n",
        "token_model = tf.keras.Model(inputs=token_input, outputs=token_embedding)\n",
        "\n",
        "char_input = Input(shape=(1,), dtype=tf.string)\n",
        "char_vectors = chart_vectorizer(char_input)\n",
        "char_embedding = Embedding(NUM_CHAR_TOKENS, 25) (char_vectors)\n",
        "lstm_layer = Bidirectional(LSTM(32))(char_embedding)\n",
        "\n",
        "char_model = tf.keras.Model(inputs=char_input, outputs=lstm_layer)\n",
        "\n",
        "token_char_concat = Concatenate(name=\"token_char_hybrid\")([token_model.output,\n",
        "                                                            char_model.output])\n",
        "\n",
        "combined_dropout = Dropout(0.5)(token_char_concat)\n",
        "dence_combined = Dense(128)(combined_dropout)\n",
        "dence_combined_dropout = Dropout(0.5)(dence_combined)\n",
        "model_output = Dense(5, activation=\"softmax\")(dence_combined_dropout)\n",
        "\n",
        "token_char_model = Model(inputs=[token_model.input, char_model.input],\n",
        "                         outputs=model_output)\n",
        "\n",
        "\n",
        "token_char_model.compile(loss=\"categorical_crossentropy\",\n",
        "                         optimizer=\"adam\",\n",
        "                         metrics=[\"accuracy\"])\n"
      ],
      "metadata": {
        "id": "xbdxbL9mrLkv"
      },
      "execution_count": 103,
      "outputs": []
    },
    {
      "cell_type": "code",
      "source": [
        "token_char_model.summary()"
      ],
      "metadata": {
        "colab": {
          "base_uri": "https://localhost:8080/"
        },
        "id": "YNP1ITXP4_0g",
        "outputId": "c69b4e44-e951-47a5-8dfb-428113fdd3d4"
      },
      "execution_count": 104,
      "outputs": [
        {
          "output_type": "stream",
          "name": "stdout",
          "text": [
            "Model: \"model_2\"\n",
            "__________________________________________________________________________________________________\n",
            " Layer (type)                   Output Shape         Param #     Connected to                     \n",
            "==================================================================================================\n",
            " input_7 (InputLayer)           [(None, 1)]          0           []                               \n",
            "                                                                                                  \n",
            " text_vectorization_1 (TextVect  (None, 290)         0           ['input_7[0][0]']                \n",
            " orization)                                                                                       \n",
            "                                                                                                  \n",
            " input_6 (InputLayer)           [(None,)]            0           []                               \n",
            "                                                                                                  \n",
            " embedding_4 (Embedding)        (None, 290, 25)      1750        ['text_vectorization_1[2][0]']   \n",
            "                                                                                                  \n",
            " universal_sentence_encoder (Ke  (None, 512)         256797824   ['input_6[0][0]']                \n",
            " rasLayer)                                                                                        \n",
            "                                                                                                  \n",
            " bidirectional_1 (Bidirectional  (None, 64)          14848       ['embedding_4[0][0]']            \n",
            " )                                                                                                \n",
            "                                                                                                  \n",
            " token_char_hybrid (Concatenate  (None, 576)         0           ['universal_sentence_encoder[0][0\n",
            " )                                                               ]',                              \n",
            "                                                                  'bidirectional_1[0][0]']        \n",
            "                                                                                                  \n",
            " dropout_5 (Dropout)            (None, 576)          0           ['token_char_hybrid[0][0]']      \n",
            "                                                                                                  \n",
            " dense_10 (Dense)               (None, 128)          73856       ['dropout_5[0][0]']              \n",
            "                                                                                                  \n",
            " dropout_6 (Dropout)            (None, 128)          0           ['dense_10[0][0]']               \n",
            "                                                                                                  \n",
            " dense_11 (Dense)               (None, 5)            645         ['dropout_6[0][0]']              \n",
            "                                                                                                  \n",
            "==================================================================================================\n",
            "Total params: 256,888,923\n",
            "Trainable params: 91,099\n",
            "Non-trainable params: 256,797,824\n",
            "__________________________________________________________________________________________________\n"
          ]
        }
      ]
    },
    {
      "cell_type": "code",
      "source": [
        "from keras.utils.vis_utils import plot_model\n",
        "plot_model(token_char_model, show_shapes=True, show_layer_names=True)\n"
      ],
      "metadata": {
        "colab": {
          "base_uri": "https://localhost:8080/",
          "height": 976
        },
        "id": "OnmXL29Mv0ET",
        "outputId": "7e45b656-bfee-4433-d64e-437021bb32c7"
      },
      "execution_count": 105,
      "outputs": [
        {
          "output_type": "execute_result",
          "data": {
            "image/png": "[encoded data removed]",
            "text/plain": [
              "<IPython.core.display.Image object>"
            ]
          },
          "metadata": {},
          "execution_count": 105
        }
      ]
    },
    {
      "cell_type": "code",
      "source": [
        "#Combining token and character data into a tf.data dataset\n",
        "\n",
        "#train dataset\n",
        "combining_data = tf.data.Dataset.from_tensor_slices((train_sentences, train_sentences_chars))\n",
        "combining_lables = tf.data.Dataset.from_tensor_slices(y_train_one_hot)\n",
        "combining_dataset = tf.data.Dataset.zip((combining_data, combining_lables))\n",
        "\n",
        "combining_dataset = combining_dataset.batch(32).prefetch(tf.data.AUTOTUNE)\n",
        "\n",
        "#validation dataset\n",
        "\n",
        "val_combining_data = tf.data.Dataset.from_tensor_slices((val_sentences, val_sentences_chars))\n",
        "val_combining_lables = tf.data.Dataset.from_tensor_slices(y_val_one_hot)\n",
        "val_combining_dataset = tf.data.Dataset.zip((val_combining_data, val_combining_lables))\n",
        "\n",
        "val_combining_dataset = val_combining_dataset.batch(32).prefetch(tf.data.AUTOTUNE)"
      ],
      "metadata": {
        "id": "B7vWLEw90t8-"
      },
      "execution_count": 106,
      "outputs": []
    },
    {
      "cell_type": "code",
      "source": [
        "token_char_model.fit(combining_dataset,\n",
        "                     steps_per_epoch=int(len(combining_dataset)*0.1),\n",
        "                     epochs=5,\n",
        "                     validation_data=val_combining_dataset,\n",
        "                     validation_steps=int(len(val_combining_dataset)*0.1) )"
      ],
      "metadata": {
        "colab": {
          "base_uri": "https://localhost:8080/"
        },
        "id": "ScdG9dZf0x8t",
        "outputId": "f46f7880-136f-434a-e839-53efd33a9924"
      },
      "execution_count": 107,
      "outputs": [
        {
          "output_type": "stream",
          "name": "stdout",
          "text": [
            "Epoch 1/5\n",
            "562/562 [==============================] - 26s 34ms/step - loss: 1.0005 - accuracy: 0.6113 - val_loss: 0.8080 - val_accuracy: 0.6918\n",
            "Epoch 2/5\n",
            "562/562 [==============================] - 19s 33ms/step - loss: 0.8718 - accuracy: 0.6640 - val_loss: 0.7698 - val_accuracy: 0.7094\n",
            "Epoch 3/5\n",
            "562/562 [==============================] - 19s 34ms/step - loss: 0.8750 - accuracy: 0.6650 - val_loss: 0.7667 - val_accuracy: 0.7091\n",
            "Epoch 4/5\n",
            "562/562 [==============================] - 19s 33ms/step - loss: 0.8516 - accuracy: 0.6724 - val_loss: 0.7598 - val_accuracy: 0.7124\n",
            "Epoch 5/5\n",
            "562/562 [==============================] - 18s 32ms/step - loss: 0.8656 - accuracy: 0.6648 - val_loss: 0.7552 - val_accuracy: 0.7118\n"
          ]
        },
        {
          "output_type": "execute_result",
          "data": {
            "text/plain": [
              "<keras.callbacks.History at 0x7b0e18f0c550>"
            ]
          },
          "metadata": {},
          "execution_count": 107
        }
      ]
    },
    {
      "cell_type": "code",
      "source": [
        "token_char_model.evaluate(val_combining_dataset)\n",
        "\n"
      ],
      "metadata": {
        "colab": {
          "base_uri": "https://localhost:8080/"
        },
        "id": "Xv9vrX8lvb_D",
        "outputId": "2ade4d2e-2b10-4dee-8494-50865d579482"
      },
      "execution_count": 108,
      "outputs": [
        {
          "output_type": "stream",
          "name": "stdout",
          "text": [
            "945/945 [==============================] - 18s 19ms/step - loss: 0.7564 - accuracy: 0.7155\n"
          ]
        },
        {
          "output_type": "execute_result",
          "data": {
            "text/plain": [
              "[0.7563623189926147, 0.7154772877693176]"
            ]
          },
          "metadata": {},
          "execution_count": 108
        }
      ]
    },
    {
      "cell_type": "code",
      "source": [
        "combining_predict = token_char_model.predict(val_combining_dataset)\n",
        "\n",
        "calculate_results(y_val_categorical, combining_predict.argmax(axis=1))\n"
      ],
      "metadata": {
        "colab": {
          "base_uri": "https://localhost:8080/"
        },
        "id": "zKVL67CdvyMG",
        "outputId": "7f65d12b-0118-4c1d-91fc-12cf2efb48b9"
      },
      "execution_count": 109,
      "outputs": [
        {
          "output_type": "stream",
          "name": "stdout",
          "text": [
            "945/945 [==============================] - 19s 19ms/step\n",
            "Accuracy : 0.7154772937905468\n",
            "Precision : 0.7144083345797165\n",
            "Recall : 0.7154772937905468\n",
            "F1 : 0.7093250368012529\n"
          ]
        }
      ]
    },
    {
      "cell_type": "code",
      "source": [
        "calculate_results(y_val_categorical, y_val_categorical_pred)"
      ],
      "metadata": {
        "colab": {
          "base_uri": "https://localhost:8080/"
        },
        "id": "mw9qz9_BKV4V",
        "outputId": "e6f507be-b4fc-499b-d745-42fca704554a"
      },
      "execution_count": 110,
      "outputs": [
        {
          "output_type": "stream",
          "name": "stdout",
          "text": [
            "Accuracy : 0.7218323844829869\n",
            "Precision : 0.7186466952323352\n",
            "Recall : 0.7218323844829869\n",
            "F1 : 0.6989250353450294\n"
          ]
        }
      ]
    },
    {
      "cell_type": "code",
      "source": [
        "calculate_results(y_val_categorical, val_predicts1.argmax(axis=1))"
      ],
      "metadata": {
        "colab": {
          "base_uri": "https://localhost:8080/"
        },
        "id": "0a6OXQwRK4aw",
        "outputId": "5b28a4a9-74f8-4289-8036-c0682338b1a5"
      },
      "execution_count": 111,
      "outputs": [
        {
          "output_type": "stream",
          "name": "stdout",
          "text": [
            "Accuracy : 0.7895538196743016\n",
            "Precision : 0.787277331012111\n",
            "Recall : 0.7895538196743016\n",
            "F1 : 0.7857575706812808\n"
          ]
        }
      ]
    },
    {
      "cell_type": "markdown",
      "source": [
        "## Create model using order of sentences"
      ],
      "metadata": {
        "id": "POTJ3JGJWu-u"
      }
    },
    {
      "cell_type": "code",
      "source": [
        "train_df.head()"
      ],
      "metadata": {
        "colab": {
          "base_uri": "https://localhost:8080/",
          "height": 206
        },
        "id": "_g3R2FlaW1BC",
        "outputId": "58761e69-0236-40f9-ed05-4d785b89fc41"
      },
      "execution_count": 112,
      "outputs": [
        {
          "output_type": "execute_result",
          "data": {
            "text/plain": [
              "       number     target                                               text  \\\n",
              "0  24293578\\n  OBJECTIVE  To investigate the efficacy of @ weeks of dail...   \n",
              "1  24293578\\n    METHODS  A total of @ patients with primary knee OA wer...   \n",
              "2  24293578\\n    METHODS  Outcome measures included pain reduction and i...   \n",
              "3  24293578\\n    METHODS  Pain was assessed using the visual analog pain...   \n",
              "4  24293578\\n    METHODS  Secondary outcome measures included the Wester...   \n",
              "\n",
              "   line_number  total_lines  \n",
              "0            1           12  \n",
              "1            2           12  \n",
              "2            3           12  \n",
              "3            4           12  \n",
              "4            5           12  "
            ],
            "text/html": [
              "\n",
              "\n",
              "  <div id=\"df-4935a250-bba7-436a-b795-5f1e90def959\">\n",
              "    <div class=\"colab-df-container\">\n",
              "      <div>\n",
              "<style scoped>\n",
              "    .dataframe tbody tr th:only-of-type {\n",
              "        vertical-align: middle;\n",
              "    }\n",
              "\n",
              "    .dataframe tbody tr th {\n",
              "        vertical-align: top;\n",
              "    }\n",
              "\n",
              "    .dataframe thead th {\n",
              "        text-align: right;\n",
              "    }\n",
              "</style>\n",
              "<table border=\"1\" class=\"dataframe\">\n",
              "  <thead>\n",
              "    <tr style=\"text-align: right;\">\n",
              "      <th></th>\n",
              "      <th>number</th>\n",
              "      <th>target</th>\n",
              "      <th>text</th>\n",
              "      <th>line_number</th>\n",
              "      <th>total_lines</th>\n",
              "    </tr>\n",
              "  </thead>\n",
              "  <tbody>\n",
              "    <tr>\n",
              "      <th>0</th>\n",
              "      <td>24293578\\n</td>\n",
              "      <td>OBJECTIVE</td>\n",
              "      <td>To investigate the efficacy of @ weeks of dail...</td>\n",
              "      <td>1</td>\n",
              "      <td>12</td>\n",
              "    </tr>\n",
              "    <tr>\n",
              "      <th>1</th>\n",
              "      <td>24293578\\n</td>\n",
              "      <td>METHODS</td>\n",
              "      <td>A total of @ patients with primary knee OA wer...</td>\n",
              "      <td>2</td>\n",
              "      <td>12</td>\n",
              "    </tr>\n",
              "    <tr>\n",
              "      <th>2</th>\n",
              "      <td>24293578\\n</td>\n",
              "      <td>METHODS</td>\n",
              "      <td>Outcome measures included pain reduction and i...</td>\n",
              "      <td>3</td>\n",
              "      <td>12</td>\n",
              "    </tr>\n",
              "    <tr>\n",
              "      <th>3</th>\n",
              "      <td>24293578\\n</td>\n",
              "      <td>METHODS</td>\n",
              "      <td>Pain was assessed using the visual analog pain...</td>\n",
              "      <td>4</td>\n",
              "      <td>12</td>\n",
              "    </tr>\n",
              "    <tr>\n",
              "      <th>4</th>\n",
              "      <td>24293578\\n</td>\n",
              "      <td>METHODS</td>\n",
              "      <td>Secondary outcome measures included the Wester...</td>\n",
              "      <td>5</td>\n",
              "      <td>12</td>\n",
              "    </tr>\n",
              "  </tbody>\n",
              "</table>\n",
              "</div>\n",
              "      <button class=\"colab-df-convert\" onclick=\"convertToInteractive('df-4935a250-bba7-436a-b795-5f1e90def959')\"\n",
              "              title=\"Convert this dataframe to an interactive table.\"\n",
              "              style=\"display:none;\">\n",
              "\n",
              "  <svg xmlns=\"http://www.w3.org/2000/svg\" height=\"24px\"viewBox=\"0 0 24 24\"\n",
              "       width=\"24px\">\n",
              "    <path d=\"M0 0h24v24H0V0z\" fill=\"none\"/>\n",
              "    <path d=\"M18.56 5.44l.94 2.06.94-2.06 2.06-.94-2.06-.94-.94-2.06-.94 2.06-2.06.94zm-11 1L8.5 8.5l.94-2.06 2.06-.94-2.06-.94L8.5 2.5l-.94 2.06-2.06.94zm10 10l.94 2.06.94-2.06 2.06-.94-2.06-.94-.94-2.06-.94 2.06-2.06.94z\"/><path d=\"M17.41 7.96l-1.37-1.37c-.4-.4-.92-.59-1.43-.59-.52 0-1.04.2-1.43.59L10.3 9.45l-7.72 7.72c-.78.78-.78 2.05 0 2.83L4 21.41c.39.39.9.59 1.41.59.51 0 1.02-.2 1.41-.59l7.78-7.78 2.81-2.81c.8-.78.8-2.07 0-2.86zM5.41 20L4 18.59l7.72-7.72 1.47 1.35L5.41 20z\"/>\n",
              "  </svg>\n",
              "      </button>\n",
              "\n",
              "\n",
              "\n",
              "    <div id=\"df-a3869658-c7d7-4de9-80c2-02ae6bd9068e\">\n",
              "      <button class=\"colab-df-quickchart\" onclick=\"quickchart('df-a3869658-c7d7-4de9-80c2-02ae6bd9068e')\"\n",
              "              title=\"Suggest charts.\"\n",
              "              style=\"display:none;\">\n",
              "\n",
              "<svg xmlns=\"http://www.w3.org/2000/svg\" height=\"24px\"viewBox=\"0 0 24 24\"\n",
              "     width=\"24px\">\n",
              "    <g>\n",
              "        <path d=\"M19 3H5c-1.1 0-2 .9-2 2v14c0 1.1.9 2 2 2h14c1.1 0 2-.9 2-2V5c0-1.1-.9-2-2-2zM9 17H7v-7h2v7zm4 0h-2V7h2v10zm4 0h-2v-4h2v4z\"/>\n",
              "    </g>\n",
              "</svg>\n",
              "      </button>\n",
              "    </div>\n",
              "\n",
              "<style>\n",
              "  .colab-df-quickchart {\n",
              "    background-color: #E8F0FE;\n",
              "    border: none;\n",
              "    border-radius: 50%;\n",
              "    cursor: pointer;\n",
              "    display: none;\n",
              "    fill: #1967D2;\n",
              "    height: 32px;\n",
              "    padding: 0 0 0 0;\n",
              "    width: 32px;\n",
              "  }\n",
              "\n",
              "  .colab-df-quickchart:hover {\n",
              "    background-color: #E2EBFA;\n",
              "    box-shadow: 0px 1px 2px rgba(60, 64, 67, 0.3), 0px 1px 3px 1px rgba(60, 64, 67, 0.15);\n",
              "    fill: #174EA6;\n",
              "  }\n",
              "\n",
              "  [theme=dark] .colab-df-quickchart {\n",
              "    background-color: #3B4455;\n",
              "    fill: #D2E3FC;\n",
              "  }\n",
              "\n",
              "  [theme=dark] .colab-df-quickchart:hover {\n",
              "    background-color: #434B5C;\n",
              "    box-shadow: 0px 1px 3px 1px rgba(0, 0, 0, 0.15);\n",
              "    filter: drop-shadow(0px 1px 2px rgba(0, 0, 0, 0.3));\n",
              "    fill: #FFFFFF;\n",
              "  }\n",
              "</style>\n",
              "\n",
              "    <script>\n",
              "      async function quickchart(key) {\n",
              "        const containerElement = document.querySelector('#' + key);\n",
              "        const charts = await google.colab.kernel.invokeFunction(\n",
              "            'suggestCharts', [key], {});\n",
              "      }\n",
              "    </script>\n",
              "\n",
              "      <script>\n",
              "\n",
              "function displayQuickchartButton(domScope) {\n",
              "  let quickchartButtonEl =\n",
              "    domScope.querySelector('#df-a3869658-c7d7-4de9-80c2-02ae6bd9068e button.colab-df-quickchart');\n",
              "  quickchartButtonEl.style.display =\n",
              "    google.colab.kernel.accessAllowed ? 'block' : 'none';\n",
              "}\n",
              "\n",
              "        displayQuickchartButton(document);\n",
              "      </script>\n",
              "      <style>\n",
              "    .colab-df-container {\n",
              "      display:flex;\n",
              "      flex-wrap:wrap;\n",
              "      gap: 12px;\n",
              "    }\n",
              "\n",
              "    .colab-df-convert {\n",
              "      background-color: #E8F0FE;\n",
              "      border: none;\n",
              "      border-radius: 50%;\n",
              "      cursor: pointer;\n",
              "      display: none;\n",
              "      fill: #1967D2;\n",
              "      height: 32px;\n",
              "      padding: 0 0 0 0;\n",
              "      width: 32px;\n",
              "    }\n",
              "\n",
              "    .colab-df-convert:hover {\n",
              "      background-color: #E2EBFA;\n",
              "      box-shadow: 0px 1px 2px rgba(60, 64, 67, 0.3), 0px 1px 3px 1px rgba(60, 64, 67, 0.15);\n",
              "      fill: #174EA6;\n",
              "    }\n",
              "\n",
              "    [theme=dark] .colab-df-convert {\n",
              "      background-color: #3B4455;\n",
              "      fill: #D2E3FC;\n",
              "    }\n",
              "\n",
              "    [theme=dark] .colab-df-convert:hover {\n",
              "      background-color: #434B5C;\n",
              "      box-shadow: 0px 1px 3px 1px rgba(0, 0, 0, 0.15);\n",
              "      filter: drop-shadow(0px 1px 2px rgba(0, 0, 0, 0.3));\n",
              "      fill: #FFFFFF;\n",
              "    }\n",
              "  </style>\n",
              "\n",
              "      <script>\n",
              "        const buttonEl =\n",
              "          document.querySelector('#df-4935a250-bba7-436a-b795-5f1e90def959 button.colab-df-convert');\n",
              "        buttonEl.style.display =\n",
              "          google.colab.kernel.accessAllowed ? 'block' : 'none';\n",
              "\n",
              "        async function convertToInteractive(key) {\n",
              "          const element = document.querySelector('#df-4935a250-bba7-436a-b795-5f1e90def959');\n",
              "          const dataTable =\n",
              "            await google.colab.kernel.invokeFunction('convertToInteractive',\n",
              "                                                     [key], {});\n",
              "          if (!dataTable) return;\n",
              "\n",
              "          const docLinkHtml = 'Like what you see? Visit the ' +\n",
              "            '<a target=\"_blank\" href=https://colab.research.google.com/notebooks/data_table.ipynb>data table notebook</a>'\n",
              "            + ' to learn more about interactive tables.';\n",
              "          element.innerHTML = '';\n",
              "          dataTable['output_type'] = 'display_data';\n",
              "          await google.colab.output.renderOutput(dataTable, element);\n",
              "          const docLink = document.createElement('div');\n",
              "          docLink.innerHTML = docLinkHtml;\n",
              "          element.appendChild(docLink);\n",
              "        }\n",
              "      </script>\n",
              "    </div>\n",
              "  </div>\n"
            ]
          },
          "metadata": {},
          "execution_count": 112
        }
      ]
    },
    {
      "cell_type": "code",
      "source": [
        "train_df[\"line_number\"].value_counts()"
      ],
      "metadata": {
        "colab": {
          "base_uri": "https://localhost:8080/"
        },
        "id": "9jhMptgKcctn",
        "outputId": "fa95755e-6348-416b-b51c-ae8d495b752f"
      },
      "execution_count": 113,
      "outputs": [
        {
          "output_type": "execute_result",
          "data": {
            "text/plain": [
              "1     15000\n",
              "2     15000\n",
              "3     15000\n",
              "4     15000\n",
              "5     14992\n",
              "6     14949\n",
              "7     14758\n",
              "8     14279\n",
              "9     13346\n",
              "10    11981\n",
              "11    10041\n",
              "12     7892\n",
              "13     5853\n",
              "14     4152\n",
              "15     2835\n",
              "16     1861\n",
              "17     1188\n",
              "18      751\n",
              "19      462\n",
              "20      286\n",
              "21      162\n",
              "22      101\n",
              "23       66\n",
              "24       33\n",
              "25       22\n",
              "26       14\n",
              "27        7\n",
              "28        4\n",
              "29        3\n",
              "30        1\n",
              "31        1\n",
              "Name: line_number, dtype: int64"
            ]
          },
          "metadata": {},
          "execution_count": 113
        }
      ]
    },
    {
      "cell_type": "code",
      "source": [
        "train_df[\"line_number\"].plot.hist()\n"
      ],
      "metadata": {
        "colab": {
          "base_uri": "https://localhost:8080/",
          "height": 447
        },
        "id": "V7lb-kBXcfhW",
        "outputId": "b9ade1dd-13b1-472c-8015-62476383dcdc"
      },
      "execution_count": 114,
      "outputs": [
        {
          "output_type": "execute_result",
          "data": {
            "text/plain": [
              "<Axes: ylabel='Frequency'>"
            ]
          },
          "metadata": {},
          "execution_count": 114
        },
        {
          "output_type": "display_data",
          "data": {
            "text/plain": [
              "<Figure size 640x480 with 1 Axes>"
            ],
            "image/png": "[encoded data removed]"
          },
          "metadata": {}
        }
      ]
    },
    {
      "cell_type": "code",
      "source": [
        "np.percentile(train_df[\"line_number\"].values, 98)\n"
      ],
      "metadata": {
        "colab": {
          "base_uri": "https://localhost:8080/"
        },
        "id": "UG_Ucy6ucvew",
        "outputId": "cc289a6f-1943-4c87-c643-9b4d40a1c3f0"
      },
      "execution_count": 115,
      "outputs": [
        {
          "output_type": "execute_result",
          "data": {
            "text/plain": [
              "16.0"
            ]
          },
          "metadata": {},
          "execution_count": 115
        }
      ]
    },
    {
      "cell_type": "code",
      "source": [
        "dev_df.head()\n"
      ],
      "metadata": {
        "colab": {
          "base_uri": "https://localhost:8080/",
          "height": 206
        },
        "id": "Rva53msvgtfU",
        "outputId": "94b92ce6-bb2d-4756-9771-6546fd14be40"
      },
      "execution_count": 116,
      "outputs": [
        {
          "output_type": "execute_result",
          "data": {
            "text/plain": [
              "       number      target                                               text  \\\n",
              "0  24290286\\n  BACKGROUND  IgE sensitization to Aspergillus fumigatus and...   \n",
              "1  24290286\\n  BACKGROUND  It is not clear whether these patients would b...   \n",
              "2  24290286\\n   OBJECTIVE  We sought to determine whether a @-month cours...   \n",
              "3  24290286\\n     METHODS  Asthmatic patients who were IgE sensitized to ...   \n",
              "4  24290286\\n     METHODS  Primary outcomes were improvement in quality o...   \n",
              "\n",
              "   line_number  total_lines  \n",
              "0            1           10  \n",
              "1            2           10  \n",
              "2            3           10  \n",
              "3            4           10  \n",
              "4            5           10  "
            ],
            "text/html": [
              "\n",
              "\n",
              "  <div id=\"df-bba256d9-57ab-4773-90f9-274b2e84d3f0\">\n",
              "    <div class=\"colab-df-container\">\n",
              "      <div>\n",
              "<style scoped>\n",
              "    .dataframe tbody tr th:only-of-type {\n",
              "        vertical-align: middle;\n",
              "    }\n",
              "\n",
              "    .dataframe tbody tr th {\n",
              "        vertical-align: top;\n",
              "    }\n",
              "\n",
              "    .dataframe thead th {\n",
              "        text-align: right;\n",
              "    }\n",
              "</style>\n",
              "<table border=\"1\" class=\"dataframe\">\n",
              "  <thead>\n",
              "    <tr style=\"text-align: right;\">\n",
              "      <th></th>\n",
              "      <th>number</th>\n",
              "      <th>target</th>\n",
              "      <th>text</th>\n",
              "      <th>line_number</th>\n",
              "      <th>total_lines</th>\n",
              "    </tr>\n",
              "  </thead>\n",
              "  <tbody>\n",
              "    <tr>\n",
              "      <th>0</th>\n",
              "      <td>24290286\\n</td>\n",
              "      <td>BACKGROUND</td>\n",
              "      <td>IgE sensitization to Aspergillus fumigatus and...</td>\n",
              "      <td>1</td>\n",
              "      <td>10</td>\n",
              "    </tr>\n",
              "    <tr>\n",
              "      <th>1</th>\n",
              "      <td>24290286\\n</td>\n",
              "      <td>BACKGROUND</td>\n",
              "      <td>It is not clear whether these patients would b...</td>\n",
              "      <td>2</td>\n",
              "      <td>10</td>\n",
              "    </tr>\n",
              "    <tr>\n",
              "      <th>2</th>\n",
              "      <td>24290286\\n</td>\n",
              "      <td>OBJECTIVE</td>\n",
              "      <td>We sought to determine whether a @-month cours...</td>\n",
              "      <td>3</td>\n",
              "      <td>10</td>\n",
              "    </tr>\n",
              "    <tr>\n",
              "      <th>3</th>\n",
              "      <td>24290286\\n</td>\n",
              "      <td>METHODS</td>\n",
              "      <td>Asthmatic patients who were IgE sensitized to ...</td>\n",
              "      <td>4</td>\n",
              "      <td>10</td>\n",
              "    </tr>\n",
              "    <tr>\n",
              "      <th>4</th>\n",
              "      <td>24290286\\n</td>\n",
              "      <td>METHODS</td>\n",
              "      <td>Primary outcomes were improvement in quality o...</td>\n",
              "      <td>5</td>\n",
              "      <td>10</td>\n",
              "    </tr>\n",
              "  </tbody>\n",
              "</table>\n",
              "</div>\n",
              "      <button class=\"colab-df-convert\" onclick=\"convertToInteractive('df-bba256d9-57ab-4773-90f9-274b2e84d3f0')\"\n",
              "              title=\"Convert this dataframe to an interactive table.\"\n",
              "              style=\"display:none;\">\n",
              "\n",
              "  <svg xmlns=\"http://www.w3.org/2000/svg\" height=\"24px\"viewBox=\"0 0 24 24\"\n",
              "       width=\"24px\">\n",
              "    <path d=\"M0 0h24v24H0V0z\" fill=\"none\"/>\n",
              "    <path d=\"M18.56 5.44l.94 2.06.94-2.06 2.06-.94-2.06-.94-.94-2.06-.94 2.06-2.06.94zm-11 1L8.5 8.5l.94-2.06 2.06-.94-2.06-.94L8.5 2.5l-.94 2.06-2.06.94zm10 10l.94 2.06.94-2.06 2.06-.94-2.06-.94-.94-2.06-.94 2.06-2.06.94z\"/><path d=\"M17.41 7.96l-1.37-1.37c-.4-.4-.92-.59-1.43-.59-.52 0-1.04.2-1.43.59L10.3 9.45l-7.72 7.72c-.78.78-.78 2.05 0 2.83L4 21.41c.39.39.9.59 1.41.59.51 0 1.02-.2 1.41-.59l7.78-7.78 2.81-2.81c.8-.78.8-2.07 0-2.86zM5.41 20L4 18.59l7.72-7.72 1.47 1.35L5.41 20z\"/>\n",
              "  </svg>\n",
              "      </button>\n",
              "\n",
              "\n",
              "\n",
              "    <div id=\"df-0087ac91-3a1d-4d9b-8d5c-ed686b423ddb\">\n",
              "      <button class=\"colab-df-quickchart\" onclick=\"quickchart('df-0087ac91-3a1d-4d9b-8d5c-ed686b423ddb')\"\n",
              "              title=\"Suggest charts.\"\n",
              "              style=\"display:none;\">\n",
              "\n",
              "<svg xmlns=\"http://www.w3.org/2000/svg\" height=\"24px\"viewBox=\"0 0 24 24\"\n",
              "     width=\"24px\">\n",
              "    <g>\n",
              "        <path d=\"M19 3H5c-1.1 0-2 .9-2 2v14c0 1.1.9 2 2 2h14c1.1 0 2-.9 2-2V5c0-1.1-.9-2-2-2zM9 17H7v-7h2v7zm4 0h-2V7h2v10zm4 0h-2v-4h2v4z\"/>\n",
              "    </g>\n",
              "</svg>\n",
              "      </button>\n",
              "    </div>\n",
              "\n",
              "<style>\n",
              "  .colab-df-quickchart {\n",
              "    background-color: #E8F0FE;\n",
              "    border: none;\n",
              "    border-radius: 50%;\n",
              "    cursor: pointer;\n",
              "    display: none;\n",
              "    fill: #1967D2;\n",
              "    height: 32px;\n",
              "    padding: 0 0 0 0;\n",
              "    width: 32px;\n",
              "  }\n",
              "\n",
              "  .colab-df-quickchart:hover {\n",
              "    background-color: #E2EBFA;\n",
              "    box-shadow: 0px 1px 2px rgba(60, 64, 67, 0.3), 0px 1px 3px 1px rgba(60, 64, 67, 0.15);\n",
              "    fill: #174EA6;\n",
              "  }\n",
              "\n",
              "  [theme=dark] .colab-df-quickchart {\n",
              "    background-color: #3B4455;\n",
              "    fill: #D2E3FC;\n",
              "  }\n",
              "\n",
              "  [theme=dark] .colab-df-quickchart:hover {\n",
              "    background-color: #434B5C;\n",
              "    box-shadow: 0px 1px 3px 1px rgba(0, 0, 0, 0.15);\n",
              "    filter: drop-shadow(0px 1px 2px rgba(0, 0, 0, 0.3));\n",
              "    fill: #FFFFFF;\n",
              "  }\n",
              "</style>\n",
              "\n",
              "    <script>\n",
              "      async function quickchart(key) {\n",
              "        const containerElement = document.querySelector('#' + key);\n",
              "        const charts = await google.colab.kernel.invokeFunction(\n",
              "            'suggestCharts', [key], {});\n",
              "      }\n",
              "    </script>\n",
              "\n",
              "      <script>\n",
              "\n",
              "function displayQuickchartButton(domScope) {\n",
              "  let quickchartButtonEl =\n",
              "    domScope.querySelector('#df-0087ac91-3a1d-4d9b-8d5c-ed686b423ddb button.colab-df-quickchart');\n",
              "  quickchartButtonEl.style.display =\n",
              "    google.colab.kernel.accessAllowed ? 'block' : 'none';\n",
              "}\n",
              "\n",
              "        displayQuickchartButton(document);\n",
              "      </script>\n",
              "      <style>\n",
              "    .colab-df-container {\n",
              "      display:flex;\n",
              "      flex-wrap:wrap;\n",
              "      gap: 12px;\n",
              "    }\n",
              "\n",
              "    .colab-df-convert {\n",
              "      background-color: #E8F0FE;\n",
              "      border: none;\n",
              "      border-radius: 50%;\n",
              "      cursor: pointer;\n",
              "      display: none;\n",
              "      fill: #1967D2;\n",
              "      height: 32px;\n",
              "      padding: 0 0 0 0;\n",
              "      width: 32px;\n",
              "    }\n",
              "\n",
              "    .colab-df-convert:hover {\n",
              "      background-color: #E2EBFA;\n",
              "      box-shadow: 0px 1px 2px rgba(60, 64, 67, 0.3), 0px 1px 3px 1px rgba(60, 64, 67, 0.15);\n",
              "      fill: #174EA6;\n",
              "    }\n",
              "\n",
              "    [theme=dark] .colab-df-convert {\n",
              "      background-color: #3B4455;\n",
              "      fill: #D2E3FC;\n",
              "    }\n",
              "\n",
              "    [theme=dark] .colab-df-convert:hover {\n",
              "      background-color: #434B5C;\n",
              "      box-shadow: 0px 1px 3px 1px rgba(0, 0, 0, 0.15);\n",
              "      filter: drop-shadow(0px 1px 2px rgba(0, 0, 0, 0.3));\n",
              "      fill: #FFFFFF;\n",
              "    }\n",
              "  </style>\n",
              "\n",
              "      <script>\n",
              "        const buttonEl =\n",
              "          document.querySelector('#df-bba256d9-57ab-4773-90f9-274b2e84d3f0 button.colab-df-convert');\n",
              "        buttonEl.style.display =\n",
              "          google.colab.kernel.accessAllowed ? 'block' : 'none';\n",
              "\n",
              "        async function convertToInteractive(key) {\n",
              "          const element = document.querySelector('#df-bba256d9-57ab-4773-90f9-274b2e84d3f0');\n",
              "          const dataTable =\n",
              "            await google.colab.kernel.invokeFunction('convertToInteractive',\n",
              "                                                     [key], {});\n",
              "          if (!dataTable) return;\n",
              "\n",
              "          const docLinkHtml = 'Like what you see? Visit the ' +\n",
              "            '<a target=\"_blank\" href=https://colab.research.google.com/notebooks/data_table.ipynb>data table notebook</a>'\n",
              "            + ' to learn more about interactive tables.';\n",
              "          element.innerHTML = '';\n",
              "          dataTable['output_type'] = 'display_data';\n",
              "          await google.colab.output.renderOutput(dataTable, element);\n",
              "          const docLink = document.createElement('div');\n",
              "          docLink.innerHTML = docLinkHtml;\n",
              "          element.appendChild(docLink);\n",
              "        }\n",
              "      </script>\n",
              "    </div>\n",
              "  </div>\n"
            ]
          },
          "metadata": {},
          "execution_count": 116
        }
      ]
    },
    {
      "cell_type": "code",
      "source": [
        "line_numers = 16\n",
        "train_one_hot_order=tf.one_hot(train_df[\"line_number\"].values, depth=line_numers)\n",
        "val_one_hot_order=tf.one_hot(dev_df[\"line_number\"].values, depth=line_numers)\n",
        "test_one_hot_order=tf.one_hot(test_df[\"line_number\"].values, depth=line_numers)"
      ],
      "metadata": {
        "id": "XtgMZUl4dYNG"
      },
      "execution_count": 117,
      "outputs": []
    },
    {
      "cell_type": "code",
      "source": [
        "train_one_hot_order.shape, val_one_hot_order.shape, test_one_hot_order.shape"
      ],
      "metadata": {
        "colab": {
          "base_uri": "https://localhost:8080/"
        },
        "id": "N6xWDGk6d4_Y",
        "outputId": "db11a797-0e16-45a0-d646-acf6ab7319dc"
      },
      "execution_count": 118,
      "outputs": [
        {
          "output_type": "execute_result",
          "data": {
            "text/plain": [
              "(TensorShape([180040, 16]), TensorShape([30212, 16]), TensorShape([30135, 16]))"
            ]
          },
          "metadata": {},
          "execution_count": 118
        }
      ]
    },
    {
      "cell_type": "code",
      "source": [
        "val_one_hot_order[0]"
      ],
      "metadata": {
        "colab": {
          "base_uri": "https://localhost:8080/"
        },
        "id": "XuyVIvrKg7As",
        "outputId": "addc302d-a1e8-4fe3-d31c-41d5391d48d4"
      },
      "execution_count": 119,
      "outputs": [
        {
          "output_type": "execute_result",
          "data": {
            "text/plain": [
              "<tf.Tensor: shape=(16,), dtype=float32, numpy=\n",
              "array([0., 1., 0., 0., 0., 0., 0., 0., 0., 0., 0., 0., 0., 0., 0., 0.],\n",
              "      dtype=float32)>"
            ]
          },
          "metadata": {},
          "execution_count": 119
        }
      ]
    },
    {
      "cell_type": "code",
      "source": [
        "train_df[\"total_lines\"].value_counts()"
      ],
      "metadata": {
        "colab": {
          "base_uri": "https://localhost:8080/"
        },
        "id": "cL1vtr8PkSsK",
        "outputId": "d9fba7c2-9210-436c-cce0-c611b4d62be9"
      },
      "execution_count": 120,
      "outputs": [
        {
          "output_type": "execute_result",
          "data": {
            "text/plain": [
              "12    24468\n",
              "11    23639\n",
              "13    22113\n",
              "10    19400\n",
              "14    18438\n",
              "15    14610\n",
              "9     12285\n",
              "16    10768\n",
              "8      7464\n",
              "17     7429\n",
              "18     5202\n",
              "7      3353\n",
              "19     3344\n",
              "20     2480\n",
              "21     1281\n",
              "6      1146\n",
              "22      770\n",
              "23      759\n",
              "24      264\n",
              "5       215\n",
              "25      200\n",
              "26      182\n",
              "27       81\n",
              "29       58\n",
              "4        32\n",
              "31       31\n",
              "28       28\n",
              "Name: total_lines, dtype: int64"
            ]
          },
          "metadata": {},
          "execution_count": 120
        }
      ]
    },
    {
      "cell_type": "code",
      "source": [
        "# one hot encode for tatal lines numbers\n",
        "\n",
        "train_df[\"total_lines\"].plot.hist(bins=15)\n",
        "print(np.percentile(train_df.total_lines, 98))"
      ],
      "metadata": {
        "colab": {
          "base_uri": "https://localhost:8080/",
          "height": 447
        },
        "id": "Zd6w0JEojqun",
        "outputId": "79917d95-1b1f-4e55-95a4-b7f7e5b3deef"
      },
      "execution_count": 121,
      "outputs": [
        {
          "output_type": "stream",
          "name": "stdout",
          "text": [
            "21.0\n"
          ]
        },
        {
          "output_type": "display_data",
          "data": {
            "text/plain": [
              "<Figure size 640x480 with 1 Axes>"
            ],
            "image/png": "[encoded data removed]"
          },
          "metadata": {}
        }
      ]
    },
    {
      "cell_type": "code",
      "source": [
        "train_df[\"total_lines\"].dtype"
      ],
      "metadata": {
        "colab": {
          "base_uri": "https://localhost:8080/"
        },
        "id": "j-ziprMnkJmz",
        "outputId": "d8df8ec9-ec73-47ac-f40f-121c142708ef"
      },
      "execution_count": 122,
      "outputs": [
        {
          "output_type": "execute_result",
          "data": {
            "text/plain": [
              "dtype('int64')"
            ]
          },
          "metadata": {},
          "execution_count": 122
        }
      ]
    },
    {
      "cell_type": "code",
      "source": [
        "total_lines = 21\n",
        "train_one_hot_total_ln=tf.one_hot(train_df[\"total_lines\"].values, depth=total_lines)\n",
        "val_one_hot_total_ln=tf.one_hot(dev_df[\"total_lines\"].values, depth=total_lines)\n",
        "test_one_hot_total_ln=tf.one_hot(test_df[\"total_lines\"].values, depth=total_lines)"
      ],
      "metadata": {
        "id": "XMSbZeiOqCIA"
      },
      "execution_count": 123,
      "outputs": []
    },
    {
      "cell_type": "code",
      "source": [
        "train_one_hot_total_ln.shape, val_one_hot_total_ln.shape, test_one_hot_total_ln.shape\n"
      ],
      "metadata": {
        "colab": {
          "base_uri": "https://localhost:8080/"
        },
        "id": "18QlOmcxqVpq",
        "outputId": "2f417578-0438-4774-f923-f578e94af72e"
      },
      "execution_count": 124,
      "outputs": [
        {
          "output_type": "execute_result",
          "data": {
            "text/plain": [
              "(TensorShape([180040, 21]), TensorShape([30212, 21]), TensorShape([30135, 21]))"
            ]
          },
          "metadata": {},
          "execution_count": 124
        }
      ]
    },
    {
      "cell_type": "code",
      "source": [
        "from itertools import combinations\n",
        "#1. Create token level embeddings\n",
        "\n",
        "token_input = Input(shape=[], dtype=tf.string)\n",
        "token_embedding = hub.KerasLayer(\"https://tfhub.dev/google/universal-sentence-encoder/4\",\n",
        "                                        trainable=False,\n",
        "                                        name=\"universal_sentence_encoder\")(token_input)\n",
        "token_model = tf.keras.Model(inputs=token_input, outputs=token_embedding)\n",
        "\n",
        "#2. Create char level embeddings\n",
        "\n",
        "char_input = Input(shape=(1,), dtype=tf.string)\n",
        "char_vectors = chart_vectorizer(char_input)\n",
        "char_embedding = Embedding(NUM_CHAR_TOKENS, 25) (char_vectors)\n",
        "lstm_layer = Bidirectional(LSTM(32))(char_embedding)\n",
        "\n",
        "char_model = tf.keras.Model(inputs=char_input, outputs=lstm_layer)\n",
        "\n",
        "# 3. Create a model fro line numer features\n",
        "\n",
        "line_number_input = Input(shape=(line_numers,), dtype=tf.int32)\n",
        "line_number_vectors = Dense(32, activation=\"relu\")(line_number_input)\n",
        "line_number_model = tf.keras.Model(inputs=line_number_input,\n",
        "                                   outputs=line_number_vectors)\n",
        "\n",
        "# 4. Create a model for total numbers features\n",
        "\n",
        "total_number_input = Input(shape=(total_lines,), dtype=tf.int32)\n",
        "total_number_vectors = Dense(32, activation=\"relu\")(total_number_input)\n",
        "total_number_model = tf.keras.Model(inputs=total_number_input,\n",
        "                                   outputs=total_number_vectors)\n",
        "\n",
        "# 5. Concatenate all tokens and characters\n",
        "token_char_concat = Concatenate(name=\"token_char_hybrid\")([token_model.output,\n",
        "                                                            char_model.output])\n",
        "\n",
        "dence_combined = Dense(128)(token_char_concat)\n",
        "combined_dropout = Dropout(0.5)(dence_combined)\n",
        "\n",
        "# Concatenate dence_combined and line number and total number layers\n",
        "\n",
        "z = Concatenate(name=\"token_char_positional\")([line_number_model.output,\n",
        "                                                total_number_model.output,\n",
        "                                                combined_dropout])\n",
        "\n",
        "#dence_combined_dropout = Dropout(0.5)(dence_combined)\n",
        "model_output = Dense(5, activation=\"softmax\")(z)\n",
        "\n",
        "combinations_model = Model(inputs=[line_number_model.input,\n",
        "                      total_number_model.input,\n",
        "                      token_model.input,\n",
        "                      char_model.input],\n",
        "              outputs=model_output)\n",
        "\n",
        "combinations_model.compile(loss=\"categorical_crossentropy\",\n",
        "                         optimizer=\"adam\",\n",
        "                         metrics=[\"accuracy\"])"
      ],
      "metadata": {
        "id": "2iGLzZTsW2EK"
      },
      "execution_count": 125,
      "outputs": []
    },
    {
      "cell_type": "code",
      "source": [
        "plot_model(combinations_model, show_shapes=True)\n"
      ],
      "metadata": {
        "colab": {
          "base_uri": "https://localhost:8080/",
          "height": 976
        },
        "id": "TG6Y2KmEdXNj",
        "outputId": "fdedb6bd-2217-43c6-da65-e7695502f1e2"
      },
      "execution_count": 126,
      "outputs": [
        {
          "output_type": "execute_result",
          "data": {
            "image/png": "[encoded data removed]",
            "text/plain": [
              "<IPython.core.display.Image object>"
            ]
          },
          "metadata": {},
          "execution_count": 126
        }
      ]
    },
    {
      "cell_type": "code",
      "source": [
        "# Create datasets to fit a combinations_model model\n",
        "\n",
        "#train dataset\n",
        "x_data = tf.data.Dataset.from_tensor_slices((train_one_hot_order, train_one_hot_total_ln, train_sentences, train_sentences_chars))\n",
        "y = tf.data.Dataset.from_tensor_slices(y_train_one_hot)\n",
        "xy_dataset = tf.data.Dataset.zip((x_data, y))\n",
        "\n",
        "xy_dataset = xy_dataset.batch(32).prefetch(tf.data.AUTOTUNE)"
      ],
      "metadata": {
        "id": "ptJtfRKtcb0E"
      },
      "execution_count": 134,
      "outputs": []
    },
    {
      "cell_type": "code",
      "source": [
        "xy_dataset"
      ],
      "metadata": {
        "colab": {
          "base_uri": "https://localhost:8080/"
        },
        "id": "v6H_xODF2B_-",
        "outputId": "564955e9-2ce0-48cc-f64f-9197cb5ee353"
      },
      "execution_count": 135,
      "outputs": [
        {
          "output_type": "execute_result",
          "data": {
            "text/plain": [
              "<_PrefetchDataset element_spec=((TensorSpec(shape=(None, 16), dtype=tf.float32, name=None), TensorSpec(shape=(None, 21), dtype=tf.float32, name=None), TensorSpec(shape=(None,), dtype=tf.string, name=None), TensorSpec(shape=(None,), dtype=tf.string, name=None)), TensorSpec(shape=(None, 5), dtype=tf.float64, name=None))>"
            ]
          },
          "metadata": {},
          "execution_count": 135
        }
      ]
    },
    {
      "cell_type": "code",
      "source": [
        "#validation dataset\n",
        "val_x_data = tf.data.Dataset.from_tensor_slices((val_one_hot_order, val_one_hot_total_ln, val_sentences, val_sentences_chars))\n",
        "val_y_lables = tf.data.Dataset.from_tensor_slices(y_val_one_hot)\n",
        "val_xy_dataset = tf.data.Dataset.zip((val_x_data, val_y_lables))\n",
        "\n",
        "val_xy_dataset = val_xy_dataset.batch(32).prefetch(tf.data.AUTOTUNE)"
      ],
      "metadata": {
        "id": "wVF2Etjls_4x"
      },
      "execution_count": 136,
      "outputs": []
    },
    {
      "cell_type": "code",
      "source": [
        "combinations_model.compile(loss=tf.keras.losses.CategoricalCrossentropy(label_smoothing=0.2),\n",
        "                         optimizer=\"adam\",\n",
        "                         metrics=[\"accuracy\"])"
      ],
      "metadata": {
        "id": "ygzV5NjB48El"
      },
      "execution_count": 141,
      "outputs": []
    },
    {
      "cell_type": "code",
      "source": [
        "combinations_model.fit(xy_dataset,\n",
        "                       steps_per_epoch=int(len(xy_dataset)*0.5),\n",
        "                       epochs=3,\n",
        "                       validation_data=val_xy_dataset,\n",
        "                       validation_steps=int(len(val_xy_dataset)*0.5)\n",
        "                       )\n"
      ],
      "metadata": {
        "colab": {
          "base_uri": "https://localhost:8080/"
        },
        "id": "Ue0TnTlitBnz",
        "outputId": "edbf9349-0784-4b10-e596-1046bd9724ca"
      },
      "execution_count": 147,
      "outputs": [
        {
          "output_type": "stream",
          "name": "stdout",
          "text": [
            "Epoch 1/3\n",
            "2813/2813 [==============================] - 99s 35ms/step - loss: 0.9634 - accuracy: 0.8246 - val_loss: 0.9485 - val_accuracy: 0.8333\n",
            "Epoch 2/3\n",
            "2813/2813 [==============================] - 94s 33ms/step - loss: 0.9598 - accuracy: 0.8247 - val_loss: 0.9426 - val_accuracy: 0.8361\n",
            "Epoch 3/3\n",
            "   1/2813 [..............................] - ETA: 1:30 - loss: 0.9826 - accuracy: 0.6250"
          ]
        },
        {
          "output_type": "stream",
          "name": "stderr",
          "text": [
            "WARNING:tensorflow:Your input ran out of data; interrupting training. Make sure that your dataset or generator can generate at least `steps_per_epoch * epochs` batches (in this case, 8439 batches). You may need to use the repeat() function when building your dataset.\n"
          ]
        },
        {
          "output_type": "stream",
          "name": "stdout",
          "text": [
            "\b\b\b\b\b\b\b\b\b\b\b\b\b\b\b\b\b\b\b\b\b\b\b\b\b\b\b\b\b\b\b\b\b\b\b\b\b\b\b\b\b\b\b\b\b\b\b\b\b\b\b\b\b\b\b\b\b\b\b\b\b\b\b\b\b\b\b\b\b\b\b\b\b\b\b\b\b\b\b\b\b\b\b\b\b\b\b\b\r2813/2813 [==============================] - 8s 3ms/step - loss: 0.9826 - accuracy: 0.6250 - val_loss: 0.9425 - val_accuracy: 0.8361\n"
          ]
        },
        {
          "output_type": "execute_result",
          "data": {
            "text/plain": [
              "<keras.callbacks.History at 0x7b0ea6e05810>"
            ]
          },
          "metadata": {},
          "execution_count": 147
        }
      ]
    },
    {
      "cell_type": "code",
      "source": [
        "comb_predict = combinations_model.predict(val_xy_dataset)\n",
        "\n",
        "calculate_results(y_val_categorical, comb_predict.argmax(axis=1))"
      ],
      "metadata": {
        "colab": {
          "base_uri": "https://localhost:8080/"
        },
        "id": "hQlvid0VtJUX",
        "outputId": "53076b97-c8e8-42d4-d448-a8df415f99df"
      },
      "execution_count": 148,
      "outputs": [
        {
          "output_type": "stream",
          "name": "stdout",
          "text": [
            "945/945 [==============================] - 19s 20ms/step\n",
            "Accuracy : 0.8349662385806964\n",
            "Precision : 0.8351786216381182\n",
            "Recall : 0.8349662385806964\n",
            "F1 : 0.8323938793406145\n"
          ]
        }
      ]
    },
    {
      "cell_type": "code",
      "source": [
        "combinations_model.save(\"combinations_model\")\n"
      ],
      "metadata": {
        "id": "1DGEz9_s_ptG"
      },
      "execution_count": null,
      "outputs": []
    }
  ]
}