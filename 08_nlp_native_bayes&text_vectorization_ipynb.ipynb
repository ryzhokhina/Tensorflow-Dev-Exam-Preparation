{
  "nbformat": 4,
  "nbformat_minor": 0,
  "metadata": {
    "colab": {
      "provenance": [],
      "gpuType": "T4",
      "authorship_tag": "ABX9TyNuqZyDvivpClZUWV2s5RsT",
      "include_colab_link": true
    },
    "kernelspec": {
      "name": "python3",
      "display_name": "Python 3"
    },
    "language_info": {
      "name": "python"
    },
    "accelerator": "GPU",
    "widgets": {
      "application/vnd.jupyter.widget-state+json": {
        "57cbde8e96774f3ea0502b54af239bac": {
          "model_module": "@jupyter-widgets/controls",
          "model_name": "HBoxModel",
          "model_module_version": "1.5.0",
          "state": {
            "_dom_classes": [],
            "_model_module": "@jupyter-widgets/controls",
            "_model_module_version": "1.5.0",
            "_model_name": "HBoxModel",
            "_view_count": null,
            "_view_module": "@jupyter-widgets/controls",
            "_view_module_version": "1.5.0",
            "_view_name": "HBoxView",
            "box_style": "",
            "children": [
              "IPY_MODEL_200963582277486bb428b1613238a520",
              "IPY_MODEL_a8a243c41ebe457e95652bf68893c42d",
              "IPY_MODEL_00bd1eba8347415da13b07a038d0a3ed"
            ],
            "layout": "IPY_MODEL_ba434a49dd914f62b38590e0d8f515bf"
          }
        },
        "200963582277486bb428b1613238a520": {
          "model_module": "@jupyter-widgets/controls",
          "model_name": "HTMLModel",
          "model_module_version": "1.5.0",
          "state": {
            "_dom_classes": [],
            "_model_module": "@jupyter-widgets/controls",
            "_model_module_version": "1.5.0",
            "_model_name": "HTMLModel",
            "_view_count": null,
            "_view_module": "@jupyter-widgets/controls",
            "_view_module_version": "1.5.0",
            "_view_name": "HTMLView",
            "description": "",
            "description_tooltip": null,
            "layout": "IPY_MODEL_8c0c615805fb465a961f28ee19e243a5",
            "placeholder": "​",
            "style": "IPY_MODEL_77581c53da0247cca4f747edc907415e",
            "value": "100%"
          }
        },
        "a8a243c41ebe457e95652bf68893c42d": {
          "model_module": "@jupyter-widgets/controls",
          "model_name": "FloatProgressModel",
          "model_module_version": "1.5.0",
          "state": {
            "_dom_classes": [],
            "_model_module": "@jupyter-widgets/controls",
            "_model_module_version": "1.5.0",
            "_model_name": "FloatProgressModel",
            "_view_count": null,
            "_view_module": "@jupyter-widgets/controls",
            "_view_module_version": "1.5.0",
            "_view_name": "ProgressView",
            "bar_style": "success",
            "description": "",
            "description_tooltip": null,
            "layout": "IPY_MODEL_0726955c8b014644a157fce79999ccb9",
            "max": 6851,
            "min": 0,
            "orientation": "horizontal",
            "style": "IPY_MODEL_4a4d04c24eca4ed2bc9e03d273313cc6",
            "value": 6851
          }
        },
        "00bd1eba8347415da13b07a038d0a3ed": {
          "model_module": "@jupyter-widgets/controls",
          "model_name": "HTMLModel",
          "model_module_version": "1.5.0",
          "state": {
            "_dom_classes": [],
            "_model_module": "@jupyter-widgets/controls",
            "_model_module_version": "1.5.0",
            "_model_name": "HTMLModel",
            "_view_count": null,
            "_view_module": "@jupyter-widgets/controls",
            "_view_module_version": "1.5.0",
            "_view_name": "HTMLView",
            "description": "",
            "description_tooltip": null,
            "layout": "IPY_MODEL_11e415aa6e9b46f38656154a9889c7eb",
            "placeholder": "​",
            "style": "IPY_MODEL_9da7f459b3ad4156b290473bf7027fdc",
            "value": " 6851/6851 [00:24&lt;00:00, 316.82it/s]"
          }
        },
        "ba434a49dd914f62b38590e0d8f515bf": {
          "model_module": "@jupyter-widgets/base",
          "model_name": "LayoutModel",
          "model_module_version": "1.2.0",
          "state": {
            "_model_module": "@jupyter-widgets/base",
            "_model_module_version": "1.2.0",
            "_model_name": "LayoutModel",
            "_view_count": null,
            "_view_module": "@jupyter-widgets/base",
            "_view_module_version": "1.2.0",
            "_view_name": "LayoutView",
            "align_content": null,
            "align_items": null,
            "align_self": null,
            "border": null,
            "bottom": null,
            "display": null,
            "flex": null,
            "flex_flow": null,
            "grid_area": null,
            "grid_auto_columns": null,
            "grid_auto_flow": null,
            "grid_auto_rows": null,
            "grid_column": null,
            "grid_gap": null,
            "grid_row": null,
            "grid_template_areas": null,
            "grid_template_columns": null,
            "grid_template_rows": null,
            "height": null,
            "justify_content": null,
            "justify_items": null,
            "left": null,
            "margin": null,
            "max_height": null,
            "max_width": null,
            "min_height": null,
            "min_width": null,
            "object_fit": null,
            "object_position": null,
            "order": null,
            "overflow": null,
            "overflow_x": null,
            "overflow_y": null,
            "padding": null,
            "right": null,
            "top": null,
            "visibility": null,
            "width": null
          }
        },
        "8c0c615805fb465a961f28ee19e243a5": {
          "model_module": "@jupyter-widgets/base",
          "model_name": "LayoutModel",
          "model_module_version": "1.2.0",
          "state": {
            "_model_module": "@jupyter-widgets/base",
            "_model_module_version": "1.2.0",
            "_model_name": "LayoutModel",
            "_view_count": null,
            "_view_module": "@jupyter-widgets/base",
            "_view_module_version": "1.2.0",
            "_view_name": "LayoutView",
            "align_content": null,
            "align_items": null,
            "align_self": null,
            "border": null,
            "bottom": null,
            "display": null,
            "flex": null,
            "flex_flow": null,
            "grid_area": null,
            "grid_auto_columns": null,
            "grid_auto_flow": null,
            "grid_auto_rows": null,
            "grid_column": null,
            "grid_gap": null,
            "grid_row": null,
            "grid_template_areas": null,
            "grid_template_columns": null,
            "grid_template_rows": null,
            "height": null,
            "justify_content": null,
            "justify_items": null,
            "left": null,
            "margin": null,
            "max_height": null,
            "max_width": null,
            "min_height": null,
            "min_width": null,
            "object_fit": null,
            "object_position": null,
            "order": null,
            "overflow": null,
            "overflow_x": null,
            "overflow_y": null,
            "padding": null,
            "right": null,
            "top": null,
            "visibility": null,
            "width": null
          }
        },
        "77581c53da0247cca4f747edc907415e": {
          "model_module": "@jupyter-widgets/controls",
          "model_name": "DescriptionStyleModel",
          "model_module_version": "1.5.0",
          "state": {
            "_model_module": "@jupyter-widgets/controls",
            "_model_module_version": "1.5.0",
            "_model_name": "DescriptionStyleModel",
            "_view_count": null,
            "_view_module": "@jupyter-widgets/base",
            "_view_module_version": "1.2.0",
            "_view_name": "StyleView",
            "description_width": ""
          }
        },
        "0726955c8b014644a157fce79999ccb9": {
          "model_module": "@jupyter-widgets/base",
          "model_name": "LayoutModel",
          "model_module_version": "1.2.0",
          "state": {
            "_model_module": "@jupyter-widgets/base",
            "_model_module_version": "1.2.0",
            "_model_name": "LayoutModel",
            "_view_count": null,
            "_view_module": "@jupyter-widgets/base",
            "_view_module_version": "1.2.0",
            "_view_name": "LayoutView",
            "align_content": null,
            "align_items": null,
            "align_self": null,
            "border": null,
            "bottom": null,
            "display": null,
            "flex": null,
            "flex_flow": null,
            "grid_area": null,
            "grid_auto_columns": null,
            "grid_auto_flow": null,
            "grid_auto_rows": null,
            "grid_column": null,
            "grid_gap": null,
            "grid_row": null,
            "grid_template_areas": null,
            "grid_template_columns": null,
            "grid_template_rows": null,
            "height": null,
            "justify_content": null,
            "justify_items": null,
            "left": null,
            "margin": null,
            "max_height": null,
            "max_width": null,
            "min_height": null,
            "min_width": null,
            "object_fit": null,
            "object_position": null,
            "order": null,
            "overflow": null,
            "overflow_x": null,
            "overflow_y": null,
            "padding": null,
            "right": null,
            "top": null,
            "visibility": null,
            "width": null
          }
        },
        "4a4d04c24eca4ed2bc9e03d273313cc6": {
          "model_module": "@jupyter-widgets/controls",
          "model_name": "ProgressStyleModel",
          "model_module_version": "1.5.0",
          "state": {
            "_model_module": "@jupyter-widgets/controls",
            "_model_module_version": "1.5.0",
            "_model_name": "ProgressStyleModel",
            "_view_count": null,
            "_view_module": "@jupyter-widgets/base",
            "_view_module_version": "1.2.0",
            "_view_name": "StyleView",
            "bar_color": null,
            "description_width": ""
          }
        },
        "11e415aa6e9b46f38656154a9889c7eb": {
          "model_module": "@jupyter-widgets/base",
          "model_name": "LayoutModel",
          "model_module_version": "1.2.0",
          "state": {
            "_model_module": "@jupyter-widgets/base",
            "_model_module_version": "1.2.0",
            "_model_name": "LayoutModel",
            "_view_count": null,
            "_view_module": "@jupyter-widgets/base",
            "_view_module_version": "1.2.0",
            "_view_name": "LayoutView",
            "align_content": null,
            "align_items": null,
            "align_self": null,
            "border": null,
            "bottom": null,
            "display": null,
            "flex": null,
            "flex_flow": null,
            "grid_area": null,
            "grid_auto_columns": null,
            "grid_auto_flow": null,
            "grid_auto_rows": null,
            "grid_column": null,
            "grid_gap": null,
            "grid_row": null,
            "grid_template_areas": null,
            "grid_template_columns": null,
            "grid_template_rows": null,
            "height": null,
            "justify_content": null,
            "justify_items": null,
            "left": null,
            "margin": null,
            "max_height": null,
            "max_width": null,
            "min_height": null,
            "min_width": null,
            "object_fit": null,
            "object_position": null,
            "order": null,
            "overflow": null,
            "overflow_x": null,
            "overflow_y": null,
            "padding": null,
            "right": null,
            "top": null,
            "visibility": null,
            "width": null
          }
        },
        "9da7f459b3ad4156b290473bf7027fdc": {
          "model_module": "@jupyter-widgets/controls",
          "model_name": "DescriptionStyleModel",
          "model_module_version": "1.5.0",
          "state": {
            "_model_module": "@jupyter-widgets/controls",
            "_model_module_version": "1.5.0",
            "_model_name": "DescriptionStyleModel",
            "_view_count": null,
            "_view_module": "@jupyter-widgets/base",
            "_view_module_version": "1.2.0",
            "_view_name": "StyleView",
            "description_width": ""
          }
        },
        "a6af902f62b7491f9bf6ff38881c90b9": {
          "model_module": "@jupyter-widgets/controls",
          "model_name": "HBoxModel",
          "model_module_version": "1.5.0",
          "state": {
            "_dom_classes": [],
            "_model_module": "@jupyter-widgets/controls",
            "_model_module_version": "1.5.0",
            "_model_name": "HBoxModel",
            "_view_count": null,
            "_view_module": "@jupyter-widgets/controls",
            "_view_module_version": "1.5.0",
            "_view_name": "HBoxView",
            "box_style": "",
            "children": [
              "IPY_MODEL_86c45ed73098469c8cf0a5f0483e2d94",
              "IPY_MODEL_8cea5c177f6e48d694b1d7dd0bb30269",
              "IPY_MODEL_69fa12fc22224478ad5c7ada614c773e"
            ],
            "layout": "IPY_MODEL_2ee6d2148e2a4388961b27e1574feeb5"
          }
        },
        "86c45ed73098469c8cf0a5f0483e2d94": {
          "model_module": "@jupyter-widgets/controls",
          "model_name": "HTMLModel",
          "model_module_version": "1.5.0",
          "state": {
            "_dom_classes": [],
            "_model_module": "@jupyter-widgets/controls",
            "_model_module_version": "1.5.0",
            "_model_name": "HTMLModel",
            "_view_count": null,
            "_view_module": "@jupyter-widgets/controls",
            "_view_module_version": "1.5.0",
            "_view_name": "HTMLView",
            "description": "",
            "description_tooltip": null,
            "layout": "IPY_MODEL_82870f48d06a4667979a33d2f98a43b8",
            "placeholder": "​",
            "style": "IPY_MODEL_9e8bbb18a753472fa4652af17244b10b",
            "value": "100%"
          }
        },
        "8cea5c177f6e48d694b1d7dd0bb30269": {
          "model_module": "@jupyter-widgets/controls",
          "model_name": "FloatProgressModel",
          "model_module_version": "1.5.0",
          "state": {
            "_dom_classes": [],
            "_model_module": "@jupyter-widgets/controls",
            "_model_module_version": "1.5.0",
            "_model_name": "FloatProgressModel",
            "_view_count": null,
            "_view_module": "@jupyter-widgets/controls",
            "_view_module_version": "1.5.0",
            "_view_name": "ProgressView",
            "bar_style": "success",
            "description": "",
            "description_tooltip": null,
            "layout": "IPY_MODEL_95b8c14b6a6d4a7989276b00b439ef4c",
            "max": 7613,
            "min": 0,
            "orientation": "horizontal",
            "style": "IPY_MODEL_621e833f257b4199ad62937778a423c6",
            "value": 7613
          }
        },
        "69fa12fc22224478ad5c7ada614c773e": {
          "model_module": "@jupyter-widgets/controls",
          "model_name": "HTMLModel",
          "model_module_version": "1.5.0",
          "state": {
            "_dom_classes": [],
            "_model_module": "@jupyter-widgets/controls",
            "_model_module_version": "1.5.0",
            "_model_name": "HTMLModel",
            "_view_count": null,
            "_view_module": "@jupyter-widgets/controls",
            "_view_module_version": "1.5.0",
            "_view_name": "HTMLView",
            "description": "",
            "description_tooltip": null,
            "layout": "IPY_MODEL_df9efa89b01241549bff0fe1cd2ac0be",
            "placeholder": "​",
            "style": "IPY_MODEL_32b0b81db2984d9b8a461b62ede6d889",
            "value": " 7613/7613 [00:11&lt;00:00, 796.37it/s]"
          }
        },
        "2ee6d2148e2a4388961b27e1574feeb5": {
          "model_module": "@jupyter-widgets/base",
          "model_name": "LayoutModel",
          "model_module_version": "1.2.0",
          "state": {
            "_model_module": "@jupyter-widgets/base",
            "_model_module_version": "1.2.0",
            "_model_name": "LayoutModel",
            "_view_count": null,
            "_view_module": "@jupyter-widgets/base",
            "_view_module_version": "1.2.0",
            "_view_name": "LayoutView",
            "align_content": null,
            "align_items": null,
            "align_self": null,
            "border": null,
            "bottom": null,
            "display": null,
            "flex": null,
            "flex_flow": null,
            "grid_area": null,
            "grid_auto_columns": null,
            "grid_auto_flow": null,
            "grid_auto_rows": null,
            "grid_column": null,
            "grid_gap": null,
            "grid_row": null,
            "grid_template_areas": null,
            "grid_template_columns": null,
            "grid_template_rows": null,
            "height": null,
            "justify_content": null,
            "justify_items": null,
            "left": null,
            "margin": null,
            "max_height": null,
            "max_width": null,
            "min_height": null,
            "min_width": null,
            "object_fit": null,
            "object_position": null,
            "order": null,
            "overflow": null,
            "overflow_x": null,
            "overflow_y": null,
            "padding": null,
            "right": null,
            "top": null,
            "visibility": null,
            "width": null
          }
        },
        "82870f48d06a4667979a33d2f98a43b8": {
          "model_module": "@jupyter-widgets/base",
          "model_name": "LayoutModel",
          "model_module_version": "1.2.0",
          "state": {
            "_model_module": "@jupyter-widgets/base",
            "_model_module_version": "1.2.0",
            "_model_name": "LayoutModel",
            "_view_count": null,
            "_view_module": "@jupyter-widgets/base",
            "_view_module_version": "1.2.0",
            "_view_name": "LayoutView",
            "align_content": null,
            "align_items": null,
            "align_self": null,
            "border": null,
            "bottom": null,
            "display": null,
            "flex": null,
            "flex_flow": null,
            "grid_area": null,
            "grid_auto_columns": null,
            "grid_auto_flow": null,
            "grid_auto_rows": null,
            "grid_column": null,
            "grid_gap": null,
            "grid_row": null,
            "grid_template_areas": null,
            "grid_template_columns": null,
            "grid_template_rows": null,
            "height": null,
            "justify_content": null,
            "justify_items": null,
            "left": null,
            "margin": null,
            "max_height": null,
            "max_width": null,
            "min_height": null,
            "min_width": null,
            "object_fit": null,
            "object_position": null,
            "order": null,
            "overflow": null,
            "overflow_x": null,
            "overflow_y": null,
            "padding": null,
            "right": null,
            "top": null,
            "visibility": null,
            "width": null
          }
        },
        "9e8bbb18a753472fa4652af17244b10b": {
          "model_module": "@jupyter-widgets/controls",
          "model_name": "DescriptionStyleModel",
          "model_module_version": "1.5.0",
          "state": {
            "_model_module": "@jupyter-widgets/controls",
            "_model_module_version": "1.5.0",
            "_model_name": "DescriptionStyleModel",
            "_view_count": null,
            "_view_module": "@jupyter-widgets/base",
            "_view_module_version": "1.2.0",
            "_view_name": "StyleView",
            "description_width": ""
          }
        },
        "95b8c14b6a6d4a7989276b00b439ef4c": {
          "model_module": "@jupyter-widgets/base",
          "model_name": "LayoutModel",
          "model_module_version": "1.2.0",
          "state": {
            "_model_module": "@jupyter-widgets/base",
            "_model_module_version": "1.2.0",
            "_model_name": "LayoutModel",
            "_view_count": null,
            "_view_module": "@jupyter-widgets/base",
            "_view_module_version": "1.2.0",
            "_view_name": "LayoutView",
            "align_content": null,
            "align_items": null,
            "align_self": null,
            "border": null,
            "bottom": null,
            "display": null,
            "flex": null,
            "flex_flow": null,
            "grid_area": null,
            "grid_auto_columns": null,
            "grid_auto_flow": null,
            "grid_auto_rows": null,
            "grid_column": null,
            "grid_gap": null,
            "grid_row": null,
            "grid_template_areas": null,
            "grid_template_columns": null,
            "grid_template_rows": null,
            "height": null,
            "justify_content": null,
            "justify_items": null,
            "left": null,
            "margin": null,
            "max_height": null,
            "max_width": null,
            "min_height": null,
            "min_width": null,
            "object_fit": null,
            "object_position": null,
            "order": null,
            "overflow": null,
            "overflow_x": null,
            "overflow_y": null,
            "padding": null,
            "right": null,
            "top": null,
            "visibility": null,
            "width": null
          }
        },
        "621e833f257b4199ad62937778a423c6": {
          "model_module": "@jupyter-widgets/controls",
          "model_name": "ProgressStyleModel",
          "model_module_version": "1.5.0",
          "state": {
            "_model_module": "@jupyter-widgets/controls",
            "_model_module_version": "1.5.0",
            "_model_name": "ProgressStyleModel",
            "_view_count": null,
            "_view_module": "@jupyter-widgets/base",
            "_view_module_version": "1.2.0",
            "_view_name": "StyleView",
            "bar_color": null,
            "description_width": ""
          }
        },
        "df9efa89b01241549bff0fe1cd2ac0be": {
          "model_module": "@jupyter-widgets/base",
          "model_name": "LayoutModel",
          "model_module_version": "1.2.0",
          "state": {
            "_model_module": "@jupyter-widgets/base",
            "_model_module_version": "1.2.0",
            "_model_name": "LayoutModel",
            "_view_count": null,
            "_view_module": "@jupyter-widgets/base",
            "_view_module_version": "1.2.0",
            "_view_name": "LayoutView",
            "align_content": null,
            "align_items": null,
            "align_self": null,
            "border": null,
            "bottom": null,
            "display": null,
            "flex": null,
            "flex_flow": null,
            "grid_area": null,
            "grid_auto_columns": null,
            "grid_auto_flow": null,
            "grid_auto_rows": null,
            "grid_column": null,
            "grid_gap": null,
            "grid_row": null,
            "grid_template_areas": null,
            "grid_template_columns": null,
            "grid_template_rows": null,
            "height": null,
            "justify_content": null,
            "justify_items": null,
            "left": null,
            "margin": null,
            "max_height": null,
            "max_width": null,
            "min_height": null,
            "min_width": null,
            "object_fit": null,
            "object_position": null,
            "order": null,
            "overflow": null,
            "overflow_x": null,
            "overflow_y": null,
            "padding": null,
            "right": null,
            "top": null,
            "visibility": null,
            "width": null
          }
        },
        "32b0b81db2984d9b8a461b62ede6d889": {
          "model_module": "@jupyter-widgets/controls",
          "model_name": "DescriptionStyleModel",
          "model_module_version": "1.5.0",
          "state": {
            "_model_module": "@jupyter-widgets/controls",
            "_model_module_version": "1.5.0",
            "_model_name": "DescriptionStyleModel",
            "_view_count": null,
            "_view_module": "@jupyter-widgets/base",
            "_view_module_version": "1.2.0",
            "_view_name": "StyleView",
            "description_width": ""
          }
        },
        "26838adee2be4901b43b9e08ced555a3": {
          "model_module": "@jupyter-widgets/controls",
          "model_name": "HBoxModel",
          "model_module_version": "1.5.0",
          "state": {
            "_dom_classes": [],
            "_model_module": "@jupyter-widgets/controls",
            "_model_module_version": "1.5.0",
            "_model_name": "HBoxModel",
            "_view_count": null,
            "_view_module": "@jupyter-widgets/controls",
            "_view_module_version": "1.5.0",
            "_view_name": "HBoxView",
            "box_style": "",
            "children": [
              "IPY_MODEL_1d9e886fcb1b4b2cbbdb98a98cc9c888",
              "IPY_MODEL_02719ef0994c49f0ba74ae657a1157b1",
              "IPY_MODEL_5ea9c20286c1459fad2c062dd08a285d"
            ],
            "layout": "IPY_MODEL_4a68eeed555c4f38895709f597ef4459"
          }
        },
        "1d9e886fcb1b4b2cbbdb98a98cc9c888": {
          "model_module": "@jupyter-widgets/controls",
          "model_name": "HTMLModel",
          "model_module_version": "1.5.0",
          "state": {
            "_dom_classes": [],
            "_model_module": "@jupyter-widgets/controls",
            "_model_module_version": "1.5.0",
            "_model_name": "HTMLModel",
            "_view_count": null,
            "_view_module": "@jupyter-widgets/controls",
            "_view_module_version": "1.5.0",
            "_view_name": "HTMLView",
            "description": "",
            "description_tooltip": null,
            "layout": "IPY_MODEL_9fa520bbe3fc451cbfcfa8511c8e7b94",
            "placeholder": "​",
            "style": "IPY_MODEL_8d9ba75a767c4b19bb1bbb627667d465",
            "value": "100%"
          }
        },
        "02719ef0994c49f0ba74ae657a1157b1": {
          "model_module": "@jupyter-widgets/controls",
          "model_name": "FloatProgressModel",
          "model_module_version": "1.5.0",
          "state": {
            "_dom_classes": [],
            "_model_module": "@jupyter-widgets/controls",
            "_model_module_version": "1.5.0",
            "_model_name": "FloatProgressModel",
            "_view_count": null,
            "_view_module": "@jupyter-widgets/controls",
            "_view_module_version": "1.5.0",
            "_view_name": "ProgressView",
            "bar_style": "success",
            "description": "",
            "description_tooltip": null,
            "layout": "IPY_MODEL_2976f2f9bb174b5484ca67e1fe002b15",
            "max": 7613,
            "min": 0,
            "orientation": "horizontal",
            "style": "IPY_MODEL_2a95addcc23b4fbfb52c4ce78f5ffcf6",
            "value": 7613
          }
        },
        "5ea9c20286c1459fad2c062dd08a285d": {
          "model_module": "@jupyter-widgets/controls",
          "model_name": "HTMLModel",
          "model_module_version": "1.5.0",
          "state": {
            "_dom_classes": [],
            "_model_module": "@jupyter-widgets/controls",
            "_model_module_version": "1.5.0",
            "_model_name": "HTMLModel",
            "_view_count": null,
            "_view_module": "@jupyter-widgets/controls",
            "_view_module_version": "1.5.0",
            "_view_name": "HTMLView",
            "description": "",
            "description_tooltip": null,
            "layout": "IPY_MODEL_31e9ec8baedc40cea39a245b349e1ab6",
            "placeholder": "​",
            "style": "IPY_MODEL_81b30d0265944af29468210c082f733e",
            "value": " 7613/7613 [00:29&lt;00:00, 280.61it/s]"
          }
        },
        "4a68eeed555c4f38895709f597ef4459": {
          "model_module": "@jupyter-widgets/base",
          "model_name": "LayoutModel",
          "model_module_version": "1.2.0",
          "state": {
            "_model_module": "@jupyter-widgets/base",
            "_model_module_version": "1.2.0",
            "_model_name": "LayoutModel",
            "_view_count": null,
            "_view_module": "@jupyter-widgets/base",
            "_view_module_version": "1.2.0",
            "_view_name": "LayoutView",
            "align_content": null,
            "align_items": null,
            "align_self": null,
            "border": null,
            "bottom": null,
            "display": null,
            "flex": null,
            "flex_flow": null,
            "grid_area": null,
            "grid_auto_columns": null,
            "grid_auto_flow": null,
            "grid_auto_rows": null,
            "grid_column": null,
            "grid_gap": null,
            "grid_row": null,
            "grid_template_areas": null,
            "grid_template_columns": null,
            "grid_template_rows": null,
            "height": null,
            "justify_content": null,
            "justify_items": null,
            "left": null,
            "margin": null,
            "max_height": null,
            "max_width": null,
            "min_height": null,
            "min_width": null,
            "object_fit": null,
            "object_position": null,
            "order": null,
            "overflow": null,
            "overflow_x": null,
            "overflow_y": null,
            "padding": null,
            "right": null,
            "top": null,
            "visibility": null,
            "width": null
          }
        },
        "9fa520bbe3fc451cbfcfa8511c8e7b94": {
          "model_module": "@jupyter-widgets/base",
          "model_name": "LayoutModel",
          "model_module_version": "1.2.0",
          "state": {
            "_model_module": "@jupyter-widgets/base",
            "_model_module_version": "1.2.0",
            "_model_name": "LayoutModel",
            "_view_count": null,
            "_view_module": "@jupyter-widgets/base",
            "_view_module_version": "1.2.0",
            "_view_name": "LayoutView",
            "align_content": null,
            "align_items": null,
            "align_self": null,
            "border": null,
            "bottom": null,
            "display": null,
            "flex": null,
            "flex_flow": null,
            "grid_area": null,
            "grid_auto_columns": null,
            "grid_auto_flow": null,
            "grid_auto_rows": null,
            "grid_column": null,
            "grid_gap": null,
            "grid_row": null,
            "grid_template_areas": null,
            "grid_template_columns": null,
            "grid_template_rows": null,
            "height": null,
            "justify_content": null,
            "justify_items": null,
            "left": null,
            "margin": null,
            "max_height": null,
            "max_width": null,
            "min_height": null,
            "min_width": null,
            "object_fit": null,
            "object_position": null,
            "order": null,
            "overflow": null,
            "overflow_x": null,
            "overflow_y": null,
            "padding": null,
            "right": null,
            "top": null,
            "visibility": null,
            "width": null
          }
        },
        "8d9ba75a767c4b19bb1bbb627667d465": {
          "model_module": "@jupyter-widgets/controls",
          "model_name": "DescriptionStyleModel",
          "model_module_version": "1.5.0",
          "state": {
            "_model_module": "@jupyter-widgets/controls",
            "_model_module_version": "1.5.0",
            "_model_name": "DescriptionStyleModel",
            "_view_count": null,
            "_view_module": "@jupyter-widgets/base",
            "_view_module_version": "1.2.0",
            "_view_name": "StyleView",
            "description_width": ""
          }
        },
        "2976f2f9bb174b5484ca67e1fe002b15": {
          "model_module": "@jupyter-widgets/base",
          "model_name": "LayoutModel",
          "model_module_version": "1.2.0",
          "state": {
            "_model_module": "@jupyter-widgets/base",
            "_model_module_version": "1.2.0",
            "_model_name": "LayoutModel",
            "_view_count": null,
            "_view_module": "@jupyter-widgets/base",
            "_view_module_version": "1.2.0",
            "_view_name": "LayoutView",
            "align_content": null,
            "align_items": null,
            "align_self": null,
            "border": null,
            "bottom": null,
            "display": null,
            "flex": null,
            "flex_flow": null,
            "grid_area": null,
            "grid_auto_columns": null,
            "grid_auto_flow": null,
            "grid_auto_rows": null,
            "grid_column": null,
            "grid_gap": null,
            "grid_row": null,
            "grid_template_areas": null,
            "grid_template_columns": null,
            "grid_template_rows": null,
            "height": null,
            "justify_content": null,
            "justify_items": null,
            "left": null,
            "margin": null,
            "max_height": null,
            "max_width": null,
            "min_height": null,
            "min_width": null,
            "object_fit": null,
            "object_position": null,
            "order": null,
            "overflow": null,
            "overflow_x": null,
            "overflow_y": null,
            "padding": null,
            "right": null,
            "top": null,
            "visibility": null,
            "width": null
          }
        },
        "2a95addcc23b4fbfb52c4ce78f5ffcf6": {
          "model_module": "@jupyter-widgets/controls",
          "model_name": "ProgressStyleModel",
          "model_module_version": "1.5.0",
          "state": {
            "_model_module": "@jupyter-widgets/controls",
            "_model_module_version": "1.5.0",
            "_model_name": "ProgressStyleModel",
            "_view_count": null,
            "_view_module": "@jupyter-widgets/base",
            "_view_module_version": "1.2.0",
            "_view_name": "StyleView",
            "bar_color": null,
            "description_width": ""
          }
        },
        "31e9ec8baedc40cea39a245b349e1ab6": {
          "model_module": "@jupyter-widgets/base",
          "model_name": "LayoutModel",
          "model_module_version": "1.2.0",
          "state": {
            "_model_module": "@jupyter-widgets/base",
            "_model_module_version": "1.2.0",
            "_model_name": "LayoutModel",
            "_view_count": null,
            "_view_module": "@jupyter-widgets/base",
            "_view_module_version": "1.2.0",
            "_view_name": "LayoutView",
            "align_content": null,
            "align_items": null,
            "align_self": null,
            "border": null,
            "bottom": null,
            "display": null,
            "flex": null,
            "flex_flow": null,
            "grid_area": null,
            "grid_auto_columns": null,
            "grid_auto_flow": null,
            "grid_auto_rows": null,
            "grid_column": null,
            "grid_gap": null,
            "grid_row": null,
            "grid_template_areas": null,
            "grid_template_columns": null,
            "grid_template_rows": null,
            "height": null,
            "justify_content": null,
            "justify_items": null,
            "left": null,
            "margin": null,
            "max_height": null,
            "max_width": null,
            "min_height": null,
            "min_width": null,
            "object_fit": null,
            "object_position": null,
            "order": null,
            "overflow": null,
            "overflow_x": null,
            "overflow_y": null,
            "padding": null,
            "right": null,
            "top": null,
            "visibility": null,
            "width": null
          }
        },
        "81b30d0265944af29468210c082f733e": {
          "model_module": "@jupyter-widgets/controls",
          "model_name": "DescriptionStyleModel",
          "model_module_version": "1.5.0",
          "state": {
            "_model_module": "@jupyter-widgets/controls",
            "_model_module_version": "1.5.0",
            "_model_name": "DescriptionStyleModel",
            "_view_count": null,
            "_view_module": "@jupyter-widgets/base",
            "_view_module_version": "1.2.0",
            "_view_name": "StyleView",
            "description_width": ""
          }
        }
      }
    }
  },
  "cells": [
    {
      "cell_type": "markdown",
      "metadata": {
        "id": "view-in-github",
        "colab_type": "text"
      },
      "source": [
        "<a href=\"https://colab.research.google.com/github/ryzhokhina/Tensorflow-Dev-Exam-Preparation/blob/main/08_nlp_native_bayes%26text_vectorization_ipynb.ipynb\" target=\"_parent\"><img src=\"https://colab.research.google.com/assets/colab-badge.svg\" alt=\"Open In Colab\"/></a>"
      ]
    },
    {
      "cell_type": "code",
      "execution_count": null,
      "metadata": {
        "colab": {
          "base_uri": "https://localhost:8080/"
        },
        "id": "hXh66ihNBLRZ",
        "outputId": "0e502b12-c717-4618-e8b1-a18bc36568bd"
      },
      "outputs": [
        {
          "output_type": "stream",
          "name": "stdout",
          "text": [
            "Fri Jul 21 22:53:10 2023       \n",
            "+-----------------------------------------------------------------------------+\n",
            "| NVIDIA-SMI 525.105.17   Driver Version: 525.105.17   CUDA Version: 12.0     |\n",
            "|-------------------------------+----------------------+----------------------+\n",
            "| GPU  Name        Persistence-M| Bus-Id        Disp.A | Volatile Uncorr. ECC |\n",
            "| Fan  Temp  Perf  Pwr:Usage/Cap|         Memory-Usage | GPU-Util  Compute M. |\n",
            "|                               |                      |               MIG M. |\n",
            "|===============================+======================+======================|\n",
            "|   0  Tesla T4            Off  | 00000000:00:04.0 Off |                    0 |\n",
            "| N/A   50C    P0    29W /  70W |    453MiB / 15360MiB |      0%      Default |\n",
            "|                               |                      |                  N/A |\n",
            "+-------------------------------+----------------------+----------------------+\n",
            "                                                                               \n",
            "+-----------------------------------------------------------------------------+\n",
            "| Processes:                                                                  |\n",
            "|  GPU   GI   CI        PID   Type   Process name                  GPU Memory |\n",
            "|        ID   ID                                                   Usage      |\n",
            "|=============================================================================|\n",
            "+-----------------------------------------------------------------------------+\n"
          ]
        }
      ],
      "source": [
        "!nvidia-smi"
      ]
    },
    {
      "cell_type": "code",
      "source": [
        "!wget https://raw.githubusercontent.com/mrdbourke/tensorflow-deep-learning/main/extras/helper_functions.py"
      ],
      "metadata": {
        "colab": {
          "base_uri": "https://localhost:8080/"
        },
        "id": "JKHMQH2lBrVv",
        "outputId": "acfda2f9-6864-48e2-bb4d-4c6659baac73"
      },
      "execution_count": null,
      "outputs": [
        {
          "output_type": "stream",
          "name": "stdout",
          "text": [
            "--2023-07-21 22:53:11--  https://raw.githubusercontent.com/mrdbourke/tensorflow-deep-learning/main/extras/helper_functions.py\n",
            "Resolving raw.githubusercontent.com (raw.githubusercontent.com)... 185.199.108.133, 185.199.109.133, 185.199.110.133, ...\n",
            "Connecting to raw.githubusercontent.com (raw.githubusercontent.com)|185.199.108.133|:443... connected.\n",
            "HTTP request sent, awaiting response... 200 OK\n",
            "Length: 10246 (10K) [text/plain]\n",
            "Saving to: ‘helper_functions.py.1’\n",
            "\n",
            "helper_functions.py 100%[===================>]  10.01K  --.-KB/s    in 0s      \n",
            "\n",
            "2023-07-21 22:53:11 (65.7 MB/s) - ‘helper_functions.py.1’ saved [10246/10246]\n",
            "\n"
          ]
        }
      ]
    },
    {
      "cell_type": "code",
      "source": [
        "from helper_functions import create_tensorboard_callback, plot_loss_curves, unzip_data, compare_historys, walk_through_dir\n"
      ],
      "metadata": {
        "id": "yxSmt6YPCKm7"
      },
      "execution_count": null,
      "outputs": []
    },
    {
      "cell_type": "markdown",
      "source": [
        "#Load data"
      ],
      "metadata": {
        "id": "l3Qwxf_2F5gq"
      }
    },
    {
      "cell_type": "code",
      "source": [
        "# Download data (same as from Kaggle)\n",
        "!wget \"https://storage.googleapis.com/ztm_tf_course/nlp_getting_started.zip\"\n",
        "\n",
        "# Unzip data\n",
        "unzip_data(\"nlp_getting_started.zip\")"
      ],
      "metadata": {
        "colab": {
          "base_uri": "https://localhost:8080/"
        },
        "id": "KCuPXiFUCLFb",
        "outputId": "41f93672-b9fb-4bad-9a06-ee931b02861c"
      },
      "execution_count": null,
      "outputs": [
        {
          "output_type": "stream",
          "name": "stdout",
          "text": [
            "--2023-07-21 22:53:12--  https://storage.googleapis.com/ztm_tf_course/nlp_getting_started.zip\n",
            "Resolving storage.googleapis.com (storage.googleapis.com)... 74.125.68.128, 64.233.170.128, 142.251.175.128, ...\n",
            "Connecting to storage.googleapis.com (storage.googleapis.com)|74.125.68.128|:443... connected.\n",
            "HTTP request sent, awaiting response... 200 OK\n",
            "Length: 607343 (593K) [application/zip]\n",
            "Saving to: ‘nlp_getting_started.zip.1’\n",
            "\n",
            "nlp_getting_started 100%[===================>] 593.11K   731KB/s    in 0.8s    \n",
            "\n",
            "2023-07-21 22:53:13 (731 KB/s) - ‘nlp_getting_started.zip.1’ saved [607343/607343]\n",
            "\n"
          ]
        }
      ]
    },
    {
      "cell_type": "code",
      "source": [
        "import pandas as pd\n",
        "train_df = pd.read_csv(\"train.csv\")\n",
        "test_df = pd.read_csv(\"test.csv\")\n"
      ],
      "metadata": {
        "id": "7ziu6wyCEf5Q"
      },
      "execution_count": null,
      "outputs": []
    },
    {
      "cell_type": "code",
      "source": [
        "train_df.head()\n"
      ],
      "metadata": {
        "colab": {
          "base_uri": "https://localhost:8080/",
          "height": 206
        },
        "id": "o4_Lb2QqEi-z",
        "outputId": "f679e194-4056-4465-a0cc-68422df19036"
      },
      "execution_count": null,
      "outputs": [
        {
          "output_type": "execute_result",
          "data": {
            "text/plain": [
              "   id keyword location                                               text  \\\n",
              "0   1     NaN      NaN  Our Deeds are the Reason of this #earthquake M...   \n",
              "1   4     NaN      NaN             Forest fire near La Ronge Sask. Canada   \n",
              "2   5     NaN      NaN  All residents asked to 'shelter in place' are ...   \n",
              "3   6     NaN      NaN  13,000 people receive #wildfires evacuation or...   \n",
              "4   7     NaN      NaN  Just got sent this photo from Ruby #Alaska as ...   \n",
              "\n",
              "   target  \n",
              "0       1  \n",
              "1       1  \n",
              "2       1  \n",
              "3       1  \n",
              "4       1  "
            ],
            "text/html": [
              "\n",
              "\n",
              "  <div id=\"df-019c602c-41ce-407d-810d-5ebbdf2e2c71\">\n",
              "    <div class=\"colab-df-container\">\n",
              "      <div>\n",
              "<style scoped>\n",
              "    .dataframe tbody tr th:only-of-type {\n",
              "        vertical-align: middle;\n",
              "    }\n",
              "\n",
              "    .dataframe tbody tr th {\n",
              "        vertical-align: top;\n",
              "    }\n",
              "\n",
              "    .dataframe thead th {\n",
              "        text-align: right;\n",
              "    }\n",
              "</style>\n",
              "<table border=\"1\" class=\"dataframe\">\n",
              "  <thead>\n",
              "    <tr style=\"text-align: right;\">\n",
              "      <th></th>\n",
              "      <th>id</th>\n",
              "      <th>keyword</th>\n",
              "      <th>location</th>\n",
              "      <th>text</th>\n",
              "      <th>target</th>\n",
              "    </tr>\n",
              "  </thead>\n",
              "  <tbody>\n",
              "    <tr>\n",
              "      <th>0</th>\n",
              "      <td>1</td>\n",
              "      <td>NaN</td>\n",
              "      <td>NaN</td>\n",
              "      <td>Our Deeds are the Reason of this #earthquake M...</td>\n",
              "      <td>1</td>\n",
              "    </tr>\n",
              "    <tr>\n",
              "      <th>1</th>\n",
              "      <td>4</td>\n",
              "      <td>NaN</td>\n",
              "      <td>NaN</td>\n",
              "      <td>Forest fire near La Ronge Sask. Canada</td>\n",
              "      <td>1</td>\n",
              "    </tr>\n",
              "    <tr>\n",
              "      <th>2</th>\n",
              "      <td>5</td>\n",
              "      <td>NaN</td>\n",
              "      <td>NaN</td>\n",
              "      <td>All residents asked to 'shelter in place' are ...</td>\n",
              "      <td>1</td>\n",
              "    </tr>\n",
              "    <tr>\n",
              "      <th>3</th>\n",
              "      <td>6</td>\n",
              "      <td>NaN</td>\n",
              "      <td>NaN</td>\n",
              "      <td>13,000 people receive #wildfires evacuation or...</td>\n",
              "      <td>1</td>\n",
              "    </tr>\n",
              "    <tr>\n",
              "      <th>4</th>\n",
              "      <td>7</td>\n",
              "      <td>NaN</td>\n",
              "      <td>NaN</td>\n",
              "      <td>Just got sent this photo from Ruby #Alaska as ...</td>\n",
              "      <td>1</td>\n",
              "    </tr>\n",
              "  </tbody>\n",
              "</table>\n",
              "</div>\n",
              "      <button class=\"colab-df-convert\" onclick=\"convertToInteractive('df-019c602c-41ce-407d-810d-5ebbdf2e2c71')\"\n",
              "              title=\"Convert this dataframe to an interactive table.\"\n",
              "              style=\"display:none;\">\n",
              "\n",
              "  <svg xmlns=\"http://www.w3.org/2000/svg\" height=\"24px\"viewBox=\"0 0 24 24\"\n",
              "       width=\"24px\">\n",
              "    <path d=\"M0 0h24v24H0V0z\" fill=\"none\"/>\n",
              "    <path d=\"M18.56 5.44l.94 2.06.94-2.06 2.06-.94-2.06-.94-.94-2.06-.94 2.06-2.06.94zm-11 1L8.5 8.5l.94-2.06 2.06-.94-2.06-.94L8.5 2.5l-.94 2.06-2.06.94zm10 10l.94 2.06.94-2.06 2.06-.94-2.06-.94-.94-2.06-.94 2.06-2.06.94z\"/><path d=\"M17.41 7.96l-1.37-1.37c-.4-.4-.92-.59-1.43-.59-.52 0-1.04.2-1.43.59L10.3 9.45l-7.72 7.72c-.78.78-.78 2.05 0 2.83L4 21.41c.39.39.9.59 1.41.59.51 0 1.02-.2 1.41-.59l7.78-7.78 2.81-2.81c.8-.78.8-2.07 0-2.86zM5.41 20L4 18.59l7.72-7.72 1.47 1.35L5.41 20z\"/>\n",
              "  </svg>\n",
              "      </button>\n",
              "\n",
              "\n",
              "\n",
              "    <div id=\"df-1b2cca6a-9630-48c0-85a7-27c025b81b1c\">\n",
              "      <button class=\"colab-df-quickchart\" onclick=\"quickchart('df-1b2cca6a-9630-48c0-85a7-27c025b81b1c')\"\n",
              "              title=\"Suggest charts.\"\n",
              "              style=\"display:none;\">\n",
              "\n",
              "<svg xmlns=\"http://www.w3.org/2000/svg\" height=\"24px\"viewBox=\"0 0 24 24\"\n",
              "     width=\"24px\">\n",
              "    <g>\n",
              "        <path d=\"M19 3H5c-1.1 0-2 .9-2 2v14c0 1.1.9 2 2 2h14c1.1 0 2-.9 2-2V5c0-1.1-.9-2-2-2zM9 17H7v-7h2v7zm4 0h-2V7h2v10zm4 0h-2v-4h2v4z\"/>\n",
              "    </g>\n",
              "</svg>\n",
              "      </button>\n",
              "    </div>\n",
              "\n",
              "<style>\n",
              "  .colab-df-quickchart {\n",
              "    background-color: #E8F0FE;\n",
              "    border: none;\n",
              "    border-radius: 50%;\n",
              "    cursor: pointer;\n",
              "    display: none;\n",
              "    fill: #1967D2;\n",
              "    height: 32px;\n",
              "    padding: 0 0 0 0;\n",
              "    width: 32px;\n",
              "  }\n",
              "\n",
              "  .colab-df-quickchart:hover {\n",
              "    background-color: #E2EBFA;\n",
              "    box-shadow: 0px 1px 2px rgba(60, 64, 67, 0.3), 0px 1px 3px 1px rgba(60, 64, 67, 0.15);\n",
              "    fill: #174EA6;\n",
              "  }\n",
              "\n",
              "  [theme=dark] .colab-df-quickchart {\n",
              "    background-color: #3B4455;\n",
              "    fill: #D2E3FC;\n",
              "  }\n",
              "\n",
              "  [theme=dark] .colab-df-quickchart:hover {\n",
              "    background-color: #434B5C;\n",
              "    box-shadow: 0px 1px 3px 1px rgba(0, 0, 0, 0.15);\n",
              "    filter: drop-shadow(0px 1px 2px rgba(0, 0, 0, 0.3));\n",
              "    fill: #FFFFFF;\n",
              "  }\n",
              "</style>\n",
              "\n",
              "    <script>\n",
              "      async function quickchart(key) {\n",
              "        const containerElement = document.querySelector('#' + key);\n",
              "        const charts = await google.colab.kernel.invokeFunction(\n",
              "            'suggestCharts', [key], {});\n",
              "      }\n",
              "    </script>\n",
              "\n",
              "      <script>\n",
              "\n",
              "function displayQuickchartButton(domScope) {\n",
              "  let quickchartButtonEl =\n",
              "    domScope.querySelector('#df-1b2cca6a-9630-48c0-85a7-27c025b81b1c button.colab-df-quickchart');\n",
              "  quickchartButtonEl.style.display =\n",
              "    google.colab.kernel.accessAllowed ? 'block' : 'none';\n",
              "}\n",
              "\n",
              "        displayQuickchartButton(document);\n",
              "      </script>\n",
              "      <style>\n",
              "    .colab-df-container {\n",
              "      display:flex;\n",
              "      flex-wrap:wrap;\n",
              "      gap: 12px;\n",
              "    }\n",
              "\n",
              "    .colab-df-convert {\n",
              "      background-color: #E8F0FE;\n",
              "      border: none;\n",
              "      border-radius: 50%;\n",
              "      cursor: pointer;\n",
              "      display: none;\n",
              "      fill: #1967D2;\n",
              "      height: 32px;\n",
              "      padding: 0 0 0 0;\n",
              "      width: 32px;\n",
              "    }\n",
              "\n",
              "    .colab-df-convert:hover {\n",
              "      background-color: #E2EBFA;\n",
              "      box-shadow: 0px 1px 2px rgba(60, 64, 67, 0.3), 0px 1px 3px 1px rgba(60, 64, 67, 0.15);\n",
              "      fill: #174EA6;\n",
              "    }\n",
              "\n",
              "    [theme=dark] .colab-df-convert {\n",
              "      background-color: #3B4455;\n",
              "      fill: #D2E3FC;\n",
              "    }\n",
              "\n",
              "    [theme=dark] .colab-df-convert:hover {\n",
              "      background-color: #434B5C;\n",
              "      box-shadow: 0px 1px 3px 1px rgba(0, 0, 0, 0.15);\n",
              "      filter: drop-shadow(0px 1px 2px rgba(0, 0, 0, 0.3));\n",
              "      fill: #FFFFFF;\n",
              "    }\n",
              "  </style>\n",
              "\n",
              "      <script>\n",
              "        const buttonEl =\n",
              "          document.querySelector('#df-019c602c-41ce-407d-810d-5ebbdf2e2c71 button.colab-df-convert');\n",
              "        buttonEl.style.display =\n",
              "          google.colab.kernel.accessAllowed ? 'block' : 'none';\n",
              "\n",
              "        async function convertToInteractive(key) {\n",
              "          const element = document.querySelector('#df-019c602c-41ce-407d-810d-5ebbdf2e2c71');\n",
              "          const dataTable =\n",
              "            await google.colab.kernel.invokeFunction('convertToInteractive',\n",
              "                                                     [key], {});\n",
              "          if (!dataTable) return;\n",
              "\n",
              "          const docLinkHtml = 'Like what you see? Visit the ' +\n",
              "            '<a target=\"_blank\" href=https://colab.research.google.com/notebooks/data_table.ipynb>data table notebook</a>'\n",
              "            + ' to learn more about interactive tables.';\n",
              "          element.innerHTML = '';\n",
              "          dataTable['output_type'] = 'display_data';\n",
              "          await google.colab.output.renderOutput(dataTable, element);\n",
              "          const docLink = document.createElement('div');\n",
              "          docLink.innerHTML = docLinkHtml;\n",
              "          element.appendChild(docLink);\n",
              "        }\n",
              "      </script>\n",
              "    </div>\n",
              "  </div>\n"
            ]
          },
          "metadata": {},
          "execution_count": 70
        }
      ]
    },
    {
      "cell_type": "code",
      "source": [
        "train_df.keyword.value_counts(dropna=False)\n"
      ],
      "metadata": {
        "colab": {
          "base_uri": "https://localhost:8080/"
        },
        "id": "0GVY4Q48ElYa",
        "outputId": "6198d429-04f5-4256-ac6b-6ce60bc2f78d"
      },
      "execution_count": null,
      "outputs": [
        {
          "output_type": "execute_result",
          "data": {
            "text/plain": [
              "NaN                      61\n",
              "fatalities               45\n",
              "deluge                   42\n",
              "armageddon               42\n",
              "sinking                  41\n",
              "                         ..\n",
              "forest%20fire            19\n",
              "epicentre                12\n",
              "threat                   11\n",
              "inundation               10\n",
              "radiation%20emergency     9\n",
              "Name: keyword, Length: 222, dtype: int64"
            ]
          },
          "metadata": {},
          "execution_count": 71
        }
      ]
    },
    {
      "cell_type": "code",
      "source": [
        "test_df.head()"
      ],
      "metadata": {
        "colab": {
          "base_uri": "https://localhost:8080/",
          "height": 206
        },
        "id": "Z8FJWh0hErHb",
        "outputId": "b28ade1f-ae8d-46a6-98b9-61d86e71c5ee"
      },
      "execution_count": null,
      "outputs": [
        {
          "output_type": "execute_result",
          "data": {
            "text/plain": [
              "   id keyword location                                               text\n",
              "0   0     NaN      NaN                 Just happened a terrible car crash\n",
              "1   2     NaN      NaN  Heard about #earthquake is different cities, s...\n",
              "2   3     NaN      NaN  there is a forest fire at spot pond, geese are...\n",
              "3   9     NaN      NaN           Apocalypse lighting. #Spokane #wildfires\n",
              "4  11     NaN      NaN      Typhoon Soudelor kills 28 in China and Taiwan"
            ],
            "text/html": [
              "\n",
              "\n",
              "  <div id=\"df-8249bd33-5cec-4dd7-aa82-f2ba2b5de237\">\n",
              "    <div class=\"colab-df-container\">\n",
              "      <div>\n",
              "<style scoped>\n",
              "    .dataframe tbody tr th:only-of-type {\n",
              "        vertical-align: middle;\n",
              "    }\n",
              "\n",
              "    .dataframe tbody tr th {\n",
              "        vertical-align: top;\n",
              "    }\n",
              "\n",
              "    .dataframe thead th {\n",
              "        text-align: right;\n",
              "    }\n",
              "</style>\n",
              "<table border=\"1\" class=\"dataframe\">\n",
              "  <thead>\n",
              "    <tr style=\"text-align: right;\">\n",
              "      <th></th>\n",
              "      <th>id</th>\n",
              "      <th>keyword</th>\n",
              "      <th>location</th>\n",
              "      <th>text</th>\n",
              "    </tr>\n",
              "  </thead>\n",
              "  <tbody>\n",
              "    <tr>\n",
              "      <th>0</th>\n",
              "      <td>0</td>\n",
              "      <td>NaN</td>\n",
              "      <td>NaN</td>\n",
              "      <td>Just happened a terrible car crash</td>\n",
              "    </tr>\n",
              "    <tr>\n",
              "      <th>1</th>\n",
              "      <td>2</td>\n",
              "      <td>NaN</td>\n",
              "      <td>NaN</td>\n",
              "      <td>Heard about #earthquake is different cities, s...</td>\n",
              "    </tr>\n",
              "    <tr>\n",
              "      <th>2</th>\n",
              "      <td>3</td>\n",
              "      <td>NaN</td>\n",
              "      <td>NaN</td>\n",
              "      <td>there is a forest fire at spot pond, geese are...</td>\n",
              "    </tr>\n",
              "    <tr>\n",
              "      <th>3</th>\n",
              "      <td>9</td>\n",
              "      <td>NaN</td>\n",
              "      <td>NaN</td>\n",
              "      <td>Apocalypse lighting. #Spokane #wildfires</td>\n",
              "    </tr>\n",
              "    <tr>\n",
              "      <th>4</th>\n",
              "      <td>11</td>\n",
              "      <td>NaN</td>\n",
              "      <td>NaN</td>\n",
              "      <td>Typhoon Soudelor kills 28 in China and Taiwan</td>\n",
              "    </tr>\n",
              "  </tbody>\n",
              "</table>\n",
              "</div>\n",
              "      <button class=\"colab-df-convert\" onclick=\"convertToInteractive('df-8249bd33-5cec-4dd7-aa82-f2ba2b5de237')\"\n",
              "              title=\"Convert this dataframe to an interactive table.\"\n",
              "              style=\"display:none;\">\n",
              "\n",
              "  <svg xmlns=\"http://www.w3.org/2000/svg\" height=\"24px\"viewBox=\"0 0 24 24\"\n",
              "       width=\"24px\">\n",
              "    <path d=\"M0 0h24v24H0V0z\" fill=\"none\"/>\n",
              "    <path d=\"M18.56 5.44l.94 2.06.94-2.06 2.06-.94-2.06-.94-.94-2.06-.94 2.06-2.06.94zm-11 1L8.5 8.5l.94-2.06 2.06-.94-2.06-.94L8.5 2.5l-.94 2.06-2.06.94zm10 10l.94 2.06.94-2.06 2.06-.94-2.06-.94-.94-2.06-.94 2.06-2.06.94z\"/><path d=\"M17.41 7.96l-1.37-1.37c-.4-.4-.92-.59-1.43-.59-.52 0-1.04.2-1.43.59L10.3 9.45l-7.72 7.72c-.78.78-.78 2.05 0 2.83L4 21.41c.39.39.9.59 1.41.59.51 0 1.02-.2 1.41-.59l7.78-7.78 2.81-2.81c.8-.78.8-2.07 0-2.86zM5.41 20L4 18.59l7.72-7.72 1.47 1.35L5.41 20z\"/>\n",
              "  </svg>\n",
              "      </button>\n",
              "\n",
              "\n",
              "\n",
              "    <div id=\"df-363ecfdb-a380-4fa6-80f8-d8344cd09228\">\n",
              "      <button class=\"colab-df-quickchart\" onclick=\"quickchart('df-363ecfdb-a380-4fa6-80f8-d8344cd09228')\"\n",
              "              title=\"Suggest charts.\"\n",
              "              style=\"display:none;\">\n",
              "\n",
              "<svg xmlns=\"http://www.w3.org/2000/svg\" height=\"24px\"viewBox=\"0 0 24 24\"\n",
              "     width=\"24px\">\n",
              "    <g>\n",
              "        <path d=\"M19 3H5c-1.1 0-2 .9-2 2v14c0 1.1.9 2 2 2h14c1.1 0 2-.9 2-2V5c0-1.1-.9-2-2-2zM9 17H7v-7h2v7zm4 0h-2V7h2v10zm4 0h-2v-4h2v4z\"/>\n",
              "    </g>\n",
              "</svg>\n",
              "      </button>\n",
              "    </div>\n",
              "\n",
              "<style>\n",
              "  .colab-df-quickchart {\n",
              "    background-color: #E8F0FE;\n",
              "    border: none;\n",
              "    border-radius: 50%;\n",
              "    cursor: pointer;\n",
              "    display: none;\n",
              "    fill: #1967D2;\n",
              "    height: 32px;\n",
              "    padding: 0 0 0 0;\n",
              "    width: 32px;\n",
              "  }\n",
              "\n",
              "  .colab-df-quickchart:hover {\n",
              "    background-color: #E2EBFA;\n",
              "    box-shadow: 0px 1px 2px rgba(60, 64, 67, 0.3), 0px 1px 3px 1px rgba(60, 64, 67, 0.15);\n",
              "    fill: #174EA6;\n",
              "  }\n",
              "\n",
              "  [theme=dark] .colab-df-quickchart {\n",
              "    background-color: #3B4455;\n",
              "    fill: #D2E3FC;\n",
              "  }\n",
              "\n",
              "  [theme=dark] .colab-df-quickchart:hover {\n",
              "    background-color: #434B5C;\n",
              "    box-shadow: 0px 1px 3px 1px rgba(0, 0, 0, 0.15);\n",
              "    filter: drop-shadow(0px 1px 2px rgba(0, 0, 0, 0.3));\n",
              "    fill: #FFFFFF;\n",
              "  }\n",
              "</style>\n",
              "\n",
              "    <script>\n",
              "      async function quickchart(key) {\n",
              "        const containerElement = document.querySelector('#' + key);\n",
              "        const charts = await google.colab.kernel.invokeFunction(\n",
              "            'suggestCharts', [key], {});\n",
              "      }\n",
              "    </script>\n",
              "\n",
              "      <script>\n",
              "\n",
              "function displayQuickchartButton(domScope) {\n",
              "  let quickchartButtonEl =\n",
              "    domScope.querySelector('#df-363ecfdb-a380-4fa6-80f8-d8344cd09228 button.colab-df-quickchart');\n",
              "  quickchartButtonEl.style.display =\n",
              "    google.colab.kernel.accessAllowed ? 'block' : 'none';\n",
              "}\n",
              "\n",
              "        displayQuickchartButton(document);\n",
              "      </script>\n",
              "      <style>\n",
              "    .colab-df-container {\n",
              "      display:flex;\n",
              "      flex-wrap:wrap;\n",
              "      gap: 12px;\n",
              "    }\n",
              "\n",
              "    .colab-df-convert {\n",
              "      background-color: #E8F0FE;\n",
              "      border: none;\n",
              "      border-radius: 50%;\n",
              "      cursor: pointer;\n",
              "      display: none;\n",
              "      fill: #1967D2;\n",
              "      height: 32px;\n",
              "      padding: 0 0 0 0;\n",
              "      width: 32px;\n",
              "    }\n",
              "\n",
              "    .colab-df-convert:hover {\n",
              "      background-color: #E2EBFA;\n",
              "      box-shadow: 0px 1px 2px rgba(60, 64, 67, 0.3), 0px 1px 3px 1px rgba(60, 64, 67, 0.15);\n",
              "      fill: #174EA6;\n",
              "    }\n",
              "\n",
              "    [theme=dark] .colab-df-convert {\n",
              "      background-color: #3B4455;\n",
              "      fill: #D2E3FC;\n",
              "    }\n",
              "\n",
              "    [theme=dark] .colab-df-convert:hover {\n",
              "      background-color: #434B5C;\n",
              "      box-shadow: 0px 1px 3px 1px rgba(0, 0, 0, 0.15);\n",
              "      filter: drop-shadow(0px 1px 2px rgba(0, 0, 0, 0.3));\n",
              "      fill: #FFFFFF;\n",
              "    }\n",
              "  </style>\n",
              "\n",
              "      <script>\n",
              "        const buttonEl =\n",
              "          document.querySelector('#df-8249bd33-5cec-4dd7-aa82-f2ba2b5de237 button.colab-df-convert');\n",
              "        buttonEl.style.display =\n",
              "          google.colab.kernel.accessAllowed ? 'block' : 'none';\n",
              "\n",
              "        async function convertToInteractive(key) {\n",
              "          const element = document.querySelector('#df-8249bd33-5cec-4dd7-aa82-f2ba2b5de237');\n",
              "          const dataTable =\n",
              "            await google.colab.kernel.invokeFunction('convertToInteractive',\n",
              "                                                     [key], {});\n",
              "          if (!dataTable) return;\n",
              "\n",
              "          const docLinkHtml = 'Like what you see? Visit the ' +\n",
              "            '<a target=\"_blank\" href=https://colab.research.google.com/notebooks/data_table.ipynb>data table notebook</a>'\n",
              "            + ' to learn more about interactive tables.';\n",
              "          element.innerHTML = '';\n",
              "          dataTable['output_type'] = 'display_data';\n",
              "          await google.colab.output.renderOutput(dataTable, element);\n",
              "          const docLink = document.createElement('div');\n",
              "          docLink.innerHTML = docLinkHtml;\n",
              "          element.appendChild(docLink);\n",
              "        }\n",
              "      </script>\n",
              "    </div>\n",
              "  </div>\n"
            ]
          },
          "metadata": {},
          "execution_count": 72
        }
      ]
    },
    {
      "cell_type": "code",
      "source": [
        "train_df.location.value_counts(dropna=False)"
      ],
      "metadata": {
        "colab": {
          "base_uri": "https://localhost:8080/"
        },
        "id": "f6X8uASFE01u",
        "outputId": "c9f24608-a410-4bf1-8d35-8d567099661f"
      },
      "execution_count": null,
      "outputs": [
        {
          "output_type": "execute_result",
          "data": {
            "text/plain": [
              "NaN                             2533\n",
              "USA                              104\n",
              "New York                          71\n",
              "United States                     50\n",
              "London                            45\n",
              "                                ... \n",
              "Surulere Lagos,Home Of Swagg       1\n",
              "MontrÌ©al, QuÌ©bec                 1\n",
              "Montreal                           1\n",
              "ÌÏT: 6.4682,3.18287                1\n",
              "Lincoln                            1\n",
              "Name: location, Length: 3342, dtype: int64"
            ]
          },
          "metadata": {},
          "execution_count": 73
        }
      ]
    },
    {
      "cell_type": "code",
      "source": [
        "train_df.target.value_counts(dropna=False)\n"
      ],
      "metadata": {
        "colab": {
          "base_uri": "https://localhost:8080/"
        },
        "id": "QC397C0SE4zi",
        "outputId": "733e5211-f720-45dd-c746-4d5d4bf4abd4"
      },
      "execution_count": null,
      "outputs": [
        {
          "output_type": "execute_result",
          "data": {
            "text/plain": [
              "0    4342\n",
              "1    3271\n",
              "Name: target, dtype: int64"
            ]
          },
          "metadata": {},
          "execution_count": 74
        }
      ]
    },
    {
      "cell_type": "code",
      "source": [
        "train_df.target.value_counts(dropna=False).plot(kind=\"bar\");\n"
      ],
      "metadata": {
        "colab": {
          "base_uri": "https://localhost:8080/",
          "height": 425
        },
        "id": "LSWEHvyBFDV4",
        "outputId": "bc786bc8-2c69-4187-8392-6434d7961bdc"
      },
      "execution_count": null,
      "outputs": [
        {
          "output_type": "display_data",
          "data": {
            "text/plain": [
              "<Figure size 640x480 with 1 Axes>"
            ],
            "image/png": "[encoded data removed]"
          },
          "metadata": {}
        }
      ]
    },
    {
      "cell_type": "code",
      "source": [
        "print(len(train_df), len(test_df))\n",
        "\n"
      ],
      "metadata": {
        "colab": {
          "base_uri": "https://localhost:8080/"
        },
        "id": "YwIWASxfFG-l",
        "outputId": "5150084d-fe30-4fcd-cebe-b6a077529701"
      },
      "execution_count": null,
      "outputs": [
        {
          "output_type": "stream",
          "name": "stdout",
          "text": [
            "7613 3263\n"
          ]
        }
      ]
    },
    {
      "cell_type": "markdown",
      "source": [
        "#Split data to train and validaion sets"
      ],
      "metadata": {
        "id": "-65Vb0_KF2l9"
      }
    },
    {
      "cell_type": "code",
      "source": [
        "from sklearn.model_selection import train_test_split\n",
        "\n",
        "train_ds, val_ds = train_test_split(train_df, test_size=0.1, random_state=42)"
      ],
      "metadata": {
        "id": "U5Hcg3YUFXJo"
      },
      "execution_count": null,
      "outputs": []
    },
    {
      "cell_type": "code",
      "source": [
        "print(train_ds.shape)\n",
        "print(val_ds.shape)"
      ],
      "metadata": {
        "colab": {
          "base_uri": "https://localhost:8080/"
        },
        "id": "5xd0INI1GMOf",
        "outputId": "ebb64d7b-e5d8-4443-af09-4fa297b4d227"
      },
      "execution_count": null,
      "outputs": [
        {
          "output_type": "stream",
          "name": "stdout",
          "text": [
            "(6851, 5)\n",
            "(762, 5)\n"
          ]
        }
      ]
    },
    {
      "cell_type": "code",
      "source": [
        "train_ds.head()"
      ],
      "metadata": {
        "colab": {
          "base_uri": "https://localhost:8080/",
          "height": 206
        },
        "id": "usJLhyyeGQ3k",
        "outputId": "4d7d7e3b-6323-4bcd-fe18-7f50e0afedd1"
      },
      "execution_count": null,
      "outputs": [
        {
          "output_type": "execute_result",
          "data": {
            "text/plain": [
              "        id       keyword      location  \\\n",
              "4620  6568        injury  Plano, Texas   \n",
              "2858  4107       drought       Nigeria   \n",
              "3098  4448  electrocuted           NaN   \n",
              "3751  5330          fire        Canada   \n",
              "5285  7552      outbreak     Indonesia   \n",
              "\n",
              "                                                   text  target  \n",
              "4620  'McFadden Reportedly to Test Hamstring Thursda...       0  \n",
              "2858  w--=-=-=-[ NEMA warns Nigerians to prepare for...       1  \n",
              "3098  When I was cooking earlier I got electrocuted ...       0  \n",
              "3751               I'm On Fire.  http://t.co/WATsmxYTVa       0  \n",
              "5285  More than 40 families affected by the fatal ou...       1  "
            ],
            "text/html": [
              "\n",
              "\n",
              "  <div id=\"df-44cefba1-d9f6-4f88-be70-407d3bc35873\">\n",
              "    <div class=\"colab-df-container\">\n",
              "      <div>\n",
              "<style scoped>\n",
              "    .dataframe tbody tr th:only-of-type {\n",
              "        vertical-align: middle;\n",
              "    }\n",
              "\n",
              "    .dataframe tbody tr th {\n",
              "        vertical-align: top;\n",
              "    }\n",
              "\n",
              "    .dataframe thead th {\n",
              "        text-align: right;\n",
              "    }\n",
              "</style>\n",
              "<table border=\"1\" class=\"dataframe\">\n",
              "  <thead>\n",
              "    <tr style=\"text-align: right;\">\n",
              "      <th></th>\n",
              "      <th>id</th>\n",
              "      <th>keyword</th>\n",
              "      <th>location</th>\n",
              "      <th>text</th>\n",
              "      <th>target</th>\n",
              "    </tr>\n",
              "  </thead>\n",
              "  <tbody>\n",
              "    <tr>\n",
              "      <th>4620</th>\n",
              "      <td>6568</td>\n",
              "      <td>injury</td>\n",
              "      <td>Plano, Texas</td>\n",
              "      <td>'McFadden Reportedly to Test Hamstring Thursda...</td>\n",
              "      <td>0</td>\n",
              "    </tr>\n",
              "    <tr>\n",
              "      <th>2858</th>\n",
              "      <td>4107</td>\n",
              "      <td>drought</td>\n",
              "      <td>Nigeria</td>\n",
              "      <td>w--=-=-=-[ NEMA warns Nigerians to prepare for...</td>\n",
              "      <td>1</td>\n",
              "    </tr>\n",
              "    <tr>\n",
              "      <th>3098</th>\n",
              "      <td>4448</td>\n",
              "      <td>electrocuted</td>\n",
              "      <td>NaN</td>\n",
              "      <td>When I was cooking earlier I got electrocuted ...</td>\n",
              "      <td>0</td>\n",
              "    </tr>\n",
              "    <tr>\n",
              "      <th>3751</th>\n",
              "      <td>5330</td>\n",
              "      <td>fire</td>\n",
              "      <td>Canada</td>\n",
              "      <td>I'm On Fire.  http://t.co/WATsmxYTVa</td>\n",
              "      <td>0</td>\n",
              "    </tr>\n",
              "    <tr>\n",
              "      <th>5285</th>\n",
              "      <td>7552</td>\n",
              "      <td>outbreak</td>\n",
              "      <td>Indonesia</td>\n",
              "      <td>More than 40 families affected by the fatal ou...</td>\n",
              "      <td>1</td>\n",
              "    </tr>\n",
              "  </tbody>\n",
              "</table>\n",
              "</div>\n",
              "      <button class=\"colab-df-convert\" onclick=\"convertToInteractive('df-44cefba1-d9f6-4f88-be70-407d3bc35873')\"\n",
              "              title=\"Convert this dataframe to an interactive table.\"\n",
              "              style=\"display:none;\">\n",
              "\n",
              "  <svg xmlns=\"http://www.w3.org/2000/svg\" height=\"24px\"viewBox=\"0 0 24 24\"\n",
              "       width=\"24px\">\n",
              "    <path d=\"M0 0h24v24H0V0z\" fill=\"none\"/>\n",
              "    <path d=\"M18.56 5.44l.94 2.06.94-2.06 2.06-.94-2.06-.94-.94-2.06-.94 2.06-2.06.94zm-11 1L8.5 8.5l.94-2.06 2.06-.94-2.06-.94L8.5 2.5l-.94 2.06-2.06.94zm10 10l.94 2.06.94-2.06 2.06-.94-2.06-.94-.94-2.06-.94 2.06-2.06.94z\"/><path d=\"M17.41 7.96l-1.37-1.37c-.4-.4-.92-.59-1.43-.59-.52 0-1.04.2-1.43.59L10.3 9.45l-7.72 7.72c-.78.78-.78 2.05 0 2.83L4 21.41c.39.39.9.59 1.41.59.51 0 1.02-.2 1.41-.59l7.78-7.78 2.81-2.81c.8-.78.8-2.07 0-2.86zM5.41 20L4 18.59l7.72-7.72 1.47 1.35L5.41 20z\"/>\n",
              "  </svg>\n",
              "      </button>\n",
              "\n",
              "\n",
              "\n",
              "    <div id=\"df-328b2f00-4009-43a5-bbec-146d5413be22\">\n",
              "      <button class=\"colab-df-quickchart\" onclick=\"quickchart('df-328b2f00-4009-43a5-bbec-146d5413be22')\"\n",
              "              title=\"Suggest charts.\"\n",
              "              style=\"display:none;\">\n",
              "\n",
              "<svg xmlns=\"http://www.w3.org/2000/svg\" height=\"24px\"viewBox=\"0 0 24 24\"\n",
              "     width=\"24px\">\n",
              "    <g>\n",
              "        <path d=\"M19 3H5c-1.1 0-2 .9-2 2v14c0 1.1.9 2 2 2h14c1.1 0 2-.9 2-2V5c0-1.1-.9-2-2-2zM9 17H7v-7h2v7zm4 0h-2V7h2v10zm4 0h-2v-4h2v4z\"/>\n",
              "    </g>\n",
              "</svg>\n",
              "      </button>\n",
              "    </div>\n",
              "\n",
              "<style>\n",
              "  .colab-df-quickchart {\n",
              "    background-color: #E8F0FE;\n",
              "    border: none;\n",
              "    border-radius: 50%;\n",
              "    cursor: pointer;\n",
              "    display: none;\n",
              "    fill: #1967D2;\n",
              "    height: 32px;\n",
              "    padding: 0 0 0 0;\n",
              "    width: 32px;\n",
              "  }\n",
              "\n",
              "  .colab-df-quickchart:hover {\n",
              "    background-color: #E2EBFA;\n",
              "    box-shadow: 0px 1px 2px rgba(60, 64, 67, 0.3), 0px 1px 3px 1px rgba(60, 64, 67, 0.15);\n",
              "    fill: #174EA6;\n",
              "  }\n",
              "\n",
              "  [theme=dark] .colab-df-quickchart {\n",
              "    background-color: #3B4455;\n",
              "    fill: #D2E3FC;\n",
              "  }\n",
              "\n",
              "  [theme=dark] .colab-df-quickchart:hover {\n",
              "    background-color: #434B5C;\n",
              "    box-shadow: 0px 1px 3px 1px rgba(0, 0, 0, 0.15);\n",
              "    filter: drop-shadow(0px 1px 2px rgba(0, 0, 0, 0.3));\n",
              "    fill: #FFFFFF;\n",
              "  }\n",
              "</style>\n",
              "\n",
              "    <script>\n",
              "      async function quickchart(key) {\n",
              "        const containerElement = document.querySelector('#' + key);\n",
              "        const charts = await google.colab.kernel.invokeFunction(\n",
              "            'suggestCharts', [key], {});\n",
              "      }\n",
              "    </script>\n",
              "\n",
              "      <script>\n",
              "\n",
              "function displayQuickchartButton(domScope) {\n",
              "  let quickchartButtonEl =\n",
              "    domScope.querySelector('#df-328b2f00-4009-43a5-bbec-146d5413be22 button.colab-df-quickchart');\n",
              "  quickchartButtonEl.style.display =\n",
              "    google.colab.kernel.accessAllowed ? 'block' : 'none';\n",
              "}\n",
              "\n",
              "        displayQuickchartButton(document);\n",
              "      </script>\n",
              "      <style>\n",
              "    .colab-df-container {\n",
              "      display:flex;\n",
              "      flex-wrap:wrap;\n",
              "      gap: 12px;\n",
              "    }\n",
              "\n",
              "    .colab-df-convert {\n",
              "      background-color: #E8F0FE;\n",
              "      border: none;\n",
              "      border-radius: 50%;\n",
              "      cursor: pointer;\n",
              "      display: none;\n",
              "      fill: #1967D2;\n",
              "      height: 32px;\n",
              "      padding: 0 0 0 0;\n",
              "      width: 32px;\n",
              "    }\n",
              "\n",
              "    .colab-df-convert:hover {\n",
              "      background-color: #E2EBFA;\n",
              "      box-shadow: 0px 1px 2px rgba(60, 64, 67, 0.3), 0px 1px 3px 1px rgba(60, 64, 67, 0.15);\n",
              "      fill: #174EA6;\n",
              "    }\n",
              "\n",
              "    [theme=dark] .colab-df-convert {\n",
              "      background-color: #3B4455;\n",
              "      fill: #D2E3FC;\n",
              "    }\n",
              "\n",
              "    [theme=dark] .colab-df-convert:hover {\n",
              "      background-color: #434B5C;\n",
              "      box-shadow: 0px 1px 3px 1px rgba(0, 0, 0, 0.15);\n",
              "      filter: drop-shadow(0px 1px 2px rgba(0, 0, 0, 0.3));\n",
              "      fill: #FFFFFF;\n",
              "    }\n",
              "  </style>\n",
              "\n",
              "      <script>\n",
              "        const buttonEl =\n",
              "          document.querySelector('#df-44cefba1-d9f6-4f88-be70-407d3bc35873 button.colab-df-convert');\n",
              "        buttonEl.style.display =\n",
              "          google.colab.kernel.accessAllowed ? 'block' : 'none';\n",
              "\n",
              "        async function convertToInteractive(key) {\n",
              "          const element = document.querySelector('#df-44cefba1-d9f6-4f88-be70-407d3bc35873');\n",
              "          const dataTable =\n",
              "            await google.colab.kernel.invokeFunction('convertToInteractive',\n",
              "                                                     [key], {});\n",
              "          if (!dataTable) return;\n",
              "\n",
              "          const docLinkHtml = 'Like what you see? Visit the ' +\n",
              "            '<a target=\"_blank\" href=https://colab.research.google.com/notebooks/data_table.ipynb>data table notebook</a>'\n",
              "            + ' to learn more about interactive tables.';\n",
              "          element.innerHTML = '';\n",
              "          dataTable['output_type'] = 'display_data';\n",
              "          await google.colab.output.renderOutput(dataTable, element);\n",
              "          const docLink = document.createElement('div');\n",
              "          docLink.innerHTML = docLinkHtml;\n",
              "          element.appendChild(docLink);\n",
              "        }\n",
              "      </script>\n",
              "    </div>\n",
              "  </div>\n"
            ]
          },
          "metadata": {},
          "execution_count": 79
        }
      ]
    },
    {
      "cell_type": "code",
      "source": [
        "val_ds.head()"
      ],
      "metadata": {
        "colab": {
          "base_uri": "https://localhost:8080/",
          "height": 206
        },
        "id": "0g8ZyyRoGhiR",
        "outputId": "0b0d003d-2a66-4aa0-8752-e9b00fcb5385"
      },
      "execution_count": null,
      "outputs": [
        {
          "output_type": "execute_result",
          "data": {
            "text/plain": [
              "        id      keyword               location  \\\n",
              "2644  3796  destruction                    NaN   \n",
              "2227  3185       deluge                    NaN   \n",
              "5448  7769       police                     UK   \n",
              "132    191   aftershock                    NaN   \n",
              "6845  9810       trauma  Montgomery County, MD   \n",
              "\n",
              "                                                   text  target  \n",
              "2644  So you have a new weapon that can cause un-ima...       1  \n",
              "2227  The f$&amp;@ing things I do for #GISHWHES Just...       0  \n",
              "5448  DT @georgegalloway: RT @Galloway4Mayor: ÛÏThe...       1  \n",
              "132   Aftershock back to school kick off was great. ...       0  \n",
              "6845  in response to trauma Children of Addicts deve...       0  "
            ],
            "text/html": [
              "\n",
              "\n",
              "  <div id=\"df-ee4e8682-90cf-435e-88f2-f0de3425179b\">\n",
              "    <div class=\"colab-df-container\">\n",
              "      <div>\n",
              "<style scoped>\n",
              "    .dataframe tbody tr th:only-of-type {\n",
              "        vertical-align: middle;\n",
              "    }\n",
              "\n",
              "    .dataframe tbody tr th {\n",
              "        vertical-align: top;\n",
              "    }\n",
              "\n",
              "    .dataframe thead th {\n",
              "        text-align: right;\n",
              "    }\n",
              "</style>\n",
              "<table border=\"1\" class=\"dataframe\">\n",
              "  <thead>\n",
              "    <tr style=\"text-align: right;\">\n",
              "      <th></th>\n",
              "      <th>id</th>\n",
              "      <th>keyword</th>\n",
              "      <th>location</th>\n",
              "      <th>text</th>\n",
              "      <th>target</th>\n",
              "    </tr>\n",
              "  </thead>\n",
              "  <tbody>\n",
              "    <tr>\n",
              "      <th>2644</th>\n",
              "      <td>3796</td>\n",
              "      <td>destruction</td>\n",
              "      <td>NaN</td>\n",
              "      <td>So you have a new weapon that can cause un-ima...</td>\n",
              "      <td>1</td>\n",
              "    </tr>\n",
              "    <tr>\n",
              "      <th>2227</th>\n",
              "      <td>3185</td>\n",
              "      <td>deluge</td>\n",
              "      <td>NaN</td>\n",
              "      <td>The f$&amp;amp;@ing things I do for #GISHWHES Just...</td>\n",
              "      <td>0</td>\n",
              "    </tr>\n",
              "    <tr>\n",
              "      <th>5448</th>\n",
              "      <td>7769</td>\n",
              "      <td>police</td>\n",
              "      <td>UK</td>\n",
              "      <td>DT @georgegalloway: RT @Galloway4Mayor: ÛÏThe...</td>\n",
              "      <td>1</td>\n",
              "    </tr>\n",
              "    <tr>\n",
              "      <th>132</th>\n",
              "      <td>191</td>\n",
              "      <td>aftershock</td>\n",
              "      <td>NaN</td>\n",
              "      <td>Aftershock back to school kick off was great. ...</td>\n",
              "      <td>0</td>\n",
              "    </tr>\n",
              "    <tr>\n",
              "      <th>6845</th>\n",
              "      <td>9810</td>\n",
              "      <td>trauma</td>\n",
              "      <td>Montgomery County, MD</td>\n",
              "      <td>in response to trauma Children of Addicts deve...</td>\n",
              "      <td>0</td>\n",
              "    </tr>\n",
              "  </tbody>\n",
              "</table>\n",
              "</div>\n",
              "      <button class=\"colab-df-convert\" onclick=\"convertToInteractive('df-ee4e8682-90cf-435e-88f2-f0de3425179b')\"\n",
              "              title=\"Convert this dataframe to an interactive table.\"\n",
              "              style=\"display:none;\">\n",
              "\n",
              "  <svg xmlns=\"http://www.w3.org/2000/svg\" height=\"24px\"viewBox=\"0 0 24 24\"\n",
              "       width=\"24px\">\n",
              "    <path d=\"M0 0h24v24H0V0z\" fill=\"none\"/>\n",
              "    <path d=\"M18.56 5.44l.94 2.06.94-2.06 2.06-.94-2.06-.94-.94-2.06-.94 2.06-2.06.94zm-11 1L8.5 8.5l.94-2.06 2.06-.94-2.06-.94L8.5 2.5l-.94 2.06-2.06.94zm10 10l.94 2.06.94-2.06 2.06-.94-2.06-.94-.94-2.06-.94 2.06-2.06.94z\"/><path d=\"M17.41 7.96l-1.37-1.37c-.4-.4-.92-.59-1.43-.59-.52 0-1.04.2-1.43.59L10.3 9.45l-7.72 7.72c-.78.78-.78 2.05 0 2.83L4 21.41c.39.39.9.59 1.41.59.51 0 1.02-.2 1.41-.59l7.78-7.78 2.81-2.81c.8-.78.8-2.07 0-2.86zM5.41 20L4 18.59l7.72-7.72 1.47 1.35L5.41 20z\"/>\n",
              "  </svg>\n",
              "      </button>\n",
              "\n",
              "\n",
              "\n",
              "    <div id=\"df-fe417e06-16f4-4ee8-92aa-f96daa108596\">\n",
              "      <button class=\"colab-df-quickchart\" onclick=\"quickchart('df-fe417e06-16f4-4ee8-92aa-f96daa108596')\"\n",
              "              title=\"Suggest charts.\"\n",
              "              style=\"display:none;\">\n",
              "\n",
              "<svg xmlns=\"http://www.w3.org/2000/svg\" height=\"24px\"viewBox=\"0 0 24 24\"\n",
              "     width=\"24px\">\n",
              "    <g>\n",
              "        <path d=\"M19 3H5c-1.1 0-2 .9-2 2v14c0 1.1.9 2 2 2h14c1.1 0 2-.9 2-2V5c0-1.1-.9-2-2-2zM9 17H7v-7h2v7zm4 0h-2V7h2v10zm4 0h-2v-4h2v4z\"/>\n",
              "    </g>\n",
              "</svg>\n",
              "      </button>\n",
              "    </div>\n",
              "\n",
              "<style>\n",
              "  .colab-df-quickchart {\n",
              "    background-color: #E8F0FE;\n",
              "    border: none;\n",
              "    border-radius: 50%;\n",
              "    cursor: pointer;\n",
              "    display: none;\n",
              "    fill: #1967D2;\n",
              "    height: 32px;\n",
              "    padding: 0 0 0 0;\n",
              "    width: 32px;\n",
              "  }\n",
              "\n",
              "  .colab-df-quickchart:hover {\n",
              "    background-color: #E2EBFA;\n",
              "    box-shadow: 0px 1px 2px rgba(60, 64, 67, 0.3), 0px 1px 3px 1px rgba(60, 64, 67, 0.15);\n",
              "    fill: #174EA6;\n",
              "  }\n",
              "\n",
              "  [theme=dark] .colab-df-quickchart {\n",
              "    background-color: #3B4455;\n",
              "    fill: #D2E3FC;\n",
              "  }\n",
              "\n",
              "  [theme=dark] .colab-df-quickchart:hover {\n",
              "    background-color: #434B5C;\n",
              "    box-shadow: 0px 1px 3px 1px rgba(0, 0, 0, 0.15);\n",
              "    filter: drop-shadow(0px 1px 2px rgba(0, 0, 0, 0.3));\n",
              "    fill: #FFFFFF;\n",
              "  }\n",
              "</style>\n",
              "\n",
              "    <script>\n",
              "      async function quickchart(key) {\n",
              "        const containerElement = document.querySelector('#' + key);\n",
              "        const charts = await google.colab.kernel.invokeFunction(\n",
              "            'suggestCharts', [key], {});\n",
              "      }\n",
              "    </script>\n",
              "\n",
              "      <script>\n",
              "\n",
              "function displayQuickchartButton(domScope) {\n",
              "  let quickchartButtonEl =\n",
              "    domScope.querySelector('#df-fe417e06-16f4-4ee8-92aa-f96daa108596 button.colab-df-quickchart');\n",
              "  quickchartButtonEl.style.display =\n",
              "    google.colab.kernel.accessAllowed ? 'block' : 'none';\n",
              "}\n",
              "\n",
              "        displayQuickchartButton(document);\n",
              "      </script>\n",
              "      <style>\n",
              "    .colab-df-container {\n",
              "      display:flex;\n",
              "      flex-wrap:wrap;\n",
              "      gap: 12px;\n",
              "    }\n",
              "\n",
              "    .colab-df-convert {\n",
              "      background-color: #E8F0FE;\n",
              "      border: none;\n",
              "      border-radius: 50%;\n",
              "      cursor: pointer;\n",
              "      display: none;\n",
              "      fill: #1967D2;\n",
              "      height: 32px;\n",
              "      padding: 0 0 0 0;\n",
              "      width: 32px;\n",
              "    }\n",
              "\n",
              "    .colab-df-convert:hover {\n",
              "      background-color: #E2EBFA;\n",
              "      box-shadow: 0px 1px 2px rgba(60, 64, 67, 0.3), 0px 1px 3px 1px rgba(60, 64, 67, 0.15);\n",
              "      fill: #174EA6;\n",
              "    }\n",
              "\n",
              "    [theme=dark] .colab-df-convert {\n",
              "      background-color: #3B4455;\n",
              "      fill: #D2E3FC;\n",
              "    }\n",
              "\n",
              "    [theme=dark] .colab-df-convert:hover {\n",
              "      background-color: #434B5C;\n",
              "      box-shadow: 0px 1px 3px 1px rgba(0, 0, 0, 0.15);\n",
              "      filter: drop-shadow(0px 1px 2px rgba(0, 0, 0, 0.3));\n",
              "      fill: #FFFFFF;\n",
              "    }\n",
              "  </style>\n",
              "\n",
              "      <script>\n",
              "        const buttonEl =\n",
              "          document.querySelector('#df-ee4e8682-90cf-435e-88f2-f0de3425179b button.colab-df-convert');\n",
              "        buttonEl.style.display =\n",
              "          google.colab.kernel.accessAllowed ? 'block' : 'none';\n",
              "\n",
              "        async function convertToInteractive(key) {\n",
              "          const element = document.querySelector('#df-ee4e8682-90cf-435e-88f2-f0de3425179b');\n",
              "          const dataTable =\n",
              "            await google.colab.kernel.invokeFunction('convertToInteractive',\n",
              "                                                     [key], {});\n",
              "          if (!dataTable) return;\n",
              "\n",
              "          const docLinkHtml = 'Like what you see? Visit the ' +\n",
              "            '<a target=\"_blank\" href=https://colab.research.google.com/notebooks/data_table.ipynb>data table notebook</a>'\n",
              "            + ' to learn more about interactive tables.';\n",
              "          element.innerHTML = '';\n",
              "          dataTable['output_type'] = 'display_data';\n",
              "          await google.colab.output.renderOutput(dataTable, element);\n",
              "          const docLink = document.createElement('div');\n",
              "          docLink.innerHTML = docLinkHtml;\n",
              "          element.appendChild(docLink);\n",
              "        }\n",
              "      </script>\n",
              "    </div>\n",
              "  </div>\n"
            ]
          },
          "metadata": {},
          "execution_count": 80
        }
      ]
    },
    {
      "cell_type": "code",
      "source": [
        "train_ds.target.value_counts(dropna=False).plot(kind=\"bar\");\n",
        "\n"
      ],
      "metadata": {
        "colab": {
          "base_uri": "https://localhost:8080/",
          "height": 425
        },
        "id": "lO6uQjxqGllT",
        "outputId": "2e9459d0-1463-43c8-948a-177388f1d8e4"
      },
      "execution_count": null,
      "outputs": [
        {
          "output_type": "display_data",
          "data": {
            "text/plain": [
              "<Figure size 640x480 with 1 Axes>"
            ],
            "image/png": "[encoded data removed]"
          },
          "metadata": {}
        }
      ]
    },
    {
      "cell_type": "code",
      "source": [
        "val_ds.target.value_counts(dropna=False).plot(kind=\"bar\");"
      ],
      "metadata": {
        "colab": {
          "base_uri": "https://localhost:8080/",
          "height": 425
        },
        "id": "PqIkBlPoGvgQ",
        "outputId": "708ec3a7-f769-4145-9bb3-d5e28f6846b2"
      },
      "execution_count": null,
      "outputs": [
        {
          "output_type": "display_data",
          "data": {
            "text/plain": [
              "<Figure size 640x480 with 1 Axes>"
            ],
            "image/png": "[encoded data removed]"
          },
          "metadata": {}
        }
      ]
    },
    {
      "cell_type": "markdown",
      "source": [
        "## TextVectorization"
      ],
      "metadata": {
        "id": "mswOHwkhaBly"
      }
    },
    {
      "cell_type": "code",
      "source": [
        "from  tensorflow.keras.layers import TextVectorization"
      ],
      "metadata": {
        "id": "7Abig7a3GyU8"
      },
      "execution_count": null,
      "outputs": []
    },
    {
      "cell_type": "code",
      "source": [
        "vectorizater = TextVectorization()"
      ],
      "metadata": {
        "id": "hJm06wrJO_oz"
      },
      "execution_count": null,
      "outputs": []
    },
    {
      "cell_type": "code",
      "source": [
        "text_vect = vectorizater.adapt(train_ds.text)\n"
      ],
      "metadata": {
        "id": "H_x0j31EWPSG"
      },
      "execution_count": null,
      "outputs": []
    },
    {
      "cell_type": "code",
      "source": [
        "len(vectorizater.get_vocabulary())\n"
      ],
      "metadata": {
        "colab": {
          "base_uri": "https://localhost:8080/"
        },
        "id": "ZZlw9TudWYSS",
        "outputId": "0170369c-a347-44e9-851a-3b10408e86c3"
      },
      "execution_count": null,
      "outputs": [
        {
          "output_type": "execute_result",
          "data": {
            "text/plain": [
              "21089"
            ]
          },
          "metadata": {},
          "execution_count": 86
        }
      ]
    },
    {
      "cell_type": "code",
      "source": [
        "text_vect"
      ],
      "metadata": {
        "id": "gSPDxaq1Xj4X"
      },
      "execution_count": null,
      "outputs": []
    },
    {
      "cell_type": "code",
      "source": [
        "vectorizater.get_vocabulary()[-5:]"
      ],
      "metadata": {
        "colab": {
          "base_uri": "https://localhost:8080/"
        },
        "id": "B-Mp7ZwNXncK",
        "outputId": "466fb3c3-c386-4498-8a9d-79869bfa32f3"
      },
      "execution_count": null,
      "outputs": [
        {
          "output_type": "execute_result",
          "data": {
            "text/plain": [
              "['010217', '010156', '0025', '001116', '0011']"
            ]
          },
          "metadata": {},
          "execution_count": 88
        }
      ]
    },
    {
      "cell_type": "code",
      "source": [
        "vectorizater([\"this is a test\"])\n"
      ],
      "metadata": {
        "colab": {
          "base_uri": "https://localhost:8080/"
        },
        "id": "W92S7uCrYV_G",
        "outputId": "338de540-57ee-4a43-fcaf-a09a3efa401e"
      },
      "execution_count": null,
      "outputs": [
        {
          "output_type": "execute_result",
          "data": {
            "text/plain": [
              "<tf.Tensor: shape=(1, 4), dtype=int64, numpy=array([[  19,    9,    3, 1238]])>"
            ]
          },
          "metadata": {},
          "execution_count": 89
        }
      ]
    },
    {
      "cell_type": "code",
      "source": [
        "vectorizater.get_vocabulary()[1238]"
      ],
      "metadata": {
        "colab": {
          "base_uri": "https://localhost:8080/",
          "height": 35
        },
        "id": "wki542dnY7Xj",
        "outputId": "b6e08872-7fb3-4c79-9b5e-05643af4b683"
      },
      "execution_count": null,
      "outputs": [
        {
          "output_type": "execute_result",
          "data": {
            "text/plain": [
              "'test'"
            ],
            "application/vnd.google.colaboratory.intrinsic+json": {
              "type": "string"
            }
          },
          "metadata": {},
          "execution_count": 90
        }
      ]
    },
    {
      "cell_type": "markdown",
      "source": [
        "## Embedding"
      ],
      "metadata": {
        "id": "9PpAOkFhaGXZ"
      }
    },
    {
      "cell_type": "code",
      "source": [
        "from tensorflow.keras.layers import Embedding\n"
      ],
      "metadata": {
        "id": "LZLU9QOiZAPv"
      },
      "execution_count": null,
      "outputs": []
    },
    {
      "cell_type": "code",
      "source": [
        "emb = Embedding(input_dim=21089, output_dim=128)"
      ],
      "metadata": {
        "id": "TqHOSl3eaQH-"
      },
      "execution_count": null,
      "outputs": []
    },
    {
      "cell_type": "code",
      "source": [
        "test = emb(vectorizater([\"this is a test\"]))\n",
        "\n",
        "test.shape\n"
      ],
      "metadata": {
        "colab": {
          "base_uri": "https://localhost:8080/"
        },
        "id": "B9XCByAZaog9",
        "outputId": "16a862d9-5eb6-4fb3-950b-63dda413ac55"
      },
      "execution_count": null,
      "outputs": [
        {
          "output_type": "execute_result",
          "data": {
            "text/plain": [
              "TensorShape([1, 4, 128])"
            ]
          },
          "metadata": {},
          "execution_count": 93
        }
      ]
    },
    {
      "cell_type": "code",
      "source": [
        "test2 = emb(vectorizater([\"this is a test test test\"]))\n",
        "\n",
        "test2.shape"
      ],
      "metadata": {
        "colab": {
          "base_uri": "https://localhost:8080/"
        },
        "id": "ohYQtNhpataM",
        "outputId": "ae059784-2e4b-4687-8e09-214ef938accc"
      },
      "execution_count": null,
      "outputs": [
        {
          "output_type": "execute_result",
          "data": {
            "text/plain": [
              "TensorShape([1, 6, 128])"
            ]
          },
          "metadata": {},
          "execution_count": 94
        }
      ]
    },
    {
      "cell_type": "markdown",
      "source": [
        "## Create a baseline using Native Baise model from sklearn"
      ],
      "metadata": {
        "id": "uHpykj_kAnC8"
      }
    },
    {
      "cell_type": "markdown",
      "source": [
        "### Clean text"
      ],
      "metadata": {
        "id": "HLD9vVosNKIC"
      }
    },
    {
      "cell_type": "code",
      "source": [
        "train_ds.head().text\n"
      ],
      "metadata": {
        "colab": {
          "base_uri": "https://localhost:8080/"
        },
        "id": "rBJ-7FTcbSih",
        "outputId": "f700c6d1-1cde-4891-fc7a-b84dc741d355"
      },
      "execution_count": null,
      "outputs": [
        {
          "output_type": "execute_result",
          "data": {
            "text/plain": [
              "4620    'McFadden Reportedly to Test Hamstring Thursda...\n",
              "2858    w--=-=-=-[ NEMA warns Nigerians to prepare for...\n",
              "3098    When I was cooking earlier I got electrocuted ...\n",
              "3751                 I'm On Fire.  http://t.co/WATsmxYTVa\n",
              "5285    More than 40 families affected by the fatal ou...\n",
              "Name: text, dtype: object"
            ]
          },
          "metadata": {},
          "execution_count": 95
        }
      ]
    },
    {
      "cell_type": "code",
      "source": [
        "import nltk\n",
        "nltk.download('stopwords')\n",
        "from nltk.corpus import stopwords"
      ],
      "metadata": {
        "colab": {
          "base_uri": "https://localhost:8080/"
        },
        "id": "i3qxkyMdOZ9Y",
        "outputId": "e077b2f4-254d-49c6-80a5-1acedc6ba9c9"
      },
      "execution_count": null,
      "outputs": [
        {
          "output_type": "stream",
          "name": "stderr",
          "text": [
            "[nltk_data] Downloading package stopwords to /root/nltk_data...\n",
            "[nltk_data]   Package stopwords is already up-to-date!\n"
          ]
        }
      ]
    },
    {
      "cell_type": "code",
      "source": [
        "len(stopwords.words('english'))"
      ],
      "metadata": {
        "colab": {
          "base_uri": "https://localhost:8080/"
        },
        "id": "fr5_FLBqOc3Y",
        "outputId": "02d26308-b0a0-40c8-eefd-b7ce6d716129"
      },
      "execution_count": null,
      "outputs": [
        {
          "output_type": "execute_result",
          "data": {
            "text/plain": [
              "179"
            ]
          },
          "metadata": {},
          "execution_count": 97
        }
      ]
    },
    {
      "cell_type": "code",
      "source": [
        "import re\n",
        "import string\n",
        "# clean text\n",
        "def clean_text(text):\n",
        "  text = text.lower()\n",
        "  # remove urls\n",
        "  text = re.sub(r\"@[A-Za-z0-9]+\", ' ', text)\n",
        "  text = re.sub(r\"https?://[A-Za-z0-9./]+\", ' ', text)\n",
        "  # remove punctuation\n",
        "  operator = str.maketrans('','',string.punctuation)\n",
        "  text = text.translate(operator)\n",
        "  #remove digitals\n",
        "  text = re.sub('\\w*\\d\\w*', '', text)\n",
        "  text = ' '.join([w for w in text.split() if w not in stopwords.words('english')])\n",
        "  text = text.encode('ascii', 'ignore').decode('utf8').strip()\n",
        "  return text"
      ],
      "metadata": {
        "id": "0L_-8g-HNaO1"
      },
      "execution_count": null,
      "outputs": []
    },
    {
      "cell_type": "code",
      "source": [
        "from tqdm._tqdm_notebook import tqdm_notebook\n",
        "tqdm_notebook.pandas()"
      ],
      "metadata": {
        "id": "vMBtdpKoUNUh"
      },
      "execution_count": null,
      "outputs": []
    },
    {
      "cell_type": "code",
      "source": [
        "train_ds['clean_text'] = train_ds.text.progress_apply(clean_text)"
      ],
      "metadata": {
        "colab": {
          "base_uri": "https://localhost:8080/",
          "height": 49,
          "referenced_widgets": [
            "57cbde8e96774f3ea0502b54af239bac",
            "200963582277486bb428b1613238a520",
            "a8a243c41ebe457e95652bf68893c42d",
            "00bd1eba8347415da13b07a038d0a3ed",
            "ba434a49dd914f62b38590e0d8f515bf",
            "8c0c615805fb465a961f28ee19e243a5",
            "77581c53da0247cca4f747edc907415e",
            "0726955c8b014644a157fce79999ccb9",
            "4a4d04c24eca4ed2bc9e03d273313cc6",
            "11e415aa6e9b46f38656154a9889c7eb",
            "9da7f459b3ad4156b290473bf7027fdc"
          ]
        },
        "id": "uJs-_DydOI9k",
        "outputId": "df120fd0-71aa-4b54-caca-dc079242ef05"
      },
      "execution_count": null,
      "outputs": [
        {
          "output_type": "display_data",
          "data": {
            "text/plain": [
              "  0%|          | 0/6851 [00:00<?, ?it/s]"
            ],
            "application/vnd.jupyter.widget-view+json": {
              "version_major": 2,
              "version_minor": 0,
              "model_id": "57cbde8e96774f3ea0502b54af239bac"
            }
          },
          "metadata": {}
        }
      ]
    },
    {
      "cell_type": "code",
      "source": [
        "train_ds.head()"
      ],
      "metadata": {
        "colab": {
          "base_uri": "https://localhost:8080/",
          "height": 206
        },
        "id": "09oPf7m0OPMl",
        "outputId": "88ce0ea3-12c8-441d-9a63-706033b41a68"
      },
      "execution_count": null,
      "outputs": [
        {
          "output_type": "execute_result",
          "data": {
            "text/plain": [
              "        id       keyword      location  \\\n",
              "4620  6568        injury  Plano, Texas   \n",
              "2858  4107       drought       Nigeria   \n",
              "3098  4448  electrocuted           NaN   \n",
              "3751  5330          fire        Canada   \n",
              "5285  7552      outbreak     Indonesia   \n",
              "\n",
              "                                                   text  target  \\\n",
              "4620  'McFadden Reportedly to Test Hamstring Thursda...       0   \n",
              "2858  w--=-=-=-[ NEMA warns Nigerians to prepare for...       1   \n",
              "3098  When I was cooking earlier I got electrocuted ...       0   \n",
              "3751               I'm On Fire.  http://t.co/WATsmxYTVa       0   \n",
              "5285  More than 40 families affected by the fatal ou...       1   \n",
              "\n",
              "                                             clean_text  \n",
              "4620    mcfadden reportedly test hamstring thursday via  \n",
              "2858             w nema warns nigerians prepare drought  \n",
              "3098  cooking earlier got electrocuted crucial im ps...  \n",
              "3751                                            im fire  \n",
              "5285  families affected fatal outbreak legionnaires ...  "
            ],
            "text/html": [
              "\n",
              "\n",
              "  <div id=\"df-01480af7-3281-4982-b6d0-15dd1d43c685\">\n",
              "    <div class=\"colab-df-container\">\n",
              "      <div>\n",
              "<style scoped>\n",
              "    .dataframe tbody tr th:only-of-type {\n",
              "        vertical-align: middle;\n",
              "    }\n",
              "\n",
              "    .dataframe tbody tr th {\n",
              "        vertical-align: top;\n",
              "    }\n",
              "\n",
              "    .dataframe thead th {\n",
              "        text-align: right;\n",
              "    }\n",
              "</style>\n",
              "<table border=\"1\" class=\"dataframe\">\n",
              "  <thead>\n",
              "    <tr style=\"text-align: right;\">\n",
              "      <th></th>\n",
              "      <th>id</th>\n",
              "      <th>keyword</th>\n",
              "      <th>location</th>\n",
              "      <th>text</th>\n",
              "      <th>target</th>\n",
              "      <th>clean_text</th>\n",
              "    </tr>\n",
              "  </thead>\n",
              "  <tbody>\n",
              "    <tr>\n",
              "      <th>4620</th>\n",
              "      <td>6568</td>\n",
              "      <td>injury</td>\n",
              "      <td>Plano, Texas</td>\n",
              "      <td>'McFadden Reportedly to Test Hamstring Thursda...</td>\n",
              "      <td>0</td>\n",
              "      <td>mcfadden reportedly test hamstring thursday via</td>\n",
              "    </tr>\n",
              "    <tr>\n",
              "      <th>2858</th>\n",
              "      <td>4107</td>\n",
              "      <td>drought</td>\n",
              "      <td>Nigeria</td>\n",
              "      <td>w--=-=-=-[ NEMA warns Nigerians to prepare for...</td>\n",
              "      <td>1</td>\n",
              "      <td>w nema warns nigerians prepare drought</td>\n",
              "    </tr>\n",
              "    <tr>\n",
              "      <th>3098</th>\n",
              "      <td>4448</td>\n",
              "      <td>electrocuted</td>\n",
              "      <td>NaN</td>\n",
              "      <td>When I was cooking earlier I got electrocuted ...</td>\n",
              "      <td>0</td>\n",
              "      <td>cooking earlier got electrocuted crucial im ps...</td>\n",
              "    </tr>\n",
              "    <tr>\n",
              "      <th>3751</th>\n",
              "      <td>5330</td>\n",
              "      <td>fire</td>\n",
              "      <td>Canada</td>\n",
              "      <td>I'm On Fire.  http://t.co/WATsmxYTVa</td>\n",
              "      <td>0</td>\n",
              "      <td>im fire</td>\n",
              "    </tr>\n",
              "    <tr>\n",
              "      <th>5285</th>\n",
              "      <td>7552</td>\n",
              "      <td>outbreak</td>\n",
              "      <td>Indonesia</td>\n",
              "      <td>More than 40 families affected by the fatal ou...</td>\n",
              "      <td>1</td>\n",
              "      <td>families affected fatal outbreak legionnaires ...</td>\n",
              "    </tr>\n",
              "  </tbody>\n",
              "</table>\n",
              "</div>\n",
              "      <button class=\"colab-df-convert\" onclick=\"convertToInteractive('df-01480af7-3281-4982-b6d0-15dd1d43c685')\"\n",
              "              title=\"Convert this dataframe to an interactive table.\"\n",
              "              style=\"display:none;\">\n",
              "\n",
              "  <svg xmlns=\"http://www.w3.org/2000/svg\" height=\"24px\"viewBox=\"0 0 24 24\"\n",
              "       width=\"24px\">\n",
              "    <path d=\"M0 0h24v24H0V0z\" fill=\"none\"/>\n",
              "    <path d=\"M18.56 5.44l.94 2.06.94-2.06 2.06-.94-2.06-.94-.94-2.06-.94 2.06-2.06.94zm-11 1L8.5 8.5l.94-2.06 2.06-.94-2.06-.94L8.5 2.5l-.94 2.06-2.06.94zm10 10l.94 2.06.94-2.06 2.06-.94-2.06-.94-.94-2.06-.94 2.06-2.06.94z\"/><path d=\"M17.41 7.96l-1.37-1.37c-.4-.4-.92-.59-1.43-.59-.52 0-1.04.2-1.43.59L10.3 9.45l-7.72 7.72c-.78.78-.78 2.05 0 2.83L4 21.41c.39.39.9.59 1.41.59.51 0 1.02-.2 1.41-.59l7.78-7.78 2.81-2.81c.8-.78.8-2.07 0-2.86zM5.41 20L4 18.59l7.72-7.72 1.47 1.35L5.41 20z\"/>\n",
              "  </svg>\n",
              "      </button>\n",
              "\n",
              "\n",
              "\n",
              "    <div id=\"df-eb2746d6-5eb5-4f32-b44e-478586819354\">\n",
              "      <button class=\"colab-df-quickchart\" onclick=\"quickchart('df-eb2746d6-5eb5-4f32-b44e-478586819354')\"\n",
              "              title=\"Suggest charts.\"\n",
              "              style=\"display:none;\">\n",
              "\n",
              "<svg xmlns=\"http://www.w3.org/2000/svg\" height=\"24px\"viewBox=\"0 0 24 24\"\n",
              "     width=\"24px\">\n",
              "    <g>\n",
              "        <path d=\"M19 3H5c-1.1 0-2 .9-2 2v14c0 1.1.9 2 2 2h14c1.1 0 2-.9 2-2V5c0-1.1-.9-2-2-2zM9 17H7v-7h2v7zm4 0h-2V7h2v10zm4 0h-2v-4h2v4z\"/>\n",
              "    </g>\n",
              "</svg>\n",
              "      </button>\n",
              "    </div>\n",
              "\n",
              "<style>\n",
              "  .colab-df-quickchart {\n",
              "    background-color: #E8F0FE;\n",
              "    border: none;\n",
              "    border-radius: 50%;\n",
              "    cursor: pointer;\n",
              "    display: none;\n",
              "    fill: #1967D2;\n",
              "    height: 32px;\n",
              "    padding: 0 0 0 0;\n",
              "    width: 32px;\n",
              "  }\n",
              "\n",
              "  .colab-df-quickchart:hover {\n",
              "    background-color: #E2EBFA;\n",
              "    box-shadow: 0px 1px 2px rgba(60, 64, 67, 0.3), 0px 1px 3px 1px rgba(60, 64, 67, 0.15);\n",
              "    fill: #174EA6;\n",
              "  }\n",
              "\n",
              "  [theme=dark] .colab-df-quickchart {\n",
              "    background-color: #3B4455;\n",
              "    fill: #D2E3FC;\n",
              "  }\n",
              "\n",
              "  [theme=dark] .colab-df-quickchart:hover {\n",
              "    background-color: #434B5C;\n",
              "    box-shadow: 0px 1px 3px 1px rgba(0, 0, 0, 0.15);\n",
              "    filter: drop-shadow(0px 1px 2px rgba(0, 0, 0, 0.3));\n",
              "    fill: #FFFFFF;\n",
              "  }\n",
              "</style>\n",
              "\n",
              "    <script>\n",
              "      async function quickchart(key) {\n",
              "        const containerElement = document.querySelector('#' + key);\n",
              "        const charts = await google.colab.kernel.invokeFunction(\n",
              "            'suggestCharts', [key], {});\n",
              "      }\n",
              "    </script>\n",
              "\n",
              "      <script>\n",
              "\n",
              "function displayQuickchartButton(domScope) {\n",
              "  let quickchartButtonEl =\n",
              "    domScope.querySelector('#df-eb2746d6-5eb5-4f32-b44e-478586819354 button.colab-df-quickchart');\n",
              "  quickchartButtonEl.style.display =\n",
              "    google.colab.kernel.accessAllowed ? 'block' : 'none';\n",
              "}\n",
              "\n",
              "        displayQuickchartButton(document);\n",
              "      </script>\n",
              "      <style>\n",
              "    .colab-df-container {\n",
              "      display:flex;\n",
              "      flex-wrap:wrap;\n",
              "      gap: 12px;\n",
              "    }\n",
              "\n",
              "    .colab-df-convert {\n",
              "      background-color: #E8F0FE;\n",
              "      border: none;\n",
              "      border-radius: 50%;\n",
              "      cursor: pointer;\n",
              "      display: none;\n",
              "      fill: #1967D2;\n",
              "      height: 32px;\n",
              "      padding: 0 0 0 0;\n",
              "      width: 32px;\n",
              "    }\n",
              "\n",
              "    .colab-df-convert:hover {\n",
              "      background-color: #E2EBFA;\n",
              "      box-shadow: 0px 1px 2px rgba(60, 64, 67, 0.3), 0px 1px 3px 1px rgba(60, 64, 67, 0.15);\n",
              "      fill: #174EA6;\n",
              "    }\n",
              "\n",
              "    [theme=dark] .colab-df-convert {\n",
              "      background-color: #3B4455;\n",
              "      fill: #D2E3FC;\n",
              "    }\n",
              "\n",
              "    [theme=dark] .colab-df-convert:hover {\n",
              "      background-color: #434B5C;\n",
              "      box-shadow: 0px 1px 3px 1px rgba(0, 0, 0, 0.15);\n",
              "      filter: drop-shadow(0px 1px 2px rgba(0, 0, 0, 0.3));\n",
              "      fill: #FFFFFF;\n",
              "    }\n",
              "  </style>\n",
              "\n",
              "      <script>\n",
              "        const buttonEl =\n",
              "          document.querySelector('#df-01480af7-3281-4982-b6d0-15dd1d43c685 button.colab-df-convert');\n",
              "        buttonEl.style.display =\n",
              "          google.colab.kernel.accessAllowed ? 'block' : 'none';\n",
              "\n",
              "        async function convertToInteractive(key) {\n",
              "          const element = document.querySelector('#df-01480af7-3281-4982-b6d0-15dd1d43c685');\n",
              "          const dataTable =\n",
              "            await google.colab.kernel.invokeFunction('convertToInteractive',\n",
              "                                                     [key], {});\n",
              "          if (!dataTable) return;\n",
              "\n",
              "          const docLinkHtml = 'Like what you see? Visit the ' +\n",
              "            '<a target=\"_blank\" href=https://colab.research.google.com/notebooks/data_table.ipynb>data table notebook</a>'\n",
              "            + ' to learn more about interactive tables.';\n",
              "          element.innerHTML = '';\n",
              "          dataTable['output_type'] = 'display_data';\n",
              "          await google.colab.output.renderOutput(dataTable, element);\n",
              "          const docLink = document.createElement('div');\n",
              "          docLink.innerHTML = docLinkHtml;\n",
              "          element.appendChild(docLink);\n",
              "        }\n",
              "      </script>\n",
              "    </div>\n",
              "  </div>\n"
            ]
          },
          "metadata": {},
          "execution_count": 101
        }
      ]
    },
    {
      "cell_type": "code",
      "source": [
        "train_ds.shape, val_ds.shape, train_df.shape, test_df.shape\n"
      ],
      "metadata": {
        "colab": {
          "base_uri": "https://localhost:8080/"
        },
        "id": "mq5m0ppVTU1R",
        "outputId": "27d4afb2-a643-4fdf-d3c5-052c84b7ea3d"
      },
      "execution_count": null,
      "outputs": [
        {
          "output_type": "execute_result",
          "data": {
            "text/plain": [
              "((6851, 6), (762, 5), (7613, 5), (3263, 4))"
            ]
          },
          "metadata": {},
          "execution_count": 102
        }
      ]
    },
    {
      "cell_type": "markdown",
      "source": [
        "### Lemmatisation"
      ],
      "metadata": {
        "id": "YaLmwSSigafS"
      }
    },
    {
      "cell_type": "code",
      "source": [
        "import spacy\n",
        "nlp = spacy.load(\"en_core_web_sm\")"
      ],
      "metadata": {
        "id": "yIzBCCcxVnQd"
      },
      "execution_count": null,
      "outputs": []
    },
    {
      "cell_type": "code",
      "source": [
        "import spacy\n",
        "nlp = spacy.load(\"en_core_web_sm\")\n",
        "import en_core_web_sm\n",
        "nlp = en_core_web_sm.load()\n",
        "doc = nlp(\"This is a sentence.\")\n",
        "print([(w.text, w.pos_) for w in doc])"
      ],
      "metadata": {
        "colab": {
          "base_uri": "https://localhost:8080/"
        },
        "id": "Xc2JpdjwiiVl",
        "outputId": "6dfb68d4-d50e-4381-eed8-b94e6a558019"
      },
      "execution_count": null,
      "outputs": [
        {
          "output_type": "stream",
          "name": "stdout",
          "text": [
            "[('This', 'PRON'), ('is', 'AUX'), ('a', 'DET'), ('sentence', 'NOUN'), ('.', 'PUNCT')]\n"
          ]
        }
      ]
    },
    {
      "cell_type": "code",
      "source": [
        "def get_lemmas(text):\n",
        "  # Create Doc object\n",
        "    doc = nlp(text, disable=['ner', 'parser'])\n",
        "    # Generate lemmas\n",
        "    lemmas = [token.lemma_ for token in doc]\n",
        "    # Remove stopwords and non-alphabetic characters\n",
        "    a_lemmas = [lemma for lemma in lemmas\n",
        "            if lemma.isalpha()]\n",
        "    return ' '.join(a_lemmas)"
      ],
      "metadata": {
        "id": "c9CNpyLfgkGN"
      },
      "execution_count": null,
      "outputs": []
    },
    {
      "cell_type": "code",
      "source": [
        "train_df['lemmas'] = train_df.text.progress_apply(clean_text).progress_apply(get_lemmas)\n"
      ],
      "metadata": {
        "colab": {
          "base_uri": "https://localhost:8080/",
          "height": 81,
          "referenced_widgets": [
            "a6af902f62b7491f9bf6ff38881c90b9",
            "86c45ed73098469c8cf0a5f0483e2d94",
            "8cea5c177f6e48d694b1d7dd0bb30269",
            "69fa12fc22224478ad5c7ada614c773e",
            "2ee6d2148e2a4388961b27e1574feeb5",
            "82870f48d06a4667979a33d2f98a43b8",
            "9e8bbb18a753472fa4652af17244b10b",
            "95b8c14b6a6d4a7989276b00b439ef4c",
            "621e833f257b4199ad62937778a423c6",
            "df9efa89b01241549bff0fe1cd2ac0be",
            "32b0b81db2984d9b8a461b62ede6d889",
            "26838adee2be4901b43b9e08ced555a3",
            "1d9e886fcb1b4b2cbbdb98a98cc9c888",
            "02719ef0994c49f0ba74ae657a1157b1",
            "5ea9c20286c1459fad2c062dd08a285d",
            "4a68eeed555c4f38895709f597ef4459",
            "9fa520bbe3fc451cbfcfa8511c8e7b94",
            "8d9ba75a767c4b19bb1bbb627667d465",
            "2976f2f9bb174b5484ca67e1fe002b15",
            "2a95addcc23b4fbfb52c4ce78f5ffcf6",
            "31e9ec8baedc40cea39a245b349e1ab6",
            "81b30d0265944af29468210c082f733e"
          ]
        },
        "id": "9w2iBiFon0Kn",
        "outputId": "d70e25f4-7045-426d-d610-b3d0d06a3083"
      },
      "execution_count": null,
      "outputs": [
        {
          "output_type": "display_data",
          "data": {
            "text/plain": [
              "  0%|          | 0/7613 [00:00<?, ?it/s]"
            ],
            "application/vnd.jupyter.widget-view+json": {
              "version_major": 2,
              "version_minor": 0,
              "model_id": "a6af902f62b7491f9bf6ff38881c90b9"
            }
          },
          "metadata": {}
        },
        {
          "output_type": "display_data",
          "data": {
            "text/plain": [
              "  0%|          | 0/7613 [00:00<?, ?it/s]"
            ],
            "application/vnd.jupyter.widget-view+json": {
              "version_major": 2,
              "version_minor": 0,
              "model_id": "26838adee2be4901b43b9e08ced555a3"
            }
          },
          "metadata": {}
        }
      ]
    },
    {
      "cell_type": "code",
      "source": [
        "train_df.head()"
      ],
      "metadata": {
        "colab": {
          "base_uri": "https://localhost:8080/",
          "height": 206
        },
        "id": "bOxt_OmNoEhe",
        "outputId": "4405962e-db28-480a-f7e9-b5231d3c4d94"
      },
      "execution_count": null,
      "outputs": [
        {
          "output_type": "execute_result",
          "data": {
            "text/plain": [
              "   id keyword location                                               text  \\\n",
              "0   1     NaN      NaN  Our Deeds are the Reason of this #earthquake M...   \n",
              "1   4     NaN      NaN             Forest fire near La Ronge Sask. Canada   \n",
              "2   5     NaN      NaN  All residents asked to 'shelter in place' are ...   \n",
              "3   6     NaN      NaN  13,000 people receive #wildfires evacuation or...   \n",
              "4   7     NaN      NaN  Just got sent this photo from Ruby #Alaska as ...   \n",
              "\n",
              "   target                                             lemmas  \n",
              "0       1        deed reason earthquake may allah forgive we  \n",
              "1       1              forest fire near la ronge sask canada  \n",
              "2       1  resident ask shelter place notify officer evac...  \n",
              "3       1  people receive wildfire evacuation order calif...  \n",
              "4       1  get send photo ruby alaska smoke wildfire pour...  "
            ],
            "text/html": [
              "\n",
              "\n",
              "  <div id=\"df-b09a2b53-7c29-4b87-8480-564ebb82d967\">\n",
              "    <div class=\"colab-df-container\">\n",
              "      <div>\n",
              "<style scoped>\n",
              "    .dataframe tbody tr th:only-of-type {\n",
              "        vertical-align: middle;\n",
              "    }\n",
              "\n",
              "    .dataframe tbody tr th {\n",
              "        vertical-align: top;\n",
              "    }\n",
              "\n",
              "    .dataframe thead th {\n",
              "        text-align: right;\n",
              "    }\n",
              "</style>\n",
              "<table border=\"1\" class=\"dataframe\">\n",
              "  <thead>\n",
              "    <tr style=\"text-align: right;\">\n",
              "      <th></th>\n",
              "      <th>id</th>\n",
              "      <th>keyword</th>\n",
              "      <th>location</th>\n",
              "      <th>text</th>\n",
              "      <th>target</th>\n",
              "      <th>lemmas</th>\n",
              "    </tr>\n",
              "  </thead>\n",
              "  <tbody>\n",
              "    <tr>\n",
              "      <th>0</th>\n",
              "      <td>1</td>\n",
              "      <td>NaN</td>\n",
              "      <td>NaN</td>\n",
              "      <td>Our Deeds are the Reason of this #earthquake M...</td>\n",
              "      <td>1</td>\n",
              "      <td>deed reason earthquake may allah forgive we</td>\n",
              "    </tr>\n",
              "    <tr>\n",
              "      <th>1</th>\n",
              "      <td>4</td>\n",
              "      <td>NaN</td>\n",
              "      <td>NaN</td>\n",
              "      <td>Forest fire near La Ronge Sask. Canada</td>\n",
              "      <td>1</td>\n",
              "      <td>forest fire near la ronge sask canada</td>\n",
              "    </tr>\n",
              "    <tr>\n",
              "      <th>2</th>\n",
              "      <td>5</td>\n",
              "      <td>NaN</td>\n",
              "      <td>NaN</td>\n",
              "      <td>All residents asked to 'shelter in place' are ...</td>\n",
              "      <td>1</td>\n",
              "      <td>resident ask shelter place notify officer evac...</td>\n",
              "    </tr>\n",
              "    <tr>\n",
              "      <th>3</th>\n",
              "      <td>6</td>\n",
              "      <td>NaN</td>\n",
              "      <td>NaN</td>\n",
              "      <td>13,000 people receive #wildfires evacuation or...</td>\n",
              "      <td>1</td>\n",
              "      <td>people receive wildfire evacuation order calif...</td>\n",
              "    </tr>\n",
              "    <tr>\n",
              "      <th>4</th>\n",
              "      <td>7</td>\n",
              "      <td>NaN</td>\n",
              "      <td>NaN</td>\n",
              "      <td>Just got sent this photo from Ruby #Alaska as ...</td>\n",
              "      <td>1</td>\n",
              "      <td>get send photo ruby alaska smoke wildfire pour...</td>\n",
              "    </tr>\n",
              "  </tbody>\n",
              "</table>\n",
              "</div>\n",
              "      <button class=\"colab-df-convert\" onclick=\"convertToInteractive('df-b09a2b53-7c29-4b87-8480-564ebb82d967')\"\n",
              "              title=\"Convert this dataframe to an interactive table.\"\n",
              "              style=\"display:none;\">\n",
              "\n",
              "  <svg xmlns=\"http://www.w3.org/2000/svg\" height=\"24px\"viewBox=\"0 0 24 24\"\n",
              "       width=\"24px\">\n",
              "    <path d=\"M0 0h24v24H0V0z\" fill=\"none\"/>\n",
              "    <path d=\"M18.56 5.44l.94 2.06.94-2.06 2.06-.94-2.06-.94-.94-2.06-.94 2.06-2.06.94zm-11 1L8.5 8.5l.94-2.06 2.06-.94-2.06-.94L8.5 2.5l-.94 2.06-2.06.94zm10 10l.94 2.06.94-2.06 2.06-.94-2.06-.94-.94-2.06-.94 2.06-2.06.94z\"/><path d=\"M17.41 7.96l-1.37-1.37c-.4-.4-.92-.59-1.43-.59-.52 0-1.04.2-1.43.59L10.3 9.45l-7.72 7.72c-.78.78-.78 2.05 0 2.83L4 21.41c.39.39.9.59 1.41.59.51 0 1.02-.2 1.41-.59l7.78-7.78 2.81-2.81c.8-.78.8-2.07 0-2.86zM5.41 20L4 18.59l7.72-7.72 1.47 1.35L5.41 20z\"/>\n",
              "  </svg>\n",
              "      </button>\n",
              "\n",
              "\n",
              "\n",
              "    <div id=\"df-d06374d2-a3cd-4ed1-bbbd-876ce84d1a35\">\n",
              "      <button class=\"colab-df-quickchart\" onclick=\"quickchart('df-d06374d2-a3cd-4ed1-bbbd-876ce84d1a35')\"\n",
              "              title=\"Suggest charts.\"\n",
              "              style=\"display:none;\">\n",
              "\n",
              "<svg xmlns=\"http://www.w3.org/2000/svg\" height=\"24px\"viewBox=\"0 0 24 24\"\n",
              "     width=\"24px\">\n",
              "    <g>\n",
              "        <path d=\"M19 3H5c-1.1 0-2 .9-2 2v14c0 1.1.9 2 2 2h14c1.1 0 2-.9 2-2V5c0-1.1-.9-2-2-2zM9 17H7v-7h2v7zm4 0h-2V7h2v10zm4 0h-2v-4h2v4z\"/>\n",
              "    </g>\n",
              "</svg>\n",
              "      </button>\n",
              "    </div>\n",
              "\n",
              "<style>\n",
              "  .colab-df-quickchart {\n",
              "    background-color: #E8F0FE;\n",
              "    border: none;\n",
              "    border-radius: 50%;\n",
              "    cursor: pointer;\n",
              "    display: none;\n",
              "    fill: #1967D2;\n",
              "    height: 32px;\n",
              "    padding: 0 0 0 0;\n",
              "    width: 32px;\n",
              "  }\n",
              "\n",
              "  .colab-df-quickchart:hover {\n",
              "    background-color: #E2EBFA;\n",
              "    box-shadow: 0px 1px 2px rgba(60, 64, 67, 0.3), 0px 1px 3px 1px rgba(60, 64, 67, 0.15);\n",
              "    fill: #174EA6;\n",
              "  }\n",
              "\n",
              "  [theme=dark] .colab-df-quickchart {\n",
              "    background-color: #3B4455;\n",
              "    fill: #D2E3FC;\n",
              "  }\n",
              "\n",
              "  [theme=dark] .colab-df-quickchart:hover {\n",
              "    background-color: #434B5C;\n",
              "    box-shadow: 0px 1px 3px 1px rgba(0, 0, 0, 0.15);\n",
              "    filter: drop-shadow(0px 1px 2px rgba(0, 0, 0, 0.3));\n",
              "    fill: #FFFFFF;\n",
              "  }\n",
              "</style>\n",
              "\n",
              "    <script>\n",
              "      async function quickchart(key) {\n",
              "        const containerElement = document.querySelector('#' + key);\n",
              "        const charts = await google.colab.kernel.invokeFunction(\n",
              "            'suggestCharts', [key], {});\n",
              "      }\n",
              "    </script>\n",
              "\n",
              "      <script>\n",
              "\n",
              "function displayQuickchartButton(domScope) {\n",
              "  let quickchartButtonEl =\n",
              "    domScope.querySelector('#df-d06374d2-a3cd-4ed1-bbbd-876ce84d1a35 button.colab-df-quickchart');\n",
              "  quickchartButtonEl.style.display =\n",
              "    google.colab.kernel.accessAllowed ? 'block' : 'none';\n",
              "}\n",
              "\n",
              "        displayQuickchartButton(document);\n",
              "      </script>\n",
              "      <style>\n",
              "    .colab-df-container {\n",
              "      display:flex;\n",
              "      flex-wrap:wrap;\n",
              "      gap: 12px;\n",
              "    }\n",
              "\n",
              "    .colab-df-convert {\n",
              "      background-color: #E8F0FE;\n",
              "      border: none;\n",
              "      border-radius: 50%;\n",
              "      cursor: pointer;\n",
              "      display: none;\n",
              "      fill: #1967D2;\n",
              "      height: 32px;\n",
              "      padding: 0 0 0 0;\n",
              "      width: 32px;\n",
              "    }\n",
              "\n",
              "    .colab-df-convert:hover {\n",
              "      background-color: #E2EBFA;\n",
              "      box-shadow: 0px 1px 2px rgba(60, 64, 67, 0.3), 0px 1px 3px 1px rgba(60, 64, 67, 0.15);\n",
              "      fill: #174EA6;\n",
              "    }\n",
              "\n",
              "    [theme=dark] .colab-df-convert {\n",
              "      background-color: #3B4455;\n",
              "      fill: #D2E3FC;\n",
              "    }\n",
              "\n",
              "    [theme=dark] .colab-df-convert:hover {\n",
              "      background-color: #434B5C;\n",
              "      box-shadow: 0px 1px 3px 1px rgba(0, 0, 0, 0.15);\n",
              "      filter: drop-shadow(0px 1px 2px rgba(0, 0, 0, 0.3));\n",
              "      fill: #FFFFFF;\n",
              "    }\n",
              "  </style>\n",
              "\n",
              "      <script>\n",
              "        const buttonEl =\n",
              "          document.querySelector('#df-b09a2b53-7c29-4b87-8480-564ebb82d967 button.colab-df-convert');\n",
              "        buttonEl.style.display =\n",
              "          google.colab.kernel.accessAllowed ? 'block' : 'none';\n",
              "\n",
              "        async function convertToInteractive(key) {\n",
              "          const element = document.querySelector('#df-b09a2b53-7c29-4b87-8480-564ebb82d967');\n",
              "          const dataTable =\n",
              "            await google.colab.kernel.invokeFunction('convertToInteractive',\n",
              "                                                     [key], {});\n",
              "          if (!dataTable) return;\n",
              "\n",
              "          const docLinkHtml = 'Like what you see? Visit the ' +\n",
              "            '<a target=\"_blank\" href=https://colab.research.google.com/notebooks/data_table.ipynb>data table notebook</a>'\n",
              "            + ' to learn more about interactive tables.';\n",
              "          element.innerHTML = '';\n",
              "          dataTable['output_type'] = 'display_data';\n",
              "          await google.colab.output.renderOutput(dataTable, element);\n",
              "          const docLink = document.createElement('div');\n",
              "          docLink.innerHTML = docLinkHtml;\n",
              "          element.appendChild(docLink);\n",
              "        }\n",
              "      </script>\n",
              "    </div>\n",
              "  </div>\n"
            ]
          },
          "metadata": {},
          "execution_count": 107
        }
      ]
    },
    {
      "cell_type": "code",
      "source": [
        "# split again to train, val dataset"
      ],
      "metadata": {
        "id": "QDinh2-boT_J"
      },
      "execution_count": null,
      "outputs": []
    },
    {
      "cell_type": "code",
      "source": [
        "x_train, x_val, y_train, y_val = train_test_split(train_df.lemmas, train_df.target, test_size=0.2, random_state=142)\n"
      ],
      "metadata": {
        "id": "rhmXbjiRqTqI"
      },
      "execution_count": null,
      "outputs": []
    },
    {
      "cell_type": "code",
      "source": [
        "x_train.shape, x_val.shape, y_train.shape, y_val.shape\n"
      ],
      "metadata": {
        "colab": {
          "base_uri": "https://localhost:8080/"
        },
        "id": "gwcXy6tbqbwR",
        "outputId": "f0ac597e-5c2e-47a8-dc5c-31d6f79b8317"
      },
      "execution_count": null,
      "outputs": [
        {
          "output_type": "execute_result",
          "data": {
            "text/plain": [
              "((6090,), (1523,), (6090,), (1523,))"
            ]
          },
          "metadata": {},
          "execution_count": 110
        }
      ]
    },
    {
      "cell_type": "markdown",
      "source": [
        "## Apply Native Bayes"
      ],
      "metadata": {
        "id": "Ml8xjMkGqgN2"
      }
    },
    {
      "cell_type": "code",
      "source": [
        "import sklearn\n",
        "from sklearn.feature_extraction.text import TfidfVectorizer\n",
        "from sklearn.naive_bayes import GaussianNB\n",
        "from sklearn.naive_bayes import MultinomialNB\n",
        "\n",
        "from sklearn.metrics import accuracy_score\n"
      ],
      "metadata": {
        "id": "sQgl_RVqqdty"
      },
      "execution_count": null,
      "outputs": []
    },
    {
      "cell_type": "code",
      "source": [
        "vectorizer = TfidfVectorizer()\n",
        "\n",
        "x_train_tfidf = vectorizer.fit_transform(x_train)\n",
        "x_val_tfidf = vectorizer.transform(x_val)"
      ],
      "metadata": {
        "id": "zuA1BpExqp4K"
      },
      "execution_count": null,
      "outputs": []
    },
    {
      "cell_type": "code",
      "source": [
        "x_train_tfidf.shape"
      ],
      "metadata": {
        "colab": {
          "base_uri": "https://localhost:8080/"
        },
        "id": "IsEzXxvvuHvz",
        "outputId": "b8309e06-c82b-4dba-e64b-9d261c3640d0"
      },
      "execution_count": null,
      "outputs": [
        {
          "output_type": "execute_result",
          "data": {
            "text/plain": [
              "(6090, 11020)"
            ]
          },
          "metadata": {},
          "execution_count": 113
        }
      ]
    },
    {
      "cell_type": "code",
      "source": [
        "len(vectorizer.get_feature_names_out())"
      ],
      "metadata": {
        "colab": {
          "base_uri": "https://localhost:8080/"
        },
        "id": "EAMcIsGTuLCz",
        "outputId": "579e5bf0-dcd8-4198-8f7c-22ce78925362"
      },
      "execution_count": null,
      "outputs": [
        {
          "output_type": "execute_result",
          "data": {
            "text/plain": [
              "11020"
            ]
          },
          "metadata": {},
          "execution_count": 114
        }
      ]
    },
    {
      "cell_type": "code",
      "source": [
        "vectorizer.vocabulary_\n"
      ],
      "metadata": {
        "colab": {
          "base_uri": "https://localhost:8080/"
        },
        "id": "56GbDHAsu1MA",
        "outputId": "8659e8c3-0259-4885-9cad-137dc99a19fe"
      },
      "execution_count": null,
      "outputs": [
        {
          "output_type": "execute_result",
          "data": {
            "text/plain": [
              "{'railway': 7775,\n",
              " 'catch': 1528,\n",
              " 'unawares': 10154,\n",
              " 'mp': 6337,\n",
              " 'tragedy': 9922,\n",
              " 'accident': 42,\n",
              " 'spot': 9100,\n",
              " 'never': 6524,\n",
              " 'mark': 5877,\n",
              " 'vulnerable': 10481,\n",
              " 'fifth': 3461,\n",
              " 'predynastic': 7505,\n",
              " 'king': 5273,\n",
              " 'legendary': 5469,\n",
              " 'period': 7213,\n",
              " 'deluge': 2442,\n",
              " 'dumuzid': 2861,\n",
              " 'shepherd': 8678,\n",
              " 'want': 10512,\n",
              " 'burst': 1322,\n",
              " 'flame': 3533,\n",
              " 'anna': 360,\n",
              " 'hug': 4545,\n",
              " 'tightly': 9774,\n",
              " 'meatlove': 5981,\n",
              " 'feminist': 3434,\n",
              " 'world': 10799,\n",
              " 'riot': 8150,\n",
              " 'grill': 4069,\n",
              " 'arrive': 498,\n",
              " 'wild': 10700,\n",
              " 'fire': 3496,\n",
              " 'west': 10630,\n",
              " 'crazy': 2153,\n",
              " 'stick': 9210,\n",
              " 'sleeper': 8864,\n",
              " 'train': 9926,\n",
              " 'hour': 4522,\n",
              " 'derail': 2492,\n",
              " 'due': 2852,\n",
              " 'landslide': 5388,\n",
              " 'definitely': 2424,\n",
              " 'pit': 7319,\n",
              " 'trip': 9995,\n",
              " 'even': 3196,\n",
              " 'though': 9722,\n",
              " 'bsg': 1263,\n",
              " 'sufficiently': 9340,\n",
              " 'hype': 4594,\n",
              " 'year': 10918,\n",
              " 'somehow': 8975,\n",
              " 'delay': 2431,\n",
              " 'watch': 10551,\n",
              " 'utterly': 10308,\n",
              " 'blow': 1047,\n",
              " 'away': 658,\n",
              " 'gunsense': 4131,\n",
              " 'answer': 374,\n",
              " 'gfzs': 3888,\n",
              " 'break': 1174,\n",
              " 'law': 5431,\n",
              " 'minuscule': 6163,\n",
              " 'chance': 1604,\n",
              " 'mass': 5904,\n",
              " 'murderer': 6381,\n",
              " 'show': 8717,\n",
              " 'lmao': 5620,\n",
              " 'well': 10620,\n",
              " 'know': 5299,\n",
              " 'one': 6854,\n",
              " 've': 10353,\n",
              " 'crush': 2208,\n",
              " 'sooo': 8996,\n",
              " 'anchorage': 332,\n",
              " 'job': 5071,\n",
              " 'emergency': 3026,\n",
              " 'medicine': 5991,\n",
              " 'nurse': 6712,\n",
              " 'practitioner': 7488,\n",
              " 'healthcare': 4293,\n",
              " 'recruitment': 7896,\n",
              " 'counselor': 2105,\n",
              " 'wasilla': 10546,\n",
              " 'ak': 197,\n",
              " 'em': 3015,\n",
              " 'russian': 8320,\n",
              " 'food': 3597,\n",
              " 'crematoria': 2169,\n",
              " 'provoke': 7642,\n",
              " 'outrage': 6985,\n",
              " 'amid': 304,\n",
              " 'crisis': 2179,\n",
              " 'famine': 3350,\n",
              " 'memorie': 6021,\n",
              " 'via': 10389,\n",
              " 'gm': 3946,\n",
              " 'pray': 7491,\n",
              " 'attack': 581,\n",
              " 'enemy': 3075,\n",
              " 'ur': 10261,\n",
              " 'destiny': 2523,\n",
              " 'block': 1033,\n",
              " 'lord': 5678,\n",
              " 'amp': 312,\n",
              " 'flood': 3557,\n",
              " 'life': 5536,\n",
              " 'wheavenly': 10656,\n",
              " 'blessing': 1022,\n",
              " 'drunk': 2832,\n",
              " 'meal': 5972,\n",
              " 'cook': 2045,\n",
              " 'you': 10952,\n",
              " 're': 7837,\n",
              " 'totally': 9880,\n",
              " 'obliterate': 6747,\n",
              " 'bomb': 1090,\n",
              " 'try': 10029,\n",
              " 'get': 3882,\n",
              " 'home': 4469,\n",
              " 'curfew': 2246,\n",
              " 'think': 9702,\n",
              " 'traumatise': 9950,\n",
              " 'suicide': 9345,\n",
              " 'bomber': 1092,\n",
              " 'kill': 5257,\n",
              " 'saudimosque': 8433,\n",
              " 'bride': 1195,\n",
              " 'groom': 4079,\n",
              " 'mountain': 6321,\n",
              " 'cliff': 1784,\n",
              " 'edge': 2933,\n",
              " 'ha': 4147,\n",
              " 'kid': 5245,\n",
              " 'ever': 3201,\n",
              " 'jackson': 4985,\n",
              " 'ms': 6347,\n",
              " 'long': 5663,\n",
              " 'streak': 9259,\n",
              " 'tripledigit': 9997,\n",
              " 'heat': 4308,\n",
              " 'since': 8774,\n",
              " 'forecast': 3616,\n",
              " 'dalla': 2294,\n",
              " 'tennis': 9614,\n",
              " 'defend': 2415,\n",
              " 'champ': 1597,\n",
              " 'svetlana': 9435,\n",
              " 'kuznetsova': 5342,\n",
              " 'withdraws': 10748,\n",
              " 'citi': 1741,\n",
              " 'open': 6887,\n",
              " 'cite': 1740,\n",
              " 'injury': 4800,\n",
              " 'lower': 5707,\n",
              " 'leave': 5457,\n",
              " 'leg': 5465,\n",
              " 'espn': 3160,\n",
              " 'bad': 693,\n",
              " 'look': 5669,\n",
              " 'american': 298,\n",
              " 'constitutional': 2006,\n",
              " 'system': 9481,\n",
              " 'collide': 1873,\n",
              " 'new': 6528,\n",
              " 'politic': 7405,\n",
              " 'shot': 8709,\n",
              " 'heart': 4298,\n",
              " 'xv': 10895,\n",
              " 'go': 3956,\n",
              " 'give': 3919,\n",
              " 'love': 5698,\n",
              " 'name': 6433,\n",
              " 'pierc': 7288,\n",
              " 'wyrmwood': 10878,\n",
              " 'road': 8175,\n",
              " 'dead': 2357,\n",
              " 'fucking': 3746,\n",
              " 'awesome': 659,\n",
              " 'end': 3062,\n",
              " 'christian': 1710,\n",
              " 'muslims': 6396,\n",
              " 'temple': 9605,\n",
              " 'mount': 6320,\n",
              " 'wave': 10566,\n",
              " 'israeli': 4955,\n",
              " 'flag': 3531,\n",
              " 'pamela': 7065,\n",
              " 'geller': 3852,\n",
              " 'blood': 1040,\n",
              " 'yeah': 10917,\n",
              " 'speakingfromexperience': 9052,\n",
              " 'crew': 2171,\n",
              " 'work': 10791,\n",
              " 'restore': 8063,\n",
              " 'power': 7471,\n",
              " 'southwest': 9033,\n",
              " 'omaha': 6842,\n",
              " 'vehicle': 10361,\n",
              " 'utility': 10303,\n",
              " 'pole': 7397,\n",
              " 'fyi': 3784,\n",
              " 'cadfyi': 1371,\n",
              " 'property': 7617,\n",
              " 'st': 9134,\n",
              " 'twin': 10095,\n",
              " 'survive': 9419,\n",
              " 'first': 3511,\n",
              " 'day': 2344,\n",
              " 'high': 4379,\n",
              " 'school': 8469,\n",
              " 'they': 9692,\n",
              " 'to': 9813,\n",
              " 'great': 4045,\n",
              " 'makinmemorie': 5809,\n",
              " 'people': 7198,\n",
              " 'sydney': 9470,\n",
              " 'wake': 10495,\n",
              " 'whole': 10680,\n",
              " 'sky': 8838,\n",
              " 'red': 7899,\n",
              " 'dust': 2872,\n",
              " 'stormlike': 9240,\n",
              " 'unreal': 10224,\n",
              " 'come': 1901,\n",
              " 'bluebell': 1055,\n",
              " 'enbot': 3054,\n",
              " 'mess': 6044,\n",
              " 'explode': 3271,\n",
              " 'factory': 3325,\n",
              " 'press': 7538,\n",
              " 'design': 2508,\n",
              " 'onto': 6872,\n",
              " 'tshirt': 10036,\n",
              " 'electrocute': 2987,\n",
              " 'dt': 2837,\n",
              " 'faulty': 3395,\n",
              " 'ground': 4081,\n",
              " 'boss': 1121,\n",
              " 'dock': 2706,\n",
              " 'pay': 7156,\n",
              " 'er': 3137,\n",
              " 'worstsummerjob': 10817,\n",
              " 'see': 8532,\n",
              " 'tryna': 10030,\n",
              " 'ruin': 8293,\n",
              " 'perceive': 7204,\n",
              " 'burn': 1315,\n",
              " 'faintly': 3332,\n",
              " 'like': 5557,\n",
              " 'sputter': 9118,\n",
              " 'candle': 1434,\n",
              " 'vast': 10350,\n",
              " 'desolate': 2512,\n",
              " 'glaci': 3923,\n",
              " 'eternity': 3172,\n",
              " 'sister': 8801,\n",
              " 'gyrsi': 4146,\n",
              " 'goddess': 3962,\n",
              " 'sweet': 9453,\n",
              " 'collapse': 1863,\n",
              " 'knee': 5288,\n",
              " 'buckle': 1272,\n",
              " 'ooc': 6874,\n",
              " 'subject': 9314,\n",
              " 'unwarranted': 10242,\n",
              " 'sexual': 8623,\n",
              " 'conversation': 2040,\n",
              " 'hot': 4516,\n",
              " 'funtenna': 3769,\n",
              " 'hijacking': 4390,\n",
              " 'computer': 1955,\n",
              " 'send': 8569,\n",
              " 'datum': 2335,\n",
              " 'sound': 9018,\n",
              " 'black': 999,\n",
              " 'hat': 4251,\n",
              " 'prebreak': 7497,\n",
              " 'bombing': 1093,\n",
              " 'suru': 9415,\n",
              " 'turkey': 10067,\n",
              " 'launches': 5427,\n",
              " 'airstrike': 193,\n",
              " 'isil': 4942,\n",
              " 'kurdistan': 5337,\n",
              " 'workers': 10793,\n",
              " 'party': 7123,\n",
              " 'camp': 1414,\n",
              " 'iraq': 4920,\n",
              " 'kurd': 5335,\n",
              " 'turkish': 10068,\n",
              " 'soldier': 8964,\n",
              " 'shouout': 8713,\n",
              " 'cause': 1538,\n",
              " 'vocal': 10454,\n",
              " 'blaze': 1015,\n",
              " 'weather': 10593,\n",
              " 'she': 8667,\n",
              " 'load': 5628,\n",
              " 'shed': 8669,\n",
              " 'permanently': 7219,\n",
              " 'live': 5599,\n",
              " 'etc': 3170,\n",
              " 'firefigther': 3501,\n",
              " 'evacuate': 3190,\n",
              " 'northampton': 6647,\n",
              " 'township': 9899,\n",
              " 'house': 4523,\n",
              " 'usama': 10278,\n",
              " 'bin': 967,\n",
              " 'ladin': 5360,\n",
              " 'family': 3349,\n",
              " 'airplane': 191,\n",
              " 'crash': 2146,\n",
              " 'naturally': 6462,\n",
              " 'rainstorm': 7780,\n",
              " 'huge': 4546,\n",
              " 'football': 3605,\n",
              " 'fan': 3354,\n",
              " 'do': 2703,\n",
              " 'fantasy': 3364,\n",
              " 'league': 5451,\n",
              " 'patience': 7139,\n",
              " 'newbie': 6531,\n",
              " 'save': 8436,\n",
              " 'city': 1744,\n",
              " 'old': 6833,\n",
              " 'town': 9898,\n",
              " 'propose': 7623,\n",
              " 'demolition': 2458,\n",
              " 'burton': 1323,\n",
              " 'dog': 2715,\n",
              " 'kennel': 5220,\n",
              " 'bloody': 1041,\n",
              " 'yorkshire': 10950,\n",
              " 'terrorist': 9628,\n",
              " 'angry': 351,\n",
              " 'woman': 10777,\n",
              " 'openly': 6890,\n",
              " 'accuse': 52,\n",
              " 'nema': 6509,\n",
              " 'steal': 9187,\n",
              " 'relief': 7967,\n",
              " 'material': 5924,\n",
              " 'mean': 5974,\n",
              " 'idps': 4633,\n",
              " 'internally': 4865,\n",
              " 'displace': 2658,\n",
              " 'wom': 10776,\n",
              " 'run': 8302,\n",
              " 'choice': 1695,\n",
              " 'rembr': 7976,\n",
              " 'there': 9687,\n",
              " 'wear': 10592,\n",
              " 'vest': 10381,\n",
              " 'snap': 8914,\n",
              " 'tool': 9849,\n",
              " 'baseball': 778,\n",
              " 'hatcap': 4252,\n",
              " 'silvergray': 8762,\n",
              " 'embroider': 3023,\n",
              " 'logo': 5649,\n",
              " 'full': 3755,\n",
              " 'yo': 10941,\n",
              " 'timeline': 9781,\n",
              " 'damn': 2305,\n",
              " 'fast': 3379,\n",
              " 'goulburn': 4005,\n",
              " 'man': 5820,\n",
              " 'henry': 4348,\n",
              " 'van': 10334,\n",
              " 'bilsen': 966,\n",
              " 'miss': 6184,\n",
              " 'service': 8600,\n",
              " 'search': 8512,\n",
              " 'disappear': 2618,\n",
              " 'his': 4421,\n",
              " 'redskin': 7917,\n",
              " 'wr': 10831,\n",
              " 'roberts': 8183,\n",
              " 'bellybombe': 877,\n",
              " 'expert': 3264,\n",
              " 'raw': 7823,\n",
              " 'uranium': 10262,\n",
              " 'nuclear': 6700,\n",
              " 'reactor': 7842,\n",
              " 'fuel': 3749,\n",
              " 'rod': 8200,\n",
              " 'different': 2587,\n",
              " 'creature': 2162,\n",
              " 'environment': 3112,\n",
              " 'canada': 1424,\n",
              " 'confirm': 1980,\n",
              " 'tornado': 9863,\n",
              " 'touch': 9885,\n",
              " 'last': 5406,\n",
              " 'weekend': 10608,\n",
              " 'rescue': 8029,\n",
              " 'med': 5984,\n",
              " 'migrant': 6113,\n",
              " 'sicily': 8733,\n",
              " 'hundred': 4565,\n",
              " 'usgs': 10288,\n",
              " 'eq': 3129,\n",
              " 'volcano': 10462,\n",
              " 'hawaii': 4265,\n",
              " 'earthquake': 2902,\n",
              " 'angela': 345,\n",
              " 'sanders': 8395,\n",
              " 'bear': 824,\n",
              " 'roundhouse': 8253,\n",
              " 'kick': 5244,\n",
              " 'relate': 7957,\n",
              " 'death': 2369,\n",
              " 'increase': 4723,\n",
              " 'percent': 7205,\n",
              " 'nowplaying': 6687,\n",
              " 'rene': 7993,\n",
              " 'ablaze': 21,\n",
              " 'ian': 4599,\n",
              " 'buff': 1281,\n",
              " 'magnitude': 5785,\n",
              " 'edm': 2940,\n",
              " 'sadly': 8344,\n",
              " 'cop': 2057,\n",
              " 'we': 10584,\n",
              " 'dollar': 2720,\n",
              " 'movie': 6333,\n",
              " 'murder': 6380,\n",
              " 'make': 5806,\n",
              " 'omron': 6850,\n",
              " 'automatic': 631,\n",
              " 'pressure': 7539,\n",
              " 'monitor': 6255,\n",
              " 'standard': 9153,\n",
              " 'large': 5401,\n",
              " 'bp': 1149,\n",
              " 'cuff': 2232,\n",
              " 'thursday': 9760,\n",
              " 'update': 10245,\n",
              " 'kml': 5287,\n",
              " 'seismic': 8544,\n",
              " 'exploration': 3274,\n",
              " 'vessel': 10380,\n",
              " 'offshore': 6797,\n",
              " 'oil': 6815,\n",
              " 'pete': 7241,\n",
              " 'pass': 7125,\n",
              " 'really': 7859,\n",
              " 'mid': 6098,\n",
              " 'month': 6265,\n",
              " 'frisco': 3723,\n",
              " 'boy': 1144,\n",
              " 'scout': 8489,\n",
              " 'canoe': 1440,\n",
              " 'okla': 6825,\n",
              " 'striked': 9276,\n",
              " 'would': 10820,\n",
              " 'otm': 6960,\n",
              " 'could': 2103,\n",
              " 'fall': 3340,\n",
              " 'hmm': 4436,\n",
              " 'nigerian': 6569,\n",
              " 'refugee': 7930,\n",
              " 'repatriate': 8004,\n",
              " 'cameroon': 1412,\n",
              " 'firefighter': 3499,\n",
              " 'battle': 798,\n",
              " 'east': 2906,\n",
              " 'cary': 1508,\n",
              " 'condo': 1972,\n",
              " 'building': 1290,\n",
              " 'late': 5409,\n",
              " 'raze': 7828,\n",
              " 'northern': 6649,\n",
              " 'california': 1397,\n",
              " 'wildfire': 10702,\n",
              " 'abc': 14,\n",
              " 'news': 6538,\n",
              " 'gn': 3953,\n",
              " 'obama': 6737,\n",
              " 'declare': 2387,\n",
              " 'disaster': 2622,\n",
              " 'typhoondevastate': 10115,\n",
              " 'saipan': 8358,\n",
              " 'sign': 8748,\n",
              " 'declaration': 2386,\n",
              " 'marian': 5868,\n",
              " 'something': 8978,\n",
              " 'actually': 82,\n",
              " 'good': 3979,\n",
              " 'call': 1400,\n",
              " 'tomorrow': 9839,\n",
              " 'aul': 608,\n",
              " 'dental': 2474,\n",
              " 'appointment': 434,\n",
              " 'excuse': 3240,\n",
              " 'tooth': 9852,\n",
              " 'incident': 4714,\n",
              " 'remember': 7978,\n",
              " 'massacre': 5905,\n",
              " 'civilians': 1750,\n",
              " 'hiroshima': 4416,\n",
              " 'not': 6662,\n",
              " 'panik': 7078,\n",
              " 'kelbytomlinson': 5214,\n",
              " 'photo': 7266,\n",
              " 'rage': 7767,\n",
              " 'manchester': 5824,\n",
              " 'happy': 4213,\n",
              " 'birthday': 984,\n",
              " 'big': 947,\n",
              " 'girl': 3915,\n",
              " 'hope': 4497,\n",
              " 'carful': 1478,\n",
              " 'spotting': 9101,\n",
              " 'damage': 2298,\n",
              " 'time': 9779,\n",
              " 'check': 1642,\n",
              " 'baggage': 707,\n",
              " 'loss': 5688,\n",
              " 'wy': 10876,\n",
              " 'trafford': 9921,\n",
              " 'centre': 1574,\n",
              " 'film': 3473,\n",
              " 'odeon': 6777,\n",
              " 'cinema': 1729,\n",
              " 'follow': 3588,\n",
              " 'false': 3344,\n",
              " 'alarm': 210,\n",
              " 'obstacle': 6756,\n",
              " 'front': 3726,\n",
              " 'euro': 3182,\n",
              " 'dontexpectnothe': 2736,\n",
              " 'july': 5130,\n",
              " 'japan': 5015,\n",
              " 'fuso': 3776,\n",
              " 'class': 1763,\n",
              " 'battleship': 801,\n",
              " 'yamashiro': 10905,\n",
              " 'naval': 6465,\n",
              " 'cover': 2122,\n",
              " 'cachet': 1367,\n",
              " 'sink': 8787,\n",
              " 'wwii': 10871,\n",
              " 'stretcher': 9271,\n",
              " 'min': 6129,\n",
              " 'speaker': 9051,\n",
              " 'deck': 2384,\n",
              " 'reddit': 7904,\n",
              " 'quarantine': 7722,\n",
              " 'offensive': 6784,\n",
              " 'content': 2019,\n",
              " 'buy': 1347,\n",
              " 'ticket': 9767,\n",
              " 'bed': 845,\n",
              " 'dude': 2851,\n",
              " 'bro': 1223,\n",
              " 'iii': 4651,\n",
              " 'ignition': 4645,\n",
              " 'knock': 5296,\n",
              " 'detonation': 2538,\n",
              " 'sensorsenso': 8575,\n",
              " 'rite': 8159,\n",
              " 'tlk': 9804,\n",
              " 'widout': 10693,\n",
              " 'nuh': 6707,\n",
              " 'side': 8735,\n",
              " 'aka': 198,\n",
              " 'cum': 2237,\n",
              " 'fi': 3450,\n",
              " 'di': 2562,\n",
              " 'itz': 4971,\n",
              " 'rubbery': 8285,\n",
              " 'dem': 2446,\n",
              " 'knw': 5305,\n",
              " 'music': 6389,\n",
              " 'someone': 8976,\n",
              " 'walk': 10501,\n",
              " 'dq': 2779,\n",
              " 'wanna': 10509,\n",
              " 'butterfinger': 1343,\n",
              " 'blizzard': 1031,\n",
              " 'panic': 7077,\n",
              " 'tired': 9793,\n",
              " 'sleep': 8863,\n",
              " 'cricket': 2174,\n",
              " 'score': 8482,\n",
              " 'match': 5919,\n",
              " 'international': 4867,\n",
              " 'domestic': 2724,\n",
              " 'team': 9566,\n",
              " 'tour': 9890,\n",
              " 'squad': 9121,\n",
              " 'profile': 7593,\n",
              " 'lamha': 5374,\n",
              " 'ba': 675,\n",
              " 'realckt': 7852,\n",
              " 'us': 10274,\n",
              " 'national': 6453,\n",
              " 'park': 7105,\n",
              " 'tonto': 9845,\n",
              " 'forest': 3622,\n",
              " 'stop': 9230,\n",
              " 'annihilation': 364,\n",
              " 'salt': 8370,\n",
              " 'river': 8164,\n",
              " 'horse': 4510,\n",
              " 'ahrary': 177,\n",
              " 'control': 2035,\n",
              " 'part': 7113,\n",
              " 'state': 9174,\n",
              " 'troubling': 10010,\n",
              " 'goldrush': 3973,\n",
              " 'hate': 4255,\n",
              " 'white': 10671,\n",
              " 'mo': 6218,\n",
              " 'price': 7555,\n",
              " 'rd': 7833,\n",
              " 'north': 6646,\n",
              " 'bind': 968,\n",
              " 'closed': 1797,\n",
              " 'university': 10209,\n",
              " 'rio': 8148,\n",
              " 'salado': 8362,\n",
              " 'lot': 5689,\n",
              " 'police': 7398,\n",
              " 'what': 10650,\n",
              " 'crackin': 2139,\n",
              " 'violent': 10428,\n",
              " 'video': 10406,\n",
              " 'ukraine': 10137,\n",
              " 'rioter': 8151,\n",
              " 'brutally': 1258,\n",
              " 'beat': 829,\n",
              " 'storm': 9237,\n",
              " 'local': 5635,\n",
              " 'admin': 102,\n",
              " 'fight': 3463,\n",
              " 'back': 683,\n",
              " 'ted': 9584,\n",
              " 'cruz': 2212,\n",
              " 'jeb': 5035,\n",
              " 'bush': 1328,\n",
              " 'lose': 5685,\n",
              " 'republican': 8020,\n",
              " 'mitt': 6199,\n",
              " 'fitness': 3519,\n",
              " 'solution': 8970,\n",
              " 'wow': 10824,\n",
              " 'edwing': 2951,\n",
              " 'bluejay': 1058,\n",
              " 'two': 10103,\n",
              " 'case': 1511,\n",
              " 'constitute': 2005,\n",
              " 'epidemic': 3123,\n",
              " 'plague': 7333,\n",
              " 'health': 4292,\n",
              " 'publichealth': 7664,\n",
              " 'np': 6689,\n",
              " 'metallica': 6052,\n",
              " 'inc': 4711,\n",
              " 'pre': 7494,\n",
              " 'he': 4280,\n",
              " 'dick': 2573,\n",
              " 'thunder': 9752,\n",
              " 'typhoon': 10114,\n",
              " 'soudelor': 9014,\n",
              " 'capture': 1460,\n",
              " 'incredible': 4725,\n",
              " 'nasa': 6446,\n",
              " 'way': 10568,\n",
              " 'taiwan': 9502,\n",
              " 'oak': 6734,\n",
              " 'snowstorm': 8930,\n",
              " 'take': 9504,\n",
              " 'winter': 10735,\n",
              " 'southdown': 9028,\n",
              " 'hampshire': 4189,\n",
              " 'photography': 7270,\n",
              " 'art': 504,\n",
              " 'tree': 9963,\n",
              " 'treeporn': 9964,\n",
              " 'beautiful': 833,\n",
              " 'avalanche': 638,\n",
              " 'faith': 3337,\n",
              " 'akito': 200,\n",
              " 'rose': 8240,\n",
              " 'lots': 5691,\n",
              " 'frothy': 3730,\n",
              " 'gyp': 4144,\n",
              " 'weddinghour': 10600,\n",
              " 'spectacular': 9066,\n",
              " 'stonewall': 9228,\n",
              " 'mary': 5899,\n",
              " 'beet': 851,\n",
              " 'juice': 5125,\n",
              " 'today': 9815,\n",
              " 'read': 7844,\n",
              " 'warne': 10528,\n",
              " 'shock': 8697,\n",
              " 'australias': 618,\n",
              " 'epic': 3120,\n",
              " 'trent': 9973,\n",
              " 'bridge': 1196,\n",
              " 'johannesburg': 5081,\n",
              " 'aug': 606,\n",
              " 'ani': 352,\n",
              " 'australian': 617,\n",
              " 'isai': 4936,\n",
              " 'psm': 7649,\n",
              " 'every': 3206,\n",
              " 'conspiracy': 2002,\n",
              " 'lifting': 5546,\n",
              " 'scatter': 8459,\n",
              " 'unto': 10239,\n",
              " 'desolation': 2513,\n",
              " 'jesus': 5050,\n",
              " 'pic': 7277,\n",
              " 'pkk': 7329,\n",
              " 'detonate': 2535,\n",
              " 'army': 489,\n",
              " 'trench': 9971,\n",
              " 'release': 7964,\n",
              " 'action': 71,\n",
              " 'ferguson': 3437,\n",
              " 'upheaval': 10248,\n",
              " 'riyadh': 8166,\n",
              " 'casualty': 1520,\n",
              " 'aid': 180,\n",
              " 'tweet': 10084,\n",
              " 'grow': 4084,\n",
              " 'david': 2339,\n",
              " 'lightning': 5553,\n",
              " 'strike': 9275,\n",
              " 'distance': 2669,\n",
              " 'rpic': 8267,\n",
              " 'fact': 3321,\n",
              " 'atomic': 579,\n",
              " 'little': 5596,\n",
              " 'fat': 3382,\n",
              " 'say': 8445,\n",
              " 'mentality': 6031,\n",
              " 'sea': 8507,\n",
              " 'hero': 4358,\n",
              " 'war': 10515,\n",
              " 'ppl': 7480,\n",
              " 'sorry': 9007,\n",
              " 'sex': 8621,\n",
              " 'change': 1609,\n",
              " 'let': 5506,\n",
              " 'many': 5853,\n",
              " 'thing': 9700,\n",
              " 'smh': 8897,\n",
              " 'joke': 5088,\n",
              " 'wood': 10785,\n",
              " 'inning': 4806,\n",
              " 'often': 6803,\n",
              " 'cubstalk': 2228,\n",
              " 'nochilllukehamming': 6609,\n",
              " 'scream': 8493,\n",
              " 'femas': 3433,\n",
              " 'center': 1571,\n",
              " 'preparedness': 7522,\n",
              " 'weeklong': 10609,\n",
              " 'training': 9928,\n",
              " 'chemical': 1651,\n",
              " 'biological': 974,\n",
              " 'radioactive': 7761,\n",
              " 'response': 8054,\n",
              " 'tribal': 9982,\n",
              " 'olap': 6832,\n",
              " 'recognize': 7884,\n",
              " 'hazardous': 4273,\n",
              " 'waste': 10548,\n",
              " 'multidimensi': 6368,\n",
              " 'enugu': 3110,\n",
              " 'government': 4009,\n",
              " 'appear': 425,\n",
              " 'set': 8604,\n",
              " 'recover': 7892,\n",
              " 'portion': 7437,\n",
              " 'conference': 1977,\n",
              " 'ce': 1556,\n",
              " 'badotweet': 699,\n",
              " 'arsonist': 503,\n",
              " 'mc': 5954,\n",
              " 'impress': 4699,\n",
              " 'play': 7350,\n",
              " 'hearthstone': 4304,\n",
              " 'pc': 7166,\n",
              " 'thought': 9723,\n",
              " 'mortal': 6295,\n",
              " 'kombat': 5309,\n",
              " 'fatality': 3385,\n",
              " 'gross': 4080,\n",
              " 'interesting': 4858,\n",
              " 'smoke': 8901,\n",
              " 'mf': 6072,\n",
              " 'public': 7662,\n",
              " 'appreciativeinquiry': 437,\n",
              " 'turn': 10071,\n",
              " 'around': 492,\n",
              " 'omg': 6848,\n",
              " 'believe': 871,\n",
              " 'rip': 8153,\n",
              " 'jetengine': 5053,\n",
              " 'turbojet': 10066,\n",
              " 'boing': 1080,\n",
              " 'thousand': 9725,\n",
              " 'attend': 586,\n",
              " 'rally': 7786,\n",
              " 'organize': 6934,\n",
              " 'peace': 7171,\n",
              " 'protest': 7633,\n",
              " 'arson': 502,\n",
              " 'nearly': 6489,\n",
              " 'double': 2759,\n",
              " 'all': 240,\n",
              " 'pusssssssssy': 7704,\n",
              " 'shoook': 8700,\n",
              " 'add': 90,\n",
              " 'playlist': 7355,\n",
              " 'disco': 2629,\n",
              " 'collar': 1865,\n",
              " 'audio': 604,\n",
              " 'cannon': 1439,\n",
              " 'ball': 726,\n",
              " 'ocean': 6767,\n",
              " 'almost': 262,\n",
              " 'amazing': 287,\n",
              " 'idea': 4619,\n",
              " 'obligatory': 6746,\n",
              " 'middle': 6099,\n",
              " 'night': 6575,\n",
              " 'wreck': 10836,\n",
              " 'asleep': 537,\n",
              " 'injure': 4798,\n",
              " 'madhya': 5768,\n",
              " 'pradesh': 7489,\n",
              " 'derailment': 2495,\n",
              " 'jfb': 5059,\n",
              " 'tfb': 9645,\n",
              " 'correction': 2081,\n",
              " 'tent': 9618,\n",
              " 'story': 9242,\n",
              " 'smantibatam': 8887,\n",
              " 'crime': 2175,\n",
              " 'right': 8138,\n",
              " 'punishable': 7688,\n",
              " 'near': 6487,\n",
              " 'la': 5347,\n",
              " 'ronge': 8229,\n",
              " 'sask': 8417,\n",
              " 'jonathan': 5092,\n",
              " 'move': 6329,\n",
              " 'hijack': 4387,\n",
              " 'apc': 409,\n",
              " 'bayelsastate': 804,\n",
              " 'ill': 4656,\n",
              " 'bet': 915,\n",
              " 'aftershock': 151,\n",
              " 'initial': 4794,\n",
              " 'offensivecontent': 6785,\n",
              " 'eyewitness': 3309,\n",
              " 'account': 49,\n",
              " 'circular': 1736,\n",
              " 'nowplaye': 6686,\n",
              " 'plot': 7369,\n",
              " 'futurea': 3778,\n",
              " 'totalitarian': 9879,\n",
              " 'employ': 3043,\n",
              " 'force': 3613,\n",
              " 'fireman': 3502,\n",
              " 'seek': 8534,\n",
              " 'destroy': 2524,\n",
              " 'literature': 5593,\n",
              " 'sue': 9336,\n",
              " 'legionnaires': 5474,\n",
              " 'disease': 2639,\n",
              " 'outbreak': 6972,\n",
              " 'edinburgh': 2934,\n",
              " 'bbc': 807,\n",
              " 'pick': 7278,\n",
              " 'beyhive': 922,\n",
              " 'chart': 1634,\n",
              " 'prove': 7637,\n",
              " 'financial': 3481,\n",
              " 'begin': 856,\n",
              " 'armageddon': 485,\n",
              " 'economic': 2924,\n",
              " 'blog': 1036,\n",
              " 'track': 9909,\n",
              " 'tren': 9970,\n",
              " 'may': 5941,\n",
              " 'microsoft': 6096,\n",
              " 'anti': 381,\n",
              " 'virus': 10437,\n",
              " 'meltdown': 6014,\n",
              " 'interview': 4880,\n",
              " 'materialism': 5925,\n",
              " 'talkradio': 9519,\n",
              " 'listen': 5584,\n",
              " 'explosion': 3276,\n",
              " 'western': 10632,\n",
              " 'germany': 3879,\n",
              " 'brant': 1163,\n",
              " 'av': 635,\n",
              " 'drummond': 2830,\n",
              " 'structure': 9287,\n",
              " 'single': 8783,\n",
              " 'unit': 10203,\n",
              " 'car': 1462,\n",
              " 'truck': 10016,\n",
              " 'free': 3684,\n",
              " 'porn': 7429,\n",
              " 'clip': 1790,\n",
              " 'hostage': 4515,\n",
              " 'dangerous': 2315,\n",
              " 'favor': 3398,\n",
              " 'rt': 8277,\n",
              " 'adult': 111,\n",
              " 'tube': 10047,\n",
              " 'yobe': 10942,\n",
              " 'theatre': 9669,\n",
              " 'another': 373,\n",
              " 'zehr': 10990,\n",
              " 'keep': 5205,\n",
              " 'working': 10794,\n",
              " 'minute': 6164,\n",
              " 'decide': 2382,\n",
              " 'everyone': 3209,\n",
              " 'scary': 8457,\n",
              " 'far': 3366,\n",
              " 'rocky': 8198,\n",
              " 'picking': 7281,\n",
              " 'body': 1074,\n",
              " 'water': 10556,\n",
              " 'rescuer': 8032,\n",
              " 'mediterran': 5996,\n",
              " 'member': 6016,\n",
              " 'osama': 6948,\n",
              " 'laden': 5359,\n",
              " 'die': 2577,\n",
              " 'ironic': 4929,\n",
              " 'mhmmm': 6082,\n",
              " 'gov': 4006,\n",
              " 'shit': 8693,\n",
              " 'suspect': 9425,\n",
              " 'charge': 1618,\n",
              " 'inevitable': 4764,\n",
              " 'rioting': 8152,\n",
              " 'contribute': 2031,\n",
              " 'lie': 5535,\n",
              " 'blitz': 1030,\n",
              " 'traverse': 9954,\n",
              " 'disrupt': 2665,\n",
              " 'management': 5822,\n",
              " 'briefing': 1201,\n",
              " 'seminar': 8565,\n",
              " 'summer': 9353,\n",
              " 'tra': 9907,\n",
              " 'feel': 3423,\n",
              " 'idk': 4627,\n",
              " 'result': 8067,\n",
              " 'week': 10607,\n",
              " 'alarmingly': 214,\n",
              " 'calm': 1402,\n",
              " 'auz': 634,\n",
              " 'pm': 7377,\n",
              " 'cst': 2219,\n",
              " 'hrs': 4532,\n",
              " 'rock': 8191,\n",
              " 'hump': 4562,\n",
              " 'complete': 1945,\n",
              " 'las': 5403,\n",
              " 'vegas': 10357,\n",
              " 'top': 9854,\n",
              " 'redlight': 7915,\n",
              " 'be': 819,\n",
              " 'anniversary': 365,\n",
              " 'current': 2251,\n",
              " 'president': 7534,\n",
              " 'help': 4337,\n",
              " 'nation': 6452,\n",
              " 'acquire': 62,\n",
              " 'weapon': 10591,\n",
              " 'traitor': 9929,\n",
              " 'nice': 6563,\n",
              " 'illegal': 4657,\n",
              " 'alien': 235,\n",
              " 'obamadhs': 6738,\n",
              " 'rape': 7805,\n",
              " 'santa': 8407,\n",
              " 'maria': 5866,\n",
              " 'ca': 1358,\n",
              " 'prior': 7566,\n",
              " 'offense': 6783,\n",
              " 'checkout': 1644,\n",
              " 'nurgle': 6711,\n",
              " 'rule': 8295,\n",
              " ...}"
            ]
          },
          "metadata": {},
          "execution_count": 115
        }
      ]
    },
    {
      "cell_type": "code",
      "source": [
        "#x_train_tfidf.toarray()"
      ],
      "metadata": {
        "id": "8hoCg37owszq"
      },
      "execution_count": null,
      "outputs": []
    },
    {
      "cell_type": "code",
      "source": [
        "model = MultinomialNB()\n",
        "model.fit(x_train_tfidf.toarray(), y_train)\n",
        "\n",
        "predict = model.predict(x_val_tfidf.toarray())\n",
        "print(f\"base accuracy = {accuracy_score(y_val, predict):.2f}\")\n"
      ],
      "metadata": {
        "colab": {
          "base_uri": "https://localhost:8080/"
        },
        "id": "CmJ2TJ7ks2T1",
        "outputId": "f37efed8-432c-448a-e4b2-5aae2fdd676c"
      },
      "execution_count": null,
      "outputs": [
        {
          "output_type": "stream",
          "name": "stdout",
          "text": [
            "base accuracy = 0.81\n"
          ]
        }
      ]
    },
    {
      "cell_type": "code",
      "source": [
        "predict[-1], x_val.to_list()[-1]"
      ],
      "metadata": {
        "colab": {
          "base_uri": "https://localhost:8080/"
        },
        "id": "ziBu88Pk5aM9",
        "outputId": "c876a970-ebcf-4a2d-f083-965873aeab95"
      },
      "execution_count": null,
      "outputs": [
        {
          "output_type": "execute_result",
          "data": {
            "text/plain": [
              "(0,\n",
              " 'recommend anyone job rn emergency service full time rise de lima campus hiring')"
            ]
          },
          "metadata": {},
          "execution_count": 118
        }
      ]
    },
    {
      "cell_type": "code",
      "source": [
        "predict"
      ],
      "metadata": {
        "colab": {
          "base_uri": "https://localhost:8080/"
        },
        "id": "_JuT-WC_48Zl",
        "outputId": "4e754144-efd9-489d-b32c-5713d68f01a1"
      },
      "execution_count": null,
      "outputs": [
        {
          "output_type": "execute_result",
          "data": {
            "text/plain": [
              "array([0, 0, 0, ..., 0, 1, 0])"
            ]
          },
          "metadata": {},
          "execution_count": 119
        }
      ]
    },
    {
      "cell_type": "code",
      "source": [
        "import numpy as np\n",
        "import matplotlib.pyplot as plt\n",
        "\n",
        "\n",
        "def plot_most_frequency_words(vect, data):\n",
        "  # zipping actual words and sum of their Tfidf for corpus\n",
        "  features_rank = list(zip(vect.get_feature_names_out(), [x[0] for x in data.sum(axis=0).T.tolist()]))\n",
        "\n",
        "  # sorting\n",
        "  features_rank = np.array(sorted(features_rank, key=lambda x:x[1], reverse=True))\n",
        "\n",
        "  n = 10\n",
        "  plt.figure(figsize=(5, 10))\n",
        "  plt.barh(-np.arange(n), features_rank[:n, 1].astype(float), height=.8)\n",
        "  plt.yticks(ticks=-np.arange(n), labels=features_rank[:n, 0])\n",
        "  plt.title('Most frequent words')\n",
        "  plt.show()"
      ],
      "metadata": {
        "id": "xEWt4gnYuFSr"
      },
      "execution_count": null,
      "outputs": []
    },
    {
      "cell_type": "code",
      "source": [
        "def get_most_frequent_words(vect, tfidf_data, n = 10):\n",
        "    scores = zip(vect.get_feature_names_out(),\n",
        "                 np.asarray(tfidf_data.sum(axis=0)).ravel())\n",
        "    sorted_scores = sorted(scores, key=lambda x: x[1], reverse=True)\n",
        "    return sorted_scores[:n]\n"
      ],
      "metadata": {
        "id": "ALsZDKpT3QJa"
      },
      "execution_count": null,
      "outputs": []
    },
    {
      "cell_type": "code",
      "source": [
        "plot_most_frequency_words(vectorizer, x_train_tfidf)\n"
      ],
      "metadata": {
        "colab": {
          "base_uri": "https://localhost:8080/",
          "height": 853
        },
        "id": "lgkms1oVxmek",
        "outputId": "1a8937ba-0b7a-46cd-ddad-061602e3dc72"
      },
      "execution_count": null,
      "outputs": [
        {
          "output_type": "display_data",
          "data": {
            "text/plain": [
              "<Figure size 500x1000 with 1 Axes>"
            ],
            "image/png": "[encoded data removed]"
          },
          "metadata": {}
        }
      ]
    },
    {
      "cell_type": "code",
      "source": [
        "most_fr_words = get_most_frequent_words(vectorizer, x_train_tfidf)\n",
        "print(pd.DataFrame (most_fr_words, columns=['word', 'score']))\n"
      ],
      "metadata": {
        "colab": {
          "base_uri": "https://localhost:8080/"
        },
        "id": "0ckFRgkN4PYw",
        "outputId": "74cc8a0c-9870-4516-b75d-7a804d4e39b0"
      },
      "execution_count": null,
      "outputs": [
        {
          "output_type": "stream",
          "name": "stdout",
          "text": [
            "     word      score\n",
            "0     not  76.386092\n",
            "1     get  69.805766\n",
            "2    like  63.978570\n",
            "3    fire  60.109514\n",
            "4      go  55.082286\n",
            "5      do  49.093983\n",
            "6     amp  45.447592\n",
            "7     via  40.245476\n",
            "8     new  39.189953\n",
            "9  scream  36.568257\n"
          ]
        }
      ]
    },
    {
      "cell_type": "code",
      "source": [
        "pd.DataFrame (most_fr_words, columns=['word', 'score']).plot(x='word', y='score', kind='barh', figsize=(10, 10))\n",
        "\n"
      ],
      "metadata": {
        "colab": {
          "base_uri": "https://localhost:8080/",
          "height": 847
        },
        "id": "MEqa9-nb4vMm",
        "outputId": "a122868a-d5aa-4b05-a6e2-9e7b7dba8f30"
      },
      "execution_count": null,
      "outputs": [
        {
          "output_type": "execute_result",
          "data": {
            "text/plain": [
              "<Axes: ylabel='word'>"
            ]
          },
          "metadata": {},
          "execution_count": 124
        },
        {
          "output_type": "display_data",
          "data": {
            "text/plain": [
              "<Figure size 1000x1000 with 1 Axes>"
            ],
            "image/png": "[encoded data removed]"
          },
          "metadata": {}
        }
      ]
    },
    {
      "cell_type": "code",
      "source": [
        "from sklearn.metrics import precision_score, recall_score, f1_score\n",
        "\n",
        "\n",
        "def get_scale_metrics(y_true, y_predict):\n",
        "    accuracy = accuracy_score(y_true, y_predict)\n",
        "    precision = precision_score(y_true, y_predict)\n",
        "    recall = recall_score(y_true, y_predict)\n",
        "    f1 = f1_score(y_true, y_predict)\n",
        "\n",
        "    return {\"accuracy\": accuracy, \"precision\":precision, \"recall\":recall, \"f1\":f1}"
      ],
      "metadata": {
        "id": "kptIXCmT4xW7"
      },
      "execution_count": null,
      "outputs": []
    },
    {
      "cell_type": "code",
      "source": [
        "print(get_scale_metrics(y_val, predict))"
      ],
      "metadata": {
        "colab": {
          "base_uri": "https://localhost:8080/"
        },
        "id": "_LJYX7OS-8Ny",
        "outputId": "e2255efa-3a04-4980-c21a-81ae9eaa479e"
      },
      "execution_count": null,
      "outputs": [
        {
          "output_type": "stream",
          "name": "stdout",
          "text": [
            "{'accuracy': 0.8128693368351937, 'precision': 0.8683127572016461, 'recall': 0.656298600311042, 'f1': 0.7475642161204606}\n"
          ]
        }
      ]
    },
    {
      "cell_type": "code",
      "source": [
        "from sklearn.metrics import classification_report\n",
        "\n",
        "print(classification_report(y_val, predict))\n"
      ],
      "metadata": {
        "colab": {
          "base_uri": "https://localhost:8080/"
        },
        "id": "uJLJSaPm_HGJ",
        "outputId": "122447fa-4c4c-4960-9a4a-58c6153afab3"
      },
      "execution_count": null,
      "outputs": [
        {
          "output_type": "stream",
          "name": "stdout",
          "text": [
            "              precision    recall  f1-score   support\n",
            "\n",
            "           0       0.79      0.93      0.85       880\n",
            "           1       0.87      0.66      0.75       643\n",
            "\n",
            "    accuracy                           0.81      1523\n",
            "   macro avg       0.83      0.79      0.80      1523\n",
            "weighted avg       0.82      0.81      0.81      1523\n",
            "\n"
          ]
        }
      ]
    },
    {
      "cell_type": "code",
      "source": [
        "(880/1523.0)**2 + (643/1523.0)**2\n"
      ],
      "metadata": {
        "colab": {
          "base_uri": "https://localhost:8080/"
        },
        "id": "iZCdwZlH_NtJ",
        "outputId": "fa0f551a-9473-4901-8ae9-0856c63a2309"
      },
      "execution_count": null,
      "outputs": [
        {
          "output_type": "execute_result",
          "data": {
            "text/plain": [
              "0.512107846032535"
            ]
          },
          "metadata": {},
          "execution_count": 128
        }
      ]
    },
    {
      "cell_type": "markdown",
      "source": [
        "## Create RNN model\n",
        "1. clean text\n",
        "2. split to train/val dataset\n",
        "3. apply TextVectorization\n",
        "4. build model using Embedding and LSTM layers"
      ],
      "metadata": {
        "id": "pC6EwtYDAdQY"
      }
    },
    {
      "cell_type": "code",
      "source": [
        "train_df.head()\n"
      ],
      "metadata": {
        "colab": {
          "base_uri": "https://localhost:8080/",
          "height": 206
        },
        "id": "iMVFG5ztAcgk",
        "outputId": "b9d04a09-3fdd-41a3-b5b4-a8ab115aabc8"
      },
      "execution_count": null,
      "outputs": [
        {
          "output_type": "execute_result",
          "data": {
            "text/plain": [
              "   id keyword location                                               text  \\\n",
              "0   1     NaN      NaN  Our Deeds are the Reason of this #earthquake M...   \n",
              "1   4     NaN      NaN             Forest fire near La Ronge Sask. Canada   \n",
              "2   5     NaN      NaN  All residents asked to 'shelter in place' are ...   \n",
              "3   6     NaN      NaN  13,000 people receive #wildfires evacuation or...   \n",
              "4   7     NaN      NaN  Just got sent this photo from Ruby #Alaska as ...   \n",
              "\n",
              "   target                                             lemmas  \n",
              "0       1        deed reason earthquake may allah forgive we  \n",
              "1       1              forest fire near la ronge sask canada  \n",
              "2       1  resident ask shelter place notify officer evac...  \n",
              "3       1  people receive wildfire evacuation order calif...  \n",
              "4       1  get send photo ruby alaska smoke wildfire pour...  "
            ],
            "text/html": [
              "\n",
              "\n",
              "  <div id=\"df-ed194b48-5656-41b4-9e22-1c372211c236\">\n",
              "    <div class=\"colab-df-container\">\n",
              "      <div>\n",
              "<style scoped>\n",
              "    .dataframe tbody tr th:only-of-type {\n",
              "        vertical-align: middle;\n",
              "    }\n",
              "\n",
              "    .dataframe tbody tr th {\n",
              "        vertical-align: top;\n",
              "    }\n",
              "\n",
              "    .dataframe thead th {\n",
              "        text-align: right;\n",
              "    }\n",
              "</style>\n",
              "<table border=\"1\" class=\"dataframe\">\n",
              "  <thead>\n",
              "    <tr style=\"text-align: right;\">\n",
              "      <th></th>\n",
              "      <th>id</th>\n",
              "      <th>keyword</th>\n",
              "      <th>location</th>\n",
              "      <th>text</th>\n",
              "      <th>target</th>\n",
              "      <th>lemmas</th>\n",
              "    </tr>\n",
              "  </thead>\n",
              "  <tbody>\n",
              "    <tr>\n",
              "      <th>0</th>\n",
              "      <td>1</td>\n",
              "      <td>NaN</td>\n",
              "      <td>NaN</td>\n",
              "      <td>Our Deeds are the Reason of this #earthquake M...</td>\n",
              "      <td>1</td>\n",
              "      <td>deed reason earthquake may allah forgive we</td>\n",
              "    </tr>\n",
              "    <tr>\n",
              "      <th>1</th>\n",
              "      <td>4</td>\n",
              "      <td>NaN</td>\n",
              "      <td>NaN</td>\n",
              "      <td>Forest fire near La Ronge Sask. Canada</td>\n",
              "      <td>1</td>\n",
              "      <td>forest fire near la ronge sask canada</td>\n",
              "    </tr>\n",
              "    <tr>\n",
              "      <th>2</th>\n",
              "      <td>5</td>\n",
              "      <td>NaN</td>\n",
              "      <td>NaN</td>\n",
              "      <td>All residents asked to 'shelter in place' are ...</td>\n",
              "      <td>1</td>\n",
              "      <td>resident ask shelter place notify officer evac...</td>\n",
              "    </tr>\n",
              "    <tr>\n",
              "      <th>3</th>\n",
              "      <td>6</td>\n",
              "      <td>NaN</td>\n",
              "      <td>NaN</td>\n",
              "      <td>13,000 people receive #wildfires evacuation or...</td>\n",
              "      <td>1</td>\n",
              "      <td>people receive wildfire evacuation order calif...</td>\n",
              "    </tr>\n",
              "    <tr>\n",
              "      <th>4</th>\n",
              "      <td>7</td>\n",
              "      <td>NaN</td>\n",
              "      <td>NaN</td>\n",
              "      <td>Just got sent this photo from Ruby #Alaska as ...</td>\n",
              "      <td>1</td>\n",
              "      <td>get send photo ruby alaska smoke wildfire pour...</td>\n",
              "    </tr>\n",
              "  </tbody>\n",
              "</table>\n",
              "</div>\n",
              "      <button class=\"colab-df-convert\" onclick=\"convertToInteractive('df-ed194b48-5656-41b4-9e22-1c372211c236')\"\n",
              "              title=\"Convert this dataframe to an interactive table.\"\n",
              "              style=\"display:none;\">\n",
              "\n",
              "  <svg xmlns=\"http://www.w3.org/2000/svg\" height=\"24px\"viewBox=\"0 0 24 24\"\n",
              "       width=\"24px\">\n",
              "    <path d=\"M0 0h24v24H0V0z\" fill=\"none\"/>\n",
              "    <path d=\"M18.56 5.44l.94 2.06.94-2.06 2.06-.94-2.06-.94-.94-2.06-.94 2.06-2.06.94zm-11 1L8.5 8.5l.94-2.06 2.06-.94-2.06-.94L8.5 2.5l-.94 2.06-2.06.94zm10 10l.94 2.06.94-2.06 2.06-.94-2.06-.94-.94-2.06-.94 2.06-2.06.94z\"/><path d=\"M17.41 7.96l-1.37-1.37c-.4-.4-.92-.59-1.43-.59-.52 0-1.04.2-1.43.59L10.3 9.45l-7.72 7.72c-.78.78-.78 2.05 0 2.83L4 21.41c.39.39.9.59 1.41.59.51 0 1.02-.2 1.41-.59l7.78-7.78 2.81-2.81c.8-.78.8-2.07 0-2.86zM5.41 20L4 18.59l7.72-7.72 1.47 1.35L5.41 20z\"/>\n",
              "  </svg>\n",
              "      </button>\n",
              "\n",
              "\n",
              "\n",
              "    <div id=\"df-8476a32b-833c-4be7-a977-1b7b988409e6\">\n",
              "      <button class=\"colab-df-quickchart\" onclick=\"quickchart('df-8476a32b-833c-4be7-a977-1b7b988409e6')\"\n",
              "              title=\"Suggest charts.\"\n",
              "              style=\"display:none;\">\n",
              "\n",
              "<svg xmlns=\"http://www.w3.org/2000/svg\" height=\"24px\"viewBox=\"0 0 24 24\"\n",
              "     width=\"24px\">\n",
              "    <g>\n",
              "        <path d=\"M19 3H5c-1.1 0-2 .9-2 2v14c0 1.1.9 2 2 2h14c1.1 0 2-.9 2-2V5c0-1.1-.9-2-2-2zM9 17H7v-7h2v7zm4 0h-2V7h2v10zm4 0h-2v-4h2v4z\"/>\n",
              "    </g>\n",
              "</svg>\n",
              "      </button>\n",
              "    </div>\n",
              "\n",
              "<style>\n",
              "  .colab-df-quickchart {\n",
              "    background-color: #E8F0FE;\n",
              "    border: none;\n",
              "    border-radius: 50%;\n",
              "    cursor: pointer;\n",
              "    display: none;\n",
              "    fill: #1967D2;\n",
              "    height: 32px;\n",
              "    padding: 0 0 0 0;\n",
              "    width: 32px;\n",
              "  }\n",
              "\n",
              "  .colab-df-quickchart:hover {\n",
              "    background-color: #E2EBFA;\n",
              "    box-shadow: 0px 1px 2px rgba(60, 64, 67, 0.3), 0px 1px 3px 1px rgba(60, 64, 67, 0.15);\n",
              "    fill: #174EA6;\n",
              "  }\n",
              "\n",
              "  [theme=dark] .colab-df-quickchart {\n",
              "    background-color: #3B4455;\n",
              "    fill: #D2E3FC;\n",
              "  }\n",
              "\n",
              "  [theme=dark] .colab-df-quickchart:hover {\n",
              "    background-color: #434B5C;\n",
              "    box-shadow: 0px 1px 3px 1px rgba(0, 0, 0, 0.15);\n",
              "    filter: drop-shadow(0px 1px 2px rgba(0, 0, 0, 0.3));\n",
              "    fill: #FFFFFF;\n",
              "  }\n",
              "</style>\n",
              "\n",
              "    <script>\n",
              "      async function quickchart(key) {\n",
              "        const containerElement = document.querySelector('#' + key);\n",
              "        const charts = await google.colab.kernel.invokeFunction(\n",
              "            'suggestCharts', [key], {});\n",
              "      }\n",
              "    </script>\n",
              "\n",
              "      <script>\n",
              "\n",
              "function displayQuickchartButton(domScope) {\n",
              "  let quickchartButtonEl =\n",
              "    domScope.querySelector('#df-8476a32b-833c-4be7-a977-1b7b988409e6 button.colab-df-quickchart');\n",
              "  quickchartButtonEl.style.display =\n",
              "    google.colab.kernel.accessAllowed ? 'block' : 'none';\n",
              "}\n",
              "\n",
              "        displayQuickchartButton(document);\n",
              "      </script>\n",
              "      <style>\n",
              "    .colab-df-container {\n",
              "      display:flex;\n",
              "      flex-wrap:wrap;\n",
              "      gap: 12px;\n",
              "    }\n",
              "\n",
              "    .colab-df-convert {\n",
              "      background-color: #E8F0FE;\n",
              "      border: none;\n",
              "      border-radius: 50%;\n",
              "      cursor: pointer;\n",
              "      display: none;\n",
              "      fill: #1967D2;\n",
              "      height: 32px;\n",
              "      padding: 0 0 0 0;\n",
              "      width: 32px;\n",
              "    }\n",
              "\n",
              "    .colab-df-convert:hover {\n",
              "      background-color: #E2EBFA;\n",
              "      box-shadow: 0px 1px 2px rgba(60, 64, 67, 0.3), 0px 1px 3px 1px rgba(60, 64, 67, 0.15);\n",
              "      fill: #174EA6;\n",
              "    }\n",
              "\n",
              "    [theme=dark] .colab-df-convert {\n",
              "      background-color: #3B4455;\n",
              "      fill: #D2E3FC;\n",
              "    }\n",
              "\n",
              "    [theme=dark] .colab-df-convert:hover {\n",
              "      background-color: #434B5C;\n",
              "      box-shadow: 0px 1px 3px 1px rgba(0, 0, 0, 0.15);\n",
              "      filter: drop-shadow(0px 1px 2px rgba(0, 0, 0, 0.3));\n",
              "      fill: #FFFFFF;\n",
              "    }\n",
              "  </style>\n",
              "\n",
              "      <script>\n",
              "        const buttonEl =\n",
              "          document.querySelector('#df-ed194b48-5656-41b4-9e22-1c372211c236 button.colab-df-convert');\n",
              "        buttonEl.style.display =\n",
              "          google.colab.kernel.accessAllowed ? 'block' : 'none';\n",
              "\n",
              "        async function convertToInteractive(key) {\n",
              "          const element = document.querySelector('#df-ed194b48-5656-41b4-9e22-1c372211c236');\n",
              "          const dataTable =\n",
              "            await google.colab.kernel.invokeFunction('convertToInteractive',\n",
              "                                                     [key], {});\n",
              "          if (!dataTable) return;\n",
              "\n",
              "          const docLinkHtml = 'Like what you see? Visit the ' +\n",
              "            '<a target=\"_blank\" href=https://colab.research.google.com/notebooks/data_table.ipynb>data table notebook</a>'\n",
              "            + ' to learn more about interactive tables.';\n",
              "          element.innerHTML = '';\n",
              "          dataTable['output_type'] = 'display_data';\n",
              "          await google.colab.output.renderOutput(dataTable, element);\n",
              "          const docLink = document.createElement('div');\n",
              "          docLink.innerHTML = docLinkHtml;\n",
              "          element.appendChild(docLink);\n",
              "        }\n",
              "      </script>\n",
              "    </div>\n",
              "  </div>\n"
            ]
          },
          "metadata": {},
          "execution_count": 129
        }
      ]
    },
    {
      "cell_type": "code",
      "source": [
        "# clean text\n",
        "train_df['clean_text'] = train_df['text'].apply(lambda x: clean_text(x))\n",
        "\n",
        "print(f'max lenght of text = {max(train_df.text.apply(len))}')\n",
        "print(f'max lenght of clean text = {max(train_df.clean_text.apply(len))}')\n",
        "train_df.head()"
      ],
      "metadata": {
        "colab": {
          "base_uri": "https://localhost:8080/",
          "height": 224
        },
        "id": "gk4780UMreG7",
        "outputId": "bcf4e9c3-1218-472d-8759-fc7ba20985a9"
      },
      "execution_count": null,
      "outputs": [
        {
          "output_type": "stream",
          "name": "stdout",
          "text": [
            "max lenght of text = 138\n"
          ]
        },
        {
          "output_type": "execute_result",
          "data": {
            "text/plain": [
              "   id keyword location                                               text  \\\n",
              "0   1     NaN      NaN  Our Deeds are the Reason of this #earthquake M...   \n",
              "1   4     NaN      NaN             Forest fire near La Ronge Sask. Canada   \n",
              "2   5     NaN      NaN  All residents asked to 'shelter in place' are ...   \n",
              "3   6     NaN      NaN  13,000 people receive #wildfires evacuation or...   \n",
              "4   7     NaN      NaN  Just got sent this photo from Ruby #Alaska as ...   \n",
              "\n",
              "   target                                             lemmas  \\\n",
              "0       1        deed reason earthquake may allah forgive we   \n",
              "1       1              forest fire near la ronge sask canada   \n",
              "2       1  resident ask shelter place notify officer evac...   \n",
              "3       1  people receive wildfire evacuation order calif...   \n",
              "4       1  get send photo ruby alaska smoke wildfire pour...   \n",
              "\n",
              "                                          clean_text  \n",
              "0       deeds reason earthquake may allah forgive us  \n",
              "1              forest fire near la ronge sask canada  \n",
              "2  residents asked shelter place notified officer...  \n",
              "3  people receive wildfires evacuation orders cal...  \n",
              "4  got sent photo ruby alaska smoke wildfires pou...  "
            ],
            "text/html": [
              "\n",
              "\n",
              "  <div id=\"df-8a4580fa-5caf-470b-ae18-1d99880a24bf\">\n",
              "    <div class=\"colab-df-container\">\n",
              "      <div>\n",
              "<style scoped>\n",
              "    .dataframe tbody tr th:only-of-type {\n",
              "        vertical-align: middle;\n",
              "    }\n",
              "\n",
              "    .dataframe tbody tr th {\n",
              "        vertical-align: top;\n",
              "    }\n",
              "\n",
              "    .dataframe thead th {\n",
              "        text-align: right;\n",
              "    }\n",
              "</style>\n",
              "<table border=\"1\" class=\"dataframe\">\n",
              "  <thead>\n",
              "    <tr style=\"text-align: right;\">\n",
              "      <th></th>\n",
              "      <th>id</th>\n",
              "      <th>keyword</th>\n",
              "      <th>location</th>\n",
              "      <th>text</th>\n",
              "      <th>target</th>\n",
              "      <th>lemmas</th>\n",
              "      <th>clean_text</th>\n",
              "    </tr>\n",
              "  </thead>\n",
              "  <tbody>\n",
              "    <tr>\n",
              "      <th>0</th>\n",
              "      <td>1</td>\n",
              "      <td>NaN</td>\n",
              "      <td>NaN</td>\n",
              "      <td>Our Deeds are the Reason of this #earthquake M...</td>\n",
              "      <td>1</td>\n",
              "      <td>deed reason earthquake may allah forgive we</td>\n",
              "      <td>deeds reason earthquake may allah forgive us</td>\n",
              "    </tr>\n",
              "    <tr>\n",
              "      <th>1</th>\n",
              "      <td>4</td>\n",
              "      <td>NaN</td>\n",
              "      <td>NaN</td>\n",
              "      <td>Forest fire near La Ronge Sask. Canada</td>\n",
              "      <td>1</td>\n",
              "      <td>forest fire near la ronge sask canada</td>\n",
              "      <td>forest fire near la ronge sask canada</td>\n",
              "    </tr>\n",
              "    <tr>\n",
              "      <th>2</th>\n",
              "      <td>5</td>\n",
              "      <td>NaN</td>\n",
              "      <td>NaN</td>\n",
              "      <td>All residents asked to 'shelter in place' are ...</td>\n",
              "      <td>1</td>\n",
              "      <td>resident ask shelter place notify officer evac...</td>\n",
              "      <td>residents asked shelter place notified officer...</td>\n",
              "    </tr>\n",
              "    <tr>\n",
              "      <th>3</th>\n",
              "      <td>6</td>\n",
              "      <td>NaN</td>\n",
              "      <td>NaN</td>\n",
              "      <td>13,000 people receive #wildfires evacuation or...</td>\n",
              "      <td>1</td>\n",
              "      <td>people receive wildfire evacuation order calif...</td>\n",
              "      <td>people receive wildfires evacuation orders cal...</td>\n",
              "    </tr>\n",
              "    <tr>\n",
              "      <th>4</th>\n",
              "      <td>7</td>\n",
              "      <td>NaN</td>\n",
              "      <td>NaN</td>\n",
              "      <td>Just got sent this photo from Ruby #Alaska as ...</td>\n",
              "      <td>1</td>\n",
              "      <td>get send photo ruby alaska smoke wildfire pour...</td>\n",
              "      <td>got sent photo ruby alaska smoke wildfires pou...</td>\n",
              "    </tr>\n",
              "  </tbody>\n",
              "</table>\n",
              "</div>\n",
              "      <button class=\"colab-df-convert\" onclick=\"convertToInteractive('df-8a4580fa-5caf-470b-ae18-1d99880a24bf')\"\n",
              "              title=\"Convert this dataframe to an interactive table.\"\n",
              "              style=\"display:none;\">\n",
              "\n",
              "  <svg xmlns=\"http://www.w3.org/2000/svg\" height=\"24px\"viewBox=\"0 0 24 24\"\n",
              "       width=\"24px\">\n",
              "    <path d=\"M0 0h24v24H0V0z\" fill=\"none\"/>\n",
              "    <path d=\"M18.56 5.44l.94 2.06.94-2.06 2.06-.94-2.06-.94-.94-2.06-.94 2.06-2.06.94zm-11 1L8.5 8.5l.94-2.06 2.06-.94-2.06-.94L8.5 2.5l-.94 2.06-2.06.94zm10 10l.94 2.06.94-2.06 2.06-.94-2.06-.94-.94-2.06-.94 2.06-2.06.94z\"/><path d=\"M17.41 7.96l-1.37-1.37c-.4-.4-.92-.59-1.43-.59-.52 0-1.04.2-1.43.59L10.3 9.45l-7.72 7.72c-.78.78-.78 2.05 0 2.83L4 21.41c.39.39.9.59 1.41.59.51 0 1.02-.2 1.41-.59l7.78-7.78 2.81-2.81c.8-.78.8-2.07 0-2.86zM5.41 20L4 18.59l7.72-7.72 1.47 1.35L5.41 20z\"/>\n",
              "  </svg>\n",
              "      </button>\n",
              "\n",
              "\n",
              "\n",
              "    <div id=\"df-b2966b93-143d-4526-a62b-6e7ad9928ce6\">\n",
              "      <button class=\"colab-df-quickchart\" onclick=\"quickchart('df-b2966b93-143d-4526-a62b-6e7ad9928ce6')\"\n",
              "              title=\"Suggest charts.\"\n",
              "              style=\"display:none;\">\n",
              "\n",
              "<svg xmlns=\"http://www.w3.org/2000/svg\" height=\"24px\"viewBox=\"0 0 24 24\"\n",
              "     width=\"24px\">\n",
              "    <g>\n",
              "        <path d=\"M19 3H5c-1.1 0-2 .9-2 2v14c0 1.1.9 2 2 2h14c1.1 0 2-.9 2-2V5c0-1.1-.9-2-2-2zM9 17H7v-7h2v7zm4 0h-2V7h2v10zm4 0h-2v-4h2v4z\"/>\n",
              "    </g>\n",
              "</svg>\n",
              "      </button>\n",
              "    </div>\n",
              "\n",
              "<style>\n",
              "  .colab-df-quickchart {\n",
              "    background-color: #E8F0FE;\n",
              "    border: none;\n",
              "    border-radius: 50%;\n",
              "    cursor: pointer;\n",
              "    display: none;\n",
              "    fill: #1967D2;\n",
              "    height: 32px;\n",
              "    padding: 0 0 0 0;\n",
              "    width: 32px;\n",
              "  }\n",
              "\n",
              "  .colab-df-quickchart:hover {\n",
              "    background-color: #E2EBFA;\n",
              "    box-shadow: 0px 1px 2px rgba(60, 64, 67, 0.3), 0px 1px 3px 1px rgba(60, 64, 67, 0.15);\n",
              "    fill: #174EA6;\n",
              "  }\n",
              "\n",
              "  [theme=dark] .colab-df-quickchart {\n",
              "    background-color: #3B4455;\n",
              "    fill: #D2E3FC;\n",
              "  }\n",
              "\n",
              "  [theme=dark] .colab-df-quickchart:hover {\n",
              "    background-color: #434B5C;\n",
              "    box-shadow: 0px 1px 3px 1px rgba(0, 0, 0, 0.15);\n",
              "    filter: drop-shadow(0px 1px 2px rgba(0, 0, 0, 0.3));\n",
              "    fill: #FFFFFF;\n",
              "  }\n",
              "</style>\n",
              "\n",
              "    <script>\n",
              "      async function quickchart(key) {\n",
              "        const containerElement = document.querySelector('#' + key);\n",
              "        const charts = await google.colab.kernel.invokeFunction(\n",
              "            'suggestCharts', [key], {});\n",
              "      }\n",
              "    </script>\n",
              "\n",
              "      <script>\n",
              "\n",
              "function displayQuickchartButton(domScope) {\n",
              "  let quickchartButtonEl =\n",
              "    domScope.querySelector('#df-b2966b93-143d-4526-a62b-6e7ad9928ce6 button.colab-df-quickchart');\n",
              "  quickchartButtonEl.style.display =\n",
              "    google.colab.kernel.accessAllowed ? 'block' : 'none';\n",
              "}\n",
              "\n",
              "        displayQuickchartButton(document);\n",
              "      </script>\n",
              "      <style>\n",
              "    .colab-df-container {\n",
              "      display:flex;\n",
              "      flex-wrap:wrap;\n",
              "      gap: 12px;\n",
              "    }\n",
              "\n",
              "    .colab-df-convert {\n",
              "      background-color: #E8F0FE;\n",
              "      border: none;\n",
              "      border-radius: 50%;\n",
              "      cursor: pointer;\n",
              "      display: none;\n",
              "      fill: #1967D2;\n",
              "      height: 32px;\n",
              "      padding: 0 0 0 0;\n",
              "      width: 32px;\n",
              "    }\n",
              "\n",
              "    .colab-df-convert:hover {\n",
              "      background-color: #E2EBFA;\n",
              "      box-shadow: 0px 1px 2px rgba(60, 64, 67, 0.3), 0px 1px 3px 1px rgba(60, 64, 67, 0.15);\n",
              "      fill: #174EA6;\n",
              "    }\n",
              "\n",
              "    [theme=dark] .colab-df-convert {\n",
              "      background-color: #3B4455;\n",
              "      fill: #D2E3FC;\n",
              "    }\n",
              "\n",
              "    [theme=dark] .colab-df-convert:hover {\n",
              "      background-color: #434B5C;\n",
              "      box-shadow: 0px 1px 3px 1px rgba(0, 0, 0, 0.15);\n",
              "      filter: drop-shadow(0px 1px 2px rgba(0, 0, 0, 0.3));\n",
              "      fill: #FFFFFF;\n",
              "    }\n",
              "  </style>\n",
              "\n",
              "      <script>\n",
              "        const buttonEl =\n",
              "          document.querySelector('#df-8a4580fa-5caf-470b-ae18-1d99880a24bf button.colab-df-convert');\n",
              "        buttonEl.style.display =\n",
              "          google.colab.kernel.accessAllowed ? 'block' : 'none';\n",
              "\n",
              "        async function convertToInteractive(key) {\n",
              "          const element = document.querySelector('#df-8a4580fa-5caf-470b-ae18-1d99880a24bf');\n",
              "          const dataTable =\n",
              "            await google.colab.kernel.invokeFunction('convertToInteractive',\n",
              "                                                     [key], {});\n",
              "          if (!dataTable) return;\n",
              "\n",
              "          const docLinkHtml = 'Like what you see? Visit the ' +\n",
              "            '<a target=\"_blank\" href=https://colab.research.google.com/notebooks/data_table.ipynb>data table notebook</a>'\n",
              "            + ' to learn more about interactive tables.';\n",
              "          element.innerHTML = '';\n",
              "          dataTable['output_type'] = 'display_data';\n",
              "          await google.colab.output.renderOutput(dataTable, element);\n",
              "          const docLink = document.createElement('div');\n",
              "          docLink.innerHTML = docLinkHtml;\n",
              "          element.appendChild(docLink);\n",
              "        }\n",
              "      </script>\n",
              "    </div>\n",
              "  </div>\n"
            ]
          },
          "metadata": {},
          "execution_count": 131
        }
      ]
    },
    {
      "cell_type": "code",
      "source": [
        "print(f'max lenght of text = {max(train_df.text.apply(len))}')\n",
        "print(f'max lenght of clean text = {max(train_df.clean_text.apply(len))}')"
      ],
      "metadata": {
        "colab": {
          "base_uri": "https://localhost:8080/"
        },
        "id": "G-G3QPa0r1Lp",
        "outputId": "479faa96-ee6f-4cff-82e5-3e89d6c7922c"
      },
      "execution_count": null,
      "outputs": [
        {
          "output_type": "stream",
          "name": "stdout",
          "text": [
            "max lenght of text = 157\n",
            "max lenght of clean text = 138\n"
          ]
        }
      ]
    },
    {
      "cell_type": "code",
      "source": [
        "x_train, x_val, y_train, y_val = train_test_split(train_df.clean_text, train_df.target, test_size=0.2, random_state=142)\n",
        "print(x_train.shape, x_val.shape)"
      ],
      "metadata": {
        "colab": {
          "base_uri": "https://localhost:8080/"
        },
        "id": "2N8Fb4FUsdyX",
        "outputId": "2772742a-0f74-43da-ffc5-d7ff72dda52b"
      },
      "execution_count": null,
      "outputs": [
        {
          "output_type": "stream",
          "name": "stdout",
          "text": [
            "(6090,) (1523,)\n"
          ]
        }
      ]
    },
    {
      "cell_type": "code",
      "source": [
        "from tensorflow.keras.layers import TextVectorization\n",
        "\n",
        "max_length = 128\n",
        "max_vocab_length = 10000\n",
        "\n",
        "text_vectorizer = TextVectorization(max_tokens=max_vocab_length,\n",
        "                                    output_mode=\"int\",\n",
        "                                    output_sequence_length=max_length)\n",
        "text_vectorizer.adapt(x_train)"
      ],
      "metadata": {
        "id": "uyshvdgTyUNG"
      },
      "execution_count": null,
      "outputs": []
    },
    {
      "cell_type": "code",
      "source": [
        "len(text_vectorizer.get_vocabulary())\n"
      ],
      "metadata": {
        "colab": {
          "base_uri": "https://localhost:8080/"
        },
        "id": "EwIvLc8_ykxF",
        "outputId": "7fde88ca-86b7-4f3d-9bf3-4aff6b6e3118"
      },
      "execution_count": null,
      "outputs": [
        {
          "output_type": "execute_result",
          "data": {
            "text/plain": [
              "10000"
            ]
          },
          "metadata": {},
          "execution_count": 155
        }
      ]
    },
    {
      "cell_type": "code",
      "source": [
        "import tensorflow as tf\n",
        "\n",
        "from tensorflow.keras.layers import TextVectorization\n",
        "from tensorflow.keras.layers import LSTM, Embedding, Dense, Input\n",
        "from tensorflow.keras.models import Model\n",
        "\n",
        "inputs = Input(shape=(1,), dtype=tf.string)\n",
        "x = text_vectorizer(inputs)\n",
        "x = Embedding(max_vocab_length, 128, input_length=max_length)(x)\n",
        "x = LSTM(128)(x)\n",
        "x = Dense(1, activation='sigmoid')(x)\n",
        "\n",
        "model_rnn = Model(inputs = inputs, outputs = x)\n",
        "\n",
        "model_rnn.compile(loss='binary_crossentropy', optimizer='adam', metrics=['accuracy'])\n",
        "model_rnn.summary()"
      ],
      "metadata": {
        "colab": {
          "base_uri": "https://localhost:8080/"
        },
        "id": "d5YDWDtIsreD",
        "outputId": "51614c46-7546-4e04-c9c9-c4779eb73492"
      },
      "execution_count": null,
      "outputs": [
        {
          "output_type": "stream",
          "name": "stdout",
          "text": [
            "Model: \"model_1\"\n",
            "_________________________________________________________________\n",
            " Layer (type)                Output Shape              Param #   \n",
            "=================================================================\n",
            " input_4 (InputLayer)        [(None, 1)]               0         \n",
            "                                                                 \n",
            " text_vectorization_13 (Text  (None, 128)              0         \n",
            " Vectorization)                                                  \n",
            "                                                                 \n",
            " embedding_13 (Embedding)    (None, 128, 128)          1280000   \n",
            "                                                                 \n",
            " lstm_18 (LSTM)              (None, 128)               131584    \n",
            "                                                                 \n",
            " dense_11 (Dense)            (None, 1)                 129       \n",
            "                                                                 \n",
            "=================================================================\n",
            "Total params: 1,411,713\n",
            "Trainable params: 1,411,713\n",
            "Non-trainable params: 0\n",
            "_________________________________________________________________\n"
          ]
        }
      ]
    },
    {
      "cell_type": "code",
      "source": [
        "history_rnn  = model_rnn.fit(x_train, y_train, epochs=5, validation_data=(x_val, y_val))\n"
      ],
      "metadata": {
        "colab": {
          "base_uri": "https://localhost:8080/"
        },
        "id": "RlaEqolwtT2e",
        "outputId": "859edbd3-a6ee-4c5a-d17c-600ebe928080"
      },
      "execution_count": null,
      "outputs": [
        {
          "output_type": "stream",
          "name": "stdout",
          "text": [
            "Epoch 1/5\n",
            "191/191 [==============================] - 27s 103ms/step - loss: 0.6852 - accuracy: 0.5652 - val_loss: 0.6819 - val_accuracy: 0.5778\n",
            "Epoch 2/5\n",
            "191/191 [==============================] - 6s 32ms/step - loss: 0.6843 - accuracy: 0.5685 - val_loss: 0.6832 - val_accuracy: 0.5778\n",
            "Epoch 3/5\n",
            "191/191 [==============================] - 4s 22ms/step - loss: 0.6841 - accuracy: 0.5685 - val_loss: 0.6817 - val_accuracy: 0.5778\n",
            "Epoch 4/5\n",
            "191/191 [==============================] - 4s 19ms/step - loss: 0.6850 - accuracy: 0.5685 - val_loss: 0.6810 - val_accuracy: 0.5778\n",
            "Epoch 5/5\n",
            "191/191 [==============================] - 3s 18ms/step - loss: 0.6843 - accuracy: 0.5685 - val_loss: 0.6817 - val_accuracy: 0.5778\n"
          ]
        }
      ]
    },
    {
      "cell_type": "code",
      "source": [],
      "metadata": {
        "id": "iqRH9qqe3ugD"
      },
      "execution_count": null,
      "outputs": []
    },
    {
      "cell_type": "code",
      "source": [
        "model_rnn.evaluate(x_val, y_val)\n"
      ],
      "metadata": {
        "colab": {
          "base_uri": "https://localhost:8080/"
        },
        "id": "XvNLP1HPyCE5",
        "outputId": "d5e877e8-d4e6-4ad6-d160-6a43c63731e6"
      },
      "execution_count": null,
      "outputs": [
        {
          "output_type": "stream",
          "name": "stdout",
          "text": [
            "48/48 [==============================] - 0s 9ms/step - loss: 0.6817 - accuracy: 0.5778\n"
          ]
        },
        {
          "output_type": "execute_result",
          "data": {
            "text/plain": [
              "[0.6817449927330017, 0.5778069496154785]"
            ]
          },
          "metadata": {},
          "execution_count": 158
        }
      ]
    },
    {
      "cell_type": "code",
      "source": [
        "model_rnn.save('model_rnn.h5')"
      ],
      "metadata": {
        "colab": {
          "base_uri": "https://localhost:8080/",
          "height": 329
        },
        "id": "tfp_wQPuzQWw",
        "outputId": "e7262ef0-a8f7-428e-a53e-aef2edcb3642"
      },
      "execution_count": null,
      "outputs": [
        {
          "output_type": "error",
          "ename": "NotImplementedError",
          "evalue": "ignored",
          "traceback": [
            "\u001b[0;31m---------------------------------------------------------------------------\u001b[0m",
            "\u001b[0;31mNotImplementedError\u001b[0m                       Traceback (most recent call last)",
            "\u001b[0;32m<ipython-input-159-c842d32d5d48>\u001b[0m in \u001b[0;36m<cell line: 1>\u001b[0;34m()\u001b[0m\n\u001b[0;32m----> 1\u001b[0;31m \u001b[0mmodel_rnn\u001b[0m\u001b[0;34m.\u001b[0m\u001b[0msave\u001b[0m\u001b[0;34m(\u001b[0m\u001b[0;34m'model_rnn.h5'\u001b[0m\u001b[0;34m)\u001b[0m\u001b[0;34m\u001b[0m\u001b[0;34m\u001b[0m\u001b[0m\n\u001b[0m",
            "\u001b[0;32m/usr/local/lib/python3.10/dist-packages/keras/utils/traceback_utils.py\u001b[0m in \u001b[0;36merror_handler\u001b[0;34m(*args, **kwargs)\u001b[0m\n\u001b[1;32m     68\u001b[0m             \u001b[0;31m# To get the full stack trace, call:\u001b[0m\u001b[0;34m\u001b[0m\u001b[0;34m\u001b[0m\u001b[0m\n\u001b[1;32m     69\u001b[0m             \u001b[0;31m# `tf.debugging.disable_traceback_filtering()`\u001b[0m\u001b[0;34m\u001b[0m\u001b[0;34m\u001b[0m\u001b[0m\n\u001b[0;32m---> 70\u001b[0;31m             \u001b[0;32mraise\u001b[0m \u001b[0me\u001b[0m\u001b[0;34m.\u001b[0m\u001b[0mwith_traceback\u001b[0m\u001b[0;34m(\u001b[0m\u001b[0mfiltered_tb\u001b[0m\u001b[0;34m)\u001b[0m \u001b[0;32mfrom\u001b[0m \u001b[0;32mNone\u001b[0m\u001b[0;34m\u001b[0m\u001b[0;34m\u001b[0m\u001b[0m\n\u001b[0m\u001b[1;32m     71\u001b[0m         \u001b[0;32mfinally\u001b[0m\u001b[0;34m:\u001b[0m\u001b[0;34m\u001b[0m\u001b[0;34m\u001b[0m\u001b[0m\n\u001b[1;32m     72\u001b[0m             \u001b[0;32mdel\u001b[0m \u001b[0mfiltered_tb\u001b[0m\u001b[0;34m\u001b[0m\u001b[0;34m\u001b[0m\u001b[0m\n",
            "\u001b[0;32m/usr/local/lib/python3.10/dist-packages/keras/saving/legacy/hdf5_format.py\u001b[0m in \u001b[0;36m_legacy_weights\u001b[0;34m(layer)\u001b[0m\n\u001b[1;32m   1100\u001b[0m     \u001b[0mweights\u001b[0m \u001b[0;34m=\u001b[0m \u001b[0mlayer\u001b[0m\u001b[0;34m.\u001b[0m\u001b[0mtrainable_weights\u001b[0m \u001b[0;34m+\u001b[0m \u001b[0mlayer\u001b[0m\u001b[0;34m.\u001b[0m\u001b[0mnon_trainable_weights\u001b[0m\u001b[0;34m\u001b[0m\u001b[0;34m\u001b[0m\u001b[0m\n\u001b[1;32m   1101\u001b[0m     \u001b[0;32mif\u001b[0m \u001b[0many\u001b[0m\u001b[0;34m(\u001b[0m\u001b[0;32mnot\u001b[0m \u001b[0misinstance\u001b[0m\u001b[0;34m(\u001b[0m\u001b[0mw\u001b[0m\u001b[0;34m,\u001b[0m \u001b[0mtf\u001b[0m\u001b[0;34m.\u001b[0m\u001b[0mVariable\u001b[0m\u001b[0;34m)\u001b[0m \u001b[0;32mfor\u001b[0m \u001b[0mw\u001b[0m \u001b[0;32min\u001b[0m \u001b[0mweights\u001b[0m\u001b[0;34m)\u001b[0m\u001b[0;34m:\u001b[0m\u001b[0;34m\u001b[0m\u001b[0;34m\u001b[0m\u001b[0m\n\u001b[0;32m-> 1102\u001b[0;31m         raise NotImplementedError(\n\u001b[0m\u001b[1;32m   1103\u001b[0m             \u001b[0;34m\"Save or restore weights that is not an instance of `tf.Variable` \"\u001b[0m\u001b[0;34m\u001b[0m\u001b[0;34m\u001b[0m\u001b[0m\n\u001b[1;32m   1104\u001b[0m             \u001b[0;34m\"is not supported in h5, use `save_format='tf'` instead. Received \"\u001b[0m\u001b[0;34m\u001b[0m\u001b[0;34m\u001b[0m\u001b[0m\n",
            "\u001b[0;31mNotImplementedError\u001b[0m: Save or restore weights that is not an instance of `tf.Variable` is not supported in h5, use `save_format='tf'` instead. Received a model or layer TextVectorization with weights [<keras.layers.preprocessing.index_lookup.VocabWeightHandler object at 0x7d5b396b5720>]"
          ]
        }
      ]
    },
    {
      "cell_type": "code",
      "source": [],
      "metadata": {
        "id": "xotEdyuq3v1P"
      },
      "execution_count": null,
      "outputs": []
    }
  ]
}