{
  "nbformat": 4,
  "nbformat_minor": 0,
  "metadata": {
    "colab": {
      "provenance": [],
      "mount_file_id": "1uIX90RfSC2k0KXBHOpb5gDBRKXlsNoue",
      "authorship_tag": "ABX9TyNUo+HMC9iUnOdIgrZnVU09",
      "include_colab_link": true
    },
    "kernelspec": {
      "name": "python3",
      "display_name": "Python 3"
    },
    "language_info": {
      "name": "python"
    }
  },
  "cells": [
    {
      "cell_type": "markdown",
      "metadata": {
        "id": "view-in-github",
        "colab_type": "text"
      },
      "source": [
        "<a href=\"https://colab.research.google.com/github/ryzhokhina/Tensorflow-Dev-Exam-Preparation/blob/main/callbacks_tensorflow.ipynb\" target=\"_parent\"><img src=\"https://colab.research.google.com/assets/colab-badge.svg\" alt=\"Open In Colab\"/></a>"
      ]
    },
    {
      "cell_type": "code",
      "execution_count": 2,
      "metadata": {
        "id": "Ah-WzzsM0JlY"
      },
      "outputs": [],
      "source": [
        "import tensorflow_datasets as tfds\n",
        "import tensorflow as tf\n",
        "from tensorflow import keras\n",
        "\n",
        "import numpy as np\n",
        "import pandas as pd\n",
        "import matplotlib.pyplot as plt\n"
      ]
    },
    {
      "cell_type": "code",
      "source": [
        "(train, test), metadata = tfds.load('mnist',\n",
        "                                    as_supervised=True,\n",
        "                                    with_info=True,\n",
        "                                    split=['train', 'test'])"
      ],
      "metadata": {
        "id": "KvuNDROOWD85"
      },
      "execution_count": 78,
      "outputs": []
    },
    {
      "cell_type": "code",
      "source": [
        "for x,y in train.skip(12).take(1):\n",
        "\n",
        "     plt.title(str(y.numpy()))\n",
        "     plt.imshow(x)"
      ],
      "metadata": {
        "colab": {
          "base_uri": "https://localhost:8080/",
          "height": 452
        },
        "id": "htNyyaErXuu8",
        "outputId": "3e2b0f02-6e1f-46f9-907c-e540e6334acb"
      },
      "execution_count": 66,
      "outputs": [
        {
          "output_type": "display_data",
          "data": {
            "text/plain": [
              "<Figure size 640x480 with 1 Axes>"
            ],
            "image/png": "[encoded data removed]"
          },
          "metadata": {}
        }
      ]
    },
    {
      "cell_type": "code",
      "source": [
        "x.shape"
      ],
      "metadata": {
        "colab": {
          "base_uri": "https://localhost:8080/"
        },
        "id": "5FR7xKmFckAK",
        "outputId": "06d58422-ce2d-4d17-de26-2d9a2b34e796"
      },
      "execution_count": 67,
      "outputs": [
        {
          "output_type": "execute_result",
          "data": {
            "text/plain": [
              "TensorShape([28, 28, 1])"
            ]
          },
          "metadata": {},
          "execution_count": 67
        }
      ]
    },
    {
      "cell_type": "code",
      "source": [
        "train"
      ],
      "metadata": {
        "colab": {
          "base_uri": "https://localhost:8080/"
        },
        "id": "urfaCYOHeLTw",
        "outputId": "239a16c3-22c4-458a-ad0d-0c62422160f3"
      },
      "execution_count": 68,
      "outputs": [
        {
          "output_type": "execute_result",
          "data": {
            "text/plain": [
              "<_PrefetchDataset element_spec=(TensorSpec(shape=(28, 28, 1), dtype=tf.uint8, name=None), TensorSpec(shape=(), dtype=tf.int64, name=None))>"
            ]
          },
          "metadata": {},
          "execution_count": 68
        }
      ]
    },
    {
      "cell_type": "code",
      "source": [
        "train = train.shuffle(1000).batch(32).prefetch(1)\n",
        "test = test.batch(32).prefetch(1)\n",
        "\n",
        "model = keras.Sequential([\n",
        "    keras.layers.Conv2D(32, (3,3), activation='relu', input_shape=(28, 28, 1)),\n",
        "    keras.layers.MaxPool2D(2),\n",
        "    #keras.layers.Dropout(.2),\n",
        "\n",
        "    keras.layers.Conv2D(64, (3, 3), activation='relu',),\n",
        "    keras.layers.MaxPool2D(2),\n",
        "    #keras.layers.Dropout(.2),\n",
        "\n",
        "\n",
        "    keras.layers.Flatten(),\n",
        "    keras.layers.Dense(128, activation='relu'),\n",
        "    keras.layers.Dense(10, activation='softmax')\n",
        "\n",
        "])"
      ],
      "metadata": {
        "id": "CbPlggykZmXA"
      },
      "execution_count": 79,
      "outputs": []
    },
    {
      "cell_type": "code",
      "source": [
        "''' \n",
        "  Callback to save the Keras model or model weights at some frequency\n",
        "  save_freq='epoch' - each epoch\n",
        "'''\n",
        "MC = keras.callbacks.ModelCheckpoint(\n",
        "    './content/drive/MyDrive/Colab Notebooks/Sertificate_preparation/Books/Callbacks/Models/mnist_h5.h5',\n",
        "    monitor='val_loss',\n",
        "    save_best_only='True',\n",
        "    verbose=1\n",
        ")\n",
        "\n",
        "'''\n",
        "It will interrupt training when it measures no progress on the validation set for\n",
        "a number of epochs (defined by the patience argument), and it will optionally roll\n",
        "back to the best model.\n",
        "'''\n",
        "ES = keras.callbacks.EarlyStopping(\n",
        "    monitor='val_loss',\n",
        "    patience=5,\n",
        "    verbose=1,\n",
        "    restore_best_weights='True'\n",
        ")\n",
        "\n",
        "'''\n",
        "At the beginning of every epoch, this callback gets the updated learning rate value from schedule function provided at __init__, \n",
        "with the current epoch and current learning rate, and applies the updated learning rate on the optimizer.\n",
        "'''\n",
        "LR = keras.callbacks.LearningRateScheduler(lambda epoch: 1e-5 * 10 ** (epoch/2), verbose=1)\n",
        "\n",
        "model.compile(loss='sparse_categorical_crossentropy',\n",
        "              metrics=['accuracy'],\n",
        "              optimizer=keras.optimizers.Adam(learning_rate=1e-5))\n",
        "\n",
        "model.summary()"
      ],
      "metadata": {
        "colab": {
          "base_uri": "https://localhost:8080/"
        },
        "id": "erymflsaaCIe",
        "outputId": "f9e1f6b5-5bae-4117-d18e-8b6d167077c0"
      },
      "execution_count": 70,
      "outputs": [
        {
          "output_type": "stream",
          "name": "stdout",
          "text": [
            "Model: \"sequential_6\"\n",
            "_________________________________________________________________\n",
            " Layer (type)                Output Shape              Param #   \n",
            "=================================================================\n",
            " conv2d_12 (Conv2D)          (None, 26, 26, 32)        320       \n",
            "                                                                 \n",
            " max_pooling2d_12 (MaxPoolin  (None, 13, 13, 32)       0         \n",
            " g2D)                                                            \n",
            "                                                                 \n",
            " conv2d_13 (Conv2D)          (None, 11, 11, 64)        18496     \n",
            "                                                                 \n",
            " max_pooling2d_13 (MaxPoolin  (None, 5, 5, 64)         0         \n",
            " g2D)                                                            \n",
            "                                                                 \n",
            " flatten_6 (Flatten)         (None, 1600)              0         \n",
            "                                                                 \n",
            " dense_12 (Dense)            (None, 128)               204928    \n",
            "                                                                 \n",
            " dense_13 (Dense)            (None, 10)                1290      \n",
            "                                                                 \n",
            "=================================================================\n",
            "Total params: 225,034\n",
            "Trainable params: 225,034\n",
            "Non-trainable params: 0\n",
            "_________________________________________________________________\n"
          ]
        }
      ]
    },
    {
      "cell_type": "code",
      "source": [
        "model.layers[0].input_shape"
      ],
      "metadata": {
        "colab": {
          "base_uri": "https://localhost:8080/"
        },
        "id": "hKaVM0UjeUME",
        "outputId": "f15408c9-97a0-4d56-e2d0-533a75ef9b9c"
      },
      "execution_count": 71,
      "outputs": [
        {
          "output_type": "execute_result",
          "data": {
            "text/plain": [
              "(None, 28, 28, 1)"
            ]
          },
          "metadata": {},
          "execution_count": 71
        }
      ]
    },
    {
      "cell_type": "code",
      "source": [
        "model.fit(\n",
        "    train,\n",
        "    validation_data=test,\n",
        "    callbacks=[ES, MC],\n",
        "    epochs=4\n",
        ")"
      ],
      "metadata": {
        "colab": {
          "base_uri": "https://localhost:8080/"
        },
        "id": "jgRawsascZ-A",
        "outputId": "cf8cf9ae-0802-4215-d7ff-a8975975de05"
      },
      "execution_count": 72,
      "outputs": [
        {
          "output_type": "stream",
          "name": "stdout",
          "text": [
            "Epoch 1/4\n",
            "1875/1875 [==============================] - ETA: 0s - loss: 3.2125 - accuracy: 0.6965\n",
            "Epoch 1: val_loss improved from inf to 0.76875, saving model to ./content/drive/MyDrive/Colab Notebooks/Sertificate_preparation/Books/Callbacks/Models/mnist_h5.h5\n",
            "1875/1875 [==============================] - 83s 44ms/step - loss: 3.2125 - accuracy: 0.6965 - val_loss: 0.7687 - val_accuracy: 0.8693\n",
            "Epoch 2/4\n",
            "1874/1875 [============================>.] - ETA: 0s - loss: 0.6247 - accuracy: 0.8902\n",
            "Epoch 2: val_loss improved from 0.76875 to 0.43141, saving model to ./content/drive/MyDrive/Colab Notebooks/Sertificate_preparation/Books/Callbacks/Models/mnist_h5.h5\n",
            "1875/1875 [==============================] - 75s 40ms/step - loss: 0.6248 - accuracy: 0.8902 - val_loss: 0.4314 - val_accuracy: 0.9201\n",
            "Epoch 3/4\n",
            "1874/1875 [============================>.] - ETA: 0s - loss: 0.4005 - accuracy: 0.9238\n",
            "Epoch 3: val_loss improved from 0.43141 to 0.32154, saving model to ./content/drive/MyDrive/Colab Notebooks/Sertificate_preparation/Books/Callbacks/Models/mnist_h5.h5\n",
            "1875/1875 [==============================] - 75s 40ms/step - loss: 0.4005 - accuracy: 0.9238 - val_loss: 0.3215 - val_accuracy: 0.9369\n",
            "Epoch 4/4\n",
            "1875/1875 [==============================] - ETA: 0s - loss: 0.2916 - accuracy: 0.9419\n",
            "Epoch 4: val_loss improved from 0.32154 to 0.25509, saving model to ./content/drive/MyDrive/Colab Notebooks/Sertificate_preparation/Books/Callbacks/Models/mnist_h5.h5\n",
            "1875/1875 [==============================] - 77s 41ms/step - loss: 0.2916 - accuracy: 0.9419 - val_loss: 0.2551 - val_accuracy: 0.9467\n"
          ]
        },
        {
          "output_type": "execute_result",
          "data": {
            "text/plain": [
              "<keras.callbacks.History at 0x7f558681ceb0>"
            ]
          },
          "metadata": {},
          "execution_count": 72
        }
      ]
    },
    {
      "cell_type": "code",
      "source": [
        "root_logdir = '/content/drive/MyDrive/Colab Notebooks/Sertificate_preparation/Books/Callbacks/Logs'"
      ],
      "metadata": {
        "id": "lqzHu9OLYgru"
      },
      "execution_count": 73,
      "outputs": []
    },
    {
      "cell_type": "code",
      "source": [
        "import os"
      ],
      "metadata": {
        "id": "cnUTdAavpmh6"
      },
      "execution_count": 75,
      "outputs": []
    },
    {
      "cell_type": "code",
      "source": [
        "def get_run_logdir():\n",
        " import time\n",
        " run_id = time.strftime(\"run_%Y_%m_%d-%H_%M_%S\")\n",
        " return os.path.join(root_logdir, run_id)"
      ],
      "metadata": {
        "id": "AtWX_53epfla"
      },
      "execution_count": 76,
      "outputs": []
    },
    {
      "cell_type": "code",
      "source": [
        "run_logdir = get_run_logdir() \n",
        "run_logdir"
      ],
      "metadata": {
        "colab": {
          "base_uri": "https://localhost:8080/",
          "height": 35
        },
        "id": "h0OPfcz3pluc",
        "outputId": "037a1d95-8885-4675-b8fe-9ad283839bce"
      },
      "execution_count": 77,
      "outputs": [
        {
          "output_type": "execute_result",
          "data": {
            "text/plain": [
              "'/content/drive/MyDrive/Colab Notebooks/Sertificate_preparation/Books/Callbacks/Logs/run_2023_06_13-02_47_42'"
            ],
            "application/vnd.google.colaboratory.intrinsic+json": {
              "type": "string"
            }
          },
          "metadata": {},
          "execution_count": 77
        }
      ]
    },
    {
      "cell_type": "code",
      "source": [
        "TB = keras.callbacks.TensorBoard(run_logdir)\n",
        "\n",
        "\n",
        "model.compile(loss='sparse_categorical_crossentropy',\n",
        "              metrics=['accuracy'],\n",
        "              optimizer=keras.optimizers.Adam(learning_rate=1e-5))\n",
        "\n",
        "history = model.fit(\n",
        "    train,\n",
        "    validation_data=test,\n",
        "    callbacks=[TB],\n",
        "    epochs=4\n",
        ")"
      ],
      "metadata": {
        "colab": {
          "base_uri": "https://localhost:8080/"
        },
        "id": "J2jCSfWBpuXn",
        "outputId": "d26115c5-73ab-4f0a-b824-ee3188ce6e9b"
      },
      "execution_count": 81,
      "outputs": [
        {
          "output_type": "stream",
          "name": "stdout",
          "text": [
            "Epoch 1/4\n",
            "1875/1875 [==============================] - 87s 46ms/step - loss: 2.5792 - accuracy: 0.6899 - val_loss: 0.7083 - val_accuracy: 0.8650\n",
            "Epoch 2/4\n",
            "1875/1875 [==============================] - 75s 40ms/step - loss: 0.5248 - accuracy: 0.8926 - val_loss: 0.4177 - val_accuracy: 0.9129\n",
            "Epoch 3/4\n",
            "1875/1875 [==============================] - 73s 39ms/step - loss: 0.3336 - accuracy: 0.9262 - val_loss: 0.3159 - val_accuracy: 0.9303\n",
            "Epoch 4/4\n",
            "1875/1875 [==============================] - 75s 40ms/step - loss: 0.2411 - accuracy: 0.9439 - val_loss: 0.2511 - val_accuracy: 0.9432\n"
          ]
        }
      ]
    },
    {
      "cell_type": "code",
      "source": [
        "logs = '/content/drive/MyDrive/Colab Notebooks/Sertificate_preparation/Books/Callbacks/Logs/'"
      ],
      "metadata": {
        "id": "SL6zXflGsq1d"
      },
      "execution_count": 96,
      "outputs": []
    },
    {
      "cell_type": "code",
      "source": [
        "%load_ext tensorboard"
      ],
      "metadata": {
        "id": "YAhrkcQasZ6R"
      },
      "execution_count": 97,
      "outputs": []
    },
    {
      "cell_type": "code",
      "source": [
        "%tensorboard --logdir logs"
      ],
      "metadata": {
        "colab": {
          "base_uri": "https://localhost:8080/",
          "height": 208
        },
        "id": "a9EZ4N-rqEPj",
        "outputId": "035e0e99-77a9-43bd-ab57-7a46ac603ac8"
      },
      "execution_count": 98,
      "outputs": [
        {
          "output_type": "display_data",
          "data": {
            "text/plain": [
              "ERROR: Failed to launch TensorBoard (exited with 1).\n",
              "Contents of stderr:\n",
              "2023-06-13 03:02:47.361998: W tensorflow/compiler/tf2tensorrt/utils/py_utils.cc:38] TF-TRT Warning: Could not find TensorRT\n",
              "/usr/local/lib/python3.10/dist-packages/tensorboard_data_server/bin/server: /lib/x86_64-linux-gnu/libc.so.6: version `GLIBC_2.33' not found (required by /usr/local/lib/python3.10/dist-packages/tensorboard_data_server/bin/server)\n",
              "/usr/local/lib/python3.10/dist-packages/tensorboard_data_server/bin/server: /lib/x86_64-linux-gnu/libc.so.6: version `GLIBC_2.34' not found (required by /usr/local/lib/python3.10/dist-packages/tensorboard_data_server/bin/server)\n",
              "/usr/local/lib/python3.10/dist-packages/tensorboard_data_server/bin/server: /lib/x86_64-linux-gnu/libc.so.6: version `GLIBC_2.32' not found (required by /usr/local/lib/python3.10/dist-packages/tensorboard_data_server/bin/server)\n",
              "Address already in use\n",
              "Port 6006 is in use by another program. Either identify and stop that program, or start the server with a different port."
            ]
          },
          "metadata": {}
        }
      ]
    },
    {
      "cell_type": "code",
      "source": [],
      "metadata": {
        "id": "Ol-zMC_Hr0DX"
      },
      "execution_count": null,
      "outputs": []
    }
  ]
}